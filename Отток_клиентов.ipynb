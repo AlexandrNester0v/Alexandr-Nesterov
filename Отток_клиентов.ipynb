{
  "cells": [
    {
      "cell_type": "markdown",
      "metadata": {
        "id": "JkDPQMsmm2YZ"
      },
      "source": []
    },
    {
      "cell_type": "markdown",
      "metadata": {
        "toc": true,
        "id": "5OYNzdwtm2Yw"
      },
      "source": [
        "<h1>Содержание<span class=\"tocSkip\"></span></h1>\n",
        "<div class=\"toc\"><ul class=\"toc-item\"><li><span><a href=\"#Подготовка-данных\" data-toc-modified-id=\"Подготовка-данных-1\"><span class=\"toc-item-num\">1&nbsp;&nbsp;</span>Подготовка данных</a></span></li><li><span><a href=\"#Исследование-задачи\" data-toc-modified-id=\"Исследование-задачи-2\"><span class=\"toc-item-num\">2&nbsp;&nbsp;</span>Исследование задачи</a></span><ul class=\"toc-item\"><li><span><a href=\"#Масштабируем-признаки\" data-toc-modified-id=\"Масштабируем-признаки-2.1\"><span class=\"toc-item-num\">2.1&nbsp;&nbsp;</span>Масштабируем признаки</a></span></li><li><span><a href=\"#Рассчитаем-Accuracy\" data-toc-modified-id=\"Рассчитаем-Accuracy-2.2\"><span class=\"toc-item-num\">2.2&nbsp;&nbsp;</span>Рассчитаем Accuracy</a></span></li><li><span><a href=\"#Рассчитаем-auc-roc\" data-toc-modified-id=\"Рассчитаем-auc-roc-2.3\"><span class=\"toc-item-num\">2.3&nbsp;&nbsp;</span>Рассчитаем auc-roc</a></span></li><li><span><a href=\"#Рассчитаем-F1-мерики\" data-toc-modified-id=\"Рассчитаем-F1-мерики-2.4\"><span class=\"toc-item-num\">2.4&nbsp;&nbsp;</span>Рассчитаем F1 мерики</a></span></li><li><span><a href=\"#Посмотрим-на-дисбаланс\" data-toc-modified-id=\"Посмотрим-на-дисбаланс-2.5\"><span class=\"toc-item-num\">2.5&nbsp;&nbsp;</span>Посмотрим на дисбаланс</a></span></li></ul></li><li><span><a href=\"#Борьба-с-дисбалансом\" data-toc-modified-id=\"Борьба-с-дисбалансом-3\"><span class=\"toc-item-num\">3&nbsp;&nbsp;</span>Борьба с дисбалансом</a></span><ul class=\"toc-item\"><li><span><a href=\"#Посчитаем-AUC-ROC-и-выведем-кривые.\" data-toc-modified-id=\"Посчитаем-AUC-ROC-и-выведем-кривые.-3.1\"><span class=\"toc-item-num\">3.1&nbsp;&nbsp;</span>Посчитаем AUC-ROC и выведем кривые.</a></span></li><li><span><a href=\"#Обучаем-после-балансировки\" data-toc-modified-id=\"Обучаем-после-балансировки-3.2\"><span class=\"toc-item-num\">3.2&nbsp;&nbsp;</span>Обучаем после балансировки</a></span></li></ul></li><li><span><a href=\"#Тестирование-модели\" data-toc-modified-id=\"Тестирование-модели-4\"><span class=\"toc-item-num\">4&nbsp;&nbsp;</span>Тестирование модели</a></span><ul class=\"toc-item\"><li><span><a href=\"#Для-тестирования-моделей-возьмем-гиперпараметры-полученные-из-предыдущего-упражнения-и-протестируем-на-Случайном-лесе.\" data-toc-modified-id=\"Для-тестирования-моделей-возьмем-гиперпараметры-полученные-из-предыдущего-упражнения-и-протестируем-на-Случайном-лесе.-4.1\"><span class=\"toc-item-num\">4.1&nbsp;&nbsp;</span>Для тестирования моделей возьмем гиперпараметры полученные из предыдущего упражнения и протестируем на Случайном лесе.</a></span></li><li><span><a href=\"#Посмотрим-auc-roc-для-нашего-финального-метода\" data-toc-modified-id=\"Посмотрим-auc-roc-для-нашего-финального-метода-4.2\"><span class=\"toc-item-num\">4.2&nbsp;&nbsp;</span>Посмотрим auc-roc для нашего финального метода</a></span></li><li><span><a href=\"#Вывод:\" data-toc-modified-id=\"Вывод:-4.3\"><span class=\"toc-item-num\">4.3&nbsp;&nbsp;</span>Вывод:</a></span></li></ul></li><li><span><a"
      ]
    },
    {
      "cell_type": "markdown",
      "metadata": {
        "id": "pPg90OiOm2Yx"
      },
      "source": [
        "# Отток клиентов"
      ]
    },
    {
      "cell_type": "markdown",
      "metadata": {
        "id": "Nn-49bt_m2Y0"
      },
      "source": [
        "Из «Бета-Банка» стали уходить клиенты. Каждый месяц. Немного, но заметно. Банковские маркетологи посчитали: сохранять текущих клиентов дешевле, чем привлекать новых.\n",
        "\n",
        "Нужно спрогнозировать, уйдёт клиент из банка в ближайшее время или нет. Вам предоставлены исторические данные о поведении клиентов и расторжении договоров с банком.\n",
        "\n",
        "Постройте модель с предельно большим значением *F1*-меры. Чтобы сдать проект успешно, нужно довести метрику до 0.59. Проверьте *F1*-меру на тестовой выборке самостоятельно.\n",
        "\n",
        "Дополнительно измеряйте *AUC-ROC*, сравнивайте её значение с *F1*-мерой.\n",
        "\n",
        "Источник данных: [https://www.kaggle.com/barelydedicated/bank-customer-churn-modeling](https://www.kaggle.com/barelydedicated/bank-customer-churn-modeling)"
      ]
    },
    {
      "cell_type": "markdown",
      "metadata": {
        "id": "-kteVFAIm2Y1"
      },
      "source": [
        "Признаки:\n",
        "\n",
        "- RowNumber — индекс строки в данных\n",
        "- CustomerId — уникальный идентификатор клиента\n",
        "- Surname — фамилия\n",
        "- CreditScore — кредитный рейтинг\n",
        "- Geography — страна проживания\n",
        "- Gender — пол\n",
        "- Age — возраст\n",
        "- Tenure — сколько лет человек является клиентом банка\n",
        "- Balance — баланс на счёте\n",
        "- NumOfProducts — количество продуктов банка, используемых клиентом\n",
        "- HasCrCard — наличие кредитной карты\n",
        "- IsActiveMember — активность клиента\n",
        "- EstimatedSalary — предполагаемая зарплата\n",
        "\n",
        "Целевой признак:\n",
        "- Exited — факт ухода клиента"
      ]
    },
    {
      "cell_type": "markdown",
      "metadata": {
        "id": "XoYDhTL2m2Y2"
      },
      "source": [
        "## Подготовка данных"
      ]
    },
    {
      "cell_type": "code",
      "execution_count": null,
      "metadata": {
        "id": "J3vnxfVqm2Y3"
      },
      "outputs": [],
      "source": [
        "import os\n",
        "import pandas as pd\n",
        "import math\n",
        "import numpy as np\n",
        "import matplotlib.pyplot as plt\n",
        "from matplotlib.ticker import MultipleLocator\n",
        "import seaborn as sns\n",
        "import warnings\n",
        "\n",
        "warnings.filterwarnings(\"ignore\")\n",
        "\n",
        "# Метрики\n",
        "from sklearn.metrics import r2_score, mean_absolute_error, mean_squared_error, mean_absolute_percentage_error\n",
        "from sklearn.model_selection import train_test_split\n",
        "from sklearn.metrics import classification_report\n",
        "from sklearn.metrics import confusion_matrix\n",
        "from sklearn.metrics import roc_auc_score\n",
        "from sklearn.metrics import roc_curve\n",
        "from sklearn.metrics import accuracy_score\n",
        "from sklearn.metrics import precision_score, recall_score, f1_score\n",
        "from sklearn.preprocessing import StandardScaler\n",
        "from sklearn.tree import DecisionTreeClassifier\n",
        "from sklearn.ensemble import RandomForestClassifier\n",
        "from sklearn.linear_model import LogisticRegression\n",
        "from sklearn import metrics\n",
        "from sklearn.utils import shuffle\n",
        "\n"
      ]
    },
    {
      "cell_type": "code",
      "execution_count": null,
      "metadata": {
        "id": "UoL7B_6Wm2Y6",
        "outputId": "26f39617-7bd3-4429-dc11-9e0bafe483f0"
      },
      "outputs": [
        {
          "name": "stdout",
          "output_type": "stream",
          "text": [
            "Collecting phik\n",
            "  Downloading phik-0.12.3-cp39-cp39-manylinux_2_17_x86_64.manylinux2014_x86_64.whl (679 kB)\n",
            "\u001b[K     |████████████████████████████████| 679 kB 2.4 MB/s eta 0:00:01\n",
            "\u001b[?25hRequirement already satisfied: matplotlib>=2.2.3 in /opt/conda/lib/python3.9/site-packages (from phik) (3.3.4)\n",
            "Requirement already satisfied: numpy>=1.18.0 in /opt/conda/lib/python3.9/site-packages (from phik) (1.21.1)\n",
            "Requirement already satisfied: scipy>=1.5.2 in /opt/conda/lib/python3.9/site-packages (from phik) (1.9.1)\n",
            "Requirement already satisfied: joblib>=0.14.1 in /opt/conda/lib/python3.9/site-packages (from phik) (1.1.0)\n",
            "Requirement already satisfied: pandas>=0.25.1 in /opt/conda/lib/python3.9/site-packages (from phik) (1.2.4)\n",
            "Requirement already satisfied: pyparsing!=2.0.4,!=2.1.2,!=2.1.6,>=2.0.3 in /opt/conda/lib/python3.9/site-packages (from matplotlib>=2.2.3->phik) (2.4.7)\n",
            "Requirement already satisfied: python-dateutil>=2.1 in /opt/conda/lib/python3.9/site-packages (from matplotlib>=2.2.3->phik) (2.8.1)\n",
            "Requirement already satisfied: cycler>=0.10 in /opt/conda/lib/python3.9/site-packages (from matplotlib>=2.2.3->phik) (0.11.0)\n",
            "Requirement already satisfied: pillow>=6.2.0 in /opt/conda/lib/python3.9/site-packages (from matplotlib>=2.2.3->phik) (8.4.0)\n",
            "Requirement already satisfied: kiwisolver>=1.0.1 in /opt/conda/lib/python3.9/site-packages (from matplotlib>=2.2.3->phik) (1.4.4)\n",
            "Requirement already satisfied: pytz>=2017.3 in /opt/conda/lib/python3.9/site-packages (from pandas>=0.25.1->phik) (2021.1)\n",
            "Requirement already satisfied: six>=1.5 in /opt/conda/lib/python3.9/site-packages (from python-dateutil>=2.1->matplotlib>=2.2.3->phik) (1.16.0)\n",
            "Installing collected packages: phik\n",
            "Successfully installed phik-0.12.3\n"
          ]
        }
      ],
      "source": [
        "!pip install phik\n",
        "\n",
        "import phik\n",
        "from phik.report import plot_correlation_matrix\n",
        "from phik import report"
      ]
    },
    {
      "cell_type": "code",
      "execution_count": null,
      "metadata": {
        "id": "hTS2URUIm2Y9"
      },
      "outputs": [],
      "source": [
        "# Напишем функцию для первичной проверки данных\n",
        "def check_data(data_df):\n",
        "    print ('\\033[1m' + 'Изучим исходные данные'+ '\\033[0m')\n",
        "    print(data_df.info())\n",
        "    #print(data_df.shape)\n",
        "\n",
        "    missed_cells = data_df.isnull().sum().sum()/(data_df.shape[0]*(data_df.shape[1]-1))\n",
        "    missed_rows = sum(data_df.isnull().sum(axis = 1)>0)/data_df.shape[0]\n",
        "    print ('\\033[1m' + '\\nПроверка пропусков'+ '\\033[0m')\n",
        "    print ('Количество пропусков: {:.0f}'.format(data_df.isnull().sum().sum()))\n",
        "    print ('Доля пропусков: {:.1%}'.format(missed_cells)+ '\\033[0m')\n",
        "    print ('Доля строк содержащих пропуски: {:.1%}'.format(missed_rows))\n",
        "\n",
        "    ## Проверим дубликаты\n",
        "    print ('\\033[1m' + '\\nПроверка на дубликаты'+ '\\033[0m')\n",
        "    print('Количество полных дубликатов: ', data_df.duplicated().sum())\n",
        "\n",
        "    ## Посмотрим на сами данные\n",
        "    print ('\\033[1m' + '\\nПервые пять строк датасета'+ '\\033[0m')\n",
        "    display(data_df.head())\n",
        "\n",
        "    print('\\033[1m' + '\\nОписание количественных данных:'+ '\\033[0m')\n",
        "    display(data_df.describe().T)\n",
        "\n",
        "    print('\\033[1m' + '\\nОписание категориальных данных:'+ '\\033[0m')\n",
        "    display(data_df.describe(include='object').T)\n",
        "\n",
        "\n",
        "    print('\\033[1m' + '\\nВывод уникальных значений по каждому категориаьному признаку:'+ '\\033[0m')\n",
        "    df_object = data_df.select_dtypes(include='object').columns\n",
        "\n",
        "    for i in df_object:\n",
        "        print('\\033[1m' + '_'+ str(i) + '\\033[0m')\n",
        "        display(data_df[i].value_counts())"
      ]
    },
    {
      "cell_type": "code",
      "execution_count": null,
      "metadata": {
        "id": "HPGM4ND1m2Y9"
      },
      "outputs": [],
      "source": [
        "#def cat_graph(df, cat_feat):\n",
        "#    '''\n",
        "#    Функция отрисовки круговых диаграмм для категориальных переменных.\n",
        "#    На вход: исходная таблица и список категориальных переменных.\n",
        "#    На выходе: графики\n",
        "#    '''\n",
        "#\n",
        "#    cols = 2\n",
        "#    rows = int(np.ceil(len(cat_feat) / cols))\n",
        "#\n",
        "#    fig, axs = plt.subplots(rows, cols, figsize = (8,8))\n",
        "#    plt.tight_layout()\n",
        "#\n",
        "#    count = -1\n",
        "#    for i in range(rows):\n",
        "#        for x in range(cols):\n",
        "#            count+=1\n",
        "#            col = cat_feat[count]\n",
        "#            df1 = pd.DataFrame(df.groupby([col])[col].count())\n",
        "#            axs[i,x].pie(x=df1[col],\n",
        "#                         labels=df1.index,\n",
        "#                         autopct='%1.1f%%',)\n",
        "#            axs[i,x].title.set_text(str(col))\n",
        "#\n",
        "#    plt.suptitle('Круговые диаграммы категориальных признаков', fontsize=20, y=1.05)\n",
        "#\n",
        "#    plt.show()"
      ]
    },
    {
      "cell_type": "code",
      "execution_count": null,
      "metadata": {
        "id": "-YOlGJuvm2Y-"
      },
      "outputs": [],
      "source": [
        "def plot_hist(data, col_column):\n",
        "    '''\n",
        "    Функция отрисовки гистограмм и ящика с усами для количесвтенных переменных.\n",
        "    На вход: исходная таблица и список количественных переменных.\n",
        "    На выходе: графики\n",
        "    '''\n",
        "    rows = len(col_column)\n",
        "    f, ax = plt.subplots(rows,2, figsize=(8, 15))\n",
        "    f.tight_layout()\n",
        "    f.set_figheight(30)\n",
        "    f.set_figwidth(14)\n",
        "    plt.rcParams.update({'font.size': 18})\n",
        "\n",
        "    for i, col in enumerate(col_column):\n",
        "        sns.histplot(data[col], kde=True, bins=24, ax = ax[i, 0])\n",
        "        sns.boxplot(data[col], ax = ax[i, 1])\n",
        "\n",
        "        ax[i, 0].set_xlabel(col)\n",
        "        ax[i, 1].set_xlabel(col)\n",
        "        ax[i, 0].set_ylabel('Количество')\n",
        "    plt.suptitle(\"Гистограмма и ящик с усами для количесвтенных данных\", fontsize=22, y=1.01)\n",
        "    plt.show()"
      ]
    },
    {
      "cell_type": "code",
      "execution_count": null,
      "metadata": {
        "id": "ropX6pCpm2Y_"
      },
      "outputs": [],
      "source": [
        "df = pd.read_csv('/datasets/Churn.csv')"
      ]
    },
    {
      "cell_type": "code",
      "execution_count": null,
      "metadata": {
        "id": "NGGNyW9Dm2ZA",
        "outputId": "62a92537-f669-4927-b064-f06d25ce5720"
      },
      "outputs": [
        {
          "data": {
            "text/html": [
              "<div>\n",
              "<style scoped>\n",
              "    .dataframe tbody tr th:only-of-type {\n",
              "        vertical-align: middle;\n",
              "    }\n",
              "\n",
              "    .dataframe tbody tr th {\n",
              "        vertical-align: top;\n",
              "    }\n",
              "\n",
              "    .dataframe thead th {\n",
              "        text-align: right;\n",
              "    }\n",
              "</style>\n",
              "<table border=\"1\" class=\"dataframe\">\n",
              "  <thead>\n",
              "    <tr style=\"text-align: right;\">\n",
              "      <th></th>\n",
              "      <th>RowNumber</th>\n",
              "      <th>CustomerId</th>\n",
              "      <th>Surname</th>\n",
              "      <th>CreditScore</th>\n",
              "      <th>Geography</th>\n",
              "      <th>Gender</th>\n",
              "      <th>Age</th>\n",
              "      <th>Tenure</th>\n",
              "      <th>Balance</th>\n",
              "      <th>NumOfProducts</th>\n",
              "      <th>HasCrCard</th>\n",
              "      <th>IsActiveMember</th>\n",
              "      <th>EstimatedSalary</th>\n",
              "      <th>Exited</th>\n",
              "    </tr>\n",
              "  </thead>\n",
              "  <tbody>\n",
              "    <tr>\n",
              "      <th>0</th>\n",
              "      <td>1</td>\n",
              "      <td>15634602</td>\n",
              "      <td>Hargrave</td>\n",
              "      <td>619</td>\n",
              "      <td>France</td>\n",
              "      <td>Female</td>\n",
              "      <td>42</td>\n",
              "      <td>2.0</td>\n",
              "      <td>0.00</td>\n",
              "      <td>1</td>\n",
              "      <td>1</td>\n",
              "      <td>1</td>\n",
              "      <td>101348.88</td>\n",
              "      <td>1</td>\n",
              "    </tr>\n",
              "    <tr>\n",
              "      <th>1</th>\n",
              "      <td>2</td>\n",
              "      <td>15647311</td>\n",
              "      <td>Hill</td>\n",
              "      <td>608</td>\n",
              "      <td>Spain</td>\n",
              "      <td>Female</td>\n",
              "      <td>41</td>\n",
              "      <td>1.0</td>\n",
              "      <td>83807.86</td>\n",
              "      <td>1</td>\n",
              "      <td>0</td>\n",
              "      <td>1</td>\n",
              "      <td>112542.58</td>\n",
              "      <td>0</td>\n",
              "    </tr>\n",
              "    <tr>\n",
              "      <th>2</th>\n",
              "      <td>3</td>\n",
              "      <td>15619304</td>\n",
              "      <td>Onio</td>\n",
              "      <td>502</td>\n",
              "      <td>France</td>\n",
              "      <td>Female</td>\n",
              "      <td>42</td>\n",
              "      <td>8.0</td>\n",
              "      <td>159660.80</td>\n",
              "      <td>3</td>\n",
              "      <td>1</td>\n",
              "      <td>0</td>\n",
              "      <td>113931.57</td>\n",
              "      <td>1</td>\n",
              "    </tr>\n",
              "    <tr>\n",
              "      <th>3</th>\n",
              "      <td>4</td>\n",
              "      <td>15701354</td>\n",
              "      <td>Boni</td>\n",
              "      <td>699</td>\n",
              "      <td>France</td>\n",
              "      <td>Female</td>\n",
              "      <td>39</td>\n",
              "      <td>1.0</td>\n",
              "      <td>0.00</td>\n",
              "      <td>2</td>\n",
              "      <td>0</td>\n",
              "      <td>0</td>\n",
              "      <td>93826.63</td>\n",
              "      <td>0</td>\n",
              "    </tr>\n",
              "    <tr>\n",
              "      <th>4</th>\n",
              "      <td>5</td>\n",
              "      <td>15737888</td>\n",
              "      <td>Mitchell</td>\n",
              "      <td>850</td>\n",
              "      <td>Spain</td>\n",
              "      <td>Female</td>\n",
              "      <td>43</td>\n",
              "      <td>2.0</td>\n",
              "      <td>125510.82</td>\n",
              "      <td>1</td>\n",
              "      <td>1</td>\n",
              "      <td>1</td>\n",
              "      <td>79084.10</td>\n",
              "      <td>0</td>\n",
              "    </tr>\n",
              "    <tr>\n",
              "      <th>...</th>\n",
              "      <td>...</td>\n",
              "      <td>...</td>\n",
              "      <td>...</td>\n",
              "      <td>...</td>\n",
              "      <td>...</td>\n",
              "      <td>...</td>\n",
              "      <td>...</td>\n",
              "      <td>...</td>\n",
              "      <td>...</td>\n",
              "      <td>...</td>\n",
              "      <td>...</td>\n",
              "      <td>...</td>\n",
              "      <td>...</td>\n",
              "      <td>...</td>\n",
              "    </tr>\n",
              "    <tr>\n",
              "      <th>9995</th>\n",
              "      <td>9996</td>\n",
              "      <td>15606229</td>\n",
              "      <td>Obijiaku</td>\n",
              "      <td>771</td>\n",
              "      <td>France</td>\n",
              "      <td>Male</td>\n",
              "      <td>39</td>\n",
              "      <td>5.0</td>\n",
              "      <td>0.00</td>\n",
              "      <td>2</td>\n",
              "      <td>1</td>\n",
              "      <td>0</td>\n",
              "      <td>96270.64</td>\n",
              "      <td>0</td>\n",
              "    </tr>\n",
              "    <tr>\n",
              "      <th>9996</th>\n",
              "      <td>9997</td>\n",
              "      <td>15569892</td>\n",
              "      <td>Johnstone</td>\n",
              "      <td>516</td>\n",
              "      <td>France</td>\n",
              "      <td>Male</td>\n",
              "      <td>35</td>\n",
              "      <td>10.0</td>\n",
              "      <td>57369.61</td>\n",
              "      <td>1</td>\n",
              "      <td>1</td>\n",
              "      <td>1</td>\n",
              "      <td>101699.77</td>\n",
              "      <td>0</td>\n",
              "    </tr>\n",
              "    <tr>\n",
              "      <th>9997</th>\n",
              "      <td>9998</td>\n",
              "      <td>15584532</td>\n",
              "      <td>Liu</td>\n",
              "      <td>709</td>\n",
              "      <td>France</td>\n",
              "      <td>Female</td>\n",
              "      <td>36</td>\n",
              "      <td>7.0</td>\n",
              "      <td>0.00</td>\n",
              "      <td>1</td>\n",
              "      <td>0</td>\n",
              "      <td>1</td>\n",
              "      <td>42085.58</td>\n",
              "      <td>1</td>\n",
              "    </tr>\n",
              "    <tr>\n",
              "      <th>9998</th>\n",
              "      <td>9999</td>\n",
              "      <td>15682355</td>\n",
              "      <td>Sabbatini</td>\n",
              "      <td>772</td>\n",
              "      <td>Germany</td>\n",
              "      <td>Male</td>\n",
              "      <td>42</td>\n",
              "      <td>3.0</td>\n",
              "      <td>75075.31</td>\n",
              "      <td>2</td>\n",
              "      <td>1</td>\n",
              "      <td>0</td>\n",
              "      <td>92888.52</td>\n",
              "      <td>1</td>\n",
              "    </tr>\n",
              "    <tr>\n",
              "      <th>9999</th>\n",
              "      <td>10000</td>\n",
              "      <td>15628319</td>\n",
              "      <td>Walker</td>\n",
              "      <td>792</td>\n",
              "      <td>France</td>\n",
              "      <td>Female</td>\n",
              "      <td>28</td>\n",
              "      <td>NaN</td>\n",
              "      <td>130142.79</td>\n",
              "      <td>1</td>\n",
              "      <td>1</td>\n",
              "      <td>0</td>\n",
              "      <td>38190.78</td>\n",
              "      <td>0</td>\n",
              "    </tr>\n",
              "  </tbody>\n",
              "</table>\n",
              "<p>10000 rows × 14 columns</p>\n",
              "</div>"
            ],
            "text/plain": [
              "      RowNumber  CustomerId    Surname  CreditScore Geography  Gender  Age  \\\n",
              "0             1    15634602   Hargrave          619    France  Female   42   \n",
              "1             2    15647311       Hill          608     Spain  Female   41   \n",
              "2             3    15619304       Onio          502    France  Female   42   \n",
              "3             4    15701354       Boni          699    France  Female   39   \n",
              "4             5    15737888   Mitchell          850     Spain  Female   43   \n",
              "...         ...         ...        ...          ...       ...     ...  ...   \n",
              "9995       9996    15606229   Obijiaku          771    France    Male   39   \n",
              "9996       9997    15569892  Johnstone          516    France    Male   35   \n",
              "9997       9998    15584532        Liu          709    France  Female   36   \n",
              "9998       9999    15682355  Sabbatini          772   Germany    Male   42   \n",
              "9999      10000    15628319     Walker          792    France  Female   28   \n",
              "\n",
              "      Tenure    Balance  NumOfProducts  HasCrCard  IsActiveMember  \\\n",
              "0        2.0       0.00              1          1               1   \n",
              "1        1.0   83807.86              1          0               1   \n",
              "2        8.0  159660.80              3          1               0   \n",
              "3        1.0       0.00              2          0               0   \n",
              "4        2.0  125510.82              1          1               1   \n",
              "...      ...        ...            ...        ...             ...   \n",
              "9995     5.0       0.00              2          1               0   \n",
              "9996    10.0   57369.61              1          1               1   \n",
              "9997     7.0       0.00              1          0               1   \n",
              "9998     3.0   75075.31              2          1               0   \n",
              "9999     NaN  130142.79              1          1               0   \n",
              "\n",
              "      EstimatedSalary  Exited  \n",
              "0           101348.88       1  \n",
              "1           112542.58       0  \n",
              "2           113931.57       1  \n",
              "3            93826.63       0  \n",
              "4            79084.10       0  \n",
              "...               ...     ...  \n",
              "9995         96270.64       0  \n",
              "9996        101699.77       0  \n",
              "9997         42085.58       1  \n",
              "9998         92888.52       1  \n",
              "9999         38190.78       0  \n",
              "\n",
              "[10000 rows x 14 columns]"
            ]
          },
          "execution_count": 7,
          "metadata": {},
          "output_type": "execute_result"
        }
      ],
      "source": [
        "df"
      ]
    },
    {
      "cell_type": "markdown",
      "metadata": {
        "id": "Y4YqgsFhm2ZA"
      },
      "source": [
        "Все хорошо, данные загрузились нормально."
      ]
    },
    {
      "cell_type": "code",
      "execution_count": null,
      "metadata": {
        "scrolled": false,
        "id": "v1E-RB9mm2ZB",
        "outputId": "05ccc416-79a9-4ce7-849e-176478adbb64"
      },
      "outputs": [
        {
          "name": "stdout",
          "output_type": "stream",
          "text": [
            "\u001b[1mИзучим исходные данные\u001b[0m\n",
            "<class 'pandas.core.frame.DataFrame'>\n",
            "RangeIndex: 10000 entries, 0 to 9999\n",
            "Data columns (total 14 columns):\n",
            " #   Column           Non-Null Count  Dtype  \n",
            "---  ------           --------------  -----  \n",
            " 0   RowNumber        10000 non-null  int64  \n",
            " 1   CustomerId       10000 non-null  int64  \n",
            " 2   Surname          10000 non-null  object \n",
            " 3   CreditScore      10000 non-null  int64  \n",
            " 4   Geography        10000 non-null  object \n",
            " 5   Gender           10000 non-null  object \n",
            " 6   Age              10000 non-null  int64  \n",
            " 7   Tenure           9091 non-null   float64\n",
            " 8   Balance          10000 non-null  float64\n",
            " 9   NumOfProducts    10000 non-null  int64  \n",
            " 10  HasCrCard        10000 non-null  int64  \n",
            " 11  IsActiveMember   10000 non-null  int64  \n",
            " 12  EstimatedSalary  10000 non-null  float64\n",
            " 13  Exited           10000 non-null  int64  \n",
            "dtypes: float64(3), int64(8), object(3)\n",
            "memory usage: 1.1+ MB\n",
            "None\n",
            "\u001b[1m\n",
            "Проверка пропусков\u001b[0m\n",
            "Количество пропусков: 909\n",
            "Доля пропусков: 0.7%\u001b[0m\n",
            "Доля строк содержащих пропуски: 9.1%\n",
            "\u001b[1m\n",
            "Проверка на дубликаты\u001b[0m\n",
            "Количество полных дубликатов:  0\n",
            "\u001b[1m\n",
            "Первые пять строк датасета\u001b[0m\n"
          ]
        },
        {
          "data": {
            "text/html": [
              "<div>\n",
              "<style scoped>\n",
              "    .dataframe tbody tr th:only-of-type {\n",
              "        vertical-align: middle;\n",
              "    }\n",
              "\n",
              "    .dataframe tbody tr th {\n",
              "        vertical-align: top;\n",
              "    }\n",
              "\n",
              "    .dataframe thead th {\n",
              "        text-align: right;\n",
              "    }\n",
              "</style>\n",
              "<table border=\"1\" class=\"dataframe\">\n",
              "  <thead>\n",
              "    <tr style=\"text-align: right;\">\n",
              "      <th></th>\n",
              "      <th>RowNumber</th>\n",
              "      <th>CustomerId</th>\n",
              "      <th>Surname</th>\n",
              "      <th>CreditScore</th>\n",
              "      <th>Geography</th>\n",
              "      <th>Gender</th>\n",
              "      <th>Age</th>\n",
              "      <th>Tenure</th>\n",
              "      <th>Balance</th>\n",
              "      <th>NumOfProducts</th>\n",
              "      <th>HasCrCard</th>\n",
              "      <th>IsActiveMember</th>\n",
              "      <th>EstimatedSalary</th>\n",
              "      <th>Exited</th>\n",
              "    </tr>\n",
              "  </thead>\n",
              "  <tbody>\n",
              "    <tr>\n",
              "      <th>0</th>\n",
              "      <td>1</td>\n",
              "      <td>15634602</td>\n",
              "      <td>Hargrave</td>\n",
              "      <td>619</td>\n",
              "      <td>France</td>\n",
              "      <td>Female</td>\n",
              "      <td>42</td>\n",
              "      <td>2.0</td>\n",
              "      <td>0.00</td>\n",
              "      <td>1</td>\n",
              "      <td>1</td>\n",
              "      <td>1</td>\n",
              "      <td>101348.88</td>\n",
              "      <td>1</td>\n",
              "    </tr>\n",
              "    <tr>\n",
              "      <th>1</th>\n",
              "      <td>2</td>\n",
              "      <td>15647311</td>\n",
              "      <td>Hill</td>\n",
              "      <td>608</td>\n",
              "      <td>Spain</td>\n",
              "      <td>Female</td>\n",
              "      <td>41</td>\n",
              "      <td>1.0</td>\n",
              "      <td>83807.86</td>\n",
              "      <td>1</td>\n",
              "      <td>0</td>\n",
              "      <td>1</td>\n",
              "      <td>112542.58</td>\n",
              "      <td>0</td>\n",
              "    </tr>\n",
              "    <tr>\n",
              "      <th>2</th>\n",
              "      <td>3</td>\n",
              "      <td>15619304</td>\n",
              "      <td>Onio</td>\n",
              "      <td>502</td>\n",
              "      <td>France</td>\n",
              "      <td>Female</td>\n",
              "      <td>42</td>\n",
              "      <td>8.0</td>\n",
              "      <td>159660.80</td>\n",
              "      <td>3</td>\n",
              "      <td>1</td>\n",
              "      <td>0</td>\n",
              "      <td>113931.57</td>\n",
              "      <td>1</td>\n",
              "    </tr>\n",
              "    <tr>\n",
              "      <th>3</th>\n",
              "      <td>4</td>\n",
              "      <td>15701354</td>\n",
              "      <td>Boni</td>\n",
              "      <td>699</td>\n",
              "      <td>France</td>\n",
              "      <td>Female</td>\n",
              "      <td>39</td>\n",
              "      <td>1.0</td>\n",
              "      <td>0.00</td>\n",
              "      <td>2</td>\n",
              "      <td>0</td>\n",
              "      <td>0</td>\n",
              "      <td>93826.63</td>\n",
              "      <td>0</td>\n",
              "    </tr>\n",
              "    <tr>\n",
              "      <th>4</th>\n",
              "      <td>5</td>\n",
              "      <td>15737888</td>\n",
              "      <td>Mitchell</td>\n",
              "      <td>850</td>\n",
              "      <td>Spain</td>\n",
              "      <td>Female</td>\n",
              "      <td>43</td>\n",
              "      <td>2.0</td>\n",
              "      <td>125510.82</td>\n",
              "      <td>1</td>\n",
              "      <td>1</td>\n",
              "      <td>1</td>\n",
              "      <td>79084.10</td>\n",
              "      <td>0</td>\n",
              "    </tr>\n",
              "  </tbody>\n",
              "</table>\n",
              "</div>"
            ],
            "text/plain": [
              "   RowNumber  CustomerId   Surname  CreditScore Geography  Gender  Age  \\\n",
              "0          1    15634602  Hargrave          619    France  Female   42   \n",
              "1          2    15647311      Hill          608     Spain  Female   41   \n",
              "2          3    15619304      Onio          502    France  Female   42   \n",
              "3          4    15701354      Boni          699    France  Female   39   \n",
              "4          5    15737888  Mitchell          850     Spain  Female   43   \n",
              "\n",
              "   Tenure    Balance  NumOfProducts  HasCrCard  IsActiveMember  \\\n",
              "0     2.0       0.00              1          1               1   \n",
              "1     1.0   83807.86              1          0               1   \n",
              "2     8.0  159660.80              3          1               0   \n",
              "3     1.0       0.00              2          0               0   \n",
              "4     2.0  125510.82              1          1               1   \n",
              "\n",
              "   EstimatedSalary  Exited  \n",
              "0        101348.88       1  \n",
              "1        112542.58       0  \n",
              "2        113931.57       1  \n",
              "3         93826.63       0  \n",
              "4         79084.10       0  "
            ]
          },
          "metadata": {},
          "output_type": "display_data"
        },
        {
          "name": "stdout",
          "output_type": "stream",
          "text": [
            "\u001b[1m\n",
            "Описание количественных данных:\u001b[0m\n"
          ]
        },
        {
          "data": {
            "text/html": [
              "<div>\n",
              "<style scoped>\n",
              "    .dataframe tbody tr th:only-of-type {\n",
              "        vertical-align: middle;\n",
              "    }\n",
              "\n",
              "    .dataframe tbody tr th {\n",
              "        vertical-align: top;\n",
              "    }\n",
              "\n",
              "    .dataframe thead th {\n",
              "        text-align: right;\n",
              "    }\n",
              "</style>\n",
              "<table border=\"1\" class=\"dataframe\">\n",
              "  <thead>\n",
              "    <tr style=\"text-align: right;\">\n",
              "      <th></th>\n",
              "      <th>count</th>\n",
              "      <th>mean</th>\n",
              "      <th>std</th>\n",
              "      <th>min</th>\n",
              "      <th>25%</th>\n",
              "      <th>50%</th>\n",
              "      <th>75%</th>\n",
              "      <th>max</th>\n",
              "    </tr>\n",
              "  </thead>\n",
              "  <tbody>\n",
              "    <tr>\n",
              "      <th>RowNumber</th>\n",
              "      <td>10000.0</td>\n",
              "      <td>5.000500e+03</td>\n",
              "      <td>2886.895680</td>\n",
              "      <td>1.00</td>\n",
              "      <td>2500.75</td>\n",
              "      <td>5.000500e+03</td>\n",
              "      <td>7.500250e+03</td>\n",
              "      <td>10000.00</td>\n",
              "    </tr>\n",
              "    <tr>\n",
              "      <th>CustomerId</th>\n",
              "      <td>10000.0</td>\n",
              "      <td>1.569094e+07</td>\n",
              "      <td>71936.186123</td>\n",
              "      <td>15565701.00</td>\n",
              "      <td>15628528.25</td>\n",
              "      <td>1.569074e+07</td>\n",
              "      <td>1.575323e+07</td>\n",
              "      <td>15815690.00</td>\n",
              "    </tr>\n",
              "    <tr>\n",
              "      <th>CreditScore</th>\n",
              "      <td>10000.0</td>\n",
              "      <td>6.505288e+02</td>\n",
              "      <td>96.653299</td>\n",
              "      <td>350.00</td>\n",
              "      <td>584.00</td>\n",
              "      <td>6.520000e+02</td>\n",
              "      <td>7.180000e+02</td>\n",
              "      <td>850.00</td>\n",
              "    </tr>\n",
              "    <tr>\n",
              "      <th>Age</th>\n",
              "      <td>10000.0</td>\n",
              "      <td>3.892180e+01</td>\n",
              "      <td>10.487806</td>\n",
              "      <td>18.00</td>\n",
              "      <td>32.00</td>\n",
              "      <td>3.700000e+01</td>\n",
              "      <td>4.400000e+01</td>\n",
              "      <td>92.00</td>\n",
              "    </tr>\n",
              "    <tr>\n",
              "      <th>Tenure</th>\n",
              "      <td>9091.0</td>\n",
              "      <td>4.997690e+00</td>\n",
              "      <td>2.894723</td>\n",
              "      <td>0.00</td>\n",
              "      <td>2.00</td>\n",
              "      <td>5.000000e+00</td>\n",
              "      <td>7.000000e+00</td>\n",
              "      <td>10.00</td>\n",
              "    </tr>\n",
              "    <tr>\n",
              "      <th>Balance</th>\n",
              "      <td>10000.0</td>\n",
              "      <td>7.648589e+04</td>\n",
              "      <td>62397.405202</td>\n",
              "      <td>0.00</td>\n",
              "      <td>0.00</td>\n",
              "      <td>9.719854e+04</td>\n",
              "      <td>1.276442e+05</td>\n",
              "      <td>250898.09</td>\n",
              "    </tr>\n",
              "    <tr>\n",
              "      <th>NumOfProducts</th>\n",
              "      <td>10000.0</td>\n",
              "      <td>1.530200e+00</td>\n",
              "      <td>0.581654</td>\n",
              "      <td>1.00</td>\n",
              "      <td>1.00</td>\n",
              "      <td>1.000000e+00</td>\n",
              "      <td>2.000000e+00</td>\n",
              "      <td>4.00</td>\n",
              "    </tr>\n",
              "    <tr>\n",
              "      <th>HasCrCard</th>\n",
              "      <td>10000.0</td>\n",
              "      <td>7.055000e-01</td>\n",
              "      <td>0.455840</td>\n",
              "      <td>0.00</td>\n",
              "      <td>0.00</td>\n",
              "      <td>1.000000e+00</td>\n",
              "      <td>1.000000e+00</td>\n",
              "      <td>1.00</td>\n",
              "    </tr>\n",
              "    <tr>\n",
              "      <th>IsActiveMember</th>\n",
              "      <td>10000.0</td>\n",
              "      <td>5.151000e-01</td>\n",
              "      <td>0.499797</td>\n",
              "      <td>0.00</td>\n",
              "      <td>0.00</td>\n",
              "      <td>1.000000e+00</td>\n",
              "      <td>1.000000e+00</td>\n",
              "      <td>1.00</td>\n",
              "    </tr>\n",
              "    <tr>\n",
              "      <th>EstimatedSalary</th>\n",
              "      <td>10000.0</td>\n",
              "      <td>1.000902e+05</td>\n",
              "      <td>57510.492818</td>\n",
              "      <td>11.58</td>\n",
              "      <td>51002.11</td>\n",
              "      <td>1.001939e+05</td>\n",
              "      <td>1.493882e+05</td>\n",
              "      <td>199992.48</td>\n",
              "    </tr>\n",
              "    <tr>\n",
              "      <th>Exited</th>\n",
              "      <td>10000.0</td>\n",
              "      <td>2.037000e-01</td>\n",
              "      <td>0.402769</td>\n",
              "      <td>0.00</td>\n",
              "      <td>0.00</td>\n",
              "      <td>0.000000e+00</td>\n",
              "      <td>0.000000e+00</td>\n",
              "      <td>1.00</td>\n",
              "    </tr>\n",
              "  </tbody>\n",
              "</table>\n",
              "</div>"
            ],
            "text/plain": [
              "                   count          mean           std          min  \\\n",
              "RowNumber        10000.0  5.000500e+03   2886.895680         1.00   \n",
              "CustomerId       10000.0  1.569094e+07  71936.186123  15565701.00   \n",
              "CreditScore      10000.0  6.505288e+02     96.653299       350.00   \n",
              "Age              10000.0  3.892180e+01     10.487806        18.00   \n",
              "Tenure            9091.0  4.997690e+00      2.894723         0.00   \n",
              "Balance          10000.0  7.648589e+04  62397.405202         0.00   \n",
              "NumOfProducts    10000.0  1.530200e+00      0.581654         1.00   \n",
              "HasCrCard        10000.0  7.055000e-01      0.455840         0.00   \n",
              "IsActiveMember   10000.0  5.151000e-01      0.499797         0.00   \n",
              "EstimatedSalary  10000.0  1.000902e+05  57510.492818        11.58   \n",
              "Exited           10000.0  2.037000e-01      0.402769         0.00   \n",
              "\n",
              "                         25%           50%           75%          max  \n",
              "RowNumber            2500.75  5.000500e+03  7.500250e+03     10000.00  \n",
              "CustomerId       15628528.25  1.569074e+07  1.575323e+07  15815690.00  \n",
              "CreditScore           584.00  6.520000e+02  7.180000e+02       850.00  \n",
              "Age                    32.00  3.700000e+01  4.400000e+01        92.00  \n",
              "Tenure                  2.00  5.000000e+00  7.000000e+00        10.00  \n",
              "Balance                 0.00  9.719854e+04  1.276442e+05    250898.09  \n",
              "NumOfProducts           1.00  1.000000e+00  2.000000e+00         4.00  \n",
              "HasCrCard               0.00  1.000000e+00  1.000000e+00         1.00  \n",
              "IsActiveMember          0.00  1.000000e+00  1.000000e+00         1.00  \n",
              "EstimatedSalary     51002.11  1.001939e+05  1.493882e+05    199992.48  \n",
              "Exited                  0.00  0.000000e+00  0.000000e+00         1.00  "
            ]
          },
          "metadata": {},
          "output_type": "display_data"
        },
        {
          "name": "stdout",
          "output_type": "stream",
          "text": [
            "\u001b[1m\n",
            "Описание категориальных данных:\u001b[0m\n"
          ]
        },
        {
          "data": {
            "text/html": [
              "<div>\n",
              "<style scoped>\n",
              "    .dataframe tbody tr th:only-of-type {\n",
              "        vertical-align: middle;\n",
              "    }\n",
              "\n",
              "    .dataframe tbody tr th {\n",
              "        vertical-align: top;\n",
              "    }\n",
              "\n",
              "    .dataframe thead th {\n",
              "        text-align: right;\n",
              "    }\n",
              "</style>\n",
              "<table border=\"1\" class=\"dataframe\">\n",
              "  <thead>\n",
              "    <tr style=\"text-align: right;\">\n",
              "      <th></th>\n",
              "      <th>count</th>\n",
              "      <th>unique</th>\n",
              "      <th>top</th>\n",
              "      <th>freq</th>\n",
              "    </tr>\n",
              "  </thead>\n",
              "  <tbody>\n",
              "    <tr>\n",
              "      <th>Surname</th>\n",
              "      <td>10000</td>\n",
              "      <td>2932</td>\n",
              "      <td>Smith</td>\n",
              "      <td>32</td>\n",
              "    </tr>\n",
              "    <tr>\n",
              "      <th>Geography</th>\n",
              "      <td>10000</td>\n",
              "      <td>3</td>\n",
              "      <td>France</td>\n",
              "      <td>5014</td>\n",
              "    </tr>\n",
              "    <tr>\n",
              "      <th>Gender</th>\n",
              "      <td>10000</td>\n",
              "      <td>2</td>\n",
              "      <td>Male</td>\n",
              "      <td>5457</td>\n",
              "    </tr>\n",
              "  </tbody>\n",
              "</table>\n",
              "</div>"
            ],
            "text/plain": [
              "           count unique     top  freq\n",
              "Surname    10000   2932   Smith    32\n",
              "Geography  10000      3  France  5014\n",
              "Gender     10000      2    Male  5457"
            ]
          },
          "metadata": {},
          "output_type": "display_data"
        },
        {
          "name": "stdout",
          "output_type": "stream",
          "text": [
            "\u001b[1m\n",
            "Вывод уникальных значений по каждому категориаьному признаку:\u001b[0m\n",
            "\u001b[1m_Surname\u001b[0m\n"
          ]
        },
        {
          "data": {
            "text/plain": [
              "Smith       32\n",
              "Scott       29\n",
              "Martin      29\n",
              "Walker      28\n",
              "Brown       26\n",
              "            ..\n",
              "Blackall     1\n",
              "Greaves      1\n",
              "Pendred      1\n",
              "Bellew       1\n",
              "Glenny       1\n",
              "Name: Surname, Length: 2932, dtype: int64"
            ]
          },
          "metadata": {},
          "output_type": "display_data"
        },
        {
          "name": "stdout",
          "output_type": "stream",
          "text": [
            "\u001b[1m_Geography\u001b[0m\n"
          ]
        },
        {
          "data": {
            "text/plain": [
              "France     5014\n",
              "Germany    2509\n",
              "Spain      2477\n",
              "Name: Geography, dtype: int64"
            ]
          },
          "metadata": {},
          "output_type": "display_data"
        },
        {
          "name": "stdout",
          "output_type": "stream",
          "text": [
            "\u001b[1m_Gender\u001b[0m\n"
          ]
        },
        {
          "data": {
            "text/plain": [
              "Male      5457\n",
              "Female    4543\n",
              "Name: Gender, dtype: int64"
            ]
          },
          "metadata": {},
          "output_type": "display_data"
        }
      ],
      "source": [
        "check_data(df)"
      ]
    },
    {
      "cell_type": "code",
      "execution_count": null,
      "metadata": {
        "id": "eocqge-Lm2ZB",
        "outputId": "78ce8312-dacd-4169-be0f-3650f3c67869"
      },
      "outputs": [
        {
          "data": {
            "text/plain": [
              "Index(['RowNumber', 'CustomerId', 'CreditScore', 'Age', 'Tenure', 'Balance',\n",
              "       'NumOfProducts', 'HasCrCard', 'IsActiveMember', 'EstimatedSalary',\n",
              "       'Exited'],\n",
              "      dtype='object')"
            ]
          },
          "execution_count": 9,
          "metadata": {},
          "output_type": "execute_result"
        }
      ],
      "source": [
        "# ГРАФИЧЕСКИЙ АНАЛИЗ количественных данных данных\n",
        "num_features = df.select_dtypes(exclude=[object]).columns\n",
        "\n",
        "# Проверка\n",
        "num_features"
      ]
    },
    {
      "cell_type": "code",
      "execution_count": null,
      "metadata": {
        "scrolled": false,
        "id": "X4K8xM2tm2ZD",
        "outputId": "392f778f-de96-4bda-efb8-25e5d34d7380"
      },
      "outputs": [
        {
          "data": {
            "image/png": "[encoded data removed]",
            "text/plain": [
              "<Figure size 1008x2160 with 22 Axes>"
            ]
          },
          "metadata": {
            "needs_background": "light"
          },
          "output_type": "display_data"
        }
      ],
      "source": [
        "plot_hist(df, df.select_dtypes(exclude=[object]).columns)"
      ]
    },
    {
      "cell_type": "code",
      "execution_count": null,
      "metadata": {
        "id": "P0obU9iam2ZE",
        "outputId": "8f204d22-3d5b-4a5e-8c3f-3717efee70fc"
      },
      "outputs": [
        {
          "data": {
            "text/html": [
              "<div>\n",
              "<style scoped>\n",
              "    .dataframe tbody tr th:only-of-type {\n",
              "        vertical-align: middle;\n",
              "    }\n",
              "\n",
              "    .dataframe tbody tr th {\n",
              "        vertical-align: top;\n",
              "    }\n",
              "\n",
              "    .dataframe thead th {\n",
              "        text-align: right;\n",
              "    }\n",
              "</style>\n",
              "<table border=\"1\" class=\"dataframe\">\n",
              "  <thead>\n",
              "    <tr style=\"text-align: right;\">\n",
              "      <th></th>\n",
              "      <th>rownumber</th>\n",
              "      <th>customerid</th>\n",
              "      <th>surname</th>\n",
              "      <th>creditscore</th>\n",
              "      <th>geography</th>\n",
              "      <th>gender</th>\n",
              "      <th>age</th>\n",
              "      <th>tenure</th>\n",
              "      <th>balance</th>\n",
              "      <th>numofproducts</th>\n",
              "      <th>hascrcard</th>\n",
              "      <th>isactivemember</th>\n",
              "      <th>estimatedsalary</th>\n",
              "      <th>exited</th>\n",
              "    </tr>\n",
              "  </thead>\n",
              "  <tbody>\n",
              "    <tr>\n",
              "      <th>0</th>\n",
              "      <td>1</td>\n",
              "      <td>15634602</td>\n",
              "      <td>Hargrave</td>\n",
              "      <td>619</td>\n",
              "      <td>France</td>\n",
              "      <td>Female</td>\n",
              "      <td>42</td>\n",
              "      <td>2.0</td>\n",
              "      <td>0.00</td>\n",
              "      <td>1</td>\n",
              "      <td>1</td>\n",
              "      <td>1</td>\n",
              "      <td>101348.88</td>\n",
              "      <td>1</td>\n",
              "    </tr>\n",
              "    <tr>\n",
              "      <th>1</th>\n",
              "      <td>2</td>\n",
              "      <td>15647311</td>\n",
              "      <td>Hill</td>\n",
              "      <td>608</td>\n",
              "      <td>Spain</td>\n",
              "      <td>Female</td>\n",
              "      <td>41</td>\n",
              "      <td>1.0</td>\n",
              "      <td>83807.86</td>\n",
              "      <td>1</td>\n",
              "      <td>0</td>\n",
              "      <td>1</td>\n",
              "      <td>112542.58</td>\n",
              "      <td>0</td>\n",
              "    </tr>\n",
              "    <tr>\n",
              "      <th>2</th>\n",
              "      <td>3</td>\n",
              "      <td>15619304</td>\n",
              "      <td>Onio</td>\n",
              "      <td>502</td>\n",
              "      <td>France</td>\n",
              "      <td>Female</td>\n",
              "      <td>42</td>\n",
              "      <td>8.0</td>\n",
              "      <td>159660.80</td>\n",
              "      <td>3</td>\n",
              "      <td>1</td>\n",
              "      <td>0</td>\n",
              "      <td>113931.57</td>\n",
              "      <td>1</td>\n",
              "    </tr>\n",
              "    <tr>\n",
              "      <th>3</th>\n",
              "      <td>4</td>\n",
              "      <td>15701354</td>\n",
              "      <td>Boni</td>\n",
              "      <td>699</td>\n",
              "      <td>France</td>\n",
              "      <td>Female</td>\n",
              "      <td>39</td>\n",
              "      <td>1.0</td>\n",
              "      <td>0.00</td>\n",
              "      <td>2</td>\n",
              "      <td>0</td>\n",
              "      <td>0</td>\n",
              "      <td>93826.63</td>\n",
              "      <td>0</td>\n",
              "    </tr>\n",
              "    <tr>\n",
              "      <th>4</th>\n",
              "      <td>5</td>\n",
              "      <td>15737888</td>\n",
              "      <td>Mitchell</td>\n",
              "      <td>850</td>\n",
              "      <td>Spain</td>\n",
              "      <td>Female</td>\n",
              "      <td>43</td>\n",
              "      <td>2.0</td>\n",
              "      <td>125510.82</td>\n",
              "      <td>1</td>\n",
              "      <td>1</td>\n",
              "      <td>1</td>\n",
              "      <td>79084.10</td>\n",
              "      <td>0</td>\n",
              "    </tr>\n",
              "  </tbody>\n",
              "</table>\n",
              "</div>"
            ],
            "text/plain": [
              "   rownumber  customerid   surname  creditscore geography  gender  age  \\\n",
              "0          1    15634602  Hargrave          619    France  Female   42   \n",
              "1          2    15647311      Hill          608     Spain  Female   41   \n",
              "2          3    15619304      Onio          502    France  Female   42   \n",
              "3          4    15701354      Boni          699    France  Female   39   \n",
              "4          5    15737888  Mitchell          850     Spain  Female   43   \n",
              "\n",
              "   tenure    balance  numofproducts  hascrcard  isactivemember  \\\n",
              "0     2.0       0.00              1          1               1   \n",
              "1     1.0   83807.86              1          0               1   \n",
              "2     8.0  159660.80              3          1               0   \n",
              "3     1.0       0.00              2          0               0   \n",
              "4     2.0  125510.82              1          1               1   \n",
              "\n",
              "   estimatedsalary  exited  \n",
              "0        101348.88       1  \n",
              "1        112542.58       0  \n",
              "2        113931.57       1  \n",
              "3         93826.63       0  \n",
              "4         79084.10       0  "
            ]
          },
          "execution_count": 11,
          "metadata": {},
          "output_type": "execute_result"
        }
      ],
      "source": [
        "# Приведение названий столбцов к змеиному виду\n",
        "\n",
        "df.columns = df.columns.str.lower().str.replace(' ', '_').str.replace(',', '_')\n",
        "\n",
        "# ПРОВЕРКА ОТРАБОТКИ КОДА\n",
        "df.head()"
      ]
    },
    {
      "cell_type": "markdown",
      "metadata": {
        "id": "C_c_tysim2ZF"
      },
      "source": [
        "Так на много лучше"
      ]
    },
    {
      "cell_type": "code",
      "execution_count": null,
      "metadata": {
        "id": "CiAiGc6am2ZG",
        "outputId": "6fcb3a87-e842-4f28-c925-93ffac0517f4"
      },
      "outputs": [
        {
          "data": {
            "text/plain": [
              "array([ 2.,  1.,  8.,  7.,  4.,  6.,  3., 10.,  5.,  9.,  0., nan])"
            ]
          },
          "execution_count": 12,
          "metadata": {},
          "output_type": "execute_result"
        }
      ],
      "source": [
        "# Посмотрим на пропуски\n",
        "\n",
        "df['tenure'].unique()\n"
      ]
    },
    {
      "cell_type": "code",
      "execution_count": null,
      "metadata": {
        "id": "sZlbL1OXm2ZG",
        "outputId": "73192ff2-b5dc-4620-e7fa-8109bc8c82a9"
      },
      "outputs": [
        {
          "data": {
            "text/plain": [
              "1.0     952\n",
              "2.0     950\n",
              "8.0     933\n",
              "3.0     928\n",
              "5.0     927\n",
              "7.0     925\n",
              "4.0     885\n",
              "9.0     882\n",
              "6.0     881\n",
              "10.0    446\n",
              "0.0     382\n",
              "Name: tenure, dtype: int64"
            ]
          },
          "execution_count": 13,
          "metadata": {},
          "output_type": "execute_result"
        }
      ],
      "source": [
        "df['tenure'].value_counts()"
      ]
    },
    {
      "cell_type": "code",
      "execution_count": null,
      "metadata": {
        "id": "k5u_p9Xzm2ZH",
        "outputId": "acc491d7-bc89-4839-9766-b90d24dff79f"
      },
      "outputs": [
        {
          "data": {
            "text/html": [
              "<div>\n",
              "<style scoped>\n",
              "    .dataframe tbody tr th:only-of-type {\n",
              "        vertical-align: middle;\n",
              "    }\n",
              "\n",
              "    .dataframe tbody tr th {\n",
              "        vertical-align: top;\n",
              "    }\n",
              "\n",
              "    .dataframe thead th {\n",
              "        text-align: right;\n",
              "    }\n",
              "</style>\n",
              "<table border=\"1\" class=\"dataframe\">\n",
              "  <thead>\n",
              "    <tr style=\"text-align: right;\">\n",
              "      <th></th>\n",
              "      <th>rownumber</th>\n",
              "      <th>customerid</th>\n",
              "      <th>surname</th>\n",
              "      <th>creditscore</th>\n",
              "      <th>geography</th>\n",
              "      <th>gender</th>\n",
              "      <th>age</th>\n",
              "      <th>tenure</th>\n",
              "      <th>balance</th>\n",
              "      <th>numofproducts</th>\n",
              "      <th>hascrcard</th>\n",
              "      <th>isactivemember</th>\n",
              "      <th>estimatedsalary</th>\n",
              "      <th>exited</th>\n",
              "    </tr>\n",
              "  </thead>\n",
              "  <tbody>\n",
              "    <tr>\n",
              "      <th>30</th>\n",
              "      <td>31</td>\n",
              "      <td>15589475</td>\n",
              "      <td>Azikiwe</td>\n",
              "      <td>591</td>\n",
              "      <td>Spain</td>\n",
              "      <td>Female</td>\n",
              "      <td>39</td>\n",
              "      <td>NaN</td>\n",
              "      <td>0.00</td>\n",
              "      <td>3</td>\n",
              "      <td>1</td>\n",
              "      <td>0</td>\n",
              "      <td>140469.38</td>\n",
              "      <td>1</td>\n",
              "    </tr>\n",
              "    <tr>\n",
              "      <th>48</th>\n",
              "      <td>49</td>\n",
              "      <td>15766205</td>\n",
              "      <td>Yin</td>\n",
              "      <td>550</td>\n",
              "      <td>Germany</td>\n",
              "      <td>Male</td>\n",
              "      <td>38</td>\n",
              "      <td>NaN</td>\n",
              "      <td>103391.38</td>\n",
              "      <td>1</td>\n",
              "      <td>0</td>\n",
              "      <td>1</td>\n",
              "      <td>90878.13</td>\n",
              "      <td>0</td>\n",
              "    </tr>\n",
              "    <tr>\n",
              "      <th>51</th>\n",
              "      <td>52</td>\n",
              "      <td>15768193</td>\n",
              "      <td>Trevisani</td>\n",
              "      <td>585</td>\n",
              "      <td>Germany</td>\n",
              "      <td>Male</td>\n",
              "      <td>36</td>\n",
              "      <td>NaN</td>\n",
              "      <td>146050.97</td>\n",
              "      <td>2</td>\n",
              "      <td>0</td>\n",
              "      <td>0</td>\n",
              "      <td>86424.57</td>\n",
              "      <td>0</td>\n",
              "    </tr>\n",
              "    <tr>\n",
              "      <th>53</th>\n",
              "      <td>54</td>\n",
              "      <td>15702298</td>\n",
              "      <td>Parkhill</td>\n",
              "      <td>655</td>\n",
              "      <td>Germany</td>\n",
              "      <td>Male</td>\n",
              "      <td>41</td>\n",
              "      <td>NaN</td>\n",
              "      <td>125561.97</td>\n",
              "      <td>1</td>\n",
              "      <td>0</td>\n",
              "      <td>0</td>\n",
              "      <td>164040.94</td>\n",
              "      <td>1</td>\n",
              "    </tr>\n",
              "    <tr>\n",
              "      <th>60</th>\n",
              "      <td>61</td>\n",
              "      <td>15651280</td>\n",
              "      <td>Hunter</td>\n",
              "      <td>742</td>\n",
              "      <td>Germany</td>\n",
              "      <td>Male</td>\n",
              "      <td>35</td>\n",
              "      <td>NaN</td>\n",
              "      <td>136857.00</td>\n",
              "      <td>1</td>\n",
              "      <td>0</td>\n",
              "      <td>0</td>\n",
              "      <td>84509.57</td>\n",
              "      <td>0</td>\n",
              "    </tr>\n",
              "    <tr>\n",
              "      <th>...</th>\n",
              "      <td>...</td>\n",
              "      <td>...</td>\n",
              "      <td>...</td>\n",
              "      <td>...</td>\n",
              "      <td>...</td>\n",
              "      <td>...</td>\n",
              "      <td>...</td>\n",
              "      <td>...</td>\n",
              "      <td>...</td>\n",
              "      <td>...</td>\n",
              "      <td>...</td>\n",
              "      <td>...</td>\n",
              "      <td>...</td>\n",
              "      <td>...</td>\n",
              "    </tr>\n",
              "    <tr>\n",
              "      <th>9944</th>\n",
              "      <td>9945</td>\n",
              "      <td>15703923</td>\n",
              "      <td>Cameron</td>\n",
              "      <td>744</td>\n",
              "      <td>Germany</td>\n",
              "      <td>Male</td>\n",
              "      <td>41</td>\n",
              "      <td>NaN</td>\n",
              "      <td>190409.34</td>\n",
              "      <td>2</td>\n",
              "      <td>1</td>\n",
              "      <td>1</td>\n",
              "      <td>138361.48</td>\n",
              "      <td>0</td>\n",
              "    </tr>\n",
              "    <tr>\n",
              "      <th>9956</th>\n",
              "      <td>9957</td>\n",
              "      <td>15707861</td>\n",
              "      <td>Nucci</td>\n",
              "      <td>520</td>\n",
              "      <td>France</td>\n",
              "      <td>Female</td>\n",
              "      <td>46</td>\n",
              "      <td>NaN</td>\n",
              "      <td>85216.61</td>\n",
              "      <td>1</td>\n",
              "      <td>1</td>\n",
              "      <td>0</td>\n",
              "      <td>117369.52</td>\n",
              "      <td>1</td>\n",
              "    </tr>\n",
              "    <tr>\n",
              "      <th>9964</th>\n",
              "      <td>9965</td>\n",
              "      <td>15642785</td>\n",
              "      <td>Douglas</td>\n",
              "      <td>479</td>\n",
              "      <td>France</td>\n",
              "      <td>Male</td>\n",
              "      <td>34</td>\n",
              "      <td>NaN</td>\n",
              "      <td>117593.48</td>\n",
              "      <td>2</td>\n",
              "      <td>0</td>\n",
              "      <td>0</td>\n",
              "      <td>113308.29</td>\n",
              "      <td>0</td>\n",
              "    </tr>\n",
              "    <tr>\n",
              "      <th>9985</th>\n",
              "      <td>9986</td>\n",
              "      <td>15586914</td>\n",
              "      <td>Nepean</td>\n",
              "      <td>659</td>\n",
              "      <td>France</td>\n",
              "      <td>Male</td>\n",
              "      <td>36</td>\n",
              "      <td>NaN</td>\n",
              "      <td>123841.49</td>\n",
              "      <td>2</td>\n",
              "      <td>1</td>\n",
              "      <td>0</td>\n",
              "      <td>96833.00</td>\n",
              "      <td>0</td>\n",
              "    </tr>\n",
              "    <tr>\n",
              "      <th>9999</th>\n",
              "      <td>10000</td>\n",
              "      <td>15628319</td>\n",
              "      <td>Walker</td>\n",
              "      <td>792</td>\n",
              "      <td>France</td>\n",
              "      <td>Female</td>\n",
              "      <td>28</td>\n",
              "      <td>NaN</td>\n",
              "      <td>130142.79</td>\n",
              "      <td>1</td>\n",
              "      <td>1</td>\n",
              "      <td>0</td>\n",
              "      <td>38190.78</td>\n",
              "      <td>0</td>\n",
              "    </tr>\n",
              "  </tbody>\n",
              "</table>\n",
              "<p>909 rows × 14 columns</p>\n",
              "</div>"
            ],
            "text/plain": [
              "      rownumber  customerid    surname  creditscore geography  gender  age  \\\n",
              "30           31    15589475    Azikiwe          591     Spain  Female   39   \n",
              "48           49    15766205        Yin          550   Germany    Male   38   \n",
              "51           52    15768193  Trevisani          585   Germany    Male   36   \n",
              "53           54    15702298   Parkhill          655   Germany    Male   41   \n",
              "60           61    15651280     Hunter          742   Germany    Male   35   \n",
              "...         ...         ...        ...          ...       ...     ...  ...   \n",
              "9944       9945    15703923    Cameron          744   Germany    Male   41   \n",
              "9956       9957    15707861      Nucci          520    France  Female   46   \n",
              "9964       9965    15642785    Douglas          479    France    Male   34   \n",
              "9985       9986    15586914     Nepean          659    France    Male   36   \n",
              "9999      10000    15628319     Walker          792    France  Female   28   \n",
              "\n",
              "      tenure    balance  numofproducts  hascrcard  isactivemember  \\\n",
              "30       NaN       0.00              3          1               0   \n",
              "48       NaN  103391.38              1          0               1   \n",
              "51       NaN  146050.97              2          0               0   \n",
              "53       NaN  125561.97              1          0               0   \n",
              "60       NaN  136857.00              1          0               0   \n",
              "...      ...        ...            ...        ...             ...   \n",
              "9944     NaN  190409.34              2          1               1   \n",
              "9956     NaN   85216.61              1          1               0   \n",
              "9964     NaN  117593.48              2          0               0   \n",
              "9985     NaN  123841.49              2          1               0   \n",
              "9999     NaN  130142.79              1          1               0   \n",
              "\n",
              "      estimatedsalary  exited  \n",
              "30          140469.38       1  \n",
              "48           90878.13       0  \n",
              "51           86424.57       0  \n",
              "53          164040.94       1  \n",
              "60           84509.57       0  \n",
              "...               ...     ...  \n",
              "9944        138361.48       0  \n",
              "9956        117369.52       1  \n",
              "9964        113308.29       0  \n",
              "9985         96833.00       0  \n",
              "9999         38190.78       0  \n",
              "\n",
              "[909 rows x 14 columns]"
            ]
          },
          "execution_count": 14,
          "metadata": {},
          "output_type": "execute_result"
        }
      ],
      "source": [
        "df[df['tenure'].isna()]"
      ]
    },
    {
      "cell_type": "markdown",
      "metadata": {
        "id": "MEhqbJIKm2ZH"
      },
      "source": [
        "Итак, нужно принять решение что сделать с пропусками. Заменить на ноль, удалить или заполнить медианой.\n",
        "Если заменим на нули, это будет значить что гитотетически прирост клиентов в этом году составил 1291 клиента, почти 13%. Скорее всего тогда этой той бы задачи не было. Удалить 9% данных, может повлиять на анализ. Медиана равна 5 лет. Но решение принять надо. Или же рандомным методом и визуализируем."
      ]
    },
    {
      "cell_type": "code",
      "execution_count": null,
      "metadata": {
        "id": "OHgq3Zm6m2ZI"
      },
      "outputs": [],
      "source": [
        "#df.loc[df['tenure'].isna(), 'tenure'] = df['tenure'].apply(lambda x: np.random.randint(1, 11))\n",
        "df = df.dropna(subset=['tenure'])"
      ]
    },
    {
      "cell_type": "code",
      "execution_count": null,
      "metadata": {
        "id": "V2k5ylAHm2ZI",
        "outputId": "bc1dd5cd-cb38-4b6c-eb01-c21e4eade4df"
      },
      "outputs": [
        {
          "data": {
            "text/html": [
              "<div>\n",
              "<style scoped>\n",
              "    .dataframe tbody tr th:only-of-type {\n",
              "        vertical-align: middle;\n",
              "    }\n",
              "\n",
              "    .dataframe tbody tr th {\n",
              "        vertical-align: top;\n",
              "    }\n",
              "\n",
              "    .dataframe thead th {\n",
              "        text-align: right;\n",
              "    }\n",
              "</style>\n",
              "<table border=\"1\" class=\"dataframe\">\n",
              "  <thead>\n",
              "    <tr style=\"text-align: right;\">\n",
              "      <th></th>\n",
              "      <th>rownumber</th>\n",
              "      <th>customerid</th>\n",
              "      <th>surname</th>\n",
              "      <th>creditscore</th>\n",
              "      <th>geography</th>\n",
              "      <th>gender</th>\n",
              "      <th>age</th>\n",
              "      <th>tenure</th>\n",
              "      <th>balance</th>\n",
              "      <th>numofproducts</th>\n",
              "      <th>hascrcard</th>\n",
              "      <th>isactivemember</th>\n",
              "      <th>estimatedsalary</th>\n",
              "      <th>exited</th>\n",
              "    </tr>\n",
              "  </thead>\n",
              "  <tbody>\n",
              "  </tbody>\n",
              "</table>\n",
              "</div>"
            ],
            "text/plain": [
              "Empty DataFrame\n",
              "Columns: [rownumber, customerid, surname, creditscore, geography, gender, age, tenure, balance, numofproducts, hascrcard, isactivemember, estimatedsalary, exited]\n",
              "Index: []"
            ]
          },
          "execution_count": 16,
          "metadata": {},
          "output_type": "execute_result"
        }
      ],
      "source": [
        "df[df['tenure'].isna()]"
      ]
    },
    {
      "cell_type": "markdown",
      "metadata": {
        "id": "jJHuZUv3m2ZJ"
      },
      "source": [
        "Все нормально, код сработал."
      ]
    },
    {
      "cell_type": "code",
      "execution_count": null,
      "metadata": {
        "scrolled": true,
        "id": "84Lsn-KVm2ZJ",
        "outputId": "40f4358a-137b-489a-ea25-151880c5a428"
      },
      "outputs": [
        {
          "data": {
            "text/plain": [
              "<AxesSubplot:xlabel='tenure', ylabel='Count'>"
            ]
          },
          "execution_count": 17,
          "metadata": {},
          "output_type": "execute_result"
        },
        {
          "data": {
            "image/png": "[encoded data removed]",
            "text/plain": [
              "<Figure size 432x288 with 1 Axes>"
            ]
          },
          "metadata": {
            "needs_background": "light"
          },
          "output_type": "display_data"
        }
      ],
      "source": [
        "sns.histplot(df, x = 'tenure')"
      ]
    },
    {
      "cell_type": "markdown",
      "metadata": {
        "id": "jm6P3KrSm2ZJ"
      },
      "source": [
        "Похож на начальный график, скорее всего данные не сильно пострадали."
      ]
    },
    {
      "cell_type": "markdown",
      "metadata": {
        "id": "DzRZeCZtm2ZL"
      },
      "source": [
        "Удалим лишние столбцы из нашей таблицы."
      ]
    },
    {
      "cell_type": "code",
      "execution_count": null,
      "metadata": {
        "id": "mfQrYsZ_m2ZL"
      },
      "outputs": [],
      "source": [
        "df = df.drop(['rownumber', 'customerid', 'surname'], axis=1)\n"
      ]
    },
    {
      "cell_type": "code",
      "execution_count": null,
      "metadata": {
        "id": "wiSXyyK1m2Ze",
        "outputId": "9eea9f76-8765-47d5-c3e0-00456d859e0a"
      },
      "outputs": [
        {
          "data": {
            "text/html": [
              "<div>\n",
              "<style scoped>\n",
              "    .dataframe tbody tr th:only-of-type {\n",
              "        vertical-align: middle;\n",
              "    }\n",
              "\n",
              "    .dataframe tbody tr th {\n",
              "        vertical-align: top;\n",
              "    }\n",
              "\n",
              "    .dataframe thead th {\n",
              "        text-align: right;\n",
              "    }\n",
              "</style>\n",
              "<table border=\"1\" class=\"dataframe\">\n",
              "  <thead>\n",
              "    <tr style=\"text-align: right;\">\n",
              "      <th></th>\n",
              "      <th>creditscore</th>\n",
              "      <th>age</th>\n",
              "      <th>tenure</th>\n",
              "      <th>balance</th>\n",
              "      <th>numofproducts</th>\n",
              "      <th>hascrcard</th>\n",
              "      <th>isactivemember</th>\n",
              "      <th>estimatedsalary</th>\n",
              "      <th>exited</th>\n",
              "    </tr>\n",
              "  </thead>\n",
              "  <tbody>\n",
              "    <tr>\n",
              "      <th>creditscore</th>\n",
              "      <td>1.000000</td>\n",
              "      <td>-0.004504</td>\n",
              "      <td>-0.000062</td>\n",
              "      <td>0.002804</td>\n",
              "      <td>0.011090</td>\n",
              "      <td>-0.003937</td>\n",
              "      <td>0.030947</td>\n",
              "      <td>0.005182</td>\n",
              "      <td>-0.023950</td>\n",
              "    </tr>\n",
              "    <tr>\n",
              "      <th>age</th>\n",
              "      <td>-0.004504</td>\n",
              "      <td>1.000000</td>\n",
              "      <td>-0.013134</td>\n",
              "      <td>0.031481</td>\n",
              "      <td>-0.031877</td>\n",
              "      <td>-0.014129</td>\n",
              "      <td>0.082269</td>\n",
              "      <td>-0.007037</td>\n",
              "      <td>0.283017</td>\n",
              "    </tr>\n",
              "    <tr>\n",
              "      <th>tenure</th>\n",
              "      <td>-0.000062</td>\n",
              "      <td>-0.013134</td>\n",
              "      <td>1.000000</td>\n",
              "      <td>-0.007911</td>\n",
              "      <td>0.011979</td>\n",
              "      <td>0.027232</td>\n",
              "      <td>-0.032178</td>\n",
              "      <td>0.010520</td>\n",
              "      <td>-0.016761</td>\n",
              "    </tr>\n",
              "    <tr>\n",
              "      <th>balance</th>\n",
              "      <td>0.002804</td>\n",
              "      <td>0.031481</td>\n",
              "      <td>-0.007911</td>\n",
              "      <td>1.000000</td>\n",
              "      <td>-0.301858</td>\n",
              "      <td>-0.019055</td>\n",
              "      <td>-0.003285</td>\n",
              "      <td>0.014351</td>\n",
              "      <td>0.117218</td>\n",
              "    </tr>\n",
              "    <tr>\n",
              "      <th>numofproducts</th>\n",
              "      <td>0.011090</td>\n",
              "      <td>-0.031877</td>\n",
              "      <td>0.011979</td>\n",
              "      <td>-0.301858</td>\n",
              "      <td>1.000000</td>\n",
              "      <td>0.005805</td>\n",
              "      <td>0.009084</td>\n",
              "      <td>0.013990</td>\n",
              "      <td>-0.050271</td>\n",
              "    </tr>\n",
              "    <tr>\n",
              "      <th>hascrcard</th>\n",
              "      <td>-0.003937</td>\n",
              "      <td>-0.014129</td>\n",
              "      <td>0.027232</td>\n",
              "      <td>-0.019055</td>\n",
              "      <td>0.005805</td>\n",
              "      <td>1.000000</td>\n",
              "      <td>-0.008810</td>\n",
              "      <td>-0.006136</td>\n",
              "      <td>-0.005411</td>\n",
              "    </tr>\n",
              "    <tr>\n",
              "      <th>isactivemember</th>\n",
              "      <td>0.030947</td>\n",
              "      <td>0.082269</td>\n",
              "      <td>-0.032178</td>\n",
              "      <td>-0.003285</td>\n",
              "      <td>0.009084</td>\n",
              "      <td>-0.008810</td>\n",
              "      <td>1.000000</td>\n",
              "      <td>-0.020049</td>\n",
              "      <td>-0.155062</td>\n",
              "    </tr>\n",
              "    <tr>\n",
              "      <th>estimatedsalary</th>\n",
              "      <td>0.005182</td>\n",
              "      <td>-0.007037</td>\n",
              "      <td>0.010520</td>\n",
              "      <td>0.014351</td>\n",
              "      <td>0.013990</td>\n",
              "      <td>-0.006136</td>\n",
              "      <td>-0.020049</td>\n",
              "      <td>1.000000</td>\n",
              "      <td>0.016029</td>\n",
              "    </tr>\n",
              "    <tr>\n",
              "      <th>exited</th>\n",
              "      <td>-0.023950</td>\n",
              "      <td>0.283017</td>\n",
              "      <td>-0.016761</td>\n",
              "      <td>0.117218</td>\n",
              "      <td>-0.050271</td>\n",
              "      <td>-0.005411</td>\n",
              "      <td>-0.155062</td>\n",
              "      <td>0.016029</td>\n",
              "      <td>1.000000</td>\n",
              "    </tr>\n",
              "  </tbody>\n",
              "</table>\n",
              "</div>"
            ],
            "text/plain": [
              "                 creditscore       age    tenure   balance  numofproducts  \\\n",
              "creditscore         1.000000 -0.004504 -0.000062  0.002804       0.011090   \n",
              "age                -0.004504  1.000000 -0.013134  0.031481      -0.031877   \n",
              "tenure             -0.000062 -0.013134  1.000000 -0.007911       0.011979   \n",
              "balance             0.002804  0.031481 -0.007911  1.000000      -0.301858   \n",
              "numofproducts       0.011090 -0.031877  0.011979 -0.301858       1.000000   \n",
              "hascrcard          -0.003937 -0.014129  0.027232 -0.019055       0.005805   \n",
              "isactivemember      0.030947  0.082269 -0.032178 -0.003285       0.009084   \n",
              "estimatedsalary     0.005182 -0.007037  0.010520  0.014351       0.013990   \n",
              "exited             -0.023950  0.283017 -0.016761  0.117218      -0.050271   \n",
              "\n",
              "                 hascrcard  isactivemember  estimatedsalary    exited  \n",
              "creditscore      -0.003937        0.030947         0.005182 -0.023950  \n",
              "age              -0.014129        0.082269        -0.007037  0.283017  \n",
              "tenure            0.027232       -0.032178         0.010520 -0.016761  \n",
              "balance          -0.019055       -0.003285         0.014351  0.117218  \n",
              "numofproducts     0.005805        0.009084         0.013990 -0.050271  \n",
              "hascrcard         1.000000       -0.008810        -0.006136 -0.005411  \n",
              "isactivemember   -0.008810        1.000000        -0.020049 -0.155062  \n",
              "estimatedsalary  -0.006136       -0.020049         1.000000  0.016029  \n",
              "exited           -0.005411       -0.155062         0.016029  1.000000  "
            ]
          },
          "execution_count": 19,
          "metadata": {},
          "output_type": "execute_result"
        }
      ],
      "source": [
        "# Посчитаем корреляцию\n",
        "df.corr()"
      ]
    },
    {
      "cell_type": "markdown",
      "metadata": {
        "id": "HFM6Ttqkm2Zf"
      },
      "source": [
        "Корреляцию слабая.Выводы сделать тяжело."
      ]
    },
    {
      "cell_type": "code",
      "execution_count": null,
      "metadata": {
        "id": "4Y8K5WRzm2Zg",
        "outputId": "a1e83e02-baf5-4224-868b-fe4c412abfad"
      },
      "outputs": [
        {
          "name": "stdout",
          "output_type": "stream",
          "text": [
            "interval columns not set, guessing: ['creditscore', 'age', 'tenure', 'balance', 'numofproducts', 'hascrcard', 'isactivemember', 'estimatedsalary', 'exited']\n"
          ]
        },
        {
          "data": {
            "text/html": [
              "<div>\n",
              "<style scoped>\n",
              "    .dataframe tbody tr th:only-of-type {\n",
              "        vertical-align: middle;\n",
              "    }\n",
              "\n",
              "    .dataframe tbody tr th {\n",
              "        vertical-align: top;\n",
              "    }\n",
              "\n",
              "    .dataframe thead th {\n",
              "        text-align: right;\n",
              "    }\n",
              "</style>\n",
              "<table border=\"1\" class=\"dataframe\">\n",
              "  <thead>\n",
              "    <tr style=\"text-align: right;\">\n",
              "      <th></th>\n",
              "      <th>creditscore</th>\n",
              "      <th>geography</th>\n",
              "      <th>gender</th>\n",
              "      <th>age</th>\n",
              "      <th>tenure</th>\n",
              "      <th>balance</th>\n",
              "      <th>numofproducts</th>\n",
              "      <th>hascrcard</th>\n",
              "      <th>isactivemember</th>\n",
              "      <th>estimatedsalary</th>\n",
              "      <th>exited</th>\n",
              "    </tr>\n",
              "  </thead>\n",
              "  <tbody>\n",
              "    <tr>\n",
              "      <th>creditscore</th>\n",
              "      <td>1.00</td>\n",
              "      <td>0.05</td>\n",
              "      <td>0.00</td>\n",
              "      <td>0.00</td>\n",
              "      <td>0.00</td>\n",
              "      <td>0.00</td>\n",
              "      <td>0.04</td>\n",
              "      <td>0.01</td>\n",
              "      <td>0.04</td>\n",
              "      <td>0.04</td>\n",
              "      <td>0.09</td>\n",
              "    </tr>\n",
              "    <tr>\n",
              "      <th>geography</th>\n",
              "      <td>0.05</td>\n",
              "      <td>1.00</td>\n",
              "      <td>0.01</td>\n",
              "      <td>0.08</td>\n",
              "      <td>0.00</td>\n",
              "      <td>0.46</td>\n",
              "      <td>0.05</td>\n",
              "      <td>0.01</td>\n",
              "      <td>0.01</td>\n",
              "      <td>0.02</td>\n",
              "      <td>0.11</td>\n",
              "    </tr>\n",
              "    <tr>\n",
              "      <th>gender</th>\n",
              "      <td>0.00</td>\n",
              "      <td>0.01</td>\n",
              "      <td>1.00</td>\n",
              "      <td>0.03</td>\n",
              "      <td>0.03</td>\n",
              "      <td>0.01</td>\n",
              "      <td>0.07</td>\n",
              "      <td>0.00</td>\n",
              "      <td>0.04</td>\n",
              "      <td>0.03</td>\n",
              "      <td>0.17</td>\n",
              "    </tr>\n",
              "    <tr>\n",
              "      <th>age</th>\n",
              "      <td>0.00</td>\n",
              "      <td>0.08</td>\n",
              "      <td>0.03</td>\n",
              "      <td>1.00</td>\n",
              "      <td>0.05</td>\n",
              "      <td>0.03</td>\n",
              "      <td>0.14</td>\n",
              "      <td>0.03</td>\n",
              "      <td>0.19</td>\n",
              "      <td>0.06</td>\n",
              "      <td>0.49</td>\n",
              "    </tr>\n",
              "    <tr>\n",
              "      <th>tenure</th>\n",
              "      <td>0.00</td>\n",
              "      <td>0.00</td>\n",
              "      <td>0.03</td>\n",
              "      <td>0.05</td>\n",
              "      <td>1.00</td>\n",
              "      <td>0.06</td>\n",
              "      <td>0.06</td>\n",
              "      <td>0.03</td>\n",
              "      <td>0.03</td>\n",
              "      <td>0.00</td>\n",
              "      <td>0.02</td>\n",
              "    </tr>\n",
              "    <tr>\n",
              "      <th>balance</th>\n",
              "      <td>0.00</td>\n",
              "      <td>0.46</td>\n",
              "      <td>0.01</td>\n",
              "      <td>0.03</td>\n",
              "      <td>0.06</td>\n",
              "      <td>1.00</td>\n",
              "      <td>0.37</td>\n",
              "      <td>0.05</td>\n",
              "      <td>0.00</td>\n",
              "      <td>0.00</td>\n",
              "      <td>0.19</td>\n",
              "    </tr>\n",
              "    <tr>\n",
              "      <th>numofproducts</th>\n",
              "      <td>0.04</td>\n",
              "      <td>0.05</td>\n",
              "      <td>0.07</td>\n",
              "      <td>0.14</td>\n",
              "      <td>0.06</td>\n",
              "      <td>0.37</td>\n",
              "      <td>1.00</td>\n",
              "      <td>0.00</td>\n",
              "      <td>0.06</td>\n",
              "      <td>0.03</td>\n",
              "      <td>0.56</td>\n",
              "    </tr>\n",
              "    <tr>\n",
              "      <th>hascrcard</th>\n",
              "      <td>0.01</td>\n",
              "      <td>0.01</td>\n",
              "      <td>0.00</td>\n",
              "      <td>0.03</td>\n",
              "      <td>0.03</td>\n",
              "      <td>0.05</td>\n",
              "      <td>0.00</td>\n",
              "      <td>1.00</td>\n",
              "      <td>0.00</td>\n",
              "      <td>0.00</td>\n",
              "      <td>0.00</td>\n",
              "    </tr>\n",
              "    <tr>\n",
              "      <th>isactivemember</th>\n",
              "      <td>0.04</td>\n",
              "      <td>0.01</td>\n",
              "      <td>0.04</td>\n",
              "      <td>0.19</td>\n",
              "      <td>0.03</td>\n",
              "      <td>0.00</td>\n",
              "      <td>0.06</td>\n",
              "      <td>0.00</td>\n",
              "      <td>1.00</td>\n",
              "      <td>0.04</td>\n",
              "      <td>0.24</td>\n",
              "    </tr>\n",
              "    <tr>\n",
              "      <th>estimatedsalary</th>\n",
              "      <td>0.04</td>\n",
              "      <td>0.02</td>\n",
              "      <td>0.03</td>\n",
              "      <td>0.06</td>\n",
              "      <td>0.00</td>\n",
              "      <td>0.00</td>\n",
              "      <td>0.03</td>\n",
              "      <td>0.00</td>\n",
              "      <td>0.04</td>\n",
              "      <td>1.00</td>\n",
              "      <td>0.00</td>\n",
              "    </tr>\n",
              "    <tr>\n",
              "      <th>exited</th>\n",
              "      <td>0.09</td>\n",
              "      <td>0.11</td>\n",
              "      <td>0.17</td>\n",
              "      <td>0.49</td>\n",
              "      <td>0.02</td>\n",
              "      <td>0.19</td>\n",
              "      <td>0.56</td>\n",
              "      <td>0.00</td>\n",
              "      <td>0.24</td>\n",
              "      <td>0.00</td>\n",
              "      <td>1.00</td>\n",
              "    </tr>\n",
              "  </tbody>\n",
              "</table>\n",
              "</div>"
            ],
            "text/plain": [
              "                 creditscore  geography  gender   age  tenure  balance  \\\n",
              "creditscore             1.00       0.05    0.00  0.00    0.00     0.00   \n",
              "geography               0.05       1.00    0.01  0.08    0.00     0.46   \n",
              "gender                  0.00       0.01    1.00  0.03    0.03     0.01   \n",
              "age                     0.00       0.08    0.03  1.00    0.05     0.03   \n",
              "tenure                  0.00       0.00    0.03  0.05    1.00     0.06   \n",
              "balance                 0.00       0.46    0.01  0.03    0.06     1.00   \n",
              "numofproducts           0.04       0.05    0.07  0.14    0.06     0.37   \n",
              "hascrcard               0.01       0.01    0.00  0.03    0.03     0.05   \n",
              "isactivemember          0.04       0.01    0.04  0.19    0.03     0.00   \n",
              "estimatedsalary         0.04       0.02    0.03  0.06    0.00     0.00   \n",
              "exited                  0.09       0.11    0.17  0.49    0.02     0.19   \n",
              "\n",
              "                 numofproducts  hascrcard  isactivemember  estimatedsalary  \\\n",
              "creditscore               0.04       0.01            0.04             0.04   \n",
              "geography                 0.05       0.01            0.01             0.02   \n",
              "gender                    0.07       0.00            0.04             0.03   \n",
              "age                       0.14       0.03            0.19             0.06   \n",
              "tenure                    0.06       0.03            0.03             0.00   \n",
              "balance                   0.37       0.05            0.00             0.00   \n",
              "numofproducts             1.00       0.00            0.06             0.03   \n",
              "hascrcard                 0.00       1.00            0.00             0.00   \n",
              "isactivemember            0.06       0.00            1.00             0.04   \n",
              "estimatedsalary           0.03       0.00            0.04             1.00   \n",
              "exited                    0.56       0.00            0.24             0.00   \n",
              "\n",
              "                 exited  \n",
              "creditscore        0.09  \n",
              "geography          0.11  \n",
              "gender             0.17  \n",
              "age                0.49  \n",
              "tenure             0.02  \n",
              "balance            0.19  \n",
              "numofproducts      0.56  \n",
              "hascrcard          0.00  \n",
              "isactivemember     0.24  \n",
              "estimatedsalary    0.00  \n",
              "exited             1.00  "
            ]
          },
          "execution_count": 20,
          "metadata": {},
          "output_type": "execute_result"
        }
      ],
      "source": [
        "# применим phik_matrix\n",
        "phik_overview = df.phik_matrix()\n",
        "phik_overview.round(2)"
      ]
    },
    {
      "cell_type": "markdown",
      "metadata": {
        "id": "cCDWvhSsm2Zh"
      },
      "source": [
        "В данном методе зависимости так же не значительные. Хотя есть и интересные такие как \"факт ухода клиента\" между возрастом и количеством продуктов банка, используемых клиентом."
      ]
    },
    {
      "cell_type": "markdown",
      "metadata": {
        "id": "gArq0VO5m2Zi"
      },
      "source": [
        "## Исследование задачи"
      ]
    },
    {
      "cell_type": "code",
      "execution_count": null,
      "metadata": {
        "id": "Nw6t5plVm2Zi",
        "outputId": "6fef495b-e6e1-4633-9b35-2458ff678caa"
      },
      "outputs": [
        {
          "name": "stdout",
          "output_type": "stream",
          "text": [
            "<class 'pandas.core.frame.DataFrame'>\n",
            "Int64Index: 9091 entries, 0 to 9998\n",
            "Data columns (total 11 columns):\n",
            " #   Column           Non-Null Count  Dtype  \n",
            "---  ------           --------------  -----  \n",
            " 0   creditscore      9091 non-null   int64  \n",
            " 1   geography        9091 non-null   object \n",
            " 2   gender           9091 non-null   object \n",
            " 3   age              9091 non-null   int64  \n",
            " 4   tenure           9091 non-null   float64\n",
            " 5   balance          9091 non-null   float64\n",
            " 6   numofproducts    9091 non-null   int64  \n",
            " 7   hascrcard        9091 non-null   int64  \n",
            " 8   isactivemember   9091 non-null   int64  \n",
            " 9   estimatedsalary  9091 non-null   float64\n",
            " 10  exited           9091 non-null   int64  \n",
            "dtypes: float64(3), int64(6), object(2)\n",
            "memory usage: 852.3+ KB\n"
          ]
        }
      ],
      "source": [
        "# Еще раз проверим наши данные\n",
        "df.info()"
      ]
    },
    {
      "cell_type": "markdown",
      "metadata": {
        "id": "cKm2mPL1m2Zj"
      },
      "source": [
        "Все нормально, идем дальше."
      ]
    },
    {
      "cell_type": "code",
      "execution_count": null,
      "metadata": {
        "id": "sHeGp3h9m2Zk",
        "outputId": "1a688db5-84d9-42e2-faec-9e8753a3dd3e"
      },
      "outputs": [
        {
          "data": {
            "text/plain": [
              "France     4550\n",
              "Germany    2293\n",
              "Spain      2248\n",
              "Name: geography, dtype: int64"
            ]
          },
          "execution_count": 22,
          "metadata": {},
          "output_type": "execute_result"
        }
      ],
      "source": [
        "df['geography'].value_counts()"
      ]
    },
    {
      "cell_type": "code",
      "execution_count": null,
      "metadata": {
        "id": "Elhq3kOEm2Zk",
        "outputId": "0928d3e0-661e-4652-cde5-0f2d288b3d8e"
      },
      "outputs": [
        {
          "data": {
            "text/plain": [
              "Male      4974\n",
              "Female    4117\n",
              "Name: gender, dtype: int64"
            ]
          },
          "execution_count": 23,
          "metadata": {},
          "output_type": "execute_result"
        }
      ],
      "source": [
        "df['gender'].value_counts()"
      ]
    },
    {
      "cell_type": "code",
      "execution_count": null,
      "metadata": {
        "id": "6N-tWm3Zm2Zl",
        "outputId": "8ef06f9c-05a1-46ec-c87f-426a946d7d4b"
      },
      "outputs": [
        {
          "data": {
            "text/html": [
              "<div>\n",
              "<style scoped>\n",
              "    .dataframe tbody tr th:only-of-type {\n",
              "        vertical-align: middle;\n",
              "    }\n",
              "\n",
              "    .dataframe tbody tr th {\n",
              "        vertical-align: top;\n",
              "    }\n",
              "\n",
              "    .dataframe thead th {\n",
              "        text-align: right;\n",
              "    }\n",
              "</style>\n",
              "<table border=\"1\" class=\"dataframe\">\n",
              "  <thead>\n",
              "    <tr style=\"text-align: right;\">\n",
              "      <th></th>\n",
              "      <th>creditscore</th>\n",
              "      <th>age</th>\n",
              "      <th>tenure</th>\n",
              "      <th>balance</th>\n",
              "      <th>numofproducts</th>\n",
              "      <th>hascrcard</th>\n",
              "      <th>isactivemember</th>\n",
              "      <th>estimatedsalary</th>\n",
              "      <th>exited</th>\n",
              "      <th>geography_Germany</th>\n",
              "      <th>geography_Spain</th>\n",
              "      <th>gender_Male</th>\n",
              "    </tr>\n",
              "  </thead>\n",
              "  <tbody>\n",
              "    <tr>\n",
              "      <th>0</th>\n",
              "      <td>619</td>\n",
              "      <td>42</td>\n",
              "      <td>2.0</td>\n",
              "      <td>0.00</td>\n",
              "      <td>1</td>\n",
              "      <td>1</td>\n",
              "      <td>1</td>\n",
              "      <td>101348.88</td>\n",
              "      <td>1</td>\n",
              "      <td>0</td>\n",
              "      <td>0</td>\n",
              "      <td>0</td>\n",
              "    </tr>\n",
              "    <tr>\n",
              "      <th>1</th>\n",
              "      <td>608</td>\n",
              "      <td>41</td>\n",
              "      <td>1.0</td>\n",
              "      <td>83807.86</td>\n",
              "      <td>1</td>\n",
              "      <td>0</td>\n",
              "      <td>1</td>\n",
              "      <td>112542.58</td>\n",
              "      <td>0</td>\n",
              "      <td>0</td>\n",
              "      <td>1</td>\n",
              "      <td>0</td>\n",
              "    </tr>\n",
              "    <tr>\n",
              "      <th>2</th>\n",
              "      <td>502</td>\n",
              "      <td>42</td>\n",
              "      <td>8.0</td>\n",
              "      <td>159660.80</td>\n",
              "      <td>3</td>\n",
              "      <td>1</td>\n",
              "      <td>0</td>\n",
              "      <td>113931.57</td>\n",
              "      <td>1</td>\n",
              "      <td>0</td>\n",
              "      <td>0</td>\n",
              "      <td>0</td>\n",
              "    </tr>\n",
              "  </tbody>\n",
              "</table>\n",
              "</div>"
            ],
            "text/plain": [
              "   creditscore  age  tenure    balance  numofproducts  hascrcard  \\\n",
              "0          619   42     2.0       0.00              1          1   \n",
              "1          608   41     1.0   83807.86              1          0   \n",
              "2          502   42     8.0  159660.80              3          1   \n",
              "\n",
              "   isactivemember  estimatedsalary  exited  geography_Germany  \\\n",
              "0               1        101348.88       1                  0   \n",
              "1               1        112542.58       0                  0   \n",
              "2               0        113931.57       1                  0   \n",
              "\n",
              "   geography_Spain  gender_Male  \n",
              "0                0            0  \n",
              "1                1            0  \n",
              "2                0            0  "
            ]
          },
          "execution_count": 24,
          "metadata": {},
          "output_type": "execute_result"
        }
      ],
      "source": [
        "# Переведем к бинарному виду\n",
        "df = pd.get_dummies(df, drop_first= True)\n",
        "df.head(3)"
      ]
    },
    {
      "cell_type": "code",
      "execution_count": null,
      "metadata": {
        "id": "u7-4QoXum2Zn",
        "outputId": "7321841d-a114-429d-c35f-279d5b8dfdcb"
      },
      "outputs": [
        {
          "data": {
            "text/html": [
              "<div>\n",
              "<style scoped>\n",
              "    .dataframe tbody tr th:only-of-type {\n",
              "        vertical-align: middle;\n",
              "    }\n",
              "\n",
              "    .dataframe tbody tr th {\n",
              "        vertical-align: top;\n",
              "    }\n",
              "\n",
              "    .dataframe thead th {\n",
              "        text-align: right;\n",
              "    }\n",
              "</style>\n",
              "<table border=\"1\" class=\"dataframe\">\n",
              "  <thead>\n",
              "    <tr style=\"text-align: right;\">\n",
              "      <th></th>\n",
              "      <th>creditscore</th>\n",
              "      <th>age</th>\n",
              "      <th>tenure</th>\n",
              "      <th>balance</th>\n",
              "      <th>numofproducts</th>\n",
              "      <th>hascrcard</th>\n",
              "      <th>isactivemember</th>\n",
              "      <th>estimatedsalary</th>\n",
              "      <th>exited</th>\n",
              "      <th>geography_germany</th>\n",
              "      <th>geography_spain</th>\n",
              "      <th>gender_male</th>\n",
              "    </tr>\n",
              "  </thead>\n",
              "  <tbody>\n",
              "    <tr>\n",
              "      <th>0</th>\n",
              "      <td>619</td>\n",
              "      <td>42</td>\n",
              "      <td>2.0</td>\n",
              "      <td>0.00</td>\n",
              "      <td>1</td>\n",
              "      <td>1</td>\n",
              "      <td>1</td>\n",
              "      <td>101348.88</td>\n",
              "      <td>1</td>\n",
              "      <td>0</td>\n",
              "      <td>0</td>\n",
              "      <td>0</td>\n",
              "    </tr>\n",
              "    <tr>\n",
              "      <th>1</th>\n",
              "      <td>608</td>\n",
              "      <td>41</td>\n",
              "      <td>1.0</td>\n",
              "      <td>83807.86</td>\n",
              "      <td>1</td>\n",
              "      <td>0</td>\n",
              "      <td>1</td>\n",
              "      <td>112542.58</td>\n",
              "      <td>0</td>\n",
              "      <td>0</td>\n",
              "      <td>1</td>\n",
              "      <td>0</td>\n",
              "    </tr>\n",
              "    <tr>\n",
              "      <th>2</th>\n",
              "      <td>502</td>\n",
              "      <td>42</td>\n",
              "      <td>8.0</td>\n",
              "      <td>159660.80</td>\n",
              "      <td>3</td>\n",
              "      <td>1</td>\n",
              "      <td>0</td>\n",
              "      <td>113931.57</td>\n",
              "      <td>1</td>\n",
              "      <td>0</td>\n",
              "      <td>0</td>\n",
              "      <td>0</td>\n",
              "    </tr>\n",
              "  </tbody>\n",
              "</table>\n",
              "</div>"
            ],
            "text/plain": [
              "   creditscore  age  tenure    balance  numofproducts  hascrcard  \\\n",
              "0          619   42     2.0       0.00              1          1   \n",
              "1          608   41     1.0   83807.86              1          0   \n",
              "2          502   42     8.0  159660.80              3          1   \n",
              "\n",
              "   isactivemember  estimatedsalary  exited  geography_germany  \\\n",
              "0               1        101348.88       1                  0   \n",
              "1               1        112542.58       0                  0   \n",
              "2               0        113931.57       1                  0   \n",
              "\n",
              "   geography_spain  gender_male  \n",
              "0                0            0  \n",
              "1                1            0  \n",
              "2                0            0  "
            ]
          },
          "execution_count": 25,
          "metadata": {},
          "output_type": "execute_result"
        }
      ],
      "source": [
        "# появились новые столбцы, переведем к единому виду.\n",
        "df.columns = df.columns.str.lower().str.replace(' ', '_').str.replace(',', '_')\n",
        "df.head(3)"
      ]
    },
    {
      "cell_type": "markdown",
      "metadata": {
        "id": "icZ6fXvtm2Zo"
      },
      "source": [
        "Раздели на три выборки: обучающая, валидационная, тестовая (60/20/20)"
      ]
    },
    {
      "cell_type": "code",
      "execution_count": null,
      "metadata": {
        "id": "GfXPvfism2Zp"
      },
      "outputs": [],
      "source": [
        "features = df.drop('exited', axis=1)\n",
        "target = df['exited']"
      ]
    },
    {
      "cell_type": "code",
      "execution_count": null,
      "metadata": {
        "id": "rGbaVCUPm2Zq",
        "outputId": "3c6210cf-f5e2-4fb8-8578-c9ca42b9d225"
      },
      "outputs": [
        {
          "name": "stdout",
          "output_type": "stream",
          "text": [
            "Обучающая выборка     _train (5454, 11)\n",
            "Валидационная выборка _valid (1818, 11)\n",
            "Тестовая выборка       _test (1819, 11)\n"
          ]
        }
      ],
      "source": [
        "features_train, features_temp, target_train, target_temp = train_test_split(features, target, test_size=0.4, random_state=12345)\n",
        "\n",
        "features_valid, features_test, target_valid, target_test = train_test_split(features_temp, target_temp, test_size=0.5, random_state=12345)\n",
        "\n",
        "print('Обучающая выборка     _train', features_train.shape)\n",
        "print('Валидационная выборка _valid', features_valid.shape)\n",
        "print('Тестовая выборка       _test', features_test.shape)"
      ]
    },
    {
      "cell_type": "markdown",
      "metadata": {
        "id": "4-m4ytr4m2Zq"
      },
      "source": [
        "### Масштабируем признаки"
      ]
    },
    {
      "cell_type": "code",
      "execution_count": null,
      "metadata": {
        "id": "mAyBH1nDm2Zr"
      },
      "outputs": [],
      "source": [
        "numeric=['creditscore', 'age', 'tenure', 'balance', 'numofproducts', 'hascrcard', 'isactivemember']\n",
        "scaler=StandardScaler()\n",
        "scaler.fit(features_train[numeric])\n",
        "features_train[numeric]=scaler.transform(features_train[numeric])\n",
        "features_valid[numeric]=scaler.transform(features_valid[numeric])\n",
        "features_test[numeric]=scaler.transform(features_test[numeric])"
      ]
    },
    {
      "cell_type": "markdown",
      "metadata": {
        "id": "KXqsDcNWm2Zs"
      },
      "source": [
        "Все получилось, идем дальше."
      ]
    },
    {
      "cell_type": "markdown",
      "metadata": {
        "id": "HDvDZzTBm2Zt"
      },
      "source": [
        "### Рассчитаем Accuracy"
      ]
    },
    {
      "cell_type": "code",
      "execution_count": null,
      "metadata": {
        "id": "heMGFBlnm2Zt",
        "outputId": "31c3ebaa-eedf-4f68-e988-02ae80839995"
      },
      "outputs": [
        {
          "name": "stdout",
          "output_type": "stream",
          "text": [
            "Accuracy лучшей модели: 0.8586358635863587 Глубина дерева: 6 Максимальная глубина: 9\n"
          ]
        }
      ],
      "source": [
        "best_model = None\n",
        "best_result = 0\n",
        "best_depth = 0\n",
        "\n",
        "for depth in range(1, 10):\n",
        "    model_dtc1 = DecisionTreeClassifier(max_depth=depth,random_state=1234) # инициализирум модель DecisionTreeClassifier с параметром random_state=12345 и max_depth=depth\n",
        "    model_dtc1.fit(features_train, target_train) # обучим модель на тренировочной выборке\n",
        "\n",
        "    predictions_valid_dtc = model_dtc1.predict(features_valid) # предсказания модели на валидационной выборке\n",
        "    result = accuracy_score(predictions_valid_dtc, target_valid) # качество модели\n",
        "\n",
        "    if result > best_result:\n",
        "        best_model = model_dtc1\n",
        "        best_result = result\n",
        "        best_depth = depth\n",
        "\n",
        "\n",
        "print(\"Accuracy лучшей модели:\", best_result, \"Глубина дерева:\", best_depth, \"Максимальная глубина:\", depth)\n"
      ]
    },
    {
      "cell_type": "code",
      "execution_count": null,
      "metadata": {
        "id": "0P2ZXnL6m2Zv",
        "outputId": "5414a0da-f04c-4a49-f807-0faa8bc676ce"
      },
      "outputs": [
        {
          "name": "stdout",
          "output_type": "stream",
          "text": [
            "Accuracy наилучшей модели на валидационной выборке: 0.8646864686468647 Количество деревьев: 14 Максимальная глубина: 14\n"
          ]
        }
      ],
      "source": [
        "best_model = None\n",
        "best_result = 0\n",
        "best_est = 0\n",
        "best_depth = 0\n",
        "\n",
        "for est in range(1, 15):\n",
        "    for depth in range (1, 15):\n",
        "        model_rfc1 = RandomForestClassifier(random_state=12345, n_estimators=est, max_depth=depth) # инициализируйте модель RandomForestRegressor с параметрами random_state=12345, n_estimators=est и max_depth=depth\n",
        "        model_rfc1.fit(features_train, target_train) # обучите модель на тренировочной выборке\n",
        "\n",
        "        predictions_valid_rfc = model_rfc1.predict(features_valid) # получите предсказания модели на валидационной выборке\n",
        "        result = accuracy_score(predictions_valid_rfc, target_valid)\n",
        "\n",
        "        if result > best_result:\n",
        "            best_model = model_rfc1\n",
        "            best_result = result\n",
        "            best_est = est\n",
        "            best_depth = depth\n",
        "\n",
        "print(\"Accuracy наилучшей модели на валидационной выборке:\", best_result, \"Количество деревьев:\", best_est, \"Максимальная глубина:\", depth)"
      ]
    },
    {
      "cell_type": "code",
      "execution_count": null,
      "metadata": {
        "id": "f4SvbhmMm2Zw",
        "outputId": "c4f92eab-ec0f-4c0b-bb3d-b2006c12aa0a"
      },
      "outputs": [
        {
          "name": "stdout",
          "output_type": "stream",
          "text": [
            "Логистическая регрессия: 0.7926292629262927\n"
          ]
        }
      ],
      "source": [
        "model_lr1 = LogisticRegression(random_state=12345, solver='lbfgs', max_iter=1000)\n",
        "model_lr1.fit(features_train, target_train)\n",
        "prediction_valid_lr = model_lr1.predict(features_valid)\n",
        "accuracy = accuracy_score(prediction_valid_lr, target_valid)\n",
        "\n",
        "print(\"Логистическая регрессия:\", accuracy)"
      ]
    },
    {
      "cell_type": "markdown",
      "metadata": {
        "id": "RRqsJZltm2Zx"
      },
      "source": [
        "Слишком большие значения. Было бы замеательно если это была правда."
      ]
    },
    {
      "cell_type": "markdown",
      "metadata": {
        "id": "EHrJwuKxm2Z1"
      },
      "source": [
        "### Рассчитаем auc-roc"
      ]
    },
    {
      "cell_type": "code",
      "execution_count": null,
      "metadata": {
        "id": "26749c_vm2Z2",
        "outputId": "c259fb36-76d8-4930-9a63-f979dd41da86"
      },
      "outputs": [
        {
          "data": {
            "text/plain": [
              "0.8012800571368616"
            ]
          },
          "execution_count": 32,
          "metadata": {},
          "output_type": "execute_result"
        }
      ],
      "source": [
        "model_dtc1_ar = model_dtc1.predict_proba(features_valid)\n",
        "model_dtc1_ar_valid = model_dtc1_ar[:,1]\n",
        "fpr_dtc1, tpr_dtc1, thresholds = roc_curve(target_valid, model_dtc1_ar_valid)\n",
        "\n",
        "auc_roc_dtc1 = roc_auc_score(target_valid, model_dtc1_ar_valid)\n",
        "\n",
        "auc_roc_dtc1"
      ]
    },
    {
      "cell_type": "code",
      "execution_count": null,
      "metadata": {
        "id": "g30PNrnGm2Z2",
        "outputId": "73221482-7cd1-46c7-a994-55b821240fcb"
      },
      "outputs": [
        {
          "data": {
            "text/plain": [
              "0.844729106113681"
            ]
          },
          "execution_count": 33,
          "metadata": {},
          "output_type": "execute_result"
        }
      ],
      "source": [
        "model_rfc1_ar = model_rfc1.predict_proba(features_valid)\n",
        "model_rfc1_ar_valid = model_rfc1_ar[:,1]\n",
        "fpr_rfc1, tpr_rfc1, thresholds = roc_curve(target_valid, model_rfc1_ar_valid)\n",
        "\n",
        "auc_roc_rfc1 = roc_auc_score(target_valid, model_rfc1_ar_valid)\n",
        "\n",
        "auc_roc_rfc1"
      ]
    },
    {
      "cell_type": "code",
      "execution_count": null,
      "metadata": {
        "id": "Ko44rSDgm2Z3",
        "outputId": "8ae958f6-52d9-4a88-b249-2707951a2fab"
      },
      "outputs": [
        {
          "data": {
            "text/plain": [
              "0.5048163208205325"
            ]
          },
          "execution_count": 34,
          "metadata": {},
          "output_type": "execute_result"
        }
      ],
      "source": [
        "model_lr1_ar = model_lr1.predict_proba(features_valid)\n",
        "model_lr1_ar_valid = model_lr1_ar[:,1]\n",
        "fpr_lr1, tpr_lr1, thresholds = roc_curve(target_valid, model_lr1_ar_valid)\n",
        "\n",
        "auc_roc_lr1 = roc_auc_score(target_valid, model_lr1_ar_valid)\n",
        "\n",
        "auc_roc_lr1"
      ]
    },
    {
      "cell_type": "code",
      "execution_count": null,
      "metadata": {
        "id": "1B7q7BYSm2Z4",
        "outputId": "e9534158-b4a4-4532-f234-d19ee33e90ad"
      },
      "outputs": [
        {
          "data": {
            "text/plain": [
              "<Figure size 432x288 with 0 Axes>"
            ]
          },
          "metadata": {},
          "output_type": "display_data"
        },
        {
          "data": {
            "image/png": "[encoded data removed]",
            "text/plain": [
              "<Figure size 1080x720 with 1 Axes>"
            ]
          },
          "metadata": {
            "needs_background": "light"
          },
          "output_type": "display_data"
        }
      ],
      "source": [
        "plt.figure()\n",
        "\n",
        "plt.figure(figsize=(15,10))\n",
        "plt.plot([0, 1], [0, 1], linestyle='--')\n",
        "plt.xlim([0.0, 1.0])\n",
        "plt.ylim([0.0, 1.0])\n",
        "plt.plot(fpr_lr1, tpr_lr1)\n",
        "plt.plot(fpr_dtc1, tpr_dtc1)\n",
        "plt.plot(fpr_rfc1, tpr_rfc1)\n",
        "plt.xlabel('False Positive Rate')\n",
        "plt.ylabel('True Positive Rate')\n",
        "plt.title('ROC-кривая')\n",
        "plt.legend(('Случайная модель', 'Логистическая регрессия', 'Дерево решения', 'Случайный лес'), loc= 'upper left')\n",
        "plt.show()"
      ]
    },
    {
      "cell_type": "markdown",
      "metadata": {
        "id": "dDV2dHjDm2Z5"
      },
      "source": [
        "Случайный лес стремиться ближе к 1 чем остальные методы."
      ]
    },
    {
      "cell_type": "markdown",
      "metadata": {
        "id": "wiQDB5Xnm2Z6"
      },
      "source": [
        "### Рассчитаем F1 мерики"
      ]
    },
    {
      "cell_type": "code",
      "execution_count": null,
      "metadata": {
        "scrolled": true,
        "id": "_cRVmMr7m2Z6",
        "outputId": "97a469b6-54a3-4b7d-979c-7704695929e0"
      },
      "outputs": [
        {
          "name": "stdout",
          "output_type": "stream",
          "text": [
            "best_depth: 7 F1: 0.5764331210191083\n"
          ]
        }
      ],
      "source": [
        "# Дерево решений model = DecisionTreeClassifier\n",
        "\n",
        "best_result_dtc = 0\n",
        "\n",
        "for depth in range(1,50):\n",
        "    model_tree = DecisionTreeClassifier(max_depth= depth, random_state=12345).fit(features_train, target_train)\n",
        "    prediction = model_tree.predict(features_valid)\n",
        "\n",
        "    result_dtc = f1_score(target_valid, prediction)\n",
        "    if result_dtc > best_result_dtc:\n",
        "            best_result_dtc = result_dtc\n",
        "            best_depth = depth\n",
        "\n",
        "\n",
        "print('best_depth:', best_depth,'F1:', best_result_dtc)\n"
      ]
    },
    {
      "cell_type": "code",
      "execution_count": null,
      "metadata": {
        "id": "rMna_07Lm2Z7",
        "outputId": "93806168-b320-425f-cd17-695f4283448f"
      },
      "outputs": [
        {
          "name": "stdout",
          "output_type": "stream",
          "text": [
            "F1: 0.594855305466238 best_depth: 18 best_estim: 40\n"
          ]
        }
      ],
      "source": [
        "best_result_rfc = 0\n",
        "\n",
        "for depth in range(2,21,2):\n",
        "    for estim in range(10,101,10):\n",
        "        model_forest = RandomForestClassifier(max_depth = depth , n_estimators=estim, random_state=12345).fit(features_train, target_train)\n",
        "        prediction = model_forest.predict(features_valid)\n",
        "        result_rfc = f1_score(target_valid, prediction)\n",
        "        if result_rfc > best_result_rfc:\n",
        "            best_result_rfc = result_rfc\n",
        "            best_depth = depth\n",
        "            best_estim = estim\n",
        "\n",
        "print('F1:', best_result_rfc, 'best_depth:', best_depth, 'best_estim:', best_estim)\n"
      ]
    },
    {
      "cell_type": "code",
      "execution_count": null,
      "metadata": {
        "id": "W7QKQJO-m2Z8",
        "outputId": "5bf6507e-7021-4d1e-aced-1afd7c4d638f"
      },
      "outputs": [
        {
          "name": "stdout",
          "output_type": "stream",
          "text": [
            "F1: 0.0\n"
          ]
        }
      ],
      "source": [
        "\n",
        "\n",
        "model_lr = LogisticRegression(solver='liblinear')\n",
        "model_lr.fit(features_train, target_train)\n",
        "\n",
        "prediction = model_lr.predict(features_valid)\n",
        "result_lr = f1_score(target_valid, prediction)\n",
        "\n",
        "print('F1:', result_lr)\n",
        "\n"
      ]
    },
    {
      "cell_type": "markdown",
      "metadata": {
        "id": "KHIlWG9gm2Z8"
      },
      "source": [
        "Модель Случайного леса показала наилучший результат, а логистическая регрессия показала 0. Это странно."
      ]
    },
    {
      "cell_type": "markdown",
      "metadata": {
        "id": "WS6LeqALm2Z9"
      },
      "source": [
        "### Посмотрим на дисбаланс"
      ]
    },
    {
      "cell_type": "code",
      "execution_count": null,
      "metadata": {
        "scrolled": true,
        "id": "fE2fHaJqm2Z-",
        "outputId": "0c240e1b-1e0a-4f0e-eb00-600e6cbdd412"
      },
      "outputs": [
        {
          "name": "stdout",
          "output_type": "stream",
          "text": [
            "0    0.796062\n",
            "1    0.203938\n",
            "Name: exited, dtype: float64\n"
          ]
        },
        {
          "data": {
            "text/plain": [
              "Text(0.5, 1.0, 'Доля классов целевого признака')"
            ]
          },
          "execution_count": 39,
          "metadata": {},
          "output_type": "execute_result"
        },
        {
          "data": {
            "image/png": "[encoded data removed]",
            "text/plain": [
              "<Figure size 216x216 with 1 Axes>"
            ]
          },
          "metadata": {
            "needs_background": "light"
          },
          "output_type": "display_data"
        }
      ],
      "source": [
        "class_frequency = df['exited'].value_counts(normalize=True)\n",
        "print(class_frequency)\n",
        "\n",
        "class_frequency.plot(kind='bar', grid=True, figsize=(3, 3))\n",
        "plt.xlabel('Класс')\n",
        "plt.ylabel('Доля')\n",
        "plt.title('Доля классов целевого признака')"
      ]
    },
    {
      "cell_type": "markdown",
      "metadata": {
        "id": "PejRJu6zm2Z-"
      },
      "source": [
        "Почти в 4 раз. Впечатляет. Будем бороться, но это дальше."
      ]
    },
    {
      "cell_type": "markdown",
      "metadata": {
        "id": "aioh7OiFm2aA"
      },
      "source": [
        "## Борьба с дисбалансом"
      ]
    },
    {
      "cell_type": "code",
      "execution_count": null,
      "metadata": {
        "id": "yHco41oWm2aA"
      },
      "outputs": [],
      "source": [
        "features, target = shuffle(features, target, random_state=12345)"
      ]
    },
    {
      "cell_type": "code",
      "execution_count": null,
      "metadata": {
        "id": "zgNP8R8Cm2aA"
      },
      "outputs": [],
      "source": [
        "def upsample(features, target, repeat):\n",
        "    features_zeros = features[target == 0]\n",
        "    features_ones = features[target == 1]\n",
        "    target_zeros = target[target == 0]\n",
        "    target_ones = target[target == 1]\n",
        "\n",
        "    features_upsampled = pd.concat([features_zeros] + [features_ones] * repeat)\n",
        "    target_upsampled = pd.concat([target_zeros] + [target_ones] * repeat)\n",
        "\n",
        "    features_upsampled, target_upsampled = shuffle(features_upsampled, target_upsampled, random_state=12345)\n",
        "    return features_upsampled, target_upsampled"
      ]
    },
    {
      "cell_type": "code",
      "execution_count": null,
      "metadata": {
        "id": "Qx6r86GZm2aB"
      },
      "outputs": [],
      "source": [
        "features_balance_up, target_balance_up = upsample(features_train, target_train, 4)"
      ]
    },
    {
      "cell_type": "code",
      "execution_count": null,
      "metadata": {
        "id": "eMQ_tON7m2aC"
      },
      "outputs": [],
      "source": [
        "def downsample(features, target, fraction):\n",
        "    features_zeros = features[target == 0]\n",
        "    features_ones = features[target == 1]\n",
        "    target_zeros = target[target == 0]\n",
        "    target_ones = target[target == 1]\n",
        "\n",
        "    features_downsampled = pd.concat([features_zeros.sample(frac=fraction, random_state=12345)] + [features_ones])\n",
        "    target_downsampled = pd.concat([target_zeros.sample(frac=fraction, random_state=12345)] + [target_ones])\n",
        "\n",
        "    features_downsampled, target_downsampled = shuffle(features_downsampled, target_downsampled, random_state=12345)\n",
        "    return features_downsampled, target_downsampled#"
      ]
    },
    {
      "cell_type": "code",
      "execution_count": null,
      "metadata": {
        "id": "CWfgbwkqm2aD"
      },
      "outputs": [],
      "source": [
        "features_balance_dow, target_balance_dow = downsample(features_train, target_train, 0.25)"
      ]
    },
    {
      "cell_type": "code",
      "execution_count": null,
      "metadata": {
        "id": "tWIm7Dg9m2aF",
        "outputId": "e4ac5c12-44a9-4b58-b520-08f0d35192ed"
      },
      "outputs": [
        {
          "name": "stdout",
          "output_type": "stream",
          "text": [
            "1    0.509964\n",
            "0    0.490036\n",
            "Name: exited, dtype: float64\n"
          ]
        },
        {
          "data": {
            "text/plain": [
              "Text(0.5, 1.0, 'Доля классов целевого признака')"
            ]
          },
          "execution_count": 45,
          "metadata": {},
          "output_type": "execute_result"
        },
        {
          "data": {
            "image/png": "[encoded data removed]",
            "text/plain": [
              "<Figure size 216x216 with 1 Axes>"
            ]
          },
          "metadata": {
            "needs_background": "light"
          },
          "output_type": "display_data"
        }
      ],
      "source": [
        "class_frequency1 = target_balance_up.value_counts(normalize=True)\n",
        "print(class_frequency1)\n",
        "\n",
        "class_frequency1.plot(kind='bar', grid=True, figsize=(3, 3))\n",
        "plt.xlabel('Класс')\n",
        "plt.ylabel('Доля')\n",
        "plt.title('Доля классов целевого признака')"
      ]
    },
    {
      "cell_type": "code",
      "execution_count": null,
      "metadata": {
        "id": "loTWYqubm2aG",
        "outputId": "cac4eb5f-d373-4b12-d077-fcb3a29ff96c"
      },
      "outputs": [
        {
          "data": {
            "text/plain": [
              "(8832,)"
            ]
          },
          "execution_count": 46,
          "metadata": {},
          "output_type": "execute_result"
        }
      ],
      "source": [
        "target_balance_up.shape"
      ]
    },
    {
      "cell_type": "code",
      "execution_count": null,
      "metadata": {
        "id": "9ZpryCh0m2aG",
        "outputId": "586da036-9d0d-4165-f06b-27f9affbe6ab"
      },
      "outputs": [
        {
          "name": "stdout",
          "output_type": "stream",
          "text": [
            "1    0.509964\n",
            "0    0.490036\n",
            "Name: exited, dtype: float64\n"
          ]
        },
        {
          "data": {
            "text/plain": [
              "Text(0.5, 1.0, 'Доля классов целевого признака')"
            ]
          },
          "execution_count": 47,
          "metadata": {},
          "output_type": "execute_result"
        },
        {
          "data": {
            "image/png": "[encoded data removed]",
            "text/plain": [
              "<Figure size 216x216 with 1 Axes>"
            ]
          },
          "metadata": {
            "needs_background": "light"
          },
          "output_type": "display_data"
        }
      ],
      "source": [
        "class_frequency2 = target_balance_dow.value_counts(normalize=True)\n",
        "print(class_frequency2)\n",
        "\n",
        "class_frequency2.plot(kind='bar', grid=True, figsize=(3, 3))\n",
        "plt.xlabel('Класс')\n",
        "plt.ylabel('Доля')\n",
        "plt.title('Доля классов целевого признака')"
      ]
    },
    {
      "cell_type": "code",
      "execution_count": null,
      "metadata": {
        "id": "HoD93vaLm2aH",
        "outputId": "2dbdca0b-951d-4f78-a3e5-16e07290861a"
      },
      "outputs": [
        {
          "data": {
            "text/plain": [
              "(2208,)"
            ]
          },
          "execution_count": 48,
          "metadata": {},
          "output_type": "execute_result"
        }
      ],
      "source": [
        "target_balance_dow.shape"
      ]
    },
    {
      "cell_type": "markdown",
      "metadata": {
        "id": "utGCRc1pm2aH"
      },
      "source": [
        "Для баланса пришлось увеличить выборку в 4 раза, но при этом не использовать downsample. Иначе баланса не добиться."
      ]
    },
    {
      "cell_type": "markdown",
      "metadata": {
        "id": "pWoLl6p3m2aI"
      },
      "source": [
        "### Посчитаем AUC-ROC и выведем кривые."
      ]
    },
    {
      "cell_type": "code",
      "execution_count": null,
      "metadata": {
        "id": "5meY_9Ybm2aJ",
        "outputId": "ce90adb0-8d39-4c7b-bddf-4e6a00351f0b"
      },
      "outputs": [
        {
          "data": {
            "text/plain": [
              "0.8628264338977685"
            ]
          },
          "execution_count": 49,
          "metadata": {},
          "output_type": "execute_result"
        }
      ],
      "source": [
        "study_forest = model_forest.predict_proba(features_valid)\n",
        "study_forest_valid = study_forest[:,1]\n",
        "fpr_forest, tpr_forest, thresholds = roc_curve(target_valid, study_forest_valid)\n",
        "\n",
        "auc_roc_forest=roc_auc_score(target_valid, study_forest_valid)\n",
        "\n",
        "auc_roc_forest"
      ]
    },
    {
      "cell_type": "code",
      "execution_count": null,
      "metadata": {
        "id": "2d9oilStm2aJ",
        "outputId": "6b7ae25e-cf16-403e-8e4e-d66edd2ad91a"
      },
      "outputs": [
        {
          "data": {
            "text/plain": [
              "0.6797786314764468"
            ]
          },
          "execution_count": 50,
          "metadata": {},
          "output_type": "execute_result"
        }
      ],
      "source": [
        "\n",
        "study_tree = model_tree.predict_proba(features_valid)\n",
        "study_tree_valid = study_tree[:,1]\n",
        "fpr_tree, tpr_tree, thresholds=roc_curve(target_valid, study_tree_valid)\n",
        "\n",
        "auc_roc_tree = roc_auc_score(target_valid, study_tree_valid)\n",
        "\n",
        "auc_roc_tree\n"
      ]
    },
    {
      "cell_type": "code",
      "execution_count": null,
      "metadata": {
        "id": "8paARnDrm2aK",
        "outputId": "1a2ddba8-def3-4144-ef49-68933c0ccfcd"
      },
      "outputs": [
        {
          "data": {
            "text/plain": [
              "0.5048163208205325"
            ]
          },
          "execution_count": 51,
          "metadata": {},
          "output_type": "execute_result"
        }
      ],
      "source": [
        "study_lr = model_lr.predict_proba(features_valid)\n",
        "study_lr_valid = study_lr[:,1]\n",
        "fpr_log,tpr_log,thresholds=roc_curve(target_valid, study_lr_valid)\n",
        "\n",
        "auc_roc_lr = roc_auc_score(target_valid, study_lr_valid)\n",
        "\n",
        "auc_roc_lr\n"
      ]
    },
    {
      "cell_type": "code",
      "execution_count": null,
      "metadata": {
        "id": "oLWHD9nhm2aK",
        "outputId": "b44e508d-ad83-441e-9233-bcc104838f33"
      },
      "outputs": [
        {
          "data": {
            "text/plain": [
              "<Figure size 432x288 with 0 Axes>"
            ]
          },
          "metadata": {},
          "output_type": "display_data"
        },
        {
          "data": {
            "image/png": "[encoded data removed]",
            "text/plain": [
              "<Figure size 1080x720 with 1 Axes>"
            ]
          },
          "metadata": {
            "needs_background": "light"
          },
          "output_type": "display_data"
        }
      ],
      "source": [
        "plt.figure()\n",
        "\n",
        "plt.figure(figsize=(15,10))\n",
        "plt.plot([0, 1], [0, 1], linestyle='--')\n",
        "plt.xlim([0.0, 1.0])\n",
        "plt.ylim([0.0, 1.0])\n",
        "plt.plot(fpr_log,tpr_log)\n",
        "plt.plot(fpr_tree,tpr_tree)\n",
        "plt.plot(fpr_forest,tpr_forest)\n",
        "plt.xlabel('False Positive Rate')\n",
        "plt.ylabel('True Positive Rate')\n",
        "plt.title('ROC-кривая')\n",
        "plt.legend(('Случайная модель', 'Логистическая регрессия', 'Дерево решения', 'Случайный лес'), loc= 'upper left')\n",
        "plt.show()"
      ]
    },
    {
      "cell_type": "markdown",
      "metadata": {
        "id": "8kDjhmEem2aL"
      },
      "source": [
        "Как и в предыдущем Случайный лес показывает более высокий рзультат, стремление к 1. Но очень странная кривая у Дерева решений."
      ]
    },
    {
      "cell_type": "markdown",
      "metadata": {
        "id": "wINVX9PLm2aM"
      },
      "source": [
        "### Обучаем после балансировки"
      ]
    },
    {
      "cell_type": "code",
      "execution_count": null,
      "metadata": {
        "id": "4dxWEhlvm2aM",
        "outputId": "b9f2190a-bddf-44c2-d67f-7bffbcf68e0a"
      },
      "outputs": [
        {
          "name": "stdout",
          "output_type": "stream",
          "text": [
            "best_depth: 5 F1: 0.5735449735449736\n"
          ]
        }
      ],
      "source": [
        "best_result_bal = 0\n",
        "\n",
        "for depth in range(1,50):\n",
        "    model_tree_bal = DecisionTreeClassifier(max_depth= depth, random_state=12345).fit(features_balance_up, target_balance_up)\n",
        "    prediction = model_tree_bal.predict(features_valid)\n",
        "\n",
        "    result_bal = f1_score(target_valid, prediction)\n",
        "    if result_bal > best_result_bal:\n",
        "            best_result_bal = result_bal\n",
        "            best_depth = depth\n",
        "\n",
        "\n",
        "print('best_depth:', best_depth,'F1:', best_result_bal)\n",
        "\n",
        "# features_balance_up, target_balance_up"
      ]
    },
    {
      "cell_type": "code",
      "execution_count": null,
      "metadata": {
        "id": "O6pAlj6wm2aN",
        "outputId": "c5f385a3-c33c-45e4-de87-60f62dc4033c"
      },
      "outputs": [
        {
          "name": "stdout",
          "output_type": "stream",
          "text": [
            "F1: 0.6395663956639566 best_depth: 14 best_estim: 80\n"
          ]
        }
      ],
      "source": [
        "# Код выполняется пол часа\n",
        "best_result_bal = 0\n",
        "\n",
        "for depth in range(2,21,2):\n",
        "    for estim in range(10,101,10):\n",
        "        model_forest_bal = RandomForestClassifier(max_depth = depth , n_estimators=estim, random_state=12345).fit(features_balance_up, target_balance_up)\n",
        "        prediction = model_forest_bal.predict(features_valid)\n",
        "        result_bal = f1_score(target_valid, prediction)\n",
        "        if result_bal > best_result_bal:\n",
        "            best_result_bal = result_bal\n",
        "            best_depth = depth\n",
        "            best_estim = estim\n",
        "\n",
        "print('F1:', best_result_bal, 'best_depth:', best_depth, 'best_estim:', best_estim)\n"
      ]
    },
    {
      "cell_type": "code",
      "execution_count": null,
      "metadata": {
        "id": "IIV941sgm2aN",
        "outputId": "b85bbc89-1107-4ad0-85a4-80783df98b10"
      },
      "outputs": [
        {
          "name": "stdout",
          "output_type": "stream",
          "text": [
            "F1: 0.47676419965576594\n"
          ]
        }
      ],
      "source": [
        "\n",
        "\n",
        "model_lr_bal = LogisticRegression(solver='liblinear')\n",
        "model_lr_bal.fit(features_balance_up, target_balance_up)\n",
        "\n",
        "prediction = model_lr_bal.predict(features_valid)\n",
        "result_bal = f1_score(target_valid, prediction)\n",
        "\n",
        "print('F1:', result_bal)\n",
        "\n"
      ]
    },
    {
      "cell_type": "markdown",
      "metadata": {
        "id": "lfWmD0Zcm2aO"
      },
      "source": [
        "3 из 3 метод Случайного леса показывает наилучший результат."
      ]
    },
    {
      "cell_type": "code",
      "execution_count": null,
      "metadata": {
        "id": "nZZvLlBqm2aP",
        "outputId": "42431f02-de0f-441a-87dc-a077192b56a1"
      },
      "outputs": [
        {
          "name": "stdout",
          "output_type": "stream",
          "text": [
            "best_depth: 6 F1: 0.5636704119850188\n"
          ]
        }
      ],
      "source": [
        "best_result_bal_dow = 0\n",
        "\n",
        "for depth in range(1,50):\n",
        "    model_tree_bal_dow = DecisionTreeClassifier(max_depth= depth, random_state=12345).fit(features_balance_dow, target_balance_dow)\n",
        "    prediction = model_tree_bal_dow.predict(features_valid)\n",
        "\n",
        "    result_bal_dow = f1_score(target_valid, prediction)\n",
        "    if result_bal_dow > best_result_bal_dow:\n",
        "            best_result_bal_dow = result_bal_dow\n",
        "            best_depth = depth\n",
        "\n",
        "\n",
        "print('best_depth:', best_depth,'F1:', best_result_bal_dow)\n",
        "\n",
        "# features_balance_dow, target_balance_dow"
      ]
    },
    {
      "cell_type": "code",
      "execution_count": null,
      "metadata": {
        "id": "PFBiyZn9m2aQ",
        "outputId": "a13cfe9a-718a-4ecd-8cbf-cb7be87e6708"
      },
      "outputs": [
        {
          "name": "stdout",
          "output_type": "stream",
          "text": [
            "F1: 0.6072874493927125 best_depth: 8 best_estim: 40\n"
          ]
        }
      ],
      "source": [
        "best_result_bal_down = 0\n",
        "\n",
        "for depth in range(2,21,2):\n",
        "    for estim in range(10,101,10):\n",
        "        model_forest_bal_down = RandomForestClassifier(max_depth = depth , n_estimators=estim, random_state=12345).fit(features_balance_dow, target_balance_dow)\n",
        "        prediction = model_forest_bal_down.predict(features_valid)\n",
        "        result_bal_down = f1_score(target_valid, prediction)\n",
        "        if result_bal_down > best_result_bal_down:\n",
        "            best_result_bal_down = result_bal_down\n",
        "            best_depth = depth\n",
        "            best_estim = estim\n",
        "\n",
        "print('F1:', best_result_bal_down, 'best_depth:', best_depth, 'best_estim:', best_estim)"
      ]
    },
    {
      "cell_type": "markdown",
      "metadata": {
        "id": "19Cd7tE0m2aR"
      },
      "source": [
        "## Тестирование модели"
      ]
    },
    {
      "cell_type": "markdown",
      "metadata": {
        "id": "nJOQ9pCKm2aS"
      },
      "source": [
        "### Для тестирования моделей возьмем гиперпараметры полученные из предыдущего упражнения и протестируем на Случайном лесе."
      ]
    },
    {
      "cell_type": "code",
      "execution_count": null,
      "metadata": {
        "id": "mFLu8uJsm2aS",
        "outputId": "3ee30f67-a602-4969-933f-0476c37c7101"
      },
      "outputs": [
        {
          "name": "stdout",
          "output_type": "stream",
          "text": [
            "Итог F1: 0.6074 при depth = 8 и n_estimators = 50 \n"
          ]
        }
      ],
      "source": [
        "model_forest_fin = RandomForestClassifier(max_depth = 8 , n_estimators = 50, random_state=12345).fit(features_balance_up, target_balance_up)\n",
        "prediction = model_forest_bal.predict(features_test)\n",
        "result_bal_fin = f1_score(target_test, prediction)\n",
        "\n",
        "print(f'Итог F1: {result_bal_fin.round(4)} при depth = 8 и n_estimators = 50 ')"
      ]
    },
    {
      "cell_type": "markdown",
      "metadata": {
        "id": "PaFnqTb1m2aT"
      },
      "source": [
        "Получилось добиться результата 0,59 методом Случайного леса с гиперпараметрами depth = 8 и n_estimators = 50"
      ]
    },
    {
      "cell_type": "markdown",
      "metadata": {
        "id": "ja0V5IMZm2aU"
      },
      "source": [
        "### Посмотрим auc-roc для нашего финального метода"
      ]
    },
    {
      "cell_type": "code",
      "execution_count": null,
      "metadata": {
        "id": "47sLTCkgm2aU",
        "outputId": "1b118bbe-8e34-4a47-eb33-0173f0b420df"
      },
      "outputs": [
        {
          "data": {
            "text/plain": [
              "0.8588016333247941"
            ]
          },
          "execution_count": 61,
          "metadata": {},
          "output_type": "execute_result"
        }
      ],
      "source": [
        "\n",
        "study_forest_fin = model_forest_fin.predict_proba(features_test)\n",
        "study_forest_test_fin = study_forest_fin[:,1]\n",
        "fpr_forest_fin, tpr_forest_fin, thresholds = roc_curve(target_test, study_forest_test_fin)\n",
        "\n",
        "auc_roc_forest_fin = roc_auc_score(target_test, study_forest_test_fin)\n",
        "\n",
        "auc_roc_forest_fin"
      ]
    },
    {
      "cell_type": "code",
      "execution_count": null,
      "metadata": {
        "id": "Jym5GCktm2aV",
        "outputId": "b0a8282c-300b-489e-c04d-21f0ff5a340b"
      },
      "outputs": [
        {
          "data": {
            "text/plain": [
              "<Figure size 432x288 with 0 Axes>"
            ]
          },
          "metadata": {},
          "output_type": "display_data"
        },
        {
          "data": {
            "image/png": "[encoded data removed]",
            "text/plain": [
              "<Figure size 720x504 with 1 Axes>"
            ]
          },
          "metadata": {
            "needs_background": "light"
          },
          "output_type": "display_data"
        }
      ],
      "source": [
        "plt.figure()\n",
        "\n",
        "plt.figure(figsize=(10, 7))\n",
        "plt.plot([0, 1], [0, 1], linestyle='--')\n",
        "plt.xlim([0.0, 1.0])\n",
        "plt.ylim([0.0, 1.0])\n",
        "plt.plot(fpr_forest_fin, tpr_forest_fin)\n",
        "plt.xlabel('False Positive Rate')\n",
        "plt.ylabel('True Positive Rate')\n",
        "plt.title('ROC-кривая')\n",
        "plt.show()"
      ]
    },
    {
      "cell_type": "markdown",
      "metadata": {
        "id": "xMEm7Tcfm2aY"
      },
      "source": [
        "### Вывод:"
      ]
    },
    {
      "cell_type": "markdown",
      "metadata": {
        "id": "Brty1qQKm2aY"
      },
      "source": [
        "Подведем итог. Мы провели большую работу. В первую очередь мы проверили качество данных на дубликаты, пропуски и тд, а так же визуализировали наши данные. Провели небольшую предобработку, а именно заменили пропущенные значения в Tenure на рандомным методом, наиболее актуальный для нашего случая, удалили лишние данные и привели названия столбцов к змеиному виду.\n",
        "Для обучения моделей мы разбиваем на три выборки Обучающая выборка, Валидационная выборка и Тестовая выборка. Для чистоты обучения мы обучили модель на сырых данных, результат впечатляющий. После применили масштабирование данных и так же обучили с использованием тех же методов и в первом случае, при построении AUC-ROC мы так же увидели, что метод Случайного леса болле эффективный. Далее посмотрев дисбаланс, он в нашем случае составил почти в 5 раз, отбалансировали данные, практически 50/50. Обучив модели уже с обработанными данными, так же сделали выводы, что модель случайного леса и примененные гиперпараметры показала наилучший результат.\n",
        "\n",
        "С уважением,\n",
        "\n",
        "Нестеров А."
      ]
    }
  ],
  "metadata": {
    "ExecuteTimeLog": [
      {
        "duration": 13,
        "start_time": "2023-03-18T19:25:07.856Z"
      },
      {
        "duration": 1422,
        "start_time": "2023-03-18T19:25:39.634Z"
      },
      {
        "duration": 7,
        "start_time": "2023-03-18T19:25:45.515Z"
      },
      {
        "duration": 98,
        "start_time": "2023-03-18T19:26:38.554Z"
      },
      {
        "duration": 26,
        "start_time": "2023-03-18T19:26:45.842Z"
      },
      {
        "duration": 124,
        "start_time": "2023-03-18T19:27:55.478Z"
      },
      {
        "duration": 94,
        "start_time": "2023-03-18T19:40:22.527Z"
      },
      {
        "duration": 282,
        "start_time": "2023-03-18T19:41:03.416Z"
      },
      {
        "duration": 5,
        "start_time": "2023-03-18T19:56:23.482Z"
      },
      {
        "duration": 5,
        "start_time": "2023-03-18T19:56:48.059Z"
      },
      {
        "duration": 114,
        "start_time": "2023-03-18T19:57:48.417Z"
      },
      {
        "duration": 8,
        "start_time": "2023-03-18T19:58:46.632Z"
      },
      {
        "duration": 3718,
        "start_time": "2023-03-18T19:59:52.869Z"
      },
      {
        "duration": 14,
        "start_time": "2023-03-18T20:00:07.180Z"
      },
      {
        "duration": 9,
        "start_time": "2023-03-18T20:00:56.233Z"
      },
      {
        "duration": 149,
        "start_time": "2023-03-18T20:02:42.333Z"
      },
      {
        "duration": 3252,
        "start_time": "2023-03-18T20:03:22.933Z"
      },
      {
        "duration": 5,
        "start_time": "2023-03-18T20:05:33.279Z"
      },
      {
        "duration": 3351,
        "start_time": "2023-03-18T20:05:41.126Z"
      },
      {
        "duration": 4,
        "start_time": "2023-03-18T20:09:08.924Z"
      },
      {
        "duration": 14,
        "start_time": "2023-03-18T20:09:35.164Z"
      },
      {
        "duration": 5,
        "start_time": "2023-03-18T20:20:49.355Z"
      },
      {
        "duration": 5,
        "start_time": "2023-03-18T20:21:27.810Z"
      },
      {
        "duration": 7,
        "start_time": "2023-03-18T20:33:01.200Z"
      },
      {
        "duration": 28,
        "start_time": "2023-03-18T20:35:35.008Z"
      },
      {
        "duration": 3,
        "start_time": "2023-03-18T20:56:43.456Z"
      },
      {
        "duration": 5,
        "start_time": "2023-03-18T20:57:10.305Z"
      },
      {
        "duration": 8,
        "start_time": "2023-03-18T20:57:10.515Z"
      },
      {
        "duration": 3,
        "start_time": "2023-03-18T20:57:11.250Z"
      },
      {
        "duration": 7,
        "start_time": "2023-03-18T20:57:11.884Z"
      },
      {
        "duration": 39,
        "start_time": "2023-03-18T20:57:12.240Z"
      },
      {
        "duration": 23,
        "start_time": "2023-03-18T20:57:12.913Z"
      },
      {
        "duration": 140,
        "start_time": "2023-03-18T20:57:14.516Z"
      },
      {
        "duration": 10,
        "start_time": "2023-03-18T20:57:15.394Z"
      },
      {
        "duration": 3705,
        "start_time": "2023-03-18T20:57:16.344Z"
      },
      {
        "duration": 31,
        "start_time": "2023-03-18T20:57:20.052Z"
      },
      {
        "duration": 19,
        "start_time": "2023-03-18T20:57:20.088Z"
      },
      {
        "duration": 6,
        "start_time": "2023-03-18T20:57:20.257Z"
      },
      {
        "duration": 23,
        "start_time": "2023-03-18T20:57:21.225Z"
      },
      {
        "duration": 1521,
        "start_time": "2023-03-19T14:37:07.934Z"
      },
      {
        "duration": 7,
        "start_time": "2023-03-19T14:37:09.458Z"
      },
      {
        "duration": 40,
        "start_time": "2023-03-19T14:37:09.466Z"
      },
      {
        "duration": 7,
        "start_time": "2023-03-19T14:37:09.584Z"
      },
      {
        "duration": 88,
        "start_time": "2023-03-19T14:37:10.006Z"
      },
      {
        "duration": 25,
        "start_time": "2023-03-19T14:37:10.278Z"
      },
      {
        "duration": 113,
        "start_time": "2023-03-19T14:37:10.923Z"
      },
      {
        "duration": 6,
        "start_time": "2023-03-19T14:37:11.246Z"
      },
      {
        "duration": 3618,
        "start_time": "2023-03-19T14:37:11.529Z"
      },
      {
        "duration": 14,
        "start_time": "2023-03-19T14:37:15.149Z"
      },
      {
        "duration": 22,
        "start_time": "2023-03-19T14:37:15.165Z"
      },
      {
        "duration": 9,
        "start_time": "2023-03-19T14:37:15.189Z"
      },
      {
        "duration": 25,
        "start_time": "2023-03-19T14:37:15.200Z"
      },
      {
        "duration": 4,
        "start_time": "2023-03-19T14:54:37.856Z"
      },
      {
        "duration": 2,
        "start_time": "2023-03-19T14:56:02.177Z"
      },
      {
        "duration": 107,
        "start_time": "2023-03-19T14:59:49.586Z"
      },
      {
        "duration": 10,
        "start_time": "2023-03-19T17:39:08.414Z"
      },
      {
        "duration": 5,
        "start_time": "2023-03-19T19:18:59.489Z"
      },
      {
        "duration": 8,
        "start_time": "2023-03-19T19:18:59.753Z"
      },
      {
        "duration": 3,
        "start_time": "2023-03-19T19:18:59.992Z"
      },
      {
        "duration": 5,
        "start_time": "2023-03-19T19:19:00.247Z"
      },
      {
        "duration": 38,
        "start_time": "2023-03-19T19:19:00.455Z"
      },
      {
        "duration": 21,
        "start_time": "2023-03-19T19:19:00.713Z"
      },
      {
        "duration": 118,
        "start_time": "2023-03-19T19:19:01.181Z"
      },
      {
        "duration": 6,
        "start_time": "2023-03-19T19:19:01.465Z"
      },
      {
        "duration": 3297,
        "start_time": "2023-03-19T19:19:01.682Z"
      },
      {
        "duration": 14,
        "start_time": "2023-03-19T19:19:04.981Z"
      },
      {
        "duration": 6,
        "start_time": "2023-03-19T19:19:04.997Z"
      },
      {
        "duration": 13,
        "start_time": "2023-03-19T19:19:05.005Z"
      },
      {
        "duration": 24,
        "start_time": "2023-03-19T19:19:05.019Z"
      },
      {
        "duration": 9,
        "start_time": "2023-03-19T19:19:06.693Z"
      },
      {
        "duration": 8,
        "start_time": "2023-03-19T19:19:55.548Z"
      },
      {
        "duration": 23,
        "start_time": "2023-03-19T19:20:29.892Z"
      },
      {
        "duration": 16,
        "start_time": "2023-03-19T19:26:34.379Z"
      },
      {
        "duration": 8,
        "start_time": "2023-03-19T19:28:30.246Z"
      },
      {
        "duration": 5,
        "start_time": "2023-03-19T19:30:12.935Z"
      },
      {
        "duration": 11,
        "start_time": "2023-03-19T19:30:29.035Z"
      },
      {
        "duration": 10,
        "start_time": "2023-03-19T19:31:50.201Z"
      },
      {
        "duration": 6,
        "start_time": "2023-03-19T19:33:27.852Z"
      },
      {
        "duration": 21,
        "start_time": "2023-03-19T19:33:37.627Z"
      },
      {
        "duration": 56,
        "start_time": "2023-03-19T19:33:45.125Z"
      },
      {
        "duration": 7,
        "start_time": "2023-03-19T19:33:49.485Z"
      },
      {
        "duration": 2,
        "start_time": "2023-03-19T19:34:54.950Z"
      },
      {
        "duration": 29,
        "start_time": "2023-03-19T19:34:55.875Z"
      },
      {
        "duration": 11,
        "start_time": "2023-03-19T19:35:31.601Z"
      },
      {
        "duration": 21,
        "start_time": "2023-03-19T19:35:35.677Z"
      },
      {
        "duration": 674,
        "start_time": "2023-03-19T19:40:34.258Z"
      },
      {
        "duration": 32,
        "start_time": "2023-03-19T19:40:35.249Z"
      },
      {
        "duration": 9,
        "start_time": "2023-03-19T19:46:19.123Z"
      },
      {
        "duration": 37,
        "start_time": "2023-03-19T19:47:31.437Z"
      },
      {
        "duration": 30,
        "start_time": "2023-03-19T19:47:42.934Z"
      },
      {
        "duration": 9,
        "start_time": "2023-03-19T19:47:44.282Z"
      },
      {
        "duration": 66,
        "start_time": "2023-03-19T19:48:48.182Z"
      },
      {
        "duration": 9,
        "start_time": "2023-03-19T19:51:15.680Z"
      },
      {
        "duration": 157,
        "start_time": "2023-03-19T19:51:22.948Z"
      },
      {
        "duration": 30,
        "start_time": "2023-03-19T19:52:01.432Z"
      },
      {
        "duration": 9,
        "start_time": "2023-03-19T19:52:02.423Z"
      },
      {
        "duration": 170,
        "start_time": "2023-03-19T19:52:04.698Z"
      },
      {
        "duration": 31,
        "start_time": "2023-03-19T19:52:44.260Z"
      },
      {
        "duration": 9,
        "start_time": "2023-03-19T19:52:44.930Z"
      },
      {
        "duration": 157,
        "start_time": "2023-03-19T19:52:46.285Z"
      },
      {
        "duration": 33,
        "start_time": "2023-03-19T19:53:01.082Z"
      },
      {
        "duration": 10,
        "start_time": "2023-03-19T19:53:01.855Z"
      },
      {
        "duration": 145,
        "start_time": "2023-03-19T19:53:03.002Z"
      },
      {
        "duration": 30,
        "start_time": "2023-03-19T19:53:16.755Z"
      },
      {
        "duration": 9,
        "start_time": "2023-03-19T19:53:28.784Z"
      },
      {
        "duration": 161,
        "start_time": "2023-03-19T19:53:29.979Z"
      },
      {
        "duration": 30,
        "start_time": "2023-03-19T19:53:41.195Z"
      },
      {
        "duration": 8,
        "start_time": "2023-03-19T19:53:41.651Z"
      },
      {
        "duration": 256,
        "start_time": "2023-03-19T19:53:42.980Z"
      },
      {
        "duration": 14,
        "start_time": "2023-03-19T19:56:42.344Z"
      },
      {
        "duration": 9,
        "start_time": "2023-03-19T20:06:39.467Z"
      },
      {
        "duration": 15,
        "start_time": "2023-03-19T20:06:54.598Z"
      },
      {
        "duration": 13,
        "start_time": "2023-03-19T20:07:01.216Z"
      },
      {
        "duration": 46,
        "start_time": "2023-03-19T20:08:35.106Z"
      },
      {
        "duration": 45,
        "start_time": "2023-03-19T20:09:17.680Z"
      },
      {
        "duration": 4,
        "start_time": "2023-03-19T20:09:53.586Z"
      },
      {
        "duration": 11,
        "start_time": "2023-03-19T20:09:56.729Z"
      },
      {
        "duration": 1600,
        "start_time": "2023-03-20T17:20:19.509Z"
      },
      {
        "duration": 8,
        "start_time": "2023-03-20T17:20:21.111Z"
      },
      {
        "duration": 18,
        "start_time": "2023-03-20T17:20:21.120Z"
      },
      {
        "duration": 20,
        "start_time": "2023-03-20T17:20:21.141Z"
      },
      {
        "duration": 100,
        "start_time": "2023-03-20T17:20:21.163Z"
      },
      {
        "duration": 26,
        "start_time": "2023-03-20T17:20:21.265Z"
      },
      {
        "duration": 121,
        "start_time": "2023-03-20T17:20:21.293Z"
      },
      {
        "duration": 7,
        "start_time": "2023-03-20T17:20:21.416Z"
      },
      {
        "duration": 3575,
        "start_time": "2023-03-20T17:20:21.424Z"
      },
      {
        "duration": 14,
        "start_time": "2023-03-20T17:20:25.001Z"
      },
      {
        "duration": 14,
        "start_time": "2023-03-20T17:20:25.017Z"
      },
      {
        "duration": 13,
        "start_time": "2023-03-20T17:20:25.033Z"
      },
      {
        "duration": 28,
        "start_time": "2023-03-20T17:20:25.047Z"
      },
      {
        "duration": 41,
        "start_time": "2023-03-20T17:20:25.078Z"
      },
      {
        "duration": 9,
        "start_time": "2023-03-20T17:20:25.121Z"
      },
      {
        "duration": 184,
        "start_time": "2023-03-20T17:20:25.132Z"
      },
      {
        "duration": 6,
        "start_time": "2023-03-20T17:20:25.465Z"
      },
      {
        "duration": 18,
        "start_time": "2023-03-20T17:20:26.381Z"
      },
      {
        "duration": 6,
        "start_time": "2023-03-20T17:33:33.884Z"
      },
      {
        "duration": 7,
        "start_time": "2023-03-20T17:34:13.343Z"
      },
      {
        "duration": 21,
        "start_time": "2023-03-20T17:50:59.509Z"
      },
      {
        "duration": 31,
        "start_time": "2023-03-20T17:52:05.939Z"
      },
      {
        "duration": 20,
        "start_time": "2023-03-20T17:52:29.498Z"
      },
      {
        "duration": 24,
        "start_time": "2023-03-20T17:56:54.384Z"
      },
      {
        "duration": 4,
        "start_time": "2023-03-20T18:01:20.443Z"
      },
      {
        "duration": 152,
        "start_time": "2023-03-20T18:08:18.470Z"
      },
      {
        "duration": 11,
        "start_time": "2023-03-20T18:16:08.309Z"
      },
      {
        "duration": 11,
        "start_time": "2023-03-20T18:16:26.125Z"
      },
      {
        "duration": 15,
        "start_time": "2023-03-20T18:28:20.332Z"
      },
      {
        "duration": 57,
        "start_time": "2023-03-20T18:28:52.477Z"
      },
      {
        "duration": 34,
        "start_time": "2023-03-20T18:29:00.419Z"
      },
      {
        "duration": 15,
        "start_time": "2023-03-20T18:33:51.390Z"
      },
      {
        "duration": 26,
        "start_time": "2023-03-20T18:34:06.216Z"
      },
      {
        "duration": 32,
        "start_time": "2023-03-20T18:34:45.269Z"
      },
      {
        "duration": 25,
        "start_time": "2023-03-20T18:34:50.132Z"
      },
      {
        "duration": 18,
        "start_time": "2023-03-20T18:34:55.271Z"
      },
      {
        "duration": 4,
        "start_time": "2023-03-20T18:37:16.136Z"
      },
      {
        "duration": 12,
        "start_time": "2023-03-20T18:37:34.241Z"
      },
      {
        "duration": 18,
        "start_time": "2023-03-20T18:38:17.870Z"
      },
      {
        "duration": 16,
        "start_time": "2023-03-20T18:39:14.272Z"
      },
      {
        "duration": 12,
        "start_time": "2023-03-20T18:39:41.751Z"
      },
      {
        "duration": 29,
        "start_time": "2023-03-20T18:39:58.393Z"
      },
      {
        "duration": 3,
        "start_time": "2023-03-20T18:40:40.774Z"
      },
      {
        "duration": 13,
        "start_time": "2023-03-20T18:40:49.338Z"
      },
      {
        "duration": 6,
        "start_time": "2023-03-20T18:41:05.941Z"
      },
      {
        "duration": 16,
        "start_time": "2023-03-20T18:41:06.592Z"
      },
      {
        "duration": 17,
        "start_time": "2023-03-20T18:41:08.220Z"
      },
      {
        "duration": 1147,
        "start_time": "2023-03-20T18:41:50.479Z"
      },
      {
        "duration": 1364,
        "start_time": "2023-03-20T18:42:01.877Z"
      },
      {
        "duration": 130,
        "start_time": "2023-03-20T18:42:13.526Z"
      },
      {
        "duration": 15,
        "start_time": "2023-03-20T18:44:59.010Z"
      },
      {
        "duration": 15,
        "start_time": "2023-03-20T18:45:20.775Z"
      },
      {
        "duration": 2677,
        "start_time": "2023-03-20T18:45:32.790Z"
      },
      {
        "duration": 4708,
        "start_time": "2023-03-20T18:45:46.479Z"
      },
      {
        "duration": 7831,
        "start_time": "2023-03-20T18:46:04.052Z"
      },
      {
        "duration": 11,
        "start_time": "2023-03-20T18:47:11.145Z"
      },
      {
        "duration": 5,
        "start_time": "2023-03-20T18:47:35.614Z"
      },
      {
        "duration": 11,
        "start_time": "2023-03-20T18:47:42.974Z"
      },
      {
        "duration": 5,
        "start_time": "2023-03-20T18:49:33.820Z"
      },
      {
        "duration": 10,
        "start_time": "2023-03-20T18:49:41.034Z"
      },
      {
        "duration": 9,
        "start_time": "2023-03-20T18:52:36.794Z"
      },
      {
        "duration": 2769,
        "start_time": "2023-03-20T18:52:43.232Z"
      },
      {
        "duration": 2,
        "start_time": "2023-03-20T19:25:39.018Z"
      },
      {
        "duration": 10,
        "start_time": "2023-03-20T19:28:21.711Z"
      },
      {
        "duration": 12,
        "start_time": "2023-03-20T19:28:29.332Z"
      },
      {
        "duration": 21,
        "start_time": "2023-03-20T19:43:58.596Z"
      },
      {
        "duration": 21,
        "start_time": "2023-03-20T19:46:05.277Z"
      },
      {
        "duration": 1648,
        "start_time": "2023-03-21T17:29:43.302Z"
      },
      {
        "duration": 8,
        "start_time": "2023-03-21T17:29:44.952Z"
      },
      {
        "duration": 9,
        "start_time": "2023-03-21T17:29:44.962Z"
      },
      {
        "duration": 11,
        "start_time": "2023-03-21T17:29:44.972Z"
      },
      {
        "duration": 92,
        "start_time": "2023-03-21T17:29:44.985Z"
      },
      {
        "duration": 28,
        "start_time": "2023-03-21T17:29:45.079Z"
      },
      {
        "duration": 127,
        "start_time": "2023-03-21T17:29:45.109Z"
      },
      {
        "duration": 6,
        "start_time": "2023-03-21T17:29:45.298Z"
      },
      {
        "duration": 3735,
        "start_time": "2023-03-21T17:29:45.551Z"
      },
      {
        "duration": 19,
        "start_time": "2023-03-21T17:29:49.289Z"
      },
      {
        "duration": 15,
        "start_time": "2023-03-21T17:29:49.312Z"
      },
      {
        "duration": 11,
        "start_time": "2023-03-21T17:29:49.330Z"
      },
      {
        "duration": 25,
        "start_time": "2023-03-21T17:29:49.342Z"
      },
      {
        "duration": 28,
        "start_time": "2023-03-21T17:29:49.369Z"
      },
      {
        "duration": 18,
        "start_time": "2023-03-21T17:29:49.399Z"
      },
      {
        "duration": 170,
        "start_time": "2023-03-21T17:29:49.421Z"
      },
      {
        "duration": 4,
        "start_time": "2023-03-21T17:29:49.593Z"
      },
      {
        "duration": 25,
        "start_time": "2023-03-21T17:29:49.599Z"
      },
      {
        "duration": 16,
        "start_time": "2023-03-21T17:29:50.121Z"
      },
      {
        "duration": 9,
        "start_time": "2023-03-21T17:29:50.631Z"
      },
      {
        "duration": 10,
        "start_time": "2023-03-21T17:29:50.886Z"
      },
      {
        "duration": 18,
        "start_time": "2023-03-21T17:29:51.132Z"
      },
      {
        "duration": 17,
        "start_time": "2023-03-21T17:29:51.727Z"
      },
      {
        "duration": 6,
        "start_time": "2023-03-21T17:29:52.653Z"
      },
      {
        "duration": 13,
        "start_time": "2023-03-21T17:29:52.917Z"
      },
      {
        "duration": 132,
        "start_time": "2023-03-21T17:29:54.094Z"
      },
      {
        "duration": 7676,
        "start_time": "2023-03-21T17:29:54.927Z"
      },
      {
        "duration": 1506,
        "start_time": "2023-03-21T17:30:02.606Z"
      },
      {
        "duration": 18,
        "start_time": "2023-03-21T17:30:04.113Z"
      },
      {
        "duration": 123,
        "start_time": "2023-03-21T17:36:53.931Z"
      },
      {
        "duration": 21,
        "start_time": "2023-03-21T18:01:08.104Z"
      },
      {
        "duration": 14,
        "start_time": "2023-03-21T18:01:19.086Z"
      },
      {
        "duration": 13,
        "start_time": "2023-03-21T18:01:27.137Z"
      },
      {
        "duration": 16,
        "start_time": "2023-03-21T18:01:37.307Z"
      },
      {
        "duration": 15,
        "start_time": "2023-03-21T18:02:46.003Z"
      },
      {
        "duration": 10,
        "start_time": "2023-03-21T18:11:19.639Z"
      },
      {
        "duration": 10,
        "start_time": "2023-03-21T18:16:32.059Z"
      },
      {
        "duration": 16,
        "start_time": "2023-03-21T18:18:58.079Z"
      },
      {
        "duration": 14,
        "start_time": "2023-03-21T18:19:50.185Z"
      },
      {
        "duration": 23,
        "start_time": "2023-03-21T18:25:23.473Z"
      },
      {
        "duration": 4,
        "start_time": "2023-03-21T19:09:51.989Z"
      },
      {
        "duration": 1786,
        "start_time": "2023-03-22T17:16:53.747Z"
      },
      {
        "duration": 16,
        "start_time": "2023-03-22T17:16:55.535Z"
      },
      {
        "duration": 52,
        "start_time": "2023-03-22T17:16:55.553Z"
      },
      {
        "duration": 77,
        "start_time": "2023-03-22T17:16:55.607Z"
      },
      {
        "duration": 138,
        "start_time": "2023-03-22T17:16:55.685Z"
      },
      {
        "duration": 29,
        "start_time": "2023-03-22T17:16:55.825Z"
      },
      {
        "duration": 162,
        "start_time": "2023-03-22T17:16:55.855Z"
      },
      {
        "duration": 14,
        "start_time": "2023-03-22T17:16:56.019Z"
      },
      {
        "duration": 3454,
        "start_time": "2023-03-22T17:16:56.035Z"
      },
      {
        "duration": 13,
        "start_time": "2023-03-22T17:16:59.490Z"
      },
      {
        "duration": 8,
        "start_time": "2023-03-22T17:16:59.505Z"
      },
      {
        "duration": 20,
        "start_time": "2023-03-22T17:16:59.515Z"
      },
      {
        "duration": 60,
        "start_time": "2023-03-22T17:16:59.536Z"
      },
      {
        "duration": 49,
        "start_time": "2023-03-22T17:16:59.598Z"
      },
      {
        "duration": 19,
        "start_time": "2023-03-22T17:16:59.653Z"
      },
      {
        "duration": 190,
        "start_time": "2023-03-22T17:16:59.673Z"
      },
      {
        "duration": 4,
        "start_time": "2023-03-22T17:16:59.871Z"
      },
      {
        "duration": 17,
        "start_time": "2023-03-22T17:16:59.877Z"
      },
      {
        "duration": 14,
        "start_time": "2023-03-22T17:16:59.896Z"
      },
      {
        "duration": 6,
        "start_time": "2023-03-22T17:16:59.911Z"
      },
      {
        "duration": 53,
        "start_time": "2023-03-22T17:16:59.918Z"
      },
      {
        "duration": 17,
        "start_time": "2023-03-22T17:17:00.095Z"
      },
      {
        "duration": 17,
        "start_time": "2023-03-22T17:17:00.244Z"
      },
      {
        "duration": 7,
        "start_time": "2023-03-22T17:17:00.852Z"
      },
      {
        "duration": 13,
        "start_time": "2023-03-22T17:17:01.052Z"
      },
      {
        "duration": 150,
        "start_time": "2023-03-22T17:17:01.712Z"
      },
      {
        "duration": 7798,
        "start_time": "2023-03-22T17:17:02.358Z"
      },
      {
        "duration": 994,
        "start_time": "2023-03-22T17:17:10.169Z"
      },
      {
        "duration": 49,
        "start_time": "2023-03-22T17:17:11.227Z"
      },
      {
        "duration": 4390,
        "start_time": "2023-03-22T17:45:07.849Z"
      },
      {
        "duration": 682,
        "start_time": "2023-03-22T17:45:44.586Z"
      },
      {
        "duration": 149,
        "start_time": "2023-03-22T17:45:58.860Z"
      },
      {
        "duration": 152,
        "start_time": "2023-03-22T17:46:39.244Z"
      },
      {
        "duration": 8202,
        "start_time": "2023-03-22T17:47:11.399Z"
      },
      {
        "duration": 532,
        "start_time": "2023-03-22T17:47:46.921Z"
      },
      {
        "duration": 311,
        "start_time": "2023-03-22T17:51:40.522Z"
      },
      {
        "duration": 128,
        "start_time": "2023-03-22T17:53:33.055Z"
      },
      {
        "duration": 12,
        "start_time": "2023-03-22T17:53:46.496Z"
      },
      {
        "duration": 15,
        "start_time": "2023-03-22T17:53:51.240Z"
      },
      {
        "duration": 120,
        "start_time": "2023-03-22T17:55:29.642Z"
      },
      {
        "duration": 117,
        "start_time": "2023-03-22T17:55:41.346Z"
      },
      {
        "duration": 133,
        "start_time": "2023-03-22T17:55:51.170Z"
      },
      {
        "duration": 253,
        "start_time": "2023-03-22T17:56:00.583Z"
      },
      {
        "duration": 70,
        "start_time": "2023-03-22T17:56:24.090Z"
      },
      {
        "duration": 78,
        "start_time": "2023-03-22T17:56:32.442Z"
      },
      {
        "duration": 90,
        "start_time": "2023-03-22T18:01:58.720Z"
      },
      {
        "duration": 115,
        "start_time": "2023-03-22T18:02:03.762Z"
      },
      {
        "duration": 128,
        "start_time": "2023-03-22T18:02:08.988Z"
      },
      {
        "duration": 69,
        "start_time": "2023-03-22T18:02:14.653Z"
      },
      {
        "duration": 84,
        "start_time": "2023-03-22T18:02:58.270Z"
      },
      {
        "duration": 77,
        "start_time": "2023-03-22T18:03:43.777Z"
      },
      {
        "duration": 64,
        "start_time": "2023-03-22T18:05:08.949Z"
      },
      {
        "duration": 65,
        "start_time": "2023-03-22T18:05:24.761Z"
      },
      {
        "duration": 63,
        "start_time": "2023-03-22T18:05:34.148Z"
      },
      {
        "duration": 108,
        "start_time": "2023-03-22T18:06:13.489Z"
      },
      {
        "duration": 313,
        "start_time": "2023-03-22T18:06:22.472Z"
      },
      {
        "duration": 779,
        "start_time": "2023-03-22T18:06:31.113Z"
      },
      {
        "duration": 4905,
        "start_time": "2023-03-22T18:10:09.772Z"
      },
      {
        "duration": 8467,
        "start_time": "2023-03-22T18:10:29.113Z"
      },
      {
        "duration": 18093,
        "start_time": "2023-03-22T18:12:30.915Z"
      },
      {
        "duration": 32446,
        "start_time": "2023-03-22T18:19:08.647Z"
      },
      {
        "duration": 32318,
        "start_time": "2023-03-22T18:19:59.018Z"
      },
      {
        "duration": 25,
        "start_time": "2023-03-22T18:27:10.422Z"
      },
      {
        "duration": 769,
        "start_time": "2023-03-22T18:27:10.776Z"
      },
      {
        "duration": 17847,
        "start_time": "2023-03-22T18:27:11.547Z"
      },
      {
        "duration": 33364,
        "start_time": "2023-03-22T18:27:29.395Z"
      },
      {
        "duration": 8146,
        "start_time": "2023-03-22T18:30:13.946Z"
      },
      {
        "duration": 252,
        "start_time": "2023-03-22T18:30:22.096Z"
      },
      {
        "duration": 911,
        "start_time": "2023-03-22T18:30:22.368Z"
      },
      {
        "duration": 17809,
        "start_time": "2023-03-22T18:30:23.281Z"
      },
      {
        "duration": 30623,
        "start_time": "2023-03-22T18:30:41.092Z"
      },
      {
        "duration": 45,
        "start_time": "2023-03-22T18:31:11.722Z"
      },
      {
        "duration": 28,
        "start_time": "2023-03-22T18:31:15.281Z"
      },
      {
        "duration": 812,
        "start_time": "2023-03-22T18:31:15.922Z"
      },
      {
        "duration": 16288,
        "start_time": "2023-03-22T18:31:16.749Z"
      },
      {
        "duration": 29616,
        "start_time": "2023-03-22T18:31:33.039Z"
      },
      {
        "duration": 3,
        "start_time": "2023-03-22T18:33:55.152Z"
      },
      {
        "duration": 4,
        "start_time": "2023-03-22T18:58:11.248Z"
      },
      {
        "duration": 11,
        "start_time": "2023-03-22T19:00:05.471Z"
      },
      {
        "duration": 9,
        "start_time": "2023-03-22T19:00:58.740Z"
      },
      {
        "duration": 10,
        "start_time": "2023-03-22T19:04:24.183Z"
      },
      {
        "duration": 5,
        "start_time": "2023-03-22T19:04:58.453Z"
      },
      {
        "duration": 12,
        "start_time": "2023-03-22T19:05:09.459Z"
      },
      {
        "duration": 4,
        "start_time": "2023-03-22T19:05:11.052Z"
      },
      {
        "duration": 8,
        "start_time": "2023-03-22T19:05:11.639Z"
      },
      {
        "duration": 4,
        "start_time": "2023-03-22T19:25:13.103Z"
      },
      {
        "duration": 8,
        "start_time": "2023-03-22T19:25:13.369Z"
      },
      {
        "duration": 3,
        "start_time": "2023-03-22T19:25:13.765Z"
      },
      {
        "duration": 6,
        "start_time": "2023-03-22T19:25:14.151Z"
      },
      {
        "duration": 49,
        "start_time": "2023-03-22T19:25:14.457Z"
      },
      {
        "duration": 22,
        "start_time": "2023-03-22T19:25:14.754Z"
      },
      {
        "duration": 112,
        "start_time": "2023-03-22T19:25:15.376Z"
      },
      {
        "duration": 6,
        "start_time": "2023-03-22T19:25:15.678Z"
      },
      {
        "duration": 3368,
        "start_time": "2023-03-22T19:25:15.994Z"
      },
      {
        "duration": 14,
        "start_time": "2023-03-22T19:25:19.363Z"
      },
      {
        "duration": 7,
        "start_time": "2023-03-22T19:25:19.378Z"
      },
      {
        "duration": 7,
        "start_time": "2023-03-22T19:25:19.387Z"
      },
      {
        "duration": 46,
        "start_time": "2023-03-22T19:25:19.395Z"
      },
      {
        "duration": 36,
        "start_time": "2023-03-22T19:25:19.452Z"
      },
      {
        "duration": 8,
        "start_time": "2023-03-22T19:25:19.489Z"
      },
      {
        "duration": 174,
        "start_time": "2023-03-22T19:25:19.499Z"
      },
      {
        "duration": 4,
        "start_time": "2023-03-22T19:25:19.675Z"
      },
      {
        "duration": 22,
        "start_time": "2023-03-22T19:25:19.857Z"
      },
      {
        "duration": 15,
        "start_time": "2023-03-22T19:25:20.455Z"
      },
      {
        "duration": 9,
        "start_time": "2023-03-22T19:25:20.994Z"
      },
      {
        "duration": 7,
        "start_time": "2023-03-22T19:25:21.246Z"
      },
      {
        "duration": 25,
        "start_time": "2023-03-22T19:25:21.413Z"
      },
      {
        "duration": 11,
        "start_time": "2023-03-22T19:25:21.607Z"
      },
      {
        "duration": 6,
        "start_time": "2023-03-22T19:25:22.180Z"
      },
      {
        "duration": 10,
        "start_time": "2023-03-22T19:25:22.373Z"
      },
      {
        "duration": 139,
        "start_time": "2023-03-22T19:25:22.953Z"
      },
      {
        "duration": 6970,
        "start_time": "2023-03-22T19:25:23.346Z"
      },
      {
        "duration": 1021,
        "start_time": "2023-03-22T19:25:30.317Z"
      },
      {
        "duration": 178,
        "start_time": "2023-03-22T19:25:31.344Z"
      },
      {
        "duration": 648,
        "start_time": "2023-03-22T19:25:31.525Z"
      },
      {
        "duration": 15855,
        "start_time": "2023-03-22T19:25:32.174Z"
      },
      {
        "duration": 28868,
        "start_time": "2023-03-22T19:25:48.031Z"
      },
      {
        "duration": 5,
        "start_time": "2023-03-22T19:26:16.901Z"
      },
      {
        "duration": 24,
        "start_time": "2023-03-22T19:26:16.908Z"
      },
      {
        "duration": 20,
        "start_time": "2023-03-22T19:26:16.943Z"
      },
      {
        "duration": 14,
        "start_time": "2023-03-22T19:56:28.669Z"
      },
      {
        "duration": 23,
        "start_time": "2023-03-22T19:57:16.367Z"
      },
      {
        "duration": 661,
        "start_time": "2023-03-22T20:01:37.622Z"
      },
      {
        "duration": 630,
        "start_time": "2023-03-22T20:02:57.530Z"
      },
      {
        "duration": 15803,
        "start_time": "2023-03-22T20:07:50.264Z"
      },
      {
        "duration": 660,
        "start_time": "2023-03-22T20:10:06.005Z"
      },
      {
        "duration": 710,
        "start_time": "2023-03-22T20:10:48.705Z"
      },
      {
        "duration": 18,
        "start_time": "2023-03-22T20:11:11.054Z"
      },
      {
        "duration": 17,
        "start_time": "2023-03-22T20:11:33.492Z"
      },
      {
        "duration": 586,
        "start_time": "2023-03-22T20:12:12.260Z"
      },
      {
        "duration": 15391,
        "start_time": "2023-03-22T20:13:48.205Z"
      },
      {
        "duration": 0,
        "start_time": "2023-03-22T20:20:35.177Z"
      },
      {
        "duration": 353276,
        "start_time": "2023-03-22T20:20:40.288Z"
      },
      {
        "duration": 1453,
        "start_time": "2023-03-22T20:47:34.302Z"
      },
      {
        "duration": 1584,
        "start_time": "2023-03-22T20:48:14.279Z"
      },
      {
        "duration": 954,
        "start_time": "2023-03-22T20:49:46.067Z"
      },
      {
        "duration": 2126696,
        "start_time": "2023-03-22T20:50:04.880Z"
      },
      {
        "duration": 67,
        "start_time": "2023-03-22T21:25:31.577Z"
      },
      {
        "duration": 1738,
        "start_time": "2023-03-23T17:41:01.100Z"
      },
      {
        "duration": 7,
        "start_time": "2023-03-23T17:41:02.841Z"
      },
      {
        "duration": 7,
        "start_time": "2023-03-23T17:41:02.850Z"
      },
      {
        "duration": 13,
        "start_time": "2023-03-23T17:41:02.866Z"
      },
      {
        "duration": 173,
        "start_time": "2023-03-23T17:41:02.882Z"
      },
      {
        "duration": 34,
        "start_time": "2023-03-23T17:41:03.057Z"
      },
      {
        "duration": 122,
        "start_time": "2023-03-23T17:41:03.092Z"
      },
      {
        "duration": 6,
        "start_time": "2023-03-23T17:41:03.215Z"
      },
      {
        "duration": 3786,
        "start_time": "2023-03-23T17:41:03.223Z"
      },
      {
        "duration": 15,
        "start_time": "2023-03-23T17:41:07.012Z"
      },
      {
        "duration": 5,
        "start_time": "2023-03-23T17:41:07.029Z"
      },
      {
        "duration": 7,
        "start_time": "2023-03-23T17:41:07.036Z"
      },
      {
        "duration": 36,
        "start_time": "2023-03-23T17:41:07.045Z"
      },
      {
        "duration": 28,
        "start_time": "2023-03-23T17:41:07.083Z"
      },
      {
        "duration": 9,
        "start_time": "2023-03-23T17:41:07.113Z"
      },
      {
        "duration": 197,
        "start_time": "2023-03-23T17:41:07.124Z"
      },
      {
        "duration": 4,
        "start_time": "2023-03-23T17:41:07.322Z"
      },
      {
        "duration": 39,
        "start_time": "2023-03-23T17:41:07.328Z"
      },
      {
        "duration": 15,
        "start_time": "2023-03-23T17:41:07.368Z"
      },
      {
        "duration": 6,
        "start_time": "2023-03-23T17:41:07.385Z"
      },
      {
        "duration": 18,
        "start_time": "2023-03-23T17:41:07.392Z"
      },
      {
        "duration": 22,
        "start_time": "2023-03-23T17:41:07.417Z"
      },
      {
        "duration": 25,
        "start_time": "2023-03-23T17:41:07.440Z"
      },
      {
        "duration": 8,
        "start_time": "2023-03-23T17:41:07.468Z"
      },
      {
        "duration": 16,
        "start_time": "2023-03-23T17:41:07.484Z"
      },
      {
        "duration": 141,
        "start_time": "2023-03-23T17:41:07.503Z"
      },
      {
        "duration": 19,
        "start_time": "2023-03-23T17:41:07.883Z"
      },
      {
        "duration": 1262,
        "start_time": "2023-03-23T17:41:08.209Z"
      },
      {
        "duration": 115,
        "start_time": "2023-03-23T17:41:09.473Z"
      },
      {
        "duration": 1067,
        "start_time": "2023-03-23T17:41:09.678Z"
      },
      {
        "duration": 1709070,
        "start_time": "2023-03-23T17:41:10.747Z"
      },
      {
        "duration": 52,
        "start_time": "2023-03-23T18:09:39.819Z"
      },
      {
        "duration": 93,
        "start_time": "2023-03-23T18:09:39.874Z"
      },
      {
        "duration": 6,
        "start_time": "2023-03-23T18:09:39.970Z"
      },
      {
        "duration": 8,
        "start_time": "2023-03-23T18:09:39.981Z"
      },
      {
        "duration": 5,
        "start_time": "2023-03-23T19:19:39.477Z"
      },
      {
        "duration": 8,
        "start_time": "2023-03-23T19:19:40.011Z"
      },
      {
        "duration": 3,
        "start_time": "2023-03-23T19:19:40.449Z"
      },
      {
        "duration": 5,
        "start_time": "2023-03-23T19:19:41.318Z"
      },
      {
        "duration": 38,
        "start_time": "2023-03-23T19:19:42.095Z"
      },
      {
        "duration": 20,
        "start_time": "2023-03-23T19:19:42.695Z"
      },
      {
        "duration": 144,
        "start_time": "2023-03-23T19:19:43.982Z"
      },
      {
        "duration": 6,
        "start_time": "2023-03-23T19:19:44.694Z"
      },
      {
        "duration": 3362,
        "start_time": "2023-03-23T19:19:45.346Z"
      },
      {
        "duration": 23,
        "start_time": "2023-03-23T19:19:48.711Z"
      },
      {
        "duration": 6,
        "start_time": "2023-03-23T19:19:49.520Z"
      },
      {
        "duration": 6,
        "start_time": "2023-03-23T19:19:51.299Z"
      },
      {
        "duration": 22,
        "start_time": "2023-03-23T19:19:52.583Z"
      },
      {
        "duration": 37,
        "start_time": "2023-03-23T19:19:54.937Z"
      },
      {
        "duration": 16,
        "start_time": "2023-03-23T19:19:55.958Z"
      },
      {
        "duration": 157,
        "start_time": "2023-03-23T19:19:57.688Z"
      },
      {
        "duration": 4,
        "start_time": "2023-03-23T19:19:59.727Z"
      },
      {
        "duration": 18,
        "start_time": "2023-03-23T19:20:01.427Z"
      },
      {
        "duration": 16,
        "start_time": "2023-03-23T19:20:04.116Z"
      },
      {
        "duration": 6,
        "start_time": "2023-03-23T19:20:06.714Z"
      },
      {
        "duration": 6,
        "start_time": "2023-03-23T19:20:07.608Z"
      },
      {
        "duration": 18,
        "start_time": "2023-03-23T19:20:08.595Z"
      },
      {
        "duration": 12,
        "start_time": "2023-03-23T19:20:09.477Z"
      },
      {
        "duration": 11,
        "start_time": "2023-03-23T19:20:16.942Z"
      },
      {
        "duration": 113,
        "start_time": "2023-03-23T19:20:45.982Z"
      },
      {
        "duration": 7602,
        "start_time": "2023-03-23T19:21:03.943Z"
      },
      {
        "duration": 1116,
        "start_time": "2023-03-23T19:22:48.350Z"
      },
      {
        "duration": 24,
        "start_time": "2023-03-23T19:22:54.904Z"
      },
      {
        "duration": 1089,
        "start_time": "2023-03-23T19:23:03.792Z"
      },
      {
        "duration": 25,
        "start_time": "2023-03-23T19:23:52.824Z"
      },
      {
        "duration": 4,
        "start_time": "2023-03-23T19:24:00.875Z"
      },
      {
        "duration": 5,
        "start_time": "2023-03-23T19:24:02.676Z"
      },
      {
        "duration": 7,
        "start_time": "2023-03-23T19:24:04.297Z"
      },
      {
        "duration": 9,
        "start_time": "2023-03-23T19:24:24.685Z"
      },
      {
        "duration": 16,
        "start_time": "2023-03-23T19:27:22.567Z"
      },
      {
        "duration": 15,
        "start_time": "2023-03-23T19:29:09.090Z"
      },
      {
        "duration": 4,
        "start_time": "2023-03-23T19:29:37.030Z"
      },
      {
        "duration": 8,
        "start_time": "2023-03-23T19:29:37.847Z"
      },
      {
        "duration": 4,
        "start_time": "2023-03-23T19:29:45.645Z"
      },
      {
        "duration": 11,
        "start_time": "2023-03-23T19:30:27.135Z"
      },
      {
        "duration": 291,
        "start_time": "2023-03-23T19:40:53.834Z"
      },
      {
        "duration": 490,
        "start_time": "2023-03-23T19:41:47.583Z"
      },
      {
        "duration": 424,
        "start_time": "2023-03-23T19:42:00.913Z"
      },
      {
        "duration": 11,
        "start_time": "2023-03-23T19:42:17.093Z"
      },
      {
        "duration": 241,
        "start_time": "2023-03-23T19:45:42.017Z"
      },
      {
        "duration": 590,
        "start_time": "2023-03-23T19:45:49.983Z"
      },
      {
        "duration": 107,
        "start_time": "2023-03-23T19:48:07.639Z"
      },
      {
        "duration": 7174,
        "start_time": "2023-03-23T19:48:26.078Z"
      },
      {
        "duration": 336,
        "start_time": "2023-03-23T19:49:01.733Z"
      },
      {
        "duration": 1058,
        "start_time": "2023-03-23T19:49:18.885Z"
      },
      {
        "duration": 1163,
        "start_time": "2023-03-23T19:49:30.914Z"
      },
      {
        "duration": 1478271,
        "start_time": "2023-03-23T19:49:40.078Z"
      },
      {
        "duration": 0,
        "start_time": "2023-03-23T20:14:18.351Z"
      },
      {
        "duration": 0,
        "start_time": "2023-03-23T20:14:18.363Z"
      },
      {
        "duration": 1,
        "start_time": "2023-03-23T20:14:18.364Z"
      },
      {
        "duration": 201466,
        "start_time": "2023-03-23T20:14:34.992Z"
      },
      {
        "duration": 37,
        "start_time": "2023-03-23T20:20:58.158Z"
      },
      {
        "duration": 6,
        "start_time": "2023-03-23T20:21:08.188Z"
      },
      {
        "duration": 4,
        "start_time": "2023-03-23T20:21:08.707Z"
      },
      {
        "duration": 14,
        "start_time": "2023-03-23T20:21:09.254Z"
      },
      {
        "duration": 3,
        "start_time": "2023-03-23T20:21:09.810Z"
      },
      {
        "duration": 3,
        "start_time": "2023-03-23T20:21:10.392Z"
      },
      {
        "duration": 618,
        "start_time": "2023-03-23T20:21:11.515Z"
      },
      {
        "duration": 12,
        "start_time": "2023-03-23T20:23:29.781Z"
      },
      {
        "duration": 5,
        "start_time": "2023-03-23T20:23:32.648Z"
      },
      {
        "duration": 15,
        "start_time": "2023-03-23T20:23:33.261Z"
      },
      {
        "duration": 620,
        "start_time": "2023-03-23T20:23:37.120Z"
      },
      {
        "duration": 2,
        "start_time": "2023-03-23T20:24:06.926Z"
      },
      {
        "duration": 14,
        "start_time": "2023-03-23T20:24:25.482Z"
      },
      {
        "duration": 12,
        "start_time": "2023-03-23T20:25:57.831Z"
      },
      {
        "duration": 66,
        "start_time": "2023-03-23T20:26:41.808Z"
      },
      {
        "duration": 1266,
        "start_time": "2023-03-23T20:27:52.813Z"
      },
      {
        "duration": 1599,
        "start_time": "2023-03-24T16:44:11.042Z"
      },
      {
        "duration": 8,
        "start_time": "2023-03-24T16:44:12.644Z"
      },
      {
        "duration": 12,
        "start_time": "2023-03-24T16:44:12.654Z"
      },
      {
        "duration": 12,
        "start_time": "2023-03-24T16:44:12.668Z"
      },
      {
        "duration": 193,
        "start_time": "2023-03-24T16:44:12.681Z"
      },
      {
        "duration": 26,
        "start_time": "2023-03-24T16:44:12.875Z"
      },
      {
        "duration": 115,
        "start_time": "2023-03-24T16:44:12.903Z"
      },
      {
        "duration": 6,
        "start_time": "2023-03-24T16:44:13.019Z"
      },
      {
        "duration": 3733,
        "start_time": "2023-03-24T16:44:13.027Z"
      },
      {
        "duration": 16,
        "start_time": "2023-03-24T16:44:16.763Z"
      },
      {
        "duration": 7,
        "start_time": "2023-03-24T16:44:16.781Z"
      },
      {
        "duration": 7,
        "start_time": "2023-03-24T16:44:16.789Z"
      },
      {
        "duration": 22,
        "start_time": "2023-03-24T16:44:16.798Z"
      },
      {
        "duration": 62,
        "start_time": "2023-03-24T16:44:16.822Z"
      },
      {
        "duration": 8,
        "start_time": "2023-03-24T16:44:16.887Z"
      },
      {
        "duration": 158,
        "start_time": "2023-03-24T16:44:16.897Z"
      },
      {
        "duration": 4,
        "start_time": "2023-03-24T16:44:17.061Z"
      },
      {
        "duration": 16,
        "start_time": "2023-03-24T16:44:17.066Z"
      },
      {
        "duration": 11,
        "start_time": "2023-03-24T16:44:17.084Z"
      },
      {
        "duration": 8,
        "start_time": "2023-03-24T16:44:17.096Z"
      },
      {
        "duration": 6,
        "start_time": "2023-03-24T16:44:17.106Z"
      },
      {
        "duration": 16,
        "start_time": "2023-03-24T16:44:17.113Z"
      },
      {
        "duration": 11,
        "start_time": "2023-03-24T16:44:17.162Z"
      },
      {
        "duration": 4,
        "start_time": "2023-03-24T16:44:17.176Z"
      },
      {
        "duration": 9,
        "start_time": "2023-03-24T16:44:17.320Z"
      },
      {
        "duration": 114,
        "start_time": "2023-03-24T16:44:17.885Z"
      },
      {
        "duration": 6941,
        "start_time": "2023-03-24T16:44:18.262Z"
      },
      {
        "duration": 365,
        "start_time": "2023-03-24T16:44:25.205Z"
      },
      {
        "duration": 110,
        "start_time": "2023-03-24T16:44:25.663Z"
      },
      {
        "duration": 987,
        "start_time": "2023-03-24T16:44:25.775Z"
      },
      {
        "duration": 181831,
        "start_time": "2023-03-24T16:44:26.763Z"
      },
      {
        "duration": 21,
        "start_time": "2023-03-24T16:47:28.596Z"
      },
      {
        "duration": 6,
        "start_time": "2023-03-24T16:47:28.663Z"
      },
      {
        "duration": 93,
        "start_time": "2023-03-24T16:47:28.671Z"
      },
      {
        "duration": 12,
        "start_time": "2023-03-24T16:47:28.766Z"
      },
      {
        "duration": 5,
        "start_time": "2023-03-24T16:47:28.780Z"
      },
      {
        "duration": 12,
        "start_time": "2023-03-24T16:47:28.786Z"
      },
      {
        "duration": 418,
        "start_time": "2023-03-24T16:49:15.030Z"
      },
      {
        "duration": 26,
        "start_time": "2023-03-24T16:50:30.631Z"
      },
      {
        "duration": 10,
        "start_time": "2023-03-24T17:16:09.422Z"
      },
      {
        "duration": 61,
        "start_time": "2023-03-24T17:17:12.248Z"
      },
      {
        "duration": 50,
        "start_time": "2023-03-24T17:17:48.465Z"
      },
      {
        "duration": 10,
        "start_time": "2023-03-24T17:20:47.633Z"
      },
      {
        "duration": 6,
        "start_time": "2023-03-24T17:21:10.642Z"
      },
      {
        "duration": 4,
        "start_time": "2023-03-24T17:21:11.137Z"
      },
      {
        "duration": 10,
        "start_time": "2023-03-24T17:21:11.568Z"
      },
      {
        "duration": 5,
        "start_time": "2023-03-24T17:21:12.037Z"
      },
      {
        "duration": 11,
        "start_time": "2023-03-24T17:21:12.535Z"
      },
      {
        "duration": 63,
        "start_time": "2023-03-24T17:21:13.944Z"
      },
      {
        "duration": 12,
        "start_time": "2023-03-24T17:21:14.495Z"
      },
      {
        "duration": 12,
        "start_time": "2023-03-24T17:24:58.254Z"
      },
      {
        "duration": 11,
        "start_time": "2023-03-24T17:25:27.585Z"
      },
      {
        "duration": 61,
        "start_time": "2023-03-24T17:25:33.822Z"
      },
      {
        "duration": 206,
        "start_time": "2023-03-24T17:27:41.158Z"
      },
      {
        "duration": 12,
        "start_time": "2023-03-24T17:28:03.144Z"
      },
      {
        "duration": 181,
        "start_time": "2023-03-24T17:31:37.080Z"
      },
      {
        "duration": 6,
        "start_time": "2023-03-24T17:32:55.746Z"
      },
      {
        "duration": 8,
        "start_time": "2023-03-24T17:32:55.912Z"
      },
      {
        "duration": 4,
        "start_time": "2023-03-24T17:32:56.060Z"
      },
      {
        "duration": 7,
        "start_time": "2023-03-24T17:32:56.221Z"
      },
      {
        "duration": 45,
        "start_time": "2023-03-24T17:32:56.403Z"
      },
      {
        "duration": 32,
        "start_time": "2023-03-24T17:32:56.580Z"
      },
      {
        "duration": 139,
        "start_time": "2023-03-24T17:32:57.084Z"
      },
      {
        "duration": 6,
        "start_time": "2023-03-24T17:32:57.274Z"
      },
      {
        "duration": 3502,
        "start_time": "2023-03-24T17:32:57.429Z"
      },
      {
        "duration": 28,
        "start_time": "2023-03-24T17:33:00.933Z"
      },
      {
        "duration": 11,
        "start_time": "2023-03-24T17:33:00.964Z"
      },
      {
        "duration": 39,
        "start_time": "2023-03-24T17:33:00.977Z"
      },
      {
        "duration": 57,
        "start_time": "2023-03-24T17:33:01.018Z"
      },
      {
        "duration": 42,
        "start_time": "2023-03-24T17:33:01.077Z"
      },
      {
        "duration": 13,
        "start_time": "2023-03-24T17:33:01.121Z"
      },
      {
        "duration": 196,
        "start_time": "2023-03-24T17:33:01.137Z"
      },
      {
        "duration": 5,
        "start_time": "2023-03-24T17:33:01.334Z"
      },
      {
        "duration": 55,
        "start_time": "2023-03-24T17:33:01.341Z"
      },
      {
        "duration": 45,
        "start_time": "2023-03-24T17:33:01.397Z"
      },
      {
        "duration": 38,
        "start_time": "2023-03-24T17:33:01.444Z"
      },
      {
        "duration": 30,
        "start_time": "2023-03-24T17:33:01.484Z"
      },
      {
        "duration": 39,
        "start_time": "2023-03-24T17:33:01.516Z"
      },
      {
        "duration": 23,
        "start_time": "2023-03-24T17:33:01.557Z"
      },
      {
        "duration": 5,
        "start_time": "2023-03-24T17:33:02.080Z"
      },
      {
        "duration": 9,
        "start_time": "2023-03-24T17:33:02.248Z"
      },
      {
        "duration": 112,
        "start_time": "2023-03-24T17:33:02.813Z"
      },
      {
        "duration": 6985,
        "start_time": "2023-03-24T17:33:03.129Z"
      },
      {
        "duration": 2456,
        "start_time": "2023-03-24T17:33:10.116Z"
      },
      {
        "duration": 199,
        "start_time": "2023-03-24T17:33:12.574Z"
      },
      {
        "duration": 1008,
        "start_time": "2023-03-24T17:33:12.776Z"
      },
      {
        "duration": 116047,
        "start_time": "2023-03-24T17:33:13.786Z"
      },
      {
        "duration": 0,
        "start_time": "2023-03-24T17:35:09.835Z"
      },
      {
        "duration": 0,
        "start_time": "2023-03-24T17:35:09.836Z"
      },
      {
        "duration": 0,
        "start_time": "2023-03-24T17:35:09.837Z"
      },
      {
        "duration": 0,
        "start_time": "2023-03-24T17:35:09.839Z"
      },
      {
        "duration": 0,
        "start_time": "2023-03-24T17:35:09.840Z"
      },
      {
        "duration": 0,
        "start_time": "2023-03-24T17:35:09.841Z"
      },
      {
        "duration": 0,
        "start_time": "2023-03-24T17:35:09.842Z"
      },
      {
        "duration": 0,
        "start_time": "2023-03-24T17:35:09.843Z"
      },
      {
        "duration": 0,
        "start_time": "2023-03-24T17:35:09.844Z"
      },
      {
        "duration": 0,
        "start_time": "2023-03-24T17:35:09.861Z"
      },
      {
        "duration": 73,
        "start_time": "2023-03-24T17:37:19.408Z"
      },
      {
        "duration": 8515,
        "start_time": "2023-03-24T17:37:46.185Z"
      },
      {
        "duration": 29202,
        "start_time": "2023-03-24T17:38:39.632Z"
      },
      {
        "duration": 27988,
        "start_time": "2023-03-24T17:39:57.253Z"
      },
      {
        "duration": 41,
        "start_time": "2023-03-24T17:41:24.427Z"
      },
      {
        "duration": 26561,
        "start_time": "2023-03-24T17:42:20.373Z"
      },
      {
        "duration": 10,
        "start_time": "2023-03-24T17:43:08.656Z"
      },
      {
        "duration": 4,
        "start_time": "2023-03-24T17:43:17.042Z"
      },
      {
        "duration": 10,
        "start_time": "2023-03-24T17:43:18.343Z"
      },
      {
        "duration": 178,
        "start_time": "2023-03-24T17:43:20.494Z"
      },
      {
        "duration": 22,
        "start_time": "2023-03-24T17:43:24.854Z"
      },
      {
        "duration": 21,
        "start_time": "2023-03-24T17:43:25.507Z"
      },
      {
        "duration": 15,
        "start_time": "2023-03-24T17:44:36.236Z"
      },
      {
        "duration": 14,
        "start_time": "2023-03-24T17:44:43.104Z"
      },
      {
        "duration": 35,
        "start_time": "2023-03-24T17:45:01.113Z"
      },
      {
        "duration": 8,
        "start_time": "2023-03-24T17:45:01.654Z"
      },
      {
        "duration": 157,
        "start_time": "2023-03-24T17:45:03.244Z"
      },
      {
        "duration": 13,
        "start_time": "2023-03-24T17:45:04.784Z"
      },
      {
        "duration": 1478,
        "start_time": "2023-03-24T17:46:44.765Z"
      },
      {
        "duration": 8,
        "start_time": "2023-03-24T17:46:46.246Z"
      },
      {
        "duration": 12,
        "start_time": "2023-03-24T17:46:46.255Z"
      },
      {
        "duration": 6,
        "start_time": "2023-03-24T17:46:46.270Z"
      },
      {
        "duration": 39,
        "start_time": "2023-03-24T17:46:46.678Z"
      },
      {
        "duration": 29,
        "start_time": "2023-03-24T17:46:47.156Z"
      },
      {
        "duration": 146,
        "start_time": "2023-03-24T17:46:48.235Z"
      },
      {
        "duration": 7,
        "start_time": "2023-03-24T17:46:49.134Z"
      },
      {
        "duration": 3497,
        "start_time": "2023-03-24T17:46:49.684Z"
      },
      {
        "duration": 15,
        "start_time": "2023-03-24T17:46:53.184Z"
      },
      {
        "duration": 17,
        "start_time": "2023-03-24T17:46:53.201Z"
      },
      {
        "duration": 20,
        "start_time": "2023-03-24T17:46:53.221Z"
      },
      {
        "duration": 25,
        "start_time": "2023-03-24T17:46:53.244Z"
      },
      {
        "duration": 41,
        "start_time": "2023-03-24T17:46:53.965Z"
      },
      {
        "duration": 9,
        "start_time": "2023-03-24T17:46:54.405Z"
      },
      {
        "duration": 184,
        "start_time": "2023-03-24T17:46:56.216Z"
      },
      {
        "duration": 5,
        "start_time": "2023-03-24T17:46:56.665Z"
      },
      {
        "duration": 17,
        "start_time": "2023-03-24T17:46:56.945Z"
      },
      {
        "duration": 15,
        "start_time": "2023-03-24T17:46:57.602Z"
      },
      {
        "duration": 7,
        "start_time": "2023-03-24T17:46:57.946Z"
      },
      {
        "duration": 7,
        "start_time": "2023-03-24T17:46:58.134Z"
      },
      {
        "duration": 21,
        "start_time": "2023-03-24T17:46:58.376Z"
      },
      {
        "duration": 12,
        "start_time": "2023-03-24T17:46:58.583Z"
      },
      {
        "duration": 4,
        "start_time": "2023-03-24T17:47:26.120Z"
      },
      {
        "duration": 8,
        "start_time": "2023-03-24T17:47:26.845Z"
      },
      {
        "duration": 177,
        "start_time": "2023-03-24T17:47:28.048Z"
      },
      {
        "duration": 120,
        "start_time": "2023-03-24T17:47:30.342Z"
      },
      {
        "duration": 13,
        "start_time": "2023-03-24T17:48:35.836Z"
      },
      {
        "duration": 14,
        "start_time": "2023-03-24T17:49:09.144Z"
      },
      {
        "duration": 69,
        "start_time": "2023-03-24T17:49:42.565Z"
      },
      {
        "duration": 35070,
        "start_time": "2023-03-24T17:49:54.214Z"
      },
      {
        "duration": 0,
        "start_time": "2023-03-24T17:50:29.285Z"
      },
      {
        "duration": 0,
        "start_time": "2023-03-24T17:50:29.286Z"
      },
      {
        "duration": 0,
        "start_time": "2023-03-24T17:50:29.288Z"
      },
      {
        "duration": 692,
        "start_time": "2023-03-24T17:52:10.587Z"
      },
      {
        "duration": 15,
        "start_time": "2023-03-24T17:52:14.442Z"
      },
      {
        "duration": 171,
        "start_time": "2023-03-24T17:52:15.886Z"
      },
      {
        "duration": 14,
        "start_time": "2023-03-24T17:52:17.684Z"
      },
      {
        "duration": 15,
        "start_time": "2023-03-24T17:52:27.567Z"
      },
      {
        "duration": 1235,
        "start_time": "2023-03-24T17:52:49.586Z"
      },
      {
        "duration": 16,
        "start_time": "2023-03-24T17:52:55.476Z"
      },
      {
        "duration": 29,
        "start_time": "2023-03-24T17:56:11.477Z"
      },
      {
        "duration": 35,
        "start_time": "2023-03-24T17:56:15.211Z"
      },
      {
        "duration": 15,
        "start_time": "2023-03-24T17:56:15.889Z"
      },
      {
        "duration": 288,
        "start_time": "2023-03-24T17:56:16.379Z"
      },
      {
        "duration": 14,
        "start_time": "2023-03-24T17:56:16.813Z"
      },
      {
        "duration": 0,
        "start_time": "2023-03-24T18:01:45.480Z"
      },
      {
        "duration": 0,
        "start_time": "2023-03-24T18:01:45.481Z"
      },
      {
        "duration": 0,
        "start_time": "2023-03-24T18:01:45.481Z"
      },
      {
        "duration": 0,
        "start_time": "2023-03-24T18:01:45.483Z"
      },
      {
        "duration": 0,
        "start_time": "2023-03-24T18:01:45.484Z"
      },
      {
        "duration": 0,
        "start_time": "2023-03-24T18:01:45.485Z"
      },
      {
        "duration": 0,
        "start_time": "2023-03-24T18:01:45.486Z"
      },
      {
        "duration": 0,
        "start_time": "2023-03-24T18:01:45.487Z"
      },
      {
        "duration": 0,
        "start_time": "2023-03-24T18:01:45.488Z"
      },
      {
        "duration": 0,
        "start_time": "2023-03-24T18:01:45.489Z"
      },
      {
        "duration": 0,
        "start_time": "2023-03-24T18:01:45.490Z"
      },
      {
        "duration": 0,
        "start_time": "2023-03-24T18:01:45.491Z"
      },
      {
        "duration": 0,
        "start_time": "2023-03-24T18:01:45.492Z"
      },
      {
        "duration": 0,
        "start_time": "2023-03-24T18:01:45.493Z"
      },
      {
        "duration": 0,
        "start_time": "2023-03-24T18:01:45.494Z"
      },
      {
        "duration": 0,
        "start_time": "2023-03-24T18:01:45.496Z"
      },
      {
        "duration": 1,
        "start_time": "2023-03-24T18:01:45.496Z"
      },
      {
        "duration": 0,
        "start_time": "2023-03-24T18:01:45.497Z"
      },
      {
        "duration": 0,
        "start_time": "2023-03-24T18:01:45.498Z"
      },
      {
        "duration": 0,
        "start_time": "2023-03-24T18:01:45.499Z"
      },
      {
        "duration": 0,
        "start_time": "2023-03-24T18:01:45.500Z"
      },
      {
        "duration": 0,
        "start_time": "2023-03-24T18:01:45.501Z"
      },
      {
        "duration": 0,
        "start_time": "2023-03-24T18:01:45.563Z"
      },
      {
        "duration": 0,
        "start_time": "2023-03-24T18:01:45.563Z"
      },
      {
        "duration": 0,
        "start_time": "2023-03-24T18:01:45.564Z"
      },
      {
        "duration": 0,
        "start_time": "2023-03-24T18:01:45.565Z"
      },
      {
        "duration": 157,
        "start_time": "2023-03-24T18:02:44.545Z"
      },
      {
        "duration": 17,
        "start_time": "2023-03-24T18:02:46.524Z"
      },
      {
        "duration": 31,
        "start_time": "2023-03-24T18:03:52.438Z"
      },
      {
        "duration": 17,
        "start_time": "2023-03-24T18:03:54.092Z"
      },
      {
        "duration": 15,
        "start_time": "2023-03-24T18:04:45.819Z"
      },
      {
        "duration": 160,
        "start_time": "2023-03-24T18:04:47.240Z"
      },
      {
        "duration": 13,
        "start_time": "2023-03-24T18:04:49.104Z"
      },
      {
        "duration": 199,
        "start_time": "2023-03-24T18:05:13.521Z"
      },
      {
        "duration": 1455,
        "start_time": "2023-03-24T18:06:18.372Z"
      },
      {
        "duration": 8,
        "start_time": "2023-03-24T18:06:19.829Z"
      },
      {
        "duration": 3,
        "start_time": "2023-03-24T18:06:19.897Z"
      },
      {
        "duration": 6,
        "start_time": "2023-03-24T18:06:20.634Z"
      },
      {
        "duration": 40,
        "start_time": "2023-03-24T18:06:21.599Z"
      },
      {
        "duration": 27,
        "start_time": "2023-03-24T18:06:22.917Z"
      },
      {
        "duration": 104,
        "start_time": "2023-03-24T18:06:27.542Z"
      },
      {
        "duration": 7,
        "start_time": "2023-03-24T18:06:31.500Z"
      },
      {
        "duration": 3453,
        "start_time": "2023-03-24T18:06:32.431Z"
      },
      {
        "duration": 17,
        "start_time": "2023-03-24T18:06:35.886Z"
      },
      {
        "duration": 5,
        "start_time": "2023-03-24T18:06:40.072Z"
      },
      {
        "duration": 7,
        "start_time": "2023-03-24T18:06:42.053Z"
      },
      {
        "duration": 22,
        "start_time": "2023-03-24T18:06:43.515Z"
      },
      {
        "duration": 32,
        "start_time": "2023-03-24T18:07:27.382Z"
      },
      {
        "duration": 8,
        "start_time": "2023-03-24T18:07:29.597Z"
      },
      {
        "duration": 163,
        "start_time": "2023-03-24T18:07:39.077Z"
      },
      {
        "duration": 6,
        "start_time": "2023-03-24T18:07:41.372Z"
      },
      {
        "duration": 19,
        "start_time": "2023-03-24T18:07:47.600Z"
      },
      {
        "duration": 13,
        "start_time": "2023-03-24T18:07:54.333Z"
      },
      {
        "duration": 6,
        "start_time": "2023-03-24T18:07:59.402Z"
      },
      {
        "duration": 7,
        "start_time": "2023-03-24T18:08:00.234Z"
      },
      {
        "duration": 17,
        "start_time": "2023-03-24T18:08:00.872Z"
      },
      {
        "duration": 13,
        "start_time": "2023-03-24T18:08:01.799Z"
      },
      {
        "duration": 5,
        "start_time": "2023-03-24T18:08:07.486Z"
      },
      {
        "duration": 10,
        "start_time": "2023-03-24T18:08:09.710Z"
      },
      {
        "duration": 152,
        "start_time": "2023-03-24T18:08:16.255Z"
      },
      {
        "duration": 7846,
        "start_time": "2023-03-24T18:08:18.414Z"
      },
      {
        "duration": 371,
        "start_time": "2023-03-24T18:08:31.693Z"
      },
      {
        "duration": 38,
        "start_time": "2023-03-24T18:08:35.076Z"
      },
      {
        "duration": 1286,
        "start_time": "2023-03-24T18:08:38.109Z"
      },
      {
        "duration": 31251,
        "start_time": "2023-03-24T18:08:40.848Z"
      },
      {
        "duration": 16,
        "start_time": "2023-03-24T18:09:12.101Z"
      },
      {
        "duration": 19,
        "start_time": "2023-03-24T18:09:58.822Z"
      },
      {
        "duration": 6,
        "start_time": "2023-03-24T18:10:03.545Z"
      },
      {
        "duration": 4,
        "start_time": "2023-03-24T18:10:04.688Z"
      },
      {
        "duration": 8,
        "start_time": "2023-03-24T18:11:51.490Z"
      },
      {
        "duration": 4,
        "start_time": "2023-03-24T18:11:52.199Z"
      },
      {
        "duration": 12,
        "start_time": "2023-03-24T18:11:54.798Z"
      },
      {
        "duration": 57,
        "start_time": "2023-03-24T18:13:01.273Z"
      },
      {
        "duration": 11,
        "start_time": "2023-03-24T18:13:02.154Z"
      },
      {
        "duration": 80,
        "start_time": "2023-03-24T18:13:03.383Z"
      },
      {
        "duration": 207,
        "start_time": "2023-03-24T18:13:11.154Z"
      },
      {
        "duration": 188,
        "start_time": "2023-03-24T18:15:11.242Z"
      },
      {
        "duration": 114,
        "start_time": "2023-03-24T18:18:08.637Z"
      },
      {
        "duration": 240,
        "start_time": "2023-03-24T18:19:11.837Z"
      },
      {
        "duration": 11,
        "start_time": "2023-03-24T18:30:05.331Z"
      },
      {
        "duration": 118,
        "start_time": "2023-03-24T18:30:24.189Z"
      },
      {
        "duration": 11,
        "start_time": "2023-03-24T18:33:47.326Z"
      },
      {
        "duration": 11,
        "start_time": "2023-03-24T18:34:13.628Z"
      },
      {
        "duration": 12,
        "start_time": "2023-03-24T18:34:27.998Z"
      },
      {
        "duration": 11,
        "start_time": "2023-03-24T18:34:42.780Z"
      },
      {
        "duration": 13,
        "start_time": "2023-03-24T18:34:49.215Z"
      },
      {
        "duration": 9,
        "start_time": "2023-03-24T18:34:54.406Z"
      },
      {
        "duration": 12,
        "start_time": "2023-03-24T18:34:58.387Z"
      },
      {
        "duration": 15,
        "start_time": "2023-03-24T18:35:15.840Z"
      },
      {
        "duration": 5,
        "start_time": "2023-03-24T18:35:37.080Z"
      },
      {
        "duration": 9,
        "start_time": "2023-03-24T18:35:38.495Z"
      },
      {
        "duration": 5,
        "start_time": "2023-03-24T18:35:39.184Z"
      },
      {
        "duration": 16,
        "start_time": "2023-03-24T18:35:40.173Z"
      },
      {
        "duration": 14,
        "start_time": "2023-03-24T18:35:40.994Z"
      },
      {
        "duration": 116,
        "start_time": "2023-03-24T18:37:16.935Z"
      },
      {
        "duration": 9,
        "start_time": "2023-03-24T18:37:44.820Z"
      },
      {
        "duration": 97,
        "start_time": "2023-03-24T18:37:51.208Z"
      },
      {
        "duration": 12,
        "start_time": "2023-03-24T18:38:19.096Z"
      },
      {
        "duration": 127,
        "start_time": "2023-03-24T18:38:23.678Z"
      },
      {
        "duration": 10,
        "start_time": "2023-03-24T18:38:35.523Z"
      },
      {
        "duration": 121,
        "start_time": "2023-03-24T18:38:40.126Z"
      },
      {
        "duration": 4,
        "start_time": "2023-03-24T18:39:17.621Z"
      },
      {
        "duration": 11,
        "start_time": "2023-03-24T18:39:18.249Z"
      },
      {
        "duration": 11,
        "start_time": "2023-03-24T18:39:52.704Z"
      },
      {
        "duration": 142,
        "start_time": "2023-03-24T18:39:54.041Z"
      },
      {
        "duration": 22,
        "start_time": "2023-03-24T18:40:09.653Z"
      },
      {
        "duration": 127,
        "start_time": "2023-03-24T18:40:11.452Z"
      },
      {
        "duration": 14,
        "start_time": "2023-03-24T18:40:20.958Z"
      },
      {
        "duration": 96,
        "start_time": "2023-03-24T18:40:21.895Z"
      },
      {
        "duration": 12,
        "start_time": "2023-03-24T18:40:30.455Z"
      },
      {
        "duration": 108,
        "start_time": "2023-03-24T18:40:32.080Z"
      },
      {
        "duration": 12,
        "start_time": "2023-03-24T18:40:37.388Z"
      },
      {
        "duration": 106,
        "start_time": "2023-03-24T18:40:37.932Z"
      },
      {
        "duration": 9,
        "start_time": "2023-03-24T18:40:54.695Z"
      },
      {
        "duration": 5,
        "start_time": "2023-03-24T18:40:55.084Z"
      },
      {
        "duration": 15,
        "start_time": "2023-03-24T18:40:55.481Z"
      },
      {
        "duration": 119,
        "start_time": "2023-03-24T18:40:55.976Z"
      },
      {
        "duration": 10,
        "start_time": "2023-03-24T18:41:17.080Z"
      },
      {
        "duration": 4,
        "start_time": "2023-03-24T18:41:17.880Z"
      },
      {
        "duration": 14,
        "start_time": "2023-03-24T18:41:18.128Z"
      },
      {
        "duration": 113,
        "start_time": "2023-03-24T18:41:18.825Z"
      },
      {
        "duration": 12,
        "start_time": "2023-03-24T18:41:29.917Z"
      },
      {
        "duration": 6,
        "start_time": "2023-03-24T18:41:30.502Z"
      },
      {
        "duration": 22,
        "start_time": "2023-03-24T18:41:31.157Z"
      },
      {
        "duration": 213,
        "start_time": "2023-03-24T18:41:31.876Z"
      },
      {
        "duration": 11,
        "start_time": "2023-03-24T18:41:59.623Z"
      },
      {
        "duration": 149,
        "start_time": "2023-03-24T18:42:00.028Z"
      },
      {
        "duration": 19,
        "start_time": "2023-03-24T18:42:07.253Z"
      },
      {
        "duration": 112,
        "start_time": "2023-03-24T18:42:07.784Z"
      },
      {
        "duration": 26,
        "start_time": "2023-03-24T18:42:14.649Z"
      },
      {
        "duration": 11,
        "start_time": "2023-03-24T18:42:35.777Z"
      },
      {
        "duration": 101,
        "start_time": "2023-03-24T18:42:36.498Z"
      },
      {
        "duration": 13,
        "start_time": "2023-03-24T18:42:46.951Z"
      },
      {
        "duration": 115,
        "start_time": "2023-03-24T18:42:47.384Z"
      },
      {
        "duration": 12,
        "start_time": "2023-03-24T18:42:58.222Z"
      },
      {
        "duration": 110,
        "start_time": "2023-03-24T18:42:58.820Z"
      },
      {
        "duration": 63,
        "start_time": "2023-03-24T18:43:32.613Z"
      },
      {
        "duration": 9,
        "start_time": "2023-03-24T18:43:33.272Z"
      },
      {
        "duration": 19,
        "start_time": "2023-03-24T18:43:34.241Z"
      },
      {
        "duration": 240,
        "start_time": "2023-03-24T18:43:35.727Z"
      },
      {
        "duration": 23,
        "start_time": "2023-03-24T18:50:30.731Z"
      },
      {
        "duration": 1025,
        "start_time": "2023-03-24T18:50:46.486Z"
      },
      {
        "duration": 23805,
        "start_time": "2023-03-24T18:52:03.558Z"
      },
      {
        "duration": 17,
        "start_time": "2023-03-24T18:53:25.979Z"
      },
      {
        "duration": 28,
        "start_time": "2023-03-24T18:53:53.988Z"
      },
      {
        "duration": 24,
        "start_time": "2023-03-24T18:54:19.292Z"
      },
      {
        "duration": 10,
        "start_time": "2023-03-24T18:55:06.889Z"
      },
      {
        "duration": 5,
        "start_time": "2023-03-24T18:55:11.122Z"
      },
      {
        "duration": 9,
        "start_time": "2023-03-24T18:56:19.944Z"
      },
      {
        "duration": 4,
        "start_time": "2023-03-24T18:56:20.701Z"
      },
      {
        "duration": 14,
        "start_time": "2023-03-24T18:56:21.092Z"
      },
      {
        "duration": 92,
        "start_time": "2023-03-24T18:56:21.739Z"
      },
      {
        "duration": 5,
        "start_time": "2023-03-24T18:56:25.793Z"
      },
      {
        "duration": 4,
        "start_time": "2023-03-24T18:56:30.221Z"
      },
      {
        "duration": 10,
        "start_time": "2023-03-24T18:57:39.412Z"
      },
      {
        "duration": 4,
        "start_time": "2023-03-24T18:57:40.530Z"
      },
      {
        "duration": 11,
        "start_time": "2023-03-24T18:57:41.708Z"
      },
      {
        "duration": 103,
        "start_time": "2023-03-24T18:57:42.398Z"
      },
      {
        "duration": 12,
        "start_time": "2023-03-24T18:57:57.732Z"
      },
      {
        "duration": 97,
        "start_time": "2023-03-24T18:57:59.496Z"
      },
      {
        "duration": 10,
        "start_time": "2023-03-24T18:58:09.192Z"
      },
      {
        "duration": 102,
        "start_time": "2023-03-24T18:58:09.885Z"
      },
      {
        "duration": 4,
        "start_time": "2023-03-24T18:58:12.696Z"
      },
      {
        "duration": 9,
        "start_time": "2023-03-24T18:58:47.901Z"
      },
      {
        "duration": 3,
        "start_time": "2023-03-24T18:58:48.492Z"
      },
      {
        "duration": 12,
        "start_time": "2023-03-24T18:58:55.526Z"
      },
      {
        "duration": 111,
        "start_time": "2023-03-24T18:58:56.032Z"
      },
      {
        "duration": 12,
        "start_time": "2023-03-24T18:59:03.949Z"
      },
      {
        "duration": 96,
        "start_time": "2023-03-24T18:59:04.525Z"
      },
      {
        "duration": 9,
        "start_time": "2023-03-24T18:59:11.436Z"
      },
      {
        "duration": 97,
        "start_time": "2023-03-24T18:59:11.929Z"
      },
      {
        "duration": 4,
        "start_time": "2023-03-24T18:59:17.402Z"
      },
      {
        "duration": 9,
        "start_time": "2023-03-24T18:59:24.270Z"
      },
      {
        "duration": 94,
        "start_time": "2023-03-24T18:59:24.779Z"
      },
      {
        "duration": 3,
        "start_time": "2023-03-24T18:59:25.646Z"
      },
      {
        "duration": 9,
        "start_time": "2023-03-24T18:59:32.999Z"
      },
      {
        "duration": 93,
        "start_time": "2023-03-24T18:59:33.333Z"
      },
      {
        "duration": 4,
        "start_time": "2023-03-24T18:59:35.009Z"
      },
      {
        "duration": 8,
        "start_time": "2023-03-24T19:00:11.024Z"
      },
      {
        "duration": 4,
        "start_time": "2023-03-24T19:00:11.479Z"
      },
      {
        "duration": 2,
        "start_time": "2023-03-24T19:00:11.898Z"
      },
      {
        "duration": 91,
        "start_time": "2023-03-24T19:00:12.536Z"
      },
      {
        "duration": 15,
        "start_time": "2023-03-24T19:00:23.826Z"
      },
      {
        "duration": 3,
        "start_time": "2023-03-24T19:00:24.392Z"
      },
      {
        "duration": 9,
        "start_time": "2023-03-24T19:00:34.113Z"
      },
      {
        "duration": 5,
        "start_time": "2023-03-24T19:00:34.727Z"
      },
      {
        "duration": 2,
        "start_time": "2023-03-24T19:00:35.234Z"
      },
      {
        "duration": 99,
        "start_time": "2023-03-24T19:00:35.837Z"
      },
      {
        "duration": 9,
        "start_time": "2023-03-24T19:00:46.528Z"
      },
      {
        "duration": 4,
        "start_time": "2023-03-24T19:00:47.001Z"
      },
      {
        "duration": 3,
        "start_time": "2023-03-24T19:00:47.474Z"
      },
      {
        "duration": 119,
        "start_time": "2023-03-24T19:00:47.958Z"
      },
      {
        "duration": 5,
        "start_time": "2023-03-24T19:00:55.009Z"
      },
      {
        "duration": 55,
        "start_time": "2023-03-24T19:01:04.774Z"
      },
      {
        "duration": 9,
        "start_time": "2023-03-24T19:01:06.707Z"
      },
      {
        "duration": 12,
        "start_time": "2023-03-24T19:01:07.458Z"
      },
      {
        "duration": 335,
        "start_time": "2023-03-24T19:01:08.752Z"
      },
      {
        "duration": 1563,
        "start_time": "2023-03-24T19:01:11.672Z"
      },
      {
        "duration": 41405,
        "start_time": "2023-03-24T19:01:15.934Z"
      },
      {
        "duration": 51,
        "start_time": "2023-03-24T19:01:57.341Z"
      },
      {
        "duration": 11,
        "start_time": "2023-03-24T19:11:01.246Z"
      },
      {
        "duration": 32,
        "start_time": "2023-03-24T19:12:43.217Z"
      },
      {
        "duration": 28,
        "start_time": "2023-03-24T19:13:29.833Z"
      },
      {
        "duration": 32,
        "start_time": "2023-03-24T19:13:50.541Z"
      },
      {
        "duration": 210,
        "start_time": "2023-03-24T19:18:15.373Z"
      },
      {
        "duration": 62,
        "start_time": "2023-03-24T19:21:25.887Z"
      },
      {
        "duration": 41,
        "start_time": "2023-03-24T19:21:41.984Z"
      },
      {
        "duration": 104,
        "start_time": "2023-03-24T19:21:58.781Z"
      },
      {
        "duration": 93,
        "start_time": "2023-03-24T19:30:43.173Z"
      },
      {
        "duration": 457,
        "start_time": "2023-03-24T19:31:57.083Z"
      },
      {
        "duration": 392,
        "start_time": "2023-03-24T19:32:21.709Z"
      },
      {
        "duration": 44,
        "start_time": "2023-03-24T19:34:04.377Z"
      },
      {
        "duration": 19,
        "start_time": "2023-03-24T20:02:20.317Z"
      },
      {
        "duration": 16,
        "start_time": "2023-03-24T20:03:56.079Z"
      },
      {
        "duration": 56,
        "start_time": "2023-03-24T20:04:20.045Z"
      },
      {
        "duration": 8,
        "start_time": "2023-03-24T20:04:45.256Z"
      },
      {
        "duration": 7,
        "start_time": "2023-03-24T20:05:05.506Z"
      },
      {
        "duration": 9,
        "start_time": "2023-03-24T20:05:24.206Z"
      },
      {
        "duration": 6,
        "start_time": "2023-03-24T20:05:48.377Z"
      },
      {
        "duration": 6,
        "start_time": "2023-03-24T20:05:52.196Z"
      },
      {
        "duration": 1396,
        "start_time": "2023-03-24T20:06:12.278Z"
      },
      {
        "duration": 7,
        "start_time": "2023-03-24T20:06:13.677Z"
      },
      {
        "duration": 2,
        "start_time": "2023-03-24T20:06:14.398Z"
      },
      {
        "duration": 6,
        "start_time": "2023-03-24T20:06:14.950Z"
      },
      {
        "duration": 42,
        "start_time": "2023-03-24T20:06:15.674Z"
      },
      {
        "duration": 28,
        "start_time": "2023-03-24T20:06:16.710Z"
      },
      {
        "duration": 108,
        "start_time": "2023-03-24T20:06:18.206Z"
      },
      {
        "duration": 6,
        "start_time": "2023-03-24T20:06:19.208Z"
      },
      {
        "duration": 3438,
        "start_time": "2023-03-24T20:06:19.950Z"
      },
      {
        "duration": 14,
        "start_time": "2023-03-24T20:06:23.390Z"
      },
      {
        "duration": 5,
        "start_time": "2023-03-24T20:06:26.942Z"
      },
      {
        "duration": 6,
        "start_time": "2023-03-24T20:06:27.806Z"
      },
      {
        "duration": 21,
        "start_time": "2023-03-24T20:06:28.979Z"
      },
      {
        "duration": 29,
        "start_time": "2023-03-24T20:06:30.602Z"
      },
      {
        "duration": 9,
        "start_time": "2023-03-24T20:06:31.517Z"
      },
      {
        "duration": 155,
        "start_time": "2023-03-24T20:06:33.187Z"
      },
      {
        "duration": 5,
        "start_time": "2023-03-24T20:06:35.186Z"
      },
      {
        "duration": 84,
        "start_time": "2023-03-24T20:07:00.961Z"
      },
      {
        "duration": 23,
        "start_time": "2023-03-24T20:07:05.655Z"
      },
      {
        "duration": 19,
        "start_time": "2023-03-24T20:07:10.651Z"
      },
      {
        "duration": 35,
        "start_time": "2023-03-24T20:07:17.346Z"
      },
      {
        "duration": 17,
        "start_time": "2023-03-24T20:07:18.055Z"
      },
      {
        "duration": 152,
        "start_time": "2023-03-24T20:07:19.477Z"
      },
      {
        "duration": 13,
        "start_time": "2023-03-24T20:07:21.540Z"
      },
      {
        "duration": 16,
        "start_time": "2023-03-24T20:07:23.677Z"
      },
      {
        "duration": 12,
        "start_time": "2023-03-24T20:07:26.531Z"
      },
      {
        "duration": 7,
        "start_time": "2023-03-24T20:07:27.844Z"
      },
      {
        "duration": 6,
        "start_time": "2023-03-24T20:07:28.497Z"
      },
      {
        "duration": 1505,
        "start_time": "2023-03-24T20:07:46.595Z"
      },
      {
        "duration": 10,
        "start_time": "2023-03-24T20:07:48.103Z"
      },
      {
        "duration": 11,
        "start_time": "2023-03-24T20:07:48.115Z"
      },
      {
        "duration": 7,
        "start_time": "2023-03-24T20:07:48.129Z"
      },
      {
        "duration": 54,
        "start_time": "2023-03-24T20:07:48.137Z"
      },
      {
        "duration": 27,
        "start_time": "2023-03-24T20:07:48.710Z"
      },
      {
        "duration": 102,
        "start_time": "2023-03-24T20:07:50.177Z"
      },
      {
        "duration": 7,
        "start_time": "2023-03-24T20:07:50.702Z"
      },
      {
        "duration": 3554,
        "start_time": "2023-03-24T20:07:51.482Z"
      },
      {
        "duration": 17,
        "start_time": "2023-03-24T20:07:55.037Z"
      },
      {
        "duration": 10,
        "start_time": "2023-03-24T20:07:55.056Z"
      },
      {
        "duration": 8,
        "start_time": "2023-03-24T20:07:55.377Z"
      },
      {
        "duration": 28,
        "start_time": "2023-03-24T20:07:55.753Z"
      },
      {
        "duration": 37,
        "start_time": "2023-03-24T20:07:56.537Z"
      },
      {
        "duration": 10,
        "start_time": "2023-03-24T20:07:57.009Z"
      },
      {
        "duration": 178,
        "start_time": "2023-03-24T20:07:58.773Z"
      },
      {
        "duration": 4,
        "start_time": "2023-03-24T20:08:00.514Z"
      },
      {
        "duration": 16,
        "start_time": "2023-03-24T20:08:02.777Z"
      },
      {
        "duration": 12,
        "start_time": "2023-03-24T20:08:05.735Z"
      },
      {
        "duration": 6,
        "start_time": "2023-03-24T20:08:25.814Z"
      },
      {
        "duration": 6,
        "start_time": "2023-03-24T20:08:26.429Z"
      },
      {
        "duration": 23,
        "start_time": "2023-03-24T20:08:27.110Z"
      },
      {
        "duration": 12,
        "start_time": "2023-03-24T20:08:27.796Z"
      },
      {
        "duration": 26,
        "start_time": "2023-03-24T20:08:56.311Z"
      },
      {
        "duration": 14,
        "start_time": "2023-03-24T20:08:58.401Z"
      },
      {
        "duration": 1341,
        "start_time": "2023-03-24T20:09:02.593Z"
      },
      {
        "duration": 52,
        "start_time": "2023-03-24T20:09:22.429Z"
      },
      {
        "duration": 7,
        "start_time": "2023-03-24T20:09:22.637Z"
      },
      {
        "duration": 7,
        "start_time": "2023-03-24T20:09:23.031Z"
      },
      {
        "duration": 1484,
        "start_time": "2023-03-24T20:09:38.177Z"
      },
      {
        "duration": 10,
        "start_time": "2023-03-24T20:09:39.664Z"
      },
      {
        "duration": 9,
        "start_time": "2023-03-24T20:09:39.676Z"
      },
      {
        "duration": 7,
        "start_time": "2023-03-24T20:09:39.687Z"
      },
      {
        "duration": 42,
        "start_time": "2023-03-24T20:09:39.696Z"
      },
      {
        "duration": 29,
        "start_time": "2023-03-24T20:09:39.740Z"
      },
      {
        "duration": 122,
        "start_time": "2023-03-24T20:09:39.771Z"
      },
      {
        "duration": 7,
        "start_time": "2023-03-24T20:09:39.894Z"
      },
      {
        "duration": 3517,
        "start_time": "2023-03-24T20:09:39.903Z"
      },
      {
        "duration": 15,
        "start_time": "2023-03-24T20:09:43.423Z"
      },
      {
        "duration": 7,
        "start_time": "2023-03-24T20:09:43.440Z"
      },
      {
        "duration": 8,
        "start_time": "2023-03-24T20:09:43.448Z"
      },
      {
        "duration": 29,
        "start_time": "2023-03-24T20:09:43.463Z"
      },
      {
        "duration": 33,
        "start_time": "2023-03-24T20:09:43.494Z"
      },
      {
        "duration": 10,
        "start_time": "2023-03-24T20:09:43.528Z"
      },
      {
        "duration": 175,
        "start_time": "2023-03-24T20:09:43.562Z"
      },
      {
        "duration": 5,
        "start_time": "2023-03-24T20:09:43.738Z"
      },
      {
        "duration": 34,
        "start_time": "2023-03-24T20:09:43.745Z"
      },
      {
        "duration": 12,
        "start_time": "2023-03-24T20:09:43.782Z"
      },
      {
        "duration": 6,
        "start_time": "2023-03-24T20:09:43.796Z"
      },
      {
        "duration": 8,
        "start_time": "2023-03-24T20:09:43.908Z"
      },
      {
        "duration": 23,
        "start_time": "2023-03-24T20:09:44.131Z"
      },
      {
        "duration": 14,
        "start_time": "2023-03-24T20:09:44.335Z"
      },
      {
        "duration": 5,
        "start_time": "2023-03-24T20:09:44.994Z"
      },
      {
        "duration": 5,
        "start_time": "2023-03-24T20:09:58.178Z"
      },
      {
        "duration": 9,
        "start_time": "2023-03-24T20:09:59.477Z"
      },
      {
        "duration": 146,
        "start_time": "2023-03-24T20:10:10.379Z"
      },
      {
        "duration": 8182,
        "start_time": "2023-03-24T20:10:15.982Z"
      },
      {
        "duration": 394,
        "start_time": "2023-03-24T20:10:24.167Z"
      },
      {
        "duration": 39,
        "start_time": "2023-03-24T20:10:56.756Z"
      },
      {
        "duration": 1323,
        "start_time": "2023-03-24T20:11:17.115Z"
      },
      {
        "duration": 32049,
        "start_time": "2023-03-24T20:11:20.015Z"
      },
      {
        "duration": 95,
        "start_time": "2023-03-24T20:11:52.067Z"
      },
      {
        "duration": 3,
        "start_time": "2023-03-24T20:14:55.955Z"
      },
      {
        "duration": 1500,
        "start_time": "2023-03-26T13:22:22.074Z"
      },
      {
        "duration": 10,
        "start_time": "2023-03-26T13:22:23.577Z"
      },
      {
        "duration": 4,
        "start_time": "2023-03-26T13:22:23.873Z"
      },
      {
        "duration": 7,
        "start_time": "2023-03-26T13:22:24.343Z"
      },
      {
        "duration": 99,
        "start_time": "2023-03-26T13:22:25.340Z"
      },
      {
        "duration": 36,
        "start_time": "2023-03-26T13:22:25.780Z"
      },
      {
        "duration": 101,
        "start_time": "2023-03-26T13:22:26.542Z"
      },
      {
        "duration": 6,
        "start_time": "2023-03-26T13:22:26.986Z"
      },
      {
        "duration": 2927,
        "start_time": "2023-03-26T13:22:27.748Z"
      },
      {
        "duration": 14,
        "start_time": "2023-03-26T13:22:30.676Z"
      },
      {
        "duration": 7,
        "start_time": "2023-03-26T13:22:31.750Z"
      },
      {
        "duration": 7,
        "start_time": "2023-03-26T13:22:32.368Z"
      },
      {
        "duration": 19,
        "start_time": "2023-03-26T13:22:33.245Z"
      },
      {
        "duration": 5,
        "start_time": "2023-03-26T13:22:38.591Z"
      },
      {
        "duration": 9,
        "start_time": "2023-03-26T13:22:39.901Z"
      },
      {
        "duration": 135,
        "start_time": "2023-03-26T13:22:42.792Z"
      },
      {
        "duration": 4,
        "start_time": "2023-03-26T13:23:08.520Z"
      },
      {
        "duration": 7,
        "start_time": "2023-03-26T13:23:09.316Z"
      },
      {
        "duration": 144,
        "start_time": "2023-03-26T13:23:10.778Z"
      },
      {
        "duration": 6,
        "start_time": "2023-03-26T13:27:45.994Z"
      },
      {
        "duration": 10,
        "start_time": "2023-03-26T13:27:46.687Z"
      },
      {
        "duration": 239,
        "start_time": "2023-03-26T13:27:48.264Z"
      },
      {
        "duration": 7,
        "start_time": "2023-03-26T13:28:12.847Z"
      },
      {
        "duration": 9,
        "start_time": "2023-03-26T13:28:13.705Z"
      },
      {
        "duration": 3,
        "start_time": "2023-03-26T13:28:14.191Z"
      },
      {
        "duration": 5,
        "start_time": "2023-03-26T13:28:14.756Z"
      },
      {
        "duration": 53,
        "start_time": "2023-03-26T13:28:15.935Z"
      },
      {
        "duration": 18,
        "start_time": "2023-03-26T13:28:16.635Z"
      },
      {
        "duration": 132,
        "start_time": "2023-03-26T13:28:18.094Z"
      },
      {
        "duration": 8,
        "start_time": "2023-03-26T13:28:18.891Z"
      },
      {
        "duration": 3434,
        "start_time": "2023-03-26T13:28:19.504Z"
      },
      {
        "duration": 26,
        "start_time": "2023-03-26T13:28:22.940Z"
      },
      {
        "duration": 6,
        "start_time": "2023-03-26T13:28:28.380Z"
      },
      {
        "duration": 6,
        "start_time": "2023-03-26T13:28:29.669Z"
      },
      {
        "duration": 25,
        "start_time": "2023-03-26T13:28:30.852Z"
      },
      {
        "duration": 7,
        "start_time": "2023-03-26T13:28:32.927Z"
      },
      {
        "duration": 10,
        "start_time": "2023-03-26T13:28:33.901Z"
      },
      {
        "duration": 184,
        "start_time": "2023-03-26T13:28:35.596Z"
      },
      {
        "duration": 5,
        "start_time": "2023-03-26T13:28:44.016Z"
      },
      {
        "duration": 19,
        "start_time": "2023-03-26T13:28:47.631Z"
      },
      {
        "duration": 12,
        "start_time": "2023-03-26T13:28:56.512Z"
      },
      {
        "duration": 8,
        "start_time": "2023-03-26T13:29:00.347Z"
      },
      {
        "duration": 8,
        "start_time": "2023-03-26T13:29:01.086Z"
      },
      {
        "duration": 25,
        "start_time": "2023-03-26T13:29:01.920Z"
      },
      {
        "duration": 19,
        "start_time": "2023-03-26T13:29:03.718Z"
      },
      {
        "duration": 5,
        "start_time": "2023-03-26T13:29:05.354Z"
      },
      {
        "duration": 12,
        "start_time": "2023-03-26T13:29:06.206Z"
      },
      {
        "duration": 178,
        "start_time": "2023-03-26T13:29:19.686Z"
      },
      {
        "duration": 10028,
        "start_time": "2023-03-26T13:29:22.002Z"
      },
      {
        "duration": 1442,
        "start_time": "2023-03-26T13:29:32.033Z"
      },
      {
        "duration": 120,
        "start_time": "2023-03-26T13:29:33.477Z"
      },
      {
        "duration": 1254,
        "start_time": "2023-03-26T13:29:33.600Z"
      },
      {
        "duration": 31650,
        "start_time": "2023-03-26T13:29:34.856Z"
      },
      {
        "duration": 165,
        "start_time": "2023-03-26T13:30:06.508Z"
      },
      {
        "duration": 176,
        "start_time": "2023-03-26T13:30:06.675Z"
      },
      {
        "duration": 6,
        "start_time": "2023-03-26T13:30:06.853Z"
      },
      {
        "duration": 19,
        "start_time": "2023-03-26T13:30:06.861Z"
      },
      {
        "duration": 13,
        "start_time": "2023-03-26T13:30:06.883Z"
      },
      {
        "duration": 6,
        "start_time": "2023-03-26T13:30:06.898Z"
      },
      {
        "duration": 11,
        "start_time": "2023-03-26T13:30:06.906Z"
      },
      {
        "duration": 135,
        "start_time": "2023-03-26T13:30:06.919Z"
      },
      {
        "duration": 6,
        "start_time": "2023-03-26T13:30:07.060Z"
      },
      {
        "duration": 60,
        "start_time": "2023-03-26T13:30:07.068Z"
      },
      {
        "duration": 15,
        "start_time": "2023-03-26T13:30:07.129Z"
      },
      {
        "duration": 229,
        "start_time": "2023-03-26T13:30:07.146Z"
      },
      {
        "duration": 376,
        "start_time": "2023-03-26T13:30:07.377Z"
      },
      {
        "duration": 1795,
        "start_time": "2023-03-26T13:30:07.755Z"
      },
      {
        "duration": 46679,
        "start_time": "2023-03-26T13:30:09.552Z"
      },
      {
        "duration": 148,
        "start_time": "2023-03-26T13:30:56.234Z"
      },
      {
        "duration": 106,
        "start_time": "2023-03-26T13:30:56.385Z"
      },
      {
        "duration": 406,
        "start_time": "2023-03-26T13:30:56.493Z"
      },
      {
        "duration": 78,
        "start_time": "2023-03-26T13:30:56.901Z"
      },
      {
        "duration": 174,
        "start_time": "2023-03-26T13:37:29.082Z"
      },
      {
        "duration": 85,
        "start_time": "2023-03-26T13:39:09.138Z"
      },
      {
        "duration": 53,
        "start_time": "2023-03-26T13:39:21.297Z"
      },
      {
        "duration": 14,
        "start_time": "2023-03-26T13:39:32.143Z"
      },
      {
        "duration": 77,
        "start_time": "2023-03-26T13:40:39.895Z"
      },
      {
        "duration": 71,
        "start_time": "2023-03-26T13:41:01.456Z"
      },
      {
        "duration": 67,
        "start_time": "2023-03-26T13:42:24.779Z"
      },
      {
        "duration": 81,
        "start_time": "2023-03-26T13:43:42.576Z"
      },
      {
        "duration": 48,
        "start_time": "2023-03-26T13:43:47.848Z"
      },
      {
        "duration": 54,
        "start_time": "2023-03-26T13:43:56.498Z"
      },
      {
        "duration": 6,
        "start_time": "2023-03-26T13:44:20.243Z"
      },
      {
        "duration": 93,
        "start_time": "2023-03-26T13:44:23.857Z"
      },
      {
        "duration": 11,
        "start_time": "2023-03-26T13:47:59.957Z"
      },
      {
        "duration": 15,
        "start_time": "2023-03-26T13:48:49.111Z"
      },
      {
        "duration": 60,
        "start_time": "2023-03-26T13:48:53.379Z"
      },
      {
        "duration": 45,
        "start_time": "2023-03-26T13:48:58.011Z"
      },
      {
        "duration": 1621,
        "start_time": "2023-03-26T13:50:43.633Z"
      },
      {
        "duration": 126,
        "start_time": "2023-03-26T13:50:45.256Z"
      },
      {
        "duration": 3407,
        "start_time": "2023-03-26T14:42:41.943Z"
      },
      {
        "duration": 178,
        "start_time": "2023-03-26T14:47:25.575Z"
      },
      {
        "duration": 9,
        "start_time": "2023-03-26T14:47:45.238Z"
      },
      {
        "duration": 2664,
        "start_time": "2023-03-26T14:47:45.460Z"
      },
      {
        "duration": 11,
        "start_time": "2023-03-26T14:47:48.127Z"
      },
      {
        "duration": 8,
        "start_time": "2023-03-26T14:47:48.140Z"
      },
      {
        "duration": 14,
        "start_time": "2023-03-26T14:47:48.151Z"
      },
      {
        "duration": 103,
        "start_time": "2023-03-26T14:47:48.167Z"
      },
      {
        "duration": 34,
        "start_time": "2023-03-26T14:47:48.273Z"
      },
      {
        "duration": 166,
        "start_time": "2023-03-26T14:47:48.308Z"
      },
      {
        "duration": 9,
        "start_time": "2023-03-26T14:47:48.476Z"
      },
      {
        "duration": 3777,
        "start_time": "2023-03-26T14:47:48.490Z"
      },
      {
        "duration": 18,
        "start_time": "2023-03-26T14:47:52.270Z"
      },
      {
        "duration": 13,
        "start_time": "2023-03-26T14:47:52.290Z"
      },
      {
        "duration": 14,
        "start_time": "2023-03-26T14:47:52.305Z"
      },
      {
        "duration": 31,
        "start_time": "2023-03-26T14:47:52.321Z"
      },
      {
        "duration": 6,
        "start_time": "2023-03-26T14:47:52.354Z"
      },
      {
        "duration": 18,
        "start_time": "2023-03-26T14:47:52.484Z"
      },
      {
        "duration": 170,
        "start_time": "2023-03-26T14:47:54.601Z"
      },
      {
        "duration": 5,
        "start_time": "2023-03-26T14:47:56.042Z"
      },
      {
        "duration": 18,
        "start_time": "2023-03-26T14:47:57.052Z"
      },
      {
        "duration": 429,
        "start_time": "2023-03-26T14:47:59.234Z"
      },
      {
        "duration": 560,
        "start_time": "2023-03-26T14:50:33.182Z"
      },
      {
        "duration": 548,
        "start_time": "2023-03-26T14:50:49.770Z"
      },
      {
        "duration": 347,
        "start_time": "2023-03-26T14:56:38.450Z"
      },
      {
        "duration": 13,
        "start_time": "2023-03-26T18:47:28.781Z"
      },
      {
        "duration": 4,
        "start_time": "2023-03-26T18:48:29.507Z"
      },
      {
        "duration": 1952,
        "start_time": "2023-03-26T18:48:29.673Z"
      },
      {
        "duration": 6,
        "start_time": "2023-03-26T18:48:31.627Z"
      },
      {
        "duration": 44,
        "start_time": "2023-03-26T18:48:31.634Z"
      },
      {
        "duration": 42,
        "start_time": "2023-03-26T18:48:31.680Z"
      },
      {
        "duration": 67,
        "start_time": "2023-03-26T18:48:31.723Z"
      },
      {
        "duration": 19,
        "start_time": "2023-03-26T18:48:31.792Z"
      },
      {
        "duration": 100,
        "start_time": "2023-03-26T18:48:31.813Z"
      },
      {
        "duration": 6,
        "start_time": "2023-03-26T18:48:31.915Z"
      },
      {
        "duration": 2718,
        "start_time": "2023-03-26T18:48:31.923Z"
      },
      {
        "duration": 13,
        "start_time": "2023-03-26T18:48:34.644Z"
      },
      {
        "duration": 5,
        "start_time": "2023-03-26T18:48:34.672Z"
      },
      {
        "duration": 9,
        "start_time": "2023-03-26T18:48:34.678Z"
      },
      {
        "duration": 27,
        "start_time": "2023-03-26T18:48:34.689Z"
      },
      {
        "duration": 4,
        "start_time": "2023-03-26T18:48:34.718Z"
      },
      {
        "duration": 9,
        "start_time": "2023-03-26T18:48:34.723Z"
      },
      {
        "duration": 132,
        "start_time": "2023-03-26T18:48:34.733Z"
      },
      {
        "duration": 4,
        "start_time": "2023-03-26T18:48:34.871Z"
      },
      {
        "duration": 14,
        "start_time": "2023-03-26T18:48:35.302Z"
      },
      {
        "duration": 369,
        "start_time": "2023-03-26T18:48:36.020Z"
      },
      {
        "duration": 10,
        "start_time": "2023-03-26T18:48:36.605Z"
      },
      {
        "duration": 7,
        "start_time": "2023-03-26T18:48:36.948Z"
      },
      {
        "duration": 5,
        "start_time": "2023-03-26T18:48:37.147Z"
      },
      {
        "duration": 15,
        "start_time": "2023-03-26T18:48:37.329Z"
      },
      {
        "duration": 10,
        "start_time": "2023-03-26T18:48:37.703Z"
      },
      {
        "duration": 4,
        "start_time": "2023-03-26T18:48:38.066Z"
      },
      {
        "duration": 8,
        "start_time": "2023-03-26T18:48:38.271Z"
      },
      {
        "duration": 127,
        "start_time": "2023-03-26T18:48:39.027Z"
      },
      {
        "duration": 7045,
        "start_time": "2023-03-26T18:48:39.616Z"
      },
      {
        "duration": 217,
        "start_time": "2023-03-26T18:48:46.663Z"
      },
      {
        "duration": 118,
        "start_time": "2023-03-26T18:48:46.972Z"
      },
      {
        "duration": 1191,
        "start_time": "2023-03-26T18:48:47.092Z"
      },
      {
        "duration": 28532,
        "start_time": "2023-03-26T18:48:48.284Z"
      },
      {
        "duration": 12,
        "start_time": "2023-03-26T18:49:16.818Z"
      },
      {
        "duration": 221,
        "start_time": "2023-03-26T18:49:16.832Z"
      },
      {
        "duration": 22,
        "start_time": "2023-03-26T18:49:17.055Z"
      },
      {
        "duration": 32,
        "start_time": "2023-03-26T18:49:17.079Z"
      },
      {
        "duration": 10,
        "start_time": "2023-03-26T18:49:17.114Z"
      },
      {
        "duration": 2,
        "start_time": "2023-03-26T18:49:17.126Z"
      },
      {
        "duration": 5,
        "start_time": "2023-03-26T18:49:17.129Z"
      },
      {
        "duration": 91,
        "start_time": "2023-03-26T18:49:17.136Z"
      },
      {
        "duration": 4,
        "start_time": "2023-03-26T18:49:17.228Z"
      },
      {
        "duration": 54,
        "start_time": "2023-03-26T18:49:17.233Z"
      },
      {
        "duration": 8,
        "start_time": "2023-03-26T18:49:17.289Z"
      },
      {
        "duration": 82,
        "start_time": "2023-03-26T18:49:17.299Z"
      },
      {
        "duration": 299,
        "start_time": "2023-03-26T18:49:17.383Z"
      },
      {
        "duration": 1580,
        "start_time": "2023-03-26T18:49:17.684Z"
      },
      {
        "duration": 39500,
        "start_time": "2023-03-26T18:49:19.266Z"
      },
      {
        "duration": 34,
        "start_time": "2023-03-26T18:49:58.768Z"
      },
      {
        "duration": 176,
        "start_time": "2023-03-26T18:49:58.803Z"
      },
      {
        "duration": 368,
        "start_time": "2023-03-26T18:49:58.981Z"
      },
      {
        "duration": 36,
        "start_time": "2023-03-26T18:49:59.351Z"
      },
      {
        "duration": 88,
        "start_time": "2023-03-26T18:49:59.390Z"
      },
      {
        "duration": 173,
        "start_time": "2023-03-26T18:51:48.786Z"
      },
      {
        "duration": 172,
        "start_time": "2023-03-26T18:52:57.262Z"
      },
      {
        "duration": 145,
        "start_time": "2023-03-26T18:53:33.175Z"
      },
      {
        "duration": 3,
        "start_time": "2023-03-26T18:59:34.085Z"
      },
      {
        "duration": 39,
        "start_time": "2023-03-26T19:18:36.072Z"
      },
      {
        "duration": 2,
        "start_time": "2023-03-26T19:18:59.253Z"
      },
      {
        "duration": 30,
        "start_time": "2023-03-26T19:19:15.895Z"
      },
      {
        "duration": 149,
        "start_time": "2023-03-26T19:19:17.643Z"
      },
      {
        "duration": 7305,
        "start_time": "2023-03-26T19:19:18.616Z"
      },
      {
        "duration": 553,
        "start_time": "2023-03-26T19:19:25.923Z"
      },
      {
        "duration": 1272,
        "start_time": "2023-03-26T19:21:14.778Z"
      },
      {
        "duration": 28745,
        "start_time": "2023-03-26T19:21:16.052Z"
      },
      {
        "duration": 12,
        "start_time": "2023-03-26T19:21:44.799Z"
      },
      {
        "duration": 1282,
        "start_time": "2023-03-26T19:23:43.602Z"
      },
      {
        "duration": 27478,
        "start_time": "2023-03-26T19:23:44.885Z"
      },
      {
        "duration": 14,
        "start_time": "2023-03-26T19:24:12.365Z"
      },
      {
        "duration": 3,
        "start_time": "2023-03-26T19:27:14.647Z"
      },
      {
        "duration": 15,
        "start_time": "2023-03-26T19:30:47.404Z"
      },
      {
        "duration": 13,
        "start_time": "2023-03-26T19:31:37.621Z"
      },
      {
        "duration": 8,
        "start_time": "2023-03-26T19:31:55.794Z"
      },
      {
        "duration": 16,
        "start_time": "2023-03-26T19:34:05.935Z"
      },
      {
        "duration": 13,
        "start_time": "2023-03-26T19:35:32.159Z"
      },
      {
        "duration": 15,
        "start_time": "2023-03-26T19:36:36.067Z"
      },
      {
        "duration": 9,
        "start_time": "2023-03-26T19:36:54.961Z"
      },
      {
        "duration": 191,
        "start_time": "2023-03-26T19:39:09.671Z"
      },
      {
        "duration": 4,
        "start_time": "2023-03-26T19:57:38.785Z"
      },
      {
        "duration": 8,
        "start_time": "2023-03-26T19:57:41.292Z"
      },
      {
        "duration": 84,
        "start_time": "2023-03-26T19:57:49.238Z"
      },
      {
        "duration": 3,
        "start_time": "2023-03-26T19:57:53.995Z"
      },
      {
        "duration": 7,
        "start_time": "2023-03-26T19:58:06.204Z"
      },
      {
        "duration": 81,
        "start_time": "2023-03-26T19:58:14.927Z"
      },
      {
        "duration": 1153,
        "start_time": "2023-03-26T20:13:23.722Z"
      },
      {
        "duration": 28018,
        "start_time": "2023-03-26T20:13:24.876Z"
      },
      {
        "duration": 17,
        "start_time": "2023-03-26T20:13:52.896Z"
      },
      {
        "duration": 74,
        "start_time": "2023-03-26T20:15:28.806Z"
      },
      {
        "duration": 1199,
        "start_time": "2023-03-26T20:16:14.999Z"
      },
      {
        "duration": 27286,
        "start_time": "2023-03-26T20:16:16.234Z"
      },
      {
        "duration": 57,
        "start_time": "2023-03-26T20:16:43.521Z"
      },
      {
        "duration": 105,
        "start_time": "2023-03-26T20:21:28.183Z"
      },
      {
        "duration": 360,
        "start_time": "2023-03-26T20:29:48.843Z"
      },
      {
        "duration": 26,
        "start_time": "2023-03-26T20:40:41.681Z"
      },
      {
        "duration": 124,
        "start_time": "2023-03-26T20:41:22.691Z"
      },
      {
        "duration": 20,
        "start_time": "2023-03-26T21:08:50.890Z"
      },
      {
        "duration": 4,
        "start_time": "2023-03-26T21:16:58.024Z"
      },
      {
        "duration": 1857,
        "start_time": "2023-03-26T21:16:58.178Z"
      },
      {
        "duration": 7,
        "start_time": "2023-03-26T21:17:00.038Z"
      },
      {
        "duration": 28,
        "start_time": "2023-03-26T21:17:00.046Z"
      },
      {
        "duration": 20,
        "start_time": "2023-03-26T21:17:00.076Z"
      },
      {
        "duration": 48,
        "start_time": "2023-03-26T21:17:00.098Z"
      },
      {
        "duration": 19,
        "start_time": "2023-03-26T21:17:01.362Z"
      },
      {
        "duration": 98,
        "start_time": "2023-03-26T21:17:01.977Z"
      },
      {
        "duration": 6,
        "start_time": "2023-03-26T21:17:02.303Z"
      },
      {
        "duration": 2746,
        "start_time": "2023-03-26T21:17:02.483Z"
      },
      {
        "duration": 12,
        "start_time": "2023-03-26T21:17:05.230Z"
      },
      {
        "duration": 12,
        "start_time": "2023-03-26T21:17:05.244Z"
      },
      {
        "duration": 24,
        "start_time": "2023-03-26T21:17:05.258Z"
      },
      {
        "duration": 22,
        "start_time": "2023-03-26T21:17:05.283Z"
      },
      {
        "duration": 46,
        "start_time": "2023-03-26T21:17:05.307Z"
      },
      {
        "duration": 16,
        "start_time": "2023-03-26T21:17:05.355Z"
      },
      {
        "duration": 165,
        "start_time": "2023-03-26T21:17:05.372Z"
      },
      {
        "duration": 5,
        "start_time": "2023-03-26T21:17:06.014Z"
      },
      {
        "duration": 13,
        "start_time": "2023-03-26T21:17:06.589Z"
      },
      {
        "duration": 338,
        "start_time": "2023-03-26T21:17:13.056Z"
      },
      {
        "duration": 10,
        "start_time": "2023-03-26T21:17:14.041Z"
      },
      {
        "duration": 6,
        "start_time": "2023-03-26T21:17:14.608Z"
      },
      {
        "duration": 5,
        "start_time": "2023-03-26T21:17:14.884Z"
      },
      {
        "duration": 16,
        "start_time": "2023-03-26T21:17:15.149Z"
      },
      {
        "duration": 12,
        "start_time": "2023-03-26T21:17:16.359Z"
      },
      {
        "duration": 5,
        "start_time": "2023-03-26T21:17:16.801Z"
      },
      {
        "duration": 8,
        "start_time": "2023-03-26T21:17:16.979Z"
      },
      {
        "duration": 25,
        "start_time": "2023-03-26T21:17:17.696Z"
      },
      {
        "duration": 122,
        "start_time": "2023-03-26T21:17:18.307Z"
      },
      {
        "duration": 7105,
        "start_time": "2023-03-26T21:17:19.636Z"
      },
      {
        "duration": 6,
        "start_time": "2023-03-26T21:17:29.073Z"
      },
      {
        "duration": 1941,
        "start_time": "2023-03-26T21:17:29.089Z"
      },
      {
        "duration": 8,
        "start_time": "2023-03-26T21:17:31.032Z"
      },
      {
        "duration": 28,
        "start_time": "2023-03-26T21:17:31.041Z"
      },
      {
        "duration": 25,
        "start_time": "2023-03-26T21:17:31.071Z"
      },
      {
        "duration": 66,
        "start_time": "2023-03-26T21:17:31.098Z"
      },
      {
        "duration": 18,
        "start_time": "2023-03-26T21:17:31.165Z"
      },
      {
        "duration": 110,
        "start_time": "2023-03-26T21:17:31.184Z"
      },
      {
        "duration": 5,
        "start_time": "2023-03-26T21:17:31.296Z"
      },
      {
        "duration": 2714,
        "start_time": "2023-03-26T21:17:31.302Z"
      },
      {
        "duration": 12,
        "start_time": "2023-03-26T21:17:34.019Z"
      },
      {
        "duration": 6,
        "start_time": "2023-03-26T21:17:34.032Z"
      },
      {
        "duration": 5,
        "start_time": "2023-03-26T21:17:34.039Z"
      },
      {
        "duration": 35,
        "start_time": "2023-03-26T21:17:34.045Z"
      },
      {
        "duration": 5,
        "start_time": "2023-03-26T21:17:34.081Z"
      },
      {
        "duration": 7,
        "start_time": "2023-03-26T21:17:34.088Z"
      },
      {
        "duration": 240,
        "start_time": "2023-03-26T21:17:34.096Z"
      },
      {
        "duration": 3,
        "start_time": "2023-03-26T21:17:34.338Z"
      },
      {
        "duration": 15,
        "start_time": "2023-03-26T21:17:34.343Z"
      },
      {
        "duration": 346,
        "start_time": "2023-03-26T21:17:34.359Z"
      },
      {
        "duration": 12,
        "start_time": "2023-03-26T21:17:34.706Z"
      },
      {
        "duration": 5,
        "start_time": "2023-03-26T21:17:34.719Z"
      },
      {
        "duration": 8,
        "start_time": "2023-03-26T21:17:34.725Z"
      },
      {
        "duration": 15,
        "start_time": "2023-03-26T21:17:34.735Z"
      },
      {
        "duration": 27,
        "start_time": "2023-03-26T21:17:34.752Z"
      },
      {
        "duration": 6,
        "start_time": "2023-03-26T21:17:34.781Z"
      },
      {
        "duration": 9,
        "start_time": "2023-03-26T21:17:34.789Z"
      },
      {
        "duration": 24,
        "start_time": "2023-03-26T21:17:34.800Z"
      },
      {
        "duration": 137,
        "start_time": "2023-03-26T21:17:34.828Z"
      },
      {
        "duration": 7665,
        "start_time": "2023-03-26T21:17:34.971Z"
      },
      {
        "duration": 135,
        "start_time": "2023-03-26T21:17:42.638Z"
      },
      {
        "duration": 104,
        "start_time": "2023-03-26T21:17:42.775Z"
      },
      {
        "duration": 13,
        "start_time": "2023-03-26T21:17:42.880Z"
      },
      {
        "duration": 78,
        "start_time": "2023-03-26T21:17:42.895Z"
      },
      {
        "duration": 299,
        "start_time": "2023-03-26T21:17:42.975Z"
      },
      {
        "duration": 1181,
        "start_time": "2023-03-26T21:17:43.276Z"
      },
      {
        "duration": 27283,
        "start_time": "2023-03-26T21:17:44.459Z"
      },
      {
        "duration": 29,
        "start_time": "2023-03-26T21:18:11.744Z"
      },
      {
        "duration": 262,
        "start_time": "2023-03-26T21:18:11.775Z"
      },
      {
        "duration": 4,
        "start_time": "2023-03-26T21:18:12.039Z"
      },
      {
        "duration": 4,
        "start_time": "2023-03-26T21:18:12.045Z"
      },
      {
        "duration": 21,
        "start_time": "2023-03-26T21:18:12.051Z"
      },
      {
        "duration": 4,
        "start_time": "2023-03-26T21:18:12.073Z"
      },
      {
        "duration": 10,
        "start_time": "2023-03-26T21:18:12.078Z"
      },
      {
        "duration": 103,
        "start_time": "2023-03-26T21:18:12.090Z"
      },
      {
        "duration": 4,
        "start_time": "2023-03-26T21:18:12.194Z"
      },
      {
        "duration": 106,
        "start_time": "2023-03-26T21:18:12.200Z"
      },
      {
        "duration": 4,
        "start_time": "2023-03-26T21:18:12.307Z"
      },
      {
        "duration": 46,
        "start_time": "2023-03-26T21:18:12.312Z"
      },
      {
        "duration": 9,
        "start_time": "2023-03-26T21:18:12.371Z"
      },
      {
        "duration": 11,
        "start_time": "2023-03-26T21:18:12.381Z"
      },
      {
        "duration": 378,
        "start_time": "2023-03-26T21:18:12.394Z"
      },
      {
        "duration": 1535,
        "start_time": "2023-03-26T21:18:12.773Z"
      },
      {
        "duration": 37228,
        "start_time": "2023-03-26T21:18:14.310Z"
      },
      {
        "duration": 33,
        "start_time": "2023-03-26T21:18:51.540Z"
      },
      {
        "duration": 528,
        "start_time": "2023-03-26T21:18:51.574Z"
      },
      {
        "duration": 20,
        "start_time": "2023-03-26T21:18:52.103Z"
      },
      {
        "duration": 131,
        "start_time": "2023-03-26T21:18:52.124Z"
      },
      {
        "duration": 1586,
        "start_time": "2023-03-28T16:10:20.681Z"
      },
      {
        "duration": 3279,
        "start_time": "2023-03-28T16:10:32.937Z"
      },
      {
        "duration": 9,
        "start_time": "2023-03-28T16:10:36.218Z"
      },
      {
        "duration": 11,
        "start_time": "2023-03-28T16:10:36.229Z"
      },
      {
        "duration": 6,
        "start_time": "2023-03-28T16:10:36.242Z"
      },
      {
        "duration": 80,
        "start_time": "2023-03-28T16:10:36.249Z"
      },
      {
        "duration": 25,
        "start_time": "2023-03-28T16:10:36.331Z"
      },
      {
        "duration": 118,
        "start_time": "2023-03-28T16:10:36.358Z"
      },
      {
        "duration": 6,
        "start_time": "2023-03-28T16:10:36.477Z"
      },
      {
        "duration": 3462,
        "start_time": "2023-03-28T16:10:36.484Z"
      },
      {
        "duration": 15,
        "start_time": "2023-03-28T16:10:39.949Z"
      },
      {
        "duration": 6,
        "start_time": "2023-03-28T16:10:39.966Z"
      },
      {
        "duration": 8,
        "start_time": "2023-03-28T16:10:39.975Z"
      },
      {
        "duration": 25,
        "start_time": "2023-03-28T16:10:39.985Z"
      },
      {
        "duration": 7,
        "start_time": "2023-03-28T16:10:40.011Z"
      },
      {
        "duration": 43,
        "start_time": "2023-03-28T16:10:40.019Z"
      },
      {
        "duration": 166,
        "start_time": "2023-03-28T16:10:40.064Z"
      },
      {
        "duration": 5,
        "start_time": "2023-03-28T16:10:40.232Z"
      },
      {
        "duration": 32,
        "start_time": "2023-03-28T16:10:40.238Z"
      },
      {
        "duration": 451,
        "start_time": "2023-03-28T16:10:40.272Z"
      },
      {
        "duration": 12,
        "start_time": "2023-03-28T16:10:40.726Z"
      },
      {
        "duration": 22,
        "start_time": "2023-03-28T16:10:40.740Z"
      },
      {
        "duration": 7,
        "start_time": "2023-03-28T16:10:40.962Z"
      },
      {
        "duration": 17,
        "start_time": "2023-03-28T16:10:41.183Z"
      },
      {
        "duration": 13,
        "start_time": "2023-03-28T16:10:41.912Z"
      },
      {
        "duration": 6,
        "start_time": "2023-03-28T16:10:42.262Z"
      },
      {
        "duration": 9,
        "start_time": "2023-03-28T16:10:42.398Z"
      },
      {
        "duration": 29,
        "start_time": "2023-03-28T16:10:42.811Z"
      },
      {
        "duration": 145,
        "start_time": "2023-03-28T16:10:43.838Z"
      },
      {
        "duration": 7912,
        "start_time": "2023-03-28T16:10:44.253Z"
      },
      {
        "duration": 98,
        "start_time": "2023-03-28T16:10:52.167Z"
      },
      {
        "duration": 101,
        "start_time": "2023-03-28T16:10:52.268Z"
      },
      {
        "duration": 95,
        "start_time": "2023-03-28T16:10:52.371Z"
      },
      {
        "duration": 14,
        "start_time": "2023-03-28T16:10:52.468Z"
      },
      {
        "duration": 407,
        "start_time": "2023-03-28T16:10:52.484Z"
      },
      {
        "duration": 1226,
        "start_time": "2023-03-28T16:10:52.893Z"
      },
      {
        "duration": 29319,
        "start_time": "2023-03-28T16:10:54.121Z"
      },
      {
        "duration": 22,
        "start_time": "2023-03-28T16:11:23.441Z"
      },
      {
        "duration": 301,
        "start_time": "2023-03-28T16:11:23.467Z"
      },
      {
        "duration": 5,
        "start_time": "2023-03-28T16:11:23.769Z"
      },
      {
        "duration": 7,
        "start_time": "2023-03-28T16:11:23.776Z"
      },
      {
        "duration": 10,
        "start_time": "2023-03-28T16:11:23.785Z"
      },
      {
        "duration": 5,
        "start_time": "2023-03-28T16:11:23.796Z"
      },
      {
        "duration": 10,
        "start_time": "2023-03-28T16:11:23.803Z"
      },
      {
        "duration": 118,
        "start_time": "2023-03-28T16:11:23.815Z"
      },
      {
        "duration": 5,
        "start_time": "2023-03-28T16:11:23.935Z"
      },
      {
        "duration": 152,
        "start_time": "2023-03-28T16:11:23.942Z"
      },
      {
        "duration": 4,
        "start_time": "2023-03-28T16:11:24.097Z"
      },
      {
        "duration": 86,
        "start_time": "2023-03-28T16:11:24.103Z"
      },
      {
        "duration": 11,
        "start_time": "2023-03-28T16:11:24.191Z"
      },
      {
        "duration": 63,
        "start_time": "2023-03-28T16:11:24.204Z"
      },
      {
        "duration": 314,
        "start_time": "2023-03-28T16:11:24.270Z"
      },
      {
        "duration": 1584,
        "start_time": "2023-03-28T16:11:24.586Z"
      },
      {
        "duration": 39891,
        "start_time": "2023-03-28T16:11:26.172Z"
      },
      {
        "duration": 35,
        "start_time": "2023-03-28T16:12:06.065Z"
      },
      {
        "duration": 482,
        "start_time": "2023-03-28T16:12:06.164Z"
      },
      {
        "duration": 33,
        "start_time": "2023-03-28T16:12:06.649Z"
      },
      {
        "duration": 166,
        "start_time": "2023-03-28T16:12:06.684Z"
      },
      {
        "duration": 4,
        "start_time": "2023-03-28T16:25:07.353Z"
      },
      {
        "duration": 9,
        "start_time": "2023-03-28T16:26:39.119Z"
      },
      {
        "duration": 114,
        "start_time": "2023-03-28T16:26:40.299Z"
      },
      {
        "duration": 1569,
        "start_time": "2023-03-28T18:51:38.313Z"
      },
      {
        "duration": 3182,
        "start_time": "2023-03-28T18:51:39.884Z"
      },
      {
        "duration": 9,
        "start_time": "2023-03-28T18:51:43.068Z"
      },
      {
        "duration": 15,
        "start_time": "2023-03-28T18:51:43.079Z"
      },
      {
        "duration": 17,
        "start_time": "2023-03-28T18:51:43.095Z"
      },
      {
        "duration": 389,
        "start_time": "2023-03-28T18:51:43.113Z"
      },
      {
        "duration": 31,
        "start_time": "2023-03-28T18:51:43.504Z"
      },
      {
        "duration": 111,
        "start_time": "2023-03-28T18:51:43.537Z"
      },
      {
        "duration": 6,
        "start_time": "2023-03-28T18:51:43.650Z"
      },
      {
        "duration": 3412,
        "start_time": "2023-03-28T18:51:43.687Z"
      },
      {
        "duration": 18,
        "start_time": "2023-03-28T18:51:47.100Z"
      },
      {
        "duration": 12,
        "start_time": "2023-03-28T18:51:47.119Z"
      },
      {
        "duration": 7,
        "start_time": "2023-03-28T18:51:47.133Z"
      },
      {
        "duration": 21,
        "start_time": "2023-03-28T18:51:47.141Z"
      },
      {
        "duration": 6,
        "start_time": "2023-03-28T18:51:47.164Z"
      },
      {
        "duration": 9,
        "start_time": "2023-03-28T18:51:47.186Z"
      },
      {
        "duration": 155,
        "start_time": "2023-03-28T18:51:47.197Z"
      },
      {
        "duration": 4,
        "start_time": "2023-03-28T18:51:47.356Z"
      },
      {
        "duration": 29,
        "start_time": "2023-03-28T18:51:47.361Z"
      },
      {
        "duration": 430,
        "start_time": "2023-03-28T18:51:47.391Z"
      },
      {
        "duration": 11,
        "start_time": "2023-03-28T18:51:47.823Z"
      },
      {
        "duration": 6,
        "start_time": "2023-03-28T18:51:48.153Z"
      },
      {
        "duration": 9,
        "start_time": "2023-03-28T18:51:48.365Z"
      },
      {
        "duration": 19,
        "start_time": "2023-03-28T18:51:48.557Z"
      },
      {
        "duration": 13,
        "start_time": "2023-03-28T18:51:49.346Z"
      },
      {
        "duration": 5,
        "start_time": "2023-03-28T18:51:49.733Z"
      },
      {
        "duration": 9,
        "start_time": "2023-03-28T18:51:49.954Z"
      },
      {
        "duration": 30,
        "start_time": "2023-03-28T18:51:50.338Z"
      },
      {
        "duration": 131,
        "start_time": "2023-03-28T18:51:51.541Z"
      },
      {
        "duration": 7706,
        "start_time": "2023-03-28T18:51:52.178Z"
      },
      {
        "duration": 301,
        "start_time": "2023-03-28T18:51:59.887Z"
      },
      {
        "duration": 102,
        "start_time": "2023-03-28T18:52:00.191Z"
      },
      {
        "duration": 35,
        "start_time": "2023-03-28T18:52:00.295Z"
      },
      {
        "duration": 57,
        "start_time": "2023-03-28T18:52:00.332Z"
      },
      {
        "duration": 528,
        "start_time": "2023-03-28T18:52:00.392Z"
      },
      {
        "duration": 1290,
        "start_time": "2023-03-28T18:52:00.922Z"
      },
      {
        "duration": 29972,
        "start_time": "2023-03-28T18:52:02.215Z"
      },
      {
        "duration": 15,
        "start_time": "2023-03-28T18:52:32.189Z"
      },
      {
        "duration": 292,
        "start_time": "2023-03-28T18:52:32.209Z"
      },
      {
        "duration": 5,
        "start_time": "2023-03-28T18:52:32.503Z"
      },
      {
        "duration": 5,
        "start_time": "2023-03-28T18:52:32.510Z"
      },
      {
        "duration": 11,
        "start_time": "2023-03-28T18:52:32.517Z"
      },
      {
        "duration": 5,
        "start_time": "2023-03-28T18:52:32.530Z"
      },
      {
        "duration": 10,
        "start_time": "2023-03-28T18:52:32.537Z"
      },
      {
        "duration": 127,
        "start_time": "2023-03-28T18:52:32.549Z"
      },
      {
        "duration": 4,
        "start_time": "2023-03-28T18:52:32.687Z"
      },
      {
        "duration": 127,
        "start_time": "2023-03-28T18:52:32.693Z"
      },
      {
        "duration": 4,
        "start_time": "2023-03-28T18:52:32.821Z"
      },
      {
        "duration": 66,
        "start_time": "2023-03-28T18:52:32.827Z"
      },
      {
        "duration": 9,
        "start_time": "2023-03-28T18:52:32.895Z"
      },
      {
        "duration": 11,
        "start_time": "2023-03-28T18:52:32.905Z"
      },
      {
        "duration": 351,
        "start_time": "2023-03-28T18:52:32.989Z"
      },
      {
        "duration": 1585,
        "start_time": "2023-03-28T18:52:33.342Z"
      },
      {
        "duration": 40024,
        "start_time": "2023-03-28T18:52:34.929Z"
      },
      {
        "duration": 47,
        "start_time": "2023-03-28T18:53:14.954Z"
      },
      {
        "duration": 7,
        "start_time": "2023-03-28T18:53:15.089Z"
      },
      {
        "duration": 26,
        "start_time": "2023-03-28T18:53:15.190Z"
      },
      {
        "duration": 106,
        "start_time": "2023-03-28T18:53:15.218Z"
      },
      {
        "duration": 64,
        "start_time": "2023-03-28T18:53:15.326Z"
      },
      {
        "duration": 486,
        "start_time": "2023-03-28T18:53:15.393Z"
      },
      {
        "duration": 32,
        "start_time": "2023-03-28T18:53:15.880Z"
      },
      {
        "duration": 164,
        "start_time": "2023-03-28T18:53:15.914Z"
      },
      {
        "duration": 58,
        "start_time": "2023-03-28T18:59:46.626Z"
      },
      {
        "duration": 57,
        "start_time": "2023-03-28T19:00:08.424Z"
      },
      {
        "duration": 77,
        "start_time": "2023-03-28T19:00:23.110Z"
      },
      {
        "duration": 4,
        "start_time": "2023-03-28T19:01:04.341Z"
      },
      {
        "duration": 13,
        "start_time": "2023-03-28T19:01:05.220Z"
      },
      {
        "duration": 114,
        "start_time": "2023-03-28T19:06:22.296Z"
      },
      {
        "duration": 581,
        "start_time": "2023-03-28T19:06:41.906Z"
      },
      {
        "duration": 16876,
        "start_time": "2023-03-28T19:11:54.680Z"
      },
      {
        "duration": 21,
        "start_time": "2023-03-28T19:12:23.081Z"
      }
    ],
    "kernelspec": {
      "display_name": "Python 3 (ipykernel)",
      "language": "python",
      "name": "python3"
    },
    "language_info": {
      "codemirror_mode": {
        "name": "ipython",
        "version": 3
      },
      "file_extension": ".py",
      "mimetype": "text/x-python",
      "name": "python",
      "nbconvert_exporter": "python",
      "pygments_lexer": "ipython3",
      "version": "3.9.5"
    },
    "toc": {
      "base_numbering": 1,
      "nav_menu": {},
      "number_sections": true,
      "sideBar": true,
      "skip_h1_title": true,
      "title_cell": "Содержание",
      "title_sidebar": "Contents",
      "toc_cell": true,
      "toc_position": {},
      "toc_section_display": true,
      "toc_window_display": false
    },
    "colab": {
      "provenance": []
    }
  },
  "nbformat": 4,
  "nbformat_minor": 0
}