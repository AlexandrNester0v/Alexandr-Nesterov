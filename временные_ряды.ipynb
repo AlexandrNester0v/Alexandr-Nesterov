{
  "cells": [
    {
      "cell_type": "markdown",
      "metadata": {
        "toc": true,
        "id": "xwZBvcnWClWD"
      },
      "source": [
        "<h1>Содержание<span class=\"tocSkip\"></span></h1>\n",
        "<div class=\"toc\"><ul class=\"toc-item\"><li><span><a href=\"#Подготовка\" data-toc-modified-id=\"Подготовка-1\"><span class=\"toc-item-num\">1&nbsp;&nbsp;</span>Подготовка</a></span><ul class=\"toc-item\"><li><span><a href=\"#Функции-для-анализа-данных\" data-toc-modified-id=\"Функции-для-анализа-данных-1.1\"><span class=\"toc-item-num\">1.1&nbsp;&nbsp;</span>Функции для анализа данных</a></span></li><li><span><a href=\"#Загрузим-данные\" data-toc-modified-id=\"Загрузим-данные-1.2\"><span class=\"toc-item-num\">1.2&nbsp;&nbsp;</span>Загрузим данные</a></span></li></ul></li><li><span><a href=\"#Анализ\" data-toc-modified-id=\"Анализ-2\"><span class=\"toc-item-num\">2&nbsp;&nbsp;</span>Анализ</a></span></li><li><span><a href=\"#Обучение\" data-toc-modified-id=\"Обучение-3\"><span class=\"toc-item-num\">3&nbsp;&nbsp;</span>Обучение</a></span><ul class=\"toc-item\"><li><span><a href=\"#Linear-Regression-Модель\" data-toc-modified-id=\"Linear-Regression-Модель-3.1\"><span class=\"toc-item-num\">3.1&nbsp;&nbsp;</span>Linear Regression Модель</a></span></li><li><span><a href=\"#RandomizedSearchCV\" data-toc-modified-id=\"RandomizedSearchCV-3.2\"><span class=\"toc-item-num\">3.2&nbsp;&nbsp;</span>RandomizedSearchCV</a></span></li><li><span><a href=\"#LightGBM-Модель-(градиентный-бустинг)\" data-toc-modified-id=\"LightGBM-Модель-(градиентный-бустинг)-3.3\"><span class=\"toc-item-num\">3.3&nbsp;&nbsp;</span>LightGBM Модель (градиентный бустинг)</a></span></li><li><span><a href=\"#CatBoost-Regressor-(градиентный-бустинг)\" data-toc-modified-id=\"CatBoost-Regressor-(градиентный-бустинг)-3.4\"><span class=\"toc-item-num\">3.4&nbsp;&nbsp;</span>CatBoost Regressor (градиентный бустинг)</a></span></li><li><span><a href=\"#Таблица-RMSE\" data-toc-modified-id=\"Таблица-RMSE-3.5\"><span class=\"toc-item-num\">3.5&nbsp;&nbsp;</span>Таблица RMSE</a></span></li></ul></li><li><span><a href=\"#Тестирование\" data-toc-modified-id=\"Тестирование-4\"><span class=\"toc-item-num\">4&nbsp;&nbsp;</span>Тестирование</a></span><ul class=\"toc-item\"><li><span><a href=\"#Проверим-на-адекватность\" data-toc-modified-id=\"Проверим-на-адекватность-4.1\"><span class=\"toc-item-num\">4.1&nbsp;&nbsp;</span>Проверим на адекватность</a></span></li><li><span><a href=\"#Вывод\" data-toc-modified-id=\"Вывод-4.2\"><span class=\"toc-item-num\">4.2&nbsp;&nbsp;</span>Вывод</a></span></li></ul></li><li><span><a href=\"#Чек-лист-проверки\" data-toc-modified-id=\"Чек-лист-проверки-5\"><span class=\"toc-item-num\">5&nbsp;&nbsp;</span>Чек-лист проверки</a></span></li></ul></div>"
      ]
    },
    {
      "cell_type": "markdown",
      "metadata": {
        "id": "hWYA4HWUClWE"
      },
      "source": [
        "#  Прогнозирование заказов такси"
      ]
    },
    {
      "cell_type": "markdown",
      "metadata": {
        "id": "HaYDWQJsClWF"
      },
      "source": [
        "Компания «Чётенькое такси» собрала исторические данные о заказах такси в аэропортах. Чтобы привлекать больше водителей в период пиковой нагрузки, нужно спрогнозировать количество заказов такси на следующий час. Постройте модель для такого предсказания.\n",
        "\n",
        "Значение метрики *RMSE* на тестовой выборке должно быть не больше 48.\n",
        "\n",
        "Вам нужно:\n",
        "\n",
        "1. Загрузить данные и выполнить их ресемплирование по одному часу.\n",
        "2. Проанализировать данные.\n",
        "3. Обучить разные модели с различными гиперпараметрами. Сделать тестовую выборку размером 10% от исходных данных.\n",
        "4. Проверить данные на тестовой выборке и сделать выводы.\n",
        "\n",
        "\n",
        "Данные лежат в файле `taxi.csv`. Количество заказов находится в столбце `num_orders` (от англ. *number of orders*, «число заказов»)."
      ]
    },
    {
      "cell_type": "markdown",
      "metadata": {
        "id": "n6BD5-hPClWG"
      },
      "source": [
        "## Подготовка"
      ]
    },
    {
      "cell_type": "markdown",
      "metadata": {
        "id": "VnDnqd6xClWI"
      },
      "source": [
        "Установим и загрузим нужные нам библиотеки."
      ]
    },
    {
      "cell_type": "code",
      "execution_count": null,
      "metadata": {
        "scrolled": true,
        "id": "EsBHeb1JClWJ"
      },
      "outputs": [],
      "source": [
        "!pip install phik\n",
        "!pip install missingno\n",
        "!pip install scikit-learn==1.1.3\n",
        "!pip install lightgbm\n",
        "!pip install catboost"
      ]
    },
    {
      "cell_type": "code",
      "execution_count": null,
      "metadata": {
        "id": "p9AQWh7QClWO"
      },
      "outputs": [],
      "source": [
        "import pandas as pd\n",
        "import matplotlib.pyplot as plt\n",
        "import numpy as np\n",
        "import warnings\n",
        "import seaborn as sns\n",
        "\n",
        "warnings.filterwarnings(\"ignore\")\n",
        "\n",
        "import phik\n",
        "from phik.report import plot_correlation_matrix\n",
        "from phik import report\n",
        "import missingno as msno\n",
        "from statsmodels.tsa.seasonal import seasonal_decompose\n",
        "from sklearn.model_selection import train_test_split\n",
        "\n",
        "from sklearn.tree import DecisionTreeRegressor\n",
        "from sklearn.ensemble import RandomForestRegressor\n",
        "from sklearn.linear_model import LinearRegression\n",
        "from sklearn.dummy import DummyRegressor\n",
        "from sklearn.preprocessing import StandardScaler\n",
        "from sklearn.preprocessing import OneHotEncoder\n",
        "from sklearn.model_selection import train_test_split, GridSearchCV\n",
        "from sklearn.metrics import mean_squared_error\n",
        "from catboost import Pool, CatBoostRegressor, cv\n",
        "from sklearn.model_selection import RandomizedSearchCV\n",
        "from lightgbm import LGBMRegressor\n",
        "import lightgbm as lgb"
      ]
    },
    {
      "cell_type": "code",
      "execution_count": null,
      "metadata": {
        "id": "F080JXD8ClWP"
      },
      "outputs": [],
      "source": [
        "from sklearn.model_selection import cross_val_score, GridSearchCV , train_test_split, TimeSeriesSplit"
      ]
    },
    {
      "cell_type": "markdown",
      "metadata": {
        "id": "CPkjTHhRClWQ"
      },
      "source": [
        "### Функции для анализа данных"
      ]
    },
    {
      "cell_type": "code",
      "execution_count": null,
      "metadata": {
        "id": "59kL2eXeClWR"
      },
      "outputs": [],
      "source": [
        "def check_data(data):\n",
        "    print ('\\033[1m' + 'Изучим исходные данные'+ '\\033[0m')\n",
        "    print(data.info())\n",
        "    #print(data_df.shape)\n",
        "\n",
        "    missed_cells = data.isnull().sum().sum()/(data.shape[0]*(data.shape[1]-1))\n",
        "    missed_rows = sum(data.isnull().sum(axis = 1)>0)/data.shape[0]\n",
        "    print ('\\033[1m' + '\\nПроверка пропусков'+ '\\033[0m')\n",
        "    print ('Количество пропусков: {:.0f}'.format(data.isnull().sum().sum()))\n",
        "    print ('Доля пропусков: {:.1%}'.format(missed_cells)+ '\\033[0m')\n",
        "    print ('Доля строк содержащих пропуски: {:.1%}'.format(missed_rows))\n",
        "\n",
        "    ## Проверим дубликаты\n",
        "    print ('\\033[1m' + '\\nПроверка на дубликаты'+ '\\033[0m')\n",
        "    print('Количество полных дубликатов: ', data.duplicated().sum())\n",
        "\n",
        "    ## Посмотрим на сами данные\n",
        "    print ('\\033[1m' + '\\nПервые пять строк датасета'+ '\\033[0m')\n",
        "    display(data.head())\n",
        "\n",
        "    print('\\033[1m' + '\\nОписание количественных данных:'+ '\\033[0m')\n",
        "    display(data.describe().T)\n",
        "\n",
        "    print('\\033[1m' + '\\nОписание категориальных данных:'+ '\\033[0m')\n",
        "    display(data.describe(include='object').T)\n",
        "\n",
        "\n",
        "    print('\\033[1m' + '\\nВывод уникальных значений по каждому категориаьному признаку:'+ '\\033[0m')\n",
        "    df_object = data.select_dtypes(include='object').columns\n",
        "\n",
        "    for i in df_object:\n",
        "        print('\\033[1m' + '_'+ str(i) + '\\033[0m')\n",
        "        display(data[i].value_counts())\n",
        "\n",
        "    print('\\033[1m' + '\\nНазвания колонок:'+ '\\033[0m')\n",
        "    for column in data.columns:\n",
        "        print(column)"
      ]
    },
    {
      "cell_type": "markdown",
      "metadata": {
        "id": "GJfBGMbjClWT"
      },
      "source": [
        "### Загрузим данные"
      ]
    },
    {
      "cell_type": "code",
      "execution_count": null,
      "metadata": {
        "id": "aeUTTo6xClWT"
      },
      "outputs": [],
      "source": [
        "data = pd.read_csv('/datasets/taxi.csv')"
      ]
    },
    {
      "cell_type": "code",
      "execution_count": null,
      "metadata": {
        "id": "NDlBxLtXClWV",
        "outputId": "07ddd27f-4395-4117-8e3f-9e6c3518c6e6"
      },
      "outputs": [
        {
          "name": "stdout",
          "output_type": "stream",
          "text": [
            "\u001b[1mИзучим исходные данные\u001b[0m\n",
            "<class 'pandas.core.frame.DataFrame'>\n",
            "RangeIndex: 26496 entries, 0 to 26495\n",
            "Data columns (total 2 columns):\n",
            " #   Column      Non-Null Count  Dtype \n",
            "---  ------      --------------  ----- \n",
            " 0   datetime    26496 non-null  object\n",
            " 1   num_orders  26496 non-null  int64 \n",
            "dtypes: int64(1), object(1)\n",
            "memory usage: 414.1+ KB\n",
            "None\n",
            "\u001b[1m\n",
            "Проверка пропусков\u001b[0m\n",
            "Количество пропусков: 0\n",
            "Доля пропусков: 0.0%\u001b[0m\n",
            "Доля строк содержащих пропуски: 0.0%\n",
            "\u001b[1m\n",
            "Проверка на дубликаты\u001b[0m\n",
            "Количество полных дубликатов:  0\n",
            "\u001b[1m\n",
            "Первые пять строк датасета\u001b[0m\n"
          ]
        },
        {
          "data": {
            "text/html": [
              "<div>\n",
              "<style scoped>\n",
              "    .dataframe tbody tr th:only-of-type {\n",
              "        vertical-align: middle;\n",
              "    }\n",
              "\n",
              "    .dataframe tbody tr th {\n",
              "        vertical-align: top;\n",
              "    }\n",
              "\n",
              "    .dataframe thead th {\n",
              "        text-align: right;\n",
              "    }\n",
              "</style>\n",
              "<table border=\"1\" class=\"dataframe\">\n",
              "  <thead>\n",
              "    <tr style=\"text-align: right;\">\n",
              "      <th></th>\n",
              "      <th>datetime</th>\n",
              "      <th>num_orders</th>\n",
              "    </tr>\n",
              "  </thead>\n",
              "  <tbody>\n",
              "    <tr>\n",
              "      <th>0</th>\n",
              "      <td>2018-03-01 00:00:00</td>\n",
              "      <td>9</td>\n",
              "    </tr>\n",
              "    <tr>\n",
              "      <th>1</th>\n",
              "      <td>2018-03-01 00:10:00</td>\n",
              "      <td>14</td>\n",
              "    </tr>\n",
              "    <tr>\n",
              "      <th>2</th>\n",
              "      <td>2018-03-01 00:20:00</td>\n",
              "      <td>28</td>\n",
              "    </tr>\n",
              "    <tr>\n",
              "      <th>3</th>\n",
              "      <td>2018-03-01 00:30:00</td>\n",
              "      <td>20</td>\n",
              "    </tr>\n",
              "    <tr>\n",
              "      <th>4</th>\n",
              "      <td>2018-03-01 00:40:00</td>\n",
              "      <td>32</td>\n",
              "    </tr>\n",
              "  </tbody>\n",
              "</table>\n",
              "</div>"
            ],
            "text/plain": [
              "              datetime  num_orders\n",
              "0  2018-03-01 00:00:00           9\n",
              "1  2018-03-01 00:10:00          14\n",
              "2  2018-03-01 00:20:00          28\n",
              "3  2018-03-01 00:30:00          20\n",
              "4  2018-03-01 00:40:00          32"
            ]
          },
          "metadata": {},
          "output_type": "display_data"
        },
        {
          "name": "stdout",
          "output_type": "stream",
          "text": [
            "\u001b[1m\n",
            "Описание количественных данных:\u001b[0m\n"
          ]
        },
        {
          "data": {
            "text/html": [
              "<div>\n",
              "<style scoped>\n",
              "    .dataframe tbody tr th:only-of-type {\n",
              "        vertical-align: middle;\n",
              "    }\n",
              "\n",
              "    .dataframe tbody tr th {\n",
              "        vertical-align: top;\n",
              "    }\n",
              "\n",
              "    .dataframe thead th {\n",
              "        text-align: right;\n",
              "    }\n",
              "</style>\n",
              "<table border=\"1\" class=\"dataframe\">\n",
              "  <thead>\n",
              "    <tr style=\"text-align: right;\">\n",
              "      <th></th>\n",
              "      <th>count</th>\n",
              "      <th>mean</th>\n",
              "      <th>std</th>\n",
              "      <th>min</th>\n",
              "      <th>25%</th>\n",
              "      <th>50%</th>\n",
              "      <th>75%</th>\n",
              "      <th>max</th>\n",
              "    </tr>\n",
              "  </thead>\n",
              "  <tbody>\n",
              "    <tr>\n",
              "      <th>num_orders</th>\n",
              "      <td>26496.0</td>\n",
              "      <td>14.070463</td>\n",
              "      <td>9.21133</td>\n",
              "      <td>0.0</td>\n",
              "      <td>8.0</td>\n",
              "      <td>13.0</td>\n",
              "      <td>19.0</td>\n",
              "      <td>119.0</td>\n",
              "    </tr>\n",
              "  </tbody>\n",
              "</table>\n",
              "</div>"
            ],
            "text/plain": [
              "              count       mean      std  min  25%   50%   75%    max\n",
              "num_orders  26496.0  14.070463  9.21133  0.0  8.0  13.0  19.0  119.0"
            ]
          },
          "metadata": {},
          "output_type": "display_data"
        },
        {
          "name": "stdout",
          "output_type": "stream",
          "text": [
            "\u001b[1m\n",
            "Описание категориальных данных:\u001b[0m\n"
          ]
        },
        {
          "data": {
            "text/html": [
              "<div>\n",
              "<style scoped>\n",
              "    .dataframe tbody tr th:only-of-type {\n",
              "        vertical-align: middle;\n",
              "    }\n",
              "\n",
              "    .dataframe tbody tr th {\n",
              "        vertical-align: top;\n",
              "    }\n",
              "\n",
              "    .dataframe thead th {\n",
              "        text-align: right;\n",
              "    }\n",
              "</style>\n",
              "<table border=\"1\" class=\"dataframe\">\n",
              "  <thead>\n",
              "    <tr style=\"text-align: right;\">\n",
              "      <th></th>\n",
              "      <th>count</th>\n",
              "      <th>unique</th>\n",
              "      <th>top</th>\n",
              "      <th>freq</th>\n",
              "    </tr>\n",
              "  </thead>\n",
              "  <tbody>\n",
              "    <tr>\n",
              "      <th>datetime</th>\n",
              "      <td>26496</td>\n",
              "      <td>26496</td>\n",
              "      <td>2018-05-03 05:00:00</td>\n",
              "      <td>1</td>\n",
              "    </tr>\n",
              "  </tbody>\n",
              "</table>\n",
              "</div>"
            ],
            "text/plain": [
              "          count unique                  top freq\n",
              "datetime  26496  26496  2018-05-03 05:00:00    1"
            ]
          },
          "metadata": {},
          "output_type": "display_data"
        },
        {
          "name": "stdout",
          "output_type": "stream",
          "text": [
            "\u001b[1m\n",
            "Вывод уникальных значений по каждому категориаьному признаку:\u001b[0m\n",
            "\u001b[1m_datetime\u001b[0m\n"
          ]
        },
        {
          "data": {
            "text/plain": [
              "2018-05-03 05:00:00    1\n",
              "2018-08-30 03:00:00    1\n",
              "2018-08-12 10:10:00    1\n",
              "2018-03-18 21:30:00    1\n",
              "2018-08-24 09:20:00    1\n",
              "                      ..\n",
              "2018-08-21 18:10:00    1\n",
              "2018-05-14 05:00:00    1\n",
              "2018-07-01 00:10:00    1\n",
              "2018-08-25 07:10:00    1\n",
              "2018-06-11 14:50:00    1\n",
              "Name: datetime, Length: 26496, dtype: int64"
            ]
          },
          "metadata": {},
          "output_type": "display_data"
        },
        {
          "name": "stdout",
          "output_type": "stream",
          "text": [
            "\u001b[1m\n",
            "Названия колонок:\u001b[0m\n",
            "datetime\n",
            "num_orders\n"
          ]
        }
      ],
      "source": [
        "check_data(data)"
      ]
    },
    {
      "cell_type": "code",
      "execution_count": null,
      "metadata": {
        "id": "tzPj9ajhClWV",
        "outputId": "581a3b81-e380-48dc-b5e2-f2f02ff68512"
      },
      "outputs": [
        {
          "data": {
            "text/plain": [
              "<AxesSubplot:>"
            ]
          },
          "execution_count": 7,
          "metadata": {},
          "output_type": "execute_result"
        },
        {
          "data": {
            "image/png": "[encoded data removed]",
            "text/plain": [
              "<Figure size 1800x720 with 3 Axes>"
            ]
          },
          "metadata": {
            "needs_background": "light"
          },
          "output_type": "display_data"
        }
      ],
      "source": [
        "msno.bar(data)"
      ]
    },
    {
      "cell_type": "markdown",
      "metadata": {
        "id": "Ke5L3N4aClWW"
      },
      "source": [
        "Данные загрузились нормально, пропусков и дубликатов нет. Посмотрим глубже."
      ]
    },
    {
      "cell_type": "markdown",
      "metadata": {
        "id": "cNtGTsFGClWW"
      },
      "source": [
        "## Анализ"
      ]
    },
    {
      "cell_type": "markdown",
      "metadata": {
        "id": "2z_UDB19ClWX"
      },
      "source": [
        "Изменим формат на 'datetime64'"
      ]
    },
    {
      "cell_type": "code",
      "execution_count": null,
      "metadata": {
        "id": "wooCJygqClWX",
        "outputId": "a2ec81d7-affd-415e-fe77-51295903c757"
      },
      "outputs": [
        {
          "name": "stdout",
          "output_type": "stream",
          "text": [
            "<class 'pandas.core.frame.DataFrame'>\n",
            "RangeIndex: 26496 entries, 0 to 26495\n",
            "Data columns (total 2 columns):\n",
            " #   Column      Non-Null Count  Dtype         \n",
            "---  ------      --------------  -----         \n",
            " 0   datetime    26496 non-null  datetime64[ns]\n",
            " 1   num_orders  26496 non-null  int64         \n",
            "dtypes: datetime64[ns](1), int64(1)\n",
            "memory usage: 414.1 KB\n",
            "None\n"
          ]
        }
      ],
      "source": [
        "data['datetime'] = data['datetime'].astype('datetime64')\n",
        "print(data.info())"
      ]
    },
    {
      "cell_type": "markdown",
      "metadata": {
        "id": "TgurEDPRClWY"
      },
      "source": [
        "Код сработал"
      ]
    },
    {
      "cell_type": "markdown",
      "metadata": {
        "id": "Mbs0F9r4ClWY"
      },
      "source": [
        "Проверим в хронологическом ли порядке расположены даты и время?"
      ]
    },
    {
      "cell_type": "code",
      "execution_count": null,
      "metadata": {
        "id": "k5e2_VJMClWY",
        "outputId": "29ff846a-dc11-4147-a7c3-93eb36a671ec"
      },
      "outputs": [
        {
          "data": {
            "text/html": [
              "<div>\n",
              "<style scoped>\n",
              "    .dataframe tbody tr th:only-of-type {\n",
              "        vertical-align: middle;\n",
              "    }\n",
              "\n",
              "    .dataframe tbody tr th {\n",
              "        vertical-align: top;\n",
              "    }\n",
              "\n",
              "    .dataframe thead th {\n",
              "        text-align: right;\n",
              "    }\n",
              "</style>\n",
              "<table border=\"1\" class=\"dataframe\">\n",
              "  <thead>\n",
              "    <tr style=\"text-align: right;\">\n",
              "      <th></th>\n",
              "      <th>num_orders</th>\n",
              "    </tr>\n",
              "    <tr>\n",
              "      <th>datetime</th>\n",
              "      <th></th>\n",
              "    </tr>\n",
              "  </thead>\n",
              "  <tbody>\n",
              "    <tr>\n",
              "      <th>2018-03-01 00:00:00</th>\n",
              "      <td>9</td>\n",
              "    </tr>\n",
              "    <tr>\n",
              "      <th>2018-03-01 00:10:00</th>\n",
              "      <td>14</td>\n",
              "    </tr>\n",
              "    <tr>\n",
              "      <th>2018-03-01 00:20:00</th>\n",
              "      <td>28</td>\n",
              "    </tr>\n",
              "    <tr>\n",
              "      <th>2018-03-01 00:30:00</th>\n",
              "      <td>20</td>\n",
              "    </tr>\n",
              "    <tr>\n",
              "      <th>2018-03-01 00:40:00</th>\n",
              "      <td>32</td>\n",
              "    </tr>\n",
              "  </tbody>\n",
              "</table>\n",
              "</div>"
            ],
            "text/plain": [
              "                     num_orders\n",
              "datetime                       \n",
              "2018-03-01 00:00:00           9\n",
              "2018-03-01 00:10:00          14\n",
              "2018-03-01 00:20:00          28\n",
              "2018-03-01 00:30:00          20\n",
              "2018-03-01 00:40:00          32"
            ]
          },
          "execution_count": 9,
          "metadata": {},
          "output_type": "execute_result"
        }
      ],
      "source": [
        "data.set_index('datetime', inplace=True)\n",
        "data.head()"
      ]
    },
    {
      "cell_type": "code",
      "execution_count": null,
      "metadata": {
        "scrolled": true,
        "id": "caMVFzsXClWZ",
        "outputId": "7d410d18-3265-44c8-8fef-a9f4000bd8b6"
      },
      "outputs": [
        {
          "data": {
            "text/plain": [
              "True"
            ]
          },
          "metadata": {},
          "output_type": "display_data"
        },
        {
          "data": {
            "text/html": [
              "<div>\n",
              "<style scoped>\n",
              "    .dataframe tbody tr th:only-of-type {\n",
              "        vertical-align: middle;\n",
              "    }\n",
              "\n",
              "    .dataframe tbody tr th {\n",
              "        vertical-align: top;\n",
              "    }\n",
              "\n",
              "    .dataframe thead th {\n",
              "        text-align: right;\n",
              "    }\n",
              "</style>\n",
              "<table border=\"1\" class=\"dataframe\">\n",
              "  <thead>\n",
              "    <tr style=\"text-align: right;\">\n",
              "      <th></th>\n",
              "      <th>num_orders</th>\n",
              "    </tr>\n",
              "    <tr>\n",
              "      <th>datetime</th>\n",
              "      <th></th>\n",
              "    </tr>\n",
              "  </thead>\n",
              "  <tbody>\n",
              "    <tr>\n",
              "      <th>2018-03-01 00:00:00</th>\n",
              "      <td>9</td>\n",
              "    </tr>\n",
              "    <tr>\n",
              "      <th>2018-03-01 00:10:00</th>\n",
              "      <td>14</td>\n",
              "    </tr>\n",
              "    <tr>\n",
              "      <th>2018-03-01 00:20:00</th>\n",
              "      <td>28</td>\n",
              "    </tr>\n",
              "    <tr>\n",
              "      <th>2018-03-01 00:30:00</th>\n",
              "      <td>20</td>\n",
              "    </tr>\n",
              "    <tr>\n",
              "      <th>2018-03-01 00:40:00</th>\n",
              "      <td>32</td>\n",
              "    </tr>\n",
              "  </tbody>\n",
              "</table>\n",
              "</div>"
            ],
            "text/plain": [
              "                     num_orders\n",
              "datetime                       \n",
              "2018-03-01 00:00:00           9\n",
              "2018-03-01 00:10:00          14\n",
              "2018-03-01 00:20:00          28\n",
              "2018-03-01 00:30:00          20\n",
              "2018-03-01 00:40:00          32"
            ]
          },
          "metadata": {},
          "output_type": "display_data"
        },
        {
          "name": "stdout",
          "output_type": "stream",
          "text": [
            "<class 'pandas.core.frame.DataFrame'>\n",
            "DatetimeIndex: 26496 entries, 2018-03-01 00:00:00 to 2018-08-31 23:50:00\n",
            "Data columns (total 1 columns):\n",
            " #   Column      Non-Null Count  Dtype\n",
            "---  ------      --------------  -----\n",
            " 0   num_orders  26496 non-null  int64\n",
            "dtypes: int64(1)\n",
            "memory usage: 414.0 KB\n"
          ]
        }
      ],
      "source": [
        "display(data.index.is_monotonic)\n",
        "display(data.head())\n",
        "data.info()"
      ]
    },
    {
      "cell_type": "markdown",
      "metadata": {
        "id": "zaYMjUzSClWa"
      },
      "source": [
        "Если порядок соблюдён, атрибут вернёт True. Результат True, все нормально."
      ]
    },
    {
      "cell_type": "code",
      "execution_count": null,
      "metadata": {
        "id": "sNyHFm4FClWb",
        "outputId": "feb5f1be-718f-4dbd-b434-9b663205b4d9"
      },
      "outputs": [
        {
          "data": {
            "text/html": [
              "<div>\n",
              "<style scoped>\n",
              "    .dataframe tbody tr th:only-of-type {\n",
              "        vertical-align: middle;\n",
              "    }\n",
              "\n",
              "    .dataframe tbody tr th {\n",
              "        vertical-align: top;\n",
              "    }\n",
              "\n",
              "    .dataframe thead th {\n",
              "        text-align: right;\n",
              "    }\n",
              "</style>\n",
              "<table border=\"1\" class=\"dataframe\">\n",
              "  <thead>\n",
              "    <tr style=\"text-align: right;\">\n",
              "      <th></th>\n",
              "      <th>num_orders</th>\n",
              "    </tr>\n",
              "    <tr>\n",
              "      <th>datetime</th>\n",
              "      <th></th>\n",
              "    </tr>\n",
              "  </thead>\n",
              "  <tbody>\n",
              "    <tr>\n",
              "      <th>2018-08-31 23:10:00</th>\n",
              "      <td>32</td>\n",
              "    </tr>\n",
              "    <tr>\n",
              "      <th>2018-08-31 23:20:00</th>\n",
              "      <td>24</td>\n",
              "    </tr>\n",
              "    <tr>\n",
              "      <th>2018-08-31 23:30:00</th>\n",
              "      <td>27</td>\n",
              "    </tr>\n",
              "    <tr>\n",
              "      <th>2018-08-31 23:40:00</th>\n",
              "      <td>39</td>\n",
              "    </tr>\n",
              "    <tr>\n",
              "      <th>2018-08-31 23:50:00</th>\n",
              "      <td>53</td>\n",
              "    </tr>\n",
              "  </tbody>\n",
              "</table>\n",
              "</div>"
            ],
            "text/plain": [
              "                     num_orders\n",
              "datetime                       \n",
              "2018-08-31 23:10:00          32\n",
              "2018-08-31 23:20:00          24\n",
              "2018-08-31 23:30:00          27\n",
              "2018-08-31 23:40:00          39\n",
              "2018-08-31 23:50:00          53"
            ]
          },
          "execution_count": 11,
          "metadata": {},
          "output_type": "execute_result"
        }
      ],
      "source": [
        "data.tail()"
      ]
    },
    {
      "cell_type": "markdown",
      "metadata": {
        "id": "alr18xA-ClWb"
      },
      "source": [
        "Сгруппируем значения по часу"
      ]
    },
    {
      "cell_type": "code",
      "execution_count": null,
      "metadata": {
        "id": "-43VSceOClWc"
      },
      "outputs": [],
      "source": [
        "data = data.resample('1H').sum()\n"
      ]
    },
    {
      "cell_type": "markdown",
      "metadata": {
        "id": "YYfa2wmZClWl"
      },
      "source": [
        "Построим графики."
      ]
    },
    {
      "cell_type": "code",
      "execution_count": null,
      "metadata": {
        "id": "yN7r1z9kClWl",
        "outputId": "91afcae0-7cfc-4c54-8f89-b84d4c63b4c0"
      },
      "outputs": [
        {
          "data": {
            "text/plain": [
              "<AxesSubplot:xlabel='datetime'>"
            ]
          },
          "execution_count": 13,
          "metadata": {},
          "output_type": "execute_result"
        },
        {
          "data": {
            "image/png": "[encoded data removed]",
            "text/plain": [
              "<Figure size 1440x1800 with 1 Axes>"
            ]
          },
          "metadata": {
            "needs_background": "light"
          },
          "output_type": "display_data"
        }
      ],
      "source": [
        "data.plot(figsize=(20, 25))"
      ]
    },
    {
      "cell_type": "code",
      "execution_count": null,
      "metadata": {
        "id": "4cuOLzcrClWn",
        "outputId": "bc9addae-f3ac-4e78-fbdd-015e3273db3f"
      },
      "outputs": [
        {
          "data": {
            "text/plain": [
              "<AxesSubplot:xlabel='datetime'>"
            ]
          },
          "execution_count": 14,
          "metadata": {},
          "output_type": "execute_result"
        },
        {
          "data": {
            "image/png": "[encoded data removed]",
            "text/plain": [
              "<Figure size 432x288 with 1 Axes>"
            ]
          },
          "metadata": {
            "needs_background": "light"
          },
          "output_type": "display_data"
        }
      ],
      "source": [
        "data.resample('1D').sum().plot()"
      ]
    },
    {
      "cell_type": "code",
      "execution_count": null,
      "metadata": {
        "id": "IkM_qlzbClWn",
        "outputId": "205eb5c3-fcef-446c-aea5-fd4766ea0f45"
      },
      "outputs": [
        {
          "data": {
            "text/plain": [
              "<AxesSubplot:xlabel='datetime'>"
            ]
          },
          "execution_count": 15,
          "metadata": {},
          "output_type": "execute_result"
        },
        {
          "data": {
            "image/png": "[encoded data removed]",
            "text/plain": [
              "<Figure size 432x288 with 1 Axes>"
            ]
          },
          "metadata": {
            "needs_background": "light"
          },
          "output_type": "display_data"
        }
      ],
      "source": [
        "data.rolling(70).mean().plot()"
      ]
    },
    {
      "cell_type": "code",
      "execution_count": null,
      "metadata": {
        "scrolled": true,
        "id": "DmTRgfVVClWp",
        "outputId": "e2bc8046-18e5-40d5-d28e-9068a1200d2f"
      },
      "outputs": [
        {
          "data": {
            "image/png": "[encoded data removed]",
            "text/plain": [
              "<Figure size 1080x1800 with 3 Axes>"
            ]
          },
          "metadata": {
            "needs_background": "light"
          },
          "output_type": "display_data"
        }
      ],
      "source": [
        "decomposed = seasonal_decompose(data)  # < напишите код здесь >\n",
        "\n",
        "plt.figure(figsize=(15, 25))\n",
        "plt.subplot(311)\n",
        "# Чтобы график корректно отобразился, указываем его\n",
        "# оси ax, равными plt.gca() (англ. get current axis,\n",
        "# получить текущие оси)\n",
        "decomposed.trend.plot(ax=plt.gca())\n",
        "plt.title('Trend')\n",
        "plt.subplot(312)\n",
        "decomposed.seasonal.plot(ax=plt.gca())\n",
        "plt.title('Seasonality')\n",
        "plt.subplot(313)\n",
        "decomposed.resid.plot(ax=plt.gca())\n",
        "plt.title('Residuals')\n",
        "plt.tight_layout()"
      ]
    },
    {
      "cell_type": "markdown",
      "metadata": {
        "id": "iAOG0p3sClWq"
      },
      "source": [
        "Явно просматривается тренд и сезонность. По заданию нужно предсказать колличество водителей на следующий час. Сократим наши данные до 1 недели плюс один день."
      ]
    },
    {
      "cell_type": "code",
      "execution_count": null,
      "metadata": {
        "id": "AjsCB0SMClWq",
        "outputId": "4648c228-55aa-4d9c-fa52-2df0843dda15"
      },
      "outputs": [
        {
          "data": {
            "text/plain": [
              "Text(0.5, 1.0, 'Residuals')"
            ]
          },
          "execution_count": 17,
          "metadata": {},
          "output_type": "execute_result"
        },
        {
          "data": {
            "image/png": "[encoded data removed]",
            "text/plain": [
              "<Figure size 1080x1440 with 3 Axes>"
            ]
          },
          "metadata": {
            "needs_background": "light"
          },
          "output_type": "display_data"
        }
      ],
      "source": [
        "decomposed = seasonal_decompose(data['2018-08-23':'2018-08-31'])\n",
        "\n",
        "plt.figure(figsize=(15, 20))\n",
        "plt.subplot(311)\n",
        "decomposed.trend.plot(ax=plt.gca())\n",
        "plt.title('Trend')\n",
        "plt.subplot(312)\n",
        "decomposed.seasonal.plot(ax=plt.gca())\n",
        "plt.title('Seasonality')\n",
        "plt.subplot(313)\n",
        "decomposed.resid.plot(ax=plt.gca())\n",
        "plt.title('Residuals')"
      ]
    },
    {
      "cell_type": "markdown",
      "metadata": {
        "id": "Orxv1c8mClWr"
      },
      "source": [
        "за неделю тренд конечно не просматривается, но это нам и не надо. Видим сезонность по часам и неделям, все логично. Ночь и до утра мало кто пользуется такси, и большой прирос в вечернее время."
      ]
    },
    {
      "cell_type": "markdown",
      "metadata": {
        "id": "TBt5h0cJClWs"
      },
      "source": [
        "## Обучение"
      ]
    },
    {
      "cell_type": "markdown",
      "metadata": {
        "id": "ScbJPR_RClWs"
      },
      "source": [
        "Функция для создания признаков, возмем день и неделю."
      ]
    },
    {
      "cell_type": "code",
      "execution_count": null,
      "metadata": {
        "id": "FVZ6JCJzClWt"
      },
      "outputs": [],
      "source": [
        "def make_features(data, max_lag, rolling_mean_size):\n",
        "    data['dayofweek'] = data.index.dayofweek\n",
        "    data['hour'] = data.index.hour\n",
        "\n",
        "    for lag in range(1, max_lag + 1):\n",
        "        data['lag_{}'.format(lag)] = data['num_orders'].shift(lag)\n",
        "\n",
        "    data['rolling_mean'] = data['num_orders'].shift().rolling(rolling_mean_size).mean()\n",
        "    data = data.dropna()"
      ]
    },
    {
      "cell_type": "code",
      "execution_count": null,
      "metadata": {
        "id": "VMsd6j6nClWu"
      },
      "outputs": [],
      "source": [
        "make_features(data, 168, 10)"
      ]
    },
    {
      "cell_type": "code",
      "execution_count": null,
      "metadata": {
        "id": "aezmsQaHClWv",
        "outputId": "7a9a709a-cd5d-4028-c833-df503070bbf8"
      },
      "outputs": [
        {
          "data": {
            "image/png": "[encoded data removed]",
            "text/plain": [
              "<Figure size 1332x432 with 1 Axes>"
            ]
          },
          "metadata": {
            "needs_background": "light"
          },
          "output_type": "display_data"
        }
      ],
      "source": [
        "import matplotlib.pyplot as plt\n",
        "\n",
        "# Код ревьюера\n",
        "from statsmodels.graphics import tsaplots\n",
        "\n",
        "fig = tsaplots.plot_acf(data['num_orders'],lags= 190)\n",
        "fig.set_size_inches(18.5, 6)\n",
        "plt.ylim(-.1, 1.1)\n",
        "plt.show()\n",
        "\n"
      ]
    },
    {
      "cell_type": "code",
      "execution_count": null,
      "metadata": {
        "id": "mgD47fTSClWw",
        "outputId": "8994385d-8ff9-4357-dcf7-af2f2aa42e9c"
      },
      "outputs": [
        {
          "data": {
            "text/plain": [
              "num_orders        0\n",
              "dayofweek         0\n",
              "hour              0\n",
              "lag_1             1\n",
              "lag_2             2\n",
              "               ... \n",
              "lag_165         165\n",
              "lag_166         166\n",
              "lag_167         167\n",
              "lag_168         168\n",
              "rolling_mean     10\n",
              "Length: 172, dtype: int64"
            ]
          },
          "execution_count": 21,
          "metadata": {},
          "output_type": "execute_result"
        }
      ],
      "source": [
        "#msno.bar(data)\n",
        "data.isna().sum()"
      ]
    },
    {
      "cell_type": "markdown",
      "metadata": {
        "id": "vmM20mGAClWx"
      },
      "source": [
        "Появились пропуски, логично. Удалим."
      ]
    },
    {
      "cell_type": "code",
      "execution_count": null,
      "metadata": {
        "id": "SDwhSTywClWx"
      },
      "outputs": [],
      "source": [
        "data = data.dropna()"
      ]
    },
    {
      "cell_type": "code",
      "execution_count": null,
      "metadata": {
        "id": "8W2OvGumClWy",
        "outputId": "f3d6c102-87e5-4d28-cdde-dc77995aa7e8"
      },
      "outputs": [
        {
          "data": {
            "text/html": [
              "<div>\n",
              "<style scoped>\n",
              "    .dataframe tbody tr th:only-of-type {\n",
              "        vertical-align: middle;\n",
              "    }\n",
              "\n",
              "    .dataframe tbody tr th {\n",
              "        vertical-align: top;\n",
              "    }\n",
              "\n",
              "    .dataframe thead th {\n",
              "        text-align: right;\n",
              "    }\n",
              "</style>\n",
              "<table border=\"1\" class=\"dataframe\">\n",
              "  <thead>\n",
              "    <tr style=\"text-align: right;\">\n",
              "      <th></th>\n",
              "      <th>num_orders</th>\n",
              "      <th>dayofweek</th>\n",
              "      <th>hour</th>\n",
              "      <th>lag_1</th>\n",
              "      <th>lag_2</th>\n",
              "      <th>lag_3</th>\n",
              "      <th>lag_4</th>\n",
              "      <th>lag_5</th>\n",
              "      <th>lag_6</th>\n",
              "      <th>lag_7</th>\n",
              "      <th>...</th>\n",
              "      <th>lag_160</th>\n",
              "      <th>lag_161</th>\n",
              "      <th>lag_162</th>\n",
              "      <th>lag_163</th>\n",
              "      <th>lag_164</th>\n",
              "      <th>lag_165</th>\n",
              "      <th>lag_166</th>\n",
              "      <th>lag_167</th>\n",
              "      <th>lag_168</th>\n",
              "      <th>rolling_mean</th>\n",
              "    </tr>\n",
              "    <tr>\n",
              "      <th>datetime</th>\n",
              "      <th></th>\n",
              "      <th></th>\n",
              "      <th></th>\n",
              "      <th></th>\n",
              "      <th></th>\n",
              "      <th></th>\n",
              "      <th></th>\n",
              "      <th></th>\n",
              "      <th></th>\n",
              "      <th></th>\n",
              "      <th></th>\n",
              "      <th></th>\n",
              "      <th></th>\n",
              "      <th></th>\n",
              "      <th></th>\n",
              "      <th></th>\n",
              "      <th></th>\n",
              "      <th></th>\n",
              "      <th></th>\n",
              "      <th></th>\n",
              "      <th></th>\n",
              "    </tr>\n",
              "  </thead>\n",
              "  <tbody>\n",
              "    <tr>\n",
              "      <th>2018-03-08 00:00:00</th>\n",
              "      <td>143</td>\n",
              "      <td>3</td>\n",
              "      <td>0</td>\n",
              "      <td>94.0</td>\n",
              "      <td>127.0</td>\n",
              "      <td>108.0</td>\n",
              "      <td>76.0</td>\n",
              "      <td>50.0</td>\n",
              "      <td>99.0</td>\n",
              "      <td>48.0</td>\n",
              "      <td>...</td>\n",
              "      <td>34.0</td>\n",
              "      <td>15.0</td>\n",
              "      <td>12.0</td>\n",
              "      <td>6.0</td>\n",
              "      <td>43.0</td>\n",
              "      <td>66.0</td>\n",
              "      <td>71.0</td>\n",
              "      <td>85.0</td>\n",
              "      <td>124.0</td>\n",
              "      <td>74.2</td>\n",
              "    </tr>\n",
              "    <tr>\n",
              "      <th>2018-03-08 01:00:00</th>\n",
              "      <td>78</td>\n",
              "      <td>3</td>\n",
              "      <td>1</td>\n",
              "      <td>143.0</td>\n",
              "      <td>94.0</td>\n",
              "      <td>127.0</td>\n",
              "      <td>108.0</td>\n",
              "      <td>76.0</td>\n",
              "      <td>50.0</td>\n",
              "      <td>99.0</td>\n",
              "      <td>...</td>\n",
              "      <td>69.0</td>\n",
              "      <td>34.0</td>\n",
              "      <td>15.0</td>\n",
              "      <td>12.0</td>\n",
              "      <td>6.0</td>\n",
              "      <td>43.0</td>\n",
              "      <td>66.0</td>\n",
              "      <td>71.0</td>\n",
              "      <td>85.0</td>\n",
              "      <td>84.2</td>\n",
              "    </tr>\n",
              "    <tr>\n",
              "      <th>2018-03-08 02:00:00</th>\n",
              "      <td>65</td>\n",
              "      <td>3</td>\n",
              "      <td>2</td>\n",
              "      <td>78.0</td>\n",
              "      <td>143.0</td>\n",
              "      <td>94.0</td>\n",
              "      <td>127.0</td>\n",
              "      <td>108.0</td>\n",
              "      <td>76.0</td>\n",
              "      <td>50.0</td>\n",
              "      <td>...</td>\n",
              "      <td>64.0</td>\n",
              "      <td>69.0</td>\n",
              "      <td>34.0</td>\n",
              "      <td>15.0</td>\n",
              "      <td>12.0</td>\n",
              "      <td>6.0</td>\n",
              "      <td>43.0</td>\n",
              "      <td>66.0</td>\n",
              "      <td>71.0</td>\n",
              "      <td>86.9</td>\n",
              "    </tr>\n",
              "    <tr>\n",
              "      <th>2018-03-08 03:00:00</th>\n",
              "      <td>68</td>\n",
              "      <td>3</td>\n",
              "      <td>3</td>\n",
              "      <td>65.0</td>\n",
              "      <td>78.0</td>\n",
              "      <td>143.0</td>\n",
              "      <td>94.0</td>\n",
              "      <td>127.0</td>\n",
              "      <td>108.0</td>\n",
              "      <td>76.0</td>\n",
              "      <td>...</td>\n",
              "      <td>96.0</td>\n",
              "      <td>64.0</td>\n",
              "      <td>69.0</td>\n",
              "      <td>34.0</td>\n",
              "      <td>15.0</td>\n",
              "      <td>12.0</td>\n",
              "      <td>6.0</td>\n",
              "      <td>43.0</td>\n",
              "      <td>66.0</td>\n",
              "      <td>88.8</td>\n",
              "    </tr>\n",
              "    <tr>\n",
              "      <th>2018-03-08 04:00:00</th>\n",
              "      <td>60</td>\n",
              "      <td>3</td>\n",
              "      <td>4</td>\n",
              "      <td>68.0</td>\n",
              "      <td>65.0</td>\n",
              "      <td>78.0</td>\n",
              "      <td>143.0</td>\n",
              "      <td>94.0</td>\n",
              "      <td>127.0</td>\n",
              "      <td>108.0</td>\n",
              "      <td>...</td>\n",
              "      <td>30.0</td>\n",
              "      <td>96.0</td>\n",
              "      <td>64.0</td>\n",
              "      <td>69.0</td>\n",
              "      <td>34.0</td>\n",
              "      <td>15.0</td>\n",
              "      <td>12.0</td>\n",
              "      <td>6.0</td>\n",
              "      <td>43.0</td>\n",
              "      <td>90.8</td>\n",
              "    </tr>\n",
              "    <tr>\n",
              "      <th>...</th>\n",
              "      <td>...</td>\n",
              "      <td>...</td>\n",
              "      <td>...</td>\n",
              "      <td>...</td>\n",
              "      <td>...</td>\n",
              "      <td>...</td>\n",
              "      <td>...</td>\n",
              "      <td>...</td>\n",
              "      <td>...</td>\n",
              "      <td>...</td>\n",
              "      <td>...</td>\n",
              "      <td>...</td>\n",
              "      <td>...</td>\n",
              "      <td>...</td>\n",
              "      <td>...</td>\n",
              "      <td>...</td>\n",
              "      <td>...</td>\n",
              "      <td>...</td>\n",
              "      <td>...</td>\n",
              "      <td>...</td>\n",
              "      <td>...</td>\n",
              "    </tr>\n",
              "    <tr>\n",
              "      <th>2018-08-31 19:00:00</th>\n",
              "      <td>136</td>\n",
              "      <td>4</td>\n",
              "      <td>19</td>\n",
              "      <td>207.0</td>\n",
              "      <td>217.0</td>\n",
              "      <td>197.0</td>\n",
              "      <td>116.0</td>\n",
              "      <td>133.0</td>\n",
              "      <td>166.0</td>\n",
              "      <td>136.0</td>\n",
              "      <td>...</td>\n",
              "      <td>187.0</td>\n",
              "      <td>160.0</td>\n",
              "      <td>246.0</td>\n",
              "      <td>273.0</td>\n",
              "      <td>173.0</td>\n",
              "      <td>242.0</td>\n",
              "      <td>166.0</td>\n",
              "      <td>179.0</td>\n",
              "      <td>113.0</td>\n",
              "      <td>173.3</td>\n",
              "    </tr>\n",
              "    <tr>\n",
              "      <th>2018-08-31 20:00:00</th>\n",
              "      <td>154</td>\n",
              "      <td>4</td>\n",
              "      <td>20</td>\n",
              "      <td>136.0</td>\n",
              "      <td>207.0</td>\n",
              "      <td>217.0</td>\n",
              "      <td>197.0</td>\n",
              "      <td>116.0</td>\n",
              "      <td>133.0</td>\n",
              "      <td>166.0</td>\n",
              "      <td>...</td>\n",
              "      <td>196.0</td>\n",
              "      <td>187.0</td>\n",
              "      <td>160.0</td>\n",
              "      <td>246.0</td>\n",
              "      <td>273.0</td>\n",
              "      <td>173.0</td>\n",
              "      <td>242.0</td>\n",
              "      <td>166.0</td>\n",
              "      <td>179.0</td>\n",
              "      <td>166.6</td>\n",
              "    </tr>\n",
              "    <tr>\n",
              "      <th>2018-08-31 21:00:00</th>\n",
              "      <td>159</td>\n",
              "      <td>4</td>\n",
              "      <td>21</td>\n",
              "      <td>154.0</td>\n",
              "      <td>136.0</td>\n",
              "      <td>207.0</td>\n",
              "      <td>217.0</td>\n",
              "      <td>197.0</td>\n",
              "      <td>116.0</td>\n",
              "      <td>133.0</td>\n",
              "      <td>...</td>\n",
              "      <td>118.0</td>\n",
              "      <td>196.0</td>\n",
              "      <td>187.0</td>\n",
              "      <td>160.0</td>\n",
              "      <td>246.0</td>\n",
              "      <td>273.0</td>\n",
              "      <td>173.0</td>\n",
              "      <td>242.0</td>\n",
              "      <td>166.0</td>\n",
              "      <td>162.9</td>\n",
              "    </tr>\n",
              "    <tr>\n",
              "      <th>2018-08-31 22:00:00</th>\n",
              "      <td>223</td>\n",
              "      <td>4</td>\n",
              "      <td>22</td>\n",
              "      <td>159.0</td>\n",
              "      <td>154.0</td>\n",
              "      <td>136.0</td>\n",
              "      <td>207.0</td>\n",
              "      <td>217.0</td>\n",
              "      <td>197.0</td>\n",
              "      <td>116.0</td>\n",
              "      <td>...</td>\n",
              "      <td>74.0</td>\n",
              "      <td>118.0</td>\n",
              "      <td>196.0</td>\n",
              "      <td>187.0</td>\n",
              "      <td>160.0</td>\n",
              "      <td>246.0</td>\n",
              "      <td>273.0</td>\n",
              "      <td>173.0</td>\n",
              "      <td>242.0</td>\n",
              "      <td>162.1</td>\n",
              "    </tr>\n",
              "    <tr>\n",
              "      <th>2018-08-31 23:00:00</th>\n",
              "      <td>205</td>\n",
              "      <td>4</td>\n",
              "      <td>23</td>\n",
              "      <td>223.0</td>\n",
              "      <td>159.0</td>\n",
              "      <td>154.0</td>\n",
              "      <td>136.0</td>\n",
              "      <td>207.0</td>\n",
              "      <td>217.0</td>\n",
              "      <td>197.0</td>\n",
              "      <td>...</td>\n",
              "      <td>22.0</td>\n",
              "      <td>74.0</td>\n",
              "      <td>118.0</td>\n",
              "      <td>196.0</td>\n",
              "      <td>187.0</td>\n",
              "      <td>160.0</td>\n",
              "      <td>246.0</td>\n",
              "      <td>273.0</td>\n",
              "      <td>173.0</td>\n",
              "      <td>170.8</td>\n",
              "    </tr>\n",
              "  </tbody>\n",
              "</table>\n",
              "<p>4248 rows × 172 columns</p>\n",
              "</div>"
            ],
            "text/plain": [
              "                     num_orders  dayofweek  hour  lag_1  lag_2  lag_3  lag_4  \\\n",
              "datetime                                                                       \n",
              "2018-03-08 00:00:00         143          3     0   94.0  127.0  108.0   76.0   \n",
              "2018-03-08 01:00:00          78          3     1  143.0   94.0  127.0  108.0   \n",
              "2018-03-08 02:00:00          65          3     2   78.0  143.0   94.0  127.0   \n",
              "2018-03-08 03:00:00          68          3     3   65.0   78.0  143.0   94.0   \n",
              "2018-03-08 04:00:00          60          3     4   68.0   65.0   78.0  143.0   \n",
              "...                         ...        ...   ...    ...    ...    ...    ...   \n",
              "2018-08-31 19:00:00         136          4    19  207.0  217.0  197.0  116.0   \n",
              "2018-08-31 20:00:00         154          4    20  136.0  207.0  217.0  197.0   \n",
              "2018-08-31 21:00:00         159          4    21  154.0  136.0  207.0  217.0   \n",
              "2018-08-31 22:00:00         223          4    22  159.0  154.0  136.0  207.0   \n",
              "2018-08-31 23:00:00         205          4    23  223.0  159.0  154.0  136.0   \n",
              "\n",
              "                     lag_5  lag_6  lag_7  ...  lag_160  lag_161  lag_162  \\\n",
              "datetime                                  ...                              \n",
              "2018-03-08 00:00:00   50.0   99.0   48.0  ...     34.0     15.0     12.0   \n",
              "2018-03-08 01:00:00   76.0   50.0   99.0  ...     69.0     34.0     15.0   \n",
              "2018-03-08 02:00:00  108.0   76.0   50.0  ...     64.0     69.0     34.0   \n",
              "2018-03-08 03:00:00  127.0  108.0   76.0  ...     96.0     64.0     69.0   \n",
              "2018-03-08 04:00:00   94.0  127.0  108.0  ...     30.0     96.0     64.0   \n",
              "...                    ...    ...    ...  ...      ...      ...      ...   \n",
              "2018-08-31 19:00:00  133.0  166.0  136.0  ...    187.0    160.0    246.0   \n",
              "2018-08-31 20:00:00  116.0  133.0  166.0  ...    196.0    187.0    160.0   \n",
              "2018-08-31 21:00:00  197.0  116.0  133.0  ...    118.0    196.0    187.0   \n",
              "2018-08-31 22:00:00  217.0  197.0  116.0  ...     74.0    118.0    196.0   \n",
              "2018-08-31 23:00:00  207.0  217.0  197.0  ...     22.0     74.0    118.0   \n",
              "\n",
              "                     lag_163  lag_164  lag_165  lag_166  lag_167  lag_168  \\\n",
              "datetime                                                                    \n",
              "2018-03-08 00:00:00      6.0     43.0     66.0     71.0     85.0    124.0   \n",
              "2018-03-08 01:00:00     12.0      6.0     43.0     66.0     71.0     85.0   \n",
              "2018-03-08 02:00:00     15.0     12.0      6.0     43.0     66.0     71.0   \n",
              "2018-03-08 03:00:00     34.0     15.0     12.0      6.0     43.0     66.0   \n",
              "2018-03-08 04:00:00     69.0     34.0     15.0     12.0      6.0     43.0   \n",
              "...                      ...      ...      ...      ...      ...      ...   \n",
              "2018-08-31 19:00:00    273.0    173.0    242.0    166.0    179.0    113.0   \n",
              "2018-08-31 20:00:00    246.0    273.0    173.0    242.0    166.0    179.0   \n",
              "2018-08-31 21:00:00    160.0    246.0    273.0    173.0    242.0    166.0   \n",
              "2018-08-31 22:00:00    187.0    160.0    246.0    273.0    173.0    242.0   \n",
              "2018-08-31 23:00:00    196.0    187.0    160.0    246.0    273.0    173.0   \n",
              "\n",
              "                     rolling_mean  \n",
              "datetime                           \n",
              "2018-03-08 00:00:00          74.2  \n",
              "2018-03-08 01:00:00          84.2  \n",
              "2018-03-08 02:00:00          86.9  \n",
              "2018-03-08 03:00:00          88.8  \n",
              "2018-03-08 04:00:00          90.8  \n",
              "...                           ...  \n",
              "2018-08-31 19:00:00         173.3  \n",
              "2018-08-31 20:00:00         166.6  \n",
              "2018-08-31 21:00:00         162.9  \n",
              "2018-08-31 22:00:00         162.1  \n",
              "2018-08-31 23:00:00         170.8  \n",
              "\n",
              "[4248 rows x 172 columns]"
            ]
          },
          "execution_count": 16,
          "metadata": {},
          "output_type": "execute_result"
        }
      ],
      "source": [
        "data"
      ]
    },
    {
      "cell_type": "code",
      "execution_count": null,
      "metadata": {
        "id": "1NA6r8tjClWz",
        "outputId": "b408cc34-c002-4a0e-d61f-29a00d076576"
      },
      "outputs": [
        {
          "data": {
            "text/plain": [
              "num_orders      0\n",
              "dayofweek       0\n",
              "hour            0\n",
              "lag_1           0\n",
              "lag_2           0\n",
              "               ..\n",
              "lag_165         0\n",
              "lag_166         0\n",
              "lag_167         0\n",
              "lag_168         0\n",
              "rolling_mean    0\n",
              "Length: 172, dtype: int64"
            ]
          },
          "execution_count": 24,
          "metadata": {},
          "output_type": "execute_result"
        }
      ],
      "source": [
        "#msno.bar(data)\n",
        "data.isna().sum()\n"
      ]
    },
    {
      "cell_type": "code",
      "execution_count": null,
      "metadata": {
        "id": "306z8IM6ClWz",
        "outputId": "3889c751-db33-45ac-a638-83f718dc09aa"
      },
      "outputs": [
        {
          "data": {
            "text/html": [
              "<div>\n",
              "<style scoped>\n",
              "    .dataframe tbody tr th:only-of-type {\n",
              "        vertical-align: middle;\n",
              "    }\n",
              "\n",
              "    .dataframe tbody tr th {\n",
              "        vertical-align: top;\n",
              "    }\n",
              "\n",
              "    .dataframe thead th {\n",
              "        text-align: right;\n",
              "    }\n",
              "</style>\n",
              "<table border=\"1\" class=\"dataframe\">\n",
              "  <thead>\n",
              "    <tr style=\"text-align: right;\">\n",
              "      <th></th>\n",
              "      <th>num_orders</th>\n",
              "      <th>dayofweek</th>\n",
              "      <th>hour</th>\n",
              "      <th>lag_1</th>\n",
              "      <th>lag_2</th>\n",
              "      <th>lag_3</th>\n",
              "      <th>lag_4</th>\n",
              "      <th>lag_5</th>\n",
              "      <th>lag_6</th>\n",
              "      <th>lag_7</th>\n",
              "      <th>...</th>\n",
              "      <th>lag_160</th>\n",
              "      <th>lag_161</th>\n",
              "      <th>lag_162</th>\n",
              "      <th>lag_163</th>\n",
              "      <th>lag_164</th>\n",
              "      <th>lag_165</th>\n",
              "      <th>lag_166</th>\n",
              "      <th>lag_167</th>\n",
              "      <th>lag_168</th>\n",
              "      <th>rolling_mean</th>\n",
              "    </tr>\n",
              "    <tr>\n",
              "      <th>datetime</th>\n",
              "      <th></th>\n",
              "      <th></th>\n",
              "      <th></th>\n",
              "      <th></th>\n",
              "      <th></th>\n",
              "      <th></th>\n",
              "      <th></th>\n",
              "      <th></th>\n",
              "      <th></th>\n",
              "      <th></th>\n",
              "      <th></th>\n",
              "      <th></th>\n",
              "      <th></th>\n",
              "      <th></th>\n",
              "      <th></th>\n",
              "      <th></th>\n",
              "      <th></th>\n",
              "      <th></th>\n",
              "      <th></th>\n",
              "      <th></th>\n",
              "      <th></th>\n",
              "    </tr>\n",
              "  </thead>\n",
              "  <tbody>\n",
              "    <tr>\n",
              "      <th>2018-03-08 00:00:00</th>\n",
              "      <td>143</td>\n",
              "      <td>3</td>\n",
              "      <td>0</td>\n",
              "      <td>94.0</td>\n",
              "      <td>127.0</td>\n",
              "      <td>108.0</td>\n",
              "      <td>76.0</td>\n",
              "      <td>50.0</td>\n",
              "      <td>99.0</td>\n",
              "      <td>48.0</td>\n",
              "      <td>...</td>\n",
              "      <td>34.0</td>\n",
              "      <td>15.0</td>\n",
              "      <td>12.0</td>\n",
              "      <td>6.0</td>\n",
              "      <td>43.0</td>\n",
              "      <td>66.0</td>\n",
              "      <td>71.0</td>\n",
              "      <td>85.0</td>\n",
              "      <td>124.0</td>\n",
              "      <td>74.2</td>\n",
              "    </tr>\n",
              "    <tr>\n",
              "      <th>2018-03-08 01:00:00</th>\n",
              "      <td>78</td>\n",
              "      <td>3</td>\n",
              "      <td>1</td>\n",
              "      <td>143.0</td>\n",
              "      <td>94.0</td>\n",
              "      <td>127.0</td>\n",
              "      <td>108.0</td>\n",
              "      <td>76.0</td>\n",
              "      <td>50.0</td>\n",
              "      <td>99.0</td>\n",
              "      <td>...</td>\n",
              "      <td>69.0</td>\n",
              "      <td>34.0</td>\n",
              "      <td>15.0</td>\n",
              "      <td>12.0</td>\n",
              "      <td>6.0</td>\n",
              "      <td>43.0</td>\n",
              "      <td>66.0</td>\n",
              "      <td>71.0</td>\n",
              "      <td>85.0</td>\n",
              "      <td>84.2</td>\n",
              "    </tr>\n",
              "    <tr>\n",
              "      <th>2018-03-08 02:00:00</th>\n",
              "      <td>65</td>\n",
              "      <td>3</td>\n",
              "      <td>2</td>\n",
              "      <td>78.0</td>\n",
              "      <td>143.0</td>\n",
              "      <td>94.0</td>\n",
              "      <td>127.0</td>\n",
              "      <td>108.0</td>\n",
              "      <td>76.0</td>\n",
              "      <td>50.0</td>\n",
              "      <td>...</td>\n",
              "      <td>64.0</td>\n",
              "      <td>69.0</td>\n",
              "      <td>34.0</td>\n",
              "      <td>15.0</td>\n",
              "      <td>12.0</td>\n",
              "      <td>6.0</td>\n",
              "      <td>43.0</td>\n",
              "      <td>66.0</td>\n",
              "      <td>71.0</td>\n",
              "      <td>86.9</td>\n",
              "    </tr>\n",
              "    <tr>\n",
              "      <th>2018-03-08 03:00:00</th>\n",
              "      <td>68</td>\n",
              "      <td>3</td>\n",
              "      <td>3</td>\n",
              "      <td>65.0</td>\n",
              "      <td>78.0</td>\n",
              "      <td>143.0</td>\n",
              "      <td>94.0</td>\n",
              "      <td>127.0</td>\n",
              "      <td>108.0</td>\n",
              "      <td>76.0</td>\n",
              "      <td>...</td>\n",
              "      <td>96.0</td>\n",
              "      <td>64.0</td>\n",
              "      <td>69.0</td>\n",
              "      <td>34.0</td>\n",
              "      <td>15.0</td>\n",
              "      <td>12.0</td>\n",
              "      <td>6.0</td>\n",
              "      <td>43.0</td>\n",
              "      <td>66.0</td>\n",
              "      <td>88.8</td>\n",
              "    </tr>\n",
              "    <tr>\n",
              "      <th>2018-03-08 04:00:00</th>\n",
              "      <td>60</td>\n",
              "      <td>3</td>\n",
              "      <td>4</td>\n",
              "      <td>68.0</td>\n",
              "      <td>65.0</td>\n",
              "      <td>78.0</td>\n",
              "      <td>143.0</td>\n",
              "      <td>94.0</td>\n",
              "      <td>127.0</td>\n",
              "      <td>108.0</td>\n",
              "      <td>...</td>\n",
              "      <td>30.0</td>\n",
              "      <td>96.0</td>\n",
              "      <td>64.0</td>\n",
              "      <td>69.0</td>\n",
              "      <td>34.0</td>\n",
              "      <td>15.0</td>\n",
              "      <td>12.0</td>\n",
              "      <td>6.0</td>\n",
              "      <td>43.0</td>\n",
              "      <td>90.8</td>\n",
              "    </tr>\n",
              "  </tbody>\n",
              "</table>\n",
              "<p>5 rows × 172 columns</p>\n",
              "</div>"
            ],
            "text/plain": [
              "                     num_orders  dayofweek  hour  lag_1  lag_2  lag_3  lag_4  \\\n",
              "datetime                                                                       \n",
              "2018-03-08 00:00:00         143          3     0   94.0  127.0  108.0   76.0   \n",
              "2018-03-08 01:00:00          78          3     1  143.0   94.0  127.0  108.0   \n",
              "2018-03-08 02:00:00          65          3     2   78.0  143.0   94.0  127.0   \n",
              "2018-03-08 03:00:00          68          3     3   65.0   78.0  143.0   94.0   \n",
              "2018-03-08 04:00:00          60          3     4   68.0   65.0   78.0  143.0   \n",
              "\n",
              "                     lag_5  lag_6  lag_7  ...  lag_160  lag_161  lag_162  \\\n",
              "datetime                                  ...                              \n",
              "2018-03-08 00:00:00   50.0   99.0   48.0  ...     34.0     15.0     12.0   \n",
              "2018-03-08 01:00:00   76.0   50.0   99.0  ...     69.0     34.0     15.0   \n",
              "2018-03-08 02:00:00  108.0   76.0   50.0  ...     64.0     69.0     34.0   \n",
              "2018-03-08 03:00:00  127.0  108.0   76.0  ...     96.0     64.0     69.0   \n",
              "2018-03-08 04:00:00   94.0  127.0  108.0  ...     30.0     96.0     64.0   \n",
              "\n",
              "                     lag_163  lag_164  lag_165  lag_166  lag_167  lag_168  \\\n",
              "datetime                                                                    \n",
              "2018-03-08 00:00:00      6.0     43.0     66.0     71.0     85.0    124.0   \n",
              "2018-03-08 01:00:00     12.0      6.0     43.0     66.0     71.0     85.0   \n",
              "2018-03-08 02:00:00     15.0     12.0      6.0     43.0     66.0     71.0   \n",
              "2018-03-08 03:00:00     34.0     15.0     12.0      6.0     43.0     66.0   \n",
              "2018-03-08 04:00:00     69.0     34.0     15.0     12.0      6.0     43.0   \n",
              "\n",
              "                     rolling_mean  \n",
              "datetime                           \n",
              "2018-03-08 00:00:00          74.2  \n",
              "2018-03-08 01:00:00          84.2  \n",
              "2018-03-08 02:00:00          86.9  \n",
              "2018-03-08 03:00:00          88.8  \n",
              "2018-03-08 04:00:00          90.8  \n",
              "\n",
              "[5 rows x 172 columns]"
            ]
          },
          "execution_count": 25,
          "metadata": {},
          "output_type": "execute_result"
        }
      ],
      "source": [
        "# Проверим первые строки перед обучением.\n",
        "data.head()"
      ]
    },
    {
      "cell_type": "markdown",
      "metadata": {
        "id": "Mv_d91FbClW0"
      },
      "source": [
        "Все хорошо, данные готовы. Можно приступать к разделению на выборки и обучению."
      ]
    },
    {
      "cell_type": "code",
      "execution_count": null,
      "metadata": {
        "id": "jy_oYvC9ClW1"
      },
      "outputs": [],
      "source": [
        "features = data.drop('num_orders', axis=1)\n",
        "target = data['num_orders']"
      ]
    },
    {
      "cell_type": "markdown",
      "metadata": {
        "id": "7VCpI970ClW2"
      },
      "source": [
        "Сделаем тестовую выборку размером 10% от исходных данных. По заданию."
      ]
    },
    {
      "cell_type": "code",
      "execution_count": null,
      "metadata": {
        "id": "X963QVpCClW2"
      },
      "outputs": [],
      "source": [
        "features_train, features_test, target_train, target_test = train_test_split(features, target, test_size=0.1, shuffle=False, random_state=12345)"
      ]
    },
    {
      "cell_type": "code",
      "execution_count": null,
      "metadata": {
        "id": "eFLUbLt_ClW3",
        "outputId": "90b7af6e-ddcd-42ff-b04a-f0a3f120cab1"
      },
      "outputs": [
        {
          "name": "stdout",
          "output_type": "stream",
          "text": [
            "Обучающая выборка     _train (3823, 171)\n",
            "Тестовая выборка       _test (425, 171)\n"
          ]
        }
      ],
      "source": [
        "print('Обучающая выборка     _train', features_train.shape)\n",
        "print('Тестовая выборка       _test', features_test.shape)"
      ]
    },
    {
      "cell_type": "markdown",
      "metadata": {
        "id": "VcFomk5JClW5"
      },
      "source": [
        "так же будем проверять перед каждым обучением на хронологичность."
      ]
    },
    {
      "cell_type": "code",
      "execution_count": null,
      "metadata": {
        "id": "LrAoS4fZClW5",
        "outputId": "50ea7014-3f05-4e68-d252-b59abc1c8b8e"
      },
      "outputs": [
        {
          "data": {
            "text/plain": [
              "True"
            ]
          },
          "metadata": {},
          "output_type": "display_data"
        },
        {
          "data": {
            "text/html": [
              "<div>\n",
              "<style scoped>\n",
              "    .dataframe tbody tr th:only-of-type {\n",
              "        vertical-align: middle;\n",
              "    }\n",
              "\n",
              "    .dataframe tbody tr th {\n",
              "        vertical-align: top;\n",
              "    }\n",
              "\n",
              "    .dataframe thead th {\n",
              "        text-align: right;\n",
              "    }\n",
              "</style>\n",
              "<table border=\"1\" class=\"dataframe\">\n",
              "  <thead>\n",
              "    <tr style=\"text-align: right;\">\n",
              "      <th></th>\n",
              "      <th>dayofweek</th>\n",
              "      <th>hour</th>\n",
              "      <th>lag_1</th>\n",
              "      <th>lag_2</th>\n",
              "      <th>lag_3</th>\n",
              "      <th>lag_4</th>\n",
              "      <th>lag_5</th>\n",
              "      <th>lag_6</th>\n",
              "      <th>lag_7</th>\n",
              "      <th>lag_8</th>\n",
              "      <th>...</th>\n",
              "      <th>lag_160</th>\n",
              "      <th>lag_161</th>\n",
              "      <th>lag_162</th>\n",
              "      <th>lag_163</th>\n",
              "      <th>lag_164</th>\n",
              "      <th>lag_165</th>\n",
              "      <th>lag_166</th>\n",
              "      <th>lag_167</th>\n",
              "      <th>lag_168</th>\n",
              "      <th>rolling_mean</th>\n",
              "    </tr>\n",
              "    <tr>\n",
              "      <th>datetime</th>\n",
              "      <th></th>\n",
              "      <th></th>\n",
              "      <th></th>\n",
              "      <th></th>\n",
              "      <th></th>\n",
              "      <th></th>\n",
              "      <th></th>\n",
              "      <th></th>\n",
              "      <th></th>\n",
              "      <th></th>\n",
              "      <th></th>\n",
              "      <th></th>\n",
              "      <th></th>\n",
              "      <th></th>\n",
              "      <th></th>\n",
              "      <th></th>\n",
              "      <th></th>\n",
              "      <th></th>\n",
              "      <th></th>\n",
              "      <th></th>\n",
              "      <th></th>\n",
              "    </tr>\n",
              "  </thead>\n",
              "  <tbody>\n",
              "    <tr>\n",
              "      <th>2018-03-08 00:00:00</th>\n",
              "      <td>3</td>\n",
              "      <td>0</td>\n",
              "      <td>94.0</td>\n",
              "      <td>127.0</td>\n",
              "      <td>108.0</td>\n",
              "      <td>76.0</td>\n",
              "      <td>50.0</td>\n",
              "      <td>99.0</td>\n",
              "      <td>48.0</td>\n",
              "      <td>46.0</td>\n",
              "      <td>...</td>\n",
              "      <td>34.0</td>\n",
              "      <td>15.0</td>\n",
              "      <td>12.0</td>\n",
              "      <td>6.0</td>\n",
              "      <td>43.0</td>\n",
              "      <td>66.0</td>\n",
              "      <td>71.0</td>\n",
              "      <td>85.0</td>\n",
              "      <td>124.0</td>\n",
              "      <td>74.2</td>\n",
              "    </tr>\n",
              "    <tr>\n",
              "      <th>2018-03-08 01:00:00</th>\n",
              "      <td>3</td>\n",
              "      <td>1</td>\n",
              "      <td>143.0</td>\n",
              "      <td>94.0</td>\n",
              "      <td>127.0</td>\n",
              "      <td>108.0</td>\n",
              "      <td>76.0</td>\n",
              "      <td>50.0</td>\n",
              "      <td>99.0</td>\n",
              "      <td>48.0</td>\n",
              "      <td>...</td>\n",
              "      <td>69.0</td>\n",
              "      <td>34.0</td>\n",
              "      <td>15.0</td>\n",
              "      <td>12.0</td>\n",
              "      <td>6.0</td>\n",
              "      <td>43.0</td>\n",
              "      <td>66.0</td>\n",
              "      <td>71.0</td>\n",
              "      <td>85.0</td>\n",
              "      <td>84.2</td>\n",
              "    </tr>\n",
              "    <tr>\n",
              "      <th>2018-03-08 02:00:00</th>\n",
              "      <td>3</td>\n",
              "      <td>2</td>\n",
              "      <td>78.0</td>\n",
              "      <td>143.0</td>\n",
              "      <td>94.0</td>\n",
              "      <td>127.0</td>\n",
              "      <td>108.0</td>\n",
              "      <td>76.0</td>\n",
              "      <td>50.0</td>\n",
              "      <td>99.0</td>\n",
              "      <td>...</td>\n",
              "      <td>64.0</td>\n",
              "      <td>69.0</td>\n",
              "      <td>34.0</td>\n",
              "      <td>15.0</td>\n",
              "      <td>12.0</td>\n",
              "      <td>6.0</td>\n",
              "      <td>43.0</td>\n",
              "      <td>66.0</td>\n",
              "      <td>71.0</td>\n",
              "      <td>86.9</td>\n",
              "    </tr>\n",
              "    <tr>\n",
              "      <th>2018-03-08 03:00:00</th>\n",
              "      <td>3</td>\n",
              "      <td>3</td>\n",
              "      <td>65.0</td>\n",
              "      <td>78.0</td>\n",
              "      <td>143.0</td>\n",
              "      <td>94.0</td>\n",
              "      <td>127.0</td>\n",
              "      <td>108.0</td>\n",
              "      <td>76.0</td>\n",
              "      <td>50.0</td>\n",
              "      <td>...</td>\n",
              "      <td>96.0</td>\n",
              "      <td>64.0</td>\n",
              "      <td>69.0</td>\n",
              "      <td>34.0</td>\n",
              "      <td>15.0</td>\n",
              "      <td>12.0</td>\n",
              "      <td>6.0</td>\n",
              "      <td>43.0</td>\n",
              "      <td>66.0</td>\n",
              "      <td>88.8</td>\n",
              "    </tr>\n",
              "    <tr>\n",
              "      <th>2018-03-08 04:00:00</th>\n",
              "      <td>3</td>\n",
              "      <td>4</td>\n",
              "      <td>68.0</td>\n",
              "      <td>65.0</td>\n",
              "      <td>78.0</td>\n",
              "      <td>143.0</td>\n",
              "      <td>94.0</td>\n",
              "      <td>127.0</td>\n",
              "      <td>108.0</td>\n",
              "      <td>76.0</td>\n",
              "      <td>...</td>\n",
              "      <td>30.0</td>\n",
              "      <td>96.0</td>\n",
              "      <td>64.0</td>\n",
              "      <td>69.0</td>\n",
              "      <td>34.0</td>\n",
              "      <td>15.0</td>\n",
              "      <td>12.0</td>\n",
              "      <td>6.0</td>\n",
              "      <td>43.0</td>\n",
              "      <td>90.8</td>\n",
              "    </tr>\n",
              "  </tbody>\n",
              "</table>\n",
              "<p>5 rows × 171 columns</p>\n",
              "</div>"
            ],
            "text/plain": [
              "                     dayofweek  hour  lag_1  lag_2  lag_3  lag_4  lag_5  \\\n",
              "datetime                                                                  \n",
              "2018-03-08 00:00:00          3     0   94.0  127.0  108.0   76.0   50.0   \n",
              "2018-03-08 01:00:00          3     1  143.0   94.0  127.0  108.0   76.0   \n",
              "2018-03-08 02:00:00          3     2   78.0  143.0   94.0  127.0  108.0   \n",
              "2018-03-08 03:00:00          3     3   65.0   78.0  143.0   94.0  127.0   \n",
              "2018-03-08 04:00:00          3     4   68.0   65.0   78.0  143.0   94.0   \n",
              "\n",
              "                     lag_6  lag_7  lag_8  ...  lag_160  lag_161  lag_162  \\\n",
              "datetime                                  ...                              \n",
              "2018-03-08 00:00:00   99.0   48.0   46.0  ...     34.0     15.0     12.0   \n",
              "2018-03-08 01:00:00   50.0   99.0   48.0  ...     69.0     34.0     15.0   \n",
              "2018-03-08 02:00:00   76.0   50.0   99.0  ...     64.0     69.0     34.0   \n",
              "2018-03-08 03:00:00  108.0   76.0   50.0  ...     96.0     64.0     69.0   \n",
              "2018-03-08 04:00:00  127.0  108.0   76.0  ...     30.0     96.0     64.0   \n",
              "\n",
              "                     lag_163  lag_164  lag_165  lag_166  lag_167  lag_168  \\\n",
              "datetime                                                                    \n",
              "2018-03-08 00:00:00      6.0     43.0     66.0     71.0     85.0    124.0   \n",
              "2018-03-08 01:00:00     12.0      6.0     43.0     66.0     71.0     85.0   \n",
              "2018-03-08 02:00:00     15.0     12.0      6.0     43.0     66.0     71.0   \n",
              "2018-03-08 03:00:00     34.0     15.0     12.0      6.0     43.0     66.0   \n",
              "2018-03-08 04:00:00     69.0     34.0     15.0     12.0      6.0     43.0   \n",
              "\n",
              "                     rolling_mean  \n",
              "datetime                           \n",
              "2018-03-08 00:00:00          74.2  \n",
              "2018-03-08 01:00:00          84.2  \n",
              "2018-03-08 02:00:00          86.9  \n",
              "2018-03-08 03:00:00          88.8  \n",
              "2018-03-08 04:00:00          90.8  \n",
              "\n",
              "[5 rows x 171 columns]"
            ]
          },
          "metadata": {},
          "output_type": "display_data"
        }
      ],
      "source": [
        "display(features_train.index.is_monotonic)\n",
        "display(features_train.head())"
      ]
    },
    {
      "cell_type": "markdown",
      "metadata": {
        "id": "vO3ay4cPClW6"
      },
      "source": [
        "True - отлично, не нарушено"
      ]
    },
    {
      "cell_type": "markdown",
      "metadata": {
        "id": "4VRlIoM-ClW6"
      },
      "source": [
        "### Linear Regression Модель"
      ]
    },
    {
      "cell_type": "code",
      "execution_count": null,
      "metadata": {
        "id": "HhuGiP8CClW7"
      },
      "outputs": [],
      "source": [
        "%%time\n",
        "\n",
        "model_lr = LinearRegression()\n",
        "model_lr.fit(features_train, target_train)\n",
        "score_lr = cross_val_score(model_lr, features_train, target_train, scoring=scorer, verbose=True).fit(tf_idf_train, target_trai)\n",
        "round(np.mean(-score_lr), 2)"
      ]
    },
    {
      "cell_type": "markdown",
      "metadata": {
        "id": "ZLH2oDeBClW8"
      },
      "source": [
        "На первый взгляд отличный результат. Но только на первый."
      ]
    },
    {
      "cell_type": "markdown",
      "metadata": {
        "id": "NUkZ6KqoClW9"
      },
      "source": [
        "### RandomizedSearchCV"
      ]
    },
    {
      "cell_type": "code",
      "execution_count": null,
      "metadata": {
        "id": "VOqow2PTClW-",
        "outputId": "fb67d303-7655-434f-d689-04bda4689031"
      },
      "outputs": [
        {
          "data": {
            "text/plain": [
              "True"
            ]
          },
          "metadata": {},
          "output_type": "display_data"
        }
      ],
      "source": [
        "display(features_train.index.is_monotonic)\n",
        "#display(features_train.head())"
      ]
    },
    {
      "cell_type": "code",
      "execution_count": null,
      "metadata": {
        "id": "bNuvHvC2ClW-"
      },
      "outputs": [],
      "source": [
        "tscv = TimeSeriesSplit(n_splits=10)\n",
        "RANDOM_STATE = 12345"
      ]
    },
    {
      "cell_type": "code",
      "execution_count": null,
      "metadata": {
        "id": "chHvCPRTClW_"
      },
      "outputs": [],
      "source": [
        "%%time\n",
        "# Внимание!!! Долго запускается.\n",
        "\n",
        "model = RandomForestRegressor()\n",
        "param_search = {\n",
        "    'n_estimators': [20, 50, 100],\n",
        "    'max_features': ['auto', 'sqrt', 'log2'],\n",
        "    'max_depth' : [i for i in range(5,15)]\n",
        "}\n",
        "tscv_rfr = TimeSeriesSplit(n_splits=10)\n",
        "gsearch = GridSearchCV(estimator=model, cv=tscv_rfr, param_grid=param_search)\n",
        "gsearch.fit(features_train, target_train)\n",
        "best_score = gsearch.best_score_\n",
        "best_model = gsearch.best_estimator_\n",
        "\n",
        "print(best_model)\n",
        "\n",
        "RandomForestRegressor(max_depth=12, max_features='auto')"
      ]
    },
    {
      "cell_type": "code",
      "execution_count": null,
      "metadata": {
        "id": "ytS4UeU7ClW_",
        "outputId": "68b3d046-446f-4b20-e5a6-0345ed13b6f6"
      },
      "outputs": [
        {
          "name": "stdout",
          "output_type": "stream",
          "text": [
            "CPU times: user 2min 29s, sys: 129 ms, total: 2min 29s\n",
            "Wall time: 2min 29s\n"
          ]
        },
        {
          "data": {
            "text/plain": [
              "22.0"
            ]
          },
          "execution_count": 34,
          "metadata": {},
          "output_type": "execute_result"
        }
      ],
      "source": [
        "%%time\n",
        "\n",
        "model_rfr = RandomForestRegressor(max_depth=12, max_features='auto', random_state=12345)\n",
        "model_rfr.fit(features_train, target_train)\n",
        "score_rfr = cross_val_score(model_rfr, features_train, target_train, scoring='neg_root_mean_squared_error', cv=TimeSeriesSplit(n_splits=10).split(features_train))\n",
        "round(np.mean(-score_rfr), 2)"
      ]
    },
    {
      "cell_type": "markdown",
      "metadata": {
        "id": "6JnL2JBwClXA"
      },
      "source": [
        "Уже меньше. Посмотрим что покажет градиентный бустинг."
      ]
    },
    {
      "cell_type": "markdown",
      "metadata": {
        "id": "3wGZAGn2ClXA"
      },
      "source": [
        "### LightGBM Модель (градиентный бустинг)"
      ]
    },
    {
      "cell_type": "markdown",
      "metadata": {
        "id": "Cb0IT7YnClXA"
      },
      "source": [
        "В отличии от предыдущей модели в данной для подбора гиперпараметров используем GridSearchCV"
      ]
    },
    {
      "cell_type": "code",
      "execution_count": null,
      "metadata": {
        "id": "sKYFLuR7ClXB",
        "outputId": "b7c24b58-6fb8-405f-9987-bd1ceb042251"
      },
      "outputs": [
        {
          "data": {
            "text/plain": [
              "True"
            ]
          },
          "metadata": {},
          "output_type": "display_data"
        }
      ],
      "source": [
        "display(features_train.index.is_monotonic)\n",
        "#display(features_train.head())"
      ]
    },
    {
      "cell_type": "code",
      "execution_count": null,
      "metadata": {
        "id": "aGkiGl9bClXB"
      },
      "outputs": [],
      "source": [
        "%%time\n",
        "\n",
        "# Внимание!!! Долго запускается.\n",
        "\n",
        "\n",
        "gbm = LGBMRegressor(boosting_type = 'gbdt', seed = RANDOM_STATE)\n",
        "gbm_params = {'n_estimators': [20, 100], 'max_depth': [4,6]}\n",
        "\n",
        "grid_gbm = GridSearchCV(estimator=gbm, param_grid= gbm_params, cv=tscv)\n",
        "grid_gbm.fit(features_train, target_train);\n",
        "\n",
        "print(grid_gbm.best_params_)\n",
        "\n",
        "# {'max_depth': 4, 'n_estimators': 100}"
      ]
    },
    {
      "cell_type": "code",
      "execution_count": null,
      "metadata": {
        "id": "yR5wZrNGClXC",
        "outputId": "602662a3-667e-4aa5-c548-41913423ddcb"
      },
      "outputs": [
        {
          "name": "stdout",
          "output_type": "stream",
          "text": [
            "CPU times: user 5min 51s, sys: 3.56 s, total: 5min 55s\n",
            "Wall time: 5min 56s\n"
          ]
        },
        {
          "data": {
            "text/plain": [
              "22.12"
            ]
          },
          "execution_count": 37,
          "metadata": {},
          "output_type": "execute_result"
        }
      ],
      "source": [
        "%%time\n",
        "\n",
        "model_gbm = LGBMRegressor(max_depth = 4, n_estimators = 100, random_state=12345)\n",
        "model_gbm.fit(features_train, target_train)\n",
        "score_gbm = cross_val_score(model_gbm, features_train, target_train, scoring='neg_root_mean_squared_error', cv=TimeSeriesSplit(n_splits=10).split(features_train))\n",
        "round(np.mean(-score_gbm), 2)\n"
      ]
    },
    {
      "cell_type": "markdown",
      "metadata": {
        "id": "MOaP-EpAClXC"
      },
      "source": [
        "Практически такой же как и в Случайном лесе."
      ]
    },
    {
      "cell_type": "markdown",
      "metadata": {
        "id": "4bQMaGtdClXD"
      },
      "source": [
        "### CatBoost Regressor (градиентный бустинг)"
      ]
    },
    {
      "cell_type": "code",
      "execution_count": null,
      "metadata": {
        "scrolled": true,
        "id": "_q4DpgibClXD",
        "outputId": "d84e7597-29fa-491d-b0a4-a5907998b98d"
      },
      "outputs": [
        {
          "data": {
            "text/plain": [
              "True"
            ]
          },
          "metadata": {},
          "output_type": "display_data"
        }
      ],
      "source": [
        "display(features_train.index.is_monotonic)\n",
        "#display(features_train.head())"
      ]
    },
    {
      "cell_type": "code",
      "execution_count": null,
      "metadata": {
        "id": "Z-N3Px2qClXD"
      },
      "outputs": [],
      "source": [
        "%%time\n",
        "\n",
        "cb = CatBoostRegressor(random_state=RANDOM)\n",
        "cb_params = {'iterations':[10, 50], 'learning_rate': [0.1, 0.15, 0.25]}\n",
        "\n",
        "grid_сb = GridSearchCV(cb, cb_params, cv=tscv)\n",
        "grid_сb.fit(features_train, target_train,  verbose = False);\n",
        "\n",
        "grid_сb.best_params_\n",
        "\n",
        "# iterations': 50, 'learning_rate': 0.15"
      ]
    },
    {
      "cell_type": "code",
      "execution_count": null,
      "metadata": {
        "scrolled": true,
        "id": "V62JW4pSClXE"
      },
      "outputs": [],
      "source": [
        "%%time\n",
        "\n",
        "model_cb = CatBoostRegressor(iterations = 50, learning_rate = 0.15, random_state=12345)\n",
        "model_cb.fit(features_train, target_train)\n",
        "score_cb = cross_val_score(model_cb, features_train, target_train, verbose = False, scoring='neg_root_mean_squared_error', cv=TimeSeriesSplit(n_splits=10).split(features_train))\n",
        "round(np.mean(-score_cb), 2)"
      ]
    },
    {
      "cell_type": "markdown",
      "metadata": {
        "id": "9BCzzsVMClXE"
      },
      "source": [
        "Лидер среди наших моделей. Тогда данную модель и возмем для теста."
      ]
    },
    {
      "cell_type": "markdown",
      "metadata": {
        "id": "i0tlOZ9HClXF"
      },
      "source": [
        "### Таблица RMSE"
      ]
    },
    {
      "cell_type": "code",
      "execution_count": null,
      "metadata": {
        "id": "w-RXmbJnClXF"
      },
      "outputs": [],
      "source": [
        "final_analysis = [[round(np.mean(-score_lr), 2)],\n",
        "        [round(np.mean(-score_rfr), 2)],\n",
        "        [round(np.mean(-score_gbm), 2)],\n",
        "        [round(np.mean(-score_cb), 2)]]\n",
        "\n",
        "model_name = [\"Linear Regression\", \"Random Forest Regressor\", \"LGBM Regressor\", \"CatBoost Regressor\"]"
      ]
    },
    {
      "cell_type": "code",
      "execution_count": null,
      "metadata": {
        "id": "_yN_AGtBClXH",
        "outputId": "11f35fde-8423-446c-c4d4-f15df38b01e1"
      },
      "outputs": [
        {
          "data": {
            "text/html": [
              "<div>\n",
              "<style scoped>\n",
              "    .dataframe tbody tr th:only-of-type {\n",
              "        vertical-align: middle;\n",
              "    }\n",
              "\n",
              "    .dataframe tbody tr th {\n",
              "        vertical-align: top;\n",
              "    }\n",
              "\n",
              "    .dataframe thead th {\n",
              "        text-align: right;\n",
              "    }\n",
              "</style>\n",
              "<table border=\"1\" class=\"dataframe\">\n",
              "  <thead>\n",
              "    <tr style=\"text-align: right;\">\n",
              "      <th></th>\n",
              "      <th>RMSE</th>\n",
              "    </tr>\n",
              "  </thead>\n",
              "  <tbody>\n",
              "    <tr>\n",
              "      <th>Linear Regression</th>\n",
              "      <td>23.44</td>\n",
              "    </tr>\n",
              "    <tr>\n",
              "      <th>Random Forest Regressor</th>\n",
              "      <td>22.00</td>\n",
              "    </tr>\n",
              "    <tr>\n",
              "      <th>LGBM Regressor</th>\n",
              "      <td>22.12</td>\n",
              "    </tr>\n",
              "    <tr>\n",
              "      <th>CatBoost Regressor</th>\n",
              "      <td>21.97</td>\n",
              "    </tr>\n",
              "  </tbody>\n",
              "</table>\n",
              "</div>"
            ],
            "text/plain": [
              "                          RMSE\n",
              "Linear Regression        23.44\n",
              "Random Forest Regressor  22.00\n",
              "LGBM Regressor           22.12\n",
              "CatBoost Regressor       21.97"
            ]
          },
          "execution_count": 44,
          "metadata": {},
          "output_type": "execute_result"
        }
      ],
      "source": [
        "pd.DataFrame(data = final_analysis, index = model_name, columns=[\"RMSE\"])"
      ]
    },
    {
      "cell_type": "markdown",
      "metadata": {
        "id": "vegYWXz0ClXH"
      },
      "source": [
        "И так подведем итог. По заданю нам нужно было найти лучшую модель с RMSE менее 48. С данной задачей справились все модели. Но  LightGBM Модель (градиентный бустинг) справился лучше всего, показав наименьший результат. Ее и протестируем."
      ]
    },
    {
      "cell_type": "markdown",
      "metadata": {
        "id": "uXmBJ2xkClXJ"
      },
      "source": [
        "## Тестирование"
      ]
    },
    {
      "cell_type": "code",
      "execution_count": null,
      "metadata": {
        "id": "pLWQ7U7bClXJ",
        "outputId": "df1af915-ed67-4f24-d153-273c8f8bd96d"
      },
      "outputs": [
        {
          "data": {
            "text/plain": [
              "True"
            ]
          },
          "metadata": {},
          "output_type": "display_data"
        }
      ],
      "source": [
        "display(features_test.index.is_monotonic)\n",
        "#display(features_test.head())"
      ]
    },
    {
      "cell_type": "code",
      "execution_count": null,
      "metadata": {
        "id": "MK3FvReWClXJ"
      },
      "outputs": [],
      "source": [
        "preds_cb_model_test = model_cb.predict(features_test)"
      ]
    },
    {
      "cell_type": "code",
      "execution_count": null,
      "metadata": {
        "id": "nMCgj9w2ClXK",
        "outputId": "9394105c-a1c7-450e-d8ab-be15789528fd"
      },
      "outputs": [
        {
          "name": "stdout",
          "output_type": "stream",
          "text": [
            "RMSE для LightGBM: 39.9\n"
          ]
        }
      ],
      "source": [
        "rmse_cb_test = np.sqrt(mean_squared_error(target_test, preds_cb_model_test))\n",
        "print(f'RMSE для LightGBM: {rmse_cb_test.round(1)}')"
      ]
    },
    {
      "cell_type": "markdown",
      "metadata": {
        "id": "NZSk_f38ClXK"
      },
      "source": [
        "RMSE на тесте больше, но меньше чем в задании. С задачей справились, проверим на адекватность."
      ]
    },
    {
      "cell_type": "markdown",
      "metadata": {
        "id": "mymDpcYuClXL"
      },
      "source": [
        "### Проверим на адекватность"
      ]
    },
    {
      "cell_type": "code",
      "execution_count": null,
      "metadata": {
        "id": "G7f-ZZakClXL",
        "outputId": "8ca32dae-d25b-4919-da6e-f349042e76e4"
      },
      "outputs": [
        {
          "data": {
            "text/plain": [
              "datetime\n",
              "2018-08-14 07:00:00     45.0\n",
              "2018-08-14 08:00:00     54.0\n",
              "2018-08-14 09:00:00     91.0\n",
              "2018-08-14 10:00:00    135.0\n",
              "2018-08-14 11:00:00    155.0\n",
              "2018-08-14 12:00:00    162.0\n",
              "Freq: H, Name: num_orders, dtype: float64"
            ]
          },
          "execution_count": 48,
          "metadata": {},
          "output_type": "execute_result"
        }
      ],
      "source": [
        "pred_previous = target_test.shift()\n",
        "pred_previous.iloc[0] = target_train.iloc[-1]\n",
        "\n",
        "pred_previous.head(6)"
      ]
    },
    {
      "cell_type": "code",
      "execution_count": null,
      "metadata": {
        "id": "BpRSMVGkClXM",
        "outputId": "3b3933cd-5de5-48ef-d2dc-58cf52901a60"
      },
      "outputs": [
        {
          "data": {
            "text/plain": [
              "datetime\n",
              "2018-08-14 07:00:00     54\n",
              "2018-08-14 08:00:00     91\n",
              "2018-08-14 09:00:00    135\n",
              "2018-08-14 10:00:00    155\n",
              "2018-08-14 11:00:00    162\n",
              "Freq: H, Name: num_orders, dtype: int64"
            ]
          },
          "execution_count": 49,
          "metadata": {},
          "output_type": "execute_result"
        }
      ],
      "source": [
        "target_test.head()"
      ]
    },
    {
      "cell_type": "markdown",
      "metadata": {
        "id": "L6CgAtvnClXM"
      },
      "source": [
        "Похоже что модель адекватна."
      ]
    },
    {
      "cell_type": "code",
      "execution_count": null,
      "metadata": {
        "id": "H-A9A2H_ClXO",
        "outputId": "e3b95aef-137d-4526-ffb6-bf63ff2d0683"
      },
      "outputs": [
        {
          "name": "stdout",
          "output_type": "stream",
          "text": [
            "RMSE для LightGBM: 58.8\n"
          ]
        }
      ],
      "source": [
        "\n",
        "pred_previous = target_test.shift()\n",
        "pred_previous.iloc[0] = target_train.iloc[-1]\n",
        "rmse_const = np.sqrt(mean_squared_error(target_test, pred_previous))\n",
        "print(f'RMSE для LightGBM: {rmse_const.round(1)}')"
      ]
    },
    {
      "cell_type": "code",
      "execution_count": null,
      "metadata": {
        "id": "dxTB_Ss4ClXO"
      },
      "outputs": [],
      "source": []
    },
    {
      "cell_type": "markdown",
      "metadata": {
        "id": "stnllW-3ClXP"
      },
      "source": [
        "### Вывод"
      ]
    },
    {
      "cell_type": "markdown",
      "metadata": {
        "id": "flOgw_bbClXP"
      },
      "source": [
        "Мы проделали большой объем работы. Первым делом мы проанализировали предоставленные данные, пропусков нет, дубликатов тоже нет, хронология не нарушена. Далее проведен анализ предоставленных данных, были сделаны определенные выводы, хорошо просматривается общий тренд, так же сезонность в течении недели и дня, что в принципе логично. В третьем пункте мы добавили признаки для обучения наших будущих моделей. По заданию нам нужно было сделать тестовую выборку 10%, что мы и выполнили. Для обучения, традиционно взяли четыре модели \"Linear Regression\", \"Random Forest Regressor\", \"LGBM Regressor\", \"CatBoost Regressor\". Все модели показали хороший результат, самый минимальный RMSE у CatBoost 39.9. При тестировании CatBoost Модель так же показала удовлетворяющий нас результат. А именно меньше 48, ее мы можем рекомендовать для использования в данных задачах, так же модель прошла проверку на адекватность.\n",
        "\n",
        "С уважением,\n",
        "\n",
        "А. Нестеров"
      ]
    },
    {
      "cell_type": "markdown",
      "metadata": {
        "id": "JDEQm3JyClXR"
      },
      "source": [
        "## Чек-лист проверки"
      ]
    },
    {
      "cell_type": "markdown",
      "metadata": {
        "id": "GAYltso5ClXR"
      },
      "source": [
        "- [x]  Jupyter Notebook открыт\n",
        "- [ ]  Весь код выполняется без ошибок\n",
        "- [ ]  Ячейки с кодом расположены в порядке исполнения\n",
        "- [ ]  Данные загружены и подготовлены\n",
        "- [ ]  Данные проанализированы\n",
        "- [ ]  Модель обучена, гиперпараметры подобраны\n",
        "- [ ]  Качество моделей проверено, выводы сделаны\n",
        "- [ ]  Значение *RMSE* на тестовой выборке не больше 48"
      ]
    }
  ],
  "metadata": {
    "ExecuteTimeLog": [
      {
        "duration": 18069,
        "start_time": "2023-05-25T19:08:48.247Z"
      },
      {
        "duration": 1382,
        "start_time": "2023-05-25T19:10:32.136Z"
      },
      {
        "duration": 8,
        "start_time": "2023-05-25T19:11:17.395Z"
      },
      {
        "duration": 6,
        "start_time": "2023-05-25T19:13:13.027Z"
      },
      {
        "duration": 5,
        "start_time": "2023-05-25T19:13:29.082Z"
      },
      {
        "duration": 101,
        "start_time": "2023-05-25T19:14:05.810Z"
      },
      {
        "duration": 107,
        "start_time": "2023-05-25T19:14:27.299Z"
      },
      {
        "duration": 6,
        "start_time": "2023-05-25T19:15:25.006Z"
      },
      {
        "duration": 3,
        "start_time": "2023-05-25T19:15:34.327Z"
      },
      {
        "duration": 851,
        "start_time": "2023-05-25T19:35:23.543Z"
      },
      {
        "duration": 24,
        "start_time": "2023-05-25T19:35:42.671Z"
      },
      {
        "duration": 20,
        "start_time": "2023-05-25T19:37:41.782Z"
      },
      {
        "duration": 21,
        "start_time": "2023-05-25T19:40:18.223Z"
      },
      {
        "duration": 12,
        "start_time": "2023-05-25T19:41:48.820Z"
      },
      {
        "duration": 12,
        "start_time": "2023-05-25T19:42:15.198Z"
      },
      {
        "duration": 13,
        "start_time": "2023-05-25T19:45:28.579Z"
      },
      {
        "duration": 384,
        "start_time": "2023-05-25T19:46:03.477Z"
      },
      {
        "duration": 220,
        "start_time": "2023-05-25T19:47:00.098Z"
      },
      {
        "duration": 22,
        "start_time": "2023-05-25T19:47:26.598Z"
      },
      {
        "duration": 2,
        "start_time": "2023-05-25T19:47:34.182Z"
      },
      {
        "duration": 8,
        "start_time": "2023-05-25T19:48:34.109Z"
      },
      {
        "duration": 11,
        "start_time": "2023-05-25T19:48:49.030Z"
      },
      {
        "duration": 14,
        "start_time": "2023-05-25T19:49:14.900Z"
      },
      {
        "duration": 12482,
        "start_time": "2023-05-25T19:49:40.384Z"
      },
      {
        "duration": 1205,
        "start_time": "2023-05-25T19:49:52.869Z"
      },
      {
        "duration": 8,
        "start_time": "2023-05-25T19:49:54.075Z"
      },
      {
        "duration": 19,
        "start_time": "2023-05-25T19:49:54.085Z"
      },
      {
        "duration": 11,
        "start_time": "2023-05-25T19:49:54.105Z"
      },
      {
        "duration": 51,
        "start_time": "2023-05-25T19:49:54.118Z"
      },
      {
        "duration": 99,
        "start_time": "2023-05-25T19:49:54.171Z"
      },
      {
        "duration": 24,
        "start_time": "2023-05-25T19:49:54.272Z"
      },
      {
        "duration": 37,
        "start_time": "2023-05-25T19:49:54.298Z"
      },
      {
        "duration": 39,
        "start_time": "2023-05-25T19:49:54.338Z"
      },
      {
        "duration": 5,
        "start_time": "2023-05-25T19:49:54.379Z"
      },
      {
        "duration": 14,
        "start_time": "2023-05-25T19:50:46.105Z"
      },
      {
        "duration": 286,
        "start_time": "2023-05-25T19:50:47.459Z"
      },
      {
        "duration": 24,
        "start_time": "2023-05-25T19:54:54.514Z"
      },
      {
        "duration": 7,
        "start_time": "2023-05-25T19:55:17.024Z"
      },
      {
        "duration": 848,
        "start_time": "2023-05-25T19:56:39.796Z"
      },
      {
        "duration": 782,
        "start_time": "2023-05-25T19:57:11.331Z"
      },
      {
        "duration": 11749,
        "start_time": "2023-05-25T19:57:26.498Z"
      },
      {
        "duration": 1209,
        "start_time": "2023-05-25T19:57:38.250Z"
      },
      {
        "duration": 8,
        "start_time": "2023-05-25T19:57:39.461Z"
      },
      {
        "duration": 17,
        "start_time": "2023-05-25T19:57:39.472Z"
      },
      {
        "duration": 11,
        "start_time": "2023-05-25T19:57:39.491Z"
      },
      {
        "duration": 61,
        "start_time": "2023-05-25T19:57:39.505Z"
      },
      {
        "duration": 91,
        "start_time": "2023-05-25T19:57:39.567Z"
      },
      {
        "duration": 825,
        "start_time": "2023-05-25T19:57:39.660Z"
      },
      {
        "duration": 37,
        "start_time": "2023-05-25T19:57:40.487Z"
      },
      {
        "duration": 8,
        "start_time": "2023-05-25T19:57:40.527Z"
      },
      {
        "duration": 31,
        "start_time": "2023-05-25T19:57:40.537Z"
      },
      {
        "duration": 8,
        "start_time": "2023-05-25T19:57:40.571Z"
      },
      {
        "duration": 27,
        "start_time": "2023-05-25T19:57:40.580Z"
      },
      {
        "duration": 281,
        "start_time": "2023-05-25T19:57:40.609Z"
      },
      {
        "duration": 196,
        "start_time": "2023-05-25T19:58:50.412Z"
      },
      {
        "duration": 199,
        "start_time": "2023-05-25T20:01:07.016Z"
      },
      {
        "duration": 346,
        "start_time": "2023-05-25T20:01:10.422Z"
      },
      {
        "duration": 218,
        "start_time": "2023-05-25T20:01:16.648Z"
      },
      {
        "duration": 365,
        "start_time": "2023-05-25T20:01:21.337Z"
      },
      {
        "duration": 247,
        "start_time": "2023-05-25T20:01:27.427Z"
      },
      {
        "duration": 38,
        "start_time": "2023-05-25T20:01:34.133Z"
      },
      {
        "duration": 253,
        "start_time": "2023-05-25T20:02:22.619Z"
      },
      {
        "duration": 265,
        "start_time": "2023-05-25T20:02:44.997Z"
      },
      {
        "duration": 395,
        "start_time": "2023-05-25T20:03:14.861Z"
      },
      {
        "duration": 251,
        "start_time": "2023-05-25T20:03:19.811Z"
      },
      {
        "duration": 215,
        "start_time": "2023-05-25T20:03:38.661Z"
      },
      {
        "duration": 220,
        "start_time": "2023-05-25T20:03:46.451Z"
      },
      {
        "duration": 156,
        "start_time": "2023-05-25T20:06:20.387Z"
      },
      {
        "duration": 64,
        "start_time": "2023-05-25T20:07:05.569Z"
      },
      {
        "duration": 928,
        "start_time": "2023-05-25T20:07:34.035Z"
      },
      {
        "duration": 856,
        "start_time": "2023-05-25T20:09:25.218Z"
      },
      {
        "duration": 1497,
        "start_time": "2023-05-25T20:09:43.499Z"
      },
      {
        "duration": 1400,
        "start_time": "2023-05-25T20:10:23.013Z"
      },
      {
        "duration": 21,
        "start_time": "2023-05-25T20:17:47.416Z"
      },
      {
        "duration": 477,
        "start_time": "2023-05-25T20:17:58.531Z"
      },
      {
        "duration": 580,
        "start_time": "2023-05-25T20:19:05.010Z"
      },
      {
        "duration": 504,
        "start_time": "2023-05-25T20:19:27.553Z"
      },
      {
        "duration": 39,
        "start_time": "2023-05-25T20:20:19.746Z"
      },
      {
        "duration": 540,
        "start_time": "2023-05-25T20:20:28.301Z"
      },
      {
        "duration": 15,
        "start_time": "2023-05-25T20:27:23.383Z"
      },
      {
        "duration": 63,
        "start_time": "2023-05-25T20:28:00.947Z"
      },
      {
        "duration": 21,
        "start_time": "2023-05-25T20:28:06.417Z"
      },
      {
        "duration": 10,
        "start_time": "2023-05-25T20:29:13.495Z"
      },
      {
        "duration": 11,
        "start_time": "2023-05-25T20:29:14.015Z"
      },
      {
        "duration": 19,
        "start_time": "2023-05-25T20:29:24.776Z"
      },
      {
        "duration": 5,
        "start_time": "2023-05-25T20:30:21.153Z"
      },
      {
        "duration": 8,
        "start_time": "2023-05-25T20:30:22.383Z"
      },
      {
        "duration": 14,
        "start_time": "2023-05-25T20:30:52.540Z"
      },
      {
        "duration": 10,
        "start_time": "2023-05-25T20:37:00.178Z"
      },
      {
        "duration": 7,
        "start_time": "2023-05-25T20:37:10.504Z"
      },
      {
        "duration": 7,
        "start_time": "2023-05-25T20:37:28.081Z"
      },
      {
        "duration": 3,
        "start_time": "2023-05-25T20:37:32.393Z"
      },
      {
        "duration": 7,
        "start_time": "2023-05-25T20:38:04.877Z"
      },
      {
        "duration": 4,
        "start_time": "2023-05-25T20:38:06.793Z"
      },
      {
        "duration": 18,
        "start_time": "2023-05-25T20:45:05.193Z"
      },
      {
        "duration": 113,
        "start_time": "2023-05-25T20:47:33.099Z"
      },
      {
        "duration": 119,
        "start_time": "2023-05-25T20:47:39.051Z"
      },
      {
        "duration": 16,
        "start_time": "2023-05-25T20:51:25.357Z"
      },
      {
        "duration": 4,
        "start_time": "2023-05-25T20:53:08.780Z"
      },
      {
        "duration": 24,
        "start_time": "2023-05-25T20:53:09.904Z"
      },
      {
        "duration": 34,
        "start_time": "2023-05-25T20:53:47.382Z"
      },
      {
        "duration": 8,
        "start_time": "2023-05-25T20:55:33.177Z"
      },
      {
        "duration": 28,
        "start_time": "2023-05-25T20:55:33.491Z"
      },
      {
        "duration": 58,
        "start_time": "2023-05-25T20:55:34.017Z"
      },
      {
        "duration": 3520,
        "start_time": "2023-05-25T20:56:04.554Z"
      },
      {
        "duration": 71,
        "start_time": "2023-05-25T20:56:45.155Z"
      },
      {
        "duration": 5,
        "start_time": "2023-05-25T20:58:33.117Z"
      },
      {
        "duration": 7,
        "start_time": "2023-05-25T20:58:33.865Z"
      },
      {
        "duration": 8,
        "start_time": "2023-05-25T20:58:34.460Z"
      },
      {
        "duration": 23,
        "start_time": "2023-05-25T20:59:01.373Z"
      },
      {
        "duration": 12501,
        "start_time": "2023-05-25T20:59:38.516Z"
      },
      {
        "duration": 1464,
        "start_time": "2023-05-25T20:59:51.019Z"
      },
      {
        "duration": 7,
        "start_time": "2023-05-25T20:59:52.485Z"
      },
      {
        "duration": 73,
        "start_time": "2023-05-25T20:59:52.494Z"
      },
      {
        "duration": 9,
        "start_time": "2023-05-25T20:59:52.569Z"
      },
      {
        "duration": 55,
        "start_time": "2023-05-25T20:59:52.580Z"
      },
      {
        "duration": 149,
        "start_time": "2023-05-25T20:59:52.637Z"
      },
      {
        "duration": 828,
        "start_time": "2023-05-25T20:59:52.788Z"
      },
      {
        "duration": 25,
        "start_time": "2023-05-25T20:59:53.625Z"
      },
      {
        "duration": 32,
        "start_time": "2023-05-25T20:59:53.654Z"
      },
      {
        "duration": 28,
        "start_time": "2023-05-25T20:59:53.688Z"
      },
      {
        "duration": 48,
        "start_time": "2023-05-25T20:59:53.718Z"
      },
      {
        "duration": 29,
        "start_time": "2023-05-25T20:59:53.768Z"
      },
      {
        "duration": 243,
        "start_time": "2023-05-25T20:59:53.799Z"
      },
      {
        "duration": 352,
        "start_time": "2023-05-25T20:59:54.044Z"
      },
      {
        "duration": 232,
        "start_time": "2023-05-25T20:59:54.397Z"
      },
      {
        "duration": 1263,
        "start_time": "2023-05-25T20:59:54.631Z"
      },
      {
        "duration": 533,
        "start_time": "2023-05-25T20:59:55.896Z"
      },
      {
        "duration": 2,
        "start_time": "2023-05-25T20:59:56.431Z"
      },
      {
        "duration": 44,
        "start_time": "2023-05-25T20:59:56.436Z"
      },
      {
        "duration": 23,
        "start_time": "2023-05-25T20:59:56.481Z"
      },
      {
        "duration": 30,
        "start_time": "2023-05-25T20:59:56.506Z"
      },
      {
        "duration": 46,
        "start_time": "2023-05-25T20:59:56.538Z"
      },
      {
        "duration": 24,
        "start_time": "2023-05-25T20:59:56.586Z"
      },
      {
        "duration": 3491,
        "start_time": "2023-05-25T20:59:56.613Z"
      },
      {
        "duration": 54,
        "start_time": "2023-05-25T21:00:00.106Z"
      },
      {
        "duration": 24,
        "start_time": "2023-05-25T21:00:00.162Z"
      },
      {
        "duration": 40,
        "start_time": "2023-05-25T21:00:00.190Z"
      },
      {
        "duration": 41,
        "start_time": "2023-05-25T21:00:00.236Z"
      },
      {
        "duration": 250,
        "start_time": "2023-05-25T21:00:00.279Z"
      },
      {
        "duration": 58,
        "start_time": "2023-05-25T21:00:45.312Z"
      },
      {
        "duration": 6,
        "start_time": "2023-05-25T21:00:54.793Z"
      },
      {
        "duration": 4,
        "start_time": "2023-05-25T21:00:56.131Z"
      },
      {
        "duration": 8,
        "start_time": "2023-05-25T21:00:56.456Z"
      },
      {
        "duration": 4,
        "start_time": "2023-05-25T21:00:57.384Z"
      },
      {
        "duration": 83,
        "start_time": "2023-05-25T21:00:58.743Z"
      },
      {
        "duration": 15,
        "start_time": "2023-05-25T21:01:38.249Z"
      },
      {
        "duration": 8,
        "start_time": "2023-05-25T21:02:16.697Z"
      },
      {
        "duration": 15,
        "start_time": "2023-05-25T21:04:50.705Z"
      },
      {
        "duration": 12,
        "start_time": "2023-05-25T21:13:37.591Z"
      },
      {
        "duration": 69,
        "start_time": "2023-05-25T21:14:36.959Z"
      },
      {
        "duration": 78,
        "start_time": "2023-05-25T21:14:37.658Z"
      },
      {
        "duration": 4,
        "start_time": "2023-05-25T21:14:38.349Z"
      },
      {
        "duration": 6,
        "start_time": "2023-05-25T21:14:57.651Z"
      },
      {
        "duration": 7,
        "start_time": "2023-05-25T21:15:16.761Z"
      },
      {
        "duration": 6,
        "start_time": "2023-05-25T21:15:21.679Z"
      },
      {
        "duration": 7,
        "start_time": "2023-05-25T21:15:25.044Z"
      },
      {
        "duration": 6,
        "start_time": "2023-05-25T21:15:35.689Z"
      },
      {
        "duration": 50,
        "start_time": "2023-05-25T21:17:37.583Z"
      },
      {
        "duration": 4,
        "start_time": "2023-05-25T21:17:48.079Z"
      },
      {
        "duration": 16,
        "start_time": "2023-05-25T21:18:55.656Z"
      },
      {
        "duration": 10,
        "start_time": "2023-05-25T21:18:56.116Z"
      },
      {
        "duration": 10,
        "start_time": "2023-05-25T21:19:07.658Z"
      },
      {
        "duration": 11,
        "start_time": "2023-05-25T21:19:10.839Z"
      },
      {
        "duration": 17,
        "start_time": "2023-05-25T21:19:11.661Z"
      },
      {
        "duration": 11,
        "start_time": "2023-05-25T21:19:25.898Z"
      },
      {
        "duration": 10,
        "start_time": "2023-05-25T21:19:26.391Z"
      },
      {
        "duration": 20,
        "start_time": "2023-05-25T21:19:30.800Z"
      },
      {
        "duration": 26,
        "start_time": "2023-05-25T21:19:31.239Z"
      },
      {
        "duration": 11,
        "start_time": "2023-05-25T21:19:31.999Z"
      },
      {
        "duration": 10,
        "start_time": "2023-05-25T21:19:53.372Z"
      },
      {
        "duration": 11599,
        "start_time": "2023-05-25T21:20:12.980Z"
      },
      {
        "duration": 1288,
        "start_time": "2023-05-25T21:20:24.582Z"
      },
      {
        "duration": 8,
        "start_time": "2023-05-25T21:20:25.871Z"
      },
      {
        "duration": 15,
        "start_time": "2023-05-25T21:20:25.882Z"
      },
      {
        "duration": 14,
        "start_time": "2023-05-25T21:20:25.899Z"
      },
      {
        "duration": 62,
        "start_time": "2023-05-25T21:20:25.914Z"
      },
      {
        "duration": 117,
        "start_time": "2023-05-25T21:20:25.979Z"
      },
      {
        "duration": 697,
        "start_time": "2023-05-25T21:20:26.098Z"
      },
      {
        "duration": 27,
        "start_time": "2023-05-25T21:20:26.797Z"
      },
      {
        "duration": 35,
        "start_time": "2023-05-25T21:20:26.831Z"
      },
      {
        "duration": 23,
        "start_time": "2023-05-25T21:20:26.868Z"
      },
      {
        "duration": 7,
        "start_time": "2023-05-25T21:20:26.893Z"
      },
      {
        "duration": 14,
        "start_time": "2023-05-25T21:20:26.902Z"
      },
      {
        "duration": 233,
        "start_time": "2023-05-25T21:20:26.918Z"
      },
      {
        "duration": 324,
        "start_time": "2023-05-25T21:20:27.153Z"
      },
      {
        "duration": 221,
        "start_time": "2023-05-25T21:20:27.478Z"
      },
      {
        "duration": 1108,
        "start_time": "2023-05-25T21:20:27.701Z"
      },
      {
        "duration": 521,
        "start_time": "2023-05-25T21:20:28.811Z"
      },
      {
        "duration": 3,
        "start_time": "2023-05-25T21:20:29.335Z"
      },
      {
        "duration": 20,
        "start_time": "2023-05-25T21:20:29.340Z"
      },
      {
        "duration": 24,
        "start_time": "2023-05-25T21:20:29.362Z"
      },
      {
        "duration": 28,
        "start_time": "2023-05-25T21:20:29.387Z"
      },
      {
        "duration": 41,
        "start_time": "2023-05-25T21:20:29.417Z"
      },
      {
        "duration": 19,
        "start_time": "2023-05-25T21:20:29.460Z"
      },
      {
        "duration": 3172,
        "start_time": "2023-05-25T21:20:29.480Z"
      },
      {
        "duration": 7,
        "start_time": "2023-05-25T21:20:32.653Z"
      },
      {
        "duration": 6,
        "start_time": "2023-05-25T21:20:32.662Z"
      },
      {
        "duration": 7,
        "start_time": "2023-05-25T21:20:32.671Z"
      },
      {
        "duration": 17,
        "start_time": "2023-05-25T21:20:32.680Z"
      },
      {
        "duration": 40,
        "start_time": "2023-05-25T21:20:32.699Z"
      },
      {
        "duration": 207,
        "start_time": "2023-05-25T21:20:32.741Z"
      },
      {
        "duration": 256,
        "start_time": "2023-05-25T21:20:33.024Z"
      },
      {
        "duration": 4,
        "start_time": "2023-05-25T21:21:32.721Z"
      },
      {
        "duration": 4,
        "start_time": "2023-05-25T21:21:53.249Z"
      },
      {
        "duration": 20254,
        "start_time": "2023-05-26T16:35:40.652Z"
      },
      {
        "duration": 1513,
        "start_time": "2023-05-26T16:36:00.908Z"
      },
      {
        "duration": 7,
        "start_time": "2023-05-26T16:36:02.423Z"
      },
      {
        "duration": 14,
        "start_time": "2023-05-26T16:36:02.432Z"
      },
      {
        "duration": 7,
        "start_time": "2023-05-26T16:36:02.447Z"
      },
      {
        "duration": 142,
        "start_time": "2023-05-26T16:36:02.456Z"
      },
      {
        "duration": 102,
        "start_time": "2023-05-26T16:36:02.600Z"
      },
      {
        "duration": 837,
        "start_time": "2023-05-26T16:36:02.704Z"
      },
      {
        "duration": 14,
        "start_time": "2023-05-26T16:36:03.543Z"
      },
      {
        "duration": 11,
        "start_time": "2023-05-26T16:36:03.574Z"
      },
      {
        "duration": 14,
        "start_time": "2023-05-26T16:36:03.591Z"
      },
      {
        "duration": 6,
        "start_time": "2023-05-26T16:36:03.606Z"
      },
      {
        "duration": 15,
        "start_time": "2023-05-26T16:36:03.613Z"
      },
      {
        "duration": 247,
        "start_time": "2023-05-26T16:36:03.629Z"
      },
      {
        "duration": 354,
        "start_time": "2023-05-26T16:36:03.878Z"
      },
      {
        "duration": 257,
        "start_time": "2023-05-26T16:36:04.234Z"
      },
      {
        "duration": 1042,
        "start_time": "2023-05-26T16:36:04.493Z"
      },
      {
        "duration": 476,
        "start_time": "2023-05-26T16:36:05.537Z"
      },
      {
        "duration": 2,
        "start_time": "2023-05-26T16:36:06.015Z"
      },
      {
        "duration": 15,
        "start_time": "2023-05-26T16:36:06.019Z"
      },
      {
        "duration": 4,
        "start_time": "2023-05-26T16:36:06.036Z"
      },
      {
        "duration": 5,
        "start_time": "2023-05-26T16:36:06.042Z"
      },
      {
        "duration": 48,
        "start_time": "2023-05-26T16:36:06.049Z"
      },
      {
        "duration": 24,
        "start_time": "2023-05-26T16:36:06.099Z"
      },
      {
        "duration": 3031,
        "start_time": "2023-05-26T16:36:06.125Z"
      },
      {
        "duration": 6,
        "start_time": "2023-05-26T16:36:09.157Z"
      },
      {
        "duration": 15,
        "start_time": "2023-05-26T16:36:09.165Z"
      },
      {
        "duration": 11,
        "start_time": "2023-05-26T16:36:09.185Z"
      },
      {
        "duration": 5,
        "start_time": "2023-05-26T16:36:09.198Z"
      },
      {
        "duration": 80,
        "start_time": "2023-05-26T16:36:09.204Z"
      },
      {
        "duration": 192,
        "start_time": "2023-05-26T16:36:09.287Z"
      },
      {
        "duration": 8,
        "start_time": "2023-05-26T16:36:09.482Z"
      },
      {
        "duration": 199,
        "start_time": "2023-05-26T16:41:37.992Z"
      },
      {
        "duration": 5,
        "start_time": "2023-05-26T16:42:06.806Z"
      },
      {
        "duration": 30140,
        "start_time": "2023-05-26T16:42:13.836Z"
      },
      {
        "duration": 2106,
        "start_time": "2023-05-26T16:47:44.661Z"
      },
      {
        "duration": 44,
        "start_time": "2023-05-26T16:49:04.064Z"
      },
      {
        "duration": 5,
        "start_time": "2023-05-26T16:49:48.130Z"
      },
      {
        "duration": 5,
        "start_time": "2023-05-26T16:51:03.366Z"
      },
      {
        "duration": 31,
        "start_time": "2023-05-26T17:00:11.874Z"
      },
      {
        "duration": 83,
        "start_time": "2023-05-26T17:00:46.589Z"
      },
      {
        "duration": 105,
        "start_time": "2023-05-26T17:01:05.244Z"
      },
      {
        "duration": 63005,
        "start_time": "2023-05-26T17:01:17.394Z"
      },
      {
        "duration": 84037,
        "start_time": "2023-05-26T17:05:44.639Z"
      },
      {
        "duration": 209827,
        "start_time": "2023-05-26T17:07:37.954Z"
      },
      {
        "duration": 929304,
        "start_time": "2023-05-26T17:12:18.396Z"
      },
      {
        "duration": 188802,
        "start_time": "2023-05-26T17:28:16.009Z"
      },
      {
        "duration": 15,
        "start_time": "2023-05-26T17:32:37.215Z"
      },
      {
        "duration": 16,
        "start_time": "2023-05-26T17:35:43.955Z"
      },
      {
        "duration": 3,
        "start_time": "2023-05-26T17:42:33.205Z"
      },
      {
        "duration": 2,
        "start_time": "2023-05-26T17:42:52.443Z"
      },
      {
        "duration": 11263,
        "start_time": "2023-05-26T17:43:35.631Z"
      },
      {
        "duration": 1251,
        "start_time": "2023-05-26T17:43:46.897Z"
      },
      {
        "duration": 6,
        "start_time": "2023-05-26T17:43:48.150Z"
      },
      {
        "duration": 6,
        "start_time": "2023-05-26T17:43:48.159Z"
      },
      {
        "duration": 24,
        "start_time": "2023-05-26T17:43:48.166Z"
      },
      {
        "duration": 43,
        "start_time": "2023-05-26T17:43:48.192Z"
      },
      {
        "duration": 93,
        "start_time": "2023-05-26T17:43:48.236Z"
      },
      {
        "duration": 735,
        "start_time": "2023-05-26T17:43:48.331Z"
      },
      {
        "duration": 33,
        "start_time": "2023-05-26T17:43:49.068Z"
      },
      {
        "duration": 7,
        "start_time": "2023-05-26T17:43:49.104Z"
      },
      {
        "duration": 15,
        "start_time": "2023-05-26T17:43:49.112Z"
      },
      {
        "duration": 7,
        "start_time": "2023-05-26T17:43:49.128Z"
      },
      {
        "duration": 8,
        "start_time": "2023-05-26T17:43:49.136Z"
      },
      {
        "duration": 253,
        "start_time": "2023-05-26T17:43:49.146Z"
      },
      {
        "duration": 269,
        "start_time": "2023-05-26T17:43:49.400Z"
      },
      {
        "duration": 221,
        "start_time": "2023-05-26T17:43:49.675Z"
      },
      {
        "duration": 1048,
        "start_time": "2023-05-26T17:43:49.898Z"
      },
      {
        "duration": 474,
        "start_time": "2023-05-26T17:43:50.949Z"
      },
      {
        "duration": 3,
        "start_time": "2023-05-26T17:43:51.424Z"
      },
      {
        "duration": 4,
        "start_time": "2023-05-26T17:43:51.429Z"
      },
      {
        "duration": 4,
        "start_time": "2023-05-26T17:43:51.435Z"
      },
      {
        "duration": 9,
        "start_time": "2023-05-26T17:43:51.441Z"
      },
      {
        "duration": 43,
        "start_time": "2023-05-26T17:43:51.452Z"
      },
      {
        "duration": 22,
        "start_time": "2023-05-26T17:43:51.496Z"
      },
      {
        "duration": 3039,
        "start_time": "2023-05-26T17:43:51.520Z"
      },
      {
        "duration": 6,
        "start_time": "2023-05-26T17:43:54.561Z"
      },
      {
        "duration": 15,
        "start_time": "2023-05-26T17:43:54.575Z"
      },
      {
        "duration": 6,
        "start_time": "2023-05-26T17:43:54.593Z"
      },
      {
        "duration": 3,
        "start_time": "2023-05-26T17:43:54.601Z"
      },
      {
        "duration": 70,
        "start_time": "2023-05-26T17:43:54.606Z"
      },
      {
        "duration": 115,
        "start_time": "2023-05-26T17:43:54.678Z"
      },
      {
        "duration": 86,
        "start_time": "2023-05-26T17:43:54.795Z"
      },
      {
        "duration": 10,
        "start_time": "2023-05-26T17:43:54.883Z"
      },
      {
        "duration": 2211,
        "start_time": "2023-05-26T17:43:54.895Z"
      },
      {
        "duration": 31,
        "start_time": "2023-05-26T17:43:57.107Z"
      },
      {
        "duration": 4,
        "start_time": "2023-05-26T17:43:57.139Z"
      },
      {
        "duration": 14,
        "start_time": "2023-05-26T17:43:57.144Z"
      },
      {
        "duration": 22930,
        "start_time": "2023-05-26T17:43:57.160Z"
      },
      {
        "duration": 164,
        "start_time": "2023-05-26T17:44:20.092Z"
      },
      {
        "duration": 19173,
        "start_time": "2023-05-27T16:10:57.917Z"
      },
      {
        "duration": 1556,
        "start_time": "2023-05-27T16:11:17.093Z"
      },
      {
        "duration": 7,
        "start_time": "2023-05-27T16:11:18.651Z"
      },
      {
        "duration": 19,
        "start_time": "2023-05-27T16:11:18.660Z"
      },
      {
        "duration": 12,
        "start_time": "2023-05-27T16:11:18.681Z"
      },
      {
        "duration": 284,
        "start_time": "2023-05-27T16:11:18.695Z"
      },
      {
        "duration": 114,
        "start_time": "2023-05-27T16:11:18.981Z"
      },
      {
        "duration": 810,
        "start_time": "2023-05-27T16:11:19.097Z"
      },
      {
        "duration": 16,
        "start_time": "2023-05-27T16:11:19.909Z"
      },
      {
        "duration": 8,
        "start_time": "2023-05-27T16:11:19.927Z"
      },
      {
        "duration": 42,
        "start_time": "2023-05-27T16:11:19.936Z"
      },
      {
        "duration": 7,
        "start_time": "2023-05-27T16:11:19.980Z"
      },
      {
        "duration": 13,
        "start_time": "2023-05-27T16:11:19.989Z"
      },
      {
        "duration": 224,
        "start_time": "2023-05-27T16:11:20.005Z"
      },
      {
        "duration": 312,
        "start_time": "2023-05-27T16:11:20.231Z"
      },
      {
        "duration": 206,
        "start_time": "2023-05-27T16:11:20.544Z"
      },
      {
        "duration": 993,
        "start_time": "2023-05-27T16:11:20.752Z"
      },
      {
        "duration": 477,
        "start_time": "2023-05-27T16:11:21.747Z"
      },
      {
        "duration": 3,
        "start_time": "2023-05-27T16:11:22.225Z"
      },
      {
        "duration": 5,
        "start_time": "2023-05-27T16:11:22.229Z"
      },
      {
        "duration": 3,
        "start_time": "2023-05-27T16:11:22.236Z"
      },
      {
        "duration": 10,
        "start_time": "2023-05-27T16:11:22.241Z"
      },
      {
        "duration": 49,
        "start_time": "2023-05-27T16:11:22.253Z"
      },
      {
        "duration": 20,
        "start_time": "2023-05-27T16:11:22.304Z"
      },
      {
        "duration": 3042,
        "start_time": "2023-05-27T16:11:22.326Z"
      },
      {
        "duration": 10,
        "start_time": "2023-05-27T16:11:25.370Z"
      },
      {
        "duration": 7,
        "start_time": "2023-05-27T16:11:25.383Z"
      },
      {
        "duration": 6,
        "start_time": "2023-05-27T16:11:25.392Z"
      },
      {
        "duration": 5,
        "start_time": "2023-05-27T16:11:25.400Z"
      },
      {
        "duration": 73,
        "start_time": "2023-05-27T16:11:25.407Z"
      },
      {
        "duration": 9,
        "start_time": "2023-05-27T16:11:29.650Z"
      },
      {
        "duration": 5,
        "start_time": "2023-05-27T16:11:31.130Z"
      },
      {
        "duration": 3,
        "start_time": "2023-05-27T16:11:51.799Z"
      },
      {
        "duration": 1684,
        "start_time": "2023-05-27T16:11:52.273Z"
      },
      {
        "duration": 122,
        "start_time": "2023-05-27T16:11:54.335Z"
      },
      {
        "duration": 4,
        "start_time": "2023-05-27T16:11:54.943Z"
      },
      {
        "duration": 4,
        "start_time": "2023-05-27T16:12:01.984Z"
      },
      {
        "duration": 410857,
        "start_time": "2023-05-27T16:16:11.828Z"
      },
      {
        "duration": 647965,
        "start_time": "2023-05-27T16:38:21.019Z"
      },
      {
        "duration": 38798,
        "start_time": "2023-05-27T16:51:28.890Z"
      },
      {
        "duration": 1801,
        "start_time": "2023-05-27T16:52:50.686Z"
      },
      {
        "duration": 137,
        "start_time": "2023-05-27T16:54:09.382Z"
      },
      {
        "duration": 47054,
        "start_time": "2023-05-27T16:56:28.729Z"
      },
      {
        "duration": 15,
        "start_time": "2023-05-27T16:57:29.501Z"
      },
      {
        "duration": 14,
        "start_time": "2023-05-27T16:57:47.854Z"
      },
      {
        "duration": 50,
        "start_time": "2023-05-27T16:59:30.633Z"
      },
      {
        "duration": 14,
        "start_time": "2023-05-27T17:00:14.874Z"
      },
      {
        "duration": 14,
        "start_time": "2023-05-27T17:00:33.914Z"
      },
      {
        "duration": 5,
        "start_time": "2023-05-27T17:00:44.796Z"
      },
      {
        "duration": 9,
        "start_time": "2023-05-27T17:38:32.785Z"
      },
      {
        "duration": 14,
        "start_time": "2023-05-27T17:38:33.630Z"
      },
      {
        "duration": 4,
        "start_time": "2023-05-27T17:38:46.321Z"
      },
      {
        "duration": 3,
        "start_time": "2023-05-27T17:39:12.450Z"
      },
      {
        "duration": 2,
        "start_time": "2023-05-27T17:39:13.331Z"
      },
      {
        "duration": 3,
        "start_time": "2023-05-27T18:03:14.600Z"
      },
      {
        "duration": 118516,
        "start_time": "2023-05-27T18:07:30.731Z"
      },
      {
        "duration": 3,
        "start_time": "2023-05-27T18:14:12.382Z"
      },
      {
        "duration": 6291,
        "start_time": "2023-05-27T18:17:12.432Z"
      },
      {
        "duration": 6229,
        "start_time": "2023-05-27T18:17:56.373Z"
      },
      {
        "duration": 6,
        "start_time": "2023-05-27T18:21:50.731Z"
      },
      {
        "duration": 5,
        "start_time": "2023-05-27T18:22:38.712Z"
      },
      {
        "duration": 3,
        "start_time": "2023-05-27T18:28:50.613Z"
      },
      {
        "duration": 7,
        "start_time": "2023-05-27T18:29:21.775Z"
      },
      {
        "duration": 3,
        "start_time": "2023-05-27T18:29:33.374Z"
      },
      {
        "duration": 3,
        "start_time": "2023-05-27T18:30:01.318Z"
      },
      {
        "duration": 4,
        "start_time": "2023-05-27T18:30:41.389Z"
      },
      {
        "duration": 11,
        "start_time": "2023-05-27T18:30:42.384Z"
      },
      {
        "duration": 130,
        "start_time": "2023-05-27T18:32:35.810Z"
      },
      {
        "duration": 3,
        "start_time": "2023-05-27T18:33:22.109Z"
      },
      {
        "duration": 7,
        "start_time": "2023-05-27T18:33:22.382Z"
      },
      {
        "duration": 12,
        "start_time": "2023-05-27T18:47:43.622Z"
      },
      {
        "duration": 4,
        "start_time": "2023-05-27T18:47:43.982Z"
      },
      {
        "duration": 12,
        "start_time": "2023-05-27T19:01:17.425Z"
      },
      {
        "duration": 9798,
        "start_time": "2023-05-27T19:01:31.191Z"
      },
      {
        "duration": 1604,
        "start_time": "2023-05-27T19:01:40.992Z"
      },
      {
        "duration": 8,
        "start_time": "2023-05-27T19:01:42.598Z"
      },
      {
        "duration": 42,
        "start_time": "2023-05-27T19:01:42.608Z"
      },
      {
        "duration": 24,
        "start_time": "2023-05-27T19:01:42.652Z"
      },
      {
        "duration": 217,
        "start_time": "2023-05-27T19:01:42.679Z"
      },
      {
        "duration": 98,
        "start_time": "2023-05-27T19:01:42.897Z"
      },
      {
        "duration": 732,
        "start_time": "2023-05-27T19:01:42.996Z"
      },
      {
        "duration": 16,
        "start_time": "2023-05-27T19:01:43.729Z"
      },
      {
        "duration": 14,
        "start_time": "2023-05-27T19:01:43.747Z"
      },
      {
        "duration": 13,
        "start_time": "2023-05-27T19:01:43.778Z"
      },
      {
        "duration": 7,
        "start_time": "2023-05-27T19:01:43.792Z"
      },
      {
        "duration": 12,
        "start_time": "2023-05-27T19:01:43.800Z"
      },
      {
        "duration": 226,
        "start_time": "2023-05-27T19:01:43.814Z"
      },
      {
        "duration": 303,
        "start_time": "2023-05-27T19:01:44.042Z"
      },
      {
        "duration": 220,
        "start_time": "2023-05-27T19:01:44.347Z"
      },
      {
        "duration": 1030,
        "start_time": "2023-05-27T19:01:44.569Z"
      },
      {
        "duration": 525,
        "start_time": "2023-05-27T19:01:45.600Z"
      },
      {
        "duration": 3,
        "start_time": "2023-05-27T19:01:46.127Z"
      },
      {
        "duration": 6,
        "start_time": "2023-05-27T19:01:46.131Z"
      },
      {
        "duration": 3,
        "start_time": "2023-05-27T19:01:46.139Z"
      },
      {
        "duration": 5,
        "start_time": "2023-05-27T19:01:46.144Z"
      },
      {
        "duration": 47,
        "start_time": "2023-05-27T19:01:46.151Z"
      },
      {
        "duration": 22,
        "start_time": "2023-05-27T19:01:46.199Z"
      },
      {
        "duration": 3037,
        "start_time": "2023-05-27T19:01:46.223Z"
      },
      {
        "duration": 6,
        "start_time": "2023-05-27T19:01:49.262Z"
      },
      {
        "duration": 21,
        "start_time": "2023-05-27T19:01:49.277Z"
      },
      {
        "duration": 6,
        "start_time": "2023-05-27T19:01:49.302Z"
      },
      {
        "duration": 5,
        "start_time": "2023-05-27T19:01:49.309Z"
      },
      {
        "duration": 67,
        "start_time": "2023-05-27T19:01:49.315Z"
      },
      {
        "duration": 96,
        "start_time": "2023-05-27T19:01:49.384Z"
      },
      {
        "duration": 5,
        "start_time": "2023-05-27T19:01:49.482Z"
      },
      {
        "duration": 2,
        "start_time": "2023-05-27T19:01:49.489Z"
      },
      {
        "duration": 1897,
        "start_time": "2023-05-27T19:01:49.585Z"
      },
      {
        "duration": 30,
        "start_time": "2023-05-27T19:01:51.484Z"
      },
      {
        "duration": 4,
        "start_time": "2023-05-27T19:01:51.515Z"
      },
      {
        "duration": 3,
        "start_time": "2023-05-27T19:01:51.522Z"
      },
      {
        "duration": 169058,
        "start_time": "2023-05-27T19:01:51.527Z"
      },
      {
        "duration": 97,
        "start_time": "2023-05-27T19:04:40.586Z"
      },
      {
        "duration": 5,
        "start_time": "2023-05-27T19:04:40.685Z"
      },
      {
        "duration": 18,
        "start_time": "2023-05-27T19:04:40.691Z"
      },
      {
        "duration": 37,
        "start_time": "2023-05-27T19:04:40.710Z"
      },
      {
        "duration": 21,
        "start_time": "2023-05-27T19:04:40.749Z"
      },
      {
        "duration": 6447,
        "start_time": "2023-05-27T19:04:40.771Z"
      },
      {
        "duration": 5,
        "start_time": "2023-05-27T19:04:47.220Z"
      },
      {
        "duration": 4,
        "start_time": "2023-05-27T19:04:47.226Z"
      },
      {
        "duration": 12,
        "start_time": "2023-05-27T19:04:47.231Z"
      },
      {
        "duration": 23,
        "start_time": "2023-05-27T19:04:47.245Z"
      },
      {
        "duration": 15,
        "start_time": "2023-05-27T19:04:47.270Z"
      },
      {
        "duration": 12,
        "start_time": "2023-05-27T19:04:47.286Z"
      },
      {
        "duration": 81,
        "start_time": "2023-05-27T19:08:09.387Z"
      },
      {
        "duration": 2896,
        "start_time": "2023-05-27T19:14:16.331Z"
      },
      {
        "duration": 17081,
        "start_time": "2023-05-27T20:24:05.755Z"
      },
      {
        "duration": 1358,
        "start_time": "2023-05-27T20:24:22.838Z"
      },
      {
        "duration": 7,
        "start_time": "2023-05-27T20:24:24.198Z"
      },
      {
        "duration": 20,
        "start_time": "2023-05-27T20:24:24.207Z"
      },
      {
        "duration": 7,
        "start_time": "2023-05-27T20:24:24.229Z"
      },
      {
        "duration": 142,
        "start_time": "2023-05-27T20:24:24.238Z"
      },
      {
        "duration": 92,
        "start_time": "2023-05-27T20:24:24.382Z"
      },
      {
        "duration": 717,
        "start_time": "2023-05-27T20:24:24.475Z"
      },
      {
        "duration": 15,
        "start_time": "2023-05-27T20:24:25.194Z"
      },
      {
        "duration": 8,
        "start_time": "2023-05-27T20:24:25.212Z"
      },
      {
        "duration": 41,
        "start_time": "2023-05-27T20:24:25.221Z"
      },
      {
        "duration": 8,
        "start_time": "2023-05-27T20:24:25.264Z"
      },
      {
        "duration": 11,
        "start_time": "2023-05-27T20:24:25.273Z"
      },
      {
        "duration": 234,
        "start_time": "2023-05-27T20:24:25.285Z"
      },
      {
        "duration": 300,
        "start_time": "2023-05-27T20:24:25.521Z"
      },
      {
        "duration": 211,
        "start_time": "2023-05-27T20:24:25.823Z"
      },
      {
        "duration": 1004,
        "start_time": "2023-05-27T20:24:26.036Z"
      },
      {
        "duration": 505,
        "start_time": "2023-05-27T20:24:27.042Z"
      },
      {
        "duration": 4,
        "start_time": "2023-05-27T20:24:27.556Z"
      },
      {
        "duration": 25,
        "start_time": "2023-05-27T20:24:27.561Z"
      },
      {
        "duration": 275,
        "start_time": "2023-05-27T20:24:27.588Z"
      },
      {
        "duration": 10056,
        "start_time": "2023-05-27T20:34:02.006Z"
      },
      {
        "duration": 6,
        "start_time": "2023-05-27T20:34:12.065Z"
      },
      {
        "duration": 133,
        "start_time": "2023-05-27T20:34:12.073Z"
      },
      {
        "duration": 10,
        "start_time": "2023-05-27T20:34:12.210Z"
      },
      {
        "duration": 7,
        "start_time": "2023-05-27T20:34:12.222Z"
      },
      {
        "duration": 48,
        "start_time": "2023-05-27T20:34:12.231Z"
      },
      {
        "duration": 92,
        "start_time": "2023-05-27T20:34:12.281Z"
      },
      {
        "duration": 826,
        "start_time": "2023-05-27T20:34:12.375Z"
      },
      {
        "duration": 16,
        "start_time": "2023-05-27T20:34:13.203Z"
      },
      {
        "duration": 7,
        "start_time": "2023-05-27T20:34:13.222Z"
      },
      {
        "duration": 40,
        "start_time": "2023-05-27T20:34:13.230Z"
      },
      {
        "duration": 7,
        "start_time": "2023-05-27T20:34:13.271Z"
      },
      {
        "duration": 10,
        "start_time": "2023-05-27T20:34:13.279Z"
      },
      {
        "duration": 227,
        "start_time": "2023-05-27T20:34:13.290Z"
      },
      {
        "duration": 201,
        "start_time": "2023-05-27T20:34:13.519Z"
      },
      {
        "duration": 204,
        "start_time": "2023-05-27T20:34:13.722Z"
      },
      {
        "duration": 1014,
        "start_time": "2023-05-27T20:34:13.928Z"
      },
      {
        "duration": 613,
        "start_time": "2023-05-27T20:34:14.943Z"
      },
      {
        "duration": 4,
        "start_time": "2023-05-27T20:34:15.558Z"
      },
      {
        "duration": 28,
        "start_time": "2023-05-27T20:34:15.563Z"
      },
      {
        "duration": 253,
        "start_time": "2023-05-27T20:34:15.592Z"
      },
      {
        "duration": 24,
        "start_time": "2023-05-27T20:34:15.847Z"
      },
      {
        "duration": 2939,
        "start_time": "2023-05-27T20:34:15.872Z"
      },
      {
        "duration": 7,
        "start_time": "2023-05-27T20:34:18.814Z"
      },
      {
        "duration": 82,
        "start_time": "2023-05-27T20:34:18.823Z"
      },
      {
        "duration": 18644,
        "start_time": "2023-05-28T13:26:50.254Z"
      },
      {
        "duration": 1586,
        "start_time": "2023-05-28T13:27:08.900Z"
      },
      {
        "duration": 7,
        "start_time": "2023-05-28T13:27:10.488Z"
      },
      {
        "duration": 141,
        "start_time": "2023-05-28T13:27:10.497Z"
      },
      {
        "duration": 84,
        "start_time": "2023-05-28T13:27:10.640Z"
      },
      {
        "duration": 764,
        "start_time": "2023-05-28T13:27:10.725Z"
      },
      {
        "duration": 15,
        "start_time": "2023-05-28T13:27:11.491Z"
      },
      {
        "duration": 21,
        "start_time": "2023-05-28T13:27:11.507Z"
      },
      {
        "duration": 15,
        "start_time": "2023-05-28T13:27:11.530Z"
      },
      {
        "duration": 6,
        "start_time": "2023-05-28T13:27:11.547Z"
      },
      {
        "duration": 10,
        "start_time": "2023-05-28T13:27:11.554Z"
      },
      {
        "duration": 394,
        "start_time": "2023-05-28T13:27:11.566Z"
      },
      {
        "duration": 509,
        "start_time": "2023-05-28T13:27:25.958Z"
      },
      {
        "duration": 429,
        "start_time": "2023-05-28T13:27:38.806Z"
      },
      {
        "duration": 119,
        "start_time": "2023-05-28T13:33:38.303Z"
      },
      {
        "duration": 16,
        "start_time": "2023-05-28T13:33:50.209Z"
      },
      {
        "duration": 7,
        "start_time": "2023-05-28T13:33:51.146Z"
      },
      {
        "duration": 8,
        "start_time": "2023-05-28T13:33:51.507Z"
      },
      {
        "duration": 445,
        "start_time": "2023-05-28T13:33:52.066Z"
      },
      {
        "duration": 239,
        "start_time": "2023-05-28T13:33:52.513Z"
      },
      {
        "duration": 257,
        "start_time": "2023-05-28T13:33:52.755Z"
      },
      {
        "duration": 1245,
        "start_time": "2023-05-28T13:33:53.014Z"
      },
      {
        "duration": 507,
        "start_time": "2023-05-28T13:33:54.261Z"
      },
      {
        "duration": 5,
        "start_time": "2023-05-28T13:33:54.770Z"
      },
      {
        "duration": 119,
        "start_time": "2023-05-28T13:33:55.050Z"
      },
      {
        "duration": 393,
        "start_time": "2023-05-28T13:33:56.305Z"
      },
      {
        "duration": 6249,
        "start_time": "2023-05-28T13:33:57.463Z"
      },
      {
        "duration": 3,
        "start_time": "2023-05-28T13:41:20.274Z"
      },
      {
        "duration": 11,
        "start_time": "2023-05-28T13:41:29.567Z"
      },
      {
        "duration": 8,
        "start_time": "2023-05-28T13:42:50.366Z"
      },
      {
        "duration": 35,
        "start_time": "2023-05-28T13:42:54.080Z"
      },
      {
        "duration": 6204,
        "start_time": "2023-05-28T13:42:55.978Z"
      },
      {
        "duration": 8,
        "start_time": "2023-05-28T13:43:20.469Z"
      },
      {
        "duration": 26,
        "start_time": "2023-05-28T13:43:35.370Z"
      },
      {
        "duration": 10,
        "start_time": "2023-05-28T13:43:47.589Z"
      },
      {
        "duration": 5,
        "start_time": "2023-05-28T13:44:23.404Z"
      },
      {
        "duration": 25,
        "start_time": "2023-05-28T13:44:47.558Z"
      },
      {
        "duration": 38,
        "start_time": "2023-05-28T13:46:13.799Z"
      },
      {
        "duration": 6,
        "start_time": "2023-05-28T13:46:20.774Z"
      },
      {
        "duration": 7,
        "start_time": "2023-05-28T13:47:08.462Z"
      },
      {
        "duration": 7,
        "start_time": "2023-05-28T13:47:14.962Z"
      },
      {
        "duration": 4,
        "start_time": "2023-05-28T13:47:16.058Z"
      },
      {
        "duration": 3,
        "start_time": "2023-05-28T18:34:28.616Z"
      },
      {
        "duration": 3,
        "start_time": "2023-05-28T18:36:23.509Z"
      },
      {
        "duration": 3,
        "start_time": "2023-05-28T18:36:31.070Z"
      },
      {
        "duration": 3,
        "start_time": "2023-05-28T18:36:43.807Z"
      },
      {
        "duration": 13967,
        "start_time": "2023-05-28T18:36:55.802Z"
      },
      {
        "duration": 13151,
        "start_time": "2023-05-28T18:37:59.689Z"
      },
      {
        "duration": 21,
        "start_time": "2023-05-28T18:46:18.354Z"
      },
      {
        "duration": 2399107,
        "start_time": "2023-05-28T18:46:51.950Z"
      },
      {
        "duration": 4,
        "start_time": "2023-05-28T19:27:28.518Z"
      },
      {
        "duration": 3,
        "start_time": "2023-05-28T19:30:14.818Z"
      },
      {
        "duration": 169,
        "start_time": "2023-05-28T19:35:10.212Z"
      },
      {
        "duration": 172229,
        "start_time": "2023-05-28T19:35:45.487Z"
      },
      {
        "duration": 8,
        "start_time": "2023-05-28T19:43:00.181Z"
      },
      {
        "duration": 2,
        "start_time": "2023-05-28T19:43:00.449Z"
      },
      {
        "duration": 171363,
        "start_time": "2023-05-28T19:45:26.678Z"
      },
      {
        "duration": 21070,
        "start_time": "2023-05-29T17:49:23.523Z"
      },
      {
        "duration": 2158,
        "start_time": "2023-05-29T17:49:44.596Z"
      },
      {
        "duration": 4,
        "start_time": "2023-05-29T17:49:46.761Z"
      },
      {
        "duration": 513,
        "start_time": "2023-05-29T17:49:46.767Z"
      },
      {
        "duration": 508,
        "start_time": "2023-05-29T17:49:47.281Z"
      },
      {
        "duration": 108,
        "start_time": "2023-05-29T17:49:47.790Z"
      },
      {
        "duration": 795,
        "start_time": "2023-05-29T17:49:47.900Z"
      },
      {
        "duration": 22,
        "start_time": "2023-05-29T17:49:54.540Z"
      },
      {
        "duration": 8,
        "start_time": "2023-05-29T17:49:55.959Z"
      },
      {
        "duration": 14,
        "start_time": "2023-05-29T17:49:56.197Z"
      },
      {
        "duration": 6,
        "start_time": "2023-05-29T17:49:57.100Z"
      },
      {
        "duration": 10,
        "start_time": "2023-05-29T17:49:57.953Z"
      },
      {
        "duration": 531,
        "start_time": "2023-05-29T17:49:58.800Z"
      },
      {
        "duration": 332,
        "start_time": "2023-05-29T17:49:59.657Z"
      },
      {
        "duration": 299,
        "start_time": "2023-05-29T17:50:00.820Z"
      },
      {
        "duration": 1083,
        "start_time": "2023-05-29T17:50:02.358Z"
      },
      {
        "duration": 566,
        "start_time": "2023-05-29T17:50:04.152Z"
      },
      {
        "duration": 6,
        "start_time": "2023-05-29T17:50:07.158Z"
      },
      {
        "duration": 149,
        "start_time": "2023-05-29T17:50:09.522Z"
      },
      {
        "duration": 346,
        "start_time": "2023-05-29T17:50:14.492Z"
      },
      {
        "duration": 16,
        "start_time": "2023-05-29T17:50:17.251Z"
      },
      {
        "duration": 7,
        "start_time": "2023-05-29T17:50:34.888Z"
      },
      {
        "duration": 41,
        "start_time": "2023-05-29T17:50:38.632Z"
      },
      {
        "duration": 10,
        "start_time": "2023-05-29T17:50:39.904Z"
      },
      {
        "duration": 36,
        "start_time": "2023-05-29T17:50:41.143Z"
      },
      {
        "duration": 8,
        "start_time": "2023-05-29T17:50:45.854Z"
      },
      {
        "duration": 14,
        "start_time": "2023-05-29T17:50:47.024Z"
      },
      {
        "duration": 4,
        "start_time": "2023-05-29T17:50:49.701Z"
      },
      {
        "duration": 3,
        "start_time": "2023-05-29T17:51:10.560Z"
      },
      {
        "duration": 3,
        "start_time": "2023-05-29T17:51:11.051Z"
      },
      {
        "duration": 3,
        "start_time": "2023-05-29T17:51:12.208Z"
      },
      {
        "duration": 15205,
        "start_time": "2023-05-29T17:51:12.852Z"
      },
      {
        "duration": 6,
        "start_time": "2023-05-29T17:51:28.064Z"
      },
      {
        "duration": 25,
        "start_time": "2023-05-29T17:51:28.124Z"
      },
      {
        "duration": 155351,
        "start_time": "2023-05-29T17:51:28.151Z"
      },
      {
        "duration": 4,
        "start_time": "2023-05-29T18:08:19.776Z"
      },
      {
        "duration": 193,
        "start_time": "2023-05-29T18:12:39.610Z"
      },
      {
        "duration": 3,
        "start_time": "2023-05-29T18:13:28.701Z"
      },
      {
        "duration": 18,
        "start_time": "2023-05-29T18:13:43.275Z"
      },
      {
        "duration": 2637751,
        "start_time": "2023-05-29T18:14:26.682Z"
      },
      {
        "duration": 60379,
        "start_time": "2023-05-29T18:59:07.035Z"
      },
      {
        "duration": 450665,
        "start_time": "2023-05-29T19:01:15.601Z"
      },
      {
        "duration": 398856,
        "start_time": "2023-05-29T19:09:14.801Z"
      },
      {
        "duration": 75,
        "start_time": "2023-05-29T19:26:33.754Z"
      },
      {
        "duration": 87,
        "start_time": "2023-05-29T19:27:17.982Z"
      },
      {
        "duration": 11,
        "start_time": "2023-05-29T19:27:32.795Z"
      },
      {
        "duration": 96234,
        "start_time": "2023-05-29T19:27:39.904Z"
      },
      {
        "duration": 96938,
        "start_time": "2023-05-29T19:29:47.580Z"
      },
      {
        "duration": 91,
        "start_time": "2023-05-29T19:34:16.504Z"
      },
      {
        "duration": 28188,
        "start_time": "2023-05-29T19:57:02.657Z"
      },
      {
        "duration": 3,
        "start_time": "2023-05-29T19:58:42.505Z"
      },
      {
        "duration": 7,
        "start_time": "2023-05-29T19:58:45.200Z"
      },
      {
        "duration": 34,
        "start_time": "2023-05-29T20:02:02.418Z"
      },
      {
        "duration": 21,
        "start_time": "2023-05-29T20:02:12.151Z"
      },
      {
        "duration": 5,
        "start_time": "2023-05-29T20:02:12.564Z"
      },
      {
        "duration": 4,
        "start_time": "2023-05-29T20:03:47.410Z"
      },
      {
        "duration": 27,
        "start_time": "2023-05-29T20:04:42.838Z"
      },
      {
        "duration": 10,
        "start_time": "2023-05-29T20:05:25.594Z"
      },
      {
        "duration": 23,
        "start_time": "2023-05-29T20:06:24.966Z"
      },
      {
        "duration": 50,
        "start_time": "2023-05-29T20:06:39.632Z"
      },
      {
        "duration": 23,
        "start_time": "2023-05-29T20:06:50.899Z"
      },
      {
        "duration": 32,
        "start_time": "2023-05-29T20:07:03.248Z"
      },
      {
        "duration": 28,
        "start_time": "2023-05-29T20:07:50.861Z"
      },
      {
        "duration": 9,
        "start_time": "2023-05-29T20:15:02.570Z"
      },
      {
        "duration": 11,
        "start_time": "2023-05-29T20:15:22.517Z"
      },
      {
        "duration": 6,
        "start_time": "2023-05-29T20:18:41.607Z"
      },
      {
        "duration": 32,
        "start_time": "2023-05-29T20:18:53.307Z"
      },
      {
        "duration": 5,
        "start_time": "2023-05-29T20:19:30.851Z"
      },
      {
        "duration": 9,
        "start_time": "2023-05-29T20:19:52.843Z"
      },
      {
        "duration": 6,
        "start_time": "2023-05-29T20:20:47.714Z"
      },
      {
        "duration": 5,
        "start_time": "2023-05-29T20:20:47.816Z"
      },
      {
        "duration": 4,
        "start_time": "2023-05-29T20:24:05.248Z"
      },
      {
        "duration": 12655,
        "start_time": "2023-05-29T20:25:54.897Z"
      },
      {
        "duration": 2078,
        "start_time": "2023-05-29T20:26:07.554Z"
      },
      {
        "duration": 5,
        "start_time": "2023-05-29T20:26:09.637Z"
      },
      {
        "duration": 17,
        "start_time": "2023-05-29T20:26:09.644Z"
      },
      {
        "duration": 87,
        "start_time": "2023-05-29T20:26:09.663Z"
      },
      {
        "duration": 108,
        "start_time": "2023-05-29T20:26:09.758Z"
      },
      {
        "duration": 721,
        "start_time": "2023-05-29T20:26:09.867Z"
      },
      {
        "duration": 14,
        "start_time": "2023-05-29T20:26:10.590Z"
      },
      {
        "duration": 44,
        "start_time": "2023-05-29T20:26:10.606Z"
      },
      {
        "duration": 17,
        "start_time": "2023-05-29T20:26:10.653Z"
      },
      {
        "duration": 6,
        "start_time": "2023-05-29T20:26:10.671Z"
      },
      {
        "duration": 14,
        "start_time": "2023-05-29T20:26:10.678Z"
      },
      {
        "duration": 517,
        "start_time": "2023-05-29T20:26:10.693Z"
      },
      {
        "duration": 278,
        "start_time": "2023-05-29T20:26:11.212Z"
      },
      {
        "duration": 218,
        "start_time": "2023-05-29T20:26:11.491Z"
      },
      {
        "duration": 1054,
        "start_time": "2023-05-29T20:26:11.711Z"
      },
      {
        "duration": 509,
        "start_time": "2023-05-29T20:26:12.767Z"
      },
      {
        "duration": 5,
        "start_time": "2023-05-29T20:26:13.278Z"
      },
      {
        "duration": 139,
        "start_time": "2023-05-29T20:26:13.284Z"
      },
      {
        "duration": 292,
        "start_time": "2023-05-29T20:26:13.424Z"
      },
      {
        "duration": 22,
        "start_time": "2023-05-29T20:26:13.717Z"
      },
      {
        "duration": 8,
        "start_time": "2023-05-29T20:26:13.747Z"
      },
      {
        "duration": 34,
        "start_time": "2023-05-29T20:26:13.757Z"
      },
      {
        "duration": 7,
        "start_time": "2023-05-29T20:26:13.792Z"
      },
      {
        "duration": 49,
        "start_time": "2023-05-29T20:26:13.800Z"
      },
      {
        "duration": 5,
        "start_time": "2023-05-29T20:26:13.851Z"
      },
      {
        "duration": 9,
        "start_time": "2023-05-29T20:26:13.858Z"
      },
      {
        "duration": 3,
        "start_time": "2023-05-29T20:26:13.870Z"
      },
      {
        "duration": 24,
        "start_time": "2023-05-29T20:26:13.875Z"
      },
      {
        "duration": 5656,
        "start_time": "2023-05-29T20:26:13.901Z"
      },
      {
        "duration": 167,
        "start_time": "2023-05-29T20:26:19.560Z"
      },
      {
        "duration": 4,
        "start_time": "2023-05-29T20:26:19.731Z"
      },
      {
        "duration": 10,
        "start_time": "2023-05-29T20:26:19.739Z"
      },
      {
        "duration": 149940,
        "start_time": "2023-05-29T20:26:19.754Z"
      },
      {
        "duration": 47,
        "start_time": "2023-05-29T20:28:49.696Z"
      },
      {
        "duration": 4,
        "start_time": "2023-05-29T20:28:49.749Z"
      },
      {
        "duration": 356878,
        "start_time": "2023-05-29T20:28:49.754Z"
      },
      {
        "duration": 29,
        "start_time": "2023-05-29T20:34:46.634Z"
      },
      {
        "duration": 3,
        "start_time": "2023-05-29T20:34:46.664Z"
      },
      {
        "duration": 2954,
        "start_time": "2023-05-29T20:34:46.668Z"
      },
      {
        "duration": 28,
        "start_time": "2023-05-29T20:34:49.623Z"
      },
      {
        "duration": 0,
        "start_time": "2023-05-29T20:34:49.653Z"
      },
      {
        "duration": 0,
        "start_time": "2023-05-29T20:34:49.654Z"
      },
      {
        "duration": 0,
        "start_time": "2023-05-29T20:34:49.655Z"
      },
      {
        "duration": 0,
        "start_time": "2023-05-29T20:34:49.657Z"
      },
      {
        "duration": 0,
        "start_time": "2023-05-29T20:34:49.658Z"
      },
      {
        "duration": 0,
        "start_time": "2023-05-29T20:34:49.659Z"
      },
      {
        "duration": 24709,
        "start_time": "2023-05-29T20:36:59.454Z"
      },
      {
        "duration": 4,
        "start_time": "2023-05-29T20:37:31.514Z"
      },
      {
        "duration": 8,
        "start_time": "2023-05-29T20:37:34.604Z"
      },
      {
        "duration": 39,
        "start_time": "2023-05-29T20:37:44.415Z"
      },
      {
        "duration": 11,
        "start_time": "2023-05-29T20:37:45.307Z"
      },
      {
        "duration": 3,
        "start_time": "2023-05-29T20:37:46.079Z"
      },
      {
        "duration": 9,
        "start_time": "2023-05-29T20:37:48.345Z"
      },
      {
        "duration": 5,
        "start_time": "2023-05-29T20:37:48.887Z"
      },
      {
        "duration": 7,
        "start_time": "2023-05-29T20:43:26.543Z"
      },
      {
        "duration": 4,
        "start_time": "2023-05-29T20:43:27.249Z"
      },
      {
        "duration": 4,
        "start_time": "2023-05-29T20:43:52.552Z"
      },
      {
        "duration": 4,
        "start_time": "2023-05-29T20:44:13.951Z"
      },
      {
        "duration": 3,
        "start_time": "2023-05-29T20:44:26.151Z"
      },
      {
        "duration": 97,
        "start_time": "2023-05-29T20:51:52.402Z"
      },
      {
        "duration": 74,
        "start_time": "2023-05-29T20:53:25.747Z"
      },
      {
        "duration": 88,
        "start_time": "2023-05-29T20:56:29.453Z"
      },
      {
        "duration": 4,
        "start_time": "2023-05-29T20:58:09.896Z"
      },
      {
        "duration": 100,
        "start_time": "2023-05-29T20:59:32.288Z"
      },
      {
        "duration": 16456,
        "start_time": "2023-05-29T21:39:18.955Z"
      },
      {
        "duration": 1258,
        "start_time": "2023-05-29T21:39:35.414Z"
      },
      {
        "duration": 3,
        "start_time": "2023-05-29T21:39:36.674Z"
      },
      {
        "duration": 20,
        "start_time": "2023-05-29T21:39:36.678Z"
      },
      {
        "duration": 52,
        "start_time": "2023-05-29T21:39:36.700Z"
      },
      {
        "duration": 86,
        "start_time": "2023-05-29T21:39:36.754Z"
      },
      {
        "duration": 688,
        "start_time": "2023-05-29T21:39:36.842Z"
      },
      {
        "duration": 14,
        "start_time": "2023-05-29T21:39:37.532Z"
      },
      {
        "duration": 13,
        "start_time": "2023-05-29T21:39:37.548Z"
      },
      {
        "duration": 19,
        "start_time": "2023-05-29T21:39:37.562Z"
      },
      {
        "duration": 5,
        "start_time": "2023-05-29T21:39:37.583Z"
      },
      {
        "duration": 10,
        "start_time": "2023-05-29T21:39:37.590Z"
      },
      {
        "duration": 23,
        "start_time": "2023-05-29T21:39:37.601Z"
      },
      {
        "duration": 126,
        "start_time": "2023-05-29T21:39:37.627Z"
      },
      {
        "duration": 9,
        "start_time": "2023-05-29T21:39:40.515Z"
      },
      {
        "duration": 31,
        "start_time": "2023-05-29T21:39:44.031Z"
      },
      {
        "duration": 7,
        "start_time": "2023-05-29T21:39:51.898Z"
      },
      {
        "duration": 9,
        "start_time": "2023-05-29T21:39:53.110Z"
      },
      {
        "duration": 5,
        "start_time": "2023-05-29T21:40:01.614Z"
      },
      {
        "duration": 164,
        "start_time": "2023-06-09T18:27:00.084Z"
      }
    ],
    "kernelspec": {
      "display_name": "Python 3 (ipykernel)",
      "language": "python",
      "name": "python3"
    },
    "language_info": {
      "codemirror_mode": {
        "name": "ipython",
        "version": 3
      },
      "file_extension": ".py",
      "mimetype": "text/x-python",
      "name": "python",
      "nbconvert_exporter": "python",
      "pygments_lexer": "ipython3",
      "version": "3.9.5"
    },
    "toc": {
      "base_numbering": 1,
      "nav_menu": {},
      "number_sections": true,
      "sideBar": true,
      "skip_h1_title": true,
      "title_cell": "Содержание",
      "title_sidebar": "Contents",
      "toc_cell": true,
      "toc_position": {},
      "toc_section_display": true,
      "toc_window_display": false
    },
    "colab": {
      "provenance": []
    }
  },
  "nbformat": 4,
  "nbformat_minor": 0
}