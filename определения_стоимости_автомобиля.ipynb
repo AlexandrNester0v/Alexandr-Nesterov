{
  "cells": [
    {
      "cell_type": "markdown",
      "metadata": {
        "id": "M6DGMFyz2zUK"
      },
      "source": [
        "# Определение стоимости автомобилей"
      ]
    },
    {
      "cell_type": "markdown",
      "metadata": {
        "id": "pH162Sn52zUL"
      },
      "source": [
        "Сервис по продаже автомобилей с пробегом «Не бит, не крашен» разрабатывает приложение для привлечения новых клиентов. В нём можно быстро узнать рыночную стоимость своего автомобиля. В вашем распоряжении исторические данные: технические характеристики, комплектации и цены автомобилей. Вам нужно построить модель для определения стоимости.\n",
        "\n",
        "Заказчику важны:\n",
        "\n",
        "- качество предсказания;\n",
        "- скорость предсказания;\n",
        "- время обучения."
      ]
    },
    {
      "cell_type": "markdown",
      "metadata": {
        "id": "g8Tm6Lhb2zUM"
      },
      "source": [
        "Признаки:\n",
        "\n",
        "- DateCrawled — дата скачивания анкеты из базы\n",
        "- VehicleType — тип автомобильного кузова\n",
        "- RegistrationYear — год регистрации автомобиля\n",
        "- Gearbox — тип коробки передач\n",
        "- Power — мощность (л. с.)\n",
        "- Model — модель автомобиля\n",
        "- Kilometer — пробег (км)\n",
        "- RegistrationMonth — месяц регистрации автомобиля\n",
        "- FuelType — тип топлива\n",
        "- Brand — марка автомобиля\n",
        "- Repaired — была машина в ремонте или нет\n",
        "- DateCreated — дата создания анкеты\n",
        "- NumberOfPictures — количество фотографий автомобиля\n",
        "- PostalCode — почтовый индекс владельца анкеты (пользователя)\n",
        "- LastSeen — дата последней активности пользователя"
      ]
    },
    {
      "cell_type": "markdown",
      "metadata": {
        "id": "eFJmS4vQ2zUN"
      },
      "source": [
        "Целевой признак:\n",
        "\n",
        "- Price — цена (евро)"
      ]
    },
    {
      "cell_type": "markdown",
      "metadata": {
        "id": "eumL2zXl2zUO"
      },
      "source": [
        "Инструкция по выполнению проекта\n",
        "\n",
        "Чтобы усилить исследование, не ограничивайтесь градиентным бустингом. Попробуйте более простые модели — иногда они работают лучше. Эти редкие случаи легко пропустить, если всегда применять только бустинг.\n",
        "\n",
        "Поэкспериментируйте и сравните характеристики моделей: время обучения, время предсказания, точность результата.\n",
        "\n",
        "Основные шаги:\n",
        "\n",
        "1. Загрузите данные, путь к файлу: /datasets/autos.csv.\n",
        "2. Изучите данные. Заполните пропущенные значения и обработайте аномалии в столбцах. Если среди признаков имеются неинформативные, удалите их.\n",
        "3. Подготовьте выборки для обучения моделей.\n",
        "4. Обучите разные модели, одна из которых — LightGBM, как минимум одна — не бустинг. Для каждой модели попробуйте разные гиперпараметры.\n",
        "5. Проанализируйте время обучения, время предсказания и качество моделей.\n",
        "6. Опираясь на критерии заказчика, выберете лучшую модель, проверьте её качество на тестовой выборке."
      ]
    },
    {
      "cell_type": "markdown",
      "metadata": {
        "id": "Bz1M-Ovk2zUQ"
      },
      "source": [
        "## Подготовка данных"
      ]
    },
    {
      "cell_type": "markdown",
      "metadata": {
        "id": "8Me2q3uC2zUQ"
      },
      "source": [
        "### Загрузим билиотеки"
      ]
    },
    {
      "cell_type": "markdown",
      "metadata": {
        "id": "VVZtuQ6H2zUR"
      },
      "source": [
        "Сюда же будем подгружать библиотеки по мере необходимости."
      ]
    },
    {
      "cell_type": "code",
      "execution_count": null,
      "metadata": {
        "id": "6sbO_Kab2zUR",
        "outputId": "cdb3b1ba-91df-4b9b-e755-29c2e2605f43"
      },
      "outputs": [
        {
          "name": "stdout",
          "output_type": "stream",
          "text": [
            "Requirement already satisfied: phik in /opt/conda/lib/python3.9/site-packages (0.12.3)\n",
            "Requirement already satisfied: pandas>=0.25.1 in /opt/conda/lib/python3.9/site-packages (from phik) (1.2.4)\n",
            "Requirement already satisfied: scipy>=1.5.2 in /opt/conda/lib/python3.9/site-packages (from phik) (1.9.1)\n",
            "Requirement already satisfied: numpy>=1.18.0 in /opt/conda/lib/python3.9/site-packages (from phik) (1.21.1)\n",
            "Requirement already satisfied: matplotlib>=2.2.3 in /opt/conda/lib/python3.9/site-packages (from phik) (3.3.4)\n",
            "Requirement already satisfied: joblib>=0.14.1 in /opt/conda/lib/python3.9/site-packages (from phik) (1.1.0)\n",
            "Requirement already satisfied: cycler>=0.10 in /opt/conda/lib/python3.9/site-packages (from matplotlib>=2.2.3->phik) (0.11.0)\n",
            "Requirement already satisfied: python-dateutil>=2.1 in /opt/conda/lib/python3.9/site-packages (from matplotlib>=2.2.3->phik) (2.8.1)\n",
            "Requirement already satisfied: kiwisolver>=1.0.1 in /opt/conda/lib/python3.9/site-packages (from matplotlib>=2.2.3->phik) (1.4.4)\n",
            "Requirement already satisfied: pillow>=6.2.0 in /opt/conda/lib/python3.9/site-packages (from matplotlib>=2.2.3->phik) (8.4.0)\n",
            "Requirement already satisfied: pyparsing!=2.0.4,!=2.1.2,!=2.1.6,>=2.0.3 in /opt/conda/lib/python3.9/site-packages (from matplotlib>=2.2.3->phik) (2.4.7)\n",
            "Requirement already satisfied: pytz>=2017.3 in /opt/conda/lib/python3.9/site-packages (from pandas>=0.25.1->phik) (2021.1)\n",
            "Requirement already satisfied: six>=1.5 in /opt/conda/lib/python3.9/site-packages (from python-dateutil>=2.1->matplotlib>=2.2.3->phik) (1.16.0)\n",
            "Requirement already satisfied: missingno in /opt/conda/lib/python3.9/site-packages (0.5.2)\n",
            "Requirement already satisfied: numpy in /opt/conda/lib/python3.9/site-packages (from missingno) (1.21.1)\n",
            "Requirement already satisfied: seaborn in /opt/conda/lib/python3.9/site-packages (from missingno) (0.11.1)\n",
            "Requirement already satisfied: matplotlib in /opt/conda/lib/python3.9/site-packages (from missingno) (3.3.4)\n",
            "Requirement already satisfied: scipy in /opt/conda/lib/python3.9/site-packages (from missingno) (1.9.1)\n",
            "Requirement already satisfied: cycler>=0.10 in /opt/conda/lib/python3.9/site-packages (from matplotlib->missingno) (0.11.0)\n",
            "Requirement already satisfied: kiwisolver>=1.0.1 in /opt/conda/lib/python3.9/site-packages (from matplotlib->missingno) (1.4.4)\n",
            "Requirement already satisfied: python-dateutil>=2.1 in /opt/conda/lib/python3.9/site-packages (from matplotlib->missingno) (2.8.1)\n",
            "Requirement already satisfied: pillow>=6.2.0 in /opt/conda/lib/python3.9/site-packages (from matplotlib->missingno) (8.4.0)\n",
            "Requirement already satisfied: pyparsing!=2.0.4,!=2.1.2,!=2.1.6,>=2.0.3 in /opt/conda/lib/python3.9/site-packages (from matplotlib->missingno) (2.4.7)\n",
            "Requirement already satisfied: six>=1.5 in /opt/conda/lib/python3.9/site-packages (from python-dateutil>=2.1->matplotlib->missingno) (1.16.0)\n",
            "Requirement already satisfied: pandas>=0.23 in /opt/conda/lib/python3.9/site-packages (from seaborn->missingno) (1.2.4)\n",
            "Requirement already satisfied: pytz>=2017.3 in /opt/conda/lib/python3.9/site-packages (from pandas>=0.23->seaborn->missingno) (2021.1)\n",
            "Requirement already satisfied: phik in /opt/conda/lib/python3.9/site-packages (0.12.3)\n",
            "Requirement already satisfied: joblib>=0.14.1 in /opt/conda/lib/python3.9/site-packages (from phik) (1.1.0)\n",
            "Requirement already satisfied: matplotlib>=2.2.3 in /opt/conda/lib/python3.9/site-packages (from phik) (3.3.4)\n",
            "Requirement already satisfied: numpy>=1.18.0 in /opt/conda/lib/python3.9/site-packages (from phik) (1.21.1)\n",
            "Requirement already satisfied: pandas>=0.25.1 in /opt/conda/lib/python3.9/site-packages (from phik) (1.2.4)\n",
            "Requirement already satisfied: scipy>=1.5.2 in /opt/conda/lib/python3.9/site-packages (from phik) (1.9.1)\n",
            "Requirement already satisfied: pillow>=6.2.0 in /opt/conda/lib/python3.9/site-packages (from matplotlib>=2.2.3->phik) (8.4.0)\n",
            "Requirement already satisfied: kiwisolver>=1.0.1 in /opt/conda/lib/python3.9/site-packages (from matplotlib>=2.2.3->phik) (1.4.4)\n",
            "Requirement already satisfied: cycler>=0.10 in /opt/conda/lib/python3.9/site-packages (from matplotlib>=2.2.3->phik) (0.11.0)\n",
            "Requirement already satisfied: python-dateutil>=2.1 in /opt/conda/lib/python3.9/site-packages (from matplotlib>=2.2.3->phik) (2.8.1)\n",
            "Requirement already satisfied: pyparsing!=2.0.4,!=2.1.2,!=2.1.6,>=2.0.3 in /opt/conda/lib/python3.9/site-packages (from matplotlib>=2.2.3->phik) (2.4.7)\n",
            "Requirement already satisfied: pytz>=2017.3 in /opt/conda/lib/python3.9/site-packages (from pandas>=0.25.1->phik) (2021.1)\n",
            "Requirement already satisfied: six>=1.5 in /opt/conda/lib/python3.9/site-packages (from python-dateutil>=2.1->matplotlib>=2.2.3->phik) (1.16.0)\n",
            "Requirement already satisfied: scikit-learn==1.1.3 in /opt/conda/lib/python3.9/site-packages (1.1.3)\n",
            "Requirement already satisfied: threadpoolctl>=2.0.0 in /opt/conda/lib/python3.9/site-packages (from scikit-learn==1.1.3) (3.1.0)\n",
            "Requirement already satisfied: joblib>=1.0.0 in /opt/conda/lib/python3.9/site-packages (from scikit-learn==1.1.3) (1.1.0)\n",
            "Requirement already satisfied: numpy>=1.17.3 in /opt/conda/lib/python3.9/site-packages (from scikit-learn==1.1.3) (1.21.1)\n",
            "Requirement already satisfied: scipy>=1.3.2 in /opt/conda/lib/python3.9/site-packages (from scikit-learn==1.1.3) (1.9.1)\n"
          ]
        }
      ],
      "source": [
        "!pip install phik\n",
        "!pip install missingno\n",
        "!pip install phik\n",
        "!pip install scikit-learn==1.1.3"
      ]
    },
    {
      "cell_type": "code",
      "execution_count": null,
      "metadata": {
        "id": "sHhIvx882zUV",
        "outputId": "aa58371a-fabf-4f37-b79a-26687f4d7bee"
      },
      "outputs": [
        {
          "name": "stdout",
          "output_type": "stream",
          "text": [
            "Requirement already satisfied: lightgbm in /opt/conda/lib/python3.9/site-packages (3.3.1)\n",
            "Requirement already satisfied: wheel in /opt/conda/lib/python3.9/site-packages (from lightgbm) (0.36.2)\n",
            "Requirement already satisfied: numpy in /opt/conda/lib/python3.9/site-packages (from lightgbm) (1.21.1)\n",
            "Requirement already satisfied: scikit-learn!=0.22.0 in /opt/conda/lib/python3.9/site-packages (from lightgbm) (1.1.3)\n",
            "Requirement already satisfied: scipy in /opt/conda/lib/python3.9/site-packages (from lightgbm) (1.9.1)\n",
            "Requirement already satisfied: joblib>=1.0.0 in /opt/conda/lib/python3.9/site-packages (from scikit-learn!=0.22.0->lightgbm) (1.1.0)\n",
            "Requirement already satisfied: threadpoolctl>=2.0.0 in /opt/conda/lib/python3.9/site-packages (from scikit-learn!=0.22.0->lightgbm) (3.1.0)\n"
          ]
        }
      ],
      "source": [
        "!pip install lightgbm"
      ]
    },
    {
      "cell_type": "code",
      "execution_count": null,
      "metadata": {
        "id": "Hl56op4n2zUV",
        "outputId": "9bef6510-8e2a-44ad-f9ea-643db9961b60"
      },
      "outputs": [
        {
          "name": "stdout",
          "output_type": "stream",
          "text": [
            "Requirement already satisfied: catboost in /opt/conda/lib/python3.9/site-packages (1.0.3)\n",
            "Requirement already satisfied: graphviz in /opt/conda/lib/python3.9/site-packages (from catboost) (0.20.1)\n",
            "Requirement already satisfied: scipy in /opt/conda/lib/python3.9/site-packages (from catboost) (1.9.1)\n",
            "Requirement already satisfied: plotly in /opt/conda/lib/python3.9/site-packages (from catboost) (5.4.0)\n",
            "Requirement already satisfied: matplotlib in /opt/conda/lib/python3.9/site-packages (from catboost) (3.3.4)\n",
            "Requirement already satisfied: six in /opt/conda/lib/python3.9/site-packages (from catboost) (1.16.0)\n",
            "Requirement already satisfied: pandas>=0.24.0 in /opt/conda/lib/python3.9/site-packages (from catboost) (1.2.4)\n",
            "Requirement already satisfied: numpy>=1.16.0 in /opt/conda/lib/python3.9/site-packages (from catboost) (1.21.1)\n",
            "Requirement already satisfied: python-dateutil>=2.7.3 in /opt/conda/lib/python3.9/site-packages (from pandas>=0.24.0->catboost) (2.8.1)\n",
            "Requirement already satisfied: pytz>=2017.3 in /opt/conda/lib/python3.9/site-packages (from pandas>=0.24.0->catboost) (2021.1)\n",
            "Requirement already satisfied: pillow>=6.2.0 in /opt/conda/lib/python3.9/site-packages (from matplotlib->catboost) (8.4.0)\n",
            "Requirement already satisfied: cycler>=0.10 in /opt/conda/lib/python3.9/site-packages (from matplotlib->catboost) (0.11.0)\n",
            "Requirement already satisfied: pyparsing!=2.0.4,!=2.1.2,!=2.1.6,>=2.0.3 in /opt/conda/lib/python3.9/site-packages (from matplotlib->catboost) (2.4.7)\n",
            "Requirement already satisfied: kiwisolver>=1.0.1 in /opt/conda/lib/python3.9/site-packages (from matplotlib->catboost) (1.4.4)\n",
            "Requirement already satisfied: tenacity>=6.2.0 in /opt/conda/lib/python3.9/site-packages (from plotly->catboost) (8.0.1)\n"
          ]
        }
      ],
      "source": [
        "!pip install catboost"
      ]
    },
    {
      "cell_type": "code",
      "execution_count": null,
      "metadata": {
        "id": "SRKinQm52zUW"
      },
      "outputs": [],
      "source": [
        "import pandas as pd\n",
        "import matplotlib.pyplot as plt\n",
        "import numpy as np\n",
        "import warnings\n",
        "import seaborn as sns\n",
        "\n",
        "warnings.filterwarnings(\"ignore\")\n",
        "\n",
        "import phik\n",
        "from phik.report import plot_correlation_matrix\n",
        "from phik import report\n",
        "import missingno as msno\n",
        "\n",
        "from catboost import CatBoostClassifier\n",
        "from sklearn.model_selection import train_test_split\n",
        "from lightgbm import LGBMRegressor\n",
        "import lightgbm as lgb\n",
        "\n",
        "from sklearn.tree import DecisionTreeRegressor\n",
        "from sklearn.ensemble import RandomForestRegressor\n",
        "from sklearn.linear_model import LinearRegression\n",
        "from sklearn.dummy import DummyRegressor\n",
        "from sklearn.preprocessing import StandardScaler\n",
        "from sklearn.preprocessing import OneHotEncoder\n",
        "from sklearn.model_selection import train_test_split, GridSearchCV\n",
        "from sklearn.preprocessing import OrdinalEncoder\n",
        "\n",
        "import phik\n",
        "from phik.report import plot_correlation_matrix\n",
        "from phik import report\n"
      ]
    },
    {
      "cell_type": "code",
      "execution_count": null,
      "metadata": {
        "id": "8cRNNlkR2zUX"
      },
      "outputs": [],
      "source": [
        "from sklearn.metrics import mean_squared_error"
      ]
    },
    {
      "cell_type": "code",
      "execution_count": null,
      "metadata": {
        "id": "4qjbb7ef2zUX"
      },
      "outputs": [],
      "source": [
        "from sklearn.model_selection import RandomizedSearchCV"
      ]
    },
    {
      "cell_type": "code",
      "execution_count": null,
      "metadata": {
        "id": "HZBlngti2zUY"
      },
      "outputs": [],
      "source": [
        "from catboost import Pool, CatBoostRegressor, cv"
      ]
    },
    {
      "cell_type": "code",
      "execution_count": null,
      "metadata": {
        "id": "j1RgAffV2zUY"
      },
      "outputs": [],
      "source": [
        "RANDOM_STATE=12345"
      ]
    },
    {
      "cell_type": "markdown",
      "metadata": {
        "id": "d8STnUQ32zUZ"
      },
      "source": [
        "### Функции для анализа данных"
      ]
    },
    {
      "cell_type": "code",
      "execution_count": null,
      "metadata": {
        "id": "v9N_UYKW2zUZ"
      },
      "outputs": [],
      "source": [
        "def check_data(data):\n",
        "    print ('\\033[1m' + 'Изучим исходные данные'+ '\\033[0m')\n",
        "    print(data.info())\n",
        "    #print(data_df.shape)\n",
        "\n",
        "    missed_cells = data.isnull().sum().sum()/(data.shape[0]*(data.shape[1]-1))\n",
        "    missed_rows = sum(data.isnull().sum(axis = 1)>0)/data.shape[0]\n",
        "    print ('\\033[1m' + '\\nПроверка пропусков'+ '\\033[0m')\n",
        "    print ('Количество пропусков: {:.0f}'.format(data.isnull().sum().sum()))\n",
        "    print ('Доля пропусков: {:.1%}'.format(missed_cells)+ '\\033[0m')\n",
        "    print ('Доля строк содержащих пропуски: {:.1%}'.format(missed_rows))\n",
        "\n",
        "    ## Проверим дубликаты\n",
        "    print ('\\033[1m' + '\\nПроверка на дубликаты'+ '\\033[0m')\n",
        "    print('Количество полных дубликатов: ', data.duplicated().sum())\n",
        "\n",
        "    ## Посмотрим на сами данные\n",
        "    print ('\\033[1m' + '\\nПервые пять строк датасета'+ '\\033[0m')\n",
        "    display(data.head())\n",
        "\n",
        "    print('\\033[1m' + '\\nОписание количественных данных:'+ '\\033[0m')\n",
        "    display(data.describe().T)\n",
        "\n",
        "    print('\\033[1m' + '\\nОписание категориальных данных:'+ '\\033[0m')\n",
        "    display(data.describe(include='object').T)\n",
        "\n",
        "\n",
        "    print('\\033[1m' + '\\nВывод уникальных значений по каждому категориаьному признаку:'+ '\\033[0m')\n",
        "    df_object = data.select_dtypes(include='object').columns\n",
        "\n",
        "    for i in df_object:\n",
        "        print('\\033[1m' + '_'+ str(i) + '\\033[0m')\n",
        "        display(data[i].value_counts())\n",
        "\n",
        "    print('\\033[1m' + '\\nНазвания колонок:'+ '\\033[0m')\n",
        "    for column in data.columns:\n",
        "        print(column)"
      ]
    },
    {
      "cell_type": "code",
      "execution_count": null,
      "metadata": {
        "id": "vYEIUqzU2zUa"
      },
      "outputs": [],
      "source": [
        "def plot_hist(data, col_column):\n",
        "    '''\n",
        "    Функция отрисовки гистограмм и ящика с усами для количесвтенных переменных.\n",
        "    На вход: исходная таблица и список количественных переменных.\n",
        "    На выходе: графики\n",
        "    '''\n",
        "    rows = len(col_column)\n",
        "    f, ax = plt.subplots(rows,2, figsize=(8, 15))\n",
        "    f.tight_layout()\n",
        "    f.set_figheight(30)\n",
        "    f.set_figwidth(14)\n",
        "    plt.rcParams.update({'font.size': 18})\n",
        "\n",
        "    for i, col in enumerate(col_column):\n",
        "        sns.histplot(data[col], kde=True, bins=24, ax = ax[i, 0])\n",
        "        sns.boxplot(data[col], ax = ax[i, 1])\n",
        "\n",
        "        ax[i, 0].set_xlabel(col)\n",
        "        ax[i, 1].set_xlabel(col)\n",
        "        ax[i, 0].set_ylabel('Количество')\n",
        "    plt.suptitle(\"Гистограмма и ящик с усами для количесвтенных данных\", fontsize=22, y=1.01)\n",
        "    plt.show()"
      ]
    },
    {
      "cell_type": "code",
      "execution_count": null,
      "metadata": {
        "id": "w7H-tkHX2zUb"
      },
      "outputs": [],
      "source": [
        "def plot_hist_cat(data, col_column, cat):\n",
        "    '''\n",
        "    Функция отрисовки гистограмм и ящика с усами для количесвтенных переменных.\n",
        "    На вход: исходная таблица и список количественных переменных.\n",
        "    На выходе: графики\n",
        "    '''\n",
        "    #col_column.append(cat)\n",
        "    rows = len(col_column)\n",
        "    f, ax = plt.subplots(rows,2, figsize=(8, 15))\n",
        "    f.tight_layout()\n",
        "    f.set_figheight(30)\n",
        "    f.set_figwidth(14)\n",
        "    plt.rcParams.update({'font.size': 18})\n",
        "\n",
        "    for i, col in enumerate(col_column):\n",
        "        #print(data[[col, cat]])\n",
        "        sns.histplot(data = data[[col, cat]], x = data[col], kde=True, bins=24, ax = ax[i, 0], hue = cat)\n",
        "        sns.boxplot(data[col], ax = ax[i, 1])\n",
        "\n",
        "        ax[i, 0].set_xlabel(col)\n",
        "        ax[i, 1].set_xlabel(col)\n",
        "        ax[i, 0].set_ylabel('Количество')\n",
        "    plt.suptitle(\"Гистограмма и ящик с усами для количесвтенных данных\", fontsize=22, y=1.01)\n",
        "    plt.show()"
      ]
    },
    {
      "cell_type": "code",
      "execution_count": null,
      "metadata": {
        "id": "kg_N2jWV2zUb"
      },
      "outputs": [],
      "source": [
        "#pd.set_option('display.max_rows', None)"
      ]
    },
    {
      "cell_type": "markdown",
      "metadata": {
        "id": "DrA8JGLw2zUc"
      },
      "source": [
        "### Загрузим данные"
      ]
    },
    {
      "cell_type": "code",
      "execution_count": null,
      "metadata": {
        "id": "2iIQ1WwX2zUc"
      },
      "outputs": [],
      "source": [
        "#PATH_OUT = r'C:\\Users\\Tania\\Desktop\\Учеба\\Численные_методы\\Проект'"
      ]
    },
    {
      "cell_type": "code",
      "execution_count": null,
      "metadata": {
        "id": "ZlYLDpgr2zUc"
      },
      "outputs": [],
      "source": [
        "#data = pd.read_csv(PATH_OUT + '\\\\autos.csv')"
      ]
    },
    {
      "cell_type": "code",
      "execution_count": null,
      "metadata": {
        "id": "5eTX2s_v2zUd"
      },
      "outputs": [],
      "source": [
        "data = pd.read_csv('/datasets/autos.csv')"
      ]
    },
    {
      "cell_type": "code",
      "execution_count": null,
      "metadata": {
        "scrolled": false,
        "id": "Gb8CPyAC2zUd",
        "outputId": "01b76fe6-1e94-4d4b-b4a0-a264d3852e49"
      },
      "outputs": [
        {
          "name": "stdout",
          "output_type": "stream",
          "text": [
            "\u001b[1mИзучим исходные данные\u001b[0m\n",
            "<class 'pandas.core.frame.DataFrame'>\n",
            "RangeIndex: 354369 entries, 0 to 354368\n",
            "Data columns (total 16 columns):\n",
            " #   Column             Non-Null Count   Dtype \n",
            "---  ------             --------------   ----- \n",
            " 0   DateCrawled        354369 non-null  object\n",
            " 1   Price              354369 non-null  int64 \n",
            " 2   VehicleType        316879 non-null  object\n",
            " 3   RegistrationYear   354369 non-null  int64 \n",
            " 4   Gearbox            334536 non-null  object\n",
            " 5   Power              354369 non-null  int64 \n",
            " 6   Model              334664 non-null  object\n",
            " 7   Kilometer          354369 non-null  int64 \n",
            " 8   RegistrationMonth  354369 non-null  int64 \n",
            " 9   FuelType           321474 non-null  object\n",
            " 10  Brand              354369 non-null  object\n",
            " 11  Repaired           283215 non-null  object\n",
            " 12  DateCreated        354369 non-null  object\n",
            " 13  NumberOfPictures   354369 non-null  int64 \n",
            " 14  PostalCode         354369 non-null  int64 \n",
            " 15  LastSeen           354369 non-null  object\n",
            "dtypes: int64(7), object(9)\n",
            "memory usage: 43.3+ MB\n",
            "None\n",
            "\u001b[1m\n",
            "Проверка пропусков\u001b[0m\n",
            "Количество пропусков: 181077\n",
            "Доля пропусков: 3.4%\u001b[0m\n",
            "Доля строк содержащих пропуски: 30.6%\n",
            "\u001b[1m\n",
            "Проверка на дубликаты\u001b[0m\n",
            "Количество полных дубликатов:  4\n",
            "\u001b[1m\n",
            "Первые пять строк датасета\u001b[0m\n"
          ]
        },
        {
          "data": {
            "text/html": [
              "<div>\n",
              "<style scoped>\n",
              "    .dataframe tbody tr th:only-of-type {\n",
              "        vertical-align: middle;\n",
              "    }\n",
              "\n",
              "    .dataframe tbody tr th {\n",
              "        vertical-align: top;\n",
              "    }\n",
              "\n",
              "    .dataframe thead th {\n",
              "        text-align: right;\n",
              "    }\n",
              "</style>\n",
              "<table border=\"1\" class=\"dataframe\">\n",
              "  <thead>\n",
              "    <tr style=\"text-align: right;\">\n",
              "      <th></th>\n",
              "      <th>DateCrawled</th>\n",
              "      <th>Price</th>\n",
              "      <th>VehicleType</th>\n",
              "      <th>RegistrationYear</th>\n",
              "      <th>Gearbox</th>\n",
              "      <th>Power</th>\n",
              "      <th>Model</th>\n",
              "      <th>Kilometer</th>\n",
              "      <th>RegistrationMonth</th>\n",
              "      <th>FuelType</th>\n",
              "      <th>Brand</th>\n",
              "      <th>Repaired</th>\n",
              "      <th>DateCreated</th>\n",
              "      <th>NumberOfPictures</th>\n",
              "      <th>PostalCode</th>\n",
              "      <th>LastSeen</th>\n",
              "    </tr>\n",
              "  </thead>\n",
              "  <tbody>\n",
              "    <tr>\n",
              "      <th>0</th>\n",
              "      <td>2016-03-24 11:52:17</td>\n",
              "      <td>480</td>\n",
              "      <td>NaN</td>\n",
              "      <td>1993</td>\n",
              "      <td>manual</td>\n",
              "      <td>0</td>\n",
              "      <td>golf</td>\n",
              "      <td>150000</td>\n",
              "      <td>0</td>\n",
              "      <td>petrol</td>\n",
              "      <td>volkswagen</td>\n",
              "      <td>NaN</td>\n",
              "      <td>2016-03-24 00:00:00</td>\n",
              "      <td>0</td>\n",
              "      <td>70435</td>\n",
              "      <td>2016-04-07 03:16:57</td>\n",
              "    </tr>\n",
              "    <tr>\n",
              "      <th>1</th>\n",
              "      <td>2016-03-24 10:58:45</td>\n",
              "      <td>18300</td>\n",
              "      <td>coupe</td>\n",
              "      <td>2011</td>\n",
              "      <td>manual</td>\n",
              "      <td>190</td>\n",
              "      <td>NaN</td>\n",
              "      <td>125000</td>\n",
              "      <td>5</td>\n",
              "      <td>gasoline</td>\n",
              "      <td>audi</td>\n",
              "      <td>yes</td>\n",
              "      <td>2016-03-24 00:00:00</td>\n",
              "      <td>0</td>\n",
              "      <td>66954</td>\n",
              "      <td>2016-04-07 01:46:50</td>\n",
              "    </tr>\n",
              "    <tr>\n",
              "      <th>2</th>\n",
              "      <td>2016-03-14 12:52:21</td>\n",
              "      <td>9800</td>\n",
              "      <td>suv</td>\n",
              "      <td>2004</td>\n",
              "      <td>auto</td>\n",
              "      <td>163</td>\n",
              "      <td>grand</td>\n",
              "      <td>125000</td>\n",
              "      <td>8</td>\n",
              "      <td>gasoline</td>\n",
              "      <td>jeep</td>\n",
              "      <td>NaN</td>\n",
              "      <td>2016-03-14 00:00:00</td>\n",
              "      <td>0</td>\n",
              "      <td>90480</td>\n",
              "      <td>2016-04-05 12:47:46</td>\n",
              "    </tr>\n",
              "    <tr>\n",
              "      <th>3</th>\n",
              "      <td>2016-03-17 16:54:04</td>\n",
              "      <td>1500</td>\n",
              "      <td>small</td>\n",
              "      <td>2001</td>\n",
              "      <td>manual</td>\n",
              "      <td>75</td>\n",
              "      <td>golf</td>\n",
              "      <td>150000</td>\n",
              "      <td>6</td>\n",
              "      <td>petrol</td>\n",
              "      <td>volkswagen</td>\n",
              "      <td>no</td>\n",
              "      <td>2016-03-17 00:00:00</td>\n",
              "      <td>0</td>\n",
              "      <td>91074</td>\n",
              "      <td>2016-03-17 17:40:17</td>\n",
              "    </tr>\n",
              "    <tr>\n",
              "      <th>4</th>\n",
              "      <td>2016-03-31 17:25:20</td>\n",
              "      <td>3600</td>\n",
              "      <td>small</td>\n",
              "      <td>2008</td>\n",
              "      <td>manual</td>\n",
              "      <td>69</td>\n",
              "      <td>fabia</td>\n",
              "      <td>90000</td>\n",
              "      <td>7</td>\n",
              "      <td>gasoline</td>\n",
              "      <td>skoda</td>\n",
              "      <td>no</td>\n",
              "      <td>2016-03-31 00:00:00</td>\n",
              "      <td>0</td>\n",
              "      <td>60437</td>\n",
              "      <td>2016-04-06 10:17:21</td>\n",
              "    </tr>\n",
              "  </tbody>\n",
              "</table>\n",
              "</div>"
            ],
            "text/plain": [
              "           DateCrawled  Price VehicleType  RegistrationYear Gearbox  Power  \\\n",
              "0  2016-03-24 11:52:17    480         NaN              1993  manual      0   \n",
              "1  2016-03-24 10:58:45  18300       coupe              2011  manual    190   \n",
              "2  2016-03-14 12:52:21   9800         suv              2004    auto    163   \n",
              "3  2016-03-17 16:54:04   1500       small              2001  manual     75   \n",
              "4  2016-03-31 17:25:20   3600       small              2008  manual     69   \n",
              "\n",
              "   Model  Kilometer  RegistrationMonth  FuelType       Brand Repaired  \\\n",
              "0   golf     150000                  0    petrol  volkswagen      NaN   \n",
              "1    NaN     125000                  5  gasoline        audi      yes   \n",
              "2  grand     125000                  8  gasoline        jeep      NaN   \n",
              "3   golf     150000                  6    petrol  volkswagen       no   \n",
              "4  fabia      90000                  7  gasoline       skoda       no   \n",
              "\n",
              "           DateCreated  NumberOfPictures  PostalCode             LastSeen  \n",
              "0  2016-03-24 00:00:00                 0       70435  2016-04-07 03:16:57  \n",
              "1  2016-03-24 00:00:00                 0       66954  2016-04-07 01:46:50  \n",
              "2  2016-03-14 00:00:00                 0       90480  2016-04-05 12:47:46  \n",
              "3  2016-03-17 00:00:00                 0       91074  2016-03-17 17:40:17  \n",
              "4  2016-03-31 00:00:00                 0       60437  2016-04-06 10:17:21  "
            ]
          },
          "metadata": {},
          "output_type": "display_data"
        },
        {
          "name": "stdout",
          "output_type": "stream",
          "text": [
            "\u001b[1m\n",
            "Описание количественных данных:\u001b[0m\n"
          ]
        },
        {
          "data": {
            "text/html": [
              "<div>\n",
              "<style scoped>\n",
              "    .dataframe tbody tr th:only-of-type {\n",
              "        vertical-align: middle;\n",
              "    }\n",
              "\n",
              "    .dataframe tbody tr th {\n",
              "        vertical-align: top;\n",
              "    }\n",
              "\n",
              "    .dataframe thead th {\n",
              "        text-align: right;\n",
              "    }\n",
              "</style>\n",
              "<table border=\"1\" class=\"dataframe\">\n",
              "  <thead>\n",
              "    <tr style=\"text-align: right;\">\n",
              "      <th></th>\n",
              "      <th>count</th>\n",
              "      <th>mean</th>\n",
              "      <th>std</th>\n",
              "      <th>min</th>\n",
              "      <th>25%</th>\n",
              "      <th>50%</th>\n",
              "      <th>75%</th>\n",
              "      <th>max</th>\n",
              "    </tr>\n",
              "  </thead>\n",
              "  <tbody>\n",
              "    <tr>\n",
              "      <th>Price</th>\n",
              "      <td>354369.0</td>\n",
              "      <td>4416.656776</td>\n",
              "      <td>4514.158514</td>\n",
              "      <td>0.0</td>\n",
              "      <td>1050.0</td>\n",
              "      <td>2700.0</td>\n",
              "      <td>6400.0</td>\n",
              "      <td>20000.0</td>\n",
              "    </tr>\n",
              "    <tr>\n",
              "      <th>RegistrationYear</th>\n",
              "      <td>354369.0</td>\n",
              "      <td>2004.234448</td>\n",
              "      <td>90.227958</td>\n",
              "      <td>1000.0</td>\n",
              "      <td>1999.0</td>\n",
              "      <td>2003.0</td>\n",
              "      <td>2008.0</td>\n",
              "      <td>9999.0</td>\n",
              "    </tr>\n",
              "    <tr>\n",
              "      <th>Power</th>\n",
              "      <td>354369.0</td>\n",
              "      <td>110.094337</td>\n",
              "      <td>189.850405</td>\n",
              "      <td>0.0</td>\n",
              "      <td>69.0</td>\n",
              "      <td>105.0</td>\n",
              "      <td>143.0</td>\n",
              "      <td>20000.0</td>\n",
              "    </tr>\n",
              "    <tr>\n",
              "      <th>Kilometer</th>\n",
              "      <td>354369.0</td>\n",
              "      <td>128211.172535</td>\n",
              "      <td>37905.341530</td>\n",
              "      <td>5000.0</td>\n",
              "      <td>125000.0</td>\n",
              "      <td>150000.0</td>\n",
              "      <td>150000.0</td>\n",
              "      <td>150000.0</td>\n",
              "    </tr>\n",
              "    <tr>\n",
              "      <th>RegistrationMonth</th>\n",
              "      <td>354369.0</td>\n",
              "      <td>5.714645</td>\n",
              "      <td>3.726421</td>\n",
              "      <td>0.0</td>\n",
              "      <td>3.0</td>\n",
              "      <td>6.0</td>\n",
              "      <td>9.0</td>\n",
              "      <td>12.0</td>\n",
              "    </tr>\n",
              "    <tr>\n",
              "      <th>NumberOfPictures</th>\n",
              "      <td>354369.0</td>\n",
              "      <td>0.000000</td>\n",
              "      <td>0.000000</td>\n",
              "      <td>0.0</td>\n",
              "      <td>0.0</td>\n",
              "      <td>0.0</td>\n",
              "      <td>0.0</td>\n",
              "      <td>0.0</td>\n",
              "    </tr>\n",
              "    <tr>\n",
              "      <th>PostalCode</th>\n",
              "      <td>354369.0</td>\n",
              "      <td>50508.689087</td>\n",
              "      <td>25783.096248</td>\n",
              "      <td>1067.0</td>\n",
              "      <td>30165.0</td>\n",
              "      <td>49413.0</td>\n",
              "      <td>71083.0</td>\n",
              "      <td>99998.0</td>\n",
              "    </tr>\n",
              "  </tbody>\n",
              "</table>\n",
              "</div>"
            ],
            "text/plain": [
              "                      count           mean           std     min       25%  \\\n",
              "Price              354369.0    4416.656776   4514.158514     0.0    1050.0   \n",
              "RegistrationYear   354369.0    2004.234448     90.227958  1000.0    1999.0   \n",
              "Power              354369.0     110.094337    189.850405     0.0      69.0   \n",
              "Kilometer          354369.0  128211.172535  37905.341530  5000.0  125000.0   \n",
              "RegistrationMonth  354369.0       5.714645      3.726421     0.0       3.0   \n",
              "NumberOfPictures   354369.0       0.000000      0.000000     0.0       0.0   \n",
              "PostalCode         354369.0   50508.689087  25783.096248  1067.0   30165.0   \n",
              "\n",
              "                        50%       75%       max  \n",
              "Price                2700.0    6400.0   20000.0  \n",
              "RegistrationYear     2003.0    2008.0    9999.0  \n",
              "Power                 105.0     143.0   20000.0  \n",
              "Kilometer          150000.0  150000.0  150000.0  \n",
              "RegistrationMonth       6.0       9.0      12.0  \n",
              "NumberOfPictures        0.0       0.0       0.0  \n",
              "PostalCode          49413.0   71083.0   99998.0  "
            ]
          },
          "metadata": {},
          "output_type": "display_data"
        },
        {
          "name": "stdout",
          "output_type": "stream",
          "text": [
            "\u001b[1m\n",
            "Описание категориальных данных:\u001b[0m\n"
          ]
        },
        {
          "data": {
            "text/html": [
              "<div>\n",
              "<style scoped>\n",
              "    .dataframe tbody tr th:only-of-type {\n",
              "        vertical-align: middle;\n",
              "    }\n",
              "\n",
              "    .dataframe tbody tr th {\n",
              "        vertical-align: top;\n",
              "    }\n",
              "\n",
              "    .dataframe thead th {\n",
              "        text-align: right;\n",
              "    }\n",
              "</style>\n",
              "<table border=\"1\" class=\"dataframe\">\n",
              "  <thead>\n",
              "    <tr style=\"text-align: right;\">\n",
              "      <th></th>\n",
              "      <th>count</th>\n",
              "      <th>unique</th>\n",
              "      <th>top</th>\n",
              "      <th>freq</th>\n",
              "    </tr>\n",
              "  </thead>\n",
              "  <tbody>\n",
              "    <tr>\n",
              "      <th>DateCrawled</th>\n",
              "      <td>354369</td>\n",
              "      <td>271174</td>\n",
              "      <td>2016-03-24 14:49:47</td>\n",
              "      <td>7</td>\n",
              "    </tr>\n",
              "    <tr>\n",
              "      <th>VehicleType</th>\n",
              "      <td>316879</td>\n",
              "      <td>8</td>\n",
              "      <td>sedan</td>\n",
              "      <td>91457</td>\n",
              "    </tr>\n",
              "    <tr>\n",
              "      <th>Gearbox</th>\n",
              "      <td>334536</td>\n",
              "      <td>2</td>\n",
              "      <td>manual</td>\n",
              "      <td>268251</td>\n",
              "    </tr>\n",
              "    <tr>\n",
              "      <th>Model</th>\n",
              "      <td>334664</td>\n",
              "      <td>250</td>\n",
              "      <td>golf</td>\n",
              "      <td>29232</td>\n",
              "    </tr>\n",
              "    <tr>\n",
              "      <th>FuelType</th>\n",
              "      <td>321474</td>\n",
              "      <td>7</td>\n",
              "      <td>petrol</td>\n",
              "      <td>216352</td>\n",
              "    </tr>\n",
              "    <tr>\n",
              "      <th>Brand</th>\n",
              "      <td>354369</td>\n",
              "      <td>40</td>\n",
              "      <td>volkswagen</td>\n",
              "      <td>77013</td>\n",
              "    </tr>\n",
              "    <tr>\n",
              "      <th>Repaired</th>\n",
              "      <td>283215</td>\n",
              "      <td>2</td>\n",
              "      <td>no</td>\n",
              "      <td>247161</td>\n",
              "    </tr>\n",
              "    <tr>\n",
              "      <th>DateCreated</th>\n",
              "      <td>354369</td>\n",
              "      <td>109</td>\n",
              "      <td>2016-04-03 00:00:00</td>\n",
              "      <td>13719</td>\n",
              "    </tr>\n",
              "    <tr>\n",
              "      <th>LastSeen</th>\n",
              "      <td>354369</td>\n",
              "      <td>179150</td>\n",
              "      <td>2016-04-06 13:45:54</td>\n",
              "      <td>17</td>\n",
              "    </tr>\n",
              "  </tbody>\n",
              "</table>\n",
              "</div>"
            ],
            "text/plain": [
              "              count  unique                  top    freq\n",
              "DateCrawled  354369  271174  2016-03-24 14:49:47       7\n",
              "VehicleType  316879       8                sedan   91457\n",
              "Gearbox      334536       2               manual  268251\n",
              "Model        334664     250                 golf   29232\n",
              "FuelType     321474       7               petrol  216352\n",
              "Brand        354369      40           volkswagen   77013\n",
              "Repaired     283215       2                   no  247161\n",
              "DateCreated  354369     109  2016-04-03 00:00:00   13719\n",
              "LastSeen     354369  179150  2016-04-06 13:45:54      17"
            ]
          },
          "metadata": {},
          "output_type": "display_data"
        },
        {
          "name": "stdout",
          "output_type": "stream",
          "text": [
            "\u001b[1m\n",
            "Вывод уникальных значений по каждому категориаьному признаку:\u001b[0m\n",
            "\u001b[1m_DateCrawled\u001b[0m\n"
          ]
        },
        {
          "data": {
            "text/plain": [
              "2016-03-24 14:49:47    7\n",
              "2016-03-19 21:49:56    6\n",
              "2016-03-26 22:57:31    6\n",
              "2016-03-05 14:25:23    5\n",
              "2016-04-02 14:50:21    5\n",
              "                      ..\n",
              "2016-03-23 11:57:35    1\n",
              "2016-03-22 18:55:48    1\n",
              "2016-04-04 16:43:48    1\n",
              "2016-03-15 12:58:10    1\n",
              "2016-03-10 17:46:49    1\n",
              "Name: DateCrawled, Length: 271174, dtype: int64"
            ]
          },
          "metadata": {},
          "output_type": "display_data"
        },
        {
          "name": "stdout",
          "output_type": "stream",
          "text": [
            "\u001b[1m_VehicleType\u001b[0m\n"
          ]
        },
        {
          "data": {
            "text/plain": [
              "sedan          91457\n",
              "small          79831\n",
              "wagon          65166\n",
              "bus            28775\n",
              "convertible    20203\n",
              "coupe          16163\n",
              "suv            11996\n",
              "other           3288\n",
              "Name: VehicleType, dtype: int64"
            ]
          },
          "metadata": {},
          "output_type": "display_data"
        },
        {
          "name": "stdout",
          "output_type": "stream",
          "text": [
            "\u001b[1m_Gearbox\u001b[0m\n"
          ]
        },
        {
          "data": {
            "text/plain": [
              "manual    268251\n",
              "auto       66285\n",
              "Name: Gearbox, dtype: int64"
            ]
          },
          "metadata": {},
          "output_type": "display_data"
        },
        {
          "name": "stdout",
          "output_type": "stream",
          "text": [
            "\u001b[1m_Model\u001b[0m\n"
          ]
        },
        {
          "data": {
            "text/plain": [
              "golf                  29232\n",
              "other                 24421\n",
              "3er                   19761\n",
              "polo                  13066\n",
              "corsa                 12570\n",
              "                      ...  \n",
              "i3                        8\n",
              "serie_3                   4\n",
              "rangerover                4\n",
              "serie_1                   2\n",
              "range_rover_evoque        2\n",
              "Name: Model, Length: 250, dtype: int64"
            ]
          },
          "metadata": {},
          "output_type": "display_data"
        },
        {
          "name": "stdout",
          "output_type": "stream",
          "text": [
            "\u001b[1m_FuelType\u001b[0m\n"
          ]
        },
        {
          "data": {
            "text/plain": [
              "petrol      216352\n",
              "gasoline     98720\n",
              "lpg           5310\n",
              "cng            565\n",
              "hybrid         233\n",
              "other          204\n",
              "electric        90\n",
              "Name: FuelType, dtype: int64"
            ]
          },
          "metadata": {},
          "output_type": "display_data"
        },
        {
          "name": "stdout",
          "output_type": "stream",
          "text": [
            "\u001b[1m_Brand\u001b[0m\n"
          ]
        },
        {
          "data": {
            "text/plain": [
              "volkswagen        77013\n",
              "opel              39931\n",
              "bmw               36914\n",
              "mercedes_benz     32046\n",
              "audi              29456\n",
              "ford              25179\n",
              "renault           17927\n",
              "peugeot           10998\n",
              "fiat               9643\n",
              "seat               6907\n",
              "mazda              5615\n",
              "skoda              5500\n",
              "smart              5246\n",
              "citroen            5148\n",
              "nissan             4941\n",
              "toyota             4606\n",
              "hyundai            3587\n",
              "sonstige_autos     3374\n",
              "volvo              3210\n",
              "mini               3202\n",
              "mitsubishi         3022\n",
              "honda              2817\n",
              "kia                2465\n",
              "suzuki             2323\n",
              "alfa_romeo         2314\n",
              "chevrolet          1754\n",
              "chrysler           1439\n",
              "dacia               900\n",
              "daihatsu            806\n",
              "subaru              762\n",
              "porsche             758\n",
              "jeep                677\n",
              "trabant             589\n",
              "land_rover          545\n",
              "daewoo              542\n",
              "saab                526\n",
              "jaguar              505\n",
              "rover               486\n",
              "lancia              471\n",
              "lada                225\n",
              "Name: Brand, dtype: int64"
            ]
          },
          "metadata": {},
          "output_type": "display_data"
        },
        {
          "name": "stdout",
          "output_type": "stream",
          "text": [
            "\u001b[1m_Repaired\u001b[0m\n"
          ]
        },
        {
          "data": {
            "text/plain": [
              "no     247161\n",
              "yes     36054\n",
              "Name: Repaired, dtype: int64"
            ]
          },
          "metadata": {},
          "output_type": "display_data"
        },
        {
          "name": "stdout",
          "output_type": "stream",
          "text": [
            "\u001b[1m_DateCreated\u001b[0m\n"
          ]
        },
        {
          "data": {
            "text/plain": [
              "2016-04-03 00:00:00    13719\n",
              "2016-04-04 00:00:00    13317\n",
              "2016-03-20 00:00:00    12918\n",
              "2016-03-12 00:00:00    12840\n",
              "2016-03-21 00:00:00    12691\n",
              "                       ...  \n",
              "2016-01-08 00:00:00        1\n",
              "2016-01-18 00:00:00        1\n",
              "2016-01-16 00:00:00        1\n",
              "2015-06-18 00:00:00        1\n",
              "2015-12-17 00:00:00        1\n",
              "Name: DateCreated, Length: 109, dtype: int64"
            ]
          },
          "metadata": {},
          "output_type": "display_data"
        },
        {
          "name": "stdout",
          "output_type": "stream",
          "text": [
            "\u001b[1m_LastSeen\u001b[0m\n"
          ]
        },
        {
          "data": {
            "text/plain": [
              "2016-04-06 13:45:54    17\n",
              "2016-04-06 09:17:58    16\n",
              "2016-04-06 09:46:00    16\n",
              "2016-04-07 05:44:30    16\n",
              "2016-04-06 10:15:26    16\n",
              "                       ..\n",
              "2016-03-16 16:25:09     1\n",
              "2016-03-31 02:44:22     1\n",
              "2016-03-14 13:44:16     1\n",
              "2016-03-29 12:42:30     1\n",
              "2016-03-23 04:21:13     1\n",
              "Name: LastSeen, Length: 179150, dtype: int64"
            ]
          },
          "metadata": {},
          "output_type": "display_data"
        },
        {
          "name": "stdout",
          "output_type": "stream",
          "text": [
            "\u001b[1m\n",
            "Названия колонок:\u001b[0m\n",
            "DateCrawled\n",
            "Price\n",
            "VehicleType\n",
            "RegistrationYear\n",
            "Gearbox\n",
            "Power\n",
            "Model\n",
            "Kilometer\n",
            "RegistrationMonth\n",
            "FuelType\n",
            "Brand\n",
            "Repaired\n",
            "DateCreated\n",
            "NumberOfPictures\n",
            "PostalCode\n",
            "LastSeen\n"
          ]
        }
      ],
      "source": [
        "check_data(data)"
      ]
    },
    {
      "cell_type": "markdown",
      "metadata": {
        "id": "9E4cVJ8D2zUe"
      },
      "source": [
        "Все хорошо, данные загрузились нормально. Есть пропуски и дубликаты. Обратим на них внимание дальше."
      ]
    },
    {
      "cell_type": "code",
      "execution_count": null,
      "metadata": {
        "scrolled": false,
        "id": "rAYPEW3g2zUe",
        "outputId": "121936a7-2c4e-43d4-b641-e22b297684c9"
      },
      "outputs": [
        {
          "data": {
            "image/png": "[encoded data removed]",
            "text/plain": [
              "<Figure size 1008x2160 with 14 Axes>"
            ]
          },
          "metadata": {
            "needs_background": "light"
          },
          "output_type": "display_data"
        }
      ],
      "source": [
        "# ГРАФИЧЕСКИЙ АНАЛИЗ количественных данных данных\n",
        "plot_hist(data, data.select_dtypes(exclude=[object]).columns)"
      ]
    },
    {
      "cell_type": "markdown",
      "metadata": {
        "id": "R1M4sQEN2zUf"
      },
      "source": [
        "Есть выбросы, посмотрим на на них дальше, если это потребуется."
      ]
    },
    {
      "cell_type": "markdown",
      "metadata": {
        "id": "FId38Ty72zUf"
      },
      "source": [
        "### Посмотри на пропуски и дубли"
      ]
    },
    {
      "cell_type": "code",
      "execution_count": null,
      "metadata": {
        "id": "107R9N_m2zUf",
        "outputId": "76d74802-a10c-4fe7-9279-091da9d93d0d"
      },
      "outputs": [
        {
          "data": {
            "text/plain": [
              "<AxesSubplot:>"
            ]
          },
          "execution_count": 18,
          "metadata": {},
          "output_type": "execute_result"
        },
        {
          "data": {
            "image/png": "[encoded data removed]",
            "text/plain": [
              "<Figure size 1800x720 with 3 Axes>"
            ]
          },
          "metadata": {
            "needs_background": "light"
          },
          "output_type": "display_data"
        }
      ],
      "source": [
        "msno.bar(data)"
      ]
    },
    {
      "cell_type": "markdown",
      "metadata": {
        "id": "iFtaev4s2zUo"
      },
      "source": [
        "Пропуски присутствуют:\n",
        "\n",
        "Repaired — была машина в ремонте или нет\n",
        "\n",
        "FuelType — тип топлива\n",
        "\n",
        "Model — модель автомобиля\n",
        "\n",
        "Gearbox — тип коробки передач\n",
        "\n",
        "VehicleType — тип автомобильного кузова"
      ]
    },
    {
      "cell_type": "code",
      "execution_count": null,
      "metadata": {
        "id": "azJYZQ8B2zUp",
        "outputId": "ac29ef75-8659-4959-c2ab-5571417e6265"
      },
      "outputs": [
        {
          "data": {
            "text/plain": [
              "244092    1000\n",
              "91869     1000\n",
              "143621    1000\n",
              "55605     1000\n",
              "164397    1000\n",
              "          ... \n",
              "167937    9999\n",
              "217111    9999\n",
              "149151    9999\n",
              "326725    9999\n",
              "224832    9999\n",
              "Name: RegistrationYear, Length: 354369, dtype: int64"
            ]
          },
          "execution_count": 19,
          "metadata": {},
          "output_type": "execute_result"
        }
      ],
      "source": [
        "#data['RegistrationYear'].unique()\n",
        "data['RegistrationYear'].sort_values(ascending=True)"
      ]
    },
    {
      "cell_type": "code",
      "execution_count": null,
      "metadata": {
        "id": "5i9tFXZ22zUq",
        "outputId": "ee17ece2-772b-4cec-fe33-cc2646b4b1fb"
      },
      "outputs": [
        {
          "data": {
            "text/html": [
              "<div>\n",
              "<style scoped>\n",
              "    .dataframe tbody tr th:only-of-type {\n",
              "        vertical-align: middle;\n",
              "    }\n",
              "\n",
              "    .dataframe tbody tr th {\n",
              "        vertical-align: top;\n",
              "    }\n",
              "\n",
              "    .dataframe thead th {\n",
              "        text-align: right;\n",
              "    }\n",
              "</style>\n",
              "<table border=\"1\" class=\"dataframe\">\n",
              "  <thead>\n",
              "    <tr style=\"text-align: right;\">\n",
              "      <th></th>\n",
              "      <th>DateCrawled</th>\n",
              "      <th>Price</th>\n",
              "      <th>VehicleType</th>\n",
              "      <th>RegistrationYear</th>\n",
              "      <th>Gearbox</th>\n",
              "      <th>Power</th>\n",
              "      <th>Model</th>\n",
              "      <th>Kilometer</th>\n",
              "      <th>RegistrationMonth</th>\n",
              "      <th>FuelType</th>\n",
              "      <th>Brand</th>\n",
              "      <th>Repaired</th>\n",
              "      <th>DateCreated</th>\n",
              "      <th>NumberOfPictures</th>\n",
              "      <th>PostalCode</th>\n",
              "      <th>LastSeen</th>\n",
              "    </tr>\n",
              "  </thead>\n",
              "  <tbody>\n",
              "    <tr>\n",
              "      <th>22</th>\n",
              "      <td>2016-03-23 14:52:51</td>\n",
              "      <td>2900</td>\n",
              "      <td>NaN</td>\n",
              "      <td>2018</td>\n",
              "      <td>manual</td>\n",
              "      <td>90</td>\n",
              "      <td>meriva</td>\n",
              "      <td>150000</td>\n",
              "      <td>5</td>\n",
              "      <td>petrol</td>\n",
              "      <td>opel</td>\n",
              "      <td>no</td>\n",
              "      <td>2016-03-23 00:00:00</td>\n",
              "      <td>0</td>\n",
              "      <td>49716</td>\n",
              "      <td>2016-03-31 01:16:33</td>\n",
              "    </tr>\n",
              "    <tr>\n",
              "      <th>57</th>\n",
              "      <td>2016-03-10 20:53:19</td>\n",
              "      <td>2399</td>\n",
              "      <td>NaN</td>\n",
              "      <td>2018</td>\n",
              "      <td>manual</td>\n",
              "      <td>64</td>\n",
              "      <td>other</td>\n",
              "      <td>125000</td>\n",
              "      <td>3</td>\n",
              "      <td>NaN</td>\n",
              "      <td>seat</td>\n",
              "      <td>no</td>\n",
              "      <td>2016-03-10 00:00:00</td>\n",
              "      <td>0</td>\n",
              "      <td>33397</td>\n",
              "      <td>2016-03-25 10:17:37</td>\n",
              "    </tr>\n",
              "    <tr>\n",
              "      <th>163</th>\n",
              "      <td>2016-04-04 12:57:02</td>\n",
              "      <td>1200</td>\n",
              "      <td>NaN</td>\n",
              "      <td>2018</td>\n",
              "      <td>manual</td>\n",
              "      <td>75</td>\n",
              "      <td>astra</td>\n",
              "      <td>150000</td>\n",
              "      <td>0</td>\n",
              "      <td>NaN</td>\n",
              "      <td>opel</td>\n",
              "      <td>no</td>\n",
              "      <td>2016-04-04 00:00:00</td>\n",
              "      <td>0</td>\n",
              "      <td>15344</td>\n",
              "      <td>2016-04-06 14:45:26</td>\n",
              "    </tr>\n",
              "    <tr>\n",
              "      <th>196</th>\n",
              "      <td>2016-03-24 13:51:03</td>\n",
              "      <td>2800</td>\n",
              "      <td>NaN</td>\n",
              "      <td>2018</td>\n",
              "      <td>manual</td>\n",
              "      <td>75</td>\n",
              "      <td>twingo</td>\n",
              "      <td>125000</td>\n",
              "      <td>12</td>\n",
              "      <td>NaN</td>\n",
              "      <td>renault</td>\n",
              "      <td>no</td>\n",
              "      <td>2016-03-24 00:00:00</td>\n",
              "      <td>0</td>\n",
              "      <td>86199</td>\n",
              "      <td>2016-04-07 05:17:27</td>\n",
              "    </tr>\n",
              "    <tr>\n",
              "      <th>355</th>\n",
              "      <td>2016-03-12 19:00:11</td>\n",
              "      <td>1050</td>\n",
              "      <td>NaN</td>\n",
              "      <td>2018</td>\n",
              "      <td>NaN</td>\n",
              "      <td>0</td>\n",
              "      <td>golf</td>\n",
              "      <td>150000</td>\n",
              "      <td>0</td>\n",
              "      <td>NaN</td>\n",
              "      <td>volkswagen</td>\n",
              "      <td>NaN</td>\n",
              "      <td>2016-03-12 00:00:00</td>\n",
              "      <td>0</td>\n",
              "      <td>53567</td>\n",
              "      <td>2016-04-07 10:44:48</td>\n",
              "    </tr>\n",
              "  </tbody>\n",
              "</table>\n",
              "</div>"
            ],
            "text/plain": [
              "             DateCrawled  Price VehicleType  RegistrationYear Gearbox  Power  \\\n",
              "22   2016-03-23 14:52:51   2900         NaN              2018  manual     90   \n",
              "57   2016-03-10 20:53:19   2399         NaN              2018  manual     64   \n",
              "163  2016-04-04 12:57:02   1200         NaN              2018  manual     75   \n",
              "196  2016-03-24 13:51:03   2800         NaN              2018  manual     75   \n",
              "355  2016-03-12 19:00:11   1050         NaN              2018     NaN      0   \n",
              "\n",
              "      Model  Kilometer  RegistrationMonth FuelType       Brand Repaired  \\\n",
              "22   meriva     150000                  5   petrol        opel       no   \n",
              "57    other     125000                  3      NaN        seat       no   \n",
              "163   astra     150000                  0      NaN        opel       no   \n",
              "196  twingo     125000                 12      NaN     renault       no   \n",
              "355    golf     150000                  0      NaN  volkswagen      NaN   \n",
              "\n",
              "             DateCreated  NumberOfPictures  PostalCode             LastSeen  \n",
              "22   2016-03-23 00:00:00                 0       49716  2016-03-31 01:16:33  \n",
              "57   2016-03-10 00:00:00                 0       33397  2016-03-25 10:17:37  \n",
              "163  2016-04-04 00:00:00                 0       15344  2016-04-06 14:45:26  \n",
              "196  2016-03-24 00:00:00                 0       86199  2016-04-07 05:17:27  \n",
              "355  2016-03-12 00:00:00                 0       53567  2016-04-07 10:44:48  "
            ]
          },
          "execution_count": 20,
          "metadata": {},
          "output_type": "execute_result"
        }
      ],
      "source": [
        "data[data['RegistrationYear'] > 2017].head()"
      ]
    },
    {
      "cell_type": "markdown",
      "metadata": {
        "id": "q7lUXRz72zUq"
      },
      "source": [
        "Чудеса, последние объявления добавлены в 2016 году, а уже продаются авто 2017 и 2018 года выпуска. Явные фейки, удаляем. Так же все машины ниже 1919 года."
      ]
    },
    {
      "cell_type": "code",
      "execution_count": null,
      "metadata": {
        "id": "cicVDMvR2zUr"
      },
      "outputs": [],
      "source": [
        "#data['DateCreated'].value_counts()"
      ]
    },
    {
      "cell_type": "code",
      "execution_count": null,
      "metadata": {
        "scrolled": false,
        "id": "4hQYwdoy2zUr",
        "outputId": "4b08346b-72a9-4bbe-89ee-6ef7bfaaa734"
      },
      "outputs": [
        {
          "data": {
            "text/plain": [
              "323825    2016-04-07 00:00:00\n",
              "238423    2016-04-07 00:00:00\n",
              "218464    2016-04-07 00:00:00\n",
              "8823      2016-04-07 00:00:00\n",
              "136456    2016-04-07 00:00:00\n",
              "                 ...         \n",
              "175103    2015-08-10 00:00:00\n",
              "86601     2015-08-07 00:00:00\n",
              "342275    2015-06-18 00:00:00\n",
              "4001      2015-03-20 00:00:00\n",
              "61207     2014-03-10 00:00:00\n",
              "Name: DateCreated, Length: 354369, dtype: object"
            ]
          },
          "execution_count": 22,
          "metadata": {},
          "output_type": "execute_result"
        }
      ],
      "source": [
        "data['DateCreated'].sort_values(ascending=False)"
      ]
    },
    {
      "cell_type": "markdown",
      "metadata": {
        "id": "M3no7c6G2zUs"
      },
      "source": [
        "была машина в ремонте или нет мы не определим, а в этом пункте самые большие пропуски. Считаю не стоит тратить время на востановление данных, да их и не так много всего 3,4% Удаляем"
      ]
    },
    {
      "cell_type": "code",
      "execution_count": null,
      "metadata": {
        "id": "ib9WIrqt2zUs",
        "outputId": "e190ca3d-4815-4ef3-9af7-cca500a96716"
      },
      "outputs": [
        {
          "data": {
            "text/html": [
              "<div>\n",
              "<style scoped>\n",
              "    .dataframe tbody tr th:only-of-type {\n",
              "        vertical-align: middle;\n",
              "    }\n",
              "\n",
              "    .dataframe tbody tr th {\n",
              "        vertical-align: top;\n",
              "    }\n",
              "\n",
              "    .dataframe thead th {\n",
              "        text-align: right;\n",
              "    }\n",
              "</style>\n",
              "<table border=\"1\" class=\"dataframe\">\n",
              "  <thead>\n",
              "    <tr style=\"text-align: right;\">\n",
              "      <th></th>\n",
              "      <th>DateCrawled</th>\n",
              "      <th>Price</th>\n",
              "      <th>VehicleType</th>\n",
              "      <th>RegistrationYear</th>\n",
              "      <th>Gearbox</th>\n",
              "      <th>Power</th>\n",
              "      <th>Model</th>\n",
              "      <th>Kilometer</th>\n",
              "      <th>RegistrationMonth</th>\n",
              "      <th>FuelType</th>\n",
              "      <th>Brand</th>\n",
              "      <th>Repaired</th>\n",
              "      <th>DateCreated</th>\n",
              "      <th>NumberOfPictures</th>\n",
              "      <th>PostalCode</th>\n",
              "      <th>LastSeen</th>\n",
              "    </tr>\n",
              "  </thead>\n",
              "  <tbody>\n",
              "    <tr>\n",
              "      <th>171088</th>\n",
              "      <td>2016-03-08 18:42:48</td>\n",
              "      <td>1799</td>\n",
              "      <td>coupe</td>\n",
              "      <td>1999</td>\n",
              "      <td>auto</td>\n",
              "      <td>193</td>\n",
              "      <td>clk</td>\n",
              "      <td>20000</td>\n",
              "      <td>7</td>\n",
              "      <td>petrol</td>\n",
              "      <td>mercedes_benz</td>\n",
              "      <td>no</td>\n",
              "      <td>2016-03-08 00:00:00</td>\n",
              "      <td>0</td>\n",
              "      <td>89518</td>\n",
              "      <td>2016-03-09 09:46:57</td>\n",
              "    </tr>\n",
              "    <tr>\n",
              "      <th>231258</th>\n",
              "      <td>2016-03-28 00:56:10</td>\n",
              "      <td>1000</td>\n",
              "      <td>small</td>\n",
              "      <td>2002</td>\n",
              "      <td>manual</td>\n",
              "      <td>83</td>\n",
              "      <td>other</td>\n",
              "      <td>150000</td>\n",
              "      <td>1</td>\n",
              "      <td>petrol</td>\n",
              "      <td>suzuki</td>\n",
              "      <td>no</td>\n",
              "      <td>2016-03-28 00:00:00</td>\n",
              "      <td>0</td>\n",
              "      <td>66589</td>\n",
              "      <td>2016-03-28 08:46:21</td>\n",
              "    </tr>\n",
              "    <tr>\n",
              "      <th>258109</th>\n",
              "      <td>2016-04-03 09:01:15</td>\n",
              "      <td>4699</td>\n",
              "      <td>coupe</td>\n",
              "      <td>2003</td>\n",
              "      <td>auto</td>\n",
              "      <td>218</td>\n",
              "      <td>clk</td>\n",
              "      <td>125000</td>\n",
              "      <td>6</td>\n",
              "      <td>petrol</td>\n",
              "      <td>mercedes_benz</td>\n",
              "      <td>yes</td>\n",
              "      <td>2016-04-03 00:00:00</td>\n",
              "      <td>0</td>\n",
              "      <td>75196</td>\n",
              "      <td>2016-04-07 09:44:54</td>\n",
              "    </tr>\n",
              "    <tr>\n",
              "      <th>325651</th>\n",
              "      <td>2016-03-18 18:46:15</td>\n",
              "      <td>1999</td>\n",
              "      <td>wagon</td>\n",
              "      <td>2001</td>\n",
              "      <td>manual</td>\n",
              "      <td>131</td>\n",
              "      <td>passat</td>\n",
              "      <td>150000</td>\n",
              "      <td>7</td>\n",
              "      <td>gasoline</td>\n",
              "      <td>volkswagen</td>\n",
              "      <td>no</td>\n",
              "      <td>2016-03-18 00:00:00</td>\n",
              "      <td>0</td>\n",
              "      <td>36391</td>\n",
              "      <td>2016-03-18 18:46:15</td>\n",
              "    </tr>\n",
              "  </tbody>\n",
              "</table>\n",
              "</div>"
            ],
            "text/plain": [
              "                DateCrawled  Price VehicleType  RegistrationYear Gearbox  \\\n",
              "171088  2016-03-08 18:42:48   1799       coupe              1999    auto   \n",
              "231258  2016-03-28 00:56:10   1000       small              2002  manual   \n",
              "258109  2016-04-03 09:01:15   4699       coupe              2003    auto   \n",
              "325651  2016-03-18 18:46:15   1999       wagon              2001  manual   \n",
              "\n",
              "        Power   Model  Kilometer  RegistrationMonth  FuelType          Brand  \\\n",
              "171088    193     clk      20000                  7    petrol  mercedes_benz   \n",
              "231258     83   other     150000                  1    petrol         suzuki   \n",
              "258109    218     clk     125000                  6    petrol  mercedes_benz   \n",
              "325651    131  passat     150000                  7  gasoline     volkswagen   \n",
              "\n",
              "       Repaired          DateCreated  NumberOfPictures  PostalCode  \\\n",
              "171088       no  2016-03-08 00:00:00                 0       89518   \n",
              "231258       no  2016-03-28 00:00:00                 0       66589   \n",
              "258109      yes  2016-04-03 00:00:00                 0       75196   \n",
              "325651       no  2016-03-18 00:00:00                 0       36391   \n",
              "\n",
              "                   LastSeen  \n",
              "171088  2016-03-09 09:46:57  \n",
              "231258  2016-03-28 08:46:21  \n",
              "258109  2016-04-07 09:44:54  \n",
              "325651  2016-03-18 18:46:15  "
            ]
          },
          "execution_count": 23,
          "metadata": {},
          "output_type": "execute_result"
        }
      ],
      "source": [
        "# Вывод всех задублированных строк\n",
        "data[data.duplicated()]"
      ]
    },
    {
      "cell_type": "markdown",
      "metadata": {
        "id": "tcq2fI9-2zUt"
      },
      "source": [
        "Дубли не явные, но тоже можно удалить. Считаю на качество данных не повлияет."
      ]
    },
    {
      "cell_type": "code",
      "execution_count": null,
      "metadata": {
        "id": "Sd8avMZz2zUu"
      },
      "outputs": [],
      "source": [
        "#data = data.dropna()"
      ]
    },
    {
      "cell_type": "code",
      "execution_count": null,
      "metadata": {
        "id": "X5qGkBA92zUu"
      },
      "outputs": [],
      "source": [
        "for i in ['Repaired', 'Gearbox', 'Model', 'FuelType', 'VehicleType']:\n",
        "    data[i]=data[i].fillna('other')"
      ]
    },
    {
      "cell_type": "code",
      "execution_count": null,
      "metadata": {
        "id": "bQpjgZhF2zUv"
      },
      "outputs": [],
      "source": [
        "#data.isna().sum()"
      ]
    },
    {
      "cell_type": "markdown",
      "metadata": {
        "id": "Qkf_YdV92zUx"
      },
      "source": [
        "Так же удалим все не информативные столбцы. Которые точно не влияют на финальный результат."
      ]
    },
    {
      "cell_type": "code",
      "execution_count": null,
      "metadata": {
        "id": "85yqaJr72zUx"
      },
      "outputs": [],
      "source": [
        "data = data.drop(['NumberOfPictures', 'PostalCode', 'DateCrawled', 'DateCreated', 'LastSeen', 'RegistrationMonth'], axis=1)"
      ]
    },
    {
      "cell_type": "code",
      "execution_count": null,
      "metadata": {
        "id": "rRWmf6J82zUy",
        "outputId": "e367a6b5-28b1-4ec4-add7-cd68a070be27"
      },
      "outputs": [
        {
          "data": {
            "text/plain": [
              "<AxesSubplot:>"
            ]
          },
          "execution_count": 28,
          "metadata": {},
          "output_type": "execute_result"
        },
        {
          "data": {
            "image/png": "[encoded data removed]",
            "text/plain": [
              "<Figure size 1800x720 with 3 Axes>"
            ]
          },
          "metadata": {
            "needs_background": "light"
          },
          "output_type": "display_data"
        }
      ],
      "source": [
        "msno.bar(data)\n"
      ]
    },
    {
      "cell_type": "code",
      "execution_count": null,
      "metadata": {
        "id": "y5R3u0B-2zUy"
      },
      "outputs": [],
      "source": [
        "data.drop_duplicates(inplace=True)"
      ]
    },
    {
      "cell_type": "code",
      "execution_count": null,
      "metadata": {
        "id": "cNPiAF2w2zU0",
        "outputId": "bcce259d-98ad-48ad-b33b-c848349c8cc7"
      },
      "outputs": [
        {
          "data": {
            "text/html": [
              "<div>\n",
              "<style scoped>\n",
              "    .dataframe tbody tr th:only-of-type {\n",
              "        vertical-align: middle;\n",
              "    }\n",
              "\n",
              "    .dataframe tbody tr th {\n",
              "        vertical-align: top;\n",
              "    }\n",
              "\n",
              "    .dataframe thead th {\n",
              "        text-align: right;\n",
              "    }\n",
              "</style>\n",
              "<table border=\"1\" class=\"dataframe\">\n",
              "  <thead>\n",
              "    <tr style=\"text-align: right;\">\n",
              "      <th></th>\n",
              "      <th>Price</th>\n",
              "      <th>VehicleType</th>\n",
              "      <th>RegistrationYear</th>\n",
              "      <th>Gearbox</th>\n",
              "      <th>Power</th>\n",
              "      <th>Model</th>\n",
              "      <th>Kilometer</th>\n",
              "      <th>FuelType</th>\n",
              "      <th>Brand</th>\n",
              "      <th>Repaired</th>\n",
              "    </tr>\n",
              "  </thead>\n",
              "  <tbody>\n",
              "  </tbody>\n",
              "</table>\n",
              "</div>"
            ],
            "text/plain": [
              "Empty DataFrame\n",
              "Columns: [Price, VehicleType, RegistrationYear, Gearbox, Power, Model, Kilometer, FuelType, Brand, Repaired]\n",
              "Index: []"
            ]
          },
          "execution_count": 30,
          "metadata": {},
          "output_type": "execute_result"
        }
      ],
      "source": [
        "data[data.duplicated()]"
      ]
    },
    {
      "cell_type": "markdown",
      "metadata": {
        "id": "ykdrsHio2zU1"
      },
      "source": [
        "Все хорошо, пропуск и дубликаты удалены."
      ]
    },
    {
      "cell_type": "code",
      "execution_count": null,
      "metadata": {
        "id": "lsozwZl_2zU1"
      },
      "outputs": [],
      "source": [
        "data.columns = data.columns.str.lower()"
      ]
    },
    {
      "cell_type": "code",
      "execution_count": null,
      "metadata": {
        "id": "2P1KwZ2p2zU2",
        "outputId": "e5138db5-ff90-4548-f099-b3ba09947253"
      },
      "outputs": [
        {
          "data": {
            "text/html": [
              "<div>\n",
              "<style scoped>\n",
              "    .dataframe tbody tr th:only-of-type {\n",
              "        vertical-align: middle;\n",
              "    }\n",
              "\n",
              "    .dataframe tbody tr th {\n",
              "        vertical-align: top;\n",
              "    }\n",
              "\n",
              "    .dataframe thead th {\n",
              "        text-align: right;\n",
              "    }\n",
              "</style>\n",
              "<table border=\"1\" class=\"dataframe\">\n",
              "  <thead>\n",
              "    <tr style=\"text-align: right;\">\n",
              "      <th></th>\n",
              "      <th>price</th>\n",
              "      <th>vehicletype</th>\n",
              "      <th>registrationyear</th>\n",
              "      <th>gearbox</th>\n",
              "      <th>power</th>\n",
              "      <th>model</th>\n",
              "      <th>kilometer</th>\n",
              "      <th>fueltype</th>\n",
              "      <th>brand</th>\n",
              "      <th>repaired</th>\n",
              "    </tr>\n",
              "  </thead>\n",
              "  <tbody>\n",
              "    <tr>\n",
              "      <th>0</th>\n",
              "      <td>480</td>\n",
              "      <td>other</td>\n",
              "      <td>1993</td>\n",
              "      <td>manual</td>\n",
              "      <td>0</td>\n",
              "      <td>golf</td>\n",
              "      <td>150000</td>\n",
              "      <td>petrol</td>\n",
              "      <td>volkswagen</td>\n",
              "      <td>other</td>\n",
              "    </tr>\n",
              "    <tr>\n",
              "      <th>1</th>\n",
              "      <td>18300</td>\n",
              "      <td>coupe</td>\n",
              "      <td>2011</td>\n",
              "      <td>manual</td>\n",
              "      <td>190</td>\n",
              "      <td>other</td>\n",
              "      <td>125000</td>\n",
              "      <td>gasoline</td>\n",
              "      <td>audi</td>\n",
              "      <td>yes</td>\n",
              "    </tr>\n",
              "    <tr>\n",
              "      <th>2</th>\n",
              "      <td>9800</td>\n",
              "      <td>suv</td>\n",
              "      <td>2004</td>\n",
              "      <td>auto</td>\n",
              "      <td>163</td>\n",
              "      <td>grand</td>\n",
              "      <td>125000</td>\n",
              "      <td>gasoline</td>\n",
              "      <td>jeep</td>\n",
              "      <td>other</td>\n",
              "    </tr>\n",
              "    <tr>\n",
              "      <th>3</th>\n",
              "      <td>1500</td>\n",
              "      <td>small</td>\n",
              "      <td>2001</td>\n",
              "      <td>manual</td>\n",
              "      <td>75</td>\n",
              "      <td>golf</td>\n",
              "      <td>150000</td>\n",
              "      <td>petrol</td>\n",
              "      <td>volkswagen</td>\n",
              "      <td>no</td>\n",
              "    </tr>\n",
              "    <tr>\n",
              "      <th>4</th>\n",
              "      <td>3600</td>\n",
              "      <td>small</td>\n",
              "      <td>2008</td>\n",
              "      <td>manual</td>\n",
              "      <td>69</td>\n",
              "      <td>fabia</td>\n",
              "      <td>90000</td>\n",
              "      <td>gasoline</td>\n",
              "      <td>skoda</td>\n",
              "      <td>no</td>\n",
              "    </tr>\n",
              "  </tbody>\n",
              "</table>\n",
              "</div>"
            ],
            "text/plain": [
              "   price vehicletype  registrationyear gearbox  power  model  kilometer  \\\n",
              "0    480       other              1993  manual      0   golf     150000   \n",
              "1  18300       coupe              2011  manual    190  other     125000   \n",
              "2   9800         suv              2004    auto    163  grand     125000   \n",
              "3   1500       small              2001  manual     75   golf     150000   \n",
              "4   3600       small              2008  manual     69  fabia      90000   \n",
              "\n",
              "   fueltype       brand repaired  \n",
              "0    petrol  volkswagen    other  \n",
              "1  gasoline        audi      yes  \n",
              "2  gasoline        jeep    other  \n",
              "3    petrol  volkswagen       no  \n",
              "4  gasoline       skoda       no  "
            ]
          },
          "execution_count": 32,
          "metadata": {},
          "output_type": "execute_result"
        }
      ],
      "source": [
        "data.head()"
      ]
    },
    {
      "cell_type": "code",
      "execution_count": null,
      "metadata": {
        "id": "Fcjk7QiC2zU2",
        "outputId": "b52f720c-d3a3-45ca-c32b-ff97db541a0e"
      },
      "outputs": [
        {
          "name": "stdout",
          "output_type": "stream",
          "text": [
            "<class 'pandas.core.frame.DataFrame'>\n",
            "Int64Index: 309178 entries, 0 to 354368\n",
            "Data columns (total 10 columns):\n",
            " #   Column            Non-Null Count   Dtype \n",
            "---  ------            --------------   ----- \n",
            " 0   price             309178 non-null  int64 \n",
            " 1   vehicletype       309178 non-null  object\n",
            " 2   registrationyear  309178 non-null  int64 \n",
            " 3   gearbox           309178 non-null  object\n",
            " 4   power             309178 non-null  int64 \n",
            " 5   model             309178 non-null  object\n",
            " 6   kilometer         309178 non-null  int64 \n",
            " 7   fueltype          309178 non-null  object\n",
            " 8   brand             309178 non-null  object\n",
            " 9   repaired          309178 non-null  object\n",
            "dtypes: int64(4), object(6)\n",
            "memory usage: 25.9+ MB\n"
          ]
        }
      ],
      "source": [
        "data.info()"
      ]
    },
    {
      "cell_type": "code",
      "execution_count": null,
      "metadata": {
        "id": "BXGGR-9U2zU4",
        "outputId": "1bcdfeea-8941-44ed-d9f9-dd261c6878d3"
      },
      "outputs": [
        {
          "data": {
            "text/plain": [
              "array([1993, 2011, 2004, 2001, 2008, 1995, 1980, 2014, 1998, 2005, 1910,\n",
              "       2016, 2007, 2009, 2002, 2018, 1997, 1990, 2017, 1981, 2003, 1994,\n",
              "       1991, 1984, 2006, 1999, 2012, 2010, 2000, 1992, 2013, 1996, 1985,\n",
              "       1989, 2015, 1982, 1976, 1983, 1973, 1111, 1969, 1971, 1987, 1986,\n",
              "       1988, 1970, 1965, 1945, 1925, 1974, 1979, 1955, 1978, 1972, 1968,\n",
              "       1977, 1961, 1960, 1966, 1975, 1963, 1964, 5000, 1954, 1958, 1967,\n",
              "       1959, 9999, 1956, 3200, 1000, 1941, 8888, 1500, 2200, 4100, 1962,\n",
              "       1929, 1957, 1940, 3000, 2066, 1949, 2019, 1937, 1951, 1800, 1953,\n",
              "       1234, 8000, 5300, 9000, 2900, 6000, 5900, 5911, 1933, 1400, 1950,\n",
              "       4000, 1948, 1952, 1200, 8500, 1932, 1255, 3700, 3800, 4800, 1942,\n",
              "       7000, 1935, 1936, 6500, 1923, 2290, 2500, 1930, 1001, 9450, 1944,\n",
              "       1943, 1934, 1938, 1688, 2800, 1253, 1928, 1919, 5555, 5600, 1600,\n",
              "       2222, 1039, 9996, 1300, 8455, 1931, 1915, 4500, 1920, 1602, 7800,\n",
              "       9229, 1947, 1927, 7100, 8200, 1946, 7500, 3500])"
            ]
          },
          "execution_count": 34,
          "metadata": {},
          "output_type": "execute_result"
        }
      ],
      "source": [
        "#data['registrationyear'].value_counts()\n",
        "data['registrationyear'].unique()\n"
      ]
    },
    {
      "cell_type": "code",
      "execution_count": null,
      "metadata": {
        "id": "Ftr0365_2zU4"
      },
      "outputs": [],
      "source": [
        "#data[data['registrationyear'] > 2017].head(130)"
      ]
    },
    {
      "cell_type": "code",
      "execution_count": null,
      "metadata": {
        "id": "skyz0W9z2zU5"
      },
      "outputs": [],
      "source": [
        "#data['registrationyear'].plot.bar(figsize=(15, 6))"
      ]
    },
    {
      "cell_type": "code",
      "execution_count": null,
      "metadata": {
        "id": "FazSdQt72zU6"
      },
      "outputs": [],
      "source": [
        "#auto_year = data.pivot_table(index = 'registrationyear', values = 'price', aggfunc = 'count')"
      ]
    },
    {
      "cell_type": "code",
      "execution_count": null,
      "metadata": {
        "id": "ZFF70Pe92zU6"
      },
      "outputs": [],
      "source": [
        "data = data[data['registrationyear'] < 2017]"
      ]
    },
    {
      "cell_type": "code",
      "execution_count": null,
      "metadata": {
        "scrolled": true,
        "id": "TFwZw_6I2zU7",
        "outputId": "6ac9692d-d34e-40ea-8fa1-87552815ef31"
      },
      "outputs": [
        {
          "data": {
            "text/html": [
              "<div>\n",
              "<style scoped>\n",
              "    .dataframe tbody tr th:only-of-type {\n",
              "        vertical-align: middle;\n",
              "    }\n",
              "\n",
              "    .dataframe tbody tr th {\n",
              "        vertical-align: top;\n",
              "    }\n",
              "\n",
              "    .dataframe thead th {\n",
              "        text-align: right;\n",
              "    }\n",
              "</style>\n",
              "<table border=\"1\" class=\"dataframe\">\n",
              "  <thead>\n",
              "    <tr style=\"text-align: right;\">\n",
              "      <th></th>\n",
              "      <th>price</th>\n",
              "      <th>vehicletype</th>\n",
              "      <th>registrationyear</th>\n",
              "      <th>gearbox</th>\n",
              "      <th>power</th>\n",
              "      <th>model</th>\n",
              "      <th>kilometer</th>\n",
              "      <th>fueltype</th>\n",
              "      <th>brand</th>\n",
              "      <th>repaired</th>\n",
              "    </tr>\n",
              "  </thead>\n",
              "  <tbody>\n",
              "    <tr>\n",
              "      <th>15</th>\n",
              "      <td>450</td>\n",
              "      <td>small</td>\n",
              "      <td>1910</td>\n",
              "      <td>other</td>\n",
              "      <td>0</td>\n",
              "      <td>ka</td>\n",
              "      <td>5000</td>\n",
              "      <td>petrol</td>\n",
              "      <td>ford</td>\n",
              "      <td>other</td>\n",
              "    </tr>\n",
              "    <tr>\n",
              "      <th>622</th>\n",
              "      <td>0</td>\n",
              "      <td>other</td>\n",
              "      <td>1111</td>\n",
              "      <td>other</td>\n",
              "      <td>0</td>\n",
              "      <td>other</td>\n",
              "      <td>5000</td>\n",
              "      <td>other</td>\n",
              "      <td>opel</td>\n",
              "      <td>other</td>\n",
              "    </tr>\n",
              "    <tr>\n",
              "      <th>6629</th>\n",
              "      <td>0</td>\n",
              "      <td>small</td>\n",
              "      <td>1910</td>\n",
              "      <td>other</td>\n",
              "      <td>0</td>\n",
              "      <td>other</td>\n",
              "      <td>5000</td>\n",
              "      <td>other</td>\n",
              "      <td>sonstige_autos</td>\n",
              "      <td>other</td>\n",
              "    </tr>\n",
              "    <tr>\n",
              "      <th>6977</th>\n",
              "      <td>135</td>\n",
              "      <td>other</td>\n",
              "      <td>1910</td>\n",
              "      <td>other</td>\n",
              "      <td>0</td>\n",
              "      <td>other</td>\n",
              "      <td>5000</td>\n",
              "      <td>other</td>\n",
              "      <td>opel</td>\n",
              "      <td>other</td>\n",
              "    </tr>\n",
              "    <tr>\n",
              "      <th>10183</th>\n",
              "      <td>1250</td>\n",
              "      <td>other</td>\n",
              "      <td>1910</td>\n",
              "      <td>other</td>\n",
              "      <td>0</td>\n",
              "      <td>other</td>\n",
              "      <td>5000</td>\n",
              "      <td>other</td>\n",
              "      <td>audi</td>\n",
              "      <td>other</td>\n",
              "    </tr>\n",
              "    <tr>\n",
              "      <th>...</th>\n",
              "      <td>...</td>\n",
              "      <td>...</td>\n",
              "      <td>...</td>\n",
              "      <td>...</td>\n",
              "      <td>...</td>\n",
              "      <td>...</td>\n",
              "      <td>...</td>\n",
              "      <td>...</td>\n",
              "      <td>...</td>\n",
              "      <td>...</td>\n",
              "    </tr>\n",
              "    <tr>\n",
              "      <th>334901</th>\n",
              "      <td>1300</td>\n",
              "      <td>other</td>\n",
              "      <td>1910</td>\n",
              "      <td>other</td>\n",
              "      <td>0</td>\n",
              "      <td>other</td>\n",
              "      <td>5000</td>\n",
              "      <td>other</td>\n",
              "      <td>audi</td>\n",
              "      <td>other</td>\n",
              "    </tr>\n",
              "    <tr>\n",
              "      <th>340759</th>\n",
              "      <td>700</td>\n",
              "      <td>other</td>\n",
              "      <td>1600</td>\n",
              "      <td>manual</td>\n",
              "      <td>1600</td>\n",
              "      <td>a3</td>\n",
              "      <td>150000</td>\n",
              "      <td>petrol</td>\n",
              "      <td>audi</td>\n",
              "      <td>no</td>\n",
              "    </tr>\n",
              "    <tr>\n",
              "      <th>348830</th>\n",
              "      <td>1</td>\n",
              "      <td>other</td>\n",
              "      <td>1000</td>\n",
              "      <td>other</td>\n",
              "      <td>1000</td>\n",
              "      <td>other</td>\n",
              "      <td>150000</td>\n",
              "      <td>other</td>\n",
              "      <td>sonstige_autos</td>\n",
              "      <td>other</td>\n",
              "    </tr>\n",
              "    <tr>\n",
              "      <th>351682</th>\n",
              "      <td>11500</td>\n",
              "      <td>other</td>\n",
              "      <td>1800</td>\n",
              "      <td>other</td>\n",
              "      <td>16</td>\n",
              "      <td>other</td>\n",
              "      <td>5000</td>\n",
              "      <td>petrol</td>\n",
              "      <td>fiat</td>\n",
              "      <td>other</td>\n",
              "    </tr>\n",
              "    <tr>\n",
              "      <th>353961</th>\n",
              "      <td>200</td>\n",
              "      <td>other</td>\n",
              "      <td>1910</td>\n",
              "      <td>other</td>\n",
              "      <td>0</td>\n",
              "      <td>other</td>\n",
              "      <td>5000</td>\n",
              "      <td>petrol</td>\n",
              "      <td>sonstige_autos</td>\n",
              "      <td>other</td>\n",
              "    </tr>\n",
              "  </tbody>\n",
              "</table>\n",
              "<p>142 rows × 10 columns</p>\n",
              "</div>"
            ],
            "text/plain": [
              "        price vehicletype  registrationyear gearbox  power  model  kilometer  \\\n",
              "15        450       small              1910   other      0     ka       5000   \n",
              "622         0       other              1111   other      0  other       5000   \n",
              "6629        0       small              1910   other      0  other       5000   \n",
              "6977      135       other              1910   other      0  other       5000   \n",
              "10183    1250       other              1910   other      0  other       5000   \n",
              "...       ...         ...               ...     ...    ...    ...        ...   \n",
              "334901   1300       other              1910   other      0  other       5000   \n",
              "340759    700       other              1600  manual   1600     a3     150000   \n",
              "348830      1       other              1000   other   1000  other     150000   \n",
              "351682  11500       other              1800   other     16  other       5000   \n",
              "353961    200       other              1910   other      0  other       5000   \n",
              "\n",
              "       fueltype           brand repaired  \n",
              "15       petrol            ford    other  \n",
              "622       other            opel    other  \n",
              "6629      other  sonstige_autos    other  \n",
              "6977      other            opel    other  \n",
              "10183     other            audi    other  \n",
              "...         ...             ...      ...  \n",
              "334901    other            audi    other  \n",
              "340759   petrol            audi       no  \n",
              "348830    other  sonstige_autos    other  \n",
              "351682   petrol            fiat    other  \n",
              "353961   petrol  sonstige_autos    other  \n",
              "\n",
              "[142 rows x 10 columns]"
            ]
          },
          "execution_count": 39,
          "metadata": {},
          "output_type": "execute_result"
        }
      ],
      "source": [
        "data[data['registrationyear'] < 1919]"
      ]
    },
    {
      "cell_type": "code",
      "execution_count": null,
      "metadata": {
        "id": "VbGF_qNO2zU9"
      },
      "outputs": [],
      "source": [
        "data = data[data['registrationyear'] > 1919]"
      ]
    },
    {
      "cell_type": "code",
      "execution_count": null,
      "metadata": {
        "id": "FSstAOmG2zU-"
      },
      "outputs": [],
      "source": [
        "auto_year = data.pivot_table(index = 'registrationyear', values = 'price')"
      ]
    },
    {
      "cell_type": "code",
      "execution_count": null,
      "metadata": {
        "scrolled": false,
        "id": "5GZpI2g92zU-",
        "outputId": "8764433d-3725-455b-e10c-1d7a3ebac964"
      },
      "outputs": [
        {
          "data": {
            "text/plain": [
              "<AxesSubplot:xlabel='registrationyear'>"
            ]
          },
          "execution_count": 42,
          "metadata": {},
          "output_type": "execute_result"
        },
        {
          "data": {
            "image/png": "[encoded data removed]",
            "text/plain": [
              "<Figure size 2160x432 with 1 Axes>"
            ]
          },
          "metadata": {
            "needs_background": "light"
          },
          "output_type": "display_data"
        }
      ],
      "source": [
        "auto_year.plot.bar(figsize=(30, 6))"
      ]
    },
    {
      "cell_type": "code",
      "execution_count": null,
      "metadata": {
        "id": "j90XuPSP2zU_"
      },
      "outputs": [],
      "source": [
        "# plt.figure(figsize=(12, 6))\n",
        "# sns.lineplot(data=data, y='price', x='registrationyear')\n",
        "# ax = plt.gca()\n",
        "# ax.xaxis.set_major_locator(plt.MaxNLocator(nbins=20))"
      ]
    },
    {
      "cell_type": "markdown",
      "metadata": {
        "id": "Ciif07ln2zVA"
      },
      "source": [
        "Резделим на категории ретро, поддержанные и новые. Линейность где-то пропадает на 1985 году. Ну и округлим до 30 лет, будем считать, что машины старше 30 лет переходят в категорию ретро."
      ]
    },
    {
      "cell_type": "code",
      "execution_count": null,
      "metadata": {
        "id": "JzSKDm0K2zVA"
      },
      "outputs": [],
      "source": [
        "\n",
        "def categorize(registrationyear): # создайте функцию categorize\n",
        "    if registrationyear <= 1985:\n",
        "        return \"retro\"\n",
        "    elif 1986 <= registrationyear <= 2015:\n",
        "        return \"used_car\"\n",
        "    return \"new\"\n"
      ]
    },
    {
      "cell_type": "code",
      "execution_count": null,
      "metadata": {
        "id": "_GhK9wU-2zVB",
        "outputId": "ad40ac8c-eac6-40f3-d126-da258d78817e"
      },
      "outputs": [
        {
          "data": {
            "text/plain": [
              "used_car    280698\n",
              "new           9005\n",
              "retro         5746\n",
              "Name: categorize, dtype: int64"
            ]
          },
          "execution_count": 45,
          "metadata": {},
          "output_type": "execute_result"
        }
      ],
      "source": [
        "#data['categorize'].value_counts()\n",
        "data['categorize'] = (data['registrationyear'].apply(categorize))\n",
        "data['categorize'].value_counts()"
      ]
    },
    {
      "cell_type": "code",
      "execution_count": null,
      "metadata": {
        "id": "YgpccgTB2zVB",
        "outputId": "ad1f2734-6e7c-4298-b31a-9329874be679"
      },
      "outputs": [
        {
          "data": {
            "text/html": [
              "<div>\n",
              "<style scoped>\n",
              "    .dataframe tbody tr th:only-of-type {\n",
              "        vertical-align: middle;\n",
              "    }\n",
              "\n",
              "    .dataframe tbody tr th {\n",
              "        vertical-align: top;\n",
              "    }\n",
              "\n",
              "    .dataframe thead th {\n",
              "        text-align: right;\n",
              "    }\n",
              "</style>\n",
              "<table border=\"1\" class=\"dataframe\">\n",
              "  <thead>\n",
              "    <tr style=\"text-align: right;\">\n",
              "      <th></th>\n",
              "      <th>price</th>\n",
              "      <th>vehicletype</th>\n",
              "      <th>registrationyear</th>\n",
              "      <th>gearbox</th>\n",
              "      <th>power</th>\n",
              "      <th>model</th>\n",
              "      <th>kilometer</th>\n",
              "      <th>fueltype</th>\n",
              "      <th>brand</th>\n",
              "      <th>repaired</th>\n",
              "      <th>categorize</th>\n",
              "    </tr>\n",
              "  </thead>\n",
              "  <tbody>\n",
              "    <tr>\n",
              "      <th>7</th>\n",
              "      <td>0</td>\n",
              "      <td>sedan</td>\n",
              "      <td>1980</td>\n",
              "      <td>manual</td>\n",
              "      <td>50</td>\n",
              "      <td>other</td>\n",
              "      <td>40000</td>\n",
              "      <td>petrol</td>\n",
              "      <td>volkswagen</td>\n",
              "      <td>no</td>\n",
              "      <td>retro</td>\n",
              "    </tr>\n",
              "    <tr>\n",
              "      <th>40</th>\n",
              "      <td>0</td>\n",
              "      <td>other</td>\n",
              "      <td>1990</td>\n",
              "      <td>other</td>\n",
              "      <td>0</td>\n",
              "      <td>corsa</td>\n",
              "      <td>150000</td>\n",
              "      <td>petrol</td>\n",
              "      <td>opel</td>\n",
              "      <td>other</td>\n",
              "      <td>used_car</td>\n",
              "    </tr>\n",
              "    <tr>\n",
              "      <th>59</th>\n",
              "      <td>1</td>\n",
              "      <td>suv</td>\n",
              "      <td>1994</td>\n",
              "      <td>manual</td>\n",
              "      <td>286</td>\n",
              "      <td>other</td>\n",
              "      <td>150000</td>\n",
              "      <td>other</td>\n",
              "      <td>sonstige_autos</td>\n",
              "      <td>other</td>\n",
              "      <td>used_car</td>\n",
              "    </tr>\n",
              "    <tr>\n",
              "      <th>89</th>\n",
              "      <td>1</td>\n",
              "      <td>sedan</td>\n",
              "      <td>1995</td>\n",
              "      <td>manual</td>\n",
              "      <td>113</td>\n",
              "      <td>e_klasse</td>\n",
              "      <td>150000</td>\n",
              "      <td>gasoline</td>\n",
              "      <td>mercedes_benz</td>\n",
              "      <td>no</td>\n",
              "      <td>used_car</td>\n",
              "    </tr>\n",
              "    <tr>\n",
              "      <th>115</th>\n",
              "      <td>0</td>\n",
              "      <td>small</td>\n",
              "      <td>1999</td>\n",
              "      <td>other</td>\n",
              "      <td>0</td>\n",
              "      <td>other</td>\n",
              "      <td>5000</td>\n",
              "      <td>petrol</td>\n",
              "      <td>volkswagen</td>\n",
              "      <td>other</td>\n",
              "      <td>used_car</td>\n",
              "    </tr>\n",
              "    <tr>\n",
              "      <th>...</th>\n",
              "      <td>...</td>\n",
              "      <td>...</td>\n",
              "      <td>...</td>\n",
              "      <td>...</td>\n",
              "      <td>...</td>\n",
              "      <td>...</td>\n",
              "      <td>...</td>\n",
              "      <td>...</td>\n",
              "      <td>...</td>\n",
              "      <td>...</td>\n",
              "      <td>...</td>\n",
              "    </tr>\n",
              "    <tr>\n",
              "      <th>354205</th>\n",
              "      <td>0</td>\n",
              "      <td>other</td>\n",
              "      <td>2000</td>\n",
              "      <td>manual</td>\n",
              "      <td>65</td>\n",
              "      <td>corsa</td>\n",
              "      <td>150000</td>\n",
              "      <td>other</td>\n",
              "      <td>opel</td>\n",
              "      <td>yes</td>\n",
              "      <td>used_car</td>\n",
              "    </tr>\n",
              "    <tr>\n",
              "      <th>354238</th>\n",
              "      <td>0</td>\n",
              "      <td>small</td>\n",
              "      <td>2002</td>\n",
              "      <td>manual</td>\n",
              "      <td>60</td>\n",
              "      <td>fiesta</td>\n",
              "      <td>150000</td>\n",
              "      <td>petrol</td>\n",
              "      <td>ford</td>\n",
              "      <td>other</td>\n",
              "      <td>used_car</td>\n",
              "    </tr>\n",
              "    <tr>\n",
              "      <th>354248</th>\n",
              "      <td>0</td>\n",
              "      <td>small</td>\n",
              "      <td>1999</td>\n",
              "      <td>manual</td>\n",
              "      <td>53</td>\n",
              "      <td>swift</td>\n",
              "      <td>150000</td>\n",
              "      <td>petrol</td>\n",
              "      <td>suzuki</td>\n",
              "      <td>other</td>\n",
              "      <td>used_car</td>\n",
              "    </tr>\n",
              "    <tr>\n",
              "      <th>354277</th>\n",
              "      <td>0</td>\n",
              "      <td>small</td>\n",
              "      <td>1999</td>\n",
              "      <td>manual</td>\n",
              "      <td>37</td>\n",
              "      <td>arosa</td>\n",
              "      <td>150000</td>\n",
              "      <td>petrol</td>\n",
              "      <td>seat</td>\n",
              "      <td>yes</td>\n",
              "      <td>used_car</td>\n",
              "    </tr>\n",
              "    <tr>\n",
              "      <th>354364</th>\n",
              "      <td>0</td>\n",
              "      <td>other</td>\n",
              "      <td>2005</td>\n",
              "      <td>manual</td>\n",
              "      <td>0</td>\n",
              "      <td>colt</td>\n",
              "      <td>150000</td>\n",
              "      <td>petrol</td>\n",
              "      <td>mitsubishi</td>\n",
              "      <td>yes</td>\n",
              "      <td>used_car</td>\n",
              "    </tr>\n",
              "  </tbody>\n",
              "</table>\n",
              "<p>9206 rows × 11 columns</p>\n",
              "</div>"
            ],
            "text/plain": [
              "        price vehicletype  registrationyear gearbox  power     model  \\\n",
              "7           0       sedan              1980  manual     50     other   \n",
              "40          0       other              1990   other      0     corsa   \n",
              "59          1         suv              1994  manual    286     other   \n",
              "89          1       sedan              1995  manual    113  e_klasse   \n",
              "115         0       small              1999   other      0     other   \n",
              "...       ...         ...               ...     ...    ...       ...   \n",
              "354205      0       other              2000  manual     65     corsa   \n",
              "354238      0       small              2002  manual     60    fiesta   \n",
              "354248      0       small              1999  manual     53     swift   \n",
              "354277      0       small              1999  manual     37     arosa   \n",
              "354364      0       other              2005  manual      0      colt   \n",
              "\n",
              "        kilometer  fueltype           brand repaired categorize  \n",
              "7           40000    petrol      volkswagen       no      retro  \n",
              "40         150000    petrol            opel    other   used_car  \n",
              "59         150000     other  sonstige_autos    other   used_car  \n",
              "89         150000  gasoline   mercedes_benz       no   used_car  \n",
              "115          5000    petrol      volkswagen    other   used_car  \n",
              "...           ...       ...             ...      ...        ...  \n",
              "354205     150000     other            opel      yes   used_car  \n",
              "354238     150000    petrol            ford    other   used_car  \n",
              "354248     150000    petrol          suzuki    other   used_car  \n",
              "354277     150000    petrol            seat      yes   used_car  \n",
              "354364     150000    petrol      mitsubishi      yes   used_car  \n",
              "\n",
              "[9206 rows x 11 columns]"
            ]
          },
          "execution_count": 46,
          "metadata": {},
          "output_type": "execute_result"
        }
      ],
      "source": [
        "data[data['price'] < 10]"
      ]
    },
    {
      "cell_type": "markdown",
      "metadata": {
        "id": "1UmMP-6H2zVC"
      },
      "source": [
        "Бесплатные машины так же уберем."
      ]
    },
    {
      "cell_type": "code",
      "execution_count": null,
      "metadata": {
        "id": "ZBcR6glN2zVC"
      },
      "outputs": [],
      "source": [
        "data = data[data['price'] > 10]"
      ]
    },
    {
      "cell_type": "code",
      "execution_count": null,
      "metadata": {
        "id": "Lv7VLx-I2zVC",
        "outputId": "07ef653c-4007-4089-c9da-f06a2f6e974d"
      },
      "outputs": [
        {
          "data": {
            "text/plain": [
              "500      4445\n",
              "1500     4257\n",
              "1000     3604\n",
              "1200     3563\n",
              "2500     3525\n",
              "         ... \n",
              "836         1\n",
              "5247        1\n",
              "11955       1\n",
              "8225        1\n",
              "8188        1\n",
              "Name: price, Length: 3684, dtype: int64"
            ]
          },
          "execution_count": 48,
          "metadata": {},
          "output_type": "execute_result"
        }
      ],
      "source": [
        "data['price'].value_counts()"
      ]
    },
    {
      "cell_type": "code",
      "execution_count": null,
      "metadata": {
        "id": "nYemGwLj2zVD",
        "outputId": "46027bed-6e6c-4d70-eec6-24879c383b15"
      },
      "outputs": [
        {
          "data": {
            "text/plain": [
              "<AxesSubplot:xlabel='price'>"
            ]
          },
          "execution_count": 49,
          "metadata": {},
          "output_type": "execute_result"
        },
        {
          "data": {
            "image/png": "[encoded data removed]",
            "text/plain": [
              "<Figure size 432x288 with 2 Axes>"
            ]
          },
          "metadata": {
            "needs_background": "light"
          },
          "output_type": "display_data"
        }
      ],
      "source": [
        "plt.subplot(2,1,1)\n",
        "plt.hist(x=data['price'])\n",
        "\n",
        "plt.subplot(2,1,2)\n",
        "sns.boxplot(data['price'])"
      ]
    },
    {
      "cell_type": "markdown",
      "metadata": {
        "id": "9cvfTuJc2zVD"
      },
      "source": [
        "Посмотрим на выбросы."
      ]
    },
    {
      "cell_type": "code",
      "execution_count": null,
      "metadata": {
        "id": "hd2a9AW22zVE",
        "outputId": "d6e51aa0-bb9d-45cd-a664-49e0ffe2fbf7"
      },
      "outputs": [
        {
          "data": {
            "text/html": [
              "<div>\n",
              "<style scoped>\n",
              "    .dataframe tbody tr th:only-of-type {\n",
              "        vertical-align: middle;\n",
              "    }\n",
              "\n",
              "    .dataframe tbody tr th {\n",
              "        vertical-align: top;\n",
              "    }\n",
              "\n",
              "    .dataframe thead th {\n",
              "        text-align: right;\n",
              "    }\n",
              "</style>\n",
              "<table border=\"1\" class=\"dataframe\">\n",
              "  <thead>\n",
              "    <tr style=\"text-align: right;\">\n",
              "      <th></th>\n",
              "      <th>price</th>\n",
              "      <th>vehicletype</th>\n",
              "      <th>registrationyear</th>\n",
              "      <th>gearbox</th>\n",
              "      <th>power</th>\n",
              "      <th>model</th>\n",
              "      <th>kilometer</th>\n",
              "      <th>fueltype</th>\n",
              "      <th>brand</th>\n",
              "      <th>repaired</th>\n",
              "      <th>categorize</th>\n",
              "    </tr>\n",
              "  </thead>\n",
              "  <tbody>\n",
              "    <tr>\n",
              "      <th>1</th>\n",
              "      <td>18300</td>\n",
              "      <td>coupe</td>\n",
              "      <td>2011</td>\n",
              "      <td>manual</td>\n",
              "      <td>190</td>\n",
              "      <td>other</td>\n",
              "      <td>125000</td>\n",
              "      <td>gasoline</td>\n",
              "      <td>audi</td>\n",
              "      <td>yes</td>\n",
              "      <td>used_car</td>\n",
              "    </tr>\n",
              "    <tr>\n",
              "      <th>14</th>\n",
              "      <td>17999</td>\n",
              "      <td>suv</td>\n",
              "      <td>2011</td>\n",
              "      <td>manual</td>\n",
              "      <td>190</td>\n",
              "      <td>navara</td>\n",
              "      <td>70000</td>\n",
              "      <td>gasoline</td>\n",
              "      <td>nissan</td>\n",
              "      <td>no</td>\n",
              "      <td>used_car</td>\n",
              "    </tr>\n",
              "    <tr>\n",
              "      <th>33</th>\n",
              "      <td>18000</td>\n",
              "      <td>sedan</td>\n",
              "      <td>2007</td>\n",
              "      <td>auto</td>\n",
              "      <td>218</td>\n",
              "      <td>3er</td>\n",
              "      <td>20000</td>\n",
              "      <td>petrol</td>\n",
              "      <td>bmw</td>\n",
              "      <td>no</td>\n",
              "      <td>used_car</td>\n",
              "    </tr>\n",
              "    <tr>\n",
              "      <th>172</th>\n",
              "      <td>19750</td>\n",
              "      <td>convertible</td>\n",
              "      <td>2006</td>\n",
              "      <td>manual</td>\n",
              "      <td>305</td>\n",
              "      <td>mustang</td>\n",
              "      <td>50000</td>\n",
              "      <td>petrol</td>\n",
              "      <td>ford</td>\n",
              "      <td>no</td>\n",
              "      <td>used_car</td>\n",
              "    </tr>\n",
              "    <tr>\n",
              "      <th>179</th>\n",
              "      <td>16449</td>\n",
              "      <td>wagon</td>\n",
              "      <td>2015</td>\n",
              "      <td>auto</td>\n",
              "      <td>110</td>\n",
              "      <td>fabia</td>\n",
              "      <td>10000</td>\n",
              "      <td>petrol</td>\n",
              "      <td>skoda</td>\n",
              "      <td>no</td>\n",
              "      <td>used_car</td>\n",
              "    </tr>\n",
              "    <tr>\n",
              "      <th>...</th>\n",
              "      <td>...</td>\n",
              "      <td>...</td>\n",
              "      <td>...</td>\n",
              "      <td>...</td>\n",
              "      <td>...</td>\n",
              "      <td>...</td>\n",
              "      <td>...</td>\n",
              "      <td>...</td>\n",
              "      <td>...</td>\n",
              "      <td>...</td>\n",
              "      <td>...</td>\n",
              "    </tr>\n",
              "    <tr>\n",
              "      <th>354187</th>\n",
              "      <td>15190</td>\n",
              "      <td>bus</td>\n",
              "      <td>2011</td>\n",
              "      <td>manual</td>\n",
              "      <td>140</td>\n",
              "      <td>touran</td>\n",
              "      <td>80000</td>\n",
              "      <td>petrol</td>\n",
              "      <td>volkswagen</td>\n",
              "      <td>no</td>\n",
              "      <td>used_car</td>\n",
              "    </tr>\n",
              "    <tr>\n",
              "      <th>354279</th>\n",
              "      <td>16500</td>\n",
              "      <td>suv</td>\n",
              "      <td>2013</td>\n",
              "      <td>manual</td>\n",
              "      <td>116</td>\n",
              "      <td>i_reihe</td>\n",
              "      <td>30000</td>\n",
              "      <td>gasoline</td>\n",
              "      <td>hyundai</td>\n",
              "      <td>no</td>\n",
              "      <td>used_car</td>\n",
              "    </tr>\n",
              "    <tr>\n",
              "      <th>354286</th>\n",
              "      <td>16500</td>\n",
              "      <td>coupe</td>\n",
              "      <td>1973</td>\n",
              "      <td>manual</td>\n",
              "      <td>200</td>\n",
              "      <td>other</td>\n",
              "      <td>150000</td>\n",
              "      <td>petrol</td>\n",
              "      <td>bmw</td>\n",
              "      <td>yes</td>\n",
              "      <td>retro</td>\n",
              "    </tr>\n",
              "    <tr>\n",
              "      <th>354306</th>\n",
              "      <td>16999</td>\n",
              "      <td>wagon</td>\n",
              "      <td>2008</td>\n",
              "      <td>auto</td>\n",
              "      <td>269</td>\n",
              "      <td>a6</td>\n",
              "      <td>150000</td>\n",
              "      <td>gasoline</td>\n",
              "      <td>audi</td>\n",
              "      <td>no</td>\n",
              "      <td>used_car</td>\n",
              "    </tr>\n",
              "    <tr>\n",
              "      <th>354319</th>\n",
              "      <td>19800</td>\n",
              "      <td>sedan</td>\n",
              "      <td>2011</td>\n",
              "      <td>manual</td>\n",
              "      <td>170</td>\n",
              "      <td>1er</td>\n",
              "      <td>80000</td>\n",
              "      <td>petrol</td>\n",
              "      <td>bmw</td>\n",
              "      <td>no</td>\n",
              "      <td>used_car</td>\n",
              "    </tr>\n",
              "  </tbody>\n",
              "</table>\n",
              "<p>13396 rows × 11 columns</p>\n",
              "</div>"
            ],
            "text/plain": [
              "        price  vehicletype  registrationyear gearbox  power    model  \\\n",
              "1       18300        coupe              2011  manual    190    other   \n",
              "14      17999          suv              2011  manual    190   navara   \n",
              "33      18000        sedan              2007    auto    218      3er   \n",
              "172     19750  convertible              2006  manual    305  mustang   \n",
              "179     16449        wagon              2015    auto    110    fabia   \n",
              "...       ...          ...               ...     ...    ...      ...   \n",
              "354187  15190          bus              2011  manual    140   touran   \n",
              "354279  16500          suv              2013  manual    116  i_reihe   \n",
              "354286  16500        coupe              1973  manual    200    other   \n",
              "354306  16999        wagon              2008    auto    269       a6   \n",
              "354319  19800        sedan              2011  manual    170      1er   \n",
              "\n",
              "        kilometer  fueltype       brand repaired categorize  \n",
              "1          125000  gasoline        audi      yes   used_car  \n",
              "14          70000  gasoline      nissan       no   used_car  \n",
              "33          20000    petrol         bmw       no   used_car  \n",
              "172         50000    petrol        ford       no   used_car  \n",
              "179         10000    petrol       skoda       no   used_car  \n",
              "...           ...       ...         ...      ...        ...  \n",
              "354187      80000    petrol  volkswagen       no   used_car  \n",
              "354279      30000  gasoline     hyundai       no   used_car  \n",
              "354286     150000    petrol         bmw      yes      retro  \n",
              "354306     150000  gasoline        audi       no   used_car  \n",
              "354319      80000    petrol         bmw       no   used_car  \n",
              "\n",
              "[13396 rows x 11 columns]"
            ]
          },
          "execution_count": 50,
          "metadata": {},
          "output_type": "execute_result"
        }
      ],
      "source": [
        "data[data['price'] > 15000]"
      ]
    },
    {
      "cell_type": "markdown",
      "metadata": {
        "id": "9dG68QAw2zVE"
      },
      "source": [
        "Считаю в полне логичным."
      ]
    },
    {
      "cell_type": "code",
      "execution_count": null,
      "metadata": {
        "id": "3NY4aG3a2zVF"
      },
      "outputs": [],
      "source": [
        "# plt.subplot(2,1,1)\n",
        "# plt.hist(x=data['power'],bins=10)\n",
        "\n",
        "# plt.subplot(2,1,2)\n",
        "# sns.boxplot(data['power'])"
      ]
    },
    {
      "cell_type": "code",
      "execution_count": null,
      "metadata": {
        "id": "ZLLvo57j2zVG"
      },
      "outputs": [],
      "source": [
        "#data = data[data['price'] > 10]\n",
        "data = data[data['power'] < 400]"
      ]
    },
    {
      "cell_type": "markdown",
      "metadata": {
        "id": "UBlC8X4W2zVG"
      },
      "source": [
        "ОСтавим авто с мощьностью до 400 ЛС, все же больше это что то запредельное для массового сегмента."
      ]
    },
    {
      "cell_type": "markdown",
      "metadata": {
        "id": "qY7YxoFM2zVG"
      },
      "source": [
        "### Корреляционный анализ данных"
      ]
    },
    {
      "cell_type": "code",
      "execution_count": null,
      "metadata": {
        "scrolled": false,
        "id": "T_aF5Ttu2zVH",
        "outputId": "42bc7fc8-ab5d-4706-9c5a-30b2696c2961"
      },
      "outputs": [
        {
          "name": "stdout",
          "output_type": "stream",
          "text": [
            "interval columns not set, guessing: ['price', 'registrationyear', 'power', 'kilometer']\n"
          ]
        },
        {
          "data": {
            "text/html": [
              "<div>\n",
              "<style scoped>\n",
              "    .dataframe tbody tr th:only-of-type {\n",
              "        vertical-align: middle;\n",
              "    }\n",
              "\n",
              "    .dataframe tbody tr th {\n",
              "        vertical-align: top;\n",
              "    }\n",
              "\n",
              "    .dataframe thead th {\n",
              "        text-align: right;\n",
              "    }\n",
              "</style>\n",
              "<table border=\"1\" class=\"dataframe\">\n",
              "  <thead>\n",
              "    <tr style=\"text-align: right;\">\n",
              "      <th></th>\n",
              "      <th>price</th>\n",
              "      <th>vehicletype</th>\n",
              "      <th>registrationyear</th>\n",
              "      <th>gearbox</th>\n",
              "      <th>power</th>\n",
              "      <th>model</th>\n",
              "      <th>kilometer</th>\n",
              "      <th>fueltype</th>\n",
              "      <th>brand</th>\n",
              "      <th>repaired</th>\n",
              "      <th>categorize</th>\n",
              "    </tr>\n",
              "  </thead>\n",
              "  <tbody>\n",
              "    <tr>\n",
              "      <th>price</th>\n",
              "      <td>1.00</td>\n",
              "      <td>0.28</td>\n",
              "      <td>0.59</td>\n",
              "      <td>0.29</td>\n",
              "      <td>0.52</td>\n",
              "      <td>0.57</td>\n",
              "      <td>0.31</td>\n",
              "      <td>0.27</td>\n",
              "      <td>0.36</td>\n",
              "      <td>0.37</td>\n",
              "      <td>0.14</td>\n",
              "    </tr>\n",
              "    <tr>\n",
              "      <th>vehicletype</th>\n",
              "      <td>0.28</td>\n",
              "      <td>1.00</td>\n",
              "      <td>0.18</td>\n",
              "      <td>0.37</td>\n",
              "      <td>0.50</td>\n",
              "      <td>0.90</td>\n",
              "      <td>0.18</td>\n",
              "      <td>0.40</td>\n",
              "      <td>0.62</td>\n",
              "      <td>0.30</td>\n",
              "      <td>0.57</td>\n",
              "    </tr>\n",
              "    <tr>\n",
              "      <th>registrationyear</th>\n",
              "      <td>0.59</td>\n",
              "      <td>0.18</td>\n",
              "      <td>1.00</td>\n",
              "      <td>0.11</td>\n",
              "      <td>0.23</td>\n",
              "      <td>0.57</td>\n",
              "      <td>0.33</td>\n",
              "      <td>0.21</td>\n",
              "      <td>0.37</td>\n",
              "      <td>0.21</td>\n",
              "      <td>0.78</td>\n",
              "    </tr>\n",
              "    <tr>\n",
              "      <th>gearbox</th>\n",
              "      <td>0.29</td>\n",
              "      <td>0.37</td>\n",
              "      <td>0.11</td>\n",
              "      <td>1.00</td>\n",
              "      <td>0.56</td>\n",
              "      <td>0.61</td>\n",
              "      <td>0.07</td>\n",
              "      <td>0.32</td>\n",
              "      <td>0.51</td>\n",
              "      <td>0.44</td>\n",
              "      <td>0.25</td>\n",
              "    </tr>\n",
              "    <tr>\n",
              "      <th>power</th>\n",
              "      <td>0.52</td>\n",
              "      <td>0.50</td>\n",
              "      <td>0.23</td>\n",
              "      <td>0.56</td>\n",
              "      <td>1.00</td>\n",
              "      <td>0.77</td>\n",
              "      <td>0.11</td>\n",
              "      <td>0.29</td>\n",
              "      <td>0.56</td>\n",
              "      <td>0.32</td>\n",
              "      <td>0.19</td>\n",
              "    </tr>\n",
              "    <tr>\n",
              "      <th>model</th>\n",
              "      <td>0.57</td>\n",
              "      <td>0.90</td>\n",
              "      <td>0.57</td>\n",
              "      <td>0.61</td>\n",
              "      <td>0.77</td>\n",
              "      <td>1.00</td>\n",
              "      <td>0.44</td>\n",
              "      <td>0.53</td>\n",
              "      <td>1.00</td>\n",
              "      <td>0.27</td>\n",
              "      <td>0.49</td>\n",
              "    </tr>\n",
              "    <tr>\n",
              "      <th>kilometer</th>\n",
              "      <td>0.31</td>\n",
              "      <td>0.18</td>\n",
              "      <td>0.33</td>\n",
              "      <td>0.07</td>\n",
              "      <td>0.11</td>\n",
              "      <td>0.44</td>\n",
              "      <td>1.00</td>\n",
              "      <td>0.16</td>\n",
              "      <td>0.27</td>\n",
              "      <td>0.24</td>\n",
              "      <td>0.16</td>\n",
              "    </tr>\n",
              "    <tr>\n",
              "      <th>fueltype</th>\n",
              "      <td>0.27</td>\n",
              "      <td>0.40</td>\n",
              "      <td>0.21</td>\n",
              "      <td>0.32</td>\n",
              "      <td>0.29</td>\n",
              "      <td>0.53</td>\n",
              "      <td>0.16</td>\n",
              "      <td>1.00</td>\n",
              "      <td>0.29</td>\n",
              "      <td>0.24</td>\n",
              "      <td>0.22</td>\n",
              "    </tr>\n",
              "    <tr>\n",
              "      <th>brand</th>\n",
              "      <td>0.36</td>\n",
              "      <td>0.62</td>\n",
              "      <td>0.37</td>\n",
              "      <td>0.51</td>\n",
              "      <td>0.56</td>\n",
              "      <td>1.00</td>\n",
              "      <td>0.27</td>\n",
              "      <td>0.29</td>\n",
              "      <td>1.00</td>\n",
              "      <td>0.15</td>\n",
              "      <td>0.34</td>\n",
              "    </tr>\n",
              "    <tr>\n",
              "      <th>repaired</th>\n",
              "      <td>0.37</td>\n",
              "      <td>0.30</td>\n",
              "      <td>0.21</td>\n",
              "      <td>0.44</td>\n",
              "      <td>0.32</td>\n",
              "      <td>0.27</td>\n",
              "      <td>0.24</td>\n",
              "      <td>0.24</td>\n",
              "      <td>0.15</td>\n",
              "      <td>1.00</td>\n",
              "      <td>0.28</td>\n",
              "    </tr>\n",
              "    <tr>\n",
              "      <th>categorize</th>\n",
              "      <td>0.14</td>\n",
              "      <td>0.57</td>\n",
              "      <td>0.78</td>\n",
              "      <td>0.25</td>\n",
              "      <td>0.19</td>\n",
              "      <td>0.49</td>\n",
              "      <td>0.16</td>\n",
              "      <td>0.22</td>\n",
              "      <td>0.34</td>\n",
              "      <td>0.28</td>\n",
              "      <td>1.00</td>\n",
              "    </tr>\n",
              "  </tbody>\n",
              "</table>\n",
              "</div>"
            ],
            "text/plain": [
              "                  price  vehicletype  registrationyear  gearbox  power  model  \\\n",
              "price              1.00         0.28              0.59     0.29   0.52   0.57   \n",
              "vehicletype        0.28         1.00              0.18     0.37   0.50   0.90   \n",
              "registrationyear   0.59         0.18              1.00     0.11   0.23   0.57   \n",
              "gearbox            0.29         0.37              0.11     1.00   0.56   0.61   \n",
              "power              0.52         0.50              0.23     0.56   1.00   0.77   \n",
              "model              0.57         0.90              0.57     0.61   0.77   1.00   \n",
              "kilometer          0.31         0.18              0.33     0.07   0.11   0.44   \n",
              "fueltype           0.27         0.40              0.21     0.32   0.29   0.53   \n",
              "brand              0.36         0.62              0.37     0.51   0.56   1.00   \n",
              "repaired           0.37         0.30              0.21     0.44   0.32   0.27   \n",
              "categorize         0.14         0.57              0.78     0.25   0.19   0.49   \n",
              "\n",
              "                  kilometer  fueltype  brand  repaired  categorize  \n",
              "price                  0.31      0.27   0.36      0.37        0.14  \n",
              "vehicletype            0.18      0.40   0.62      0.30        0.57  \n",
              "registrationyear       0.33      0.21   0.37      0.21        0.78  \n",
              "gearbox                0.07      0.32   0.51      0.44        0.25  \n",
              "power                  0.11      0.29   0.56      0.32        0.19  \n",
              "model                  0.44      0.53   1.00      0.27        0.49  \n",
              "kilometer              1.00      0.16   0.27      0.24        0.16  \n",
              "fueltype               0.16      1.00   0.29      0.24        0.22  \n",
              "brand                  0.27      0.29   1.00      0.15        0.34  \n",
              "repaired               0.24      0.24   0.15      1.00        0.28  \n",
              "categorize             0.16      0.22   0.34      0.28        1.00  "
            ]
          },
          "execution_count": 53,
          "metadata": {},
          "output_type": "execute_result"
        }
      ],
      "source": [
        "# применим phik_matrix\n",
        "phik_overview = data.phik_matrix()\n",
        "phik_overview.round(2)"
      ]
    },
    {
      "cell_type": "markdown",
      "metadata": {
        "id": "SS2T3pqp2zVH"
      },
      "source": [
        "В данном случае необходимо обратить внимание на на строку \"price\" в принципе все логично и это радует, но так же на отсутствие корреляции"
      ]
    },
    {
      "cell_type": "code",
      "execution_count": null,
      "metadata": {
        "id": "xgjLUBlC2zVI",
        "outputId": "80a9b5a5-3319-40aa-c64e-abb2f25a66e2"
      },
      "outputs": [
        {
          "data": {
            "text/plain": [
              "Text(0.5, 1.0, 'Phik Correlation Matrix')"
            ]
          },
          "execution_count": 54,
          "metadata": {},
          "output_type": "execute_result"
        },
        {
          "data": {
            "image/png": "[encoded data removed]",
            "text/plain": [
              "<Figure size 720x576 with 2 Axes>"
            ]
          },
          "metadata": {
            "needs_background": "light"
          },
          "output_type": "display_data"
        }
      ],
      "source": [
        "def phik_matrix(data):\n",
        "    phik_overview = data.phik_matrix(interval_cols=['price', 'registrationyear', 'power', 'kilometer'])\n",
        "\n",
        "mask = np.triu(np.ones_like(phik_overview, dtype=bool))\n",
        "\n",
        "plt.figure(figsize=(10, 8))\n",
        "sns.heatmap(phik_overview, annot=True, cmap='coolwarm', linewidths=0.1, linecolor='black', mask=mask)\n",
        "plt.title('Phik Correlation Matrix')\n",
        "\n"
      ]
    },
    {
      "cell_type": "markdown",
      "metadata": {
        "id": "OxAlfI7d2zVL"
      },
      "source": [
        "## Обучение моделей"
      ]
    },
    {
      "cell_type": "markdown",
      "metadata": {
        "id": "WN5bp8jO2zVM"
      },
      "source": [
        "Подготовим выборки для обучения моделей.\n",
        "\n",
        "Моделей будет несколько и делить данные будем так же по раздельности. Модель CatBoost работает как с категориальными так и численные признаки.  "
      ]
    },
    {
      "cell_type": "code",
      "execution_count": null,
      "metadata": {
        "id": "UXt9HVc32zVM",
        "outputId": "3d6b559d-2ecd-4e97-9919-521dc0f6a8a2"
      },
      "outputs": [
        {
          "name": "stdout",
          "output_type": "stream",
          "text": [
            "<class 'pandas.core.frame.DataFrame'>\n",
            "Int64Index: 285495 entries, 0 to 354368\n",
            "Data columns (total 11 columns):\n",
            " #   Column            Non-Null Count   Dtype \n",
            "---  ------            --------------   ----- \n",
            " 0   price             285495 non-null  int64 \n",
            " 1   vehicletype       285495 non-null  object\n",
            " 2   registrationyear  285495 non-null  int64 \n",
            " 3   gearbox           285495 non-null  object\n",
            " 4   power             285495 non-null  int64 \n",
            " 5   model             285495 non-null  object\n",
            " 6   kilometer         285495 non-null  int64 \n",
            " 7   fueltype          285495 non-null  object\n",
            " 8   brand             285495 non-null  object\n",
            " 9   repaired          285495 non-null  object\n",
            " 10  categorize        285495 non-null  object\n",
            "dtypes: int64(4), object(7)\n",
            "memory usage: 26.1+ MB\n"
          ]
        }
      ],
      "source": [
        "data.info()\n"
      ]
    },
    {
      "cell_type": "code",
      "execution_count": null,
      "metadata": {
        "id": "t7NB2zQn2zVN"
      },
      "outputs": [],
      "source": [
        "df = data"
      ]
    },
    {
      "cell_type": "markdown",
      "metadata": {
        "id": "qbmxTA-y2zVN"
      },
      "source": [
        "Раздели на три выборки: обучающая, валидационная, тестовая (60/20/20)"
      ]
    },
    {
      "cell_type": "code",
      "execution_count": null,
      "metadata": {
        "id": "j84c7fIb2zVO"
      },
      "outputs": [],
      "source": [
        "features = df.drop('price', axis=1)\n",
        "target = df['price']"
      ]
    },
    {
      "cell_type": "code",
      "execution_count": null,
      "metadata": {
        "id": "PH43K26F2zVP",
        "outputId": "d5a25d92-6c1d-491d-d3ce-801baf7b52e5"
      },
      "outputs": [
        {
          "name": "stdout",
          "output_type": "stream",
          "text": [
            "Обучающая выборка     _train (171297, 10)\n",
            "Валидационная выборка _valid (57099, 10)\n",
            "Тестовая выборка       _test (57099, 10)\n"
          ]
        }
      ],
      "source": [
        "\n",
        "features_train, features_temp, target_train, target_temp = train_test_split(features, target, test_size=0.4, random_state=12345)\n",
        "features_valid, features_test, target_valid, target_test = train_test_split(features_temp, target_temp, test_size=0.5, random_state=12345)\n",
        "\n",
        "print('Обучающая выборка     _train', features_train.shape)\n",
        "print('Валидационная выборка _valid', features_valid.shape)\n",
        "print('Тестовая выборка       _test', features_test.shape)"
      ]
    },
    {
      "cell_type": "markdown",
      "metadata": {
        "id": "qeC7sxA52zVQ"
      },
      "source": [
        "Воспользуемся One-Hot Encoding, в данной функии заложено fit, т е обучение. В дальнейшем использовании, можель может обучаться сама."
      ]
    },
    {
      "cell_type": "code",
      "execution_count": null,
      "metadata": {
        "scrolled": false,
        "id": "mj6Xdpj72zVR",
        "outputId": "ce8adc34-4c00-444c-d518-ca8395ccf6ef"
      },
      "outputs": [
        {
          "data": {
            "text/html": [
              "<div>\n",
              "<style scoped>\n",
              "    .dataframe tbody tr th:only-of-type {\n",
              "        vertical-align: middle;\n",
              "    }\n",
              "\n",
              "    .dataframe tbody tr th {\n",
              "        vertical-align: top;\n",
              "    }\n",
              "\n",
              "    .dataframe thead th {\n",
              "        text-align: right;\n",
              "    }\n",
              "</style>\n",
              "<table border=\"1\" class=\"dataframe\">\n",
              "  <thead>\n",
              "    <tr style=\"text-align: right;\">\n",
              "      <th></th>\n",
              "      <th>registrationyear</th>\n",
              "      <th>power</th>\n",
              "      <th>kilometer</th>\n",
              "      <th>vehicletype_convertible</th>\n",
              "      <th>vehicletype_coupe</th>\n",
              "      <th>vehicletype_other</th>\n",
              "      <th>vehicletype_sedan</th>\n",
              "      <th>vehicletype_small</th>\n",
              "      <th>vehicletype_suv</th>\n",
              "      <th>vehicletype_wagon</th>\n",
              "      <th>...</th>\n",
              "      <th>brand_subaru</th>\n",
              "      <th>brand_suzuki</th>\n",
              "      <th>brand_toyota</th>\n",
              "      <th>brand_trabant</th>\n",
              "      <th>brand_volkswagen</th>\n",
              "      <th>brand_volvo</th>\n",
              "      <th>repaired_other</th>\n",
              "      <th>repaired_yes</th>\n",
              "      <th>categorize_retro</th>\n",
              "      <th>categorize_used_car</th>\n",
              "    </tr>\n",
              "  </thead>\n",
              "  <tbody>\n",
              "    <tr>\n",
              "      <th>224692</th>\n",
              "      <td>2000</td>\n",
              "      <td>75</td>\n",
              "      <td>150000</td>\n",
              "      <td>0.0</td>\n",
              "      <td>0.0</td>\n",
              "      <td>0.0</td>\n",
              "      <td>0.0</td>\n",
              "      <td>1.0</td>\n",
              "      <td>0.0</td>\n",
              "      <td>0.0</td>\n",
              "      <td>...</td>\n",
              "      <td>0.0</td>\n",
              "      <td>0.0</td>\n",
              "      <td>0.0</td>\n",
              "      <td>0.0</td>\n",
              "      <td>0.0</td>\n",
              "      <td>0.0</td>\n",
              "      <td>0.0</td>\n",
              "      <td>0.0</td>\n",
              "      <td>0.0</td>\n",
              "      <td>1.0</td>\n",
              "    </tr>\n",
              "    <tr>\n",
              "      <th>159259</th>\n",
              "      <td>2010</td>\n",
              "      <td>122</td>\n",
              "      <td>50000</td>\n",
              "      <td>0.0</td>\n",
              "      <td>0.0</td>\n",
              "      <td>0.0</td>\n",
              "      <td>1.0</td>\n",
              "      <td>0.0</td>\n",
              "      <td>0.0</td>\n",
              "      <td>0.0</td>\n",
              "      <td>...</td>\n",
              "      <td>0.0</td>\n",
              "      <td>0.0</td>\n",
              "      <td>0.0</td>\n",
              "      <td>0.0</td>\n",
              "      <td>0.0</td>\n",
              "      <td>0.0</td>\n",
              "      <td>0.0</td>\n",
              "      <td>0.0</td>\n",
              "      <td>0.0</td>\n",
              "      <td>1.0</td>\n",
              "    </tr>\n",
              "    <tr>\n",
              "      <th>8058</th>\n",
              "      <td>2011</td>\n",
              "      <td>90</td>\n",
              "      <td>60000</td>\n",
              "      <td>0.0</td>\n",
              "      <td>0.0</td>\n",
              "      <td>0.0</td>\n",
              "      <td>0.0</td>\n",
              "      <td>0.0</td>\n",
              "      <td>1.0</td>\n",
              "      <td>0.0</td>\n",
              "      <td>...</td>\n",
              "      <td>0.0</td>\n",
              "      <td>0.0</td>\n",
              "      <td>0.0</td>\n",
              "      <td>0.0</td>\n",
              "      <td>0.0</td>\n",
              "      <td>0.0</td>\n",
              "      <td>0.0</td>\n",
              "      <td>0.0</td>\n",
              "      <td>0.0</td>\n",
              "      <td>1.0</td>\n",
              "    </tr>\n",
              "    <tr>\n",
              "      <th>196903</th>\n",
              "      <td>1996</td>\n",
              "      <td>90</td>\n",
              "      <td>150000</td>\n",
              "      <td>1.0</td>\n",
              "      <td>0.0</td>\n",
              "      <td>0.0</td>\n",
              "      <td>0.0</td>\n",
              "      <td>0.0</td>\n",
              "      <td>0.0</td>\n",
              "      <td>0.0</td>\n",
              "      <td>...</td>\n",
              "      <td>0.0</td>\n",
              "      <td>0.0</td>\n",
              "      <td>0.0</td>\n",
              "      <td>0.0</td>\n",
              "      <td>1.0</td>\n",
              "      <td>0.0</td>\n",
              "      <td>0.0</td>\n",
              "      <td>0.0</td>\n",
              "      <td>0.0</td>\n",
              "      <td>1.0</td>\n",
              "    </tr>\n",
              "    <tr>\n",
              "      <th>67838</th>\n",
              "      <td>2004</td>\n",
              "      <td>75</td>\n",
              "      <td>150000</td>\n",
              "      <td>0.0</td>\n",
              "      <td>0.0</td>\n",
              "      <td>0.0</td>\n",
              "      <td>0.0</td>\n",
              "      <td>1.0</td>\n",
              "      <td>0.0</td>\n",
              "      <td>0.0</td>\n",
              "      <td>...</td>\n",
              "      <td>0.0</td>\n",
              "      <td>0.0</td>\n",
              "      <td>0.0</td>\n",
              "      <td>0.0</td>\n",
              "      <td>0.0</td>\n",
              "      <td>0.0</td>\n",
              "      <td>1.0</td>\n",
              "      <td>0.0</td>\n",
              "      <td>0.0</td>\n",
              "      <td>1.0</td>\n",
              "    </tr>\n",
              "  </tbody>\n",
              "</table>\n",
              "<p>5 rows × 308 columns</p>\n",
              "</div>"
            ],
            "text/plain": [
              "        registrationyear  power  kilometer  vehicletype_convertible  \\\n",
              "224692              2000     75     150000                      0.0   \n",
              "159259              2010    122      50000                      0.0   \n",
              "8058                2011     90      60000                      0.0   \n",
              "196903              1996     90     150000                      1.0   \n",
              "67838               2004     75     150000                      0.0   \n",
              "\n",
              "        vehicletype_coupe  vehicletype_other  vehicletype_sedan  \\\n",
              "224692                0.0                0.0                0.0   \n",
              "159259                0.0                0.0                1.0   \n",
              "8058                  0.0                0.0                0.0   \n",
              "196903                0.0                0.0                0.0   \n",
              "67838                 0.0                0.0                0.0   \n",
              "\n",
              "        vehicletype_small  vehicletype_suv  vehicletype_wagon  ...  \\\n",
              "224692                1.0              0.0                0.0  ...   \n",
              "159259                0.0              0.0                0.0  ...   \n",
              "8058                  0.0              1.0                0.0  ...   \n",
              "196903                0.0              0.0                0.0  ...   \n",
              "67838                 1.0              0.0                0.0  ...   \n",
              "\n",
              "        brand_subaru  brand_suzuki  brand_toyota  brand_trabant  \\\n",
              "224692           0.0           0.0           0.0            0.0   \n",
              "159259           0.0           0.0           0.0            0.0   \n",
              "8058             0.0           0.0           0.0            0.0   \n",
              "196903           0.0           0.0           0.0            0.0   \n",
              "67838            0.0           0.0           0.0            0.0   \n",
              "\n",
              "        brand_volkswagen  brand_volvo  repaired_other  repaired_yes  \\\n",
              "224692               0.0          0.0             0.0           0.0   \n",
              "159259               0.0          0.0             0.0           0.0   \n",
              "8058                 0.0          0.0             0.0           0.0   \n",
              "196903               1.0          0.0             0.0           0.0   \n",
              "67838                0.0          0.0             1.0           0.0   \n",
              "\n",
              "        categorize_retro  categorize_used_car  \n",
              "224692               0.0                  1.0  \n",
              "159259               0.0                  1.0  \n",
              "8058                 0.0                  1.0  \n",
              "196903               0.0                  1.0  \n",
              "67838                0.0                  1.0  \n",
              "\n",
              "[5 rows x 308 columns]"
            ]
          },
          "execution_count": 60,
          "metadata": {},
          "output_type": "execute_result"
        }
      ],
      "source": [
        "\n",
        "ohe_features = ['vehicletype', 'gearbox', 'model', 'fueltype', 'brand', 'repaired', 'categorize']\n",
        "\n",
        "encoder_ohe = OneHotEncoder(sparse=False, drop='first', handle_unknown='ignore')\n",
        "encoder_ohe.fit(features_train[ohe_features])\n",
        "\n",
        "features_train[encoder_ohe.get_feature_names_out()] = encoder_ohe.transform(features_train[ohe_features])\n",
        "features_train_linear = features_train.drop(ohe_features, axis=1)\n",
        "\n",
        "features_train_linear.head()"
      ]
    },
    {
      "cell_type": "markdown",
      "metadata": {
        "id": "NQX__nH12zVR"
      },
      "source": [
        "С работало."
      ]
    },
    {
      "cell_type": "code",
      "execution_count": null,
      "metadata": {
        "id": "fJwyXYnX2zVS"
      },
      "outputs": [],
      "source": [
        "features_test[encoder_ohe.get_feature_names_out()] = encoder_ohe.transform(features_test[ohe_features])\n",
        "features_test_linear = features_test.drop(ohe_features, axis=1)"
      ]
    },
    {
      "cell_type": "code",
      "execution_count": null,
      "metadata": {
        "id": "xnX4CkmJ2zVS",
        "outputId": "ce9f3176-57a7-4991-81d6-b7441b152f31"
      },
      "outputs": [
        {
          "data": {
            "text/html": [
              "<div>\n",
              "<style scoped>\n",
              "    .dataframe tbody tr th:only-of-type {\n",
              "        vertical-align: middle;\n",
              "    }\n",
              "\n",
              "    .dataframe tbody tr th {\n",
              "        vertical-align: top;\n",
              "    }\n",
              "\n",
              "    .dataframe thead th {\n",
              "        text-align: right;\n",
              "    }\n",
              "</style>\n",
              "<table border=\"1\" class=\"dataframe\">\n",
              "  <thead>\n",
              "    <tr style=\"text-align: right;\">\n",
              "      <th></th>\n",
              "      <th>registrationyear</th>\n",
              "      <th>power</th>\n",
              "      <th>kilometer</th>\n",
              "      <th>vehicletype_convertible</th>\n",
              "      <th>vehicletype_coupe</th>\n",
              "      <th>vehicletype_other</th>\n",
              "      <th>vehicletype_sedan</th>\n",
              "      <th>vehicletype_small</th>\n",
              "      <th>vehicletype_suv</th>\n",
              "      <th>vehicletype_wagon</th>\n",
              "      <th>...</th>\n",
              "      <th>brand_subaru</th>\n",
              "      <th>brand_suzuki</th>\n",
              "      <th>brand_toyota</th>\n",
              "      <th>brand_trabant</th>\n",
              "      <th>brand_volkswagen</th>\n",
              "      <th>brand_volvo</th>\n",
              "      <th>repaired_other</th>\n",
              "      <th>repaired_yes</th>\n",
              "      <th>categorize_retro</th>\n",
              "      <th>categorize_used_car</th>\n",
              "    </tr>\n",
              "  </thead>\n",
              "  <tbody>\n",
              "    <tr>\n",
              "      <th>138737</th>\n",
              "      <td>2009</td>\n",
              "      <td>60</td>\n",
              "      <td>90000</td>\n",
              "      <td>0.0</td>\n",
              "      <td>0.0</td>\n",
              "      <td>0.0</td>\n",
              "      <td>0.0</td>\n",
              "      <td>1.0</td>\n",
              "      <td>0.0</td>\n",
              "      <td>0.0</td>\n",
              "      <td>...</td>\n",
              "      <td>0.0</td>\n",
              "      <td>0.0</td>\n",
              "      <td>0.0</td>\n",
              "      <td>0.0</td>\n",
              "      <td>0.0</td>\n",
              "      <td>0.0</td>\n",
              "      <td>0.0</td>\n",
              "      <td>0.0</td>\n",
              "      <td>0.0</td>\n",
              "      <td>1.0</td>\n",
              "    </tr>\n",
              "    <tr>\n",
              "      <th>89586</th>\n",
              "      <td>2016</td>\n",
              "      <td>56</td>\n",
              "      <td>150000</td>\n",
              "      <td>0.0</td>\n",
              "      <td>0.0</td>\n",
              "      <td>1.0</td>\n",
              "      <td>0.0</td>\n",
              "      <td>0.0</td>\n",
              "      <td>0.0</td>\n",
              "      <td>0.0</td>\n",
              "      <td>...</td>\n",
              "      <td>0.0</td>\n",
              "      <td>0.0</td>\n",
              "      <td>0.0</td>\n",
              "      <td>0.0</td>\n",
              "      <td>0.0</td>\n",
              "      <td>0.0</td>\n",
              "      <td>1.0</td>\n",
              "      <td>0.0</td>\n",
              "      <td>0.0</td>\n",
              "      <td>0.0</td>\n",
              "    </tr>\n",
              "    <tr>\n",
              "      <th>244219</th>\n",
              "      <td>2011</td>\n",
              "      <td>86</td>\n",
              "      <td>100000</td>\n",
              "      <td>0.0</td>\n",
              "      <td>0.0</td>\n",
              "      <td>0.0</td>\n",
              "      <td>0.0</td>\n",
              "      <td>1.0</td>\n",
              "      <td>0.0</td>\n",
              "      <td>0.0</td>\n",
              "      <td>...</td>\n",
              "      <td>0.0</td>\n",
              "      <td>0.0</td>\n",
              "      <td>0.0</td>\n",
              "      <td>0.0</td>\n",
              "      <td>1.0</td>\n",
              "      <td>0.0</td>\n",
              "      <td>0.0</td>\n",
              "      <td>0.0</td>\n",
              "      <td>0.0</td>\n",
              "      <td>1.0</td>\n",
              "    </tr>\n",
              "    <tr>\n",
              "      <th>50087</th>\n",
              "      <td>2002</td>\n",
              "      <td>86</td>\n",
              "      <td>125000</td>\n",
              "      <td>0.0</td>\n",
              "      <td>0.0</td>\n",
              "      <td>0.0</td>\n",
              "      <td>0.0</td>\n",
              "      <td>1.0</td>\n",
              "      <td>0.0</td>\n",
              "      <td>0.0</td>\n",
              "      <td>...</td>\n",
              "      <td>1.0</td>\n",
              "      <td>0.0</td>\n",
              "      <td>0.0</td>\n",
              "      <td>0.0</td>\n",
              "      <td>0.0</td>\n",
              "      <td>0.0</td>\n",
              "      <td>0.0</td>\n",
              "      <td>1.0</td>\n",
              "      <td>0.0</td>\n",
              "      <td>1.0</td>\n",
              "    </tr>\n",
              "    <tr>\n",
              "      <th>263478</th>\n",
              "      <td>2003</td>\n",
              "      <td>115</td>\n",
              "      <td>150000</td>\n",
              "      <td>0.0</td>\n",
              "      <td>0.0</td>\n",
              "      <td>0.0</td>\n",
              "      <td>0.0</td>\n",
              "      <td>1.0</td>\n",
              "      <td>0.0</td>\n",
              "      <td>0.0</td>\n",
              "      <td>...</td>\n",
              "      <td>0.0</td>\n",
              "      <td>0.0</td>\n",
              "      <td>0.0</td>\n",
              "      <td>0.0</td>\n",
              "      <td>0.0</td>\n",
              "      <td>0.0</td>\n",
              "      <td>1.0</td>\n",
              "      <td>0.0</td>\n",
              "      <td>0.0</td>\n",
              "      <td>1.0</td>\n",
              "    </tr>\n",
              "  </tbody>\n",
              "</table>\n",
              "<p>5 rows × 308 columns</p>\n",
              "</div>"
            ],
            "text/plain": [
              "        registrationyear  power  kilometer  vehicletype_convertible  \\\n",
              "138737              2009     60      90000                      0.0   \n",
              "89586               2016     56     150000                      0.0   \n",
              "244219              2011     86     100000                      0.0   \n",
              "50087               2002     86     125000                      0.0   \n",
              "263478              2003    115     150000                      0.0   \n",
              "\n",
              "        vehicletype_coupe  vehicletype_other  vehicletype_sedan  \\\n",
              "138737                0.0                0.0                0.0   \n",
              "89586                 0.0                1.0                0.0   \n",
              "244219                0.0                0.0                0.0   \n",
              "50087                 0.0                0.0                0.0   \n",
              "263478                0.0                0.0                0.0   \n",
              "\n",
              "        vehicletype_small  vehicletype_suv  vehicletype_wagon  ...  \\\n",
              "138737                1.0              0.0                0.0  ...   \n",
              "89586                 0.0              0.0                0.0  ...   \n",
              "244219                1.0              0.0                0.0  ...   \n",
              "50087                 1.0              0.0                0.0  ...   \n",
              "263478                1.0              0.0                0.0  ...   \n",
              "\n",
              "        brand_subaru  brand_suzuki  brand_toyota  brand_trabant  \\\n",
              "138737           0.0           0.0           0.0            0.0   \n",
              "89586            0.0           0.0           0.0            0.0   \n",
              "244219           0.0           0.0           0.0            0.0   \n",
              "50087            1.0           0.0           0.0            0.0   \n",
              "263478           0.0           0.0           0.0            0.0   \n",
              "\n",
              "        brand_volkswagen  brand_volvo  repaired_other  repaired_yes  \\\n",
              "138737               0.0          0.0             0.0           0.0   \n",
              "89586                0.0          0.0             1.0           0.0   \n",
              "244219               1.0          0.0             0.0           0.0   \n",
              "50087                0.0          0.0             0.0           1.0   \n",
              "263478               0.0          0.0             1.0           0.0   \n",
              "\n",
              "        categorize_retro  categorize_used_car  \n",
              "138737               0.0                  1.0  \n",
              "89586                0.0                  0.0  \n",
              "244219               0.0                  1.0  \n",
              "50087                0.0                  1.0  \n",
              "263478               0.0                  1.0  \n",
              "\n",
              "[5 rows x 308 columns]"
            ]
          },
          "execution_count": 62,
          "metadata": {},
          "output_type": "execute_result"
        }
      ],
      "source": [
        "features_test_linear.head()"
      ]
    },
    {
      "cell_type": "code",
      "execution_count": null,
      "metadata": {
        "id": "ORVdQFxY2zVT"
      },
      "outputs": [],
      "source": [
        "features_valid[encoder_ohe.get_feature_names_out()] = encoder_ohe.transform(features_valid[ohe_features])\n",
        "features_valid_linear = features_valid.drop(ohe_features, axis=1)\n"
      ]
    },
    {
      "cell_type": "code",
      "execution_count": null,
      "metadata": {
        "id": "8mMhZyc22zVT",
        "outputId": "7105273e-9b8b-44d2-b661-62f0e082535f"
      },
      "outputs": [
        {
          "data": {
            "text/html": [
              "<div>\n",
              "<style scoped>\n",
              "    .dataframe tbody tr th:only-of-type {\n",
              "        vertical-align: middle;\n",
              "    }\n",
              "\n",
              "    .dataframe tbody tr th {\n",
              "        vertical-align: top;\n",
              "    }\n",
              "\n",
              "    .dataframe thead th {\n",
              "        text-align: right;\n",
              "    }\n",
              "</style>\n",
              "<table border=\"1\" class=\"dataframe\">\n",
              "  <thead>\n",
              "    <tr style=\"text-align: right;\">\n",
              "      <th></th>\n",
              "      <th>registrationyear</th>\n",
              "      <th>power</th>\n",
              "      <th>kilometer</th>\n",
              "      <th>vehicletype_convertible</th>\n",
              "      <th>vehicletype_coupe</th>\n",
              "      <th>vehicletype_other</th>\n",
              "      <th>vehicletype_sedan</th>\n",
              "      <th>vehicletype_small</th>\n",
              "      <th>vehicletype_suv</th>\n",
              "      <th>vehicletype_wagon</th>\n",
              "      <th>...</th>\n",
              "      <th>brand_subaru</th>\n",
              "      <th>brand_suzuki</th>\n",
              "      <th>brand_toyota</th>\n",
              "      <th>brand_trabant</th>\n",
              "      <th>brand_volkswagen</th>\n",
              "      <th>brand_volvo</th>\n",
              "      <th>repaired_other</th>\n",
              "      <th>repaired_yes</th>\n",
              "      <th>categorize_retro</th>\n",
              "      <th>categorize_used_car</th>\n",
              "    </tr>\n",
              "  </thead>\n",
              "  <tbody>\n",
              "    <tr>\n",
              "      <th>56716</th>\n",
              "      <td>2003</td>\n",
              "      <td>340</td>\n",
              "      <td>125000</td>\n",
              "      <td>0.0</td>\n",
              "      <td>0.0</td>\n",
              "      <td>0.0</td>\n",
              "      <td>0.0</td>\n",
              "      <td>0.0</td>\n",
              "      <td>1.0</td>\n",
              "      <td>0.0</td>\n",
              "      <td>...</td>\n",
              "      <td>0.0</td>\n",
              "      <td>0.0</td>\n",
              "      <td>0.0</td>\n",
              "      <td>0.0</td>\n",
              "      <td>0.0</td>\n",
              "      <td>0.0</td>\n",
              "      <td>0.0</td>\n",
              "      <td>0.0</td>\n",
              "      <td>0.0</td>\n",
              "      <td>1.0</td>\n",
              "    </tr>\n",
              "    <tr>\n",
              "      <th>106324</th>\n",
              "      <td>2012</td>\n",
              "      <td>60</td>\n",
              "      <td>5000</td>\n",
              "      <td>0.0</td>\n",
              "      <td>0.0</td>\n",
              "      <td>0.0</td>\n",
              "      <td>0.0</td>\n",
              "      <td>1.0</td>\n",
              "      <td>0.0</td>\n",
              "      <td>0.0</td>\n",
              "      <td>...</td>\n",
              "      <td>0.0</td>\n",
              "      <td>0.0</td>\n",
              "      <td>0.0</td>\n",
              "      <td>0.0</td>\n",
              "      <td>1.0</td>\n",
              "      <td>0.0</td>\n",
              "      <td>1.0</td>\n",
              "      <td>0.0</td>\n",
              "      <td>0.0</td>\n",
              "      <td>1.0</td>\n",
              "    </tr>\n",
              "    <tr>\n",
              "      <th>191556</th>\n",
              "      <td>1997</td>\n",
              "      <td>102</td>\n",
              "      <td>150000</td>\n",
              "      <td>0.0</td>\n",
              "      <td>0.0</td>\n",
              "      <td>0.0</td>\n",
              "      <td>0.0</td>\n",
              "      <td>0.0</td>\n",
              "      <td>0.0</td>\n",
              "      <td>1.0</td>\n",
              "      <td>...</td>\n",
              "      <td>0.0</td>\n",
              "      <td>0.0</td>\n",
              "      <td>0.0</td>\n",
              "      <td>0.0</td>\n",
              "      <td>0.0</td>\n",
              "      <td>0.0</td>\n",
              "      <td>0.0</td>\n",
              "      <td>1.0</td>\n",
              "      <td>0.0</td>\n",
              "      <td>1.0</td>\n",
              "    </tr>\n",
              "    <tr>\n",
              "      <th>243508</th>\n",
              "      <td>2005</td>\n",
              "      <td>130</td>\n",
              "      <td>150000</td>\n",
              "      <td>0.0</td>\n",
              "      <td>0.0</td>\n",
              "      <td>0.0</td>\n",
              "      <td>0.0</td>\n",
              "      <td>0.0</td>\n",
              "      <td>0.0</td>\n",
              "      <td>1.0</td>\n",
              "      <td>...</td>\n",
              "      <td>0.0</td>\n",
              "      <td>0.0</td>\n",
              "      <td>0.0</td>\n",
              "      <td>0.0</td>\n",
              "      <td>0.0</td>\n",
              "      <td>0.0</td>\n",
              "      <td>0.0</td>\n",
              "      <td>0.0</td>\n",
              "      <td>0.0</td>\n",
              "      <td>1.0</td>\n",
              "    </tr>\n",
              "    <tr>\n",
              "      <th>38445</th>\n",
              "      <td>2006</td>\n",
              "      <td>204</td>\n",
              "      <td>150000</td>\n",
              "      <td>0.0</td>\n",
              "      <td>1.0</td>\n",
              "      <td>0.0</td>\n",
              "      <td>0.0</td>\n",
              "      <td>0.0</td>\n",
              "      <td>0.0</td>\n",
              "      <td>0.0</td>\n",
              "      <td>...</td>\n",
              "      <td>0.0</td>\n",
              "      <td>0.0</td>\n",
              "      <td>0.0</td>\n",
              "      <td>0.0</td>\n",
              "      <td>0.0</td>\n",
              "      <td>0.0</td>\n",
              "      <td>0.0</td>\n",
              "      <td>0.0</td>\n",
              "      <td>0.0</td>\n",
              "      <td>1.0</td>\n",
              "    </tr>\n",
              "  </tbody>\n",
              "</table>\n",
              "<p>5 rows × 308 columns</p>\n",
              "</div>"
            ],
            "text/plain": [
              "        registrationyear  power  kilometer  vehicletype_convertible  \\\n",
              "56716               2003    340     125000                      0.0   \n",
              "106324              2012     60       5000                      0.0   \n",
              "191556              1997    102     150000                      0.0   \n",
              "243508              2005    130     150000                      0.0   \n",
              "38445               2006    204     150000                      0.0   \n",
              "\n",
              "        vehicletype_coupe  vehicletype_other  vehicletype_sedan  \\\n",
              "56716                 0.0                0.0                0.0   \n",
              "106324                0.0                0.0                0.0   \n",
              "191556                0.0                0.0                0.0   \n",
              "243508                0.0                0.0                0.0   \n",
              "38445                 1.0                0.0                0.0   \n",
              "\n",
              "        vehicletype_small  vehicletype_suv  vehicletype_wagon  ...  \\\n",
              "56716                 0.0              1.0                0.0  ...   \n",
              "106324                1.0              0.0                0.0  ...   \n",
              "191556                0.0              0.0                1.0  ...   \n",
              "243508                0.0              0.0                1.0  ...   \n",
              "38445                 0.0              0.0                0.0  ...   \n",
              "\n",
              "        brand_subaru  brand_suzuki  brand_toyota  brand_trabant  \\\n",
              "56716            0.0           0.0           0.0            0.0   \n",
              "106324           0.0           0.0           0.0            0.0   \n",
              "191556           0.0           0.0           0.0            0.0   \n",
              "243508           0.0           0.0           0.0            0.0   \n",
              "38445            0.0           0.0           0.0            0.0   \n",
              "\n",
              "        brand_volkswagen  brand_volvo  repaired_other  repaired_yes  \\\n",
              "56716                0.0          0.0             0.0           0.0   \n",
              "106324               1.0          0.0             1.0           0.0   \n",
              "191556               0.0          0.0             0.0           1.0   \n",
              "243508               0.0          0.0             0.0           0.0   \n",
              "38445                0.0          0.0             0.0           0.0   \n",
              "\n",
              "        categorize_retro  categorize_used_car  \n",
              "56716                0.0                  1.0  \n",
              "106324               0.0                  1.0  \n",
              "191556               0.0                  1.0  \n",
              "243508               0.0                  1.0  \n",
              "38445                0.0                  1.0  \n",
              "\n",
              "[5 rows x 308 columns]"
            ]
          },
          "execution_count": 64,
          "metadata": {},
          "output_type": "execute_result"
        }
      ],
      "source": [
        "features_valid_linear.head()"
      ]
    },
    {
      "cell_type": "markdown",
      "metadata": {
        "id": "7qOrzLQU2zVT"
      },
      "source": [
        "Все хорошо, разделилось ровно."
      ]
    },
    {
      "cell_type": "markdown",
      "metadata": {
        "id": "mm6CPUN22zVU"
      },
      "source": [
        "Применим StandardScaler для масштабирования."
      ]
    },
    {
      "cell_type": "code",
      "execution_count": null,
      "metadata": {
        "id": "GUIwp71d2zVV",
        "outputId": "912c10e9-f289-41ca-aab3-04772e99b3b4"
      },
      "outputs": [
        {
          "data": {
            "text/html": [
              "<div>\n",
              "<style scoped>\n",
              "    .dataframe tbody tr th:only-of-type {\n",
              "        vertical-align: middle;\n",
              "    }\n",
              "\n",
              "    .dataframe tbody tr th {\n",
              "        vertical-align: top;\n",
              "    }\n",
              "\n",
              "    .dataframe thead th {\n",
              "        text-align: right;\n",
              "    }\n",
              "</style>\n",
              "<table border=\"1\" class=\"dataframe\">\n",
              "  <thead>\n",
              "    <tr style=\"text-align: right;\">\n",
              "      <th></th>\n",
              "      <th>registrationyear</th>\n",
              "      <th>power</th>\n",
              "      <th>kilometer</th>\n",
              "      <th>vehicletype_convertible</th>\n",
              "      <th>vehicletype_coupe</th>\n",
              "      <th>vehicletype_other</th>\n",
              "      <th>vehicletype_sedan</th>\n",
              "      <th>vehicletype_small</th>\n",
              "      <th>vehicletype_suv</th>\n",
              "      <th>vehicletype_wagon</th>\n",
              "      <th>...</th>\n",
              "      <th>brand_subaru</th>\n",
              "      <th>brand_suzuki</th>\n",
              "      <th>brand_toyota</th>\n",
              "      <th>brand_trabant</th>\n",
              "      <th>brand_volkswagen</th>\n",
              "      <th>brand_volvo</th>\n",
              "      <th>repaired_other</th>\n",
              "      <th>repaired_yes</th>\n",
              "      <th>categorize_retro</th>\n",
              "      <th>categorize_used_car</th>\n",
              "    </tr>\n",
              "  </thead>\n",
              "  <tbody>\n",
              "    <tr>\n",
              "      <th>224692</th>\n",
              "      <td>-0.378728</td>\n",
              "      <td>-0.54490</td>\n",
              "      <td>0.598804</td>\n",
              "      <td>0.0</td>\n",
              "      <td>0.0</td>\n",
              "      <td>0.0</td>\n",
              "      <td>0.0</td>\n",
              "      <td>1.0</td>\n",
              "      <td>0.0</td>\n",
              "      <td>0.0</td>\n",
              "      <td>...</td>\n",
              "      <td>0.0</td>\n",
              "      <td>0.0</td>\n",
              "      <td>0.0</td>\n",
              "      <td>0.0</td>\n",
              "      <td>0.0</td>\n",
              "      <td>0.0</td>\n",
              "      <td>0.0</td>\n",
              "      <td>0.0</td>\n",
              "      <td>0.0</td>\n",
              "      <td>1.0</td>\n",
              "    </tr>\n",
              "    <tr>\n",
              "      <th>159259</th>\n",
              "      <td>1.051135</td>\n",
              "      <td>0.21227</td>\n",
              "      <td>-2.024580</td>\n",
              "      <td>0.0</td>\n",
              "      <td>0.0</td>\n",
              "      <td>0.0</td>\n",
              "      <td>1.0</td>\n",
              "      <td>0.0</td>\n",
              "      <td>0.0</td>\n",
              "      <td>0.0</td>\n",
              "      <td>...</td>\n",
              "      <td>0.0</td>\n",
              "      <td>0.0</td>\n",
              "      <td>0.0</td>\n",
              "      <td>0.0</td>\n",
              "      <td>0.0</td>\n",
              "      <td>0.0</td>\n",
              "      <td>0.0</td>\n",
              "      <td>0.0</td>\n",
              "      <td>0.0</td>\n",
              "      <td>1.0</td>\n",
              "    </tr>\n",
              "    <tr>\n",
              "      <th>8058</th>\n",
              "      <td>1.194122</td>\n",
              "      <td>-0.30325</td>\n",
              "      <td>-1.762242</td>\n",
              "      <td>0.0</td>\n",
              "      <td>0.0</td>\n",
              "      <td>0.0</td>\n",
              "      <td>0.0</td>\n",
              "      <td>0.0</td>\n",
              "      <td>1.0</td>\n",
              "      <td>0.0</td>\n",
              "      <td>...</td>\n",
              "      <td>0.0</td>\n",
              "      <td>0.0</td>\n",
              "      <td>0.0</td>\n",
              "      <td>0.0</td>\n",
              "      <td>0.0</td>\n",
              "      <td>0.0</td>\n",
              "      <td>0.0</td>\n",
              "      <td>0.0</td>\n",
              "      <td>0.0</td>\n",
              "      <td>1.0</td>\n",
              "    </tr>\n",
              "    <tr>\n",
              "      <th>196903</th>\n",
              "      <td>-0.950673</td>\n",
              "      <td>-0.30325</td>\n",
              "      <td>0.598804</td>\n",
              "      <td>1.0</td>\n",
              "      <td>0.0</td>\n",
              "      <td>0.0</td>\n",
              "      <td>0.0</td>\n",
              "      <td>0.0</td>\n",
              "      <td>0.0</td>\n",
              "      <td>0.0</td>\n",
              "      <td>...</td>\n",
              "      <td>0.0</td>\n",
              "      <td>0.0</td>\n",
              "      <td>0.0</td>\n",
              "      <td>0.0</td>\n",
              "      <td>1.0</td>\n",
              "      <td>0.0</td>\n",
              "      <td>0.0</td>\n",
              "      <td>0.0</td>\n",
              "      <td>0.0</td>\n",
              "      <td>1.0</td>\n",
              "    </tr>\n",
              "    <tr>\n",
              "      <th>67838</th>\n",
              "      <td>0.193218</td>\n",
              "      <td>-0.54490</td>\n",
              "      <td>0.598804</td>\n",
              "      <td>0.0</td>\n",
              "      <td>0.0</td>\n",
              "      <td>0.0</td>\n",
              "      <td>0.0</td>\n",
              "      <td>1.0</td>\n",
              "      <td>0.0</td>\n",
              "      <td>0.0</td>\n",
              "      <td>...</td>\n",
              "      <td>0.0</td>\n",
              "      <td>0.0</td>\n",
              "      <td>0.0</td>\n",
              "      <td>0.0</td>\n",
              "      <td>0.0</td>\n",
              "      <td>0.0</td>\n",
              "      <td>1.0</td>\n",
              "      <td>0.0</td>\n",
              "      <td>0.0</td>\n",
              "      <td>1.0</td>\n",
              "    </tr>\n",
              "  </tbody>\n",
              "</table>\n",
              "<p>5 rows × 308 columns</p>\n",
              "</div>"
            ],
            "text/plain": [
              "        registrationyear    power  kilometer  vehicletype_convertible  \\\n",
              "224692         -0.378728 -0.54490   0.598804                      0.0   \n",
              "159259          1.051135  0.21227  -2.024580                      0.0   \n",
              "8058            1.194122 -0.30325  -1.762242                      0.0   \n",
              "196903         -0.950673 -0.30325   0.598804                      1.0   \n",
              "67838           0.193218 -0.54490   0.598804                      0.0   \n",
              "\n",
              "        vehicletype_coupe  vehicletype_other  vehicletype_sedan  \\\n",
              "224692                0.0                0.0                0.0   \n",
              "159259                0.0                0.0                1.0   \n",
              "8058                  0.0                0.0                0.0   \n",
              "196903                0.0                0.0                0.0   \n",
              "67838                 0.0                0.0                0.0   \n",
              "\n",
              "        vehicletype_small  vehicletype_suv  vehicletype_wagon  ...  \\\n",
              "224692                1.0              0.0                0.0  ...   \n",
              "159259                0.0              0.0                0.0  ...   \n",
              "8058                  0.0              1.0                0.0  ...   \n",
              "196903                0.0              0.0                0.0  ...   \n",
              "67838                 1.0              0.0                0.0  ...   \n",
              "\n",
              "        brand_subaru  brand_suzuki  brand_toyota  brand_trabant  \\\n",
              "224692           0.0           0.0           0.0            0.0   \n",
              "159259           0.0           0.0           0.0            0.0   \n",
              "8058             0.0           0.0           0.0            0.0   \n",
              "196903           0.0           0.0           0.0            0.0   \n",
              "67838            0.0           0.0           0.0            0.0   \n",
              "\n",
              "        brand_volkswagen  brand_volvo  repaired_other  repaired_yes  \\\n",
              "224692               0.0          0.0             0.0           0.0   \n",
              "159259               0.0          0.0             0.0           0.0   \n",
              "8058                 0.0          0.0             0.0           0.0   \n",
              "196903               1.0          0.0             0.0           0.0   \n",
              "67838                0.0          0.0             1.0           0.0   \n",
              "\n",
              "        categorize_retro  categorize_used_car  \n",
              "224692               0.0                  1.0  \n",
              "159259               0.0                  1.0  \n",
              "8058                 0.0                  1.0  \n",
              "196903               0.0                  1.0  \n",
              "67838                0.0                  1.0  \n",
              "\n",
              "[5 rows x 308 columns]"
            ]
          },
          "execution_count": 65,
          "metadata": {},
          "output_type": "execute_result"
        }
      ],
      "source": [
        "\n",
        "numeric = ['registrationyear', 'power', 'kilometer']\n",
        "\n",
        "scaler = StandardScaler()\n",
        "\n",
        "scaler.fit(features_train_linear[numeric])\n",
        "\n",
        "features_train_linear[numeric] = scaler.transform(features_train_linear[numeric])\n",
        "\n",
        "features_train_linear.head()\n",
        "\n",
        "#display(features_train_linear.head())"
      ]
    },
    {
      "cell_type": "code",
      "execution_count": null,
      "metadata": {
        "scrolled": true,
        "id": "02vZPrBU2zVV",
        "outputId": "8848200d-4cc3-4624-a3ed-98ee625ef261"
      },
      "outputs": [
        {
          "data": {
            "text/html": [
              "<div>\n",
              "<style scoped>\n",
              "    .dataframe tbody tr th:only-of-type {\n",
              "        vertical-align: middle;\n",
              "    }\n",
              "\n",
              "    .dataframe tbody tr th {\n",
              "        vertical-align: top;\n",
              "    }\n",
              "\n",
              "    .dataframe thead th {\n",
              "        text-align: right;\n",
              "    }\n",
              "</style>\n",
              "<table border=\"1\" class=\"dataframe\">\n",
              "  <thead>\n",
              "    <tr style=\"text-align: right;\">\n",
              "      <th></th>\n",
              "      <th>registrationyear</th>\n",
              "      <th>power</th>\n",
              "      <th>kilometer</th>\n",
              "      <th>vehicletype_convertible</th>\n",
              "      <th>vehicletype_coupe</th>\n",
              "      <th>vehicletype_other</th>\n",
              "      <th>vehicletype_sedan</th>\n",
              "      <th>vehicletype_small</th>\n",
              "      <th>vehicletype_suv</th>\n",
              "      <th>vehicletype_wagon</th>\n",
              "      <th>...</th>\n",
              "      <th>brand_subaru</th>\n",
              "      <th>brand_suzuki</th>\n",
              "      <th>brand_toyota</th>\n",
              "      <th>brand_trabant</th>\n",
              "      <th>brand_volkswagen</th>\n",
              "      <th>brand_volvo</th>\n",
              "      <th>repaired_other</th>\n",
              "      <th>repaired_yes</th>\n",
              "      <th>categorize_retro</th>\n",
              "      <th>categorize_used_car</th>\n",
              "    </tr>\n",
              "  </thead>\n",
              "  <tbody>\n",
              "    <tr>\n",
              "      <th>56716</th>\n",
              "      <td>0.050499</td>\n",
              "      <td>3.760236</td>\n",
              "      <td>-0.053856</td>\n",
              "      <td>0.0</td>\n",
              "      <td>0.0</td>\n",
              "      <td>0.0</td>\n",
              "      <td>0.0</td>\n",
              "      <td>0.0</td>\n",
              "      <td>1.0</td>\n",
              "      <td>0.0</td>\n",
              "      <td>...</td>\n",
              "      <td>0.0</td>\n",
              "      <td>0.0</td>\n",
              "      <td>0.0</td>\n",
              "      <td>0.0</td>\n",
              "      <td>0.0</td>\n",
              "      <td>0.0</td>\n",
              "      <td>0.0</td>\n",
              "      <td>0.0</td>\n",
              "      <td>0.0</td>\n",
              "      <td>1.0</td>\n",
              "    </tr>\n",
              "    <tr>\n",
              "      <th>106324</th>\n",
              "      <td>1.347652</td>\n",
              "      <td>-0.787286</td>\n",
              "      <td>-3.192167</td>\n",
              "      <td>0.0</td>\n",
              "      <td>0.0</td>\n",
              "      <td>0.0</td>\n",
              "      <td>0.0</td>\n",
              "      <td>1.0</td>\n",
              "      <td>0.0</td>\n",
              "      <td>0.0</td>\n",
              "      <td>...</td>\n",
              "      <td>0.0</td>\n",
              "      <td>0.0</td>\n",
              "      <td>0.0</td>\n",
              "      <td>0.0</td>\n",
              "      <td>1.0</td>\n",
              "      <td>0.0</td>\n",
              "      <td>1.0</td>\n",
              "      <td>0.0</td>\n",
              "      <td>0.0</td>\n",
              "      <td>1.0</td>\n",
              "    </tr>\n",
              "    <tr>\n",
              "      <th>191556</th>\n",
              "      <td>-0.814270</td>\n",
              "      <td>-0.105157</td>\n",
              "      <td>0.599958</td>\n",
              "      <td>0.0</td>\n",
              "      <td>0.0</td>\n",
              "      <td>0.0</td>\n",
              "      <td>0.0</td>\n",
              "      <td>0.0</td>\n",
              "      <td>0.0</td>\n",
              "      <td>1.0</td>\n",
              "      <td>...</td>\n",
              "      <td>0.0</td>\n",
              "      <td>0.0</td>\n",
              "      <td>0.0</td>\n",
              "      <td>0.0</td>\n",
              "      <td>0.0</td>\n",
              "      <td>0.0</td>\n",
              "      <td>0.0</td>\n",
              "      <td>1.0</td>\n",
              "      <td>0.0</td>\n",
              "      <td>1.0</td>\n",
              "    </tr>\n",
              "    <tr>\n",
              "      <th>243508</th>\n",
              "      <td>0.338755</td>\n",
              "      <td>0.349595</td>\n",
              "      <td>0.599958</td>\n",
              "      <td>0.0</td>\n",
              "      <td>0.0</td>\n",
              "      <td>0.0</td>\n",
              "      <td>0.0</td>\n",
              "      <td>0.0</td>\n",
              "      <td>0.0</td>\n",
              "      <td>1.0</td>\n",
              "      <td>...</td>\n",
              "      <td>0.0</td>\n",
              "      <td>0.0</td>\n",
              "      <td>0.0</td>\n",
              "      <td>0.0</td>\n",
              "      <td>0.0</td>\n",
              "      <td>0.0</td>\n",
              "      <td>0.0</td>\n",
              "      <td>0.0</td>\n",
              "      <td>0.0</td>\n",
              "      <td>1.0</td>\n",
              "    </tr>\n",
              "    <tr>\n",
              "      <th>38445</th>\n",
              "      <td>0.482883</td>\n",
              "      <td>1.551440</td>\n",
              "      <td>0.599958</td>\n",
              "      <td>0.0</td>\n",
              "      <td>1.0</td>\n",
              "      <td>0.0</td>\n",
              "      <td>0.0</td>\n",
              "      <td>0.0</td>\n",
              "      <td>0.0</td>\n",
              "      <td>0.0</td>\n",
              "      <td>...</td>\n",
              "      <td>0.0</td>\n",
              "      <td>0.0</td>\n",
              "      <td>0.0</td>\n",
              "      <td>0.0</td>\n",
              "      <td>0.0</td>\n",
              "      <td>0.0</td>\n",
              "      <td>0.0</td>\n",
              "      <td>0.0</td>\n",
              "      <td>0.0</td>\n",
              "      <td>1.0</td>\n",
              "    </tr>\n",
              "  </tbody>\n",
              "</table>\n",
              "<p>5 rows × 308 columns</p>\n",
              "</div>"
            ],
            "text/plain": [
              "        registrationyear     power  kilometer  vehicletype_convertible  \\\n",
              "56716           0.050499  3.760236  -0.053856                      0.0   \n",
              "106324          1.347652 -0.787286  -3.192167                      0.0   \n",
              "191556         -0.814270 -0.105157   0.599958                      0.0   \n",
              "243508          0.338755  0.349595   0.599958                      0.0   \n",
              "38445           0.482883  1.551440   0.599958                      0.0   \n",
              "\n",
              "        vehicletype_coupe  vehicletype_other  vehicletype_sedan  \\\n",
              "56716                 0.0                0.0                0.0   \n",
              "106324                0.0                0.0                0.0   \n",
              "191556                0.0                0.0                0.0   \n",
              "243508                0.0                0.0                0.0   \n",
              "38445                 1.0                0.0                0.0   \n",
              "\n",
              "        vehicletype_small  vehicletype_suv  vehicletype_wagon  ...  \\\n",
              "56716                 0.0              1.0                0.0  ...   \n",
              "106324                1.0              0.0                0.0  ...   \n",
              "191556                0.0              0.0                1.0  ...   \n",
              "243508                0.0              0.0                1.0  ...   \n",
              "38445                 0.0              0.0                0.0  ...   \n",
              "\n",
              "        brand_subaru  brand_suzuki  brand_toyota  brand_trabant  \\\n",
              "56716            0.0           0.0           0.0            0.0   \n",
              "106324           0.0           0.0           0.0            0.0   \n",
              "191556           0.0           0.0           0.0            0.0   \n",
              "243508           0.0           0.0           0.0            0.0   \n",
              "38445            0.0           0.0           0.0            0.0   \n",
              "\n",
              "        brand_volkswagen  brand_volvo  repaired_other  repaired_yes  \\\n",
              "56716                0.0          0.0             0.0           0.0   \n",
              "106324               1.0          0.0             1.0           0.0   \n",
              "191556               0.0          0.0             0.0           1.0   \n",
              "243508               0.0          0.0             0.0           0.0   \n",
              "38445                0.0          0.0             0.0           0.0   \n",
              "\n",
              "        categorize_retro  categorize_used_car  \n",
              "56716                0.0                  1.0  \n",
              "106324               0.0                  1.0  \n",
              "191556               0.0                  1.0  \n",
              "243508               0.0                  1.0  \n",
              "38445                0.0                  1.0  \n",
              "\n",
              "[5 rows x 308 columns]"
            ]
          },
          "execution_count": 66,
          "metadata": {},
          "output_type": "execute_result"
        }
      ],
      "source": [
        "scaler.fit(features_test_linear[numeric])\n",
        "\n",
        "features_valid_linear[numeric] = scaler.transform(features_valid_linear[numeric])\n",
        "\n",
        "features_valid_linear.head()"
      ]
    },
    {
      "cell_type": "code",
      "execution_count": null,
      "metadata": {
        "scrolled": true,
        "id": "egjsiVWx2zVW",
        "outputId": "3c6200ae-e9dc-4381-ce09-71f9d86d790f"
      },
      "outputs": [
        {
          "data": {
            "text/html": [
              "<div>\n",
              "<style scoped>\n",
              "    .dataframe tbody tr th:only-of-type {\n",
              "        vertical-align: middle;\n",
              "    }\n",
              "\n",
              "    .dataframe tbody tr th {\n",
              "        vertical-align: top;\n",
              "    }\n",
              "\n",
              "    .dataframe thead th {\n",
              "        text-align: right;\n",
              "    }\n",
              "</style>\n",
              "<table border=\"1\" class=\"dataframe\">\n",
              "  <thead>\n",
              "    <tr style=\"text-align: right;\">\n",
              "      <th></th>\n",
              "      <th>registrationyear</th>\n",
              "      <th>power</th>\n",
              "      <th>kilometer</th>\n",
              "      <th>vehicletype_convertible</th>\n",
              "      <th>vehicletype_coupe</th>\n",
              "      <th>vehicletype_other</th>\n",
              "      <th>vehicletype_sedan</th>\n",
              "      <th>vehicletype_small</th>\n",
              "      <th>vehicletype_suv</th>\n",
              "      <th>vehicletype_wagon</th>\n",
              "      <th>...</th>\n",
              "      <th>brand_subaru</th>\n",
              "      <th>brand_suzuki</th>\n",
              "      <th>brand_toyota</th>\n",
              "      <th>brand_trabant</th>\n",
              "      <th>brand_volkswagen</th>\n",
              "      <th>brand_volvo</th>\n",
              "      <th>repaired_other</th>\n",
              "      <th>repaired_yes</th>\n",
              "      <th>categorize_retro</th>\n",
              "      <th>categorize_used_car</th>\n",
              "    </tr>\n",
              "  </thead>\n",
              "  <tbody>\n",
              "    <tr>\n",
              "      <th>138737</th>\n",
              "      <td>0.915268</td>\n",
              "      <td>-0.787286</td>\n",
              "      <td>-0.969197</td>\n",
              "      <td>0.0</td>\n",
              "      <td>0.0</td>\n",
              "      <td>0.0</td>\n",
              "      <td>0.0</td>\n",
              "      <td>1.0</td>\n",
              "      <td>0.0</td>\n",
              "      <td>0.0</td>\n",
              "      <td>...</td>\n",
              "      <td>0.0</td>\n",
              "      <td>0.0</td>\n",
              "      <td>0.0</td>\n",
              "      <td>0.0</td>\n",
              "      <td>0.0</td>\n",
              "      <td>0.0</td>\n",
              "      <td>0.0</td>\n",
              "      <td>0.0</td>\n",
              "      <td>0.0</td>\n",
              "      <td>1.0</td>\n",
              "    </tr>\n",
              "    <tr>\n",
              "      <th>89586</th>\n",
              "      <td>1.924165</td>\n",
              "      <td>-0.852250</td>\n",
              "      <td>0.599958</td>\n",
              "      <td>0.0</td>\n",
              "      <td>0.0</td>\n",
              "      <td>1.0</td>\n",
              "      <td>0.0</td>\n",
              "      <td>0.0</td>\n",
              "      <td>0.0</td>\n",
              "      <td>0.0</td>\n",
              "      <td>...</td>\n",
              "      <td>0.0</td>\n",
              "      <td>0.0</td>\n",
              "      <td>0.0</td>\n",
              "      <td>0.0</td>\n",
              "      <td>0.0</td>\n",
              "      <td>0.0</td>\n",
              "      <td>1.0</td>\n",
              "      <td>0.0</td>\n",
              "      <td>0.0</td>\n",
              "      <td>0.0</td>\n",
              "    </tr>\n",
              "    <tr>\n",
              "      <th>244219</th>\n",
              "      <td>1.203524</td>\n",
              "      <td>-0.365016</td>\n",
              "      <td>-0.707671</td>\n",
              "      <td>0.0</td>\n",
              "      <td>0.0</td>\n",
              "      <td>0.0</td>\n",
              "      <td>0.0</td>\n",
              "      <td>1.0</td>\n",
              "      <td>0.0</td>\n",
              "      <td>0.0</td>\n",
              "      <td>...</td>\n",
              "      <td>0.0</td>\n",
              "      <td>0.0</td>\n",
              "      <td>0.0</td>\n",
              "      <td>0.0</td>\n",
              "      <td>1.0</td>\n",
              "      <td>0.0</td>\n",
              "      <td>0.0</td>\n",
              "      <td>0.0</td>\n",
              "      <td>0.0</td>\n",
              "      <td>1.0</td>\n",
              "    </tr>\n",
              "    <tr>\n",
              "      <th>50087</th>\n",
              "      <td>-0.093629</td>\n",
              "      <td>-0.365016</td>\n",
              "      <td>-0.053856</td>\n",
              "      <td>0.0</td>\n",
              "      <td>0.0</td>\n",
              "      <td>0.0</td>\n",
              "      <td>0.0</td>\n",
              "      <td>1.0</td>\n",
              "      <td>0.0</td>\n",
              "      <td>0.0</td>\n",
              "      <td>...</td>\n",
              "      <td>1.0</td>\n",
              "      <td>0.0</td>\n",
              "      <td>0.0</td>\n",
              "      <td>0.0</td>\n",
              "      <td>0.0</td>\n",
              "      <td>0.0</td>\n",
              "      <td>0.0</td>\n",
              "      <td>1.0</td>\n",
              "      <td>0.0</td>\n",
              "      <td>1.0</td>\n",
              "    </tr>\n",
              "    <tr>\n",
              "      <th>263478</th>\n",
              "      <td>0.050499</td>\n",
              "      <td>0.105977</td>\n",
              "      <td>0.599958</td>\n",
              "      <td>0.0</td>\n",
              "      <td>0.0</td>\n",
              "      <td>0.0</td>\n",
              "      <td>0.0</td>\n",
              "      <td>1.0</td>\n",
              "      <td>0.0</td>\n",
              "      <td>0.0</td>\n",
              "      <td>...</td>\n",
              "      <td>0.0</td>\n",
              "      <td>0.0</td>\n",
              "      <td>0.0</td>\n",
              "      <td>0.0</td>\n",
              "      <td>0.0</td>\n",
              "      <td>0.0</td>\n",
              "      <td>1.0</td>\n",
              "      <td>0.0</td>\n",
              "      <td>0.0</td>\n",
              "      <td>1.0</td>\n",
              "    </tr>\n",
              "  </tbody>\n",
              "</table>\n",
              "<p>5 rows × 308 columns</p>\n",
              "</div>"
            ],
            "text/plain": [
              "        registrationyear     power  kilometer  vehicletype_convertible  \\\n",
              "138737          0.915268 -0.787286  -0.969197                      0.0   \n",
              "89586           1.924165 -0.852250   0.599958                      0.0   \n",
              "244219          1.203524 -0.365016  -0.707671                      0.0   \n",
              "50087          -0.093629 -0.365016  -0.053856                      0.0   \n",
              "263478          0.050499  0.105977   0.599958                      0.0   \n",
              "\n",
              "        vehicletype_coupe  vehicletype_other  vehicletype_sedan  \\\n",
              "138737                0.0                0.0                0.0   \n",
              "89586                 0.0                1.0                0.0   \n",
              "244219                0.0                0.0                0.0   \n",
              "50087                 0.0                0.0                0.0   \n",
              "263478                0.0                0.0                0.0   \n",
              "\n",
              "        vehicletype_small  vehicletype_suv  vehicletype_wagon  ...  \\\n",
              "138737                1.0              0.0                0.0  ...   \n",
              "89586                 0.0              0.0                0.0  ...   \n",
              "244219                1.0              0.0                0.0  ...   \n",
              "50087                 1.0              0.0                0.0  ...   \n",
              "263478                1.0              0.0                0.0  ...   \n",
              "\n",
              "        brand_subaru  brand_suzuki  brand_toyota  brand_trabant  \\\n",
              "138737           0.0           0.0           0.0            0.0   \n",
              "89586            0.0           0.0           0.0            0.0   \n",
              "244219           0.0           0.0           0.0            0.0   \n",
              "50087            1.0           0.0           0.0            0.0   \n",
              "263478           0.0           0.0           0.0            0.0   \n",
              "\n",
              "        brand_volkswagen  brand_volvo  repaired_other  repaired_yes  \\\n",
              "138737               0.0          0.0             0.0           0.0   \n",
              "89586                0.0          0.0             1.0           0.0   \n",
              "244219               1.0          0.0             0.0           0.0   \n",
              "50087                0.0          0.0             0.0           1.0   \n",
              "263478               0.0          0.0             1.0           0.0   \n",
              "\n",
              "        categorize_retro  categorize_used_car  \n",
              "138737               0.0                  1.0  \n",
              "89586                0.0                  0.0  \n",
              "244219               0.0                  1.0  \n",
              "50087                0.0                  1.0  \n",
              "263478               0.0                  1.0  \n",
              "\n",
              "[5 rows x 308 columns]"
            ]
          },
          "execution_count": 67,
          "metadata": {},
          "output_type": "execute_result"
        }
      ],
      "source": [
        "scaler.fit(features_test_linear[numeric])\n",
        "\n",
        "features_test_linear[numeric] = scaler.transform(features_test_linear[numeric])\n",
        "\n",
        "features_test_linear.head()"
      ]
    },
    {
      "cell_type": "markdown",
      "metadata": {
        "id": "4a8rN9id2zVW"
      },
      "source": [
        "Отлично, все работает."
      ]
    },
    {
      "cell_type": "markdown",
      "metadata": {
        "id": "IhCKuS-p2zVX"
      },
      "source": [
        "Перезапишем в привычный формат features_train ..."
      ]
    },
    {
      "cell_type": "code",
      "execution_count": null,
      "metadata": {
        "id": "9p1aQZ9-2zVX"
      },
      "outputs": [],
      "source": [
        "features_train_ohe = features_train_linear\n",
        "features_valid_ohe = features_valid_linear\n",
        "features_test_ohe = features_test_linear"
      ]
    },
    {
      "cell_type": "markdown",
      "metadata": {
        "id": "sgTHApA52zVX"
      },
      "source": [
        "### Linear Regression Модель"
      ]
    },
    {
      "cell_type": "code",
      "execution_count": null,
      "metadata": {
        "id": "B0Rr8e6_2zVY",
        "outputId": "ef18c819-c795-4ad1-d7a7-3cb43562f47c"
      },
      "outputs": [
        {
          "name": "stdout",
          "output_type": "stream",
          "text": [
            "CPU times: user 13.8 s, sys: 16.3 s, total: 30 s\n",
            "Wall time: 30 s\n"
          ]
        },
        {
          "data": {
            "text/html": [
              "<style>#sk-container-id-1 {color: black;background-color: white;}#sk-container-id-1 pre{padding: 0;}#sk-container-id-1 div.sk-toggleable {background-color: white;}#sk-container-id-1 label.sk-toggleable__label {cursor: pointer;display: block;width: 100%;margin-bottom: 0;padding: 0.3em;box-sizing: border-box;text-align: center;}#sk-container-id-1 label.sk-toggleable__label-arrow:before {content: \"▸\";float: left;margin-right: 0.25em;color: #696969;}#sk-container-id-1 label.sk-toggleable__label-arrow:hover:before {color: black;}#sk-container-id-1 div.sk-estimator:hover label.sk-toggleable__label-arrow:before {color: black;}#sk-container-id-1 div.sk-toggleable__content {max-height: 0;max-width: 0;overflow: hidden;text-align: left;background-color: #f0f8ff;}#sk-container-id-1 div.sk-toggleable__content pre {margin: 0.2em;color: black;border-radius: 0.25em;background-color: #f0f8ff;}#sk-container-id-1 input.sk-toggleable__control:checked~div.sk-toggleable__content {max-height: 200px;max-width: 100%;overflow: auto;}#sk-container-id-1 input.sk-toggleable__control:checked~label.sk-toggleable__label-arrow:before {content: \"▾\";}#sk-container-id-1 div.sk-estimator input.sk-toggleable__control:checked~label.sk-toggleable__label {background-color: #d4ebff;}#sk-container-id-1 div.sk-label input.sk-toggleable__control:checked~label.sk-toggleable__label {background-color: #d4ebff;}#sk-container-id-1 input.sk-hidden--visually {border: 0;clip: rect(1px 1px 1px 1px);clip: rect(1px, 1px, 1px, 1px);height: 1px;margin: -1px;overflow: hidden;padding: 0;position: absolute;width: 1px;}#sk-container-id-1 div.sk-estimator {font-family: monospace;background-color: #f0f8ff;border: 1px dotted black;border-radius: 0.25em;box-sizing: border-box;margin-bottom: 0.5em;}#sk-container-id-1 div.sk-estimator:hover {background-color: #d4ebff;}#sk-container-id-1 div.sk-parallel-item::after {content: \"\";width: 100%;border-bottom: 1px solid gray;flex-grow: 1;}#sk-container-id-1 div.sk-label:hover label.sk-toggleable__label {background-color: #d4ebff;}#sk-container-id-1 div.sk-serial::before {content: \"\";position: absolute;border-left: 1px solid gray;box-sizing: border-box;top: 0;bottom: 0;left: 50%;z-index: 0;}#sk-container-id-1 div.sk-serial {display: flex;flex-direction: column;align-items: center;background-color: white;padding-right: 0.2em;padding-left: 0.2em;position: relative;}#sk-container-id-1 div.sk-item {position: relative;z-index: 1;}#sk-container-id-1 div.sk-parallel {display: flex;align-items: stretch;justify-content: center;background-color: white;position: relative;}#sk-container-id-1 div.sk-item::before, #sk-container-id-1 div.sk-parallel-item::before {content: \"\";position: absolute;border-left: 1px solid gray;box-sizing: border-box;top: 0;bottom: 0;left: 50%;z-index: -1;}#sk-container-id-1 div.sk-parallel-item {display: flex;flex-direction: column;z-index: 1;position: relative;background-color: white;}#sk-container-id-1 div.sk-parallel-item:first-child::after {align-self: flex-end;width: 50%;}#sk-container-id-1 div.sk-parallel-item:last-child::after {align-self: flex-start;width: 50%;}#sk-container-id-1 div.sk-parallel-item:only-child::after {width: 0;}#sk-container-id-1 div.sk-dashed-wrapped {border: 1px dashed gray;margin: 0 0.4em 0.5em 0.4em;box-sizing: border-box;padding-bottom: 0.4em;background-color: white;}#sk-container-id-1 div.sk-label label {font-family: monospace;font-weight: bold;display: inline-block;line-height: 1.2em;}#sk-container-id-1 div.sk-label-container {text-align: center;}#sk-container-id-1 div.sk-container {/* jupyter's `normalize.less` sets `[hidden] { display: none; }` but bootstrap.min.css set `[hidden] { display: none !important; }` so we also need the `!important` here to be able to override the default hidden behavior on the sphinx rendered scikit-learn.org. See: https://github.com/scikit-learn/scikit-learn/issues/21755 */display: inline-block !important;position: relative;}#sk-container-id-1 div.sk-text-repr-fallback {display: none;}</style><div id=\"sk-container-id-1\" class=\"sk-top-container\"><div class=\"sk-text-repr-fallback\"><pre>LinearRegression()</pre><b>In a Jupyter environment, please rerun this cell to show the HTML representation or trust the notebook. <br />On GitHub, the HTML representation is unable to render, please try loading this page with nbviewer.org.</b></div><div class=\"sk-container\" hidden><div class=\"sk-item\"><div class=\"sk-estimator sk-toggleable\"><input class=\"sk-toggleable__control sk-hidden--visually\" id=\"sk-estimator-id-1\" type=\"checkbox\" checked><label for=\"sk-estimator-id-1\" class=\"sk-toggleable__label sk-toggleable__label-arrow\">LinearRegression</label><div class=\"sk-toggleable__content\"><pre>LinearRegression()</pre></div></div></div></div></div>"
            ],
            "text/plain": [
              "LinearRegression()"
            ]
          },
          "execution_count": 69,
          "metadata": {},
          "output_type": "execute_result"
        }
      ],
      "source": [
        "%%time\n",
        "lr_model = LinearRegression()\n",
        "lr_model.fit(features_train_ohe, target_train)"
      ]
    },
    {
      "cell_type": "code",
      "execution_count": null,
      "metadata": {
        "id": "-6H1sTvi2zVY",
        "outputId": "9d9fc93a-daa7-43f4-bf24-f57f6681d95b"
      },
      "outputs": [
        {
          "name": "stdout",
          "output_type": "stream",
          "text": [
            "CPU times: user 92.8 ms, sys: 155 ms, total: 248 ms\n",
            "Wall time: 272 ms\n"
          ]
        }
      ],
      "source": [
        "%%time\n",
        "model_test_lr = lr_model.predict(features_valid_ohe)"
      ]
    },
    {
      "cell_type": "code",
      "execution_count": null,
      "metadata": {
        "id": "EV0BuC8Q2zVZ",
        "outputId": "9cd7eb3d-0e1d-4760-863b-416c2c8dd868"
      },
      "outputs": [
        {
          "name": "stdout",
          "output_type": "stream",
          "text": [
            "RMSE на тестовой выборке для линейной регресии: 2540.48\n"
          ]
        }
      ],
      "source": [
        "mse_model_lr = mean_squared_error(target_valid, model_test_lr)\n",
        "print(\"RMSE на тестовой выборке для линейной регресии:\", round((mse_model_lr) ** 0.5, 2))"
      ]
    },
    {
      "cell_type": "markdown",
      "metadata": {
        "id": "QAYB6IcU2zVZ"
      },
      "source": [
        "Почти добились нужного результата))"
      ]
    },
    {
      "cell_type": "markdown",
      "metadata": {
        "id": "u3IcRhxW2zVa"
      },
      "source": [
        "### RandomizedSearchCV"
      ]
    },
    {
      "cell_type": "markdown",
      "metadata": {
        "id": "3vodm2_f2zVa"
      },
      "source": [
        "Подберем гиперпараметры методом RandomizedSearchCV. Забегая впред, закомментируе код, тк выполняется он давольно долго."
      ]
    },
    {
      "cell_type": "code",
      "execution_count": null,
      "metadata": {
        "id": "HvI4zwkR2zVa"
      },
      "outputs": [],
      "source": [
        "#%%time\n",
        "\n",
        "#parameters = {'n_estimators': range(1,101,25),'max_depth': range(3,8,2)}\n",
        "\n",
        "#model_rfr = RandomForestRegressor()\n",
        "\n",
        "#rscv = RandomizedSearchCV(model_rfr, parameters, scoring='neg_mean_squared_error')\n",
        "#rscv.fit(features_train, target_train)\n",
        "\n",
        "#print(rscv.best_params_)\n",
        "# Результат:\n",
        "# {'n_estimators': 51, 'max_depth': 7}\n",
        "# Wall time: 44min 27s\n",
        "# Parser   : 495 ms"
      ]
    },
    {
      "cell_type": "markdown",
      "metadata": {
        "id": "e0u-x7vT2zVb"
      },
      "source": [
        "### Random Forest Regressor Модель"
      ]
    },
    {
      "cell_type": "code",
      "execution_count": null,
      "metadata": {
        "id": "-KI399pI2zVc"
      },
      "outputs": [],
      "source": [
        "# # features_train_rfr = features_train.copy()\n",
        "# # features_test_rfr = features_test.copy()\n",
        "\n",
        "# features_train_rfr = features_train\n",
        "# features_test_rfr = features_test\n",
        "\n",
        "# category_features_rfr = ['vehicletype', 'gearbox', 'model', 'fueltype', 'brand', 'repaired', 'categorize']\n",
        "\n",
        "# encoder = OrdinalEncoder()\n",
        "# encoder.fit(features_train_rfr[category_features_rfr])\n",
        "# features_train_rfr[category_features_rfr] = encoder.transform(features_train_rfr[category_features_rfr])\n",
        "# features_test_rfr[category_features_rfr] = encoder.transform(features_test_rfr[category_features_rfr])\n",
        "\n",
        "# features_train_rfr.head()"
      ]
    },
    {
      "cell_type": "code",
      "execution_count": null,
      "metadata": {
        "id": "tIJ8CZB02zVc"
      },
      "outputs": [],
      "source": [
        "encoder = OrdinalEncoder(handle_unknown='use_encoded_value', unknown_value=9999)\n",
        "cat_columns = ['vehicletype', 'gearbox', 'model', 'fueltype', 'brand', 'repaired', 'categorize']\n",
        "encoder.fit(features_train[cat_columns])\n",
        "\n",
        "features_train_ord = features_train.copy()\n",
        "features_valid_ord = features_valid.copy()\n",
        "features_test_ord = features_test.copy()\n",
        "\n",
        "features_train_ord[cat_columns] = encoder.transform(features_train_ord[cat_columns])\n",
        "features_valid_ord[cat_columns] = encoder.transform(features_valid_ord[cat_columns])\n",
        "features_test_ord[cat_columns] = encoder.transform(features_test_ord[cat_columns])\n"
      ]
    },
    {
      "cell_type": "code",
      "execution_count": null,
      "metadata": {
        "id": "uyMnS5YZ2zVc",
        "outputId": "9a36d325-ae12-48ba-e3ad-006bac616f5d"
      },
      "outputs": [
        {
          "name": "stdout",
          "output_type": "stream",
          "text": [
            "CPU times: user 1min 21s, sys: 479 ms, total: 1min 22s\n",
            "Wall time: 1min 22s\n"
          ]
        },
        {
          "data": {
            "text/html": [
              "<style>#sk-container-id-2 {color: black;background-color: white;}#sk-container-id-2 pre{padding: 0;}#sk-container-id-2 div.sk-toggleable {background-color: white;}#sk-container-id-2 label.sk-toggleable__label {cursor: pointer;display: block;width: 100%;margin-bottom: 0;padding: 0.3em;box-sizing: border-box;text-align: center;}#sk-container-id-2 label.sk-toggleable__label-arrow:before {content: \"▸\";float: left;margin-right: 0.25em;color: #696969;}#sk-container-id-2 label.sk-toggleable__label-arrow:hover:before {color: black;}#sk-container-id-2 div.sk-estimator:hover label.sk-toggleable__label-arrow:before {color: black;}#sk-container-id-2 div.sk-toggleable__content {max-height: 0;max-width: 0;overflow: hidden;text-align: left;background-color: #f0f8ff;}#sk-container-id-2 div.sk-toggleable__content pre {margin: 0.2em;color: black;border-radius: 0.25em;background-color: #f0f8ff;}#sk-container-id-2 input.sk-toggleable__control:checked~div.sk-toggleable__content {max-height: 200px;max-width: 100%;overflow: auto;}#sk-container-id-2 input.sk-toggleable__control:checked~label.sk-toggleable__label-arrow:before {content: \"▾\";}#sk-container-id-2 div.sk-estimator input.sk-toggleable__control:checked~label.sk-toggleable__label {background-color: #d4ebff;}#sk-container-id-2 div.sk-label input.sk-toggleable__control:checked~label.sk-toggleable__label {background-color: #d4ebff;}#sk-container-id-2 input.sk-hidden--visually {border: 0;clip: rect(1px 1px 1px 1px);clip: rect(1px, 1px, 1px, 1px);height: 1px;margin: -1px;overflow: hidden;padding: 0;position: absolute;width: 1px;}#sk-container-id-2 div.sk-estimator {font-family: monospace;background-color: #f0f8ff;border: 1px dotted black;border-radius: 0.25em;box-sizing: border-box;margin-bottom: 0.5em;}#sk-container-id-2 div.sk-estimator:hover {background-color: #d4ebff;}#sk-container-id-2 div.sk-parallel-item::after {content: \"\";width: 100%;border-bottom: 1px solid gray;flex-grow: 1;}#sk-container-id-2 div.sk-label:hover label.sk-toggleable__label {background-color: #d4ebff;}#sk-container-id-2 div.sk-serial::before {content: \"\";position: absolute;border-left: 1px solid gray;box-sizing: border-box;top: 0;bottom: 0;left: 50%;z-index: 0;}#sk-container-id-2 div.sk-serial {display: flex;flex-direction: column;align-items: center;background-color: white;padding-right: 0.2em;padding-left: 0.2em;position: relative;}#sk-container-id-2 div.sk-item {position: relative;z-index: 1;}#sk-container-id-2 div.sk-parallel {display: flex;align-items: stretch;justify-content: center;background-color: white;position: relative;}#sk-container-id-2 div.sk-item::before, #sk-container-id-2 div.sk-parallel-item::before {content: \"\";position: absolute;border-left: 1px solid gray;box-sizing: border-box;top: 0;bottom: 0;left: 50%;z-index: -1;}#sk-container-id-2 div.sk-parallel-item {display: flex;flex-direction: column;z-index: 1;position: relative;background-color: white;}#sk-container-id-2 div.sk-parallel-item:first-child::after {align-self: flex-end;width: 50%;}#sk-container-id-2 div.sk-parallel-item:last-child::after {align-self: flex-start;width: 50%;}#sk-container-id-2 div.sk-parallel-item:only-child::after {width: 0;}#sk-container-id-2 div.sk-dashed-wrapped {border: 1px dashed gray;margin: 0 0.4em 0.5em 0.4em;box-sizing: border-box;padding-bottom: 0.4em;background-color: white;}#sk-container-id-2 div.sk-label label {font-family: monospace;font-weight: bold;display: inline-block;line-height: 1.2em;}#sk-container-id-2 div.sk-label-container {text-align: center;}#sk-container-id-2 div.sk-container {/* jupyter's `normalize.less` sets `[hidden] { display: none; }` but bootstrap.min.css set `[hidden] { display: none !important; }` so we also need the `!important` here to be able to override the default hidden behavior on the sphinx rendered scikit-learn.org. See: https://github.com/scikit-learn/scikit-learn/issues/21755 */display: inline-block !important;position: relative;}#sk-container-id-2 div.sk-text-repr-fallback {display: none;}</style><div id=\"sk-container-id-2\" class=\"sk-top-container\"><div class=\"sk-text-repr-fallback\"><pre>RandomForestRegressor(max_depth=7, n_estimators=51, random_state=12345)</pre><b>In a Jupyter environment, please rerun this cell to show the HTML representation or trust the notebook. <br />On GitHub, the HTML representation is unable to render, please try loading this page with nbviewer.org.</b></div><div class=\"sk-container\" hidden><div class=\"sk-item\"><div class=\"sk-estimator sk-toggleable\"><input class=\"sk-toggleable__control sk-hidden--visually\" id=\"sk-estimator-id-2\" type=\"checkbox\" checked><label for=\"sk-estimator-id-2\" class=\"sk-toggleable__label sk-toggleable__label-arrow\">RandomForestRegressor</label><div class=\"sk-toggleable__content\"><pre>RandomForestRegressor(max_depth=7, n_estimators=51, random_state=12345)</pre></div></div></div></div></div>"
            ],
            "text/plain": [
              "RandomForestRegressor(max_depth=7, n_estimators=51, random_state=12345)"
            ]
          },
          "execution_count": 75,
          "metadata": {},
          "output_type": "execute_result"
        }
      ],
      "source": [
        "%%time\n",
        "\n",
        "model_rfr_test = RandomForestRegressor(n_estimators = 51, max_depth=7, random_state=12345)\n",
        "model_rfr_test.fit(features_train_ord, target_train)"
      ]
    },
    {
      "cell_type": "code",
      "execution_count": null,
      "metadata": {
        "id": "0KP2jPgd2zVd",
        "outputId": "86705e6d-bcea-4a06-9107-d061bb86fd86"
      },
      "outputs": [
        {
          "name": "stdout",
          "output_type": "stream",
          "text": [
            "CPU times: user 207 ms, sys: 148 ms, total: 355 ms\n",
            "Wall time: 361 ms\n"
          ]
        }
      ],
      "source": [
        "%%time\n",
        "\n",
        "preds_rfrmodel = model_rfr_test.predict(features_valid_ord)"
      ]
    },
    {
      "cell_type": "code",
      "execution_count": null,
      "metadata": {
        "id": "nacnj5bL2zVe",
        "outputId": "d1028cc4-624c-4845-daeb-b02718fc400e"
      },
      "outputs": [
        {
          "name": "stdout",
          "output_type": "stream",
          "text": [
            "RMSE для DecisionTreeRegresso модели на тестовой выборке: 2176.42\n",
            "CPU times: user 2.24 ms, sys: 0 ns, total: 2.24 ms\n",
            "Wall time: 1.43 ms\n"
          ]
        }
      ],
      "source": [
        "%%time\n",
        "\n",
        "mse_preds_rfrmodel = mean_squared_error(target_valid, preds_rfrmodel)\n",
        "print(\"RMSE для DecisionTreeRegresso модели на тестовой выборке:\", round((mse_preds_rfrmodel) ** 0.5, 2))"
      ]
    },
    {
      "cell_type": "markdown",
      "metadata": {
        "id": "93RhaN-q2zVe"
      },
      "source": [
        "Ура, уже лучшее но идем дальше."
      ]
    },
    {
      "cell_type": "markdown",
      "metadata": {
        "id": "ITuUloch2zVg"
      },
      "source": [
        "### LightGBM Модель (градиентный бустинг)"
      ]
    },
    {
      "cell_type": "markdown",
      "metadata": {
        "id": "QbQjDfKj2zVg"
      },
      "source": [
        "В отличии от предыдущей модели в данной для подбора гиперпараметров используем GridSearchCV"
      ]
    },
    {
      "cell_type": "code",
      "execution_count": null,
      "metadata": {
        "id": "5-Tjcfan2zVh"
      },
      "outputs": [],
      "source": [
        "# %%time\n",
        "# cv = 3\n",
        "# gbm = LGBMRegressor(boosting_type='gbdt', seed=RANDOM_STATE)\n",
        "# gbm_params = {'learning_rate': [0.1, 0.5], 'n_estimators': [50, 100], 'max_depth': [4]}\n",
        "\n",
        "# grid_gbm = GridSearchCV(gbm, gbm_params, cv=cv)\n",
        "# grid_gbm.fit(features_train_ord, target_train);\n",
        "\n",
        "# grid_gbm.best_params_\n",
        "\n",
        "# Результат\n",
        "# CPU times: user 21min 12s, sys: 20.3 s, total: 21min 32s\n",
        "# Wall time: 21min 38s\n",
        "# {'learning_rate': 0.5, 'max_depth': 4, 'n_estimators': 100}"
      ]
    },
    {
      "cell_type": "code",
      "execution_count": null,
      "metadata": {
        "scrolled": true,
        "id": "GGeCdazV2zVi",
        "outputId": "ed825e57-71b5-4dbe-a0e2-c9c19b90cfe8"
      },
      "outputs": [
        {
          "name": "stdout",
          "output_type": "stream",
          "text": [
            "CPU times: user 15.7 s, sys: 441 ms, total: 16.2 s\n",
            "Wall time: 16.3 s\n"
          ]
        },
        {
          "data": {
            "text/html": [
              "<style>#sk-container-id-3 {color: black;background-color: white;}#sk-container-id-3 pre{padding: 0;}#sk-container-id-3 div.sk-toggleable {background-color: white;}#sk-container-id-3 label.sk-toggleable__label {cursor: pointer;display: block;width: 100%;margin-bottom: 0;padding: 0.3em;box-sizing: border-box;text-align: center;}#sk-container-id-3 label.sk-toggleable__label-arrow:before {content: \"▸\";float: left;margin-right: 0.25em;color: #696969;}#sk-container-id-3 label.sk-toggleable__label-arrow:hover:before {color: black;}#sk-container-id-3 div.sk-estimator:hover label.sk-toggleable__label-arrow:before {color: black;}#sk-container-id-3 div.sk-toggleable__content {max-height: 0;max-width: 0;overflow: hidden;text-align: left;background-color: #f0f8ff;}#sk-container-id-3 div.sk-toggleable__content pre {margin: 0.2em;color: black;border-radius: 0.25em;background-color: #f0f8ff;}#sk-container-id-3 input.sk-toggleable__control:checked~div.sk-toggleable__content {max-height: 200px;max-width: 100%;overflow: auto;}#sk-container-id-3 input.sk-toggleable__control:checked~label.sk-toggleable__label-arrow:before {content: \"▾\";}#sk-container-id-3 div.sk-estimator input.sk-toggleable__control:checked~label.sk-toggleable__label {background-color: #d4ebff;}#sk-container-id-3 div.sk-label input.sk-toggleable__control:checked~label.sk-toggleable__label {background-color: #d4ebff;}#sk-container-id-3 input.sk-hidden--visually {border: 0;clip: rect(1px 1px 1px 1px);clip: rect(1px, 1px, 1px, 1px);height: 1px;margin: -1px;overflow: hidden;padding: 0;position: absolute;width: 1px;}#sk-container-id-3 div.sk-estimator {font-family: monospace;background-color: #f0f8ff;border: 1px dotted black;border-radius: 0.25em;box-sizing: border-box;margin-bottom: 0.5em;}#sk-container-id-3 div.sk-estimator:hover {background-color: #d4ebff;}#sk-container-id-3 div.sk-parallel-item::after {content: \"\";width: 100%;border-bottom: 1px solid gray;flex-grow: 1;}#sk-container-id-3 div.sk-label:hover label.sk-toggleable__label {background-color: #d4ebff;}#sk-container-id-3 div.sk-serial::before {content: \"\";position: absolute;border-left: 1px solid gray;box-sizing: border-box;top: 0;bottom: 0;left: 50%;z-index: 0;}#sk-container-id-3 div.sk-serial {display: flex;flex-direction: column;align-items: center;background-color: white;padding-right: 0.2em;padding-left: 0.2em;position: relative;}#sk-container-id-3 div.sk-item {position: relative;z-index: 1;}#sk-container-id-3 div.sk-parallel {display: flex;align-items: stretch;justify-content: center;background-color: white;position: relative;}#sk-container-id-3 div.sk-item::before, #sk-container-id-3 div.sk-parallel-item::before {content: \"\";position: absolute;border-left: 1px solid gray;box-sizing: border-box;top: 0;bottom: 0;left: 50%;z-index: -1;}#sk-container-id-3 div.sk-parallel-item {display: flex;flex-direction: column;z-index: 1;position: relative;background-color: white;}#sk-container-id-3 div.sk-parallel-item:first-child::after {align-self: flex-end;width: 50%;}#sk-container-id-3 div.sk-parallel-item:last-child::after {align-self: flex-start;width: 50%;}#sk-container-id-3 div.sk-parallel-item:only-child::after {width: 0;}#sk-container-id-3 div.sk-dashed-wrapped {border: 1px dashed gray;margin: 0 0.4em 0.5em 0.4em;box-sizing: border-box;padding-bottom: 0.4em;background-color: white;}#sk-container-id-3 div.sk-label label {font-family: monospace;font-weight: bold;display: inline-block;line-height: 1.2em;}#sk-container-id-3 div.sk-label-container {text-align: center;}#sk-container-id-3 div.sk-container {/* jupyter's `normalize.less` sets `[hidden] { display: none; }` but bootstrap.min.css set `[hidden] { display: none !important; }` so we also need the `!important` here to be able to override the default hidden behavior on the sphinx rendered scikit-learn.org. See: https://github.com/scikit-learn/scikit-learn/issues/21755 */display: inline-block !important;position: relative;}#sk-container-id-3 div.sk-text-repr-fallback {display: none;}</style><div id=\"sk-container-id-3\" class=\"sk-top-container\"><div class=\"sk-text-repr-fallback\"><pre>LGBMRegressor(learning_rate=0.4, max_depth=4)</pre><b>In a Jupyter environment, please rerun this cell to show the HTML representation or trust the notebook. <br />On GitHub, the HTML representation is unable to render, please try loading this page with nbviewer.org.</b></div><div class=\"sk-container\" hidden><div class=\"sk-item\"><div class=\"sk-estimator sk-toggleable\"><input class=\"sk-toggleable__control sk-hidden--visually\" id=\"sk-estimator-id-3\" type=\"checkbox\" checked><label for=\"sk-estimator-id-3\" class=\"sk-toggleable__label sk-toggleable__label-arrow\">LGBMRegressor</label><div class=\"sk-toggleable__content\"><pre>LGBMRegressor(learning_rate=0.4, max_depth=4)</pre></div></div></div></div></div>"
            ],
            "text/plain": [
              "LGBMRegressor(learning_rate=0.4, max_depth=4)"
            ]
          },
          "execution_count": 79,
          "metadata": {},
          "output_type": "execute_result"
        }
      ],
      "source": [
        "%%time\n",
        "\n",
        "model_gbm = LGBMRegressor(learning_rate = 0.4, max_depth = 4, n_estimators = 100)\n",
        "model_gbm.fit(features_train_ord, target_train)"
      ]
    },
    {
      "cell_type": "code",
      "execution_count": null,
      "metadata": {
        "id": "xzna_mjk2zVi",
        "outputId": "d289bf27-e441-488a-bec4-debe66c9770d"
      },
      "outputs": [
        {
          "name": "stdout",
          "output_type": "stream",
          "text": [
            "CPU times: user 435 ms, sys: 111 ms, total: 546 ms\n",
            "Wall time: 596 ms\n"
          ]
        }
      ],
      "source": [
        "%%time\n",
        "\n",
        "preds_gbmmodel = model_gbm.predict(features_valid_ord)"
      ]
    },
    {
      "cell_type": "code",
      "execution_count": null,
      "metadata": {
        "id": "0rwsRBmI2zVj",
        "outputId": "9a042511-68f3-4fcf-d48c-a76e9bef71a7"
      },
      "outputs": [
        {
          "name": "stdout",
          "output_type": "stream",
          "text": [
            "RMSE для LightGBM модели на тестовой выборке: 1752.41\n",
            "CPU times: user 2.92 ms, sys: 329 µs, total: 3.25 ms\n",
            "Wall time: 1.95 ms\n"
          ]
        }
      ],
      "source": [
        "%%time\n",
        "\n",
        "mse_preds_gbmmodel = mean_squared_error(target_valid, preds_gbmmodel)\n",
        "print(\"RMSE для LightGBM модели на тестовой выборке:\", round((mse_preds_gbmmodel) ** 0.5, 2))"
      ]
    },
    {
      "cell_type": "markdown",
      "metadata": {
        "id": "ibfQBnVK2zVl"
      },
      "source": [
        "Успех с каждым разом. RMSE становится все меньше."
      ]
    },
    {
      "cell_type": "markdown",
      "metadata": {
        "id": "ywy18PvF2zVl"
      },
      "source": [
        "### CatBoost Regressor"
      ]
    },
    {
      "cell_type": "markdown",
      "metadata": {
        "id": "QnO44b5J2zVm"
      },
      "source": [
        "Вернемся к первичным данным data, тк CatBoostRegressor принимает и категориальные и числовые признаки"
      ]
    },
    {
      "cell_type": "code",
      "execution_count": null,
      "metadata": {
        "id": "mQ0Sy5Ck2zVm"
      },
      "outputs": [],
      "source": [
        "#data"
      ]
    },
    {
      "cell_type": "code",
      "execution_count": null,
      "metadata": {
        "id": "3_jlhzSN2zVm"
      },
      "outputs": [],
      "source": [
        "categorical_features = ['vehicletype', 'gearbox', 'model', 'fueltype', 'brand', 'repaired', 'categorize']\n",
        "numerical_features = ['registrationyear', 'power', 'kilometer']"
      ]
    },
    {
      "cell_type": "raw",
      "metadata": {
        "id": "dhxCLd0K2zVn"
      },
      "source": [
        "catfeatures = data.drop('price', axis=1)\n",
        "cattarget = data['price']\n",
        "\n",
        "catfeatures_train, catfeatures_test, cattarget_train, cattarget_test = train_test_split(features, target, test_size=0.25, random_state=12345)\n"
      ]
    },
    {
      "cell_type": "code",
      "execution_count": null,
      "metadata": {
        "id": "wucKf6WX2zVn",
        "outputId": "d26b5ea2-9bf7-4d10-9cc7-575f626dc069"
      },
      "outputs": [
        {
          "name": "stdout",
          "output_type": "stream",
          "text": [
            "CPU times: user 5.18 s, sys: 249 ms, total: 5.43 s\n",
            "Wall time: 6.14 s\n"
          ]
        },
        {
          "data": {
            "text/plain": [
              "<catboost.core.CatBoostRegressor at 0x7fc5485b2550>"
            ]
          },
          "execution_count": 84,
          "metadata": {},
          "output_type": "execute_result"
        }
      ],
      "source": [
        "%%time\n",
        "\n",
        "catmodel = CatBoostRegressor(depth = 9, iterations = 40, learning_rate = 1.0)\n",
        "catmodel.fit(features_train, target_train, cat_features = categorical_features, logging_level='Silent')"
      ]
    },
    {
      "cell_type": "code",
      "execution_count": null,
      "metadata": {
        "id": "GagKxVem2zVo",
        "outputId": "db6230d3-0bf1-4027-c2fa-887477f6fbcf"
      },
      "outputs": [
        {
          "name": "stdout",
          "output_type": "stream",
          "text": [
            "CPU times: user 259 ms, sys: 7.94 ms, total: 267 ms\n",
            "Wall time: 268 ms\n"
          ]
        }
      ],
      "source": [
        "%%time\n",
        "\n",
        "cat_predict = catmodel.predict(features_train)"
      ]
    },
    {
      "cell_type": "code",
      "execution_count": null,
      "metadata": {
        "id": "cEcPRXPY2zVo",
        "outputId": "20076ea1-c169-493a-c2c5-92314555dadb"
      },
      "outputs": [
        {
          "name": "stdout",
          "output_type": "stream",
          "text": [
            "RMSE для CatBoostRegressor модели на тестовой выборке: 1623.76\n"
          ]
        }
      ],
      "source": [
        "mse_catmodel = mean_squared_error(target_train, cat_predict)\n",
        "print(\"RMSE для CatBoostRegressor модели на тестовой выборке:\", round((mse_catmodel) ** 0.5, 2))"
      ]
    },
    {
      "cell_type": "code",
      "execution_count": null,
      "metadata": {
        "id": "3G9cZQqh2zVp"
      },
      "outputs": [],
      "source": [
        "#rmse = np.sqrt(mean_squared_error(cattarget_test, cat_predict))\n",
        "#rmse"
      ]
    },
    {
      "cell_type": "markdown",
      "metadata": {
        "id": "OTEmfqyI2zVp"
      },
      "source": [
        "Видимо ветер дует в попутном направлении, с каждой можелью результат RMSE уменьшается. Что нас и радует."
      ]
    },
    {
      "cell_type": "markdown",
      "metadata": {
        "id": "C5ek-MpF2zVq"
      },
      "source": [
        "## Анализ моделей"
      ]
    },
    {
      "cell_type": "markdown",
      "metadata": {
        "id": "aDozqzCu2zVq"
      },
      "source": [
        "Соберем полученные данные в новый дата сет, для удобного сравнения."
      ]
    },
    {
      "cell_type": "code",
      "execution_count": null,
      "metadata": {
        "id": "FTMR5mBy2zVr"
      },
      "outputs": [],
      "source": [
        "final_analysis = [[\"17 s\", \"257 ms\", \"2521.0\"],\n",
        "        [\"1min 29s\", \"387 ms\", \"2151.61\"],\n",
        "        [\"1min 15s\", \"533 ms\", \"1752.41\"],\n",
        "        [\"6.14 s\", \"268 ms\", \"1623.76\"]]\n",
        "\n",
        "model_name = [\"LinearRegression\", \"RandomForestRegressor\", \"LGBMRegressor\", \"CatBoostRegressor\"]"
      ]
    },
    {
      "cell_type": "code",
      "execution_count": null,
      "metadata": {
        "scrolled": true,
        "id": "diJGKhlI2zVr",
        "outputId": "f27961b6-f979-47e3-b057-ff60c513cebd"
      },
      "outputs": [
        {
          "data": {
            "text/html": [
              "<div>\n",
              "<style scoped>\n",
              "    .dataframe tbody tr th:only-of-type {\n",
              "        vertical-align: middle;\n",
              "    }\n",
              "\n",
              "    .dataframe tbody tr th {\n",
              "        vertical-align: top;\n",
              "    }\n",
              "\n",
              "    .dataframe thead th {\n",
              "        text-align: right;\n",
              "    }\n",
              "</style>\n",
              "<table border=\"1\" class=\"dataframe\">\n",
              "  <thead>\n",
              "    <tr style=\"text-align: right;\">\n",
              "      <th></th>\n",
              "      <th>fit</th>\n",
              "      <th>predict</th>\n",
              "      <th>RMSE</th>\n",
              "    </tr>\n",
              "  </thead>\n",
              "  <tbody>\n",
              "    <tr>\n",
              "      <th>LinearRegression</th>\n",
              "      <td>17 s</td>\n",
              "      <td>257 ms</td>\n",
              "      <td>2521.0</td>\n",
              "    </tr>\n",
              "    <tr>\n",
              "      <th>RandomForestRegressor</th>\n",
              "      <td>1min 29s</td>\n",
              "      <td>387 ms</td>\n",
              "      <td>2151.61</td>\n",
              "    </tr>\n",
              "    <tr>\n",
              "      <th>LGBMRegressor</th>\n",
              "      <td>1min 15s</td>\n",
              "      <td>533 ms</td>\n",
              "      <td>1772.77</td>\n",
              "    </tr>\n",
              "    <tr>\n",
              "      <th>CatBoostRegressor</th>\n",
              "      <td>7.15 s</td>\n",
              "      <td>119 ms</td>\n",
              "      <td>1725.21</td>\n",
              "    </tr>\n",
              "  </tbody>\n",
              "</table>\n",
              "</div>"
            ],
            "text/plain": [
              "                            fit predict     RMSE\n",
              "LinearRegression           17 s  257 ms   2521.0\n",
              "RandomForestRegressor  1min 29s  387 ms  2151.61\n",
              "LGBMRegressor          1min 15s  533 ms  1772.77\n",
              "CatBoostRegressor        7.15 s  119 ms  1725.21"
            ]
          },
          "execution_count": 89,
          "metadata": {},
          "output_type": "execute_result"
        }
      ],
      "source": [
        "pd.DataFrame(data = final_analysis, index = model_name, columns=[\"fit\", \"predict\", \"RMSE\"])"
      ]
    },
    {
      "cell_type": "markdown",
      "metadata": {
        "id": "iR5H0MFu2zVt"
      },
      "source": [
        "## Тестирование лучшей модели"
      ]
    },
    {
      "cell_type": "code",
      "execution_count": null,
      "metadata": {
        "id": "OifS8N4M2zVu",
        "outputId": "908bb4f7-3e53-4621-930e-8a712803b08e"
      },
      "outputs": [
        {
          "name": "stdout",
          "output_type": "stream",
          "text": [
            "CPU times: user 177 ms, sys: 4.19 ms, total: 182 ms\n",
            "Wall time: 180 ms\n"
          ]
        }
      ],
      "source": [
        "%%time\n",
        "\n",
        "cat_predict = catmodel.predict(features_test)"
      ]
    },
    {
      "cell_type": "code",
      "execution_count": null,
      "metadata": {
        "id": "63hrNKZY2zVu",
        "outputId": "5b82bee9-0e76-43ea-c7fe-75b23cfedf64"
      },
      "outputs": [
        {
          "name": "stdout",
          "output_type": "stream",
          "text": [
            "RMSE для CatBoostRegressor модели на тестовой выборке: 1707.07\n"
          ]
        }
      ],
      "source": [
        "mse_catmodel = mean_squared_error(target_test, cat_predict)\n",
        "print(\"RMSE для CatBoostRegressor модели на тестовой выборке:\", round((mse_catmodel) ** 0.5, 2))"
      ]
    },
    {
      "cell_type": "markdown",
      "metadata": {
        "id": "YbM5NR5R2zVx"
      },
      "source": [
        "## Вывод:"
      ]
    },
    {
      "cell_type": "markdown",
      "metadata": {
        "id": "uWQDfeNc2zVy"
      },
      "source": [
        "Мы проделали большой объем работы. Первым делом мы проанализировали предоставленные данные, оказалось много пропусков, аномалий и как мы считаем фейков. Далее перешли к обработке данных, в данным разделе мы удалили все пропуски, дубликаты, аномалии, в общем оставили только чистые данные, все же наша цель добиться точности в предсказании цены, любые искусственно добавленные данные могут повлиять на окончательный результат.  Следующим шагом разбиваем дата сет на три выборки и подготавливаем данные к обучению моделей. Для решения задачи взяли четыре модели. Linear Regression, Random Forest Regressor, LGBM Regressor, CatBoostRegressor. Из таблицы выше видим, что CatBoost показал наиболее хороший результат и по точности и по времени. По заданию нужно было добиться результата менее 2500 пунктов RMSE. Считаю, что модель CatBoost показала достойный результат и вполне рабочая модель для дальнейшего использования.\n",
        "\n",
        "С Уважением,\n",
        "\n",
        "А. Нестеров."
      ]
    }
  ],
  "metadata": {
    "ExecuteTimeLog": [
      {
        "duration": 745,
        "start_time": "2023-05-12T16:58:55.285Z"
      },
      {
        "duration": 3,
        "start_time": "2023-05-12T17:03:08.073Z"
      },
      {
        "duration": 6,
        "start_time": "2023-05-12T17:07:00.832Z"
      },
      {
        "duration": 5,
        "start_time": "2023-05-12T17:08:21.254Z"
      },
      {
        "duration": 5,
        "start_time": "2023-05-12T17:08:46.064Z"
      },
      {
        "duration": 5,
        "start_time": "2023-05-12T17:09:15.512Z"
      },
      {
        "duration": 2708,
        "start_time": "2023-05-12T17:11:07.180Z"
      },
      {
        "duration": 682,
        "start_time": "2023-05-12T17:12:02.095Z"
      },
      {
        "duration": 2134,
        "start_time": "2023-05-12T17:13:46.787Z"
      },
      {
        "duration": 3243,
        "start_time": "2023-05-12T17:26:15.881Z"
      },
      {
        "duration": 91,
        "start_time": "2023-05-12T17:28:11.567Z"
      },
      {
        "duration": 1280,
        "start_time": "2023-05-12T17:28:36.480Z"
      },
      {
        "duration": 1866,
        "start_time": "2023-05-12T17:29:36.476Z"
      },
      {
        "duration": 9379,
        "start_time": "2023-05-12T17:29:55.620Z"
      },
      {
        "duration": 51,
        "start_time": "2023-05-12T17:48:10.573Z"
      },
      {
        "duration": 7,
        "start_time": "2023-05-12T17:49:46.346Z"
      },
      {
        "duration": 5,
        "start_time": "2023-05-12T17:50:06.719Z"
      },
      {
        "duration": 7,
        "start_time": "2023-05-12T17:51:38.816Z"
      },
      {
        "duration": 6,
        "start_time": "2023-05-12T17:51:47.597Z"
      },
      {
        "duration": 6,
        "start_time": "2023-05-12T17:53:31.552Z"
      },
      {
        "duration": 6,
        "start_time": "2023-05-12T17:55:11.084Z"
      },
      {
        "duration": 1090,
        "start_time": "2023-05-12T17:59:50.683Z"
      },
      {
        "duration": 7,
        "start_time": "2023-05-12T17:59:51.775Z"
      },
      {
        "duration": 19,
        "start_time": "2023-05-12T17:59:51.783Z"
      },
      {
        "duration": 9,
        "start_time": "2023-05-12T17:59:51.804Z"
      },
      {
        "duration": 15,
        "start_time": "2023-05-12T17:59:51.815Z"
      },
      {
        "duration": 2828,
        "start_time": "2023-05-12T17:59:51.836Z"
      },
      {
        "duration": 2108,
        "start_time": "2023-05-12T17:59:54.666Z"
      },
      {
        "duration": 9687,
        "start_time": "2023-05-12T17:59:56.784Z"
      },
      {
        "duration": 899,
        "start_time": "2023-05-12T18:00:06.473Z"
      },
      {
        "duration": 6,
        "start_time": "2023-05-12T18:01:19.062Z"
      },
      {
        "duration": 52,
        "start_time": "2023-05-12T18:04:03.192Z"
      },
      {
        "duration": 1139,
        "start_time": "2023-05-12T18:04:25.556Z"
      },
      {
        "duration": 6,
        "start_time": "2023-05-12T18:04:26.697Z"
      },
      {
        "duration": 9,
        "start_time": "2023-05-12T18:04:26.705Z"
      },
      {
        "duration": 11,
        "start_time": "2023-05-12T18:04:26.715Z"
      },
      {
        "duration": 6,
        "start_time": "2023-05-12T18:04:26.727Z"
      },
      {
        "duration": 2802,
        "start_time": "2023-05-12T18:04:26.735Z"
      },
      {
        "duration": 2257,
        "start_time": "2023-05-12T18:04:29.539Z"
      },
      {
        "duration": 9874,
        "start_time": "2023-05-12T18:04:31.797Z"
      },
      {
        "duration": 55,
        "start_time": "2023-05-12T18:07:08.481Z"
      },
      {
        "duration": 6,
        "start_time": "2023-05-12T18:07:48.661Z"
      },
      {
        "duration": 1062,
        "start_time": "2023-05-12T18:07:54.427Z"
      },
      {
        "duration": 6,
        "start_time": "2023-05-12T18:07:55.491Z"
      },
      {
        "duration": 10,
        "start_time": "2023-05-12T18:07:55.499Z"
      },
      {
        "duration": 11,
        "start_time": "2023-05-12T18:07:55.512Z"
      },
      {
        "duration": 9,
        "start_time": "2023-05-12T18:07:55.525Z"
      },
      {
        "duration": 2905,
        "start_time": "2023-05-12T18:07:55.557Z"
      },
      {
        "duration": 2661,
        "start_time": "2023-05-12T18:07:58.466Z"
      },
      {
        "duration": 9674,
        "start_time": "2023-05-12T18:08:01.129Z"
      },
      {
        "duration": 44,
        "start_time": "2023-05-12T18:11:08.555Z"
      },
      {
        "duration": 3048,
        "start_time": "2023-05-12T18:11:24.359Z"
      },
      {
        "duration": 65,
        "start_time": "2023-05-12T18:11:34.471Z"
      },
      {
        "duration": 1933,
        "start_time": "2023-05-12T18:12:09.121Z"
      },
      {
        "duration": 8,
        "start_time": "2023-05-12T18:12:14.460Z"
      },
      {
        "duration": 1899,
        "start_time": "2023-05-12T18:12:34.799Z"
      },
      {
        "duration": 0,
        "start_time": "2023-05-12T18:12:36.700Z"
      },
      {
        "duration": 0,
        "start_time": "2023-05-12T18:12:36.701Z"
      },
      {
        "duration": 0,
        "start_time": "2023-05-12T18:12:36.702Z"
      },
      {
        "duration": 0,
        "start_time": "2023-05-12T18:12:36.703Z"
      },
      {
        "duration": 0,
        "start_time": "2023-05-12T18:12:36.704Z"
      },
      {
        "duration": 0,
        "start_time": "2023-05-12T18:12:36.705Z"
      },
      {
        "duration": 0,
        "start_time": "2023-05-12T18:12:36.707Z"
      },
      {
        "duration": 0,
        "start_time": "2023-05-12T18:12:36.707Z"
      },
      {
        "duration": 9,
        "start_time": "2023-05-12T18:12:36.883Z"
      },
      {
        "duration": 2998,
        "start_time": "2023-05-12T18:13:03.387Z"
      },
      {
        "duration": 0,
        "start_time": "2023-05-12T18:13:06.387Z"
      },
      {
        "duration": 0,
        "start_time": "2023-05-12T18:13:06.388Z"
      },
      {
        "duration": 0,
        "start_time": "2023-05-12T18:13:06.390Z"
      },
      {
        "duration": 0,
        "start_time": "2023-05-12T18:13:06.391Z"
      },
      {
        "duration": 0,
        "start_time": "2023-05-12T18:13:06.392Z"
      },
      {
        "duration": 0,
        "start_time": "2023-05-12T18:13:06.394Z"
      },
      {
        "duration": 0,
        "start_time": "2023-05-12T18:13:06.395Z"
      },
      {
        "duration": 0,
        "start_time": "2023-05-12T18:13:06.396Z"
      },
      {
        "duration": 0,
        "start_time": "2023-05-12T18:13:06.397Z"
      },
      {
        "duration": 1821,
        "start_time": "2023-05-12T18:13:28.914Z"
      },
      {
        "duration": 6,
        "start_time": "2023-05-12T18:13:30.923Z"
      },
      {
        "duration": 8,
        "start_time": "2023-05-12T18:13:31.708Z"
      },
      {
        "duration": 4,
        "start_time": "2023-05-12T18:13:32.363Z"
      },
      {
        "duration": 5,
        "start_time": "2023-05-12T18:13:32.917Z"
      },
      {
        "duration": 2823,
        "start_time": "2023-05-12T18:13:33.690Z"
      },
      {
        "duration": 2080,
        "start_time": "2023-05-12T18:13:36.515Z"
      },
      {
        "duration": 10140,
        "start_time": "2023-05-12T18:13:38.596Z"
      },
      {
        "duration": 2,
        "start_time": "2023-05-12T18:13:48.738Z"
      },
      {
        "duration": 17,
        "start_time": "2023-05-12T18:13:48.741Z"
      },
      {
        "duration": 4672,
        "start_time": "2023-05-12T18:14:56.660Z"
      },
      {
        "duration": 1280,
        "start_time": "2023-05-12T18:15:10.097Z"
      },
      {
        "duration": 405,
        "start_time": "2023-05-12T18:16:37.962Z"
      },
      {
        "duration": 168,
        "start_time": "2023-05-12T18:35:58.841Z"
      },
      {
        "duration": 1063,
        "start_time": "2023-05-12T18:36:23.827Z"
      },
      {
        "duration": 133,
        "start_time": "2023-05-12T18:37:26.838Z"
      },
      {
        "duration": 1064,
        "start_time": "2023-05-12T18:37:29.872Z"
      },
      {
        "duration": 307,
        "start_time": "2023-05-12T18:39:57.871Z"
      },
      {
        "duration": 275,
        "start_time": "2023-05-12T18:40:11.372Z"
      },
      {
        "duration": 54,
        "start_time": "2023-05-12T18:41:55.711Z"
      },
      {
        "duration": 84,
        "start_time": "2023-05-12T18:45:46.516Z"
      },
      {
        "duration": 4811,
        "start_time": "2023-05-12T18:46:13.000Z"
      },
      {
        "duration": 7,
        "start_time": "2023-05-12T18:46:17.813Z"
      },
      {
        "duration": 17,
        "start_time": "2023-05-12T18:46:17.821Z"
      },
      {
        "duration": 6,
        "start_time": "2023-05-12T18:46:17.840Z"
      },
      {
        "duration": 13,
        "start_time": "2023-05-12T18:46:17.848Z"
      },
      {
        "duration": 2799,
        "start_time": "2023-05-12T18:46:17.862Z"
      },
      {
        "duration": 2063,
        "start_time": "2023-05-12T18:46:20.662Z"
      },
      {
        "duration": 9325,
        "start_time": "2023-05-12T18:46:22.726Z"
      },
      {
        "duration": 2,
        "start_time": "2023-05-12T18:46:32.053Z"
      },
      {
        "duration": 1230,
        "start_time": "2023-05-12T18:46:32.057Z"
      },
      {
        "duration": 341,
        "start_time": "2023-05-12T18:46:33.289Z"
      },
      {
        "duration": 158,
        "start_time": "2023-05-12T18:46:33.631Z"
      },
      {
        "duration": 1097,
        "start_time": "2023-05-12T18:46:33.791Z"
      },
      {
        "duration": 360,
        "start_time": "2023-05-12T18:46:34.892Z"
      },
      {
        "duration": 295,
        "start_time": "2023-05-12T18:46:35.253Z"
      },
      {
        "duration": 54,
        "start_time": "2023-05-12T18:46:35.549Z"
      },
      {
        "duration": 4766,
        "start_time": "2023-05-12T18:49:11.616Z"
      },
      {
        "duration": 7,
        "start_time": "2023-05-12T18:49:17.043Z"
      },
      {
        "duration": 6,
        "start_time": "2023-05-12T18:49:17.173Z"
      },
      {
        "duration": 5,
        "start_time": "2023-05-12T18:49:17.335Z"
      },
      {
        "duration": 4,
        "start_time": "2023-05-12T18:49:17.477Z"
      },
      {
        "duration": 2750,
        "start_time": "2023-05-12T18:49:17.765Z"
      },
      {
        "duration": 2069,
        "start_time": "2023-05-12T18:49:20.516Z"
      },
      {
        "duration": 9289,
        "start_time": "2023-05-12T18:49:22.586Z"
      },
      {
        "duration": 2,
        "start_time": "2023-05-12T18:49:31.877Z"
      },
      {
        "duration": 1200,
        "start_time": "2023-05-12T18:49:31.881Z"
      },
      {
        "duration": 397,
        "start_time": "2023-05-12T18:49:33.085Z"
      },
      {
        "duration": 160,
        "start_time": "2023-05-12T18:49:33.484Z"
      },
      {
        "duration": 1151,
        "start_time": "2023-05-12T18:49:33.646Z"
      },
      {
        "duration": 319,
        "start_time": "2023-05-12T18:49:34.799Z"
      },
      {
        "duration": 267,
        "start_time": "2023-05-12T18:49:35.120Z"
      },
      {
        "duration": 47,
        "start_time": "2023-05-12T18:49:35.389Z"
      },
      {
        "duration": 5315,
        "start_time": "2023-05-12T18:52:15.831Z"
      },
      {
        "duration": 8,
        "start_time": "2023-05-12T18:52:21.148Z"
      },
      {
        "duration": 53,
        "start_time": "2023-05-12T18:52:21.157Z"
      },
      {
        "duration": 24,
        "start_time": "2023-05-12T18:52:21.213Z"
      },
      {
        "duration": 20,
        "start_time": "2023-05-12T18:52:21.239Z"
      },
      {
        "duration": 2855,
        "start_time": "2023-05-12T18:52:21.260Z"
      },
      {
        "duration": 2242,
        "start_time": "2023-05-12T18:52:24.117Z"
      },
      {
        "duration": 9347,
        "start_time": "2023-05-12T18:52:26.360Z"
      },
      {
        "duration": 2,
        "start_time": "2023-05-12T18:52:35.709Z"
      },
      {
        "duration": 1366,
        "start_time": "2023-05-12T18:52:35.714Z"
      },
      {
        "duration": 320,
        "start_time": "2023-05-12T18:52:37.082Z"
      },
      {
        "duration": 133,
        "start_time": "2023-05-12T18:52:37.403Z"
      },
      {
        "duration": 1150,
        "start_time": "2023-05-12T18:52:37.538Z"
      },
      {
        "duration": 318,
        "start_time": "2023-05-12T18:52:38.690Z"
      },
      {
        "duration": 264,
        "start_time": "2023-05-12T18:52:39.010Z"
      },
      {
        "duration": 54,
        "start_time": "2023-05-12T18:52:39.276Z"
      },
      {
        "duration": 2859,
        "start_time": "2023-05-12T18:55:48.124Z"
      },
      {
        "duration": 104,
        "start_time": "2023-05-12T19:00:12.876Z"
      },
      {
        "duration": 1896,
        "start_time": "2023-05-12T19:00:28.175Z"
      },
      {
        "duration": 8,
        "start_time": "2023-05-12T19:00:30.073Z"
      },
      {
        "duration": 55,
        "start_time": "2023-05-12T19:00:30.082Z"
      },
      {
        "duration": 24,
        "start_time": "2023-05-12T19:00:30.139Z"
      },
      {
        "duration": 38,
        "start_time": "2023-05-12T19:00:30.164Z"
      },
      {
        "duration": 2885,
        "start_time": "2023-05-12T19:00:30.203Z"
      },
      {
        "duration": 2294,
        "start_time": "2023-05-12T19:00:33.090Z"
      },
      {
        "duration": 9345,
        "start_time": "2023-05-12T19:00:35.386Z"
      },
      {
        "duration": 2,
        "start_time": "2023-05-12T19:00:44.733Z"
      },
      {
        "duration": 1195,
        "start_time": "2023-05-12T19:00:44.737Z"
      },
      {
        "duration": 393,
        "start_time": "2023-05-12T19:00:45.933Z"
      },
      {
        "duration": 182,
        "start_time": "2023-05-12T19:00:46.328Z"
      },
      {
        "duration": 1191,
        "start_time": "2023-05-12T19:00:46.512Z"
      },
      {
        "duration": 338,
        "start_time": "2023-05-12T19:00:47.705Z"
      },
      {
        "duration": 279,
        "start_time": "2023-05-12T19:00:48.044Z"
      },
      {
        "duration": 11,
        "start_time": "2023-05-12T19:00:48.325Z"
      },
      {
        "duration": 2815,
        "start_time": "2023-05-12T19:02:10.848Z"
      },
      {
        "duration": 7,
        "start_time": "2023-05-12T19:02:13.665Z"
      },
      {
        "duration": 9,
        "start_time": "2023-05-12T19:02:13.673Z"
      },
      {
        "duration": 11,
        "start_time": "2023-05-12T19:02:13.684Z"
      },
      {
        "duration": 8,
        "start_time": "2023-05-12T19:02:13.697Z"
      },
      {
        "duration": 709,
        "start_time": "2023-05-12T19:02:13.706Z"
      },
      {
        "duration": 2346,
        "start_time": "2023-05-12T19:02:14.416Z"
      },
      {
        "duration": 9463,
        "start_time": "2023-05-12T19:02:16.764Z"
      },
      {
        "duration": 2,
        "start_time": "2023-05-12T19:02:26.229Z"
      },
      {
        "duration": 1192,
        "start_time": "2023-05-12T19:02:26.233Z"
      },
      {
        "duration": 361,
        "start_time": "2023-05-12T19:02:27.426Z"
      },
      {
        "duration": 134,
        "start_time": "2023-05-12T19:02:27.788Z"
      },
      {
        "duration": 1033,
        "start_time": "2023-05-12T19:02:27.923Z"
      },
      {
        "duration": 325,
        "start_time": "2023-05-12T19:02:28.958Z"
      },
      {
        "duration": 280,
        "start_time": "2023-05-12T19:02:29.285Z"
      },
      {
        "duration": 100,
        "start_time": "2023-05-12T19:02:29.566Z"
      },
      {
        "duration": 4,
        "start_time": "2023-05-12T19:03:26.959Z"
      },
      {
        "duration": 7,
        "start_time": "2023-05-12T19:03:53.278Z"
      },
      {
        "duration": 7,
        "start_time": "2023-05-12T19:04:32.437Z"
      },
      {
        "duration": 7,
        "start_time": "2023-05-12T19:05:01.802Z"
      },
      {
        "duration": 2871,
        "start_time": "2023-05-12T19:05:17.013Z"
      },
      {
        "duration": 9,
        "start_time": "2023-05-12T19:05:19.886Z"
      },
      {
        "duration": 14,
        "start_time": "2023-05-12T19:05:19.896Z"
      },
      {
        "duration": 28,
        "start_time": "2023-05-12T19:05:19.912Z"
      },
      {
        "duration": 13,
        "start_time": "2023-05-12T19:05:19.942Z"
      },
      {
        "duration": 869,
        "start_time": "2023-05-12T19:05:19.956Z"
      },
      {
        "duration": 2380,
        "start_time": "2023-05-12T19:05:20.826Z"
      },
      {
        "duration": 9627,
        "start_time": "2023-05-12T19:05:23.208Z"
      },
      {
        "duration": 2,
        "start_time": "2023-05-12T19:05:32.837Z"
      },
      {
        "duration": 1236,
        "start_time": "2023-05-12T19:05:32.841Z"
      },
      {
        "duration": 349,
        "start_time": "2023-05-12T19:05:34.084Z"
      },
      {
        "duration": 135,
        "start_time": "2023-05-12T19:05:34.435Z"
      },
      {
        "duration": 1083,
        "start_time": "2023-05-12T19:05:34.571Z"
      },
      {
        "duration": 379,
        "start_time": "2023-05-12T19:05:35.656Z"
      },
      {
        "duration": 333,
        "start_time": "2023-05-12T19:05:36.036Z"
      },
      {
        "duration": 24,
        "start_time": "2023-05-12T19:05:36.371Z"
      },
      {
        "duration": 104,
        "start_time": "2023-05-12T19:05:36.397Z"
      },
      {
        "duration": 0,
        "start_time": "2023-05-12T19:05:36.502Z"
      },
      {
        "duration": 8,
        "start_time": "2023-05-12T19:05:57.414Z"
      },
      {
        "duration": 8,
        "start_time": "2023-05-12T19:06:51.338Z"
      },
      {
        "duration": 8,
        "start_time": "2023-05-12T19:07:14.327Z"
      },
      {
        "duration": 2823,
        "start_time": "2023-05-12T19:07:27.837Z"
      },
      {
        "duration": 6,
        "start_time": "2023-05-12T19:07:30.662Z"
      },
      {
        "duration": 30,
        "start_time": "2023-05-12T19:07:30.669Z"
      },
      {
        "duration": 30,
        "start_time": "2023-05-12T19:07:30.701Z"
      },
      {
        "duration": 44,
        "start_time": "2023-05-12T19:07:30.733Z"
      },
      {
        "duration": 745,
        "start_time": "2023-05-12T19:07:30.778Z"
      },
      {
        "duration": 2162,
        "start_time": "2023-05-12T19:07:31.524Z"
      },
      {
        "duration": 9768,
        "start_time": "2023-05-12T19:07:33.687Z"
      },
      {
        "duration": 2,
        "start_time": "2023-05-12T19:07:43.457Z"
      },
      {
        "duration": 1291,
        "start_time": "2023-05-12T19:07:43.461Z"
      },
      {
        "duration": 409,
        "start_time": "2023-05-12T19:07:44.754Z"
      },
      {
        "duration": 153,
        "start_time": "2023-05-12T19:07:45.164Z"
      },
      {
        "duration": 1166,
        "start_time": "2023-05-12T19:07:45.319Z"
      },
      {
        "duration": 381,
        "start_time": "2023-05-12T19:07:46.486Z"
      },
      {
        "duration": 343,
        "start_time": "2023-05-12T19:07:46.869Z"
      },
      {
        "duration": 3,
        "start_time": "2023-05-12T19:07:47.213Z"
      },
      {
        "duration": 18,
        "start_time": "2023-05-12T19:07:47.217Z"
      },
      {
        "duration": 79,
        "start_time": "2023-05-12T19:07:47.236Z"
      },
      {
        "duration": 93,
        "start_time": "2023-05-12T19:21:23.921Z"
      },
      {
        "duration": 4,
        "start_time": "2023-05-12T19:21:50.612Z"
      },
      {
        "duration": 14,
        "start_time": "2023-05-12T19:24:57.841Z"
      },
      {
        "duration": 2920,
        "start_time": "2023-05-12T19:25:24.190Z"
      },
      {
        "duration": 6,
        "start_time": "2023-05-12T19:25:27.113Z"
      },
      {
        "duration": 7,
        "start_time": "2023-05-12T19:25:27.120Z"
      },
      {
        "duration": 8,
        "start_time": "2023-05-12T19:25:27.128Z"
      },
      {
        "duration": 6,
        "start_time": "2023-05-12T19:25:27.137Z"
      },
      {
        "duration": 689,
        "start_time": "2023-05-12T19:25:27.144Z"
      },
      {
        "duration": 1978,
        "start_time": "2023-05-12T19:25:27.835Z"
      },
      {
        "duration": 9405,
        "start_time": "2023-05-12T19:25:29.814Z"
      },
      {
        "duration": 1284,
        "start_time": "2023-05-12T19:25:39.221Z"
      },
      {
        "duration": 383,
        "start_time": "2023-05-12T19:25:40.508Z"
      },
      {
        "duration": 150,
        "start_time": "2023-05-12T19:25:40.892Z"
      },
      {
        "duration": 43,
        "start_time": "2023-05-12T19:25:41.044Z"
      },
      {
        "duration": 989,
        "start_time": "2023-05-12T19:25:41.089Z"
      },
      {
        "duration": 155,
        "start_time": "2023-05-12T19:25:42.084Z"
      },
      {
        "duration": 131,
        "start_time": "2023-05-12T19:25:42.240Z"
      },
      {
        "duration": 3,
        "start_time": "2023-05-12T19:25:42.372Z"
      },
      {
        "duration": 23,
        "start_time": "2023-05-12T19:25:42.384Z"
      },
      {
        "duration": 73,
        "start_time": "2023-05-12T19:25:42.409Z"
      },
      {
        "duration": 32,
        "start_time": "2023-05-12T19:25:42.483Z"
      },
      {
        "duration": 4510,
        "start_time": "2023-05-13T17:07:22.519Z"
      },
      {
        "duration": 8,
        "start_time": "2023-05-13T17:07:27.032Z"
      },
      {
        "duration": 19,
        "start_time": "2023-05-13T17:07:27.042Z"
      },
      {
        "duration": 20,
        "start_time": "2023-05-13T17:07:27.063Z"
      },
      {
        "duration": 23,
        "start_time": "2023-05-13T17:07:27.085Z"
      },
      {
        "duration": 3103,
        "start_time": "2023-05-13T17:07:27.110Z"
      },
      {
        "duration": 3065,
        "start_time": "2023-05-13T17:07:30.215Z"
      },
      {
        "duration": 11722,
        "start_time": "2023-05-13T17:07:33.282Z"
      },
      {
        "duration": 1369,
        "start_time": "2023-05-13T17:07:45.006Z"
      },
      {
        "duration": 478,
        "start_time": "2023-05-13T17:07:46.378Z"
      },
      {
        "duration": 171,
        "start_time": "2023-05-13T17:07:46.858Z"
      },
      {
        "duration": 44,
        "start_time": "2023-05-13T17:07:47.031Z"
      },
      {
        "duration": 1145,
        "start_time": "2023-05-13T17:07:47.077Z"
      },
      {
        "duration": 156,
        "start_time": "2023-05-13T17:07:48.224Z"
      },
      {
        "duration": 132,
        "start_time": "2023-05-13T17:07:48.381Z"
      },
      {
        "duration": 3,
        "start_time": "2023-05-13T17:07:48.515Z"
      },
      {
        "duration": 19,
        "start_time": "2023-05-13T17:07:48.519Z"
      },
      {
        "duration": 73,
        "start_time": "2023-05-13T17:07:48.539Z"
      },
      {
        "duration": 2352,
        "start_time": "2023-05-13T17:35:16.384Z"
      },
      {
        "duration": 9,
        "start_time": "2023-05-13T17:35:18.739Z"
      },
      {
        "duration": 39,
        "start_time": "2023-05-13T17:35:18.749Z"
      },
      {
        "duration": 32,
        "start_time": "2023-05-13T17:35:18.791Z"
      },
      {
        "duration": 32,
        "start_time": "2023-05-13T17:35:18.825Z"
      },
      {
        "duration": 888,
        "start_time": "2023-05-13T17:35:18.858Z"
      },
      {
        "duration": 3197,
        "start_time": "2023-05-13T17:35:19.748Z"
      },
      {
        "duration": 11412,
        "start_time": "2023-05-13T17:35:22.948Z"
      },
      {
        "duration": 1437,
        "start_time": "2023-05-13T17:35:34.362Z"
      },
      {
        "duration": 486,
        "start_time": "2023-05-13T17:35:35.803Z"
      },
      {
        "duration": 198,
        "start_time": "2023-05-13T17:35:36.290Z"
      },
      {
        "duration": 40,
        "start_time": "2023-05-13T17:35:36.490Z"
      },
      {
        "duration": 1198,
        "start_time": "2023-05-13T17:35:36.532Z"
      },
      {
        "duration": 171,
        "start_time": "2023-05-13T17:35:37.732Z"
      },
      {
        "duration": 150,
        "start_time": "2023-05-13T17:35:37.905Z"
      },
      {
        "duration": 3,
        "start_time": "2023-05-13T17:35:38.057Z"
      },
      {
        "duration": 40,
        "start_time": "2023-05-13T17:35:38.062Z"
      },
      {
        "duration": 89,
        "start_time": "2023-05-13T17:35:38.104Z"
      },
      {
        "duration": 8,
        "start_time": "2023-05-13T17:51:51.841Z"
      },
      {
        "duration": 6,
        "start_time": "2023-05-13T17:53:38.275Z"
      },
      {
        "duration": 110,
        "start_time": "2023-05-13T17:55:25.882Z"
      },
      {
        "duration": 6,
        "start_time": "2023-05-13T17:56:31.804Z"
      },
      {
        "duration": 6,
        "start_time": "2023-05-13T17:57:16.167Z"
      },
      {
        "duration": 9,
        "start_time": "2023-05-13T18:08:00.826Z"
      },
      {
        "duration": 8,
        "start_time": "2023-05-13T18:08:12.320Z"
      },
      {
        "duration": 807,
        "start_time": "2023-05-13T18:10:45.173Z"
      },
      {
        "duration": 731,
        "start_time": "2023-05-13T18:11:24.976Z"
      },
      {
        "duration": 3461,
        "start_time": "2023-05-13T18:11:50.510Z"
      },
      {
        "duration": 9,
        "start_time": "2023-05-13T18:11:53.974Z"
      },
      {
        "duration": 53,
        "start_time": "2023-05-13T18:11:53.985Z"
      },
      {
        "duration": 39,
        "start_time": "2023-05-13T18:11:54.041Z"
      },
      {
        "duration": 43,
        "start_time": "2023-05-13T18:11:54.082Z"
      },
      {
        "duration": 858,
        "start_time": "2023-05-13T18:11:54.127Z"
      },
      {
        "duration": 2954,
        "start_time": "2023-05-13T18:11:54.988Z"
      },
      {
        "duration": 10981,
        "start_time": "2023-05-13T18:11:57.947Z"
      },
      {
        "duration": 1443,
        "start_time": "2023-05-13T18:12:08.930Z"
      },
      {
        "duration": 7,
        "start_time": "2023-05-13T18:12:10.375Z"
      },
      {
        "duration": 32,
        "start_time": "2023-05-13T18:12:10.383Z"
      },
      {
        "duration": 486,
        "start_time": "2023-05-13T18:12:10.417Z"
      },
      {
        "duration": 181,
        "start_time": "2023-05-13T18:12:10.905Z"
      },
      {
        "duration": 36,
        "start_time": "2023-05-13T18:12:11.087Z"
      },
      {
        "duration": 1110,
        "start_time": "2023-05-13T18:12:11.124Z"
      },
      {
        "duration": 165,
        "start_time": "2023-05-13T18:12:12.246Z"
      },
      {
        "duration": 191,
        "start_time": "2023-05-13T18:12:12.413Z"
      },
      {
        "duration": 4,
        "start_time": "2023-05-13T18:12:12.606Z"
      },
      {
        "duration": 37,
        "start_time": "2023-05-13T18:12:12.612Z"
      },
      {
        "duration": 109,
        "start_time": "2023-05-13T18:12:12.651Z"
      },
      {
        "duration": 6,
        "start_time": "2023-05-13T18:12:12.761Z"
      },
      {
        "duration": 1134,
        "start_time": "2023-05-13T18:16:24.779Z"
      },
      {
        "duration": 872,
        "start_time": "2023-05-13T18:16:36.477Z"
      },
      {
        "duration": 3425,
        "start_time": "2023-05-13T18:16:53.099Z"
      },
      {
        "duration": 8,
        "start_time": "2023-05-13T18:16:56.526Z"
      },
      {
        "duration": 16,
        "start_time": "2023-05-13T18:16:56.536Z"
      },
      {
        "duration": 15,
        "start_time": "2023-05-13T18:16:56.555Z"
      },
      {
        "duration": 15,
        "start_time": "2023-05-13T18:16:56.571Z"
      },
      {
        "duration": 894,
        "start_time": "2023-05-13T18:16:56.588Z"
      },
      {
        "duration": 3027,
        "start_time": "2023-05-13T18:16:57.484Z"
      },
      {
        "duration": 11611,
        "start_time": "2023-05-13T18:17:00.513Z"
      },
      {
        "duration": 1639,
        "start_time": "2023-05-13T18:17:12.126Z"
      },
      {
        "duration": 138,
        "start_time": "2023-05-13T18:17:13.769Z"
      },
      {
        "duration": 0,
        "start_time": "2023-05-13T18:17:13.909Z"
      },
      {
        "duration": 0,
        "start_time": "2023-05-13T18:17:13.911Z"
      },
      {
        "duration": 0,
        "start_time": "2023-05-13T18:17:13.912Z"
      },
      {
        "duration": 0,
        "start_time": "2023-05-13T18:17:13.914Z"
      },
      {
        "duration": 0,
        "start_time": "2023-05-13T18:17:13.915Z"
      },
      {
        "duration": 0,
        "start_time": "2023-05-13T18:17:13.917Z"
      },
      {
        "duration": 0,
        "start_time": "2023-05-13T18:17:13.918Z"
      },
      {
        "duration": 0,
        "start_time": "2023-05-13T18:17:13.920Z"
      },
      {
        "duration": 0,
        "start_time": "2023-05-13T18:17:13.921Z"
      },
      {
        "duration": 0,
        "start_time": "2023-05-13T18:17:13.946Z"
      },
      {
        "duration": 0,
        "start_time": "2023-05-13T18:17:13.948Z"
      },
      {
        "duration": 35,
        "start_time": "2023-05-13T18:17:51.498Z"
      },
      {
        "duration": 40,
        "start_time": "2023-05-13T18:24:48.280Z"
      },
      {
        "duration": 24,
        "start_time": "2023-05-13T18:24:59.482Z"
      },
      {
        "duration": 23,
        "start_time": "2023-05-13T18:25:57.540Z"
      },
      {
        "duration": 374,
        "start_time": "2023-05-13T18:27:10.951Z"
      },
      {
        "duration": 405,
        "start_time": "2023-05-13T18:27:42.202Z"
      },
      {
        "duration": 32,
        "start_time": "2023-05-13T18:30:17.872Z"
      },
      {
        "duration": 4551,
        "start_time": "2023-05-14T18:09:07.415Z"
      },
      {
        "duration": 8,
        "start_time": "2023-05-14T18:09:11.969Z"
      },
      {
        "duration": 13,
        "start_time": "2023-05-14T18:09:11.979Z"
      },
      {
        "duration": 22,
        "start_time": "2023-05-14T18:09:11.995Z"
      },
      {
        "duration": 7,
        "start_time": "2023-05-14T18:09:12.018Z"
      },
      {
        "duration": 1242,
        "start_time": "2023-05-14T18:09:12.027Z"
      },
      {
        "duration": 3007,
        "start_time": "2023-05-14T18:09:13.270Z"
      },
      {
        "duration": 11357,
        "start_time": "2023-05-14T18:09:16.287Z"
      },
      {
        "duration": 1456,
        "start_time": "2023-05-14T18:09:27.647Z"
      },
      {
        "duration": 36,
        "start_time": "2023-05-14T18:09:29.105Z"
      },
      {
        "duration": 46,
        "start_time": "2023-05-14T18:09:29.144Z"
      },
      {
        "duration": 3,
        "start_time": "2023-05-14T18:09:29.192Z"
      },
      {
        "duration": 304,
        "start_time": "2023-05-14T18:09:29.197Z"
      },
      {
        "duration": 536,
        "start_time": "2023-05-14T18:09:29.503Z"
      },
      {
        "duration": 168,
        "start_time": "2023-05-14T18:09:30.041Z"
      },
      {
        "duration": 44,
        "start_time": "2023-05-14T18:09:30.212Z"
      },
      {
        "duration": 1232,
        "start_time": "2023-05-14T18:09:30.262Z"
      },
      {
        "duration": 169,
        "start_time": "2023-05-14T18:09:31.496Z"
      },
      {
        "duration": 157,
        "start_time": "2023-05-14T18:09:31.667Z"
      },
      {
        "duration": 4,
        "start_time": "2023-05-14T18:09:31.826Z"
      },
      {
        "duration": 64,
        "start_time": "2023-05-14T18:09:31.832Z"
      },
      {
        "duration": 76,
        "start_time": "2023-05-14T18:09:31.898Z"
      },
      {
        "duration": 7,
        "start_time": "2023-05-14T18:09:31.976Z"
      },
      {
        "duration": 4,
        "start_time": "2023-05-14T18:31:42.848Z"
      },
      {
        "duration": 2344,
        "start_time": "2023-05-14T18:31:49.148Z"
      },
      {
        "duration": 9,
        "start_time": "2023-05-14T18:31:51.496Z"
      },
      {
        "duration": 30,
        "start_time": "2023-05-14T18:31:51.508Z"
      },
      {
        "duration": 30,
        "start_time": "2023-05-14T18:31:51.541Z"
      },
      {
        "duration": 47,
        "start_time": "2023-05-14T18:31:51.574Z"
      },
      {
        "duration": 37,
        "start_time": "2023-05-14T18:31:51.624Z"
      },
      {
        "duration": 902,
        "start_time": "2023-05-14T18:31:51.663Z"
      },
      {
        "duration": 6790,
        "start_time": "2023-05-14T18:31:52.567Z"
      },
      {
        "duration": 11559,
        "start_time": "2023-05-14T18:31:59.360Z"
      },
      {
        "duration": 1474,
        "start_time": "2023-05-14T18:32:10.922Z"
      },
      {
        "duration": 1959,
        "start_time": "2023-05-14T18:32:12.397Z"
      },
      {
        "duration": 74,
        "start_time": "2023-05-14T18:32:14.358Z"
      },
      {
        "duration": 3,
        "start_time": "2023-05-14T18:32:14.488Z"
      },
      {
        "duration": 4891,
        "start_time": "2023-05-15T18:24:03.681Z"
      },
      {
        "duration": 8,
        "start_time": "2023-05-15T18:24:08.574Z"
      },
      {
        "duration": 14,
        "start_time": "2023-05-15T18:24:08.585Z"
      },
      {
        "duration": 11,
        "start_time": "2023-05-15T18:24:08.606Z"
      },
      {
        "duration": 7,
        "start_time": "2023-05-15T18:24:08.620Z"
      },
      {
        "duration": 7,
        "start_time": "2023-05-15T18:24:08.629Z"
      },
      {
        "duration": 3815,
        "start_time": "2023-05-15T18:24:08.637Z"
      },
      {
        "duration": 7346,
        "start_time": "2023-05-15T18:24:12.455Z"
      },
      {
        "duration": 13195,
        "start_time": "2023-05-15T18:24:24.080Z"
      },
      {
        "duration": 1626,
        "start_time": "2023-05-15T18:25:18.015Z"
      },
      {
        "duration": 2436,
        "start_time": "2023-05-15T18:25:19.643Z"
      },
      {
        "duration": 136,
        "start_time": "2023-05-15T18:25:22.095Z"
      },
      {
        "duration": 55,
        "start_time": "2023-05-15T18:25:22.234Z"
      },
      {
        "duration": 4406,
        "start_time": "2023-05-15T18:25:22.292Z"
      },
      {
        "duration": 3958,
        "start_time": "2023-05-15T18:42:01.705Z"
      },
      {
        "duration": 8,
        "start_time": "2023-05-15T18:42:05.666Z"
      },
      {
        "duration": 32,
        "start_time": "2023-05-15T18:42:05.676Z"
      },
      {
        "duration": 15,
        "start_time": "2023-05-15T18:42:05.711Z"
      },
      {
        "duration": 13,
        "start_time": "2023-05-15T18:42:05.728Z"
      },
      {
        "duration": 8,
        "start_time": "2023-05-15T18:42:05.743Z"
      },
      {
        "duration": 1168,
        "start_time": "2023-05-15T18:42:05.753Z"
      },
      {
        "duration": 3277,
        "start_time": "2023-05-15T18:42:06.923Z"
      },
      {
        "duration": 13071,
        "start_time": "2023-05-15T18:42:10.202Z"
      },
      {
        "duration": 1488,
        "start_time": "2023-05-15T18:42:23.276Z"
      },
      {
        "duration": 54,
        "start_time": "2023-05-15T18:42:24.766Z"
      },
      {
        "duration": 34,
        "start_time": "2023-05-15T18:42:24.825Z"
      },
      {
        "duration": 3,
        "start_time": "2023-05-15T18:42:24.861Z"
      },
      {
        "duration": 420,
        "start_time": "2023-05-15T18:42:24.866Z"
      },
      {
        "duration": 563,
        "start_time": "2023-05-15T18:42:25.288Z"
      },
      {
        "duration": 192,
        "start_time": "2023-05-15T18:42:25.853Z"
      },
      {
        "duration": 52,
        "start_time": "2023-05-15T18:42:26.047Z"
      },
      {
        "duration": 1227,
        "start_time": "2023-05-15T18:42:26.103Z"
      },
      {
        "duration": 205,
        "start_time": "2023-05-15T18:42:27.333Z"
      },
      {
        "duration": 153,
        "start_time": "2023-05-15T18:42:27.539Z"
      },
      {
        "duration": 8,
        "start_time": "2023-05-15T18:42:27.701Z"
      },
      {
        "duration": 20,
        "start_time": "2023-05-15T18:42:27.710Z"
      },
      {
        "duration": 78,
        "start_time": "2023-05-15T18:42:27.732Z"
      },
      {
        "duration": 8,
        "start_time": "2023-05-15T18:42:27.817Z"
      },
      {
        "duration": 4171,
        "start_time": "2023-05-15T19:05:02.685Z"
      },
      {
        "duration": 9,
        "start_time": "2023-05-15T19:05:06.858Z"
      },
      {
        "duration": 14,
        "start_time": "2023-05-15T19:05:06.869Z"
      },
      {
        "duration": 21,
        "start_time": "2023-05-15T19:05:06.885Z"
      },
      {
        "duration": 10,
        "start_time": "2023-05-15T19:05:06.908Z"
      },
      {
        "duration": 12,
        "start_time": "2023-05-15T19:05:06.920Z"
      },
      {
        "duration": 3181,
        "start_time": "2023-05-15T19:05:06.934Z"
      },
      {
        "duration": 3198,
        "start_time": "2023-05-15T19:05:10.117Z"
      },
      {
        "duration": 11612,
        "start_time": "2023-05-15T19:05:13.316Z"
      },
      {
        "duration": 1531,
        "start_time": "2023-05-15T19:05:24.932Z"
      },
      {
        "duration": 43,
        "start_time": "2023-05-15T19:05:26.465Z"
      },
      {
        "duration": 31,
        "start_time": "2023-05-15T19:05:26.510Z"
      },
      {
        "duration": 3,
        "start_time": "2023-05-15T19:05:26.543Z"
      },
      {
        "duration": 337,
        "start_time": "2023-05-15T19:05:26.547Z"
      },
      {
        "duration": 577,
        "start_time": "2023-05-15T19:05:26.888Z"
      },
      {
        "duration": 168,
        "start_time": "2023-05-15T19:05:27.467Z"
      },
      {
        "duration": 37,
        "start_time": "2023-05-15T19:05:27.637Z"
      },
      {
        "duration": 1217,
        "start_time": "2023-05-15T19:05:27.677Z"
      },
      {
        "duration": 173,
        "start_time": "2023-05-15T19:05:28.897Z"
      },
      {
        "duration": 162,
        "start_time": "2023-05-15T19:05:29.072Z"
      },
      {
        "duration": 3,
        "start_time": "2023-05-15T19:05:29.236Z"
      },
      {
        "duration": 17,
        "start_time": "2023-05-15T19:05:29.240Z"
      },
      {
        "duration": 82,
        "start_time": "2023-05-15T19:05:29.259Z"
      },
      {
        "duration": 11,
        "start_time": "2023-05-15T19:05:29.343Z"
      },
      {
        "duration": 27,
        "start_time": "2023-05-15T19:05:29.356Z"
      },
      {
        "duration": 15,
        "start_time": "2023-05-15T19:05:29.385Z"
      },
      {
        "duration": 17,
        "start_time": "2023-05-15T19:09:08.341Z"
      },
      {
        "duration": 1277,
        "start_time": "2023-05-15T19:09:33.304Z"
      },
      {
        "duration": 1425,
        "start_time": "2023-05-15T19:09:47.377Z"
      },
      {
        "duration": 16,
        "start_time": "2023-05-15T19:11:22.624Z"
      },
      {
        "duration": 1649,
        "start_time": "2023-05-15T19:11:23.278Z"
      },
      {
        "duration": 1333,
        "start_time": "2023-05-15T19:14:22.715Z"
      },
      {
        "duration": 19,
        "start_time": "2023-05-15T19:15:06.580Z"
      },
      {
        "duration": 15,
        "start_time": "2023-05-15T19:16:17.506Z"
      },
      {
        "duration": 12,
        "start_time": "2023-05-15T19:16:34.624Z"
      },
      {
        "duration": 7,
        "start_time": "2023-05-15T19:17:02.500Z"
      },
      {
        "duration": 4,
        "start_time": "2023-05-15T19:19:19.795Z"
      },
      {
        "duration": 11,
        "start_time": "2023-05-15T19:19:20.078Z"
      },
      {
        "duration": 291,
        "start_time": "2023-05-15T19:19:20.299Z"
      },
      {
        "duration": 11,
        "start_time": "2023-05-15T19:19:49.756Z"
      },
      {
        "duration": 217,
        "start_time": "2023-05-15T19:19:50.020Z"
      },
      {
        "duration": 5,
        "start_time": "2023-05-15T19:19:50.239Z"
      },
      {
        "duration": 1506,
        "start_time": "2023-05-15T19:20:21.685Z"
      },
      {
        "duration": 2359,
        "start_time": "2023-05-15T19:20:34.003Z"
      },
      {
        "duration": 8,
        "start_time": "2023-05-15T19:20:36.365Z"
      },
      {
        "duration": 14,
        "start_time": "2023-05-15T19:20:36.375Z"
      },
      {
        "duration": 13,
        "start_time": "2023-05-15T19:20:36.392Z"
      },
      {
        "duration": 12,
        "start_time": "2023-05-15T19:20:36.407Z"
      },
      {
        "duration": 7,
        "start_time": "2023-05-15T19:20:36.421Z"
      },
      {
        "duration": 1013,
        "start_time": "2023-05-15T19:20:36.431Z"
      },
      {
        "duration": 3408,
        "start_time": "2023-05-15T19:20:37.446Z"
      },
      {
        "duration": 11635,
        "start_time": "2023-05-15T19:20:40.857Z"
      },
      {
        "duration": 1607,
        "start_time": "2023-05-15T19:20:52.495Z"
      },
      {
        "duration": 33,
        "start_time": "2023-05-15T19:20:54.103Z"
      },
      {
        "duration": 22,
        "start_time": "2023-05-15T19:20:54.137Z"
      },
      {
        "duration": 28,
        "start_time": "2023-05-15T19:20:54.161Z"
      },
      {
        "duration": 301,
        "start_time": "2023-05-15T19:20:54.192Z"
      },
      {
        "duration": 538,
        "start_time": "2023-05-15T19:20:54.495Z"
      },
      {
        "duration": 188,
        "start_time": "2023-05-15T19:20:55.035Z"
      },
      {
        "duration": 37,
        "start_time": "2023-05-15T19:20:55.225Z"
      },
      {
        "duration": 1130,
        "start_time": "2023-05-15T19:20:55.265Z"
      },
      {
        "duration": 188,
        "start_time": "2023-05-15T19:20:56.397Z"
      },
      {
        "duration": 154,
        "start_time": "2023-05-15T19:20:56.588Z"
      },
      {
        "duration": 4,
        "start_time": "2023-05-15T19:20:56.744Z"
      },
      {
        "duration": 15,
        "start_time": "2023-05-15T19:20:56.749Z"
      },
      {
        "duration": 81,
        "start_time": "2023-05-15T19:20:56.765Z"
      },
      {
        "duration": 6,
        "start_time": "2023-05-15T19:20:56.850Z"
      },
      {
        "duration": 11,
        "start_time": "2023-05-15T19:20:56.858Z"
      },
      {
        "duration": 17,
        "start_time": "2023-05-15T19:20:56.871Z"
      },
      {
        "duration": 3,
        "start_time": "2023-05-15T19:20:56.891Z"
      },
      {
        "duration": 19,
        "start_time": "2023-05-15T19:20:56.897Z"
      },
      {
        "duration": 1386,
        "start_time": "2023-05-15T19:20:56.918Z"
      },
      {
        "duration": 20,
        "start_time": "2023-05-15T19:20:58.306Z"
      },
      {
        "duration": 30,
        "start_time": "2023-05-15T19:22:32.911Z"
      },
      {
        "duration": 15,
        "start_time": "2023-05-15T19:22:33.287Z"
      },
      {
        "duration": 1278,
        "start_time": "2023-05-15T19:22:33.960Z"
      },
      {
        "duration": 14,
        "start_time": "2023-05-15T19:23:43.286Z"
      },
      {
        "duration": 16,
        "start_time": "2023-05-15T19:25:15.274Z"
      },
      {
        "duration": 3,
        "start_time": "2023-05-15T19:25:54.075Z"
      },
      {
        "duration": 3,
        "start_time": "2023-05-15T19:25:54.273Z"
      },
      {
        "duration": 3,
        "start_time": "2023-05-15T19:25:54.459Z"
      },
      {
        "duration": 21,
        "start_time": "2023-05-15T19:25:54.624Z"
      },
      {
        "duration": 13,
        "start_time": "2023-05-15T19:25:54.829Z"
      },
      {
        "duration": 7,
        "start_time": "2023-05-15T19:25:55.155Z"
      },
      {
        "duration": 11,
        "start_time": "2023-05-15T19:25:55.943Z"
      },
      {
        "duration": 214,
        "start_time": "2023-05-15T19:25:56.593Z"
      },
      {
        "duration": 4,
        "start_time": "2023-05-15T19:26:05.347Z"
      },
      {
        "duration": 9,
        "start_time": "2023-05-15T19:26:05.634Z"
      },
      {
        "duration": 23,
        "start_time": "2023-05-15T19:26:05.954Z"
      },
      {
        "duration": 11,
        "start_time": "2023-05-15T19:26:32.396Z"
      },
      {
        "duration": 3,
        "start_time": "2023-05-15T19:26:32.586Z"
      },
      {
        "duration": 9,
        "start_time": "2023-05-15T19:26:32.787Z"
      },
      {
        "duration": 16,
        "start_time": "2023-05-15T19:26:34.426Z"
      },
      {
        "duration": 2763,
        "start_time": "2023-05-15T19:40:39.610Z"
      },
      {
        "duration": 11,
        "start_time": "2023-05-15T19:40:42.376Z"
      },
      {
        "duration": 33,
        "start_time": "2023-05-15T19:40:42.388Z"
      },
      {
        "duration": 48,
        "start_time": "2023-05-15T19:40:42.424Z"
      },
      {
        "duration": 51,
        "start_time": "2023-05-15T19:40:42.475Z"
      },
      {
        "duration": 12,
        "start_time": "2023-05-15T19:40:42.528Z"
      },
      {
        "duration": 1083,
        "start_time": "2023-05-15T19:40:42.543Z"
      },
      {
        "duration": 3885,
        "start_time": "2023-05-15T19:40:43.628Z"
      },
      {
        "duration": 13352,
        "start_time": "2023-05-15T19:40:47.514Z"
      },
      {
        "duration": 1742,
        "start_time": "2023-05-15T19:41:00.871Z"
      },
      {
        "duration": 45,
        "start_time": "2023-05-15T19:41:02.622Z"
      },
      {
        "duration": 33,
        "start_time": "2023-05-15T19:41:02.674Z"
      },
      {
        "duration": 11,
        "start_time": "2023-05-15T19:41:02.714Z"
      },
      {
        "duration": 546,
        "start_time": "2023-05-15T19:41:02.727Z"
      },
      {
        "duration": 779,
        "start_time": "2023-05-15T19:41:03.275Z"
      },
      {
        "duration": 224,
        "start_time": "2023-05-15T19:41:04.056Z"
      },
      {
        "duration": 54,
        "start_time": "2023-05-15T19:41:04.288Z"
      },
      {
        "duration": 1391,
        "start_time": "2023-05-15T19:41:04.347Z"
      },
      {
        "duration": 280,
        "start_time": "2023-05-15T19:41:05.741Z"
      },
      {
        "duration": 196,
        "start_time": "2023-05-15T19:41:06.025Z"
      },
      {
        "duration": 4,
        "start_time": "2023-05-15T19:41:06.224Z"
      },
      {
        "duration": 23,
        "start_time": "2023-05-15T19:41:06.230Z"
      },
      {
        "duration": 153,
        "start_time": "2023-05-15T19:41:06.256Z"
      },
      {
        "duration": 11,
        "start_time": "2023-05-15T19:41:06.415Z"
      },
      {
        "duration": 3,
        "start_time": "2023-05-15T19:41:06.428Z"
      },
      {
        "duration": 8,
        "start_time": "2023-05-15T19:41:06.434Z"
      },
      {
        "duration": 6,
        "start_time": "2023-05-15T19:41:06.447Z"
      },
      {
        "duration": 44,
        "start_time": "2023-05-15T19:41:06.458Z"
      },
      {
        "duration": 24,
        "start_time": "2023-05-15T19:41:06.514Z"
      },
      {
        "duration": 36,
        "start_time": "2023-05-15T19:41:06.540Z"
      },
      {
        "duration": 28,
        "start_time": "2023-05-15T19:41:06.579Z"
      },
      {
        "duration": 1832,
        "start_time": "2023-05-15T19:41:06.609Z"
      },
      {
        "duration": 4,
        "start_time": "2023-05-15T19:43:22.149Z"
      },
      {
        "duration": 24,
        "start_time": "2023-05-15T19:43:48.114Z"
      },
      {
        "duration": 1302,
        "start_time": "2023-05-15T19:50:12.466Z"
      },
      {
        "duration": 5015,
        "start_time": "2023-05-16T16:52:37.312Z"
      },
      {
        "duration": 9,
        "start_time": "2023-05-16T16:52:42.330Z"
      },
      {
        "duration": 14,
        "start_time": "2023-05-16T16:52:42.340Z"
      },
      {
        "duration": 23,
        "start_time": "2023-05-16T16:52:42.356Z"
      },
      {
        "duration": 25,
        "start_time": "2023-05-16T16:52:42.381Z"
      },
      {
        "duration": 8,
        "start_time": "2023-05-16T16:52:42.408Z"
      },
      {
        "duration": 4141,
        "start_time": "2023-05-16T16:52:42.419Z"
      },
      {
        "duration": 3276,
        "start_time": "2023-05-16T16:52:46.563Z"
      },
      {
        "duration": 12923,
        "start_time": "2023-05-16T16:52:49.841Z"
      },
      {
        "duration": 1574,
        "start_time": "2023-05-16T16:53:02.769Z"
      },
      {
        "duration": 30,
        "start_time": "2023-05-16T16:53:04.345Z"
      },
      {
        "duration": 41,
        "start_time": "2023-05-16T16:53:04.377Z"
      },
      {
        "duration": 8,
        "start_time": "2023-05-16T16:53:04.427Z"
      },
      {
        "duration": 356,
        "start_time": "2023-05-16T16:53:04.437Z"
      },
      {
        "duration": 590,
        "start_time": "2023-05-16T16:53:04.794Z"
      },
      {
        "duration": 213,
        "start_time": "2023-05-16T16:53:05.386Z"
      },
      {
        "duration": 38,
        "start_time": "2023-05-16T16:53:05.606Z"
      },
      {
        "duration": 1161,
        "start_time": "2023-05-16T16:53:05.646Z"
      },
      {
        "duration": 183,
        "start_time": "2023-05-16T16:53:06.808Z"
      },
      {
        "duration": 159,
        "start_time": "2023-05-16T16:53:06.993Z"
      },
      {
        "duration": 3,
        "start_time": "2023-05-16T16:53:07.154Z"
      },
      {
        "duration": 21,
        "start_time": "2023-05-16T16:53:07.159Z"
      },
      {
        "duration": 92,
        "start_time": "2023-05-16T16:53:07.182Z"
      },
      {
        "duration": 5,
        "start_time": "2023-05-16T16:53:07.276Z"
      },
      {
        "duration": 83,
        "start_time": "2023-05-16T16:53:07.283Z"
      },
      {
        "duration": 41,
        "start_time": "2023-05-16T16:53:07.368Z"
      },
      {
        "duration": 34,
        "start_time": "2023-05-16T16:53:07.413Z"
      },
      {
        "duration": 42,
        "start_time": "2023-05-16T16:53:07.451Z"
      },
      {
        "duration": 23,
        "start_time": "2023-05-16T16:53:07.498Z"
      },
      {
        "duration": 24,
        "start_time": "2023-05-16T16:53:07.526Z"
      },
      {
        "duration": 15,
        "start_time": "2023-05-16T16:53:07.552Z"
      },
      {
        "duration": 1398,
        "start_time": "2023-05-16T16:53:07.568Z"
      },
      {
        "duration": 2,
        "start_time": "2023-05-16T16:53:08.968Z"
      },
      {
        "duration": 3310,
        "start_time": "2023-05-16T17:22:07.020Z"
      },
      {
        "duration": 2978,
        "start_time": "2023-05-16T17:24:09.425Z"
      },
      {
        "duration": 2916,
        "start_time": "2023-05-16T17:28:05.369Z"
      },
      {
        "duration": 2993,
        "start_time": "2023-05-16T17:28:50.437Z"
      },
      {
        "duration": 2452,
        "start_time": "2023-05-16T17:52:11.582Z"
      },
      {
        "duration": 3,
        "start_time": "2023-05-16T18:14:14.319Z"
      },
      {
        "duration": 495,
        "start_time": "2023-05-16T18:22:14.341Z"
      },
      {
        "duration": 10,
        "start_time": "2023-05-16T18:22:23.222Z"
      },
      {
        "duration": 10,
        "start_time": "2023-05-16T18:24:41.610Z"
      },
      {
        "duration": 14,
        "start_time": "2023-05-16T18:31:33.115Z"
      },
      {
        "duration": 44,
        "start_time": "2023-05-16T18:31:56.003Z"
      },
      {
        "duration": 5656,
        "start_time": "2023-05-16T18:32:58.947Z"
      },
      {
        "duration": 3,
        "start_time": "2023-05-16T18:33:04.605Z"
      },
      {
        "duration": 10,
        "start_time": "2023-05-16T18:33:04.610Z"
      },
      {
        "duration": 10,
        "start_time": "2023-05-16T18:33:04.622Z"
      },
      {
        "duration": 8,
        "start_time": "2023-05-16T18:33:04.634Z"
      },
      {
        "duration": 14,
        "start_time": "2023-05-16T18:33:04.644Z"
      },
      {
        "duration": 13,
        "start_time": "2023-05-16T18:33:04.660Z"
      },
      {
        "duration": 893,
        "start_time": "2023-05-16T18:33:04.675Z"
      },
      {
        "duration": 3086,
        "start_time": "2023-05-16T18:33:05.570Z"
      },
      {
        "duration": 11545,
        "start_time": "2023-05-16T18:33:08.660Z"
      },
      {
        "duration": 1610,
        "start_time": "2023-05-16T18:33:20.208Z"
      },
      {
        "duration": 31,
        "start_time": "2023-05-16T18:33:21.819Z"
      },
      {
        "duration": 43,
        "start_time": "2023-05-16T18:33:21.852Z"
      },
      {
        "duration": 3,
        "start_time": "2023-05-16T18:33:21.904Z"
      },
      {
        "duration": 315,
        "start_time": "2023-05-16T18:33:21.909Z"
      },
      {
        "duration": 508,
        "start_time": "2023-05-16T18:33:22.225Z"
      },
      {
        "duration": 193,
        "start_time": "2023-05-16T18:33:22.735Z"
      },
      {
        "duration": 36,
        "start_time": "2023-05-16T18:33:22.930Z"
      },
      {
        "duration": 1435,
        "start_time": "2023-05-16T18:33:22.968Z"
      },
      {
        "duration": 156,
        "start_time": "2023-05-16T18:33:24.405Z"
      },
      {
        "duration": 152,
        "start_time": "2023-05-16T18:33:24.563Z"
      },
      {
        "duration": 3,
        "start_time": "2023-05-16T18:33:24.717Z"
      },
      {
        "duration": 27,
        "start_time": "2023-05-16T18:33:24.725Z"
      },
      {
        "duration": 85,
        "start_time": "2023-05-16T18:33:24.754Z"
      },
      {
        "duration": 5,
        "start_time": "2023-05-16T18:33:24.841Z"
      },
      {
        "duration": 16,
        "start_time": "2023-05-16T18:33:24.848Z"
      },
      {
        "duration": 18,
        "start_time": "2023-05-16T18:33:24.866Z"
      },
      {
        "duration": 18,
        "start_time": "2023-05-16T18:33:24.886Z"
      },
      {
        "duration": 27,
        "start_time": "2023-05-16T18:33:24.906Z"
      },
      {
        "duration": 26,
        "start_time": "2023-05-16T18:33:24.935Z"
      },
      {
        "duration": 22,
        "start_time": "2023-05-16T18:33:24.962Z"
      },
      {
        "duration": 22,
        "start_time": "2023-05-16T18:33:24.986Z"
      },
      {
        "duration": 1318,
        "start_time": "2023-05-16T18:33:25.011Z"
      },
      {
        "duration": 2,
        "start_time": "2023-05-16T18:33:26.331Z"
      },
      {
        "duration": 7228,
        "start_time": "2023-05-16T18:33:26.335Z"
      },
      {
        "duration": 47,
        "start_time": "2023-05-16T18:33:33.565Z"
      },
      {
        "duration": 7257,
        "start_time": "2023-05-16T18:36:10.805Z"
      },
      {
        "duration": 86,
        "start_time": "2023-05-16T18:36:38.839Z"
      },
      {
        "duration": 16,
        "start_time": "2023-05-16T19:43:37.025Z"
      },
      {
        "duration": 5,
        "start_time": "2023-05-16T19:43:49.751Z"
      },
      {
        "duration": 21,
        "start_time": "2023-05-16T19:48:09.045Z"
      },
      {
        "duration": 5220,
        "start_time": "2023-05-16T19:48:26.117Z"
      },
      {
        "duration": 4,
        "start_time": "2023-05-16T19:48:31.341Z"
      },
      {
        "duration": 21,
        "start_time": "2023-05-16T19:48:31.348Z"
      },
      {
        "duration": 22,
        "start_time": "2023-05-16T19:48:31.372Z"
      },
      {
        "duration": 15,
        "start_time": "2023-05-16T19:48:31.401Z"
      },
      {
        "duration": 18,
        "start_time": "2023-05-16T19:48:31.419Z"
      },
      {
        "duration": 14,
        "start_time": "2023-05-16T19:48:31.439Z"
      },
      {
        "duration": 965,
        "start_time": "2023-05-16T19:48:31.455Z"
      },
      {
        "duration": 3557,
        "start_time": "2023-05-16T19:48:32.422Z"
      },
      {
        "duration": 12296,
        "start_time": "2023-05-16T19:48:35.989Z"
      },
      {
        "duration": 1638,
        "start_time": "2023-05-16T19:48:48.287Z"
      },
      {
        "duration": 39,
        "start_time": "2023-05-16T19:48:49.928Z"
      },
      {
        "duration": 40,
        "start_time": "2023-05-16T19:48:49.969Z"
      },
      {
        "duration": 3,
        "start_time": "2023-05-16T19:48:50.011Z"
      },
      {
        "duration": 321,
        "start_time": "2023-05-16T19:48:50.016Z"
      },
      {
        "duration": 637,
        "start_time": "2023-05-16T19:48:50.339Z"
      },
      {
        "duration": 263,
        "start_time": "2023-05-16T19:48:50.979Z"
      },
      {
        "duration": 50,
        "start_time": "2023-05-16T19:48:51.244Z"
      },
      {
        "duration": 1202,
        "start_time": "2023-05-16T19:48:51.297Z"
      },
      {
        "duration": 202,
        "start_time": "2023-05-16T19:48:52.501Z"
      },
      {
        "duration": 137,
        "start_time": "2023-05-16T19:48:52.704Z"
      },
      {
        "duration": 3,
        "start_time": "2023-05-16T19:48:52.843Z"
      },
      {
        "duration": 19,
        "start_time": "2023-05-16T19:48:52.849Z"
      },
      {
        "duration": 115,
        "start_time": "2023-05-16T19:48:52.871Z"
      },
      {
        "duration": 18,
        "start_time": "2023-05-16T19:48:52.989Z"
      },
      {
        "duration": 5,
        "start_time": "2023-05-16T19:48:53.010Z"
      },
      {
        "duration": 5,
        "start_time": "2023-05-16T19:48:53.016Z"
      },
      {
        "duration": 4,
        "start_time": "2023-05-16T19:48:53.024Z"
      },
      {
        "duration": 25,
        "start_time": "2023-05-16T19:48:53.030Z"
      },
      {
        "duration": 13,
        "start_time": "2023-05-16T19:48:53.058Z"
      },
      {
        "duration": 52,
        "start_time": "2023-05-16T19:48:53.073Z"
      },
      {
        "duration": 17,
        "start_time": "2023-05-16T19:48:53.136Z"
      },
      {
        "duration": 1325,
        "start_time": "2023-05-16T19:48:53.155Z"
      },
      {
        "duration": 10,
        "start_time": "2023-05-16T19:48:54.482Z"
      },
      {
        "duration": 4636,
        "start_time": "2023-05-16T19:48:54.499Z"
      },
      {
        "duration": 109,
        "start_time": "2023-05-16T20:00:11.515Z"
      },
      {
        "duration": 17,
        "start_time": "2023-05-16T20:00:19.408Z"
      },
      {
        "duration": 8280,
        "start_time": "2023-05-17T17:19:30.809Z"
      },
      {
        "duration": 3,
        "start_time": "2023-05-17T17:19:39.098Z"
      },
      {
        "duration": 26,
        "start_time": "2023-05-17T17:19:39.103Z"
      },
      {
        "duration": 7,
        "start_time": "2023-05-17T17:19:39.132Z"
      },
      {
        "duration": 7,
        "start_time": "2023-05-17T17:19:39.141Z"
      },
      {
        "duration": 17,
        "start_time": "2023-05-17T17:19:39.150Z"
      },
      {
        "duration": 13,
        "start_time": "2023-05-17T17:19:39.169Z"
      },
      {
        "duration": 3367,
        "start_time": "2023-05-17T17:19:39.184Z"
      },
      {
        "duration": 3085,
        "start_time": "2023-05-17T17:19:42.552Z"
      },
      {
        "duration": 11400,
        "start_time": "2023-05-17T17:19:45.639Z"
      },
      {
        "duration": 1548,
        "start_time": "2023-05-17T17:19:57.040Z"
      },
      {
        "duration": 28,
        "start_time": "2023-05-17T17:19:58.598Z"
      },
      {
        "duration": 20,
        "start_time": "2023-05-17T17:19:58.628Z"
      },
      {
        "duration": 2,
        "start_time": "2023-05-17T17:19:58.650Z"
      },
      {
        "duration": 359,
        "start_time": "2023-05-17T17:19:58.654Z"
      },
      {
        "duration": 528,
        "start_time": "2023-05-17T17:19:59.014Z"
      },
      {
        "duration": 196,
        "start_time": "2023-05-17T17:19:59.544Z"
      },
      {
        "duration": 50,
        "start_time": "2023-05-17T17:19:59.742Z"
      },
      {
        "duration": 1202,
        "start_time": "2023-05-17T17:19:59.795Z"
      },
      {
        "duration": 141,
        "start_time": "2023-05-17T17:20:00.998Z"
      },
      {
        "duration": 151,
        "start_time": "2023-05-17T17:20:01.141Z"
      },
      {
        "duration": 4,
        "start_time": "2023-05-17T17:20:01.294Z"
      },
      {
        "duration": 33,
        "start_time": "2023-05-17T17:20:01.300Z"
      },
      {
        "duration": 107,
        "start_time": "2023-05-17T17:20:01.335Z"
      },
      {
        "duration": 46,
        "start_time": "2023-05-17T17:20:01.444Z"
      },
      {
        "duration": 40,
        "start_time": "2023-05-17T17:20:01.492Z"
      },
      {
        "duration": 24,
        "start_time": "2023-05-17T17:20:01.533Z"
      },
      {
        "duration": 46,
        "start_time": "2023-05-17T17:20:01.560Z"
      },
      {
        "duration": 68,
        "start_time": "2023-05-17T17:20:01.608Z"
      },
      {
        "duration": 20,
        "start_time": "2023-05-17T17:20:01.686Z"
      },
      {
        "duration": 24,
        "start_time": "2023-05-17T17:20:01.708Z"
      },
      {
        "duration": 22,
        "start_time": "2023-05-17T17:20:01.734Z"
      },
      {
        "duration": 1439,
        "start_time": "2023-05-17T17:20:01.758Z"
      },
      {
        "duration": 3,
        "start_time": "2023-05-17T17:20:03.200Z"
      },
      {
        "duration": 4321,
        "start_time": "2023-05-17T17:20:03.205Z"
      },
      {
        "duration": 4,
        "start_time": "2023-05-17T17:24:59.116Z"
      },
      {
        "duration": 4,
        "start_time": "2023-05-17T17:25:25.163Z"
      },
      {
        "duration": 4,
        "start_time": "2023-05-17T17:28:27.519Z"
      },
      {
        "duration": 4,
        "start_time": "2023-05-17T17:28:37.109Z"
      },
      {
        "duration": 4,
        "start_time": "2023-05-17T17:29:14.106Z"
      },
      {
        "duration": 4,
        "start_time": "2023-05-17T17:29:21.327Z"
      },
      {
        "duration": 1775,
        "start_time": "2023-05-17T17:41:08.260Z"
      },
      {
        "duration": 4,
        "start_time": "2023-05-17T17:42:08.107Z"
      },
      {
        "duration": 5,
        "start_time": "2023-05-17T17:59:11.319Z"
      },
      {
        "duration": 1912,
        "start_time": "2023-05-17T17:59:14.032Z"
      },
      {
        "duration": 5,
        "start_time": "2023-05-17T17:59:25.607Z"
      },
      {
        "duration": 1637,
        "start_time": "2023-05-17T17:59:49.906Z"
      },
      {
        "duration": 4,
        "start_time": "2023-05-17T18:00:25.526Z"
      },
      {
        "duration": 2333,
        "start_time": "2023-05-17T18:02:03.002Z"
      },
      {
        "duration": 1602,
        "start_time": "2023-05-17T18:02:26.032Z"
      },
      {
        "duration": 7636,
        "start_time": "2023-05-17T18:04:43.445Z"
      },
      {
        "duration": 6,
        "start_time": "2023-05-17T18:04:51.093Z"
      },
      {
        "duration": 19,
        "start_time": "2023-05-17T18:04:51.102Z"
      },
      {
        "duration": 14,
        "start_time": "2023-05-17T18:04:51.125Z"
      },
      {
        "duration": 8,
        "start_time": "2023-05-17T18:04:51.141Z"
      },
      {
        "duration": 12,
        "start_time": "2023-05-17T18:04:51.151Z"
      },
      {
        "duration": 23,
        "start_time": "2023-05-17T18:04:51.165Z"
      },
      {
        "duration": 1026,
        "start_time": "2023-05-17T18:04:51.195Z"
      },
      {
        "duration": 3729,
        "start_time": "2023-05-17T18:04:52.231Z"
      },
      {
        "duration": 13743,
        "start_time": "2023-05-17T18:04:55.974Z"
      },
      {
        "duration": 1543,
        "start_time": "2023-05-17T18:05:09.723Z"
      },
      {
        "duration": 43,
        "start_time": "2023-05-17T18:05:11.268Z"
      },
      {
        "duration": 23,
        "start_time": "2023-05-17T18:05:11.313Z"
      },
      {
        "duration": 3,
        "start_time": "2023-05-17T18:05:11.337Z"
      },
      {
        "duration": 417,
        "start_time": "2023-05-17T18:05:11.342Z"
      },
      {
        "duration": 570,
        "start_time": "2023-05-17T18:05:11.760Z"
      },
      {
        "duration": 206,
        "start_time": "2023-05-17T18:05:12.332Z"
      },
      {
        "duration": 53,
        "start_time": "2023-05-17T18:05:12.540Z"
      },
      {
        "duration": 1170,
        "start_time": "2023-05-17T18:05:12.599Z"
      },
      {
        "duration": 176,
        "start_time": "2023-05-17T18:05:13.771Z"
      },
      {
        "duration": 154,
        "start_time": "2023-05-17T18:05:13.949Z"
      },
      {
        "duration": 6,
        "start_time": "2023-05-17T18:05:14.106Z"
      },
      {
        "duration": 25,
        "start_time": "2023-05-17T18:05:14.116Z"
      },
      {
        "duration": 95,
        "start_time": "2023-05-17T18:05:14.143Z"
      },
      {
        "duration": 7,
        "start_time": "2023-05-17T18:05:14.240Z"
      },
      {
        "duration": 4,
        "start_time": "2023-05-17T18:05:14.249Z"
      },
      {
        "duration": 37,
        "start_time": "2023-05-17T18:05:14.255Z"
      },
      {
        "duration": 10,
        "start_time": "2023-05-17T18:05:14.297Z"
      },
      {
        "duration": 22,
        "start_time": "2023-05-17T18:05:14.313Z"
      },
      {
        "duration": 16,
        "start_time": "2023-05-17T18:05:14.339Z"
      },
      {
        "duration": 22,
        "start_time": "2023-05-17T18:05:14.357Z"
      },
      {
        "duration": 18,
        "start_time": "2023-05-17T18:05:14.382Z"
      },
      {
        "duration": 1505,
        "start_time": "2023-05-17T18:05:14.402Z"
      },
      {
        "duration": 1625,
        "start_time": "2023-05-17T18:05:15.909Z"
      },
      {
        "duration": 0,
        "start_time": "2023-05-17T18:05:17.537Z"
      },
      {
        "duration": 1453,
        "start_time": "2023-05-17T18:07:03.650Z"
      },
      {
        "duration": 2366,
        "start_time": "2023-05-17T18:07:21.033Z"
      },
      {
        "duration": 3,
        "start_time": "2023-05-17T18:07:57.758Z"
      },
      {
        "duration": 1918,
        "start_time": "2023-05-17T18:07:59.703Z"
      },
      {
        "duration": 72,
        "start_time": "2023-05-17T18:10:22.114Z"
      },
      {
        "duration": 120,
        "start_time": "2023-05-17T18:10:31.597Z"
      },
      {
        "duration": 148,
        "start_time": "2023-05-17T18:11:48.615Z"
      },
      {
        "duration": 7,
        "start_time": "2023-05-17T18:11:56.526Z"
      },
      {
        "duration": 165,
        "start_time": "2023-05-17T18:11:57.639Z"
      },
      {
        "duration": 7373,
        "start_time": "2023-05-17T18:12:11.586Z"
      },
      {
        "duration": 184,
        "start_time": "2023-05-17T18:12:18.967Z"
      },
      {
        "duration": 136,
        "start_time": "2023-05-17T18:15:47.227Z"
      },
      {
        "duration": 226,
        "start_time": "2023-05-17T18:27:08.503Z"
      },
      {
        "duration": 298,
        "start_time": "2023-05-17T18:35:45.731Z"
      },
      {
        "duration": 35,
        "start_time": "2023-05-17T18:43:04.346Z"
      },
      {
        "duration": 10,
        "start_time": "2023-05-17T18:44:11.195Z"
      },
      {
        "duration": 41,
        "start_time": "2023-05-17T18:44:15.964Z"
      },
      {
        "duration": 35,
        "start_time": "2023-05-17T18:44:53.426Z"
      },
      {
        "duration": 56,
        "start_time": "2023-05-17T18:46:56.118Z"
      },
      {
        "duration": 813,
        "start_time": "2023-05-17T18:47:03.492Z"
      },
      {
        "duration": 1191,
        "start_time": "2023-05-17T18:47:16.114Z"
      },
      {
        "duration": 19,
        "start_time": "2023-05-17T18:51:56.510Z"
      },
      {
        "duration": 16,
        "start_time": "2023-05-17T18:52:04.354Z"
      },
      {
        "duration": 11,
        "start_time": "2023-05-17T18:52:39.650Z"
      },
      {
        "duration": 13,
        "start_time": "2023-05-17T18:52:52.259Z"
      },
      {
        "duration": 35,
        "start_time": "2023-05-17T18:54:10.642Z"
      },
      {
        "duration": 11,
        "start_time": "2023-05-17T18:54:49.884Z"
      },
      {
        "duration": 271,
        "start_time": "2023-05-17T18:55:03.250Z"
      },
      {
        "duration": 5,
        "start_time": "2023-05-17T18:55:13.985Z"
      },
      {
        "duration": 87,
        "start_time": "2023-05-17T18:55:34.962Z"
      },
      {
        "duration": 40,
        "start_time": "2023-05-17T18:55:44.249Z"
      },
      {
        "duration": 7,
        "start_time": "2023-05-17T18:55:44.734Z"
      },
      {
        "duration": 25,
        "start_time": "2023-05-17T18:55:56.460Z"
      },
      {
        "duration": 9535,
        "start_time": "2023-05-17T18:56:22.893Z"
      },
      {
        "duration": 11,
        "start_time": "2023-05-17T18:56:32.430Z"
      },
      {
        "duration": 24,
        "start_time": "2023-05-17T18:56:32.449Z"
      },
      {
        "duration": 18,
        "start_time": "2023-05-17T18:56:32.475Z"
      },
      {
        "duration": 18,
        "start_time": "2023-05-17T18:56:32.498Z"
      },
      {
        "duration": 16,
        "start_time": "2023-05-17T18:56:32.520Z"
      },
      {
        "duration": 24,
        "start_time": "2023-05-17T18:56:32.537Z"
      },
      {
        "duration": 1685,
        "start_time": "2023-05-17T18:56:32.568Z"
      },
      {
        "duration": 6153,
        "start_time": "2023-05-17T18:56:34.257Z"
      },
      {
        "duration": 21468,
        "start_time": "2023-05-17T18:56:40.415Z"
      },
      {
        "duration": 2248,
        "start_time": "2023-05-17T18:57:01.889Z"
      },
      {
        "duration": 79,
        "start_time": "2023-05-17T18:57:04.150Z"
      },
      {
        "duration": 48,
        "start_time": "2023-05-17T18:57:04.234Z"
      },
      {
        "duration": 6,
        "start_time": "2023-05-17T18:57:04.294Z"
      },
      {
        "duration": 782,
        "start_time": "2023-05-17T18:57:04.309Z"
      },
      {
        "duration": 1039,
        "start_time": "2023-05-17T18:57:05.099Z"
      },
      {
        "duration": 385,
        "start_time": "2023-05-17T18:57:06.144Z"
      },
      {
        "duration": 56,
        "start_time": "2023-05-17T18:57:06.537Z"
      },
      {
        "duration": 1365,
        "start_time": "2023-05-17T18:57:06.600Z"
      },
      {
        "duration": 391,
        "start_time": "2023-05-17T18:57:07.967Z"
      },
      {
        "duration": 449,
        "start_time": "2023-05-17T18:57:08.360Z"
      },
      {
        "duration": 14,
        "start_time": "2023-05-17T18:57:08.821Z"
      },
      {
        "duration": 45,
        "start_time": "2023-05-17T18:57:08.840Z"
      },
      {
        "duration": 206,
        "start_time": "2023-05-17T18:57:08.887Z"
      },
      {
        "duration": 38,
        "start_time": "2023-05-17T18:57:09.099Z"
      },
      {
        "duration": 20,
        "start_time": "2023-05-17T18:57:09.145Z"
      },
      {
        "duration": 10,
        "start_time": "2023-05-17T18:57:09.174Z"
      },
      {
        "duration": 19,
        "start_time": "2023-05-17T18:57:09.198Z"
      },
      {
        "duration": 57,
        "start_time": "2023-05-17T18:57:09.238Z"
      },
      {
        "duration": 78,
        "start_time": "2023-05-17T18:57:09.306Z"
      },
      {
        "duration": 74,
        "start_time": "2023-05-17T18:57:09.402Z"
      },
      {
        "duration": 39,
        "start_time": "2023-05-17T18:57:09.494Z"
      },
      {
        "duration": 2304,
        "start_time": "2023-05-17T18:57:09.540Z"
      },
      {
        "duration": 16,
        "start_time": "2023-05-17T18:57:11.849Z"
      },
      {
        "duration": 232,
        "start_time": "2023-05-17T18:57:11.870Z"
      },
      {
        "duration": 9253,
        "start_time": "2023-05-17T18:57:12.107Z"
      },
      {
        "duration": 100,
        "start_time": "2023-05-17T18:58:01.433Z"
      },
      {
        "duration": 953,
        "start_time": "2023-05-17T18:58:47.649Z"
      },
      {
        "duration": 348,
        "start_time": "2023-05-17T19:05:04.077Z"
      },
      {
        "duration": 231,
        "start_time": "2023-05-17T19:05:41.950Z"
      },
      {
        "duration": 191,
        "start_time": "2023-05-17T19:05:49.775Z"
      },
      {
        "duration": 6,
        "start_time": "2023-05-17T19:06:00.571Z"
      },
      {
        "duration": 34,
        "start_time": "2023-05-17T19:06:01.151Z"
      },
      {
        "duration": 3,
        "start_time": "2023-05-17T19:06:26.779Z"
      },
      {
        "duration": 4,
        "start_time": "2023-05-17T19:06:52.763Z"
      },
      {
        "duration": 19,
        "start_time": "2023-05-17T19:07:56.130Z"
      },
      {
        "duration": 15,
        "start_time": "2023-05-17T19:11:29.617Z"
      },
      {
        "duration": 71,
        "start_time": "2023-05-17T19:12:02.282Z"
      },
      {
        "duration": 39,
        "start_time": "2023-05-17T19:12:38.822Z"
      },
      {
        "duration": 33,
        "start_time": "2023-05-17T19:13:12.700Z"
      },
      {
        "duration": 34,
        "start_time": "2023-05-17T19:14:08.522Z"
      },
      {
        "duration": 39,
        "start_time": "2023-05-17T19:15:30.882Z"
      },
      {
        "duration": 19,
        "start_time": "2023-05-17T19:16:53.714Z"
      },
      {
        "duration": 13,
        "start_time": "2023-05-17T19:17:15.549Z"
      },
      {
        "duration": 4,
        "start_time": "2023-05-17T19:17:37.923Z"
      },
      {
        "duration": 2034,
        "start_time": "2023-05-17T19:22:51.290Z"
      },
      {
        "duration": 10097,
        "start_time": "2023-05-17T19:23:12.392Z"
      },
      {
        "duration": 9,
        "start_time": "2023-05-17T19:23:22.492Z"
      },
      {
        "duration": 25,
        "start_time": "2023-05-17T19:23:22.503Z"
      },
      {
        "duration": 26,
        "start_time": "2023-05-17T19:23:22.538Z"
      },
      {
        "duration": 20,
        "start_time": "2023-05-17T19:23:22.574Z"
      },
      {
        "duration": 33,
        "start_time": "2023-05-17T19:23:22.597Z"
      },
      {
        "duration": 9,
        "start_time": "2023-05-17T19:23:22.638Z"
      },
      {
        "duration": 7452,
        "start_time": "2023-05-17T19:23:22.657Z"
      },
      {
        "duration": 5587,
        "start_time": "2023-05-17T19:23:30.110Z"
      },
      {
        "duration": 20145,
        "start_time": "2023-05-17T19:23:35.704Z"
      },
      {
        "duration": 2595,
        "start_time": "2023-05-17T19:23:55.862Z"
      },
      {
        "duration": 46,
        "start_time": "2023-05-17T19:23:58.463Z"
      },
      {
        "duration": 30,
        "start_time": "2023-05-17T19:23:58.511Z"
      },
      {
        "duration": 4,
        "start_time": "2023-05-17T19:23:58.543Z"
      },
      {
        "duration": 615,
        "start_time": "2023-05-17T19:23:58.548Z"
      },
      {
        "duration": 816,
        "start_time": "2023-05-17T19:23:59.169Z"
      },
      {
        "duration": 464,
        "start_time": "2023-05-17T19:23:59.991Z"
      },
      {
        "duration": 75,
        "start_time": "2023-05-17T19:24:00.466Z"
      },
      {
        "duration": 2115,
        "start_time": "2023-05-17T19:24:00.556Z"
      },
      {
        "duration": 324,
        "start_time": "2023-05-17T19:24:02.673Z"
      },
      {
        "duration": 250,
        "start_time": "2023-05-17T19:24:03.000Z"
      },
      {
        "duration": 9,
        "start_time": "2023-05-17T19:24:03.253Z"
      },
      {
        "duration": 36,
        "start_time": "2023-05-17T19:24:03.265Z"
      },
      {
        "duration": 183,
        "start_time": "2023-05-17T19:24:03.313Z"
      },
      {
        "duration": 16,
        "start_time": "2023-05-17T19:24:03.502Z"
      },
      {
        "duration": 9,
        "start_time": "2023-05-17T19:24:03.524Z"
      },
      {
        "duration": 4,
        "start_time": "2023-05-17T19:24:03.540Z"
      },
      {
        "duration": 8,
        "start_time": "2023-05-17T19:24:03.558Z"
      },
      {
        "duration": 49,
        "start_time": "2023-05-17T19:24:03.572Z"
      },
      {
        "duration": 46,
        "start_time": "2023-05-17T19:24:03.627Z"
      },
      {
        "duration": 62,
        "start_time": "2023-05-17T19:24:03.679Z"
      },
      {
        "duration": 22,
        "start_time": "2023-05-17T19:24:03.748Z"
      },
      {
        "duration": 2001,
        "start_time": "2023-05-17T19:24:03.776Z"
      },
      {
        "duration": 8,
        "start_time": "2023-05-17T19:24:05.783Z"
      },
      {
        "duration": 163,
        "start_time": "2023-05-17T19:24:05.796Z"
      },
      {
        "duration": 7849,
        "start_time": "2023-05-17T19:24:05.964Z"
      },
      {
        "duration": 139,
        "start_time": "2023-05-17T19:24:13.818Z"
      },
      {
        "duration": 14,
        "start_time": "2023-05-17T19:24:13.963Z"
      },
      {
        "duration": 10,
        "start_time": "2023-05-17T19:24:13.983Z"
      },
      {
        "duration": 13,
        "start_time": "2023-05-17T19:24:14.003Z"
      },
      {
        "duration": 13,
        "start_time": "2023-05-17T19:24:14.023Z"
      },
      {
        "duration": 6114,
        "start_time": "2023-05-17T19:24:14.043Z"
      },
      {
        "duration": 2051,
        "start_time": "2023-05-17T19:26:05.914Z"
      },
      {
        "duration": 9706,
        "start_time": "2023-05-17T19:26:15.299Z"
      },
      {
        "duration": 14,
        "start_time": "2023-05-17T19:26:25.007Z"
      },
      {
        "duration": 18,
        "start_time": "2023-05-17T19:26:25.023Z"
      },
      {
        "duration": 22,
        "start_time": "2023-05-17T19:26:25.043Z"
      },
      {
        "duration": 26,
        "start_time": "2023-05-17T19:26:25.067Z"
      },
      {
        "duration": 18,
        "start_time": "2023-05-17T19:26:25.095Z"
      },
      {
        "duration": 26,
        "start_time": "2023-05-17T19:26:25.115Z"
      },
      {
        "duration": 7346,
        "start_time": "2023-05-17T19:26:25.143Z"
      },
      {
        "duration": 6470,
        "start_time": "2023-05-17T19:26:32.505Z"
      },
      {
        "duration": 19794,
        "start_time": "2023-05-17T19:26:38.983Z"
      },
      {
        "duration": 2589,
        "start_time": "2023-05-17T19:26:58.798Z"
      },
      {
        "duration": 59,
        "start_time": "2023-05-17T19:27:01.393Z"
      },
      {
        "duration": 39,
        "start_time": "2023-05-17T19:27:01.458Z"
      },
      {
        "duration": 31,
        "start_time": "2023-05-17T19:27:01.504Z"
      },
      {
        "duration": 759,
        "start_time": "2023-05-17T19:27:01.541Z"
      },
      {
        "duration": 860,
        "start_time": "2023-05-17T19:27:02.309Z"
      },
      {
        "duration": 449,
        "start_time": "2023-05-17T19:27:03.175Z"
      },
      {
        "duration": 83,
        "start_time": "2023-05-17T19:27:03.630Z"
      },
      {
        "duration": 1647,
        "start_time": "2023-05-17T19:27:03.720Z"
      },
      {
        "duration": 250,
        "start_time": "2023-05-17T19:27:05.369Z"
      },
      {
        "duration": 293,
        "start_time": "2023-05-17T19:27:05.621Z"
      },
      {
        "duration": 9,
        "start_time": "2023-05-17T19:27:05.920Z"
      },
      {
        "duration": 44,
        "start_time": "2023-05-17T19:27:05.935Z"
      },
      {
        "duration": 145,
        "start_time": "2023-05-17T19:27:05.984Z"
      },
      {
        "duration": 9,
        "start_time": "2023-05-17T19:27:06.134Z"
      },
      {
        "duration": 9,
        "start_time": "2023-05-17T19:27:06.148Z"
      },
      {
        "duration": 3,
        "start_time": "2023-05-17T19:27:06.162Z"
      },
      {
        "duration": 5,
        "start_time": "2023-05-17T19:27:06.172Z"
      },
      {
        "duration": 35,
        "start_time": "2023-05-17T19:27:06.178Z"
      },
      {
        "duration": 26,
        "start_time": "2023-05-17T19:27:06.217Z"
      },
      {
        "duration": 31,
        "start_time": "2023-05-17T19:27:06.247Z"
      },
      {
        "duration": 23,
        "start_time": "2023-05-17T19:27:06.285Z"
      },
      {
        "duration": 1780,
        "start_time": "2023-05-17T19:27:06.313Z"
      },
      {
        "duration": 8,
        "start_time": "2023-05-17T19:27:08.099Z"
      },
      {
        "duration": 164,
        "start_time": "2023-05-17T19:27:08.111Z"
      },
      {
        "duration": 7969,
        "start_time": "2023-05-17T19:27:08.276Z"
      },
      {
        "duration": 198,
        "start_time": "2023-05-17T19:27:16.251Z"
      },
      {
        "duration": 7,
        "start_time": "2023-05-17T19:27:16.458Z"
      },
      {
        "duration": 11,
        "start_time": "2023-05-17T19:27:16.469Z"
      },
      {
        "duration": 24,
        "start_time": "2023-05-17T19:27:16.485Z"
      },
      {
        "duration": 15,
        "start_time": "2023-05-17T19:27:16.514Z"
      },
      {
        "duration": 6343,
        "start_time": "2023-05-17T19:27:16.534Z"
      },
      {
        "duration": 9,
        "start_time": "2023-05-17T19:28:25.276Z"
      },
      {
        "duration": 10141,
        "start_time": "2023-05-17T19:30:32.214Z"
      },
      {
        "duration": 8,
        "start_time": "2023-05-17T19:30:42.365Z"
      },
      {
        "duration": 39,
        "start_time": "2023-05-17T19:30:42.382Z"
      },
      {
        "duration": 41,
        "start_time": "2023-05-17T19:30:42.432Z"
      },
      {
        "duration": 23,
        "start_time": "2023-05-17T19:30:42.478Z"
      },
      {
        "duration": 22,
        "start_time": "2023-05-17T19:30:42.507Z"
      },
      {
        "duration": 13,
        "start_time": "2023-05-17T19:30:42.542Z"
      },
      {
        "duration": 6415,
        "start_time": "2023-05-17T19:30:42.567Z"
      },
      {
        "duration": 5278,
        "start_time": "2023-05-17T19:30:48.988Z"
      },
      {
        "duration": 18816,
        "start_time": "2023-05-17T19:30:54.274Z"
      },
      {
        "duration": 1827,
        "start_time": "2023-05-17T19:31:13.091Z"
      },
      {
        "duration": 53,
        "start_time": "2023-05-17T19:31:14.920Z"
      },
      {
        "duration": 32,
        "start_time": "2023-05-17T19:31:14.975Z"
      },
      {
        "duration": 14,
        "start_time": "2023-05-17T19:31:15.009Z"
      },
      {
        "duration": 639,
        "start_time": "2023-05-17T19:31:15.025Z"
      },
      {
        "duration": 746,
        "start_time": "2023-05-17T19:31:15.666Z"
      },
      {
        "duration": 327,
        "start_time": "2023-05-17T19:31:16.416Z"
      },
      {
        "duration": 45,
        "start_time": "2023-05-17T19:31:16.752Z"
      },
      {
        "duration": 1598,
        "start_time": "2023-05-17T19:31:16.799Z"
      },
      {
        "duration": 270,
        "start_time": "2023-05-17T19:31:18.416Z"
      },
      {
        "duration": 180,
        "start_time": "2023-05-17T19:31:18.692Z"
      },
      {
        "duration": 7,
        "start_time": "2023-05-17T19:31:18.877Z"
      },
      {
        "duration": 34,
        "start_time": "2023-05-17T19:31:18.889Z"
      },
      {
        "duration": 123,
        "start_time": "2023-05-17T19:31:18.927Z"
      },
      {
        "duration": 16,
        "start_time": "2023-05-17T19:31:19.055Z"
      },
      {
        "duration": 29,
        "start_time": "2023-05-17T19:31:19.076Z"
      },
      {
        "duration": 16,
        "start_time": "2023-05-17T19:31:19.107Z"
      },
      {
        "duration": 14,
        "start_time": "2023-05-17T19:31:19.132Z"
      },
      {
        "duration": 34,
        "start_time": "2023-05-17T19:31:19.154Z"
      },
      {
        "duration": 21,
        "start_time": "2023-05-17T19:31:19.190Z"
      },
      {
        "duration": 46,
        "start_time": "2023-05-17T19:31:19.215Z"
      },
      {
        "duration": 32,
        "start_time": "2023-05-17T19:31:19.267Z"
      },
      {
        "duration": 1989,
        "start_time": "2023-05-17T19:31:19.304Z"
      },
      {
        "duration": 23,
        "start_time": "2023-05-17T19:31:21.306Z"
      },
      {
        "duration": 167,
        "start_time": "2023-05-17T19:31:21.338Z"
      },
      {
        "duration": 8695,
        "start_time": "2023-05-17T19:31:21.514Z"
      },
      {
        "duration": 155,
        "start_time": "2023-05-17T19:31:30.210Z"
      },
      {
        "duration": 12,
        "start_time": "2023-05-17T19:31:30.367Z"
      },
      {
        "duration": 41,
        "start_time": "2023-05-17T19:31:30.381Z"
      },
      {
        "duration": 62,
        "start_time": "2023-05-17T19:31:30.424Z"
      },
      {
        "duration": 53,
        "start_time": "2023-05-17T19:31:30.491Z"
      },
      {
        "duration": 66,
        "start_time": "2023-05-17T19:31:30.547Z"
      },
      {
        "duration": 1431,
        "start_time": "2023-05-17T19:33:47.108Z"
      },
      {
        "duration": 10361,
        "start_time": "2023-05-17T19:34:05.852Z"
      },
      {
        "duration": 6,
        "start_time": "2023-05-17T19:34:16.215Z"
      },
      {
        "duration": 29,
        "start_time": "2023-05-17T19:34:16.222Z"
      },
      {
        "duration": 12,
        "start_time": "2023-05-17T19:34:16.253Z"
      },
      {
        "duration": 19,
        "start_time": "2023-05-17T19:34:16.269Z"
      },
      {
        "duration": 11,
        "start_time": "2023-05-17T19:34:16.294Z"
      },
      {
        "duration": 9,
        "start_time": "2023-05-17T19:34:16.312Z"
      },
      {
        "duration": 7163,
        "start_time": "2023-05-17T19:34:16.326Z"
      },
      {
        "duration": 5938,
        "start_time": "2023-05-17T19:34:23.496Z"
      },
      {
        "duration": 20872,
        "start_time": "2023-05-17T19:34:29.442Z"
      },
      {
        "duration": 2170,
        "start_time": "2023-05-17T19:34:50.315Z"
      },
      {
        "duration": 55,
        "start_time": "2023-05-17T19:34:52.494Z"
      },
      {
        "duration": 36,
        "start_time": "2023-05-17T19:34:52.551Z"
      },
      {
        "duration": 11,
        "start_time": "2023-05-17T19:34:52.594Z"
      },
      {
        "duration": 834,
        "start_time": "2023-05-17T19:34:52.607Z"
      },
      {
        "duration": 755,
        "start_time": "2023-05-17T19:34:53.446Z"
      },
      {
        "duration": 386,
        "start_time": "2023-05-17T19:34:54.203Z"
      },
      {
        "duration": 54,
        "start_time": "2023-05-17T19:34:54.595Z"
      },
      {
        "duration": 1673,
        "start_time": "2023-05-17T19:34:54.654Z"
      },
      {
        "duration": 204,
        "start_time": "2023-05-17T19:34:56.332Z"
      },
      {
        "duration": 190,
        "start_time": "2023-05-17T19:34:56.541Z"
      },
      {
        "duration": 5,
        "start_time": "2023-05-17T19:34:56.736Z"
      },
      {
        "duration": 16,
        "start_time": "2023-05-17T19:34:56.746Z"
      },
      {
        "duration": 154,
        "start_time": "2023-05-17T19:34:56.767Z"
      },
      {
        "duration": 13,
        "start_time": "2023-05-17T19:34:56.926Z"
      },
      {
        "duration": 25,
        "start_time": "2023-05-17T19:34:56.944Z"
      },
      {
        "duration": 23,
        "start_time": "2023-05-17T19:34:56.982Z"
      },
      {
        "duration": 12,
        "start_time": "2023-05-17T19:34:57.017Z"
      },
      {
        "duration": 36,
        "start_time": "2023-05-17T19:34:57.030Z"
      },
      {
        "duration": 35,
        "start_time": "2023-05-17T19:34:57.070Z"
      },
      {
        "duration": 31,
        "start_time": "2023-05-17T19:34:57.110Z"
      },
      {
        "duration": 21,
        "start_time": "2023-05-17T19:34:57.143Z"
      },
      {
        "duration": 1952,
        "start_time": "2023-05-17T19:34:57.166Z"
      },
      {
        "duration": 6,
        "start_time": "2023-05-17T19:34:59.120Z"
      },
      {
        "duration": 193,
        "start_time": "2023-05-17T19:34:59.128Z"
      },
      {
        "duration": 7768,
        "start_time": "2023-05-17T19:34:59.323Z"
      },
      {
        "duration": 157,
        "start_time": "2023-05-17T19:35:07.094Z"
      },
      {
        "duration": 9,
        "start_time": "2023-05-17T19:35:07.256Z"
      },
      {
        "duration": 10,
        "start_time": "2023-05-17T19:35:07.271Z"
      },
      {
        "duration": 14,
        "start_time": "2023-05-17T19:35:07.287Z"
      },
      {
        "duration": 5,
        "start_time": "2023-05-17T19:35:07.308Z"
      },
      {
        "duration": 10,
        "start_time": "2023-05-17T19:35:07.319Z"
      },
      {
        "duration": 72,
        "start_time": "2023-05-17T19:39:05.502Z"
      },
      {
        "duration": 8877,
        "start_time": "2023-05-17T19:39:17.902Z"
      },
      {
        "duration": 7,
        "start_time": "2023-05-17T19:39:26.786Z"
      },
      {
        "duration": 16,
        "start_time": "2023-05-17T19:39:26.799Z"
      },
      {
        "duration": 10,
        "start_time": "2023-05-17T19:39:26.823Z"
      },
      {
        "duration": 10,
        "start_time": "2023-05-17T19:39:26.840Z"
      },
      {
        "duration": 9,
        "start_time": "2023-05-17T19:39:26.859Z"
      },
      {
        "duration": 4,
        "start_time": "2023-05-17T19:39:26.875Z"
      },
      {
        "duration": 5105,
        "start_time": "2023-05-17T19:39:26.886Z"
      },
      {
        "duration": 4420,
        "start_time": "2023-05-17T19:39:32.000Z"
      },
      {
        "duration": 14567,
        "start_time": "2023-05-17T19:39:36.428Z"
      },
      {
        "duration": 1512,
        "start_time": "2023-05-17T19:39:51.006Z"
      },
      {
        "duration": 36,
        "start_time": "2023-05-17T19:39:52.520Z"
      },
      {
        "duration": 38,
        "start_time": "2023-05-17T19:39:52.558Z"
      },
      {
        "duration": 6,
        "start_time": "2023-05-17T19:39:52.603Z"
      },
      {
        "duration": 438,
        "start_time": "2023-05-17T19:39:52.611Z"
      },
      {
        "duration": 552,
        "start_time": "2023-05-17T19:39:53.051Z"
      },
      {
        "duration": 225,
        "start_time": "2023-05-17T19:39:53.605Z"
      },
      {
        "duration": 31,
        "start_time": "2023-05-17T19:39:53.832Z"
      },
      {
        "duration": 1260,
        "start_time": "2023-05-17T19:39:53.866Z"
      },
      {
        "duration": 169,
        "start_time": "2023-05-17T19:39:55.129Z"
      },
      {
        "duration": 124,
        "start_time": "2023-05-17T19:39:55.306Z"
      },
      {
        "duration": 7,
        "start_time": "2023-05-17T19:39:55.432Z"
      },
      {
        "duration": 21,
        "start_time": "2023-05-17T19:39:55.440Z"
      },
      {
        "duration": 95,
        "start_time": "2023-05-17T19:39:55.463Z"
      },
      {
        "duration": 5,
        "start_time": "2023-05-17T19:39:55.559Z"
      },
      {
        "duration": 16,
        "start_time": "2023-05-17T19:39:55.566Z"
      },
      {
        "duration": 11,
        "start_time": "2023-05-17T19:39:55.583Z"
      },
      {
        "duration": 15,
        "start_time": "2023-05-17T19:39:55.597Z"
      },
      {
        "duration": 25,
        "start_time": "2023-05-17T19:39:55.617Z"
      },
      {
        "duration": 12,
        "start_time": "2023-05-17T19:39:55.644Z"
      },
      {
        "duration": 27,
        "start_time": "2023-05-17T19:39:55.658Z"
      },
      {
        "duration": 24,
        "start_time": "2023-05-17T19:39:55.692Z"
      },
      {
        "duration": 1472,
        "start_time": "2023-05-17T19:39:55.722Z"
      },
      {
        "duration": 6,
        "start_time": "2023-05-17T19:39:57.198Z"
      },
      {
        "duration": 107,
        "start_time": "2023-05-17T19:39:57.211Z"
      },
      {
        "duration": 5647,
        "start_time": "2023-05-17T19:39:57.325Z"
      },
      {
        "duration": 165,
        "start_time": "2023-05-17T19:40:02.976Z"
      },
      {
        "duration": 0,
        "start_time": "2023-05-17T19:40:03.143Z"
      },
      {
        "duration": 0,
        "start_time": "2023-05-17T19:40:03.144Z"
      },
      {
        "duration": 0,
        "start_time": "2023-05-17T19:40:03.145Z"
      },
      {
        "duration": 0,
        "start_time": "2023-05-17T19:40:03.147Z"
      },
      {
        "duration": 0,
        "start_time": "2023-05-17T19:40:03.148Z"
      },
      {
        "duration": 0,
        "start_time": "2023-05-17T19:40:03.149Z"
      },
      {
        "duration": 0,
        "start_time": "2023-05-17T19:40:03.150Z"
      },
      {
        "duration": 8963,
        "start_time": "2023-05-17T19:41:35.904Z"
      },
      {
        "duration": 3,
        "start_time": "2023-05-17T19:41:44.870Z"
      },
      {
        "duration": 14,
        "start_time": "2023-05-17T19:41:44.875Z"
      },
      {
        "duration": 9,
        "start_time": "2023-05-17T19:41:44.894Z"
      },
      {
        "duration": 8,
        "start_time": "2023-05-17T19:41:44.908Z"
      },
      {
        "duration": 19,
        "start_time": "2023-05-17T19:41:44.921Z"
      },
      {
        "duration": 8,
        "start_time": "2023-05-17T19:41:44.945Z"
      },
      {
        "duration": 1310,
        "start_time": "2023-05-17T19:41:44.956Z"
      },
      {
        "duration": 4388,
        "start_time": "2023-05-17T19:41:46.276Z"
      },
      {
        "duration": 15161,
        "start_time": "2023-05-17T19:41:50.676Z"
      },
      {
        "duration": 1570,
        "start_time": "2023-05-17T19:42:05.839Z"
      },
      {
        "duration": 69,
        "start_time": "2023-05-17T19:42:07.422Z"
      },
      {
        "duration": 25,
        "start_time": "2023-05-17T19:42:07.501Z"
      },
      {
        "duration": 9,
        "start_time": "2023-05-17T19:42:07.530Z"
      },
      {
        "duration": 504,
        "start_time": "2023-05-17T19:42:07.543Z"
      },
      {
        "duration": 696,
        "start_time": "2023-05-17T19:42:08.049Z"
      },
      {
        "duration": 267,
        "start_time": "2023-05-17T19:42:08.747Z"
      },
      {
        "duration": 37,
        "start_time": "2023-05-17T19:42:09.016Z"
      },
      {
        "duration": 1195,
        "start_time": "2023-05-17T19:42:09.055Z"
      },
      {
        "duration": 202,
        "start_time": "2023-05-17T19:42:10.252Z"
      },
      {
        "duration": 161,
        "start_time": "2023-05-17T19:42:10.456Z"
      },
      {
        "duration": 5,
        "start_time": "2023-05-17T19:42:10.622Z"
      },
      {
        "duration": 33,
        "start_time": "2023-05-17T19:42:10.632Z"
      },
      {
        "duration": 124,
        "start_time": "2023-05-17T19:42:10.668Z"
      },
      {
        "duration": 16,
        "start_time": "2023-05-17T19:42:10.805Z"
      },
      {
        "duration": 9,
        "start_time": "2023-05-17T19:42:10.831Z"
      },
      {
        "duration": 8,
        "start_time": "2023-05-17T19:42:10.846Z"
      },
      {
        "duration": 12,
        "start_time": "2023-05-17T19:42:10.861Z"
      },
      {
        "duration": 21,
        "start_time": "2023-05-17T19:42:10.880Z"
      },
      {
        "duration": 26,
        "start_time": "2023-05-17T19:42:10.903Z"
      },
      {
        "duration": 27,
        "start_time": "2023-05-17T19:42:10.935Z"
      },
      {
        "duration": 24,
        "start_time": "2023-05-17T19:42:10.970Z"
      },
      {
        "duration": 1852,
        "start_time": "2023-05-17T19:42:11.001Z"
      },
      {
        "duration": 6,
        "start_time": "2023-05-17T19:42:12.859Z"
      },
      {
        "duration": 122,
        "start_time": "2023-05-17T19:42:12.871Z"
      },
      {
        "duration": 5597,
        "start_time": "2023-05-17T19:42:12.994Z"
      },
      {
        "duration": 3,
        "start_time": "2023-05-17T19:42:18.593Z"
      },
      {
        "duration": 115,
        "start_time": "2023-05-17T19:42:18.597Z"
      },
      {
        "duration": 10,
        "start_time": "2023-05-17T19:42:18.714Z"
      },
      {
        "duration": 4,
        "start_time": "2023-05-17T19:42:18.725Z"
      },
      {
        "duration": 11,
        "start_time": "2023-05-17T19:42:18.731Z"
      },
      {
        "duration": 4,
        "start_time": "2023-05-17T19:42:18.744Z"
      },
      {
        "duration": 3,
        "start_time": "2023-05-17T19:42:18.750Z"
      },
      {
        "duration": 8012,
        "start_time": "2023-05-17T19:45:40.902Z"
      },
      {
        "duration": 6,
        "start_time": "2023-05-17T19:45:48.916Z"
      },
      {
        "duration": 30,
        "start_time": "2023-05-17T19:45:48.924Z"
      },
      {
        "duration": 37,
        "start_time": "2023-05-17T19:45:48.958Z"
      },
      {
        "duration": 16,
        "start_time": "2023-05-17T19:45:48.999Z"
      },
      {
        "duration": 45,
        "start_time": "2023-05-17T19:45:49.016Z"
      },
      {
        "duration": 11,
        "start_time": "2023-05-17T19:45:49.063Z"
      },
      {
        "duration": 4504,
        "start_time": "2023-05-17T19:45:49.075Z"
      },
      {
        "duration": 3854,
        "start_time": "2023-05-17T19:45:53.590Z"
      },
      {
        "duration": 15338,
        "start_time": "2023-05-17T19:45:57.447Z"
      },
      {
        "duration": 1555,
        "start_time": "2023-05-17T19:46:12.791Z"
      },
      {
        "duration": 52,
        "start_time": "2023-05-17T19:46:14.349Z"
      },
      {
        "duration": 35,
        "start_time": "2023-05-17T19:46:14.412Z"
      },
      {
        "duration": 11,
        "start_time": "2023-05-17T19:46:14.449Z"
      },
      {
        "duration": 581,
        "start_time": "2023-05-17T19:46:14.466Z"
      },
      {
        "duration": 713,
        "start_time": "2023-05-17T19:46:15.049Z"
      },
      {
        "duration": 302,
        "start_time": "2023-05-17T19:46:15.764Z"
      },
      {
        "duration": 60,
        "start_time": "2023-05-17T19:46:16.068Z"
      },
      {
        "duration": 1177,
        "start_time": "2023-05-17T19:46:16.129Z"
      },
      {
        "duration": 245,
        "start_time": "2023-05-17T19:46:17.311Z"
      },
      {
        "duration": 181,
        "start_time": "2023-05-17T19:46:17.558Z"
      },
      {
        "duration": 39,
        "start_time": "2023-05-17T19:46:17.742Z"
      },
      {
        "duration": 38,
        "start_time": "2023-05-17T19:46:17.783Z"
      },
      {
        "duration": 132,
        "start_time": "2023-05-17T19:46:17.837Z"
      },
      {
        "duration": 28,
        "start_time": "2023-05-17T19:46:17.974Z"
      },
      {
        "duration": 4,
        "start_time": "2023-05-17T19:46:18.007Z"
      },
      {
        "duration": 6,
        "start_time": "2023-05-17T19:46:18.017Z"
      },
      {
        "duration": 5,
        "start_time": "2023-05-17T19:46:18.029Z"
      },
      {
        "duration": 25,
        "start_time": "2023-05-17T19:46:18.036Z"
      },
      {
        "duration": 30,
        "start_time": "2023-05-17T19:46:18.065Z"
      },
      {
        "duration": 28,
        "start_time": "2023-05-17T19:46:18.097Z"
      },
      {
        "duration": 20,
        "start_time": "2023-05-17T19:46:18.127Z"
      },
      {
        "duration": 1806,
        "start_time": "2023-05-17T19:46:18.149Z"
      },
      {
        "duration": 4,
        "start_time": "2023-05-17T19:46:19.961Z"
      },
      {
        "duration": 144,
        "start_time": "2023-05-17T19:46:19.970Z"
      },
      {
        "duration": 5816,
        "start_time": "2023-05-17T19:46:20.119Z"
      },
      {
        "duration": 7,
        "start_time": "2023-05-17T19:46:25.940Z"
      },
      {
        "duration": 138,
        "start_time": "2023-05-17T19:46:25.952Z"
      },
      {
        "duration": 3,
        "start_time": "2023-05-17T19:46:26.092Z"
      },
      {
        "duration": 10,
        "start_time": "2023-05-17T19:46:26.099Z"
      },
      {
        "duration": 2,
        "start_time": "2023-05-17T19:46:26.112Z"
      },
      {
        "duration": 9,
        "start_time": "2023-05-17T19:46:26.117Z"
      },
      {
        "duration": 5,
        "start_time": "2023-05-17T19:46:26.128Z"
      },
      {
        "duration": 8962,
        "start_time": "2023-05-17T20:17:23.524Z"
      },
      {
        "duration": 4,
        "start_time": "2023-05-17T20:17:32.489Z"
      },
      {
        "duration": 27,
        "start_time": "2023-05-17T20:17:32.495Z"
      },
      {
        "duration": 21,
        "start_time": "2023-05-17T20:17:32.528Z"
      },
      {
        "duration": 20,
        "start_time": "2023-05-17T20:17:32.552Z"
      },
      {
        "duration": 11,
        "start_time": "2023-05-17T20:17:32.587Z"
      },
      {
        "duration": 23,
        "start_time": "2023-05-17T20:17:32.600Z"
      },
      {
        "duration": 5198,
        "start_time": "2023-05-17T20:17:32.631Z"
      },
      {
        "duration": 4545,
        "start_time": "2023-05-17T20:17:37.835Z"
      },
      {
        "duration": 16927,
        "start_time": "2023-05-17T20:17:42.397Z"
      },
      {
        "duration": 1753,
        "start_time": "2023-05-17T20:17:59.327Z"
      },
      {
        "duration": 67,
        "start_time": "2023-05-17T20:18:01.085Z"
      },
      {
        "duration": 26,
        "start_time": "2023-05-17T20:18:01.155Z"
      },
      {
        "duration": 7,
        "start_time": "2023-05-17T20:18:01.191Z"
      },
      {
        "duration": 623,
        "start_time": "2023-05-17T20:18:01.202Z"
      },
      {
        "duration": 797,
        "start_time": "2023-05-17T20:18:01.827Z"
      },
      {
        "duration": 363,
        "start_time": "2023-05-17T20:18:02.630Z"
      },
      {
        "duration": 45,
        "start_time": "2023-05-17T20:18:03.000Z"
      },
      {
        "duration": 1422,
        "start_time": "2023-05-17T20:18:03.051Z"
      },
      {
        "duration": 212,
        "start_time": "2023-05-17T20:18:04.480Z"
      },
      {
        "duration": 195,
        "start_time": "2023-05-17T20:18:04.698Z"
      },
      {
        "duration": 3,
        "start_time": "2023-05-17T20:18:04.895Z"
      },
      {
        "duration": 24,
        "start_time": "2023-05-17T20:18:04.908Z"
      },
      {
        "duration": 129,
        "start_time": "2023-05-17T20:18:04.939Z"
      },
      {
        "duration": 9,
        "start_time": "2023-05-17T20:18:05.072Z"
      },
      {
        "duration": 6,
        "start_time": "2023-05-17T20:18:05.083Z"
      },
      {
        "duration": 12,
        "start_time": "2023-05-17T20:18:05.091Z"
      },
      {
        "duration": 28,
        "start_time": "2023-05-17T20:18:05.113Z"
      },
      {
        "duration": 35,
        "start_time": "2023-05-17T20:18:05.145Z"
      },
      {
        "duration": 22,
        "start_time": "2023-05-17T20:18:05.187Z"
      },
      {
        "duration": 25,
        "start_time": "2023-05-17T20:18:05.215Z"
      },
      {
        "duration": 64,
        "start_time": "2023-05-17T20:18:05.246Z"
      },
      {
        "duration": 1947,
        "start_time": "2023-05-17T20:18:05.316Z"
      },
      {
        "duration": 15,
        "start_time": "2023-05-17T20:18:07.273Z"
      },
      {
        "duration": 132,
        "start_time": "2023-05-17T20:18:07.297Z"
      },
      {
        "duration": 6068,
        "start_time": "2023-05-17T20:18:07.436Z"
      },
      {
        "duration": 11,
        "start_time": "2023-05-17T20:18:13.512Z"
      },
      {
        "duration": 171,
        "start_time": "2023-05-17T20:18:13.531Z"
      },
      {
        "duration": 14,
        "start_time": "2023-05-17T20:18:13.711Z"
      },
      {
        "duration": 13,
        "start_time": "2023-05-17T20:18:13.727Z"
      },
      {
        "duration": 10,
        "start_time": "2023-05-17T20:18:13.752Z"
      },
      {
        "duration": 4,
        "start_time": "2023-05-17T20:18:13.765Z"
      },
      {
        "duration": 12,
        "start_time": "2023-05-17T20:18:13.771Z"
      },
      {
        "duration": 1343,
        "start_time": "2023-05-17T20:25:58.141Z"
      },
      {
        "duration": 8242,
        "start_time": "2023-05-17T20:26:11.923Z"
      },
      {
        "duration": 4,
        "start_time": "2023-05-17T20:26:20.168Z"
      },
      {
        "duration": 51,
        "start_time": "2023-05-17T20:26:20.174Z"
      },
      {
        "duration": 16,
        "start_time": "2023-05-17T20:26:20.227Z"
      },
      {
        "duration": 16,
        "start_time": "2023-05-17T20:26:20.246Z"
      },
      {
        "duration": 37,
        "start_time": "2023-05-17T20:26:20.265Z"
      },
      {
        "duration": 19,
        "start_time": "2023-05-17T20:26:20.305Z"
      },
      {
        "duration": 5540,
        "start_time": "2023-05-17T20:26:20.326Z"
      },
      {
        "duration": 4572,
        "start_time": "2023-05-17T20:26:25.869Z"
      },
      {
        "duration": 16024,
        "start_time": "2023-05-17T20:26:30.446Z"
      },
      {
        "duration": 1695,
        "start_time": "2023-05-17T20:26:46.472Z"
      },
      {
        "duration": 35,
        "start_time": "2023-05-17T20:26:48.168Z"
      },
      {
        "duration": 28,
        "start_time": "2023-05-17T20:26:48.207Z"
      },
      {
        "duration": 8,
        "start_time": "2023-05-17T20:26:48.245Z"
      },
      {
        "duration": 549,
        "start_time": "2023-05-17T20:26:48.255Z"
      },
      {
        "duration": 656,
        "start_time": "2023-05-17T20:26:48.807Z"
      },
      {
        "duration": 307,
        "start_time": "2023-05-17T20:26:49.465Z"
      },
      {
        "duration": 73,
        "start_time": "2023-05-17T20:26:49.782Z"
      },
      {
        "duration": 1189,
        "start_time": "2023-05-17T20:26:49.862Z"
      },
      {
        "duration": 187,
        "start_time": "2023-05-17T20:26:51.056Z"
      },
      {
        "duration": 174,
        "start_time": "2023-05-17T20:26:51.247Z"
      },
      {
        "duration": 12,
        "start_time": "2023-05-17T20:26:51.425Z"
      },
      {
        "duration": 24,
        "start_time": "2023-05-17T20:26:51.439Z"
      },
      {
        "duration": 122,
        "start_time": "2023-05-17T20:26:51.465Z"
      },
      {
        "duration": 15,
        "start_time": "2023-05-17T20:26:51.589Z"
      },
      {
        "duration": 6,
        "start_time": "2023-05-17T20:26:51.608Z"
      },
      {
        "duration": 8,
        "start_time": "2023-05-17T20:26:51.616Z"
      },
      {
        "duration": 7,
        "start_time": "2023-05-17T20:26:51.626Z"
      },
      {
        "duration": 20,
        "start_time": "2023-05-17T20:26:51.635Z"
      },
      {
        "duration": 12,
        "start_time": "2023-05-17T20:26:51.657Z"
      },
      {
        "duration": 21,
        "start_time": "2023-05-17T20:26:51.678Z"
      },
      {
        "duration": 17,
        "start_time": "2023-05-17T20:26:51.702Z"
      },
      {
        "duration": 1802,
        "start_time": "2023-05-17T20:26:51.722Z"
      },
      {
        "duration": 11,
        "start_time": "2023-05-17T20:26:53.525Z"
      },
      {
        "duration": 120,
        "start_time": "2023-05-17T20:26:53.541Z"
      },
      {
        "duration": 5796,
        "start_time": "2023-05-17T20:26:53.665Z"
      },
      {
        "duration": 4,
        "start_time": "2023-05-17T20:26:59.463Z"
      },
      {
        "duration": 168,
        "start_time": "2023-05-17T20:26:59.468Z"
      },
      {
        "duration": 11,
        "start_time": "2023-05-17T20:26:59.642Z"
      },
      {
        "duration": 13,
        "start_time": "2023-05-17T20:26:59.655Z"
      },
      {
        "duration": 6,
        "start_time": "2023-05-17T20:26:59.672Z"
      },
      {
        "duration": 5,
        "start_time": "2023-05-17T20:26:59.680Z"
      },
      {
        "duration": 8,
        "start_time": "2023-05-17T20:26:59.687Z"
      },
      {
        "duration": 51,
        "start_time": "2023-05-17T21:05:48.409Z"
      },
      {
        "duration": 6905,
        "start_time": "2023-05-17T21:06:08.802Z"
      },
      {
        "duration": 4,
        "start_time": "2023-05-17T21:06:15.710Z"
      },
      {
        "duration": 13,
        "start_time": "2023-05-17T21:06:15.716Z"
      },
      {
        "duration": 27,
        "start_time": "2023-05-17T21:06:15.732Z"
      },
      {
        "duration": 11,
        "start_time": "2023-05-17T21:06:15.762Z"
      },
      {
        "duration": 11,
        "start_time": "2023-05-17T21:06:15.775Z"
      },
      {
        "duration": 16,
        "start_time": "2023-05-17T21:06:15.788Z"
      },
      {
        "duration": 3197,
        "start_time": "2023-05-17T21:06:15.806Z"
      },
      {
        "duration": 3408,
        "start_time": "2023-05-17T21:06:19.005Z"
      },
      {
        "duration": 14268,
        "start_time": "2023-05-17T21:06:22.416Z"
      },
      {
        "duration": 1600,
        "start_time": "2023-05-17T21:06:36.686Z"
      },
      {
        "duration": 42,
        "start_time": "2023-05-17T21:06:38.289Z"
      },
      {
        "duration": 23,
        "start_time": "2023-05-17T21:06:38.333Z"
      },
      {
        "duration": 17,
        "start_time": "2023-05-17T21:06:38.358Z"
      },
      {
        "duration": 403,
        "start_time": "2023-05-17T21:06:38.377Z"
      },
      {
        "duration": 632,
        "start_time": "2023-05-17T21:06:38.788Z"
      },
      {
        "duration": 266,
        "start_time": "2023-05-17T21:06:39.422Z"
      },
      {
        "duration": 45,
        "start_time": "2023-05-17T21:06:39.691Z"
      },
      {
        "duration": 1283,
        "start_time": "2023-05-17T21:06:39.738Z"
      },
      {
        "duration": 186,
        "start_time": "2023-05-17T21:06:41.023Z"
      },
      {
        "duration": 179,
        "start_time": "2023-05-17T21:06:41.211Z"
      },
      {
        "duration": 8,
        "start_time": "2023-05-17T21:06:41.395Z"
      },
      {
        "duration": 17,
        "start_time": "2023-05-17T21:06:41.405Z"
      },
      {
        "duration": 107,
        "start_time": "2023-05-17T21:06:41.424Z"
      },
      {
        "duration": 8,
        "start_time": "2023-05-17T21:06:41.533Z"
      },
      {
        "duration": 3,
        "start_time": "2023-05-17T21:06:41.543Z"
      },
      {
        "duration": 5,
        "start_time": "2023-05-17T21:06:41.548Z"
      },
      {
        "duration": 7,
        "start_time": "2023-05-17T21:06:41.582Z"
      },
      {
        "duration": 24,
        "start_time": "2023-05-17T21:06:41.593Z"
      },
      {
        "duration": 18,
        "start_time": "2023-05-17T21:06:41.619Z"
      },
      {
        "duration": 18,
        "start_time": "2023-05-17T21:06:41.641Z"
      },
      {
        "duration": 30,
        "start_time": "2023-05-17T21:06:41.661Z"
      },
      {
        "duration": 1534,
        "start_time": "2023-05-17T21:06:41.692Z"
      },
      {
        "duration": 5,
        "start_time": "2023-05-17T21:06:43.228Z"
      },
      {
        "duration": 112,
        "start_time": "2023-05-17T21:06:43.235Z"
      },
      {
        "duration": 4889,
        "start_time": "2023-05-17T21:06:43.350Z"
      },
      {
        "duration": 3,
        "start_time": "2023-05-17T21:06:48.241Z"
      },
      {
        "duration": 135,
        "start_time": "2023-05-17T21:06:48.246Z"
      },
      {
        "duration": 3,
        "start_time": "2023-05-17T21:06:48.382Z"
      },
      {
        "duration": 9,
        "start_time": "2023-05-17T21:06:48.389Z"
      },
      {
        "duration": 24,
        "start_time": "2023-05-17T21:06:48.401Z"
      },
      {
        "duration": 1607,
        "start_time": "2023-05-17T21:06:48.427Z"
      },
      {
        "duration": 77,
        "start_time": "2023-05-17T21:07:07.962Z"
      },
      {
        "duration": 21,
        "start_time": "2023-05-17T21:11:40.519Z"
      },
      {
        "duration": 19,
        "start_time": "2023-05-17T21:11:56.305Z"
      },
      {
        "duration": 15,
        "start_time": "2023-05-17T21:12:14.354Z"
      },
      {
        "duration": 2520,
        "start_time": "2023-05-17T21:12:51.804Z"
      },
      {
        "duration": 35,
        "start_time": "2023-05-17T21:13:17.656Z"
      },
      {
        "duration": 16,
        "start_time": "2023-05-17T21:14:49.211Z"
      },
      {
        "duration": 2575,
        "start_time": "2023-05-17T21:15:44.349Z"
      },
      {
        "duration": 2,
        "start_time": "2023-05-17T21:18:16.047Z"
      },
      {
        "duration": 1057,
        "start_time": "2023-05-17T21:18:52.005Z"
      },
      {
        "duration": 18,
        "start_time": "2023-05-17T21:20:02.851Z"
      },
      {
        "duration": 6,
        "start_time": "2023-05-17T21:21:31.898Z"
      },
      {
        "duration": 3235,
        "start_time": "2023-05-17T21:21:59.526Z"
      },
      {
        "duration": 44,
        "start_time": "2023-05-17T21:22:27.257Z"
      },
      {
        "duration": 9753,
        "start_time": "2023-05-17T21:23:15.116Z"
      },
      {
        "duration": 19,
        "start_time": "2023-05-17T21:23:27.303Z"
      },
      {
        "duration": 1352,
        "start_time": "2023-05-17T21:23:43.953Z"
      },
      {
        "duration": 10,
        "start_time": "2023-05-17T21:30:49.817Z"
      },
      {
        "duration": 306,
        "start_time": "2023-05-17T21:31:45.340Z"
      },
      {
        "duration": 467,
        "start_time": "2023-05-17T21:32:48.901Z"
      },
      {
        "duration": 482,
        "start_time": "2023-05-17T21:35:18.507Z"
      },
      {
        "duration": 429,
        "start_time": "2023-05-17T21:35:48.208Z"
      },
      {
        "duration": 427,
        "start_time": "2023-05-17T21:36:33.401Z"
      },
      {
        "duration": 184,
        "start_time": "2023-05-17T21:37:24.427Z"
      },
      {
        "duration": 52,
        "start_time": "2023-05-17T21:37:32.393Z"
      },
      {
        "duration": 2436,
        "start_time": "2023-05-17T21:38:47.844Z"
      },
      {
        "duration": 471,
        "start_time": "2023-05-17T21:39:22.417Z"
      },
      {
        "duration": 9,
        "start_time": "2023-05-17T21:43:11.148Z"
      },
      {
        "duration": 13,
        "start_time": "2023-05-17T21:44:51.557Z"
      },
      {
        "duration": 14,
        "start_time": "2023-05-17T21:45:27.491Z"
      },
      {
        "duration": 20,
        "start_time": "2023-05-17T21:45:47.200Z"
      },
      {
        "duration": 6843,
        "start_time": "2023-05-17T21:46:13.647Z"
      },
      {
        "duration": 7,
        "start_time": "2023-05-17T21:46:23.898Z"
      },
      {
        "duration": 16,
        "start_time": "2023-05-17T21:46:24.263Z"
      },
      {
        "duration": 8,
        "start_time": "2023-05-17T21:46:24.456Z"
      },
      {
        "duration": 9,
        "start_time": "2023-05-17T21:46:24.700Z"
      },
      {
        "duration": 10,
        "start_time": "2023-05-17T21:46:24.800Z"
      },
      {
        "duration": 5,
        "start_time": "2023-05-17T21:46:25.076Z"
      },
      {
        "duration": 1249,
        "start_time": "2023-05-17T21:46:25.444Z"
      },
      {
        "duration": 4830,
        "start_time": "2023-05-17T21:46:26.695Z"
      },
      {
        "duration": 16288,
        "start_time": "2023-05-17T21:46:31.532Z"
      },
      {
        "duration": 1600,
        "start_time": "2023-05-17T21:46:47.823Z"
      },
      {
        "duration": 46,
        "start_time": "2023-05-17T21:46:49.426Z"
      },
      {
        "duration": 38,
        "start_time": "2023-05-17T21:46:49.475Z"
      },
      {
        "duration": 3,
        "start_time": "2023-05-17T21:46:49.516Z"
      },
      {
        "duration": 621,
        "start_time": "2023-05-17T21:46:49.523Z"
      },
      {
        "duration": 664,
        "start_time": "2023-05-17T21:46:50.146Z"
      },
      {
        "duration": 280,
        "start_time": "2023-05-17T21:46:50.815Z"
      },
      {
        "duration": 32,
        "start_time": "2023-05-17T21:46:51.105Z"
      },
      {
        "duration": 1530,
        "start_time": "2023-05-17T21:46:51.142Z"
      },
      {
        "duration": 195,
        "start_time": "2023-05-17T21:46:52.674Z"
      },
      {
        "duration": 162,
        "start_time": "2023-05-17T21:46:52.871Z"
      },
      {
        "duration": 11,
        "start_time": "2023-05-17T21:46:53.034Z"
      },
      {
        "duration": 13,
        "start_time": "2023-05-17T21:46:53.047Z"
      },
      {
        "duration": 122,
        "start_time": "2023-05-17T21:46:53.063Z"
      },
      {
        "duration": 34,
        "start_time": "2023-05-17T21:46:53.190Z"
      },
      {
        "duration": 5,
        "start_time": "2023-05-17T21:46:53.240Z"
      },
      {
        "duration": 4,
        "start_time": "2023-05-17T21:46:53.247Z"
      },
      {
        "duration": 4,
        "start_time": "2023-05-17T21:46:53.253Z"
      },
      {
        "duration": 22,
        "start_time": "2023-05-17T21:46:53.258Z"
      },
      {
        "duration": 26,
        "start_time": "2023-05-17T21:46:53.282Z"
      },
      {
        "duration": 27,
        "start_time": "2023-05-17T21:46:53.311Z"
      },
      {
        "duration": 15,
        "start_time": "2023-05-17T21:46:53.339Z"
      },
      {
        "duration": 1602,
        "start_time": "2023-05-17T21:46:53.356Z"
      },
      {
        "duration": 4,
        "start_time": "2023-05-17T21:46:54.960Z"
      },
      {
        "duration": 128,
        "start_time": "2023-05-17T21:46:54.968Z"
      },
      {
        "duration": 5636,
        "start_time": "2023-05-17T21:46:55.098Z"
      },
      {
        "duration": 2,
        "start_time": "2023-05-17T21:47:00.736Z"
      },
      {
        "duration": 143,
        "start_time": "2023-05-17T21:47:00.739Z"
      },
      {
        "duration": 45,
        "start_time": "2023-05-17T21:47:00.884Z"
      },
      {
        "duration": 97,
        "start_time": "2023-05-17T21:47:00.931Z"
      },
      {
        "duration": 10,
        "start_time": "2023-05-17T21:47:01.030Z"
      },
      {
        "duration": 51,
        "start_time": "2023-05-17T21:47:01.042Z"
      },
      {
        "duration": 41,
        "start_time": "2023-05-17T21:47:01.095Z"
      },
      {
        "duration": 32,
        "start_time": "2023-05-17T21:47:01.138Z"
      },
      {
        "duration": 38,
        "start_time": "2023-05-17T21:47:01.172Z"
      },
      {
        "duration": 681,
        "start_time": "2023-05-17T21:47:01.212Z"
      },
      {
        "duration": 17,
        "start_time": "2023-05-17T21:47:01.895Z"
      },
      {
        "duration": 2450,
        "start_time": "2023-05-17T21:48:25.507Z"
      },
      {
        "duration": 2299,
        "start_time": "2023-05-17T21:48:38.325Z"
      },
      {
        "duration": 2517,
        "start_time": "2023-05-17T21:50:44.102Z"
      },
      {
        "duration": 7743,
        "start_time": "2023-05-17T21:51:10.343Z"
      },
      {
        "duration": 10,
        "start_time": "2023-05-17T21:51:18.093Z"
      },
      {
        "duration": 15,
        "start_time": "2023-05-17T21:51:18.108Z"
      },
      {
        "duration": 9,
        "start_time": "2023-05-17T21:51:18.131Z"
      },
      {
        "duration": 10,
        "start_time": "2023-05-17T21:51:18.146Z"
      },
      {
        "duration": 9,
        "start_time": "2023-05-17T21:51:18.158Z"
      },
      {
        "duration": 10,
        "start_time": "2023-05-17T21:51:18.169Z"
      },
      {
        "duration": 1144,
        "start_time": "2023-05-17T21:51:18.181Z"
      },
      {
        "duration": 3983,
        "start_time": "2023-05-17T21:51:19.327Z"
      },
      {
        "duration": 15557,
        "start_time": "2023-05-17T21:51:23.317Z"
      },
      {
        "duration": 1557,
        "start_time": "2023-05-17T21:51:38.884Z"
      },
      {
        "duration": 49,
        "start_time": "2023-05-17T21:51:40.447Z"
      },
      {
        "duration": 30,
        "start_time": "2023-05-17T21:51:40.508Z"
      },
      {
        "duration": 3,
        "start_time": "2023-05-17T21:51:40.541Z"
      },
      {
        "duration": 423,
        "start_time": "2023-05-17T21:51:40.545Z"
      },
      {
        "duration": 624,
        "start_time": "2023-05-17T21:51:40.970Z"
      },
      {
        "duration": 268,
        "start_time": "2023-05-17T21:51:41.600Z"
      },
      {
        "duration": 71,
        "start_time": "2023-05-17T21:51:41.870Z"
      },
      {
        "duration": 1242,
        "start_time": "2023-05-17T21:51:41.945Z"
      },
      {
        "duration": 196,
        "start_time": "2023-05-17T21:51:43.189Z"
      },
      {
        "duration": 170,
        "start_time": "2023-05-17T21:51:43.391Z"
      },
      {
        "duration": 3,
        "start_time": "2023-05-17T21:51:43.563Z"
      },
      {
        "duration": 38,
        "start_time": "2023-05-17T21:51:43.568Z"
      },
      {
        "duration": 101,
        "start_time": "2023-05-17T21:51:43.608Z"
      },
      {
        "duration": 17,
        "start_time": "2023-05-17T21:51:43.714Z"
      },
      {
        "duration": 14,
        "start_time": "2023-05-17T21:51:43.733Z"
      },
      {
        "duration": 4,
        "start_time": "2023-05-17T21:51:43.755Z"
      },
      {
        "duration": 3,
        "start_time": "2023-05-17T21:51:43.763Z"
      },
      {
        "duration": 16,
        "start_time": "2023-05-17T21:51:43.768Z"
      },
      {
        "duration": 19,
        "start_time": "2023-05-17T21:51:43.791Z"
      },
      {
        "duration": 29,
        "start_time": "2023-05-17T21:51:43.815Z"
      },
      {
        "duration": 13,
        "start_time": "2023-05-17T21:51:43.851Z"
      },
      {
        "duration": 1711,
        "start_time": "2023-05-17T21:51:43.865Z"
      },
      {
        "duration": 11,
        "start_time": "2023-05-17T21:51:45.580Z"
      },
      {
        "duration": 128,
        "start_time": "2023-05-17T21:51:45.597Z"
      },
      {
        "duration": 5396,
        "start_time": "2023-05-17T21:51:45.727Z"
      },
      {
        "duration": 4,
        "start_time": "2023-05-17T21:51:51.125Z"
      },
      {
        "duration": 99,
        "start_time": "2023-05-17T21:51:51.131Z"
      },
      {
        "duration": 7,
        "start_time": "2023-05-17T21:51:51.235Z"
      },
      {
        "duration": 91,
        "start_time": "2023-05-17T21:51:51.247Z"
      },
      {
        "duration": 2,
        "start_time": "2023-05-17T21:51:51.340Z"
      },
      {
        "duration": 18,
        "start_time": "2023-05-17T21:51:51.344Z"
      },
      {
        "duration": 33,
        "start_time": "2023-05-17T21:51:51.363Z"
      },
      {
        "duration": 3,
        "start_time": "2023-05-17T21:51:51.402Z"
      },
      {
        "duration": 3,
        "start_time": "2023-05-17T21:51:51.406Z"
      },
      {
        "duration": 453,
        "start_time": "2023-05-17T21:51:51.410Z"
      },
      {
        "duration": 2468,
        "start_time": "2023-05-17T21:51:51.865Z"
      },
      {
        "duration": 2331,
        "start_time": "2023-05-17T21:52:39.900Z"
      },
      {
        "duration": 2269,
        "start_time": "2023-05-17T21:52:56.940Z"
      },
      {
        "duration": 1587,
        "start_time": "2023-05-17T22:04:25.399Z"
      },
      {
        "duration": 2203,
        "start_time": "2023-05-17T22:06:19.514Z"
      },
      {
        "duration": 2315,
        "start_time": "2023-05-17T22:07:03.822Z"
      },
      {
        "duration": 2210,
        "start_time": "2023-05-17T22:07:15.524Z"
      },
      {
        "duration": 25,
        "start_time": "2023-05-17T22:08:58.402Z"
      },
      {
        "duration": 2938,
        "start_time": "2023-05-17T22:09:03.555Z"
      },
      {
        "duration": 3,
        "start_time": "2023-05-17T22:09:25.721Z"
      },
      {
        "duration": 7236,
        "start_time": "2023-05-18T16:57:02.081Z"
      },
      {
        "duration": 3,
        "start_time": "2023-05-18T16:57:09.320Z"
      },
      {
        "duration": 11,
        "start_time": "2023-05-18T16:57:09.325Z"
      },
      {
        "duration": 13,
        "start_time": "2023-05-18T16:57:09.338Z"
      },
      {
        "duration": 10,
        "start_time": "2023-05-18T16:57:09.352Z"
      },
      {
        "duration": 16,
        "start_time": "2023-05-18T16:57:09.364Z"
      },
      {
        "duration": 26,
        "start_time": "2023-05-18T16:57:09.381Z"
      },
      {
        "duration": 2777,
        "start_time": "2023-05-18T16:57:09.409Z"
      },
      {
        "duration": 2440,
        "start_time": "2023-05-18T16:57:12.187Z"
      },
      {
        "duration": 10104,
        "start_time": "2023-05-18T16:57:14.630Z"
      },
      {
        "duration": 1227,
        "start_time": "2023-05-18T16:57:24.736Z"
      },
      {
        "duration": 33,
        "start_time": "2023-05-18T16:57:25.965Z"
      },
      {
        "duration": 18,
        "start_time": "2023-05-18T16:57:26.000Z"
      },
      {
        "duration": 2,
        "start_time": "2023-05-18T16:57:26.020Z"
      },
      {
        "duration": 288,
        "start_time": "2023-05-18T16:57:26.024Z"
      },
      {
        "duration": 440,
        "start_time": "2023-05-18T16:57:26.314Z"
      },
      {
        "duration": 163,
        "start_time": "2023-05-18T16:57:26.756Z"
      },
      {
        "duration": 28,
        "start_time": "2023-05-18T16:57:26.920Z"
      },
      {
        "duration": 991,
        "start_time": "2023-05-18T16:57:26.950Z"
      },
      {
        "duration": 142,
        "start_time": "2023-05-18T16:57:27.943Z"
      },
      {
        "duration": 111,
        "start_time": "2023-05-18T16:57:28.088Z"
      },
      {
        "duration": 3,
        "start_time": "2023-05-18T16:57:28.200Z"
      },
      {
        "duration": 19,
        "start_time": "2023-05-18T16:57:28.205Z"
      },
      {
        "duration": 65,
        "start_time": "2023-05-18T16:57:28.225Z"
      },
      {
        "duration": 5,
        "start_time": "2023-05-18T16:57:28.291Z"
      },
      {
        "duration": 3,
        "start_time": "2023-05-18T16:57:28.298Z"
      },
      {
        "duration": 4,
        "start_time": "2023-05-18T16:57:28.302Z"
      },
      {
        "duration": 6,
        "start_time": "2023-05-18T16:57:28.310Z"
      },
      {
        "duration": 16,
        "start_time": "2023-05-18T16:57:28.317Z"
      },
      {
        "duration": 11,
        "start_time": "2023-05-18T16:57:28.335Z"
      },
      {
        "duration": 38,
        "start_time": "2023-05-18T16:57:28.347Z"
      },
      {
        "duration": 13,
        "start_time": "2023-05-18T16:57:28.387Z"
      },
      {
        "duration": 1243,
        "start_time": "2023-05-18T16:57:28.402Z"
      },
      {
        "duration": 3,
        "start_time": "2023-05-18T16:57:29.646Z"
      },
      {
        "duration": 64,
        "start_time": "2023-05-18T16:57:29.650Z"
      },
      {
        "duration": 3500,
        "start_time": "2023-05-18T16:57:29.715Z"
      },
      {
        "duration": 2,
        "start_time": "2023-05-18T16:57:33.217Z"
      },
      {
        "duration": 67,
        "start_time": "2023-05-18T16:57:33.220Z"
      },
      {
        "duration": 2,
        "start_time": "2023-05-18T16:57:33.289Z"
      },
      {
        "duration": 64,
        "start_time": "2023-05-18T16:57:33.292Z"
      },
      {
        "duration": 17,
        "start_time": "2023-05-18T16:57:33.358Z"
      },
      {
        "duration": 12,
        "start_time": "2023-05-18T16:57:33.377Z"
      },
      {
        "duration": 12,
        "start_time": "2023-05-18T16:57:33.391Z"
      },
      {
        "duration": 4,
        "start_time": "2023-05-18T16:57:33.404Z"
      },
      {
        "duration": 4,
        "start_time": "2023-05-18T16:57:33.409Z"
      },
      {
        "duration": 399,
        "start_time": "2023-05-18T16:57:33.414Z"
      },
      {
        "duration": 2,
        "start_time": "2023-05-18T16:57:33.814Z"
      },
      {
        "duration": 2163,
        "start_time": "2023-05-18T16:57:33.818Z"
      },
      {
        "duration": 11,
        "start_time": "2023-05-18T17:04:02.007Z"
      },
      {
        "duration": 62,
        "start_time": "2023-05-18T17:05:16.453Z"
      },
      {
        "duration": 115,
        "start_time": "2023-05-18T17:32:40.994Z"
      },
      {
        "duration": 9,
        "start_time": "2023-05-18T17:33:08.058Z"
      },
      {
        "duration": 12,
        "start_time": "2023-05-18T17:33:17.206Z"
      },
      {
        "duration": 581,
        "start_time": "2023-05-18T17:34:09.899Z"
      },
      {
        "duration": 12,
        "start_time": "2023-05-18T17:37:12.794Z"
      },
      {
        "duration": 207,
        "start_time": "2023-05-18T17:37:59.338Z"
      },
      {
        "duration": 197,
        "start_time": "2023-05-18T17:39:58.627Z"
      },
      {
        "duration": 1991,
        "start_time": "2023-05-18T17:47:20.517Z"
      },
      {
        "duration": 2055,
        "start_time": "2023-05-18T17:47:31.210Z"
      },
      {
        "duration": 1244,
        "start_time": "2023-05-18T17:49:36.902Z"
      },
      {
        "duration": 734,
        "start_time": "2023-05-18T17:50:05.606Z"
      },
      {
        "duration": 553,
        "start_time": "2023-05-18T17:59:35.081Z"
      },
      {
        "duration": 557,
        "start_time": "2023-05-18T17:59:48.842Z"
      },
      {
        "duration": 5198,
        "start_time": "2023-05-18T18:00:28.337Z"
      },
      {
        "duration": 695,
        "start_time": "2023-05-18T18:00:43.062Z"
      },
      {
        "duration": 1025,
        "start_time": "2023-05-18T18:06:49.346Z"
      },
      {
        "duration": 637,
        "start_time": "2023-05-18T18:07:22.190Z"
      },
      {
        "duration": 623,
        "start_time": "2023-05-18T18:10:12.204Z"
      },
      {
        "duration": 2,
        "start_time": "2023-05-18T18:11:09.881Z"
      },
      {
        "duration": 940,
        "start_time": "2023-05-18T18:12:22.275Z"
      },
      {
        "duration": 10,
        "start_time": "2023-05-18T18:12:41.471Z"
      },
      {
        "duration": 6170,
        "start_time": "2023-05-18T18:13:02.282Z"
      },
      {
        "duration": 3,
        "start_time": "2023-05-18T18:13:08.454Z"
      },
      {
        "duration": 8,
        "start_time": "2023-05-18T18:13:08.459Z"
      },
      {
        "duration": 15,
        "start_time": "2023-05-18T18:13:08.469Z"
      },
      {
        "duration": 6,
        "start_time": "2023-05-18T18:13:08.489Z"
      },
      {
        "duration": 6,
        "start_time": "2023-05-18T18:13:08.497Z"
      },
      {
        "duration": 6,
        "start_time": "2023-05-18T18:13:08.504Z"
      },
      {
        "duration": 3048,
        "start_time": "2023-05-18T18:13:08.511Z"
      },
      {
        "duration": 2764,
        "start_time": "2023-05-18T18:13:11.561Z"
      },
      {
        "duration": 10835,
        "start_time": "2023-05-18T18:13:14.328Z"
      },
      {
        "duration": 1323,
        "start_time": "2023-05-18T18:13:25.164Z"
      },
      {
        "duration": 32,
        "start_time": "2023-05-18T18:13:26.491Z"
      },
      {
        "duration": 18,
        "start_time": "2023-05-18T18:13:26.525Z"
      },
      {
        "duration": 2,
        "start_time": "2023-05-18T18:13:26.544Z"
      },
      {
        "duration": 297,
        "start_time": "2023-05-18T18:13:26.548Z"
      },
      {
        "duration": 444,
        "start_time": "2023-05-18T18:13:26.847Z"
      },
      {
        "duration": 171,
        "start_time": "2023-05-18T18:13:27.293Z"
      },
      {
        "duration": 35,
        "start_time": "2023-05-18T18:13:27.465Z"
      },
      {
        "duration": 1157,
        "start_time": "2023-05-18T18:13:27.502Z"
      },
      {
        "duration": 136,
        "start_time": "2023-05-18T18:13:28.660Z"
      },
      {
        "duration": 105,
        "start_time": "2023-05-18T18:13:28.798Z"
      },
      {
        "duration": 3,
        "start_time": "2023-05-18T18:13:28.904Z"
      },
      {
        "duration": 15,
        "start_time": "2023-05-18T18:13:28.909Z"
      },
      {
        "duration": 77,
        "start_time": "2023-05-18T18:13:28.926Z"
      },
      {
        "duration": 5,
        "start_time": "2023-05-18T18:13:29.005Z"
      },
      {
        "duration": 2,
        "start_time": "2023-05-18T18:13:29.012Z"
      },
      {
        "duration": 7,
        "start_time": "2023-05-18T18:13:29.016Z"
      },
      {
        "duration": 5,
        "start_time": "2023-05-18T18:13:29.026Z"
      },
      {
        "duration": 16,
        "start_time": "2023-05-18T18:13:29.032Z"
      },
      {
        "duration": 41,
        "start_time": "2023-05-18T18:13:29.050Z"
      },
      {
        "duration": 15,
        "start_time": "2023-05-18T18:13:29.092Z"
      },
      {
        "duration": 14,
        "start_time": "2023-05-18T18:13:29.109Z"
      },
      {
        "duration": 1337,
        "start_time": "2023-05-18T18:13:29.124Z"
      },
      {
        "duration": 25,
        "start_time": "2023-05-18T18:13:30.463Z"
      },
      {
        "duration": 81,
        "start_time": "2023-05-18T18:13:30.490Z"
      },
      {
        "duration": 3610,
        "start_time": "2023-05-18T18:13:30.573Z"
      },
      {
        "duration": 4,
        "start_time": "2023-05-18T18:13:34.186Z"
      },
      {
        "duration": 85,
        "start_time": "2023-05-18T18:13:34.192Z"
      },
      {
        "duration": 7,
        "start_time": "2023-05-18T18:13:34.279Z"
      },
      {
        "duration": 13,
        "start_time": "2023-05-18T18:13:34.293Z"
      },
      {
        "duration": 80,
        "start_time": "2023-05-18T18:13:34.308Z"
      },
      {
        "duration": 2,
        "start_time": "2023-05-18T18:13:34.389Z"
      },
      {
        "duration": 22,
        "start_time": "2023-05-18T18:13:34.394Z"
      },
      {
        "duration": 16,
        "start_time": "2023-05-18T18:13:34.418Z"
      },
      {
        "duration": 689,
        "start_time": "2023-05-18T18:13:34.435Z"
      },
      {
        "duration": 0,
        "start_time": "2023-05-18T18:13:35.126Z"
      },
      {
        "duration": 0,
        "start_time": "2023-05-18T18:13:35.127Z"
      },
      {
        "duration": 0,
        "start_time": "2023-05-18T18:13:35.128Z"
      },
      {
        "duration": 0,
        "start_time": "2023-05-18T18:13:35.129Z"
      },
      {
        "duration": 867,
        "start_time": "2023-05-18T18:14:12.995Z"
      },
      {
        "duration": 578,
        "start_time": "2023-05-18T18:14:21.413Z"
      },
      {
        "duration": 2,
        "start_time": "2023-05-18T18:16:36.384Z"
      },
      {
        "duration": 12,
        "start_time": "2023-05-18T18:24:13.033Z"
      },
      {
        "duration": 90,
        "start_time": "2023-05-18T18:29:54.145Z"
      },
      {
        "duration": 658,
        "start_time": "2023-05-18T18:30:09.903Z"
      },
      {
        "duration": 4617,
        "start_time": "2023-05-18T18:30:19.946Z"
      },
      {
        "duration": 12,
        "start_time": "2023-05-18T18:33:10.983Z"
      },
      {
        "duration": 17,
        "start_time": "2023-05-18T18:44:58.817Z"
      },
      {
        "duration": 4213,
        "start_time": "2023-05-18T18:45:43.398Z"
      },
      {
        "duration": 5737,
        "start_time": "2023-05-18T18:46:03.853Z"
      },
      {
        "duration": 3,
        "start_time": "2023-05-18T18:46:09.592Z"
      },
      {
        "duration": 8,
        "start_time": "2023-05-18T18:46:09.597Z"
      },
      {
        "duration": 6,
        "start_time": "2023-05-18T18:46:09.607Z"
      },
      {
        "duration": 7,
        "start_time": "2023-05-18T18:46:09.615Z"
      },
      {
        "duration": 7,
        "start_time": "2023-05-18T18:46:09.623Z"
      },
      {
        "duration": 6,
        "start_time": "2023-05-18T18:46:09.631Z"
      },
      {
        "duration": 762,
        "start_time": "2023-05-18T18:46:09.638Z"
      },
      {
        "duration": 2519,
        "start_time": "2023-05-18T18:46:10.402Z"
      },
      {
        "duration": 10122,
        "start_time": "2023-05-18T18:46:12.924Z"
      },
      {
        "duration": 1335,
        "start_time": "2023-05-18T18:46:23.048Z"
      },
      {
        "duration": 25,
        "start_time": "2023-05-18T18:46:24.385Z"
      },
      {
        "duration": 19,
        "start_time": "2023-05-18T18:46:24.411Z"
      },
      {
        "duration": 2,
        "start_time": "2023-05-18T18:46:24.431Z"
      },
      {
        "duration": 274,
        "start_time": "2023-05-18T18:46:24.435Z"
      },
      {
        "duration": 442,
        "start_time": "2023-05-18T18:46:24.710Z"
      },
      {
        "duration": 160,
        "start_time": "2023-05-18T18:46:25.153Z"
      },
      {
        "duration": 28,
        "start_time": "2023-05-18T18:46:25.314Z"
      },
      {
        "duration": 897,
        "start_time": "2023-05-18T18:46:25.344Z"
      },
      {
        "duration": 139,
        "start_time": "2023-05-18T18:46:26.242Z"
      },
      {
        "duration": 95,
        "start_time": "2023-05-18T18:46:26.382Z"
      },
      {
        "duration": 2,
        "start_time": "2023-05-18T18:46:26.479Z"
      },
      {
        "duration": 14,
        "start_time": "2023-05-18T18:46:26.483Z"
      },
      {
        "duration": 54,
        "start_time": "2023-05-18T18:46:26.498Z"
      },
      {
        "duration": 4,
        "start_time": "2023-05-18T18:46:26.553Z"
      },
      {
        "duration": 16,
        "start_time": "2023-05-18T18:46:26.559Z"
      },
      {
        "duration": 5,
        "start_time": "2023-05-18T18:46:26.576Z"
      },
      {
        "duration": 4,
        "start_time": "2023-05-18T18:46:26.584Z"
      },
      {
        "duration": 14,
        "start_time": "2023-05-18T18:46:26.589Z"
      },
      {
        "duration": 9,
        "start_time": "2023-05-18T18:46:26.605Z"
      },
      {
        "duration": 15,
        "start_time": "2023-05-18T18:46:26.616Z"
      },
      {
        "duration": 12,
        "start_time": "2023-05-18T18:46:26.633Z"
      },
      {
        "duration": 1241,
        "start_time": "2023-05-18T18:46:26.646Z"
      },
      {
        "duration": 3,
        "start_time": "2023-05-18T18:46:27.888Z"
      },
      {
        "duration": 68,
        "start_time": "2023-05-18T18:46:27.893Z"
      },
      {
        "duration": 3438,
        "start_time": "2023-05-18T18:46:27.962Z"
      },
      {
        "duration": 2,
        "start_time": "2023-05-18T18:46:31.402Z"
      },
      {
        "duration": 69,
        "start_time": "2023-05-18T18:46:31.405Z"
      },
      {
        "duration": 18,
        "start_time": "2023-05-18T18:46:31.475Z"
      },
      {
        "duration": 24,
        "start_time": "2023-05-18T18:46:31.495Z"
      },
      {
        "duration": 84,
        "start_time": "2023-05-18T18:46:31.521Z"
      },
      {
        "duration": 2,
        "start_time": "2023-05-18T18:46:31.607Z"
      },
      {
        "duration": 29,
        "start_time": "2023-05-18T18:46:31.610Z"
      },
      {
        "duration": 9,
        "start_time": "2023-05-18T18:46:31.641Z"
      },
      {
        "duration": 6,
        "start_time": "2023-05-18T18:46:31.652Z"
      },
      {
        "duration": 132,
        "start_time": "2023-05-18T18:46:31.659Z"
      },
      {
        "duration": 0,
        "start_time": "2023-05-18T18:46:31.792Z"
      },
      {
        "duration": 0,
        "start_time": "2023-05-18T18:46:31.794Z"
      },
      {
        "duration": 0,
        "start_time": "2023-05-18T18:46:31.795Z"
      },
      {
        "duration": 4313,
        "start_time": "2023-05-18T18:50:36.950Z"
      },
      {
        "duration": 3,
        "start_time": "2023-05-18T18:50:41.266Z"
      },
      {
        "duration": 7,
        "start_time": "2023-05-18T18:50:41.272Z"
      },
      {
        "duration": 10,
        "start_time": "2023-05-18T18:50:41.281Z"
      },
      {
        "duration": 13,
        "start_time": "2023-05-18T18:50:41.292Z"
      },
      {
        "duration": 8,
        "start_time": "2023-05-18T18:50:41.306Z"
      },
      {
        "duration": 5,
        "start_time": "2023-05-18T18:50:41.316Z"
      },
      {
        "duration": 788,
        "start_time": "2023-05-18T18:50:41.323Z"
      },
      {
        "duration": 2748,
        "start_time": "2023-05-18T18:50:42.113Z"
      },
      {
        "duration": 10194,
        "start_time": "2023-05-18T18:50:44.865Z"
      },
      {
        "duration": 1217,
        "start_time": "2023-05-18T18:50:55.061Z"
      },
      {
        "duration": 28,
        "start_time": "2023-05-18T18:50:56.279Z"
      },
      {
        "duration": 18,
        "start_time": "2023-05-18T18:50:56.309Z"
      },
      {
        "duration": 11,
        "start_time": "2023-05-18T18:50:56.328Z"
      },
      {
        "duration": 286,
        "start_time": "2023-05-18T18:50:56.340Z"
      },
      {
        "duration": 448,
        "start_time": "2023-05-18T18:50:56.627Z"
      },
      {
        "duration": 169,
        "start_time": "2023-05-18T18:50:57.076Z"
      },
      {
        "duration": 40,
        "start_time": "2023-05-18T18:50:57.247Z"
      },
      {
        "duration": 975,
        "start_time": "2023-05-18T18:50:57.289Z"
      },
      {
        "duration": 125,
        "start_time": "2023-05-18T18:50:58.274Z"
      },
      {
        "duration": 105,
        "start_time": "2023-05-18T18:50:58.401Z"
      },
      {
        "duration": 3,
        "start_time": "2023-05-18T18:50:58.508Z"
      },
      {
        "duration": 13,
        "start_time": "2023-05-18T18:50:58.512Z"
      },
      {
        "duration": 64,
        "start_time": "2023-05-18T18:50:58.527Z"
      },
      {
        "duration": 4,
        "start_time": "2023-05-18T18:50:58.593Z"
      },
      {
        "duration": 14,
        "start_time": "2023-05-18T18:50:58.598Z"
      },
      {
        "duration": 19,
        "start_time": "2023-05-18T18:50:58.614Z"
      },
      {
        "duration": 3,
        "start_time": "2023-05-18T18:50:58.637Z"
      },
      {
        "duration": 20,
        "start_time": "2023-05-18T18:50:58.641Z"
      },
      {
        "duration": 12,
        "start_time": "2023-05-18T18:50:58.663Z"
      },
      {
        "duration": 17,
        "start_time": "2023-05-18T18:50:58.677Z"
      },
      {
        "duration": 14,
        "start_time": "2023-05-18T18:50:58.696Z"
      },
      {
        "duration": 1117,
        "start_time": "2023-05-18T18:50:58.712Z"
      },
      {
        "duration": 4,
        "start_time": "2023-05-18T18:50:59.830Z"
      },
      {
        "duration": 65,
        "start_time": "2023-05-18T18:50:59.835Z"
      },
      {
        "duration": 3555,
        "start_time": "2023-05-18T18:50:59.902Z"
      },
      {
        "duration": 3,
        "start_time": "2023-05-18T18:51:03.458Z"
      },
      {
        "duration": 68,
        "start_time": "2023-05-18T18:51:03.462Z"
      },
      {
        "duration": 5,
        "start_time": "2023-05-18T18:51:03.532Z"
      },
      {
        "duration": 19,
        "start_time": "2023-05-18T18:51:03.538Z"
      },
      {
        "duration": 74,
        "start_time": "2023-05-18T18:51:03.559Z"
      },
      {
        "duration": 3,
        "start_time": "2023-05-18T18:51:03.634Z"
      },
      {
        "duration": 14,
        "start_time": "2023-05-18T18:51:03.638Z"
      },
      {
        "duration": 23,
        "start_time": "2023-05-18T18:51:03.654Z"
      },
      {
        "duration": 3,
        "start_time": "2023-05-18T18:51:03.678Z"
      },
      {
        "duration": 18,
        "start_time": "2023-05-18T18:51:03.682Z"
      },
      {
        "duration": 0,
        "start_time": "2023-05-18T18:51:03.702Z"
      },
      {
        "duration": 0,
        "start_time": "2023-05-18T18:51:03.703Z"
      },
      {
        "duration": 0,
        "start_time": "2023-05-18T18:51:03.704Z"
      },
      {
        "duration": 16,
        "start_time": "2023-05-18T18:51:38.192Z"
      },
      {
        "duration": 18,
        "start_time": "2023-05-18T18:52:05.422Z"
      },
      {
        "duration": 18,
        "start_time": "2023-05-18T18:52:12.621Z"
      },
      {
        "duration": 6599,
        "start_time": "2023-05-18T18:58:13.065Z"
      },
      {
        "duration": 6600,
        "start_time": "2023-05-18T18:59:26.790Z"
      },
      {
        "duration": 7566,
        "start_time": "2023-05-18T18:59:42.756Z"
      },
      {
        "duration": 4,
        "start_time": "2023-05-18T18:59:50.325Z"
      },
      {
        "duration": 10,
        "start_time": "2023-05-18T18:59:50.331Z"
      },
      {
        "duration": 8,
        "start_time": "2023-05-18T18:59:50.343Z"
      },
      {
        "duration": 10,
        "start_time": "2023-05-18T18:59:50.353Z"
      },
      {
        "duration": 13,
        "start_time": "2023-05-18T18:59:50.365Z"
      },
      {
        "duration": 7,
        "start_time": "2023-05-18T18:59:50.380Z"
      },
      {
        "duration": 793,
        "start_time": "2023-05-18T18:59:50.389Z"
      },
      {
        "duration": 2611,
        "start_time": "2023-05-18T18:59:51.183Z"
      },
      {
        "duration": 10687,
        "start_time": "2023-05-18T18:59:53.796Z"
      },
      {
        "duration": 1327,
        "start_time": "2023-05-18T19:00:04.485Z"
      },
      {
        "duration": 26,
        "start_time": "2023-05-18T19:00:05.814Z"
      },
      {
        "duration": 35,
        "start_time": "2023-05-18T19:00:05.841Z"
      },
      {
        "duration": 3,
        "start_time": "2023-05-18T19:00:05.877Z"
      },
      {
        "duration": 315,
        "start_time": "2023-05-18T19:00:05.881Z"
      },
      {
        "duration": 448,
        "start_time": "2023-05-18T19:00:06.198Z"
      },
      {
        "duration": 164,
        "start_time": "2023-05-18T19:00:06.648Z"
      },
      {
        "duration": 29,
        "start_time": "2023-05-18T19:00:06.813Z"
      },
      {
        "duration": 1218,
        "start_time": "2023-05-18T19:00:06.844Z"
      },
      {
        "duration": 144,
        "start_time": "2023-05-18T19:00:08.063Z"
      },
      {
        "duration": 103,
        "start_time": "2023-05-18T19:00:08.209Z"
      },
      {
        "duration": 3,
        "start_time": "2023-05-18T19:00:08.314Z"
      },
      {
        "duration": 12,
        "start_time": "2023-05-18T19:00:08.319Z"
      },
      {
        "duration": 77,
        "start_time": "2023-05-18T19:00:08.333Z"
      },
      {
        "duration": 6,
        "start_time": "2023-05-18T19:00:08.412Z"
      },
      {
        "duration": 4,
        "start_time": "2023-05-18T19:00:08.420Z"
      },
      {
        "duration": 7,
        "start_time": "2023-05-18T19:00:08.426Z"
      },
      {
        "duration": 2,
        "start_time": "2023-05-18T19:00:08.437Z"
      },
      {
        "duration": 36,
        "start_time": "2023-05-18T19:00:08.441Z"
      },
      {
        "duration": 14,
        "start_time": "2023-05-18T19:00:08.479Z"
      },
      {
        "duration": 19,
        "start_time": "2023-05-18T19:00:08.495Z"
      },
      {
        "duration": 14,
        "start_time": "2023-05-18T19:00:08.516Z"
      },
      {
        "duration": 1137,
        "start_time": "2023-05-18T19:00:08.532Z"
      },
      {
        "duration": 6,
        "start_time": "2023-05-18T19:00:09.671Z"
      },
      {
        "duration": 64,
        "start_time": "2023-05-18T19:00:09.679Z"
      },
      {
        "duration": 3796,
        "start_time": "2023-05-18T19:00:09.744Z"
      },
      {
        "duration": 4,
        "start_time": "2023-05-18T19:00:13.542Z"
      },
      {
        "duration": 71,
        "start_time": "2023-05-18T19:00:13.548Z"
      },
      {
        "duration": 3,
        "start_time": "2023-05-18T19:00:13.621Z"
      },
      {
        "duration": 16,
        "start_time": "2023-05-18T19:00:13.626Z"
      },
      {
        "duration": 77,
        "start_time": "2023-05-18T19:00:13.643Z"
      },
      {
        "duration": 3,
        "start_time": "2023-05-18T19:00:13.722Z"
      },
      {
        "duration": 12,
        "start_time": "2023-05-18T19:00:13.726Z"
      },
      {
        "duration": 16,
        "start_time": "2023-05-18T19:00:13.739Z"
      },
      {
        "duration": 20,
        "start_time": "2023-05-18T19:00:13.756Z"
      },
      {
        "duration": 31426,
        "start_time": "2023-05-18T19:00:13.777Z"
      },
      {
        "duration": 416,
        "start_time": "2023-05-18T19:00:45.204Z"
      },
      {
        "duration": 2,
        "start_time": "2023-05-18T19:00:45.622Z"
      },
      {
        "duration": 1603,
        "start_time": "2023-05-18T19:00:45.626Z"
      },
      {
        "duration": 274,
        "start_time": "2023-05-18T19:04:11.114Z"
      },
      {
        "duration": 3,
        "start_time": "2023-05-18T19:05:13.263Z"
      },
      {
        "duration": 994,
        "start_time": "2023-05-18T19:06:18.745Z"
      },
      {
        "duration": 702,
        "start_time": "2023-05-18T19:06:55.021Z"
      },
      {
        "duration": 798,
        "start_time": "2023-05-18T19:07:11.188Z"
      },
      {
        "duration": 13,
        "start_time": "2023-05-18T19:24:33.110Z"
      },
      {
        "duration": 10,
        "start_time": "2023-05-18T19:26:05.321Z"
      },
      {
        "duration": 10,
        "start_time": "2023-05-18T19:26:55.848Z"
      },
      {
        "duration": 20,
        "start_time": "2023-05-18T19:27:04.814Z"
      },
      {
        "duration": 13,
        "start_time": "2023-05-18T19:27:49.997Z"
      },
      {
        "duration": 18,
        "start_time": "2023-05-18T19:31:38.172Z"
      },
      {
        "duration": 673,
        "start_time": "2023-05-18T19:32:10.653Z"
      },
      {
        "duration": 602,
        "start_time": "2023-05-18T19:32:48.847Z"
      },
      {
        "duration": 1019,
        "start_time": "2023-05-18T19:33:04.483Z"
      },
      {
        "duration": 120,
        "start_time": "2023-05-18T19:36:34.016Z"
      },
      {
        "duration": 2,
        "start_time": "2023-05-18T19:49:01.211Z"
      },
      {
        "duration": 10,
        "start_time": "2023-05-18T20:04:29.061Z"
      },
      {
        "duration": 128,
        "start_time": "2023-05-18T20:09:26.602Z"
      },
      {
        "duration": 9,
        "start_time": "2023-05-18T20:09:26.732Z"
      },
      {
        "duration": 73,
        "start_time": "2023-05-18T20:09:51.388Z"
      },
      {
        "duration": 9716,
        "start_time": "2023-05-18T20:10:23.240Z"
      },
      {
        "duration": 4,
        "start_time": "2023-05-18T20:10:32.959Z"
      },
      {
        "duration": 14,
        "start_time": "2023-05-18T20:10:32.964Z"
      },
      {
        "duration": 20,
        "start_time": "2023-05-18T20:10:32.980Z"
      },
      {
        "duration": 12,
        "start_time": "2023-05-18T20:10:33.002Z"
      },
      {
        "duration": 12,
        "start_time": "2023-05-18T20:10:33.015Z"
      },
      {
        "duration": 26,
        "start_time": "2023-05-18T20:10:33.028Z"
      },
      {
        "duration": 2921,
        "start_time": "2023-05-18T20:10:33.055Z"
      },
      {
        "duration": 2726,
        "start_time": "2023-05-18T20:10:35.978Z"
      },
      {
        "duration": 10588,
        "start_time": "2023-05-18T20:10:38.707Z"
      },
      {
        "duration": 1274,
        "start_time": "2023-05-18T20:10:49.296Z"
      },
      {
        "duration": 33,
        "start_time": "2023-05-18T20:10:50.575Z"
      },
      {
        "duration": 18,
        "start_time": "2023-05-18T20:10:50.609Z"
      },
      {
        "duration": 2,
        "start_time": "2023-05-18T20:10:50.629Z"
      },
      {
        "duration": 357,
        "start_time": "2023-05-18T20:10:50.633Z"
      },
      {
        "duration": 492,
        "start_time": "2023-05-18T20:10:50.996Z"
      },
      {
        "duration": 208,
        "start_time": "2023-05-18T20:10:51.491Z"
      },
      {
        "duration": 31,
        "start_time": "2023-05-18T20:10:51.701Z"
      },
      {
        "duration": 1152,
        "start_time": "2023-05-18T20:10:51.734Z"
      },
      {
        "duration": 200,
        "start_time": "2023-05-18T20:10:52.888Z"
      },
      {
        "duration": 131,
        "start_time": "2023-05-18T20:10:53.091Z"
      },
      {
        "duration": 3,
        "start_time": "2023-05-18T20:10:53.224Z"
      },
      {
        "duration": 11,
        "start_time": "2023-05-18T20:10:53.230Z"
      },
      {
        "duration": 91,
        "start_time": "2023-05-18T20:10:53.244Z"
      },
      {
        "duration": 11,
        "start_time": "2023-05-18T20:10:53.337Z"
      },
      {
        "duration": 3,
        "start_time": "2023-05-18T20:10:53.350Z"
      },
      {
        "duration": 4,
        "start_time": "2023-05-18T20:10:53.355Z"
      },
      {
        "duration": 9,
        "start_time": "2023-05-18T20:10:53.384Z"
      },
      {
        "duration": 16,
        "start_time": "2023-05-18T20:10:53.402Z"
      },
      {
        "duration": 13,
        "start_time": "2023-05-18T20:10:53.420Z"
      },
      {
        "duration": 17,
        "start_time": "2023-05-18T20:10:53.435Z"
      },
      {
        "duration": 22,
        "start_time": "2023-05-18T20:10:53.454Z"
      },
      {
        "duration": 1536,
        "start_time": "2023-05-18T20:10:53.478Z"
      },
      {
        "duration": 3,
        "start_time": "2023-05-18T20:10:55.016Z"
      },
      {
        "duration": 95,
        "start_time": "2023-05-18T20:10:55.021Z"
      },
      {
        "duration": 4634,
        "start_time": "2023-05-18T20:10:55.118Z"
      },
      {
        "duration": 2,
        "start_time": "2023-05-18T20:10:59.754Z"
      },
      {
        "duration": 86,
        "start_time": "2023-05-18T20:10:59.758Z"
      },
      {
        "duration": 4,
        "start_time": "2023-05-18T20:10:59.846Z"
      },
      {
        "duration": 23,
        "start_time": "2023-05-18T20:10:59.852Z"
      },
      {
        "duration": 67,
        "start_time": "2023-05-18T20:10:59.877Z"
      },
      {
        "duration": 3,
        "start_time": "2023-05-18T20:10:59.945Z"
      },
      {
        "duration": 25,
        "start_time": "2023-05-18T20:10:59.950Z"
      },
      {
        "duration": 13,
        "start_time": "2023-05-18T20:10:59.977Z"
      },
      {
        "duration": 33610,
        "start_time": "2023-05-18T20:10:59.992Z"
      },
      {
        "duration": 88,
        "start_time": "2023-05-18T20:11:33.604Z"
      },
      {
        "duration": 3,
        "start_time": "2023-05-18T20:11:33.694Z"
      },
      {
        "duration": 2628,
        "start_time": "2023-05-18T20:11:33.699Z"
      },
      {
        "duration": 94,
        "start_time": "2023-05-18T20:11:36.329Z"
      },
      {
        "duration": 11,
        "start_time": "2023-05-18T20:11:36.425Z"
      },
      {
        "duration": 271,
        "start_time": "2023-05-18T20:35:50.517Z"
      },
      {
        "duration": 35,
        "start_time": "2023-05-18T20:36:11.817Z"
      },
      {
        "duration": 32,
        "start_time": "2023-05-18T20:36:25.914Z"
      },
      {
        "duration": 4,
        "start_time": "2023-05-18T20:36:53.779Z"
      },
      {
        "duration": 2,
        "start_time": "2023-05-18T20:37:24.442Z"
      },
      {
        "duration": 11411,
        "start_time": "2023-05-18T20:42:39.288Z"
      },
      {
        "duration": 115,
        "start_time": "2023-05-18T20:43:04.011Z"
      },
      {
        "duration": 17758,
        "start_time": "2023-05-19T18:30:57.114Z"
      },
      {
        "duration": 4,
        "start_time": "2023-05-19T18:31:14.875Z"
      },
      {
        "duration": 11,
        "start_time": "2023-05-19T18:31:14.881Z"
      },
      {
        "duration": 8,
        "start_time": "2023-05-19T18:31:14.894Z"
      },
      {
        "duration": 11,
        "start_time": "2023-05-19T18:31:14.903Z"
      },
      {
        "duration": 7,
        "start_time": "2023-05-19T18:31:14.915Z"
      },
      {
        "duration": 6,
        "start_time": "2023-05-19T18:31:14.924Z"
      },
      {
        "duration": 2963,
        "start_time": "2023-05-19T18:31:14.931Z"
      },
      {
        "duration": 3093,
        "start_time": "2023-05-19T18:31:17.896Z"
      },
      {
        "duration": 10825,
        "start_time": "2023-05-19T18:31:20.992Z"
      },
      {
        "duration": 1344,
        "start_time": "2023-05-19T18:31:31.819Z"
      },
      {
        "duration": 30,
        "start_time": "2023-05-19T18:31:33.165Z"
      },
      {
        "duration": 21,
        "start_time": "2023-05-19T18:31:33.197Z"
      },
      {
        "duration": 2,
        "start_time": "2023-05-19T18:31:33.220Z"
      },
      {
        "duration": 292,
        "start_time": "2023-05-19T18:31:33.224Z"
      },
      {
        "duration": 539,
        "start_time": "2023-05-19T18:31:33.518Z"
      },
      {
        "duration": 157,
        "start_time": "2023-05-19T18:31:34.059Z"
      },
      {
        "duration": 41,
        "start_time": "2023-05-19T18:31:34.218Z"
      },
      {
        "duration": 1052,
        "start_time": "2023-05-19T18:31:34.261Z"
      },
      {
        "duration": 144,
        "start_time": "2023-05-19T18:31:35.315Z"
      },
      {
        "duration": 109,
        "start_time": "2023-05-19T18:31:35.461Z"
      },
      {
        "duration": 3,
        "start_time": "2023-05-19T18:31:35.572Z"
      },
      {
        "duration": 14,
        "start_time": "2023-05-19T18:31:35.577Z"
      },
      {
        "duration": 68,
        "start_time": "2023-05-19T18:31:35.594Z"
      },
      {
        "duration": 9,
        "start_time": "2023-05-19T18:31:35.664Z"
      },
      {
        "duration": 47,
        "start_time": "2023-05-19T18:31:35.675Z"
      },
      {
        "duration": 24,
        "start_time": "2023-05-19T18:31:35.724Z"
      },
      {
        "duration": 43,
        "start_time": "2023-05-19T18:31:35.752Z"
      },
      {
        "duration": 26,
        "start_time": "2023-05-19T18:31:35.797Z"
      },
      {
        "duration": 12,
        "start_time": "2023-05-19T18:31:35.825Z"
      },
      {
        "duration": 19,
        "start_time": "2023-05-19T18:31:35.838Z"
      },
      {
        "duration": 15,
        "start_time": "2023-05-19T18:31:35.859Z"
      },
      {
        "duration": 1323,
        "start_time": "2023-05-19T18:31:35.876Z"
      },
      {
        "duration": 5,
        "start_time": "2023-05-19T18:31:37.201Z"
      },
      {
        "duration": 87,
        "start_time": "2023-05-19T18:31:37.208Z"
      },
      {
        "duration": 3849,
        "start_time": "2023-05-19T18:31:37.296Z"
      },
      {
        "duration": 11,
        "start_time": "2023-05-19T18:31:41.146Z"
      },
      {
        "duration": 73,
        "start_time": "2023-05-19T18:31:41.158Z"
      },
      {
        "duration": 5,
        "start_time": "2023-05-19T18:31:41.233Z"
      },
      {
        "duration": 17,
        "start_time": "2023-05-19T18:31:41.240Z"
      },
      {
        "duration": 79,
        "start_time": "2023-05-19T18:31:41.259Z"
      },
      {
        "duration": 3,
        "start_time": "2023-05-19T18:31:41.340Z"
      },
      {
        "duration": 11,
        "start_time": "2023-05-19T18:31:41.357Z"
      },
      {
        "duration": 24,
        "start_time": "2023-05-19T18:31:41.369Z"
      },
      {
        "duration": 171,
        "start_time": "2023-05-19T18:31:41.396Z"
      },
      {
        "duration": 0,
        "start_time": "2023-05-19T18:31:41.569Z"
      },
      {
        "duration": 0,
        "start_time": "2023-05-19T18:31:41.571Z"
      },
      {
        "duration": 0,
        "start_time": "2023-05-19T18:31:41.572Z"
      },
      {
        "duration": 0,
        "start_time": "2023-05-19T18:31:41.573Z"
      },
      {
        "duration": 0,
        "start_time": "2023-05-19T18:31:41.574Z"
      },
      {
        "duration": 0,
        "start_time": "2023-05-19T18:31:41.576Z"
      },
      {
        "duration": 8901,
        "start_time": "2023-05-19T18:32:20.042Z"
      },
      {
        "duration": 8790,
        "start_time": "2023-05-19T18:32:37.318Z"
      },
      {
        "duration": 3,
        "start_time": "2023-05-19T18:32:46.110Z"
      },
      {
        "duration": 19,
        "start_time": "2023-05-19T18:32:46.115Z"
      },
      {
        "duration": 19,
        "start_time": "2023-05-19T18:32:46.136Z"
      },
      {
        "duration": 11,
        "start_time": "2023-05-19T18:32:46.157Z"
      },
      {
        "duration": 11,
        "start_time": "2023-05-19T18:32:46.169Z"
      },
      {
        "duration": 13,
        "start_time": "2023-05-19T18:32:46.182Z"
      },
      {
        "duration": 914,
        "start_time": "2023-05-19T18:32:46.197Z"
      },
      {
        "duration": 3225,
        "start_time": "2023-05-19T18:32:47.114Z"
      },
      {
        "duration": 10690,
        "start_time": "2023-05-19T18:32:50.341Z"
      },
      {
        "duration": 1416,
        "start_time": "2023-05-19T18:33:01.033Z"
      },
      {
        "duration": 32,
        "start_time": "2023-05-19T18:33:02.452Z"
      },
      {
        "duration": 55,
        "start_time": "2023-05-19T18:33:02.486Z"
      },
      {
        "duration": 11,
        "start_time": "2023-05-19T18:33:02.543Z"
      },
      {
        "duration": 302,
        "start_time": "2023-05-19T18:33:02.555Z"
      },
      {
        "duration": 569,
        "start_time": "2023-05-19T18:33:02.860Z"
      },
      {
        "duration": 194,
        "start_time": "2023-05-19T18:33:03.430Z"
      },
      {
        "duration": 44,
        "start_time": "2023-05-19T18:33:03.626Z"
      },
      {
        "duration": 1075,
        "start_time": "2023-05-19T18:33:03.672Z"
      },
      {
        "duration": 144,
        "start_time": "2023-05-19T18:33:04.757Z"
      },
      {
        "duration": 116,
        "start_time": "2023-05-19T18:33:04.903Z"
      },
      {
        "duration": 4,
        "start_time": "2023-05-19T18:33:05.020Z"
      },
      {
        "duration": 25,
        "start_time": "2023-05-19T18:33:05.025Z"
      },
      {
        "duration": 52,
        "start_time": "2023-05-19T18:33:05.056Z"
      },
      {
        "duration": 28,
        "start_time": "2023-05-19T18:33:05.110Z"
      },
      {
        "duration": 13,
        "start_time": "2023-05-19T18:33:05.140Z"
      },
      {
        "duration": 10,
        "start_time": "2023-05-19T18:33:05.154Z"
      },
      {
        "duration": 6,
        "start_time": "2023-05-19T18:33:05.168Z"
      },
      {
        "duration": 47,
        "start_time": "2023-05-19T18:33:05.175Z"
      },
      {
        "duration": 26,
        "start_time": "2023-05-19T18:33:05.224Z"
      },
      {
        "duration": 19,
        "start_time": "2023-05-19T18:33:05.252Z"
      },
      {
        "duration": 22,
        "start_time": "2023-05-19T18:33:05.273Z"
      },
      {
        "duration": 1254,
        "start_time": "2023-05-19T18:33:05.296Z"
      },
      {
        "duration": 5,
        "start_time": "2023-05-19T18:33:06.552Z"
      },
      {
        "duration": 86,
        "start_time": "2023-05-19T18:33:06.560Z"
      },
      {
        "duration": 3838,
        "start_time": "2023-05-19T18:33:06.657Z"
      },
      {
        "duration": 2,
        "start_time": "2023-05-19T18:33:10.497Z"
      },
      {
        "duration": 72,
        "start_time": "2023-05-19T18:33:10.501Z"
      },
      {
        "duration": 6,
        "start_time": "2023-05-19T18:33:10.575Z"
      },
      {
        "duration": 24,
        "start_time": "2023-05-19T18:33:10.584Z"
      },
      {
        "duration": 118,
        "start_time": "2023-05-19T18:33:10.610Z"
      },
      {
        "duration": 3,
        "start_time": "2023-05-19T18:33:10.729Z"
      },
      {
        "duration": 29,
        "start_time": "2023-05-19T18:33:10.734Z"
      },
      {
        "duration": 11,
        "start_time": "2023-05-19T18:33:10.766Z"
      },
      {
        "duration": 31,
        "start_time": "2023-05-19T18:33:10.780Z"
      },
      {
        "duration": 0,
        "start_time": "2023-05-19T18:33:10.813Z"
      },
      {
        "duration": 0,
        "start_time": "2023-05-19T18:33:10.814Z"
      },
      {
        "duration": 0,
        "start_time": "2023-05-19T18:33:10.816Z"
      },
      {
        "duration": 0,
        "start_time": "2023-05-19T18:33:10.817Z"
      },
      {
        "duration": 0,
        "start_time": "2023-05-19T18:33:10.818Z"
      },
      {
        "duration": 0,
        "start_time": "2023-05-19T18:33:10.820Z"
      },
      {
        "duration": 10699,
        "start_time": "2023-05-19T18:38:39.748Z"
      },
      {
        "duration": 4,
        "start_time": "2023-05-19T18:38:50.450Z"
      },
      {
        "duration": 14,
        "start_time": "2023-05-19T18:38:50.455Z"
      },
      {
        "duration": 30,
        "start_time": "2023-05-19T18:38:50.471Z"
      },
      {
        "duration": 49,
        "start_time": "2023-05-19T18:38:50.503Z"
      },
      {
        "duration": 27,
        "start_time": "2023-05-19T18:38:50.554Z"
      },
      {
        "duration": 13,
        "start_time": "2023-05-19T18:38:50.583Z"
      },
      {
        "duration": 925,
        "start_time": "2023-05-19T18:38:50.597Z"
      },
      {
        "duration": 2995,
        "start_time": "2023-05-19T18:38:51.524Z"
      },
      {
        "duration": 11065,
        "start_time": "2023-05-19T18:38:54.521Z"
      },
      {
        "duration": 1563,
        "start_time": "2023-05-19T18:39:05.588Z"
      },
      {
        "duration": 31,
        "start_time": "2023-05-19T18:39:07.153Z"
      },
      {
        "duration": 20,
        "start_time": "2023-05-19T18:39:07.187Z"
      },
      {
        "duration": 2,
        "start_time": "2023-05-19T18:39:07.209Z"
      },
      {
        "duration": 337,
        "start_time": "2023-05-19T18:39:07.213Z"
      },
      {
        "duration": 559,
        "start_time": "2023-05-19T18:39:07.556Z"
      },
      {
        "duration": 198,
        "start_time": "2023-05-19T18:39:08.119Z"
      },
      {
        "duration": 45,
        "start_time": "2023-05-19T18:39:08.319Z"
      },
      {
        "duration": 1195,
        "start_time": "2023-05-19T18:39:08.366Z"
      },
      {
        "duration": 130,
        "start_time": "2023-05-19T18:39:09.563Z"
      },
      {
        "duration": 114,
        "start_time": "2023-05-19T18:39:09.695Z"
      },
      {
        "duration": 4,
        "start_time": "2023-05-19T18:39:09.812Z"
      },
      {
        "duration": 17,
        "start_time": "2023-05-19T18:39:09.818Z"
      },
      {
        "duration": 70,
        "start_time": "2023-05-19T18:39:09.838Z"
      },
      {
        "duration": 11,
        "start_time": "2023-05-19T18:39:09.910Z"
      },
      {
        "duration": 29,
        "start_time": "2023-05-19T18:39:09.923Z"
      },
      {
        "duration": 27,
        "start_time": "2023-05-19T18:39:09.955Z"
      },
      {
        "duration": 54,
        "start_time": "2023-05-19T18:39:09.984Z"
      },
      {
        "duration": 32,
        "start_time": "2023-05-19T18:39:10.041Z"
      },
      {
        "duration": 49,
        "start_time": "2023-05-19T18:39:10.075Z"
      },
      {
        "duration": 44,
        "start_time": "2023-05-19T18:39:10.127Z"
      },
      {
        "duration": 15,
        "start_time": "2023-05-19T18:39:10.173Z"
      },
      {
        "duration": 1327,
        "start_time": "2023-05-19T18:39:10.190Z"
      },
      {
        "duration": 4,
        "start_time": "2023-05-19T18:39:11.519Z"
      },
      {
        "duration": 86,
        "start_time": "2023-05-19T18:39:11.527Z"
      },
      {
        "duration": 4042,
        "start_time": "2023-05-19T18:39:11.616Z"
      },
      {
        "duration": 2,
        "start_time": "2023-05-19T18:39:15.661Z"
      },
      {
        "duration": 71,
        "start_time": "2023-05-19T18:39:15.665Z"
      },
      {
        "duration": 3,
        "start_time": "2023-05-19T18:39:15.864Z"
      },
      {
        "duration": 15,
        "start_time": "2023-05-19T18:39:17.992Z"
      },
      {
        "duration": 98,
        "start_time": "2023-05-19T18:39:21.400Z"
      },
      {
        "duration": 2,
        "start_time": "2023-05-19T18:39:26.418Z"
      },
      {
        "duration": 11,
        "start_time": "2023-05-19T18:39:27.659Z"
      },
      {
        "duration": 12,
        "start_time": "2023-05-19T18:39:29.107Z"
      },
      {
        "duration": 47272,
        "start_time": "2023-05-19T18:39:31.759Z"
      },
      {
        "duration": 110,
        "start_time": "2023-05-19T18:40:38.969Z"
      },
      {
        "duration": 7,
        "start_time": "2023-05-19T18:40:53.549Z"
      },
      {
        "duration": 4,
        "start_time": "2023-05-19T18:40:55.445Z"
      },
      {
        "duration": 3,
        "start_time": "2023-05-19T18:41:26.991Z"
      },
      {
        "duration": 3,
        "start_time": "2023-05-19T18:41:27.199Z"
      },
      {
        "duration": 3,
        "start_time": "2023-05-19T18:41:27.404Z"
      },
      {
        "duration": 8635,
        "start_time": "2023-05-19T18:45:21.808Z"
      },
      {
        "duration": 5,
        "start_time": "2023-05-19T19:10:19.989Z"
      },
      {
        "duration": 14753,
        "start_time": "2023-05-19T19:30:09.688Z"
      },
      {
        "duration": 13286,
        "start_time": "2023-05-19T19:33:03.126Z"
      },
      {
        "duration": 4,
        "start_time": "2023-05-19T19:38:13.220Z"
      },
      {
        "duration": 3,
        "start_time": "2023-05-19T19:38:16.302Z"
      },
      {
        "duration": 2,
        "start_time": "2023-05-19T19:38:26.477Z"
      },
      {
        "duration": 1315,
        "start_time": "2023-05-19T19:41:25.541Z"
      },
      {
        "duration": 619,
        "start_time": "2023-05-19T19:41:32.824Z"
      },
      {
        "duration": 298,
        "start_time": "2023-05-19T19:41:44.648Z"
      },
      {
        "duration": 179,
        "start_time": "2023-05-19T19:42:13.395Z"
      },
      {
        "duration": 197,
        "start_time": "2023-05-19T19:42:56.124Z"
      },
      {
        "duration": 12124,
        "start_time": "2023-05-19T19:43:19.416Z"
      },
      {
        "duration": 4,
        "start_time": "2023-05-19T19:43:31.543Z"
      },
      {
        "duration": 9,
        "start_time": "2023-05-19T19:43:31.548Z"
      },
      {
        "duration": 22,
        "start_time": "2023-05-19T19:43:31.560Z"
      },
      {
        "duration": 13,
        "start_time": "2023-05-19T19:43:31.584Z"
      },
      {
        "duration": 23,
        "start_time": "2023-05-19T19:43:31.600Z"
      },
      {
        "duration": 10,
        "start_time": "2023-05-19T19:43:31.626Z"
      },
      {
        "duration": 3095,
        "start_time": "2023-05-19T19:43:31.638Z"
      },
      {
        "duration": 3074,
        "start_time": "2023-05-19T19:43:34.735Z"
      },
      {
        "duration": 10933,
        "start_time": "2023-05-19T19:43:37.812Z"
      },
      {
        "duration": 1498,
        "start_time": "2023-05-19T19:43:48.748Z"
      },
      {
        "duration": 37,
        "start_time": "2023-05-19T19:43:50.248Z"
      },
      {
        "duration": 21,
        "start_time": "2023-05-19T19:43:50.287Z"
      },
      {
        "duration": 2,
        "start_time": "2023-05-19T19:43:50.309Z"
      },
      {
        "duration": 270,
        "start_time": "2023-05-19T19:43:50.313Z"
      },
      {
        "duration": 518,
        "start_time": "2023-05-19T19:43:50.584Z"
      },
      {
        "duration": 168,
        "start_time": "2023-05-19T19:43:51.105Z"
      },
      {
        "duration": 36,
        "start_time": "2023-05-19T19:43:51.274Z"
      },
      {
        "duration": 1022,
        "start_time": "2023-05-19T19:43:51.312Z"
      },
      {
        "duration": 138,
        "start_time": "2023-05-19T19:43:52.336Z"
      },
      {
        "duration": 101,
        "start_time": "2023-05-19T19:43:52.476Z"
      },
      {
        "duration": 4,
        "start_time": "2023-05-19T19:43:52.579Z"
      },
      {
        "duration": 20,
        "start_time": "2023-05-19T19:43:52.585Z"
      },
      {
        "duration": 61,
        "start_time": "2023-05-19T19:43:52.606Z"
      },
      {
        "duration": 19,
        "start_time": "2023-05-19T19:43:52.669Z"
      },
      {
        "duration": 17,
        "start_time": "2023-05-19T19:43:52.689Z"
      },
      {
        "duration": 46,
        "start_time": "2023-05-19T19:43:52.708Z"
      },
      {
        "duration": 23,
        "start_time": "2023-05-19T19:43:52.758Z"
      },
      {
        "duration": 37,
        "start_time": "2023-05-19T19:43:52.783Z"
      },
      {
        "duration": 20,
        "start_time": "2023-05-19T19:43:52.822Z"
      },
      {
        "duration": 19,
        "start_time": "2023-05-19T19:43:52.844Z"
      },
      {
        "duration": 14,
        "start_time": "2023-05-19T19:43:52.866Z"
      },
      {
        "duration": 1174,
        "start_time": "2023-05-19T19:43:52.882Z"
      },
      {
        "duration": 4,
        "start_time": "2023-05-19T19:43:54.059Z"
      },
      {
        "duration": 98,
        "start_time": "2023-05-19T19:43:54.065Z"
      },
      {
        "duration": 3818,
        "start_time": "2023-05-19T19:43:54.165Z"
      },
      {
        "duration": 3,
        "start_time": "2023-05-19T19:43:57.985Z"
      },
      {
        "duration": 71,
        "start_time": "2023-05-19T19:43:57.990Z"
      },
      {
        "duration": 2,
        "start_time": "2023-05-19T19:43:58.064Z"
      },
      {
        "duration": 22,
        "start_time": "2023-05-19T19:43:58.068Z"
      },
      {
        "duration": 93,
        "start_time": "2023-05-19T19:43:58.092Z"
      },
      {
        "duration": 6,
        "start_time": "2023-05-19T19:43:58.187Z"
      },
      {
        "duration": 37,
        "start_time": "2023-05-19T19:43:58.195Z"
      },
      {
        "duration": 36,
        "start_time": "2023-05-19T19:43:58.235Z"
      },
      {
        "duration": 10,
        "start_time": "2023-05-19T19:43:58.273Z"
      },
      {
        "duration": 14,
        "start_time": "2023-05-19T19:43:58.284Z"
      },
      {
        "duration": 12,
        "start_time": "2023-05-19T19:43:58.300Z"
      },
      {
        "duration": 272,
        "start_time": "2023-05-19T19:43:58.313Z"
      },
      {
        "duration": 102,
        "start_time": "2023-05-19T19:43:58.587Z"
      },
      {
        "duration": 102,
        "start_time": "2023-05-19T19:43:58.691Z"
      },
      {
        "duration": 164,
        "start_time": "2023-05-19T19:43:58.795Z"
      },
      {
        "duration": 0,
        "start_time": "2023-05-19T19:43:58.960Z"
      },
      {
        "duration": 30,
        "start_time": "2023-05-19T19:48:19.966Z"
      },
      {
        "duration": 2,
        "start_time": "2023-05-19T19:49:12.458Z"
      },
      {
        "duration": 3,
        "start_time": "2023-05-19T19:49:12.738Z"
      },
      {
        "duration": 3,
        "start_time": "2023-05-19T19:49:13.505Z"
      },
      {
        "duration": 9748,
        "start_time": "2023-05-19T19:50:04.449Z"
      },
      {
        "duration": 4,
        "start_time": "2023-05-19T19:50:14.199Z"
      },
      {
        "duration": 9,
        "start_time": "2023-05-19T19:50:14.205Z"
      },
      {
        "duration": 11,
        "start_time": "2023-05-19T19:50:14.216Z"
      },
      {
        "duration": 8,
        "start_time": "2023-05-19T19:50:14.228Z"
      },
      {
        "duration": 9,
        "start_time": "2023-05-19T19:50:14.237Z"
      },
      {
        "duration": 8,
        "start_time": "2023-05-19T19:50:14.247Z"
      },
      {
        "duration": 886,
        "start_time": "2023-05-19T19:50:14.256Z"
      },
      {
        "duration": 2778,
        "start_time": "2023-05-19T19:50:15.144Z"
      },
      {
        "duration": 10657,
        "start_time": "2023-05-19T19:50:17.924Z"
      },
      {
        "duration": 1357,
        "start_time": "2023-05-19T19:50:28.583Z"
      },
      {
        "duration": 39,
        "start_time": "2023-05-19T19:50:29.942Z"
      },
      {
        "duration": 23,
        "start_time": "2023-05-19T19:50:29.983Z"
      },
      {
        "duration": 3,
        "start_time": "2023-05-19T19:50:30.010Z"
      },
      {
        "duration": 293,
        "start_time": "2023-05-19T19:50:30.015Z"
      },
      {
        "duration": 553,
        "start_time": "2023-05-19T19:50:30.310Z"
      },
      {
        "duration": 159,
        "start_time": "2023-05-19T19:50:30.865Z"
      },
      {
        "duration": 48,
        "start_time": "2023-05-19T19:50:31.025Z"
      },
      {
        "duration": 1163,
        "start_time": "2023-05-19T19:50:31.075Z"
      },
      {
        "duration": 140,
        "start_time": "2023-05-19T19:50:32.239Z"
      },
      {
        "duration": 109,
        "start_time": "2023-05-19T19:50:32.381Z"
      },
      {
        "duration": 4,
        "start_time": "2023-05-19T19:50:32.492Z"
      },
      {
        "duration": 16,
        "start_time": "2023-05-19T19:50:32.498Z"
      },
      {
        "duration": 59,
        "start_time": "2023-05-19T19:50:32.516Z"
      },
      {
        "duration": 7,
        "start_time": "2023-05-19T19:50:32.578Z"
      },
      {
        "duration": 2,
        "start_time": "2023-05-19T19:50:32.587Z"
      },
      {
        "duration": 5,
        "start_time": "2023-05-19T19:50:32.591Z"
      },
      {
        "duration": 11,
        "start_time": "2023-05-19T19:50:32.598Z"
      },
      {
        "duration": 15,
        "start_time": "2023-05-19T19:50:32.735Z"
      },
      {
        "duration": 16,
        "start_time": "2023-05-19T19:50:33.262Z"
      },
      {
        "duration": 19,
        "start_time": "2023-05-19T19:50:33.786Z"
      },
      {
        "duration": 14,
        "start_time": "2023-05-19T19:50:34.572Z"
      },
      {
        "duration": 1172,
        "start_time": "2023-05-19T19:50:35.034Z"
      },
      {
        "duration": 3,
        "start_time": "2023-05-19T19:50:36.207Z"
      },
      {
        "duration": 66,
        "start_time": "2023-05-19T19:50:36.212Z"
      },
      {
        "duration": 3876,
        "start_time": "2023-05-19T19:50:36.538Z"
      },
      {
        "duration": 2,
        "start_time": "2023-05-19T19:50:40.416Z"
      },
      {
        "duration": 53,
        "start_time": "2023-05-19T19:50:41.129Z"
      },
      {
        "duration": 3,
        "start_time": "2023-05-19T19:50:41.516Z"
      },
      {
        "duration": 13,
        "start_time": "2023-05-19T19:50:41.934Z"
      },
      {
        "duration": 72,
        "start_time": "2023-05-19T19:50:42.343Z"
      },
      {
        "duration": 4,
        "start_time": "2023-05-19T19:50:42.547Z"
      },
      {
        "duration": 11,
        "start_time": "2023-05-19T19:50:42.877Z"
      },
      {
        "duration": 12,
        "start_time": "2023-05-19T19:50:43.108Z"
      },
      {
        "duration": 49237,
        "start_time": "2023-05-19T19:50:43.713Z"
      },
      {
        "duration": 2,
        "start_time": "2023-05-19T19:52:00.872Z"
      },
      {
        "duration": 64,
        "start_time": "2023-05-19T19:52:00.876Z"
      },
      {
        "duration": 61,
        "start_time": "2023-05-19T19:52:00.942Z"
      },
      {
        "duration": 54,
        "start_time": "2023-05-19T19:52:01.005Z"
      },
      {
        "duration": 46,
        "start_time": "2023-05-19T19:52:01.061Z"
      },
      {
        "duration": 14143,
        "start_time": "2023-05-19T19:52:36.664Z"
      },
      {
        "duration": 25,
        "start_time": "2023-05-19T19:53:18.770Z"
      },
      {
        "duration": 50819,
        "start_time": "2023-05-19T19:54:15.653Z"
      },
      {
        "duration": 23,
        "start_time": "2023-05-19T19:55:06.474Z"
      },
      {
        "duration": 9834,
        "start_time": "2023-05-19T19:55:47.100Z"
      },
      {
        "duration": 4,
        "start_time": "2023-05-19T19:55:56.937Z"
      },
      {
        "duration": 11,
        "start_time": "2023-05-19T19:55:56.943Z"
      },
      {
        "duration": 44,
        "start_time": "2023-05-19T19:55:56.957Z"
      },
      {
        "duration": 21,
        "start_time": "2023-05-19T19:55:57.003Z"
      },
      {
        "duration": 16,
        "start_time": "2023-05-19T19:55:57.026Z"
      },
      {
        "duration": 5,
        "start_time": "2023-05-19T19:55:57.054Z"
      },
      {
        "duration": 963,
        "start_time": "2023-05-19T19:55:58.009Z"
      },
      {
        "duration": 3188,
        "start_time": "2023-05-19T19:55:58.977Z"
      },
      {
        "duration": 10973,
        "start_time": "2023-05-19T19:56:03.772Z"
      },
      {
        "duration": 1294,
        "start_time": "2023-05-19T19:56:14.747Z"
      },
      {
        "duration": 37,
        "start_time": "2023-05-19T19:56:16.043Z"
      },
      {
        "duration": 21,
        "start_time": "2023-05-19T19:56:16.082Z"
      },
      {
        "duration": 2,
        "start_time": "2023-05-19T19:56:16.105Z"
      },
      {
        "duration": 282,
        "start_time": "2023-05-19T19:56:16.108Z"
      },
      {
        "duration": 535,
        "start_time": "2023-05-19T19:56:16.392Z"
      },
      {
        "duration": 177,
        "start_time": "2023-05-19T19:56:16.928Z"
      },
      {
        "duration": 38,
        "start_time": "2023-05-19T19:56:17.107Z"
      },
      {
        "duration": 1074,
        "start_time": "2023-05-19T19:56:17.156Z"
      },
      {
        "duration": 145,
        "start_time": "2023-05-19T19:56:18.231Z"
      },
      {
        "duration": 120,
        "start_time": "2023-05-19T19:56:18.378Z"
      },
      {
        "duration": 3,
        "start_time": "2023-05-19T19:56:18.500Z"
      },
      {
        "duration": 30,
        "start_time": "2023-05-19T19:56:18.505Z"
      },
      {
        "duration": 63,
        "start_time": "2023-05-19T19:56:18.537Z"
      },
      {
        "duration": 5,
        "start_time": "2023-05-19T19:56:18.602Z"
      },
      {
        "duration": 17,
        "start_time": "2023-05-19T19:56:18.609Z"
      },
      {
        "duration": 14,
        "start_time": "2023-05-19T19:56:18.628Z"
      },
      {
        "duration": 15,
        "start_time": "2023-05-19T19:56:18.644Z"
      },
      {
        "duration": 19,
        "start_time": "2023-05-19T19:56:18.661Z"
      },
      {
        "duration": 12,
        "start_time": "2023-05-19T19:56:18.682Z"
      },
      {
        "duration": 20,
        "start_time": "2023-05-19T19:56:18.696Z"
      },
      {
        "duration": 39,
        "start_time": "2023-05-19T19:56:18.718Z"
      },
      {
        "duration": 1284,
        "start_time": "2023-05-19T19:56:18.759Z"
      },
      {
        "duration": 3,
        "start_time": "2023-05-19T19:56:20.045Z"
      },
      {
        "duration": 70,
        "start_time": "2023-05-19T19:56:20.050Z"
      },
      {
        "duration": 4013,
        "start_time": "2023-05-19T19:56:20.122Z"
      },
      {
        "duration": 2,
        "start_time": "2023-05-19T19:56:24.140Z"
      },
      {
        "duration": 74,
        "start_time": "2023-05-19T19:56:24.144Z"
      },
      {
        "duration": 6,
        "start_time": "2023-05-19T19:56:24.220Z"
      },
      {
        "duration": 21,
        "start_time": "2023-05-19T19:56:24.228Z"
      },
      {
        "duration": 79,
        "start_time": "2023-05-19T19:56:24.256Z"
      },
      {
        "duration": 2,
        "start_time": "2023-05-19T19:56:24.337Z"
      },
      {
        "duration": 14,
        "start_time": "2023-05-19T19:56:24.357Z"
      },
      {
        "duration": 11,
        "start_time": "2023-05-19T19:56:24.374Z"
      },
      {
        "duration": 51700,
        "start_time": "2023-05-19T19:56:24.386Z"
      },
      {
        "duration": 5,
        "start_time": "2023-05-19T19:57:16.091Z"
      },
      {
        "duration": 6,
        "start_time": "2023-05-19T19:57:16.099Z"
      },
      {
        "duration": 12,
        "start_time": "2023-05-19T19:57:16.107Z"
      },
      {
        "duration": 13,
        "start_time": "2023-05-19T19:57:16.121Z"
      },
      {
        "duration": 5,
        "start_time": "2023-05-19T19:57:16.136Z"
      },
      {
        "duration": 93449,
        "start_time": "2023-05-19T19:57:16.143Z"
      },
      {
        "duration": 79,
        "start_time": "2023-05-19T19:58:49.594Z"
      },
      {
        "duration": 31207,
        "start_time": "2023-05-19T19:58:49.676Z"
      },
      {
        "duration": 80,
        "start_time": "2023-05-19T19:59:20.885Z"
      },
      {
        "duration": 10197,
        "start_time": "2023-05-19T20:08:39.917Z"
      },
      {
        "duration": 4,
        "start_time": "2023-05-19T20:08:50.118Z"
      },
      {
        "duration": 57,
        "start_time": "2023-05-19T20:08:50.124Z"
      },
      {
        "duration": 15,
        "start_time": "2023-05-19T20:08:50.185Z"
      },
      {
        "duration": 6,
        "start_time": "2023-05-19T20:08:50.202Z"
      },
      {
        "duration": 13,
        "start_time": "2023-05-19T20:08:50.209Z"
      },
      {
        "duration": 9,
        "start_time": "2023-05-19T20:08:50.223Z"
      },
      {
        "duration": 2840,
        "start_time": "2023-05-19T20:08:50.233Z"
      },
      {
        "duration": 2941,
        "start_time": "2023-05-19T20:08:53.075Z"
      },
      {
        "duration": 10447,
        "start_time": "2023-05-19T20:08:56.019Z"
      },
      {
        "duration": 1199,
        "start_time": "2023-05-19T20:09:06.467Z"
      },
      {
        "duration": 27,
        "start_time": "2023-05-19T20:09:07.668Z"
      },
      {
        "duration": 20,
        "start_time": "2023-05-19T20:09:09.665Z"
      },
      {
        "duration": 3,
        "start_time": "2023-05-19T20:09:10.413Z"
      },
      {
        "duration": 250,
        "start_time": "2023-05-19T20:09:10.650Z"
      },
      {
        "duration": 459,
        "start_time": "2023-05-19T20:09:11.802Z"
      },
      {
        "duration": 143,
        "start_time": "2023-05-19T20:09:12.690Z"
      },
      {
        "duration": 30,
        "start_time": "2023-05-19T20:09:13.946Z"
      },
      {
        "duration": 964,
        "start_time": "2023-05-19T20:09:14.176Z"
      },
      {
        "duration": 138,
        "start_time": "2023-05-19T20:09:15.142Z"
      },
      {
        "duration": 103,
        "start_time": "2023-05-19T20:09:15.282Z"
      },
      {
        "duration": 3,
        "start_time": "2023-05-19T20:09:15.387Z"
      },
      {
        "duration": 28,
        "start_time": "2023-05-19T20:09:15.392Z"
      },
      {
        "duration": 46,
        "start_time": "2023-05-19T20:09:15.725Z"
      },
      {
        "duration": 5,
        "start_time": "2023-05-19T20:09:16.288Z"
      },
      {
        "duration": 3,
        "start_time": "2023-05-19T20:09:16.470Z"
      },
      {
        "duration": 3,
        "start_time": "2023-05-19T20:09:16.739Z"
      },
      {
        "duration": 2,
        "start_time": "2023-05-19T20:09:17.018Z"
      },
      {
        "duration": 14,
        "start_time": "2023-05-19T20:09:17.551Z"
      },
      {
        "duration": 12,
        "start_time": "2023-05-19T20:09:17.918Z"
      },
      {
        "duration": 19,
        "start_time": "2023-05-19T20:09:18.040Z"
      },
      {
        "duration": 17,
        "start_time": "2023-05-19T20:09:18.359Z"
      },
      {
        "duration": 1175,
        "start_time": "2023-05-19T20:09:18.556Z"
      },
      {
        "duration": 3,
        "start_time": "2023-05-19T20:09:19.733Z"
      },
      {
        "duration": 67,
        "start_time": "2023-05-19T20:09:19.737Z"
      },
      {
        "duration": 3593,
        "start_time": "2023-05-19T20:09:20.140Z"
      },
      {
        "duration": 3,
        "start_time": "2023-05-19T20:09:23.735Z"
      },
      {
        "duration": 63,
        "start_time": "2023-05-19T20:09:23.740Z"
      },
      {
        "duration": 3,
        "start_time": "2023-05-19T20:09:23.805Z"
      },
      {
        "duration": 19,
        "start_time": "2023-05-19T20:09:23.809Z"
      },
      {
        "duration": 93,
        "start_time": "2023-05-19T20:09:23.829Z"
      },
      {
        "duration": 3,
        "start_time": "2023-05-19T20:09:23.924Z"
      },
      {
        "duration": 27,
        "start_time": "2023-05-19T20:09:23.929Z"
      },
      {
        "duration": 10,
        "start_time": "2023-05-19T20:09:23.958Z"
      },
      {
        "duration": 46482,
        "start_time": "2023-05-19T20:09:24.314Z"
      },
      {
        "duration": 3,
        "start_time": "2023-05-19T20:10:10.799Z"
      },
      {
        "duration": 19,
        "start_time": "2023-05-19T20:10:10.804Z"
      },
      {
        "duration": 21,
        "start_time": "2023-05-19T20:10:10.826Z"
      },
      {
        "duration": 10,
        "start_time": "2023-05-19T20:10:10.849Z"
      },
      {
        "duration": 13,
        "start_time": "2023-05-19T20:10:10.860Z"
      },
      {
        "duration": 46768,
        "start_time": "2023-05-19T20:10:10.875Z"
      },
      {
        "duration": 30,
        "start_time": "2023-05-19T20:10:57.645Z"
      },
      {
        "duration": 12135,
        "start_time": "2023-05-19T20:10:57.677Z"
      },
      {
        "duration": 25,
        "start_time": "2023-05-19T20:11:09.814Z"
      },
      {
        "duration": 2,
        "start_time": "2023-05-19T20:11:09.856Z"
      },
      {
        "duration": 82,
        "start_time": "2023-05-19T20:12:23.778Z"
      },
      {
        "duration": 47,
        "start_time": "2023-05-19T20:13:23.674Z"
      },
      {
        "duration": 412,
        "start_time": "2023-05-19T20:14:48.772Z"
      },
      {
        "duration": 30,
        "start_time": "2023-05-19T20:14:56.335Z"
      },
      {
        "duration": 128,
        "start_time": "2023-05-19T20:28:21.153Z"
      },
      {
        "duration": 13990,
        "start_time": "2023-05-19T20:29:42.295Z"
      },
      {
        "duration": 46,
        "start_time": "2023-05-19T20:29:56.315Z"
      },
      {
        "duration": 35,
        "start_time": "2023-05-19T20:30:05.891Z"
      },
      {
        "duration": 47,
        "start_time": "2023-05-19T20:30:06.191Z"
      },
      {
        "duration": 33,
        "start_time": "2023-05-19T20:30:06.557Z"
      },
      {
        "duration": 9,
        "start_time": "2023-05-19T20:30:08.940Z"
      },
      {
        "duration": 106,
        "start_time": "2023-05-19T20:34:05.214Z"
      },
      {
        "duration": 3,
        "start_time": "2023-05-19T20:35:23.467Z"
      },
      {
        "duration": 10687,
        "start_time": "2023-05-19T20:41:01.333Z"
      },
      {
        "duration": 3,
        "start_time": "2023-05-19T20:41:12.024Z"
      },
      {
        "duration": 11,
        "start_time": "2023-05-19T20:41:12.029Z"
      },
      {
        "duration": 7,
        "start_time": "2023-05-19T20:41:12.041Z"
      },
      {
        "duration": 10,
        "start_time": "2023-05-19T20:41:12.050Z"
      },
      {
        "duration": 16,
        "start_time": "2023-05-19T20:41:12.062Z"
      },
      {
        "duration": 7,
        "start_time": "2023-05-19T20:41:12.079Z"
      },
      {
        "duration": 2880,
        "start_time": "2023-05-19T20:41:12.088Z"
      },
      {
        "duration": 2958,
        "start_time": "2023-05-19T20:41:14.970Z"
      },
      {
        "duration": 10426,
        "start_time": "2023-05-19T20:41:17.930Z"
      },
      {
        "duration": 1313,
        "start_time": "2023-05-19T20:41:28.358Z"
      },
      {
        "duration": 29,
        "start_time": "2023-05-19T20:41:29.672Z"
      },
      {
        "duration": 21,
        "start_time": "2023-05-19T20:41:29.703Z"
      },
      {
        "duration": 30,
        "start_time": "2023-05-19T20:41:29.727Z"
      },
      {
        "duration": 268,
        "start_time": "2023-05-19T20:41:29.759Z"
      },
      {
        "duration": 543,
        "start_time": "2023-05-19T20:41:30.029Z"
      },
      {
        "duration": 161,
        "start_time": "2023-05-19T20:41:30.574Z"
      },
      {
        "duration": 48,
        "start_time": "2023-05-19T20:41:30.737Z"
      },
      {
        "duration": 969,
        "start_time": "2023-05-19T20:41:30.788Z"
      },
      {
        "duration": 147,
        "start_time": "2023-05-19T20:41:31.763Z"
      },
      {
        "duration": 113,
        "start_time": "2023-05-19T20:41:31.912Z"
      },
      {
        "duration": 4,
        "start_time": "2023-05-19T20:41:32.027Z"
      },
      {
        "duration": 28,
        "start_time": "2023-05-19T20:41:32.032Z"
      },
      {
        "duration": 62,
        "start_time": "2023-05-19T20:41:32.061Z"
      },
      {
        "duration": 6,
        "start_time": "2023-05-19T20:41:32.124Z"
      },
      {
        "duration": 7,
        "start_time": "2023-05-19T20:41:32.132Z"
      },
      {
        "duration": 12,
        "start_time": "2023-05-19T20:41:32.140Z"
      },
      {
        "duration": 3,
        "start_time": "2023-05-19T20:41:32.157Z"
      },
      {
        "duration": 29,
        "start_time": "2023-05-19T20:41:32.161Z"
      },
      {
        "duration": 12,
        "start_time": "2023-05-19T20:41:32.192Z"
      },
      {
        "duration": 39,
        "start_time": "2023-05-19T20:41:32.206Z"
      },
      {
        "duration": 17,
        "start_time": "2023-05-19T20:41:32.247Z"
      },
      {
        "duration": 1168,
        "start_time": "2023-05-19T20:41:32.265Z"
      },
      {
        "duration": 4,
        "start_time": "2023-05-19T20:41:33.434Z"
      },
      {
        "duration": 68,
        "start_time": "2023-05-19T20:41:33.440Z"
      },
      {
        "duration": 3802,
        "start_time": "2023-05-19T20:41:33.510Z"
      },
      {
        "duration": 3,
        "start_time": "2023-05-19T20:41:37.314Z"
      },
      {
        "duration": 75,
        "start_time": "2023-05-19T20:41:37.319Z"
      },
      {
        "duration": 3,
        "start_time": "2023-05-19T20:41:37.396Z"
      },
      {
        "duration": 21,
        "start_time": "2023-05-19T20:41:37.401Z"
      },
      {
        "duration": 90,
        "start_time": "2023-05-19T20:41:37.427Z"
      },
      {
        "duration": 2,
        "start_time": "2023-05-19T20:41:37.519Z"
      },
      {
        "duration": 15,
        "start_time": "2023-05-19T20:41:37.523Z"
      },
      {
        "duration": 30,
        "start_time": "2023-05-19T20:41:37.541Z"
      },
      {
        "duration": 46058,
        "start_time": "2023-05-19T20:41:37.572Z"
      },
      {
        "duration": 3,
        "start_time": "2023-05-19T20:42:23.632Z"
      },
      {
        "duration": 13,
        "start_time": "2023-05-19T20:42:23.636Z"
      },
      {
        "duration": 7,
        "start_time": "2023-05-19T20:42:23.650Z"
      },
      {
        "duration": 32,
        "start_time": "2023-05-19T20:42:23.659Z"
      },
      {
        "duration": 10,
        "start_time": "2023-05-19T20:42:23.693Z"
      },
      {
        "duration": 44402,
        "start_time": "2023-05-19T20:42:23.704Z"
      },
      {
        "duration": 24,
        "start_time": "2023-05-19T20:43:08.107Z"
      },
      {
        "duration": 11582,
        "start_time": "2023-05-19T20:43:08.133Z"
      },
      {
        "duration": 25,
        "start_time": "2023-05-19T20:43:19.717Z"
      },
      {
        "duration": 90,
        "start_time": "2023-05-19T20:43:19.756Z"
      },
      {
        "duration": 132,
        "start_time": "2023-05-19T20:43:19.857Z"
      },
      {
        "duration": 0,
        "start_time": "2023-05-19T20:43:19.990Z"
      },
      {
        "duration": 0,
        "start_time": "2023-05-19T20:43:19.992Z"
      },
      {
        "duration": 0,
        "start_time": "2023-05-19T20:43:19.993Z"
      },
      {
        "duration": 0,
        "start_time": "2023-05-19T20:43:19.994Z"
      },
      {
        "duration": 0,
        "start_time": "2023-05-19T20:43:19.995Z"
      },
      {
        "duration": 0,
        "start_time": "2023-05-19T20:43:19.996Z"
      },
      {
        "duration": 0,
        "start_time": "2023-05-19T20:43:19.997Z"
      },
      {
        "duration": 0,
        "start_time": "2023-05-19T20:43:19.998Z"
      },
      {
        "duration": 11819,
        "start_time": "2023-05-19T20:50:06.052Z"
      },
      {
        "duration": 26,
        "start_time": "2023-05-19T20:50:17.874Z"
      },
      {
        "duration": 12367,
        "start_time": "2023-05-19T20:50:30.033Z"
      },
      {
        "duration": 25,
        "start_time": "2023-05-19T20:50:42.402Z"
      },
      {
        "duration": 331,
        "start_time": "2023-05-19T20:50:42.429Z"
      },
      {
        "duration": 46,
        "start_time": "2023-05-19T20:50:42.763Z"
      },
      {
        "duration": 67,
        "start_time": "2023-05-19T20:50:42.811Z"
      },
      {
        "duration": 8,
        "start_time": "2023-05-19T20:50:56.370Z"
      },
      {
        "duration": 3,
        "start_time": "2023-05-19T20:50:57.518Z"
      },
      {
        "duration": 4,
        "start_time": "2023-05-19T20:50:58.341Z"
      },
      {
        "duration": 170424,
        "start_time": "2023-05-19T20:50:59.241Z"
      },
      {
        "duration": 18492,
        "start_time": "2023-05-20T17:09:29.381Z"
      },
      {
        "duration": 4,
        "start_time": "2023-05-20T17:09:47.877Z"
      },
      {
        "duration": 41,
        "start_time": "2023-05-20T17:09:47.883Z"
      },
      {
        "duration": 24,
        "start_time": "2023-05-20T17:09:47.926Z"
      },
      {
        "duration": 28,
        "start_time": "2023-05-20T17:09:47.954Z"
      },
      {
        "duration": 35,
        "start_time": "2023-05-20T17:09:47.986Z"
      },
      {
        "duration": 12,
        "start_time": "2023-05-20T17:09:50.695Z"
      },
      {
        "duration": 1528,
        "start_time": "2023-05-20T17:09:51.023Z"
      },
      {
        "duration": 3388,
        "start_time": "2023-05-20T17:09:52.554Z"
      },
      {
        "duration": 12357,
        "start_time": "2023-05-20T17:09:55.944Z"
      },
      {
        "duration": 1654,
        "start_time": "2023-05-20T17:10:08.304Z"
      },
      {
        "duration": 51,
        "start_time": "2023-05-20T17:10:09.960Z"
      },
      {
        "duration": 27,
        "start_time": "2023-05-20T17:10:10.014Z"
      },
      {
        "duration": 4,
        "start_time": "2023-05-20T17:10:10.043Z"
      },
      {
        "duration": 369,
        "start_time": "2023-05-20T17:10:10.049Z"
      },
      {
        "duration": 608,
        "start_time": "2023-05-20T17:10:10.420Z"
      },
      {
        "duration": 182,
        "start_time": "2023-05-20T17:10:11.032Z"
      },
      {
        "duration": 40,
        "start_time": "2023-05-20T17:10:11.217Z"
      },
      {
        "duration": 1223,
        "start_time": "2023-05-20T17:10:11.260Z"
      },
      {
        "duration": 157,
        "start_time": "2023-05-20T17:10:12.485Z"
      },
      {
        "duration": 179,
        "start_time": "2023-05-20T17:10:12.644Z"
      },
      {
        "duration": 4,
        "start_time": "2023-05-20T17:10:12.825Z"
      },
      {
        "duration": 192,
        "start_time": "2023-05-20T17:10:12.831Z"
      },
      {
        "duration": 99,
        "start_time": "2023-05-20T17:10:13.025Z"
      },
      {
        "duration": 23,
        "start_time": "2023-05-20T17:10:13.127Z"
      },
      {
        "duration": 56,
        "start_time": "2023-05-20T17:10:13.152Z"
      },
      {
        "duration": 33,
        "start_time": "2023-05-20T17:10:13.211Z"
      },
      {
        "duration": 17,
        "start_time": "2023-05-20T17:10:13.248Z"
      },
      {
        "duration": 35,
        "start_time": "2023-05-20T17:10:13.268Z"
      },
      {
        "duration": 21,
        "start_time": "2023-05-20T17:10:13.306Z"
      },
      {
        "duration": 31,
        "start_time": "2023-05-20T17:10:13.331Z"
      },
      {
        "duration": 30,
        "start_time": "2023-05-20T17:10:13.365Z"
      },
      {
        "duration": 1757,
        "start_time": "2023-05-20T17:10:13.397Z"
      },
      {
        "duration": 4,
        "start_time": "2023-05-20T17:10:15.157Z"
      },
      {
        "duration": 104,
        "start_time": "2023-05-20T17:10:15.174Z"
      },
      {
        "duration": 4936,
        "start_time": "2023-05-20T17:10:15.280Z"
      },
      {
        "duration": 3,
        "start_time": "2023-05-20T17:10:20.219Z"
      },
      {
        "duration": 122,
        "start_time": "2023-05-20T17:10:20.225Z"
      },
      {
        "duration": 24,
        "start_time": "2023-05-20T17:10:20.350Z"
      },
      {
        "duration": 29,
        "start_time": "2023-05-20T17:10:20.379Z"
      },
      {
        "duration": 136,
        "start_time": "2023-05-20T17:10:20.410Z"
      },
      {
        "duration": 4,
        "start_time": "2023-05-20T17:10:20.548Z"
      },
      {
        "duration": 38,
        "start_time": "2023-05-20T17:10:20.554Z"
      },
      {
        "duration": 27,
        "start_time": "2023-05-20T17:10:20.595Z"
      },
      {
        "duration": 235,
        "start_time": "2023-05-20T17:10:20.625Z"
      },
      {
        "duration": 0,
        "start_time": "2023-05-20T17:10:20.863Z"
      },
      {
        "duration": 0,
        "start_time": "2023-05-20T17:10:20.866Z"
      },
      {
        "duration": 0,
        "start_time": "2023-05-20T17:10:20.872Z"
      },
      {
        "duration": 0,
        "start_time": "2023-05-20T17:10:20.873Z"
      },
      {
        "duration": 0,
        "start_time": "2023-05-20T17:10:20.875Z"
      },
      {
        "duration": 0,
        "start_time": "2023-05-20T17:10:20.876Z"
      },
      {
        "duration": 0,
        "start_time": "2023-05-20T17:10:20.879Z"
      },
      {
        "duration": 0,
        "start_time": "2023-05-20T17:10:20.880Z"
      },
      {
        "duration": 0,
        "start_time": "2023-05-20T17:10:20.881Z"
      },
      {
        "duration": 0,
        "start_time": "2023-05-20T17:10:20.883Z"
      },
      {
        "duration": 0,
        "start_time": "2023-05-20T17:10:20.884Z"
      },
      {
        "duration": 0,
        "start_time": "2023-05-20T17:10:20.886Z"
      },
      {
        "duration": 0,
        "start_time": "2023-05-20T17:10:20.888Z"
      },
      {
        "duration": 0,
        "start_time": "2023-05-20T17:10:20.889Z"
      },
      {
        "duration": 0,
        "start_time": "2023-05-20T17:10:20.890Z"
      },
      {
        "duration": 0,
        "start_time": "2023-05-20T17:10:20.892Z"
      },
      {
        "duration": 0,
        "start_time": "2023-05-20T17:10:20.893Z"
      },
      {
        "duration": 0,
        "start_time": "2023-05-20T17:10:20.896Z"
      },
      {
        "duration": 0,
        "start_time": "2023-05-20T17:10:20.897Z"
      },
      {
        "duration": 11083,
        "start_time": "2023-05-20T17:28:12.195Z"
      },
      {
        "duration": 5,
        "start_time": "2023-05-20T17:28:23.281Z"
      },
      {
        "duration": 15,
        "start_time": "2023-05-20T17:28:23.287Z"
      },
      {
        "duration": 20,
        "start_time": "2023-05-20T17:28:23.305Z"
      },
      {
        "duration": 15,
        "start_time": "2023-05-20T17:28:23.327Z"
      },
      {
        "duration": 15,
        "start_time": "2023-05-20T17:28:23.344Z"
      },
      {
        "duration": 20,
        "start_time": "2023-05-20T17:28:23.361Z"
      },
      {
        "duration": 1088,
        "start_time": "2023-05-20T17:28:23.383Z"
      },
      {
        "duration": 3279,
        "start_time": "2023-05-20T17:28:24.473Z"
      },
      {
        "duration": 12194,
        "start_time": "2023-05-20T17:28:27.755Z"
      },
      {
        "duration": 1440,
        "start_time": "2023-05-20T17:28:39.952Z"
      },
      {
        "duration": 45,
        "start_time": "2023-05-20T17:28:41.394Z"
      },
      {
        "duration": 46,
        "start_time": "2023-05-20T17:28:41.442Z"
      },
      {
        "duration": 2,
        "start_time": "2023-05-20T17:28:41.492Z"
      },
      {
        "duration": 421,
        "start_time": "2023-05-20T17:28:41.499Z"
      },
      {
        "duration": 533,
        "start_time": "2023-05-20T17:28:41.924Z"
      },
      {
        "duration": 251,
        "start_time": "2023-05-20T17:28:42.460Z"
      },
      {
        "duration": 63,
        "start_time": "2023-05-20T17:28:42.714Z"
      },
      {
        "duration": 1231,
        "start_time": "2023-05-20T17:28:42.780Z"
      },
      {
        "duration": 157,
        "start_time": "2023-05-20T17:28:44.014Z"
      },
      {
        "duration": 130,
        "start_time": "2023-05-20T17:28:44.174Z"
      },
      {
        "duration": 7,
        "start_time": "2023-05-20T17:28:44.305Z"
      },
      {
        "duration": 21,
        "start_time": "2023-05-20T17:28:44.314Z"
      },
      {
        "duration": 69,
        "start_time": "2023-05-20T17:28:44.337Z"
      },
      {
        "duration": 7,
        "start_time": "2023-05-20T17:28:44.408Z"
      },
      {
        "duration": 6,
        "start_time": "2023-05-20T17:28:44.417Z"
      },
      {
        "duration": 19,
        "start_time": "2023-05-20T17:28:44.425Z"
      },
      {
        "duration": 22,
        "start_time": "2023-05-20T17:28:44.450Z"
      },
      {
        "duration": 41,
        "start_time": "2023-05-20T17:28:44.477Z"
      },
      {
        "duration": 24,
        "start_time": "2023-05-20T17:28:44.522Z"
      },
      {
        "duration": 30,
        "start_time": "2023-05-20T17:28:44.548Z"
      },
      {
        "duration": 23,
        "start_time": "2023-05-20T17:28:44.580Z"
      },
      {
        "duration": 1340,
        "start_time": "2023-05-20T17:28:44.605Z"
      },
      {
        "duration": 5,
        "start_time": "2023-05-20T17:28:45.947Z"
      },
      {
        "duration": 86,
        "start_time": "2023-05-20T17:28:45.955Z"
      },
      {
        "duration": 4413,
        "start_time": "2023-05-20T17:28:46.043Z"
      },
      {
        "duration": 4,
        "start_time": "2023-05-20T17:28:50.459Z"
      },
      {
        "duration": 58,
        "start_time": "2023-05-20T17:28:50.472Z"
      },
      {
        "duration": 8,
        "start_time": "2023-05-20T17:28:50.532Z"
      },
      {
        "duration": 39,
        "start_time": "2023-05-20T17:28:50.542Z"
      },
      {
        "duration": 89,
        "start_time": "2023-05-20T17:28:50.584Z"
      },
      {
        "duration": 3,
        "start_time": "2023-05-20T17:28:50.675Z"
      },
      {
        "duration": 27,
        "start_time": "2023-05-20T17:28:50.680Z"
      },
      {
        "duration": 38,
        "start_time": "2023-05-20T17:28:50.710Z"
      },
      {
        "duration": 50351,
        "start_time": "2023-05-20T17:28:50.751Z"
      },
      {
        "duration": 3,
        "start_time": "2023-05-20T17:29:41.104Z"
      },
      {
        "duration": 25,
        "start_time": "2023-05-20T17:29:41.110Z"
      },
      {
        "duration": 15,
        "start_time": "2023-05-20T17:29:41.138Z"
      },
      {
        "duration": 34,
        "start_time": "2023-05-20T17:29:41.156Z"
      },
      {
        "duration": 12,
        "start_time": "2023-05-20T17:29:41.193Z"
      },
      {
        "duration": 17226,
        "start_time": "2023-05-20T17:29:41.208Z"
      },
      {
        "duration": 39,
        "start_time": "2023-05-20T17:29:58.436Z"
      },
      {
        "duration": 15421,
        "start_time": "2023-05-20T17:29:58.477Z"
      },
      {
        "duration": 26,
        "start_time": "2023-05-20T17:30:13.901Z"
      },
      {
        "duration": 129,
        "start_time": "2023-05-20T17:30:13.930Z"
      },
      {
        "duration": 71,
        "start_time": "2023-05-20T17:30:14.061Z"
      },
      {
        "duration": 68,
        "start_time": "2023-05-20T17:30:14.133Z"
      },
      {
        "duration": 18,
        "start_time": "2023-05-20T17:30:14.204Z"
      },
      {
        "duration": 73,
        "start_time": "2023-05-20T17:30:14.224Z"
      },
      {
        "duration": 23,
        "start_time": "2023-05-20T17:30:14.299Z"
      },
      {
        "duration": 289169,
        "start_time": "2023-05-20T17:30:14.325Z"
      },
      {
        "duration": 89,
        "start_time": "2023-05-20T17:35:03.497Z"
      },
      {
        "duration": 116,
        "start_time": "2023-05-20T17:35:03.589Z"
      },
      {
        "duration": 27,
        "start_time": "2023-05-20T17:35:03.707Z"
      },
      {
        "duration": 117,
        "start_time": "2023-05-20T17:39:06.886Z"
      },
      {
        "duration": 11732,
        "start_time": "2023-05-20T17:40:07.490Z"
      },
      {
        "duration": 4,
        "start_time": "2023-05-20T17:40:19.225Z"
      },
      {
        "duration": 15,
        "start_time": "2023-05-20T17:40:19.231Z"
      },
      {
        "duration": 17,
        "start_time": "2023-05-20T17:40:19.247Z"
      },
      {
        "duration": 22,
        "start_time": "2023-05-20T17:40:19.266Z"
      },
      {
        "duration": 15,
        "start_time": "2023-05-20T17:40:19.290Z"
      },
      {
        "duration": 11,
        "start_time": "2023-05-20T17:40:19.307Z"
      },
      {
        "duration": 1293,
        "start_time": "2023-05-20T17:40:19.320Z"
      },
      {
        "duration": 3124,
        "start_time": "2023-05-20T17:40:20.615Z"
      },
      {
        "duration": 11829,
        "start_time": "2023-05-20T17:40:23.741Z"
      },
      {
        "duration": 1510,
        "start_time": "2023-05-20T17:40:35.576Z"
      },
      {
        "duration": 34,
        "start_time": "2023-05-20T17:40:37.092Z"
      },
      {
        "duration": 21,
        "start_time": "2023-05-20T17:40:37.128Z"
      },
      {
        "duration": 27,
        "start_time": "2023-05-20T17:40:37.153Z"
      },
      {
        "duration": 303,
        "start_time": "2023-05-20T17:40:37.183Z"
      },
      {
        "duration": 577,
        "start_time": "2023-05-20T17:40:37.488Z"
      },
      {
        "duration": 214,
        "start_time": "2023-05-20T17:40:38.068Z"
      },
      {
        "duration": 35,
        "start_time": "2023-05-20T17:40:38.289Z"
      },
      {
        "duration": 1157,
        "start_time": "2023-05-20T17:40:38.326Z"
      },
      {
        "duration": 146,
        "start_time": "2023-05-20T17:40:39.485Z"
      },
      {
        "duration": 114,
        "start_time": "2023-05-20T17:40:39.633Z"
      },
      {
        "duration": 3,
        "start_time": "2023-05-20T17:40:39.748Z"
      },
      {
        "duration": 31,
        "start_time": "2023-05-20T17:40:39.753Z"
      },
      {
        "duration": 51,
        "start_time": "2023-05-20T17:40:39.786Z"
      },
      {
        "duration": 15,
        "start_time": "2023-05-20T17:40:39.839Z"
      },
      {
        "duration": 6,
        "start_time": "2023-05-20T17:40:39.856Z"
      },
      {
        "duration": 8,
        "start_time": "2023-05-20T17:40:39.872Z"
      },
      {
        "duration": 10,
        "start_time": "2023-05-20T17:40:39.882Z"
      },
      {
        "duration": 28,
        "start_time": "2023-05-20T17:40:39.894Z"
      },
      {
        "duration": 19,
        "start_time": "2023-05-20T17:40:39.924Z"
      },
      {
        "duration": 18,
        "start_time": "2023-05-20T17:40:39.945Z"
      },
      {
        "duration": 27,
        "start_time": "2023-05-20T17:40:39.966Z"
      },
      {
        "duration": 1325,
        "start_time": "2023-05-20T17:40:39.995Z"
      },
      {
        "duration": 4,
        "start_time": "2023-05-20T17:40:41.322Z"
      },
      {
        "duration": 79,
        "start_time": "2023-05-20T17:40:41.328Z"
      },
      {
        "duration": 4335,
        "start_time": "2023-05-20T17:40:41.409Z"
      },
      {
        "duration": 3,
        "start_time": "2023-05-20T17:40:45.746Z"
      },
      {
        "duration": 75,
        "start_time": "2023-05-20T17:40:45.751Z"
      },
      {
        "duration": 3,
        "start_time": "2023-05-20T17:40:45.828Z"
      },
      {
        "duration": 23,
        "start_time": "2023-05-20T17:40:45.833Z"
      },
      {
        "duration": 91,
        "start_time": "2023-05-20T17:40:45.870Z"
      },
      {
        "duration": 16,
        "start_time": "2023-05-20T17:40:45.963Z"
      },
      {
        "duration": 22,
        "start_time": "2023-05-20T17:40:45.986Z"
      },
      {
        "duration": 44,
        "start_time": "2023-05-20T17:40:46.010Z"
      },
      {
        "duration": 39939,
        "start_time": "2023-05-20T17:40:46.056Z"
      },
      {
        "duration": 3,
        "start_time": "2023-05-20T17:41:25.998Z"
      },
      {
        "duration": 23,
        "start_time": "2023-05-20T17:41:26.003Z"
      },
      {
        "duration": 9,
        "start_time": "2023-05-20T17:41:26.028Z"
      },
      {
        "duration": 18,
        "start_time": "2023-05-20T17:41:26.039Z"
      },
      {
        "duration": 36,
        "start_time": "2023-05-20T17:41:26.059Z"
      },
      {
        "duration": 12557,
        "start_time": "2023-05-20T17:41:26.099Z"
      },
      {
        "duration": 40,
        "start_time": "2023-05-20T17:41:38.658Z"
      },
      {
        "duration": 12320,
        "start_time": "2023-05-20T17:41:38.700Z"
      },
      {
        "duration": 30,
        "start_time": "2023-05-20T17:41:51.022Z"
      },
      {
        "duration": 131,
        "start_time": "2023-05-20T17:41:51.054Z"
      },
      {
        "duration": 51,
        "start_time": "2023-05-20T17:41:51.192Z"
      },
      {
        "duration": 55,
        "start_time": "2023-05-20T17:41:51.245Z"
      },
      {
        "duration": 7,
        "start_time": "2023-05-20T17:41:51.303Z"
      },
      {
        "duration": 7,
        "start_time": "2023-05-20T17:41:51.313Z"
      },
      {
        "duration": 35,
        "start_time": "2023-05-20T17:41:51.323Z"
      },
      {
        "duration": 4,
        "start_time": "2023-05-20T17:56:20.093Z"
      },
      {
        "duration": 26216,
        "start_time": "2023-05-20T17:56:46.718Z"
      },
      {
        "duration": 3,
        "start_time": "2023-05-20T17:57:12.937Z"
      },
      {
        "duration": 64,
        "start_time": "2023-05-20T17:57:12.942Z"
      },
      {
        "duration": 42,
        "start_time": "2023-05-20T17:57:13.009Z"
      },
      {
        "duration": 14,
        "start_time": "2023-05-20T17:57:13.053Z"
      },
      {
        "duration": 144,
        "start_time": "2023-05-20T17:57:13.068Z"
      },
      {
        "duration": 6,
        "start_time": "2023-05-20T17:57:21.481Z"
      },
      {
        "duration": 1427,
        "start_time": "2023-05-20T17:57:22.993Z"
      },
      {
        "duration": 3441,
        "start_time": "2023-05-20T17:57:24.423Z"
      },
      {
        "duration": 12444,
        "start_time": "2023-05-20T17:57:28.465Z"
      },
      {
        "duration": 1614,
        "start_time": "2023-05-20T17:57:40.912Z"
      },
      {
        "duration": 45,
        "start_time": "2023-05-20T17:57:42.528Z"
      },
      {
        "duration": 28,
        "start_time": "2023-05-20T17:57:42.576Z"
      },
      {
        "duration": 10,
        "start_time": "2023-05-20T17:57:42.607Z"
      },
      {
        "duration": 349,
        "start_time": "2023-05-20T17:57:42.618Z"
      },
      {
        "duration": 554,
        "start_time": "2023-05-20T17:57:42.971Z"
      },
      {
        "duration": 177,
        "start_time": "2023-05-20T17:57:43.528Z"
      },
      {
        "duration": 32,
        "start_time": "2023-05-20T17:57:43.707Z"
      },
      {
        "duration": 1130,
        "start_time": "2023-05-20T17:57:43.742Z"
      },
      {
        "duration": 156,
        "start_time": "2023-05-20T17:57:44.893Z"
      },
      {
        "duration": 1349,
        "start_time": "2023-05-20T17:57:45.051Z"
      },
      {
        "duration": 8,
        "start_time": "2023-05-20T17:57:47.869Z"
      },
      {
        "duration": 20,
        "start_time": "2023-05-20T17:57:48.865Z"
      },
      {
        "duration": 99,
        "start_time": "2023-05-20T17:57:49.800Z"
      },
      {
        "duration": 6,
        "start_time": "2023-05-20T17:57:50.900Z"
      },
      {
        "duration": 3,
        "start_time": "2023-05-20T17:57:51.149Z"
      },
      {
        "duration": 2,
        "start_time": "2023-05-20T17:57:51.457Z"
      },
      {
        "duration": 6,
        "start_time": "2023-05-20T17:57:51.902Z"
      },
      {
        "duration": 19,
        "start_time": "2023-05-20T17:57:52.157Z"
      },
      {
        "duration": 15,
        "start_time": "2023-05-20T17:57:52.604Z"
      },
      {
        "duration": 24,
        "start_time": "2023-05-20T17:57:53.161Z"
      },
      {
        "duration": 26,
        "start_time": "2023-05-20T17:57:53.668Z"
      },
      {
        "duration": 1532,
        "start_time": "2023-05-20T17:57:53.865Z"
      },
      {
        "duration": 162,
        "start_time": "2023-05-20T17:57:55.399Z"
      },
      {
        "duration": 50,
        "start_time": "2023-05-20T17:58:11.965Z"
      },
      {
        "duration": 3102,
        "start_time": "2023-05-20T17:58:23.193Z"
      },
      {
        "duration": 5,
        "start_time": "2023-05-20T18:00:10.888Z"
      },
      {
        "duration": 3,
        "start_time": "2023-05-20T18:00:13.757Z"
      },
      {
        "duration": 77,
        "start_time": "2023-05-20T18:00:13.957Z"
      },
      {
        "duration": 4493,
        "start_time": "2023-05-20T18:00:14.492Z"
      },
      {
        "duration": 3,
        "start_time": "2023-05-20T18:00:18.988Z"
      },
      {
        "duration": 88,
        "start_time": "2023-05-20T18:00:18.993Z"
      },
      {
        "duration": 12,
        "start_time": "2023-05-20T18:00:19.085Z"
      },
      {
        "duration": 21,
        "start_time": "2023-05-20T18:00:19.100Z"
      },
      {
        "duration": 85,
        "start_time": "2023-05-20T18:00:19.123Z"
      },
      {
        "duration": 3,
        "start_time": "2023-05-20T18:00:19.210Z"
      },
      {
        "duration": 16,
        "start_time": "2023-05-20T18:00:19.214Z"
      },
      {
        "duration": 11,
        "start_time": "2023-05-20T18:00:19.232Z"
      },
      {
        "duration": 48,
        "start_time": "2023-05-20T18:00:19.246Z"
      },
      {
        "duration": 0,
        "start_time": "2023-05-20T18:00:19.305Z"
      },
      {
        "duration": 0,
        "start_time": "2023-05-20T18:00:19.308Z"
      },
      {
        "duration": 0,
        "start_time": "2023-05-20T18:00:19.309Z"
      },
      {
        "duration": 0,
        "start_time": "2023-05-20T18:00:19.310Z"
      },
      {
        "duration": 0,
        "start_time": "2023-05-20T18:00:19.311Z"
      },
      {
        "duration": 0,
        "start_time": "2023-05-20T18:00:19.312Z"
      },
      {
        "duration": 0,
        "start_time": "2023-05-20T18:00:19.313Z"
      },
      {
        "duration": 0,
        "start_time": "2023-05-20T18:00:19.314Z"
      },
      {
        "duration": 0,
        "start_time": "2023-05-20T18:00:19.315Z"
      },
      {
        "duration": 0,
        "start_time": "2023-05-20T18:00:19.316Z"
      },
      {
        "duration": 0,
        "start_time": "2023-05-20T18:00:19.318Z"
      },
      {
        "duration": 18,
        "start_time": "2023-05-20T18:00:19.369Z"
      },
      {
        "duration": 12,
        "start_time": "2023-05-20T18:00:19.793Z"
      },
      {
        "duration": 3,
        "start_time": "2023-05-20T18:00:20.123Z"
      },
      {
        "duration": 3,
        "start_time": "2023-05-20T18:00:20.507Z"
      },
      {
        "duration": 927,
        "start_time": "2023-05-20T18:00:20.792Z"
      },
      {
        "duration": 16997,
        "start_time": "2023-05-22T16:37:30.040Z"
      },
      {
        "duration": 2299,
        "start_time": "2023-05-22T16:37:47.040Z"
      },
      {
        "duration": 2324,
        "start_time": "2023-05-22T16:37:49.342Z"
      },
      {
        "duration": 1503,
        "start_time": "2023-05-22T16:37:51.669Z"
      },
      {
        "duration": 3,
        "start_time": "2023-05-22T16:37:53.173Z"
      },
      {
        "duration": 424,
        "start_time": "2023-05-22T16:37:53.178Z"
      },
      {
        "duration": 143,
        "start_time": "2023-05-22T16:37:53.604Z"
      },
      {
        "duration": 11,
        "start_time": "2023-05-22T16:37:53.749Z"
      },
      {
        "duration": 8,
        "start_time": "2023-05-22T16:37:53.762Z"
      },
      {
        "duration": 7,
        "start_time": "2023-05-22T16:37:53.772Z"
      },
      {
        "duration": 22,
        "start_time": "2023-05-22T16:37:53.780Z"
      },
      {
        "duration": 42,
        "start_time": "2023-05-22T16:37:53.804Z"
      },
      {
        "duration": 8,
        "start_time": "2023-05-22T16:37:53.848Z"
      },
      {
        "duration": 12,
        "start_time": "2023-05-22T16:37:53.857Z"
      },
      {
        "duration": 3202,
        "start_time": "2023-05-22T16:37:53.872Z"
      },
      {
        "duration": 3036,
        "start_time": "2023-05-22T16:37:57.076Z"
      },
      {
        "duration": 11353,
        "start_time": "2023-05-22T16:38:00.114Z"
      },
      {
        "duration": 1372,
        "start_time": "2023-05-22T16:38:11.468Z"
      },
      {
        "duration": 30,
        "start_time": "2023-05-22T16:38:12.842Z"
      },
      {
        "duration": 19,
        "start_time": "2023-05-22T16:38:12.874Z"
      },
      {
        "duration": 3,
        "start_time": "2023-05-22T16:38:12.894Z"
      },
      {
        "duration": 312,
        "start_time": "2023-05-22T16:38:12.899Z"
      },
      {
        "duration": 479,
        "start_time": "2023-05-22T16:38:13.213Z"
      },
      {
        "duration": 200,
        "start_time": "2023-05-22T16:41:04.440Z"
      },
      {
        "duration": 31,
        "start_time": "2023-05-22T16:41:04.950Z"
      },
      {
        "duration": 1063,
        "start_time": "2023-05-22T16:41:05.253Z"
      },
      {
        "duration": 146,
        "start_time": "2023-05-22T16:41:06.325Z"
      },
      {
        "duration": 119,
        "start_time": "2023-05-22T16:41:06.473Z"
      },
      {
        "duration": 3,
        "start_time": "2023-05-22T16:41:06.594Z"
      },
      {
        "duration": 13,
        "start_time": "2023-05-22T16:41:06.599Z"
      },
      {
        "duration": 61,
        "start_time": "2023-05-22T16:41:06.625Z"
      },
      {
        "duration": 6,
        "start_time": "2023-05-22T16:41:06.778Z"
      },
      {
        "duration": 3,
        "start_time": "2023-05-22T16:41:06.984Z"
      },
      {
        "duration": 2,
        "start_time": "2023-05-22T16:41:07.172Z"
      },
      {
        "duration": 3,
        "start_time": "2023-05-22T16:41:07.350Z"
      },
      {
        "duration": 16,
        "start_time": "2023-05-22T16:41:07.532Z"
      },
      {
        "duration": 12,
        "start_time": "2023-05-22T16:41:07.733Z"
      },
      {
        "duration": 16,
        "start_time": "2023-05-22T16:41:07.915Z"
      },
      {
        "duration": 13,
        "start_time": "2023-05-22T16:41:08.299Z"
      },
      {
        "duration": 1287,
        "start_time": "2023-05-22T16:41:08.518Z"
      },
      {
        "duration": 2,
        "start_time": "2023-05-22T16:41:09.807Z"
      },
      {
        "duration": 14,
        "start_time": "2023-05-22T16:41:09.811Z"
      },
      {
        "duration": 74,
        "start_time": "2023-05-22T16:41:09.831Z"
      },
      {
        "duration": 3916,
        "start_time": "2023-05-22T16:41:09.947Z"
      },
      {
        "duration": 75,
        "start_time": "2023-05-22T16:41:23.978Z"
      },
      {
        "duration": 3,
        "start_time": "2023-05-22T16:41:24.178Z"
      },
      {
        "duration": 13,
        "start_time": "2023-05-22T16:41:24.547Z"
      },
      {
        "duration": 72,
        "start_time": "2023-05-22T16:41:24.773Z"
      },
      {
        "duration": 3,
        "start_time": "2023-05-22T16:41:25.110Z"
      },
      {
        "duration": 34094,
        "start_time": "2023-05-22T16:41:25.581Z"
      },
      {
        "duration": 8439,
        "start_time": "2023-05-22T16:41:59.677Z"
      },
      {
        "duration": 28,
        "start_time": "2023-05-22T16:42:08.118Z"
      },
      {
        "duration": 7958,
        "start_time": "2023-05-22T16:42:08.148Z"
      },
      {
        "duration": 32,
        "start_time": "2023-05-22T16:42:16.108Z"
      },
      {
        "duration": 100,
        "start_time": "2023-05-22T16:42:16.142Z"
      },
      {
        "duration": 45,
        "start_time": "2023-05-22T16:42:16.244Z"
      },
      {
        "duration": 63,
        "start_time": "2023-05-22T16:42:16.291Z"
      },
      {
        "duration": 6,
        "start_time": "2023-05-22T16:42:16.356Z"
      },
      {
        "duration": 22986,
        "start_time": "2023-05-22T16:42:16.365Z"
      },
      {
        "duration": 195,
        "start_time": "2023-05-22T16:42:39.353Z"
      },
      {
        "duration": 11,
        "start_time": "2023-05-22T16:42:39.625Z"
      },
      {
        "duration": 6,
        "start_time": "2023-05-22T16:42:39.727Z"
      },
      {
        "duration": 58289,
        "start_time": "2023-05-22T16:42:39.735Z"
      },
      {
        "duration": 152,
        "start_time": "2023-05-22T16:43:38.026Z"
      },
      {
        "duration": 5,
        "start_time": "2023-05-22T16:43:38.179Z"
      },
      {
        "duration": 114057,
        "start_time": "2023-05-22T16:43:38.186Z"
      },
      {
        "duration": 20793,
        "start_time": "2023-05-22T16:45:32.245Z"
      },
      {
        "duration": 397,
        "start_time": "2023-05-22T16:45:53.040Z"
      },
      {
        "duration": 7,
        "start_time": "2023-05-22T16:45:53.439Z"
      },
      {
        "duration": 8,
        "start_time": "2023-05-22T16:45:53.447Z"
      },
      {
        "duration": 8,
        "start_time": "2023-05-22T16:45:53.456Z"
      },
      {
        "duration": 79,
        "start_time": "2023-05-22T16:45:53.466Z"
      },
      {
        "duration": 5151,
        "start_time": "2023-05-22T16:45:53.547Z"
      },
      {
        "duration": 93,
        "start_time": "2023-05-22T16:45:58.700Z"
      },
      {
        "duration": 4,
        "start_time": "2023-05-22T16:45:58.795Z"
      },
      {
        "duration": 5,
        "start_time": "2023-05-22T16:45:58.800Z"
      },
      {
        "duration": 4,
        "start_time": "2023-05-22T16:45:58.808Z"
      },
      {
        "duration": 25,
        "start_time": "2023-05-22T16:45:58.814Z"
      },
      {
        "duration": 52,
        "start_time": "2023-05-22T16:55:10.153Z"
      },
      {
        "duration": 65,
        "start_time": "2023-05-22T16:55:35.583Z"
      },
      {
        "duration": 98,
        "start_time": "2023-05-22T16:56:19.090Z"
      },
      {
        "duration": 166,
        "start_time": "2023-05-22T17:11:25.056Z"
      },
      {
        "duration": 1298,
        "start_time": "2023-05-22T17:15:10.907Z"
      },
      {
        "duration": 8895,
        "start_time": "2023-05-22T17:15:50.407Z"
      },
      {
        "duration": 2348,
        "start_time": "2023-05-22T17:15:59.305Z"
      },
      {
        "duration": 2427,
        "start_time": "2023-05-22T17:16:01.656Z"
      },
      {
        "duration": 1320,
        "start_time": "2023-05-22T17:16:04.086Z"
      },
      {
        "duration": 3,
        "start_time": "2023-05-22T17:16:05.408Z"
      },
      {
        "duration": 19,
        "start_time": "2023-05-22T17:16:05.412Z"
      },
      {
        "duration": 9,
        "start_time": "2023-05-22T17:16:05.433Z"
      },
      {
        "duration": 18,
        "start_time": "2023-05-22T17:16:05.444Z"
      },
      {
        "duration": 8,
        "start_time": "2023-05-22T17:16:31.162Z"
      },
      {
        "duration": 5,
        "start_time": "2023-05-22T17:16:31.553Z"
      },
      {
        "duration": 5,
        "start_time": "2023-05-22T17:16:32.149Z"
      },
      {
        "duration": 2,
        "start_time": "2023-05-22T17:16:32.755Z"
      },
      {
        "duration": 2,
        "start_time": "2023-05-22T17:16:34.758Z"
      },
      {
        "duration": 2,
        "start_time": "2023-05-22T17:16:35.525Z"
      },
      {
        "duration": 864,
        "start_time": "2023-05-22T17:16:36.084Z"
      },
      {
        "duration": 3052,
        "start_time": "2023-05-22T17:16:36.950Z"
      },
      {
        "duration": 10910,
        "start_time": "2023-05-22T17:16:40.845Z"
      },
      {
        "duration": 1471,
        "start_time": "2023-05-22T17:16:51.757Z"
      },
      {
        "duration": 29,
        "start_time": "2023-05-22T17:16:53.230Z"
      },
      {
        "duration": 20,
        "start_time": "2023-05-22T17:16:53.262Z"
      },
      {
        "duration": 3,
        "start_time": "2023-05-22T17:16:53.284Z"
      },
      {
        "duration": 325,
        "start_time": "2023-05-22T17:16:53.288Z"
      },
      {
        "duration": 488,
        "start_time": "2023-05-22T17:16:53.615Z"
      },
      {
        "duration": 2,
        "start_time": "2023-05-22T17:16:54.105Z"
      },
      {
        "duration": 101,
        "start_time": "2023-05-22T17:16:54.109Z"
      },
      {
        "duration": 3,
        "start_time": "2023-05-22T17:16:54.212Z"
      },
      {
        "duration": 33,
        "start_time": "2023-05-22T17:16:54.226Z"
      },
      {
        "duration": 1126,
        "start_time": "2023-05-22T17:16:55.058Z"
      },
      {
        "duration": 202,
        "start_time": "2023-05-22T17:17:14.223Z"
      },
      {
        "duration": 141,
        "start_time": "2023-05-22T17:17:17.143Z"
      },
      {
        "duration": 4,
        "start_time": "2023-05-22T17:17:25.111Z"
      },
      {
        "duration": 11,
        "start_time": "2023-05-22T17:17:25.505Z"
      },
      {
        "duration": 75,
        "start_time": "2023-05-22T17:17:26.181Z"
      },
      {
        "duration": 6,
        "start_time": "2023-05-22T17:17:28.416Z"
      },
      {
        "duration": 2,
        "start_time": "2023-05-22T17:18:06.427Z"
      },
      {
        "duration": 2,
        "start_time": "2023-05-22T17:18:07.253Z"
      },
      {
        "duration": 3,
        "start_time": "2023-05-22T17:18:07.536Z"
      },
      {
        "duration": 19,
        "start_time": "2023-05-22T17:18:08.576Z"
      },
      {
        "duration": 24,
        "start_time": "2023-05-22T17:18:09.766Z"
      },
      {
        "duration": 26,
        "start_time": "2023-05-22T17:18:11.473Z"
      },
      {
        "duration": 16,
        "start_time": "2023-05-22T17:18:13.296Z"
      },
      {
        "duration": 1394,
        "start_time": "2023-05-22T17:18:13.921Z"
      },
      {
        "duration": 3,
        "start_time": "2023-05-22T17:19:17.026Z"
      },
      {
        "duration": 81,
        "start_time": "2023-05-22T17:19:19.145Z"
      },
      {
        "duration": 5293,
        "start_time": "2023-05-22T17:19:40.755Z"
      },
      {
        "duration": 8,
        "start_time": "2023-05-22T17:21:05.695Z"
      },
      {
        "duration": 3,
        "start_time": "2023-05-22T17:21:15.686Z"
      },
      {
        "duration": 22,
        "start_time": "2023-05-22T17:22:03.126Z"
      },
      {
        "duration": 22,
        "start_time": "2023-05-22T17:22:20.697Z"
      },
      {
        "duration": 22,
        "start_time": "2023-05-22T17:22:27.565Z"
      },
      {
        "duration": 16,
        "start_time": "2023-05-22T17:25:17.818Z"
      },
      {
        "duration": 6,
        "start_time": "2023-05-22T17:25:50.075Z"
      },
      {
        "duration": 5,
        "start_time": "2023-05-22T17:26:01.566Z"
      },
      {
        "duration": 7,
        "start_time": "2023-05-22T17:26:03.750Z"
      },
      {
        "duration": 5,
        "start_time": "2023-05-22T17:26:15.223Z"
      },
      {
        "duration": 7,
        "start_time": "2023-05-22T17:26:15.654Z"
      },
      {
        "duration": 9,
        "start_time": "2023-05-22T17:26:28.252Z"
      },
      {
        "duration": 9,
        "start_time": "2023-05-22T17:26:31.847Z"
      },
      {
        "duration": 4,
        "start_time": "2023-05-22T17:26:33.615Z"
      },
      {
        "duration": 7,
        "start_time": "2023-05-22T17:26:34.204Z"
      },
      {
        "duration": 9190,
        "start_time": "2023-05-22T17:26:54.826Z"
      },
      {
        "duration": 2319,
        "start_time": "2023-05-22T17:27:04.019Z"
      },
      {
        "duration": 2269,
        "start_time": "2023-05-22T17:27:06.340Z"
      },
      {
        "duration": 1526,
        "start_time": "2023-05-22T17:27:08.613Z"
      },
      {
        "duration": 6,
        "start_time": "2023-05-22T17:27:10.141Z"
      },
      {
        "duration": 7,
        "start_time": "2023-05-22T17:27:10.149Z"
      },
      {
        "duration": 6,
        "start_time": "2023-05-22T17:27:10.158Z"
      },
      {
        "duration": 8,
        "start_time": "2023-05-22T17:27:10.165Z"
      },
      {
        "duration": 7,
        "start_time": "2023-05-22T17:27:10.175Z"
      },
      {
        "duration": 16,
        "start_time": "2023-05-22T17:27:10.185Z"
      },
      {
        "duration": 14,
        "start_time": "2023-05-22T17:27:10.202Z"
      },
      {
        "duration": 9,
        "start_time": "2023-05-22T17:27:10.218Z"
      },
      {
        "duration": 4,
        "start_time": "2023-05-22T17:27:10.229Z"
      },
      {
        "duration": 10,
        "start_time": "2023-05-22T17:27:10.236Z"
      },
      {
        "duration": 861,
        "start_time": "2023-05-22T17:27:10.248Z"
      },
      {
        "duration": 2838,
        "start_time": "2023-05-22T17:27:11.111Z"
      },
      {
        "duration": 11024,
        "start_time": "2023-05-22T17:27:13.951Z"
      },
      {
        "duration": 1334,
        "start_time": "2023-05-22T17:27:24.977Z"
      },
      {
        "duration": 38,
        "start_time": "2023-05-22T17:27:26.312Z"
      },
      {
        "duration": 19,
        "start_time": "2023-05-22T17:27:26.353Z"
      },
      {
        "duration": 2,
        "start_time": "2023-05-22T17:27:26.374Z"
      },
      {
        "duration": 312,
        "start_time": "2023-05-22T17:27:26.378Z"
      },
      {
        "duration": 495,
        "start_time": "2023-05-22T17:27:26.692Z"
      },
      {
        "duration": 3,
        "start_time": "2023-05-22T17:27:27.191Z"
      },
      {
        "duration": 120,
        "start_time": "2023-05-22T17:27:27.195Z"
      },
      {
        "duration": 8,
        "start_time": "2023-05-22T17:27:27.317Z"
      },
      {
        "duration": 36,
        "start_time": "2023-05-22T17:27:27.327Z"
      },
      {
        "duration": 1122,
        "start_time": "2023-05-22T17:27:27.366Z"
      },
      {
        "duration": 195,
        "start_time": "2023-05-22T17:27:28.490Z"
      },
      {
        "duration": 145,
        "start_time": "2023-05-22T17:27:28.686Z"
      },
      {
        "duration": 5,
        "start_time": "2023-05-22T17:27:28.833Z"
      },
      {
        "duration": 33,
        "start_time": "2023-05-22T17:27:28.840Z"
      },
      {
        "duration": 88,
        "start_time": "2023-05-22T17:27:28.874Z"
      },
      {
        "duration": 5,
        "start_time": "2023-05-22T17:27:28.964Z"
      },
      {
        "duration": 3,
        "start_time": "2023-05-22T17:27:28.971Z"
      },
      {
        "duration": 5,
        "start_time": "2023-05-22T17:27:28.976Z"
      },
      {
        "duration": 5,
        "start_time": "2023-05-22T17:27:28.982Z"
      },
      {
        "duration": 37,
        "start_time": "2023-05-22T17:27:28.988Z"
      },
      {
        "duration": 18,
        "start_time": "2023-05-22T17:27:29.027Z"
      },
      {
        "duration": 24,
        "start_time": "2023-05-22T17:27:29.049Z"
      },
      {
        "duration": 17,
        "start_time": "2023-05-22T17:27:29.075Z"
      },
      {
        "duration": 1358,
        "start_time": "2023-05-22T17:27:29.963Z"
      },
      {
        "duration": 3,
        "start_time": "2023-05-22T17:27:32.093Z"
      },
      {
        "duration": 3,
        "start_time": "2023-05-22T17:27:33.225Z"
      },
      {
        "duration": 85,
        "start_time": "2023-05-22T17:27:33.883Z"
      },
      {
        "duration": 69,
        "start_time": "2023-05-22T17:27:34.772Z"
      },
      {
        "duration": 23,
        "start_time": "2023-05-22T17:27:37.215Z"
      },
      {
        "duration": 12,
        "start_time": "2023-05-22T17:27:38.905Z"
      },
      {
        "duration": 323,
        "start_time": "2023-05-22T17:28:53.104Z"
      },
      {
        "duration": 254,
        "start_time": "2023-05-22T17:29:19.870Z"
      },
      {
        "duration": 184,
        "start_time": "2023-05-22T17:29:34.076Z"
      },
      {
        "duration": 230,
        "start_time": "2023-05-22T17:29:42.054Z"
      },
      {
        "duration": 23,
        "start_time": "2023-05-22T17:30:10.791Z"
      },
      {
        "duration": 73,
        "start_time": "2023-05-22T17:33:24.739Z"
      },
      {
        "duration": 222,
        "start_time": "2023-05-22T17:35:00.845Z"
      },
      {
        "duration": 321,
        "start_time": "2023-05-22T17:35:16.345Z"
      },
      {
        "duration": 1667,
        "start_time": "2023-05-22T17:35:26.574Z"
      },
      {
        "duration": 1573,
        "start_time": "2023-05-22T17:36:45.885Z"
      },
      {
        "duration": 211,
        "start_time": "2023-05-22T17:36:58.114Z"
      },
      {
        "duration": 216,
        "start_time": "2023-05-22T17:37:03.106Z"
      },
      {
        "duration": 385,
        "start_time": "2023-05-22T17:37:07.314Z"
      },
      {
        "duration": 111,
        "start_time": "2023-05-22T17:37:11.655Z"
      },
      {
        "duration": 194,
        "start_time": "2023-05-22T17:37:16.504Z"
      },
      {
        "duration": 237,
        "start_time": "2023-05-22T17:38:31.074Z"
      },
      {
        "duration": 124,
        "start_time": "2023-05-22T17:38:40.490Z"
      },
      {
        "duration": 232,
        "start_time": "2023-05-22T17:38:56.553Z"
      },
      {
        "duration": 201,
        "start_time": "2023-05-22T17:39:29.125Z"
      },
      {
        "duration": 189,
        "start_time": "2023-05-22T17:39:39.174Z"
      },
      {
        "duration": 21,
        "start_time": "2023-05-22T17:41:17.054Z"
      },
      {
        "duration": 8,
        "start_time": "2023-05-22T17:57:49.094Z"
      },
      {
        "duration": 170,
        "start_time": "2023-05-22T17:58:01.252Z"
      },
      {
        "duration": 4,
        "start_time": "2023-05-22T17:58:17.715Z"
      },
      {
        "duration": 169,
        "start_time": "2023-05-22T17:58:18.292Z"
      },
      {
        "duration": 8922,
        "start_time": "2023-05-22T17:58:45.742Z"
      },
      {
        "duration": 2307,
        "start_time": "2023-05-22T17:58:54.666Z"
      },
      {
        "duration": 2240,
        "start_time": "2023-05-22T17:58:56.975Z"
      },
      {
        "duration": 1394,
        "start_time": "2023-05-22T17:58:59.218Z"
      },
      {
        "duration": 3,
        "start_time": "2023-05-22T17:59:00.614Z"
      },
      {
        "duration": 27,
        "start_time": "2023-05-22T17:59:00.625Z"
      },
      {
        "duration": 28,
        "start_time": "2023-05-22T17:59:00.654Z"
      },
      {
        "duration": 21,
        "start_time": "2023-05-22T17:59:00.684Z"
      },
      {
        "duration": 21,
        "start_time": "2023-05-22T17:59:00.707Z"
      },
      {
        "duration": 35,
        "start_time": "2023-05-22T17:59:00.732Z"
      },
      {
        "duration": 32,
        "start_time": "2023-05-22T17:59:00.769Z"
      },
      {
        "duration": 81,
        "start_time": "2023-05-22T17:59:00.803Z"
      },
      {
        "duration": 49,
        "start_time": "2023-05-22T17:59:00.886Z"
      },
      {
        "duration": 62,
        "start_time": "2023-05-22T17:59:00.938Z"
      },
      {
        "duration": 1053,
        "start_time": "2023-05-22T17:59:01.003Z"
      },
      {
        "duration": 3013,
        "start_time": "2023-05-22T17:59:02.058Z"
      },
      {
        "duration": 10826,
        "start_time": "2023-05-22T17:59:05.073Z"
      },
      {
        "duration": 1637,
        "start_time": "2023-05-22T17:59:15.901Z"
      },
      {
        "duration": 41,
        "start_time": "2023-05-22T17:59:17.540Z"
      },
      {
        "duration": 21,
        "start_time": "2023-05-22T17:59:17.584Z"
      },
      {
        "duration": 3,
        "start_time": "2023-05-22T17:59:17.624Z"
      },
      {
        "duration": 300,
        "start_time": "2023-05-22T17:59:17.629Z"
      },
      {
        "duration": 498,
        "start_time": "2023-05-22T17:59:17.931Z"
      },
      {
        "duration": 3,
        "start_time": "2023-05-22T17:59:18.431Z"
      },
      {
        "duration": 104,
        "start_time": "2023-05-22T17:59:18.436Z"
      },
      {
        "duration": 3,
        "start_time": "2023-05-22T17:59:18.541Z"
      },
      {
        "duration": 40,
        "start_time": "2023-05-22T17:59:18.546Z"
      },
      {
        "duration": 1160,
        "start_time": "2023-05-22T17:59:18.589Z"
      },
      {
        "duration": 220,
        "start_time": "2023-05-22T17:59:19.752Z"
      },
      {
        "duration": 152,
        "start_time": "2023-05-22T17:59:19.974Z"
      },
      {
        "duration": 3,
        "start_time": "2023-05-22T17:59:20.127Z"
      },
      {
        "duration": 17,
        "start_time": "2023-05-22T17:59:20.131Z"
      },
      {
        "duration": 89,
        "start_time": "2023-05-22T17:59:20.150Z"
      },
      {
        "duration": 6,
        "start_time": "2023-05-22T17:59:20.240Z"
      },
      {
        "duration": 7,
        "start_time": "2023-05-22T17:59:20.247Z"
      },
      {
        "duration": 9,
        "start_time": "2023-05-22T17:59:20.255Z"
      },
      {
        "duration": 5,
        "start_time": "2023-05-22T17:59:20.265Z"
      },
      {
        "duration": 23,
        "start_time": "2023-05-22T17:59:20.272Z"
      },
      {
        "duration": 38,
        "start_time": "2023-05-22T17:59:20.297Z"
      },
      {
        "duration": 21,
        "start_time": "2023-05-22T17:59:20.337Z"
      },
      {
        "duration": 15,
        "start_time": "2023-05-22T17:59:20.360Z"
      },
      {
        "duration": 1377,
        "start_time": "2023-05-22T17:59:20.377Z"
      },
      {
        "duration": 2,
        "start_time": "2023-05-22T17:59:21.756Z"
      },
      {
        "duration": 5,
        "start_time": "2023-05-22T17:59:21.760Z"
      },
      {
        "duration": 103,
        "start_time": "2023-05-22T17:59:21.766Z"
      },
      {
        "duration": 70,
        "start_time": "2023-05-22T17:59:21.871Z"
      },
      {
        "duration": 23,
        "start_time": "2023-05-22T17:59:21.942Z"
      },
      {
        "duration": 9,
        "start_time": "2023-05-22T17:59:21.967Z"
      },
      {
        "duration": 340,
        "start_time": "2023-05-22T17:59:21.978Z"
      },
      {
        "duration": 23,
        "start_time": "2023-05-22T17:59:22.324Z"
      },
      {
        "duration": 215,
        "start_time": "2023-05-22T17:59:22.349Z"
      },
      {
        "duration": 23,
        "start_time": "2023-05-22T17:59:22.566Z"
      },
      {
        "duration": 220,
        "start_time": "2023-05-22T17:59:22.591Z"
      },
      {
        "duration": 24,
        "start_time": "2023-05-22T18:00:11.754Z"
      },
      {
        "duration": 227,
        "start_time": "2023-05-22T18:00:12.455Z"
      },
      {
        "duration": 4,
        "start_time": "2023-05-22T18:00:37.352Z"
      },
      {
        "duration": 4856,
        "start_time": "2023-05-22T18:02:02.251Z"
      },
      {
        "duration": 132,
        "start_time": "2023-05-22T18:03:12.667Z"
      },
      {
        "duration": 9167,
        "start_time": "2023-05-22T18:03:59.050Z"
      },
      {
        "duration": 2431,
        "start_time": "2023-05-22T18:04:08.220Z"
      },
      {
        "duration": 2258,
        "start_time": "2023-05-22T18:04:10.653Z"
      },
      {
        "duration": 1383,
        "start_time": "2023-05-22T18:04:12.914Z"
      },
      {
        "duration": 3,
        "start_time": "2023-05-22T18:04:14.299Z"
      },
      {
        "duration": 5,
        "start_time": "2023-05-22T18:04:14.304Z"
      },
      {
        "duration": 14,
        "start_time": "2023-05-22T18:04:14.311Z"
      },
      {
        "duration": 4,
        "start_time": "2023-05-22T18:04:14.327Z"
      },
      {
        "duration": 8,
        "start_time": "2023-05-22T18:04:14.332Z"
      },
      {
        "duration": 6,
        "start_time": "2023-05-22T18:04:14.343Z"
      },
      {
        "duration": 18,
        "start_time": "2023-05-22T18:04:14.351Z"
      },
      {
        "duration": 16,
        "start_time": "2023-05-22T18:04:14.371Z"
      },
      {
        "duration": 10,
        "start_time": "2023-05-22T18:04:14.389Z"
      },
      {
        "duration": 6,
        "start_time": "2023-05-22T18:04:14.400Z"
      },
      {
        "duration": 909,
        "start_time": "2023-05-22T18:04:14.408Z"
      },
      {
        "duration": 3062,
        "start_time": "2023-05-22T18:04:15.319Z"
      },
      {
        "duration": 10901,
        "start_time": "2023-05-22T18:04:18.382Z"
      },
      {
        "duration": 1529,
        "start_time": "2023-05-22T18:04:29.286Z"
      },
      {
        "duration": 37,
        "start_time": "2023-05-22T18:04:30.817Z"
      },
      {
        "duration": 59,
        "start_time": "2023-05-22T18:04:30.856Z"
      },
      {
        "duration": 65,
        "start_time": "2023-05-22T18:04:30.917Z"
      },
      {
        "duration": 331,
        "start_time": "2023-05-22T18:04:30.984Z"
      },
      {
        "duration": 553,
        "start_time": "2023-05-22T18:04:31.317Z"
      },
      {
        "duration": 2,
        "start_time": "2023-05-22T18:04:31.872Z"
      },
      {
        "duration": 101,
        "start_time": "2023-05-22T18:04:31.876Z"
      },
      {
        "duration": 2,
        "start_time": "2023-05-22T18:04:31.979Z"
      },
      {
        "duration": 70,
        "start_time": "2023-05-22T18:04:31.982Z"
      },
      {
        "duration": 1060,
        "start_time": "2023-05-22T18:04:32.056Z"
      },
      {
        "duration": 201,
        "start_time": "2023-05-22T18:04:33.117Z"
      },
      {
        "duration": 150,
        "start_time": "2023-05-22T18:04:33.320Z"
      },
      {
        "duration": 3,
        "start_time": "2023-05-22T18:04:33.471Z"
      },
      {
        "duration": 28,
        "start_time": "2023-05-22T18:04:33.476Z"
      },
      {
        "duration": 116,
        "start_time": "2023-05-22T18:04:33.506Z"
      },
      {
        "duration": 11,
        "start_time": "2023-05-22T18:04:33.624Z"
      },
      {
        "duration": 6,
        "start_time": "2023-05-22T18:04:33.638Z"
      },
      {
        "duration": 24,
        "start_time": "2023-05-22T18:04:33.646Z"
      },
      {
        "duration": 17,
        "start_time": "2023-05-22T18:04:33.672Z"
      },
      {
        "duration": 46,
        "start_time": "2023-05-22T18:04:33.691Z"
      },
      {
        "duration": 22,
        "start_time": "2023-05-22T18:04:33.739Z"
      },
      {
        "duration": 31,
        "start_time": "2023-05-22T18:04:33.763Z"
      },
      {
        "duration": 35,
        "start_time": "2023-05-22T18:04:33.795Z"
      },
      {
        "duration": 1359,
        "start_time": "2023-05-22T18:04:33.833Z"
      },
      {
        "duration": 3,
        "start_time": "2023-05-22T18:04:35.194Z"
      },
      {
        "duration": 69,
        "start_time": "2023-05-22T18:04:35.199Z"
      },
      {
        "duration": 130,
        "start_time": "2023-05-22T18:04:35.270Z"
      },
      {
        "duration": 61,
        "start_time": "2023-05-22T18:04:35.402Z"
      },
      {
        "duration": 22,
        "start_time": "2023-05-22T18:04:35.465Z"
      },
      {
        "duration": 9,
        "start_time": "2023-05-22T18:04:35.489Z"
      },
      {
        "duration": 375,
        "start_time": "2023-05-22T18:04:35.500Z"
      },
      {
        "duration": 26,
        "start_time": "2023-05-22T18:04:35.877Z"
      },
      {
        "duration": 6,
        "start_time": "2023-05-22T18:04:35.905Z"
      },
      {
        "duration": 52,
        "start_time": "2023-05-22T18:04:35.912Z"
      },
      {
        "duration": 4843,
        "start_time": "2023-05-22T18:04:35.966Z"
      },
      {
        "duration": 5,
        "start_time": "2023-05-22T18:06:35.168Z"
      },
      {
        "duration": 140,
        "start_time": "2023-05-22T18:06:51.348Z"
      },
      {
        "duration": 7,
        "start_time": "2023-05-22T18:08:06.061Z"
      },
      {
        "duration": 781,
        "start_time": "2023-05-22T18:08:37.095Z"
      },
      {
        "duration": 83,
        "start_time": "2023-05-22T18:10:46.853Z"
      },
      {
        "duration": 3,
        "start_time": "2023-05-22T18:10:47.849Z"
      },
      {
        "duration": 84,
        "start_time": "2023-05-22T18:11:46.614Z"
      },
      {
        "duration": 3,
        "start_time": "2023-05-22T18:11:47.286Z"
      },
      {
        "duration": 18,
        "start_time": "2023-05-22T18:11:48.196Z"
      },
      {
        "duration": 96,
        "start_time": "2023-05-22T18:11:48.887Z"
      },
      {
        "duration": 6,
        "start_time": "2023-05-22T18:11:55.896Z"
      },
      {
        "duration": 49294,
        "start_time": "2023-05-22T18:12:11.450Z"
      },
      {
        "duration": 16310,
        "start_time": "2023-05-22T18:13:00.746Z"
      },
      {
        "duration": 25,
        "start_time": "2023-05-22T18:13:17.057Z"
      },
      {
        "duration": 15981,
        "start_time": "2023-05-22T18:13:17.084Z"
      },
      {
        "duration": 26,
        "start_time": "2023-05-22T18:13:33.067Z"
      },
      {
        "duration": 94,
        "start_time": "2023-05-22T18:14:24.065Z"
      },
      {
        "duration": 55,
        "start_time": "2023-05-22T18:14:24.990Z"
      },
      {
        "duration": 51,
        "start_time": "2023-05-22T18:14:26.086Z"
      },
      {
        "duration": 7,
        "start_time": "2023-05-22T18:14:29.970Z"
      },
      {
        "duration": 270,
        "start_time": "2023-05-22T18:22:54.366Z"
      },
      {
        "duration": 5,
        "start_time": "2023-05-22T18:23:38.711Z"
      },
      {
        "duration": 3,
        "start_time": "2023-05-22T18:23:40.752Z"
      },
      {
        "duration": 3,
        "start_time": "2023-05-22T18:23:41.365Z"
      },
      {
        "duration": 3,
        "start_time": "2023-05-22T18:23:42.103Z"
      },
      {
        "duration": 271,
        "start_time": "2023-05-22T18:24:07.598Z"
      },
      {
        "duration": 267,
        "start_time": "2023-05-22T18:26:22.607Z"
      },
      {
        "duration": 10,
        "start_time": "2023-05-22T18:27:16.576Z"
      },
      {
        "duration": 275,
        "start_time": "2023-05-22T18:28:00.461Z"
      },
      {
        "duration": 274,
        "start_time": "2023-05-22T18:29:53.447Z"
      },
      {
        "duration": 2,
        "start_time": "2023-05-22T18:32:47.765Z"
      },
      {
        "duration": 2,
        "start_time": "2023-05-22T18:33:43.657Z"
      },
      {
        "duration": 87,
        "start_time": "2023-05-22T18:33:44.622Z"
      },
      {
        "duration": 62,
        "start_time": "2023-05-22T18:34:27.378Z"
      },
      {
        "duration": 9283,
        "start_time": "2023-05-22T18:34:42.725Z"
      },
      {
        "duration": 2341,
        "start_time": "2023-05-22T18:34:52.011Z"
      },
      {
        "duration": 2384,
        "start_time": "2023-05-22T18:34:54.354Z"
      },
      {
        "duration": 1415,
        "start_time": "2023-05-22T18:34:56.741Z"
      },
      {
        "duration": 3,
        "start_time": "2023-05-22T18:34:58.158Z"
      },
      {
        "duration": 11,
        "start_time": "2023-05-22T18:34:58.162Z"
      },
      {
        "duration": 14,
        "start_time": "2023-05-22T18:34:58.175Z"
      },
      {
        "duration": 5,
        "start_time": "2023-05-22T18:34:58.190Z"
      },
      {
        "duration": 7,
        "start_time": "2023-05-22T18:34:58.197Z"
      },
      {
        "duration": 6,
        "start_time": "2023-05-22T18:34:58.206Z"
      },
      {
        "duration": 14,
        "start_time": "2023-05-22T18:34:58.213Z"
      },
      {
        "duration": 22,
        "start_time": "2023-05-22T18:34:58.234Z"
      },
      {
        "duration": 26,
        "start_time": "2023-05-22T18:34:58.258Z"
      },
      {
        "duration": 55,
        "start_time": "2023-05-22T18:34:58.286Z"
      },
      {
        "duration": 933,
        "start_time": "2023-05-22T18:34:58.343Z"
      },
      {
        "duration": 3229,
        "start_time": "2023-05-22T18:34:59.278Z"
      },
      {
        "duration": 11470,
        "start_time": "2023-05-22T18:35:02.509Z"
      },
      {
        "duration": 1524,
        "start_time": "2023-05-22T18:35:13.980Z"
      },
      {
        "duration": 42,
        "start_time": "2023-05-22T18:35:15.506Z"
      },
      {
        "duration": 21,
        "start_time": "2023-05-22T18:35:15.549Z"
      },
      {
        "duration": 3,
        "start_time": "2023-05-22T18:35:15.571Z"
      },
      {
        "duration": 365,
        "start_time": "2023-05-22T18:35:15.575Z"
      },
      {
        "duration": 530,
        "start_time": "2023-05-22T18:35:15.942Z"
      },
      {
        "duration": 3,
        "start_time": "2023-05-22T18:35:16.473Z"
      },
      {
        "duration": 115,
        "start_time": "2023-05-22T18:35:16.478Z"
      },
      {
        "duration": 2,
        "start_time": "2023-05-22T18:35:16.595Z"
      },
      {
        "duration": 45,
        "start_time": "2023-05-22T18:35:16.599Z"
      },
      {
        "duration": 1188,
        "start_time": "2023-05-22T18:35:16.649Z"
      },
      {
        "duration": 203,
        "start_time": "2023-05-22T18:35:17.838Z"
      },
      {
        "duration": 151,
        "start_time": "2023-05-22T18:35:18.043Z"
      },
      {
        "duration": 3,
        "start_time": "2023-05-22T18:35:18.196Z"
      },
      {
        "duration": 34,
        "start_time": "2023-05-22T18:35:18.201Z"
      },
      {
        "duration": 87,
        "start_time": "2023-05-22T18:35:18.236Z"
      },
      {
        "duration": 11,
        "start_time": "2023-05-22T18:35:18.326Z"
      },
      {
        "duration": 4,
        "start_time": "2023-05-22T18:35:18.343Z"
      },
      {
        "duration": 24,
        "start_time": "2023-05-22T18:35:18.348Z"
      },
      {
        "duration": 5,
        "start_time": "2023-05-22T18:35:18.373Z"
      },
      {
        "duration": 33,
        "start_time": "2023-05-22T18:35:18.380Z"
      },
      {
        "duration": 24,
        "start_time": "2023-05-22T18:35:18.415Z"
      },
      {
        "duration": 30,
        "start_time": "2023-05-22T18:35:18.441Z"
      },
      {
        "duration": 16,
        "start_time": "2023-05-22T18:35:18.472Z"
      },
      {
        "duration": 1451,
        "start_time": "2023-05-22T18:35:18.490Z"
      },
      {
        "duration": 2,
        "start_time": "2023-05-22T18:35:19.943Z"
      },
      {
        "duration": 7,
        "start_time": "2023-05-22T18:35:19.946Z"
      },
      {
        "duration": 103,
        "start_time": "2023-05-22T18:35:19.955Z"
      },
      {
        "duration": 56,
        "start_time": "2023-05-22T18:35:20.060Z"
      },
      {
        "duration": 32,
        "start_time": "2023-05-22T18:35:20.118Z"
      },
      {
        "duration": 9,
        "start_time": "2023-05-22T18:35:20.151Z"
      },
      {
        "duration": 347,
        "start_time": "2023-05-22T18:35:20.162Z"
      },
      {
        "duration": 34,
        "start_time": "2023-05-22T18:35:20.511Z"
      },
      {
        "duration": 3,
        "start_time": "2023-05-22T18:35:20.547Z"
      },
      {
        "duration": 39,
        "start_time": "2023-05-22T18:35:20.552Z"
      },
      {
        "duration": 4975,
        "start_time": "2023-05-22T18:35:20.593Z"
      },
      {
        "duration": 751,
        "start_time": "2023-05-22T18:35:25.569Z"
      },
      {
        "duration": 111,
        "start_time": "2023-05-22T18:35:26.322Z"
      },
      {
        "duration": 4,
        "start_time": "2023-05-22T18:35:26.435Z"
      },
      {
        "duration": 34,
        "start_time": "2023-05-22T18:35:26.441Z"
      },
      {
        "duration": 91,
        "start_time": "2023-05-22T18:35:26.477Z"
      },
      {
        "duration": 3,
        "start_time": "2023-05-22T18:35:26.570Z"
      },
      {
        "duration": 48495,
        "start_time": "2023-05-22T18:35:26.575Z"
      },
      {
        "duration": 14045,
        "start_time": "2023-05-22T18:36:15.071Z"
      },
      {
        "duration": 33,
        "start_time": "2023-05-22T18:36:29.118Z"
      },
      {
        "duration": 14352,
        "start_time": "2023-05-22T18:36:29.153Z"
      },
      {
        "duration": 34,
        "start_time": "2023-05-22T18:36:43.507Z"
      },
      {
        "duration": 106,
        "start_time": "2023-05-22T18:36:43.545Z"
      },
      {
        "duration": 52,
        "start_time": "2023-05-22T18:36:43.654Z"
      },
      {
        "duration": 75,
        "start_time": "2023-05-22T18:36:43.708Z"
      },
      {
        "duration": 3,
        "start_time": "2023-05-22T18:36:43.785Z"
      },
      {
        "duration": 229,
        "start_time": "2023-05-22T18:36:43.789Z"
      },
      {
        "duration": 87,
        "start_time": "2023-05-22T18:36:44.020Z"
      },
      {
        "duration": 11,
        "start_time": "2023-05-22T18:36:44.109Z"
      },
      {
        "duration": 38632,
        "start_time": "2023-05-22T18:39:12.831Z"
      },
      {
        "duration": 173,
        "start_time": "2023-05-22T18:40:04.562Z"
      },
      {
        "duration": 5,
        "start_time": "2023-05-22T18:40:19.474Z"
      },
      {
        "duration": 2,
        "start_time": "2023-05-22T18:40:36.839Z"
      },
      {
        "duration": 1013,
        "start_time": "2023-05-22T18:40:45.378Z"
      },
      {
        "duration": 712,
        "start_time": "2023-05-22T18:43:25.687Z"
      },
      {
        "duration": 3,
        "start_time": "2023-05-22T18:46:47.137Z"
      },
      {
        "duration": 1728,
        "start_time": "2023-05-22T18:47:08.912Z"
      },
      {
        "duration": 1373,
        "start_time": "2023-05-22T18:47:53.082Z"
      },
      {
        "duration": 94461,
        "start_time": "2023-05-22T18:48:24.484Z"
      },
      {
        "duration": 383,
        "start_time": "2023-05-22T18:51:07.014Z"
      },
      {
        "duration": 5,
        "start_time": "2023-05-22T18:51:14.216Z"
      },
      {
        "duration": 31414,
        "start_time": "2023-05-22T18:55:35.629Z"
      },
      {
        "duration": 6107,
        "start_time": "2023-05-22T18:56:07.124Z"
      },
      {
        "duration": 144,
        "start_time": "2023-05-22T18:56:13.233Z"
      },
      {
        "duration": 0,
        "start_time": "2023-05-22T18:56:13.379Z"
      },
      {
        "duration": 0,
        "start_time": "2023-05-22T18:56:13.380Z"
      },
      {
        "duration": 1,
        "start_time": "2023-05-22T18:56:13.381Z"
      },
      {
        "duration": 0,
        "start_time": "2023-05-22T18:56:13.383Z"
      },
      {
        "duration": 0,
        "start_time": "2023-05-22T18:56:13.383Z"
      },
      {
        "duration": 0,
        "start_time": "2023-05-22T18:56:13.385Z"
      },
      {
        "duration": 0,
        "start_time": "2023-05-22T18:56:13.386Z"
      },
      {
        "duration": 0,
        "start_time": "2023-05-22T18:56:13.387Z"
      },
      {
        "duration": 7348,
        "start_time": "2023-05-22T19:01:05.788Z"
      },
      {
        "duration": 9287,
        "start_time": "2023-05-22T19:02:36.459Z"
      },
      {
        "duration": 2274,
        "start_time": "2023-05-22T19:02:45.748Z"
      },
      {
        "duration": 2307,
        "start_time": "2023-05-22T19:02:48.023Z"
      },
      {
        "duration": 1963,
        "start_time": "2023-05-22T19:02:50.333Z"
      },
      {
        "duration": 3,
        "start_time": "2023-05-22T19:02:52.297Z"
      },
      {
        "duration": 13,
        "start_time": "2023-05-22T19:02:52.302Z"
      },
      {
        "duration": 5,
        "start_time": "2023-05-22T19:02:52.317Z"
      },
      {
        "duration": 12,
        "start_time": "2023-05-22T19:02:52.324Z"
      },
      {
        "duration": 7,
        "start_time": "2023-05-22T19:02:52.338Z"
      },
      {
        "duration": 12,
        "start_time": "2023-05-22T19:02:52.347Z"
      },
      {
        "duration": 7,
        "start_time": "2023-05-22T19:02:52.361Z"
      },
      {
        "duration": 25,
        "start_time": "2023-05-22T19:02:52.370Z"
      },
      {
        "duration": 16,
        "start_time": "2023-05-22T19:02:52.397Z"
      },
      {
        "duration": 14,
        "start_time": "2023-05-22T19:02:52.415Z"
      },
      {
        "duration": 3042,
        "start_time": "2023-05-22T19:02:52.430Z"
      },
      {
        "duration": 3238,
        "start_time": "2023-05-22T19:02:55.474Z"
      },
      {
        "duration": 10869,
        "start_time": "2023-05-22T19:02:58.714Z"
      },
      {
        "duration": 1354,
        "start_time": "2023-05-22T19:03:09.586Z"
      },
      {
        "duration": 28,
        "start_time": "2023-05-22T19:03:10.942Z"
      },
      {
        "duration": 18,
        "start_time": "2023-05-22T19:03:10.972Z"
      },
      {
        "duration": 2,
        "start_time": "2023-05-22T19:03:10.992Z"
      },
      {
        "duration": 327,
        "start_time": "2023-05-22T19:03:10.996Z"
      },
      {
        "duration": 456,
        "start_time": "2023-05-22T19:03:11.325Z"
      },
      {
        "duration": 3,
        "start_time": "2023-05-22T19:03:11.782Z"
      },
      {
        "duration": 109,
        "start_time": "2023-05-22T19:03:11.787Z"
      },
      {
        "duration": 3,
        "start_time": "2023-05-22T19:03:11.897Z"
      },
      {
        "duration": 37,
        "start_time": "2023-05-22T19:03:11.902Z"
      },
      {
        "duration": 974,
        "start_time": "2023-05-22T19:03:11.944Z"
      },
      {
        "duration": 186,
        "start_time": "2023-05-22T19:03:12.925Z"
      },
      {
        "duration": 138,
        "start_time": "2023-05-22T19:03:13.113Z"
      },
      {
        "duration": 3,
        "start_time": "2023-05-22T19:03:13.253Z"
      },
      {
        "duration": 14,
        "start_time": "2023-05-22T19:03:13.258Z"
      },
      {
        "duration": 88,
        "start_time": "2023-05-22T19:03:13.274Z"
      },
      {
        "duration": 7,
        "start_time": "2023-05-22T19:03:13.364Z"
      },
      {
        "duration": 4,
        "start_time": "2023-05-22T19:03:13.373Z"
      },
      {
        "duration": 7,
        "start_time": "2023-05-22T19:03:13.378Z"
      },
      {
        "duration": 6,
        "start_time": "2023-05-22T19:03:13.387Z"
      },
      {
        "duration": 34,
        "start_time": "2023-05-22T19:03:13.395Z"
      },
      {
        "duration": 18,
        "start_time": "2023-05-22T19:03:13.431Z"
      },
      {
        "duration": 22,
        "start_time": "2023-05-22T19:03:13.451Z"
      },
      {
        "duration": 16,
        "start_time": "2023-05-22T19:03:13.475Z"
      },
      {
        "duration": 1366,
        "start_time": "2023-05-22T19:03:13.493Z"
      },
      {
        "duration": 3,
        "start_time": "2023-05-22T19:03:14.861Z"
      },
      {
        "duration": 13,
        "start_time": "2023-05-22T19:03:14.865Z"
      },
      {
        "duration": 88,
        "start_time": "2023-05-22T19:03:14.879Z"
      },
      {
        "duration": 62,
        "start_time": "2023-05-22T19:03:14.969Z"
      },
      {
        "duration": 22,
        "start_time": "2023-05-22T19:03:15.033Z"
      },
      {
        "duration": 25,
        "start_time": "2023-05-22T19:03:15.057Z"
      },
      {
        "duration": 374,
        "start_time": "2023-05-22T19:03:15.083Z"
      },
      {
        "duration": 20,
        "start_time": "2023-05-22T19:03:15.459Z"
      },
      {
        "duration": 2,
        "start_time": "2023-05-22T19:03:15.481Z"
      },
      {
        "duration": 23,
        "start_time": "2023-05-22T19:03:15.485Z"
      },
      {
        "duration": 4715,
        "start_time": "2023-05-22T19:03:15.526Z"
      },
      {
        "duration": 733,
        "start_time": "2023-05-22T19:03:20.244Z"
      },
      {
        "duration": 88,
        "start_time": "2023-05-22T19:03:20.979Z"
      },
      {
        "duration": 3,
        "start_time": "2023-05-22T19:03:21.069Z"
      },
      {
        "duration": 18,
        "start_time": "2023-05-22T19:03:21.073Z"
      },
      {
        "duration": 101,
        "start_time": "2023-05-22T19:03:21.093Z"
      },
      {
        "duration": 3,
        "start_time": "2023-05-22T19:03:21.196Z"
      },
      {
        "duration": 47272,
        "start_time": "2023-05-22T19:03:21.200Z"
      },
      {
        "duration": 13881,
        "start_time": "2023-05-22T19:04:08.473Z"
      },
      {
        "duration": 24,
        "start_time": "2023-05-22T19:04:22.356Z"
      },
      {
        "duration": 12768,
        "start_time": "2023-05-22T19:04:22.382Z"
      },
      {
        "duration": 25,
        "start_time": "2023-05-22T19:04:35.152Z"
      },
      {
        "duration": 116,
        "start_time": "2023-05-22T19:04:35.179Z"
      },
      {
        "duration": 64,
        "start_time": "2023-05-22T19:04:35.297Z"
      },
      {
        "duration": 69,
        "start_time": "2023-05-22T19:04:35.363Z"
      },
      {
        "duration": 3,
        "start_time": "2023-05-22T19:04:35.434Z"
      },
      {
        "duration": 17024,
        "start_time": "2023-05-22T19:04:35.438Z"
      },
      {
        "duration": 261,
        "start_time": "2023-05-22T19:04:52.466Z"
      },
      {
        "duration": 92,
        "start_time": "2023-05-22T19:04:52.735Z"
      },
      {
        "duration": 8,
        "start_time": "2023-05-22T19:04:52.830Z"
      },
      {
        "duration": 6,
        "start_time": "2023-05-22T19:04:52.840Z"
      },
      {
        "duration": 1341,
        "start_time": "2023-05-22T19:04:52.849Z"
      },
      {
        "duration": 89092,
        "start_time": "2023-05-22T19:04:54.192Z"
      },
      {
        "duration": 391,
        "start_time": "2023-05-22T19:06:23.286Z"
      },
      {
        "duration": 5,
        "start_time": "2023-05-22T19:06:23.679Z"
      },
      {
        "duration": 515156,
        "start_time": "2023-05-22T19:06:23.686Z"
      },
      {
        "duration": 75298,
        "start_time": "2023-05-22T19:14:58.845Z"
      },
      {
        "duration": 610,
        "start_time": "2023-05-22T19:16:14.145Z"
      },
      {
        "duration": 72,
        "start_time": "2023-05-22T19:16:14.757Z"
      },
      {
        "duration": 6,
        "start_time": "2023-05-22T19:16:14.832Z"
      },
      {
        "duration": 3,
        "start_time": "2023-05-22T19:16:22.492Z"
      },
      {
        "duration": 526,
        "start_time": "2023-05-22T19:16:38.707Z"
      },
      {
        "duration": 5,
        "start_time": "2023-05-22T19:16:46.240Z"
      },
      {
        "duration": 2,
        "start_time": "2023-05-22T19:16:56.624Z"
      },
      {
        "duration": 3,
        "start_time": "2023-05-22T19:16:56.728Z"
      },
      {
        "duration": 89,
        "start_time": "2023-05-22T19:16:57.303Z"
      },
      {
        "duration": 7152,
        "start_time": "2023-05-22T19:16:57.876Z"
      },
      {
        "duration": 123,
        "start_time": "2023-05-22T19:17:05.030Z"
      },
      {
        "duration": 5,
        "start_time": "2023-05-22T19:17:05.154Z"
      },
      {
        "duration": 698,
        "start_time": "2023-05-22T19:59:29.637Z"
      },
      {
        "duration": 288,
        "start_time": "2023-05-22T20:00:40.149Z"
      },
      {
        "duration": 292,
        "start_time": "2023-05-22T20:01:18.157Z"
      },
      {
        "duration": 525,
        "start_time": "2023-05-22T20:04:51.421Z"
      },
      {
        "duration": 150,
        "start_time": "2023-05-22T20:05:12.526Z"
      },
      {
        "duration": 6,
        "start_time": "2023-05-22T20:06:27.390Z"
      },
      {
        "duration": 600,
        "start_time": "2023-05-22T20:13:03.347Z"
      },
      {
        "duration": 5,
        "start_time": "2023-05-22T20:13:08.790Z"
      },
      {
        "duration": 619,
        "start_time": "2023-05-22T20:13:22.724Z"
      },
      {
        "duration": 6,
        "start_time": "2023-05-22T20:13:24.408Z"
      },
      {
        "duration": 104,
        "start_time": "2023-05-22T20:17:59.271Z"
      },
      {
        "duration": 91,
        "start_time": "2023-05-22T20:18:06.074Z"
      },
      {
        "duration": 2963,
        "start_time": "2023-05-22T20:18:54.368Z"
      },
      {
        "duration": 117,
        "start_time": "2023-05-22T20:19:35.860Z"
      },
      {
        "duration": 5,
        "start_time": "2023-05-22T20:19:51.605Z"
      },
      {
        "duration": 87,
        "start_time": "2023-05-22T20:23:32.865Z"
      },
      {
        "duration": 1568,
        "start_time": "2023-05-22T20:27:57.089Z"
      },
      {
        "duration": 85,
        "start_time": "2023-05-22T20:28:05.767Z"
      },
      {
        "duration": 287,
        "start_time": "2023-05-22T20:28:17.347Z"
      },
      {
        "duration": 592,
        "start_time": "2023-05-22T20:32:09.650Z"
      },
      {
        "duration": 6,
        "start_time": "2023-05-22T20:32:31.784Z"
      },
      {
        "duration": 2795,
        "start_time": "2023-05-22T20:34:49.634Z"
      },
      {
        "duration": 2754,
        "start_time": "2023-05-22T20:38:02.117Z"
      },
      {
        "duration": 585,
        "start_time": "2023-05-22T20:56:28.453Z"
      },
      {
        "duration": 539,
        "start_time": "2023-05-22T20:56:42.007Z"
      },
      {
        "duration": 4,
        "start_time": "2023-05-22T20:59:27.824Z"
      },
      {
        "duration": 12,
        "start_time": "2023-05-22T20:59:28.208Z"
      },
      {
        "duration": 105,
        "start_time": "2023-05-22T21:03:22.663Z"
      },
      {
        "duration": 14,
        "start_time": "2023-05-22T21:03:41.570Z"
      },
      {
        "duration": 2686,
        "start_time": "2023-05-22T21:05:09.875Z"
      },
      {
        "duration": 2633,
        "start_time": "2023-05-22T21:05:38.119Z"
      },
      {
        "duration": 74,
        "start_time": "2023-05-22T21:15:56.690Z"
      },
      {
        "duration": 52,
        "start_time": "2023-05-22T21:18:24.316Z"
      },
      {
        "duration": 9004,
        "start_time": "2023-05-22T21:18:59.777Z"
      },
      {
        "duration": 2193,
        "start_time": "2023-05-22T21:19:08.783Z"
      },
      {
        "duration": 2213,
        "start_time": "2023-05-22T21:19:10.979Z"
      },
      {
        "duration": 1340,
        "start_time": "2023-05-22T21:19:13.195Z"
      },
      {
        "duration": 3,
        "start_time": "2023-05-22T21:19:14.537Z"
      },
      {
        "duration": 10,
        "start_time": "2023-05-22T21:19:14.542Z"
      },
      {
        "duration": 24,
        "start_time": "2023-05-22T21:19:14.554Z"
      },
      {
        "duration": 18,
        "start_time": "2023-05-22T21:19:14.579Z"
      },
      {
        "duration": 8,
        "start_time": "2023-05-22T21:19:19.387Z"
      },
      {
        "duration": 6,
        "start_time": "2023-05-22T21:19:19.620Z"
      },
      {
        "duration": 6,
        "start_time": "2023-05-22T21:19:19.909Z"
      },
      {
        "duration": 2,
        "start_time": "2023-05-22T21:19:20.298Z"
      },
      {
        "duration": 2,
        "start_time": "2023-05-22T21:19:20.940Z"
      },
      {
        "duration": 2,
        "start_time": "2023-05-22T21:19:21.186Z"
      },
      {
        "duration": 847,
        "start_time": "2023-05-22T21:19:21.355Z"
      },
      {
        "duration": 2838,
        "start_time": "2023-05-22T21:19:22.204Z"
      },
      {
        "duration": 10935,
        "start_time": "2023-05-22T21:19:25.044Z"
      },
      {
        "duration": 1537,
        "start_time": "2023-05-22T21:19:38.908Z"
      },
      {
        "duration": 27,
        "start_time": "2023-05-22T21:19:40.447Z"
      },
      {
        "duration": 19,
        "start_time": "2023-05-22T21:19:40.476Z"
      },
      {
        "duration": 28,
        "start_time": "2023-05-22T21:19:40.497Z"
      },
      {
        "duration": 301,
        "start_time": "2023-05-22T21:19:40.526Z"
      },
      {
        "duration": 481,
        "start_time": "2023-05-22T21:19:40.868Z"
      },
      {
        "duration": 2,
        "start_time": "2023-05-22T21:19:41.523Z"
      },
      {
        "duration": 94,
        "start_time": "2023-05-22T21:19:41.867Z"
      },
      {
        "duration": 2,
        "start_time": "2023-05-22T21:19:42.098Z"
      },
      {
        "duration": 40,
        "start_time": "2023-05-22T21:19:43.177Z"
      },
      {
        "duration": 1329,
        "start_time": "2023-05-22T21:19:43.796Z"
      },
      {
        "duration": 210,
        "start_time": "2023-05-22T21:19:45.128Z"
      },
      {
        "duration": 151,
        "start_time": "2023-05-22T21:19:45.340Z"
      },
      {
        "duration": 4,
        "start_time": "2023-05-22T21:19:45.493Z"
      },
      {
        "duration": 41,
        "start_time": "2023-05-22T21:19:45.499Z"
      },
      {
        "duration": 88,
        "start_time": "2023-05-22T21:19:45.541Z"
      },
      {
        "duration": 8,
        "start_time": "2023-05-22T21:19:45.865Z"
      },
      {
        "duration": 3,
        "start_time": "2023-05-22T21:19:46.067Z"
      },
      {
        "duration": 4,
        "start_time": "2023-05-22T21:19:46.307Z"
      },
      {
        "duration": 2,
        "start_time": "2023-05-22T21:19:46.530Z"
      },
      {
        "duration": 24,
        "start_time": "2023-05-22T21:19:46.748Z"
      },
      {
        "duration": 28,
        "start_time": "2023-05-22T21:19:47.031Z"
      },
      {
        "duration": 35,
        "start_time": "2023-05-22T21:19:47.216Z"
      },
      {
        "duration": 16,
        "start_time": "2023-05-22T21:19:47.727Z"
      },
      {
        "duration": 1369,
        "start_time": "2023-05-22T21:19:47.943Z"
      },
      {
        "duration": 12,
        "start_time": "2023-05-22T21:19:49.314Z"
      },
      {
        "duration": 5,
        "start_time": "2023-05-22T21:19:49.328Z"
      },
      {
        "duration": 96,
        "start_time": "2023-05-22T21:19:49.335Z"
      },
      {
        "duration": 60,
        "start_time": "2023-05-22T21:19:49.433Z"
      },
      {
        "duration": 23,
        "start_time": "2023-05-22T21:19:50.916Z"
      },
      {
        "duration": 9,
        "start_time": "2023-05-22T21:19:51.147Z"
      },
      {
        "duration": 313,
        "start_time": "2023-05-22T21:19:51.377Z"
      },
      {
        "duration": 23,
        "start_time": "2023-05-22T21:19:52.266Z"
      },
      {
        "duration": 2,
        "start_time": "2023-05-22T21:19:53.076Z"
      },
      {
        "duration": 23,
        "start_time": "2023-05-22T21:19:53.361Z"
      },
      {
        "duration": 4658,
        "start_time": "2023-05-22T21:19:54.436Z"
      },
      {
        "duration": 798,
        "start_time": "2023-05-22T21:19:59.096Z"
      },
      {
        "duration": 87,
        "start_time": "2023-05-22T21:19:59.896Z"
      },
      {
        "duration": 3,
        "start_time": "2023-05-22T21:19:59.985Z"
      },
      {
        "duration": 36,
        "start_time": "2023-05-22T21:19:59.990Z"
      },
      {
        "duration": 184,
        "start_time": "2023-05-22T21:20:00.028Z"
      },
      {
        "duration": 107,
        "start_time": "2023-05-22T21:21:59.810Z"
      },
      {
        "duration": 97,
        "start_time": "2023-05-22T21:22:15.216Z"
      },
      {
        "duration": 3,
        "start_time": "2023-05-22T21:22:19.641Z"
      },
      {
        "duration": 60548,
        "start_time": "2023-05-22T21:22:20.259Z"
      },
      {
        "duration": 18037,
        "start_time": "2023-05-22T21:23:20.809Z"
      },
      {
        "duration": 29,
        "start_time": "2023-05-22T21:23:38.848Z"
      },
      {
        "duration": 17610,
        "start_time": "2023-05-22T21:23:38.880Z"
      },
      {
        "duration": 46,
        "start_time": "2023-05-22T21:23:56.492Z"
      },
      {
        "duration": 104,
        "start_time": "2023-05-22T21:23:56.539Z"
      },
      {
        "duration": 50,
        "start_time": "2023-05-22T21:23:56.645Z"
      },
      {
        "duration": 78,
        "start_time": "2023-05-22T21:23:56.697Z"
      },
      {
        "duration": 3,
        "start_time": "2023-05-22T21:23:56.776Z"
      },
      {
        "duration": 29994,
        "start_time": "2023-05-22T21:23:56.781Z"
      },
      {
        "duration": 259,
        "start_time": "2023-05-22T21:24:26.776Z"
      },
      {
        "duration": 89,
        "start_time": "2023-05-22T21:24:27.038Z"
      },
      {
        "duration": 14,
        "start_time": "2023-05-22T21:24:27.129Z"
      },
      {
        "duration": 89,
        "start_time": "2023-05-22T21:24:27.145Z"
      },
      {
        "duration": 1311,
        "start_time": "2023-05-22T21:24:27.239Z"
      },
      {
        "duration": 92551,
        "start_time": "2023-05-22T21:24:28.551Z"
      },
      {
        "duration": 416,
        "start_time": "2023-05-22T21:26:01.103Z"
      },
      {
        "duration": 11,
        "start_time": "2023-05-22T21:26:01.524Z"
      },
      {
        "duration": 38,
        "start_time": "2023-05-22T21:26:01.541Z"
      },
      {
        "duration": 43965,
        "start_time": "2023-05-22T21:26:01.581Z"
      },
      {
        "duration": 605,
        "start_time": "2023-05-22T21:26:45.548Z"
      },
      {
        "duration": 6,
        "start_time": "2023-05-22T21:26:46.155Z"
      },
      {
        "duration": 12,
        "start_time": "2023-05-22T21:26:46.226Z"
      },
      {
        "duration": 14,
        "start_time": "2023-05-22T21:26:46.239Z"
      },
      {
        "duration": 83,
        "start_time": "2023-05-22T21:26:46.255Z"
      },
      {
        "duration": 6880,
        "start_time": "2023-05-22T21:26:46.340Z"
      },
      {
        "duration": 120,
        "start_time": "2023-05-22T21:26:53.221Z"
      },
      {
        "duration": 5,
        "start_time": "2023-05-22T21:26:53.344Z"
      },
      {
        "duration": 5,
        "start_time": "2023-05-22T21:26:53.350Z"
      },
      {
        "duration": 7,
        "start_time": "2023-05-22T21:26:53.356Z"
      },
      {
        "duration": 30,
        "start_time": "2023-05-22T21:26:53.364Z"
      },
      {
        "duration": 13116,
        "start_time": "2023-05-23T16:36:37.670Z"
      },
      {
        "duration": 1887,
        "start_time": "2023-05-23T16:36:50.788Z"
      },
      {
        "duration": 1896,
        "start_time": "2023-05-23T16:36:52.677Z"
      },
      {
        "duration": 1379,
        "start_time": "2023-05-23T16:36:54.575Z"
      },
      {
        "duration": 3,
        "start_time": "2023-05-23T16:36:55.955Z"
      },
      {
        "duration": 12,
        "start_time": "2023-05-23T16:36:55.959Z"
      },
      {
        "duration": 5,
        "start_time": "2023-05-23T16:36:55.972Z"
      },
      {
        "duration": 14,
        "start_time": "2023-05-23T16:36:55.978Z"
      },
      {
        "duration": 29,
        "start_time": "2023-05-23T16:36:55.993Z"
      },
      {
        "duration": 6,
        "start_time": "2023-05-23T16:36:56.025Z"
      },
      {
        "duration": 8,
        "start_time": "2023-05-23T16:36:56.033Z"
      },
      {
        "duration": 5,
        "start_time": "2023-05-23T16:36:56.042Z"
      },
      {
        "duration": 5,
        "start_time": "2023-05-23T16:36:56.048Z"
      },
      {
        "duration": 4,
        "start_time": "2023-05-23T16:36:56.054Z"
      },
      {
        "duration": 2974,
        "start_time": "2023-05-23T16:36:56.060Z"
      },
      {
        "duration": 2641,
        "start_time": "2023-05-23T16:36:59.035Z"
      },
      {
        "duration": 10495,
        "start_time": "2023-05-23T16:37:01.678Z"
      },
      {
        "duration": 1596,
        "start_time": "2023-05-23T16:37:12.176Z"
      },
      {
        "duration": 56,
        "start_time": "2023-05-23T16:37:13.774Z"
      },
      {
        "duration": 23,
        "start_time": "2023-05-23T16:37:13.832Z"
      },
      {
        "duration": 7,
        "start_time": "2023-05-23T16:37:13.858Z"
      },
      {
        "duration": 328,
        "start_time": "2023-05-23T16:37:13.867Z"
      },
      {
        "duration": 561,
        "start_time": "2023-05-23T16:37:14.197Z"
      },
      {
        "duration": 3,
        "start_time": "2023-05-23T16:37:14.760Z"
      },
      {
        "duration": 96,
        "start_time": "2023-05-23T16:37:14.765Z"
      },
      {
        "duration": 3,
        "start_time": "2023-05-23T16:37:14.863Z"
      },
      {
        "duration": 51,
        "start_time": "2023-05-23T16:37:14.868Z"
      },
      {
        "duration": 1060,
        "start_time": "2023-05-23T16:37:14.925Z"
      },
      {
        "duration": 228,
        "start_time": "2023-05-23T16:37:15.987Z"
      },
      {
        "duration": 156,
        "start_time": "2023-05-23T16:37:16.223Z"
      },
      {
        "duration": 3,
        "start_time": "2023-05-23T16:37:16.381Z"
      },
      {
        "duration": 12,
        "start_time": "2023-05-23T16:37:16.385Z"
      },
      {
        "duration": 67,
        "start_time": "2023-05-23T16:37:16.405Z"
      },
      {
        "duration": 5,
        "start_time": "2023-05-23T16:37:16.473Z"
      },
      {
        "duration": 2,
        "start_time": "2023-05-23T16:37:16.480Z"
      },
      {
        "duration": 4,
        "start_time": "2023-05-23T16:37:16.484Z"
      },
      {
        "duration": 28,
        "start_time": "2023-05-23T16:37:16.489Z"
      },
      {
        "duration": 33,
        "start_time": "2023-05-23T16:37:16.518Z"
      },
      {
        "duration": 17,
        "start_time": "2023-05-23T16:37:16.552Z"
      },
      {
        "duration": 28,
        "start_time": "2023-05-23T16:37:16.571Z"
      },
      {
        "duration": 21,
        "start_time": "2023-05-23T16:37:16.601Z"
      },
      {
        "duration": 1270,
        "start_time": "2023-05-23T16:37:16.623Z"
      },
      {
        "duration": 12,
        "start_time": "2023-05-23T16:37:17.895Z"
      },
      {
        "duration": 10,
        "start_time": "2023-05-23T16:37:17.908Z"
      },
      {
        "duration": 81,
        "start_time": "2023-05-23T16:37:17.922Z"
      },
      {
        "duration": 54,
        "start_time": "2023-05-23T16:37:18.004Z"
      },
      {
        "duration": 21,
        "start_time": "2023-05-23T16:37:18.059Z"
      },
      {
        "duration": 40,
        "start_time": "2023-05-23T16:37:18.082Z"
      },
      {
        "duration": 301,
        "start_time": "2023-05-23T16:37:18.124Z"
      },
      {
        "duration": 21,
        "start_time": "2023-05-23T16:37:18.427Z"
      },
      {
        "duration": 3,
        "start_time": "2023-05-23T16:37:18.449Z"
      },
      {
        "duration": 30,
        "start_time": "2023-05-23T16:37:18.454Z"
      },
      {
        "duration": 4212,
        "start_time": "2023-05-23T16:37:18.485Z"
      },
      {
        "duration": 657,
        "start_time": "2023-05-23T16:37:22.699Z"
      },
      {
        "duration": 70,
        "start_time": "2023-05-23T16:37:23.358Z"
      },
      {
        "duration": 5,
        "start_time": "2023-05-23T16:37:23.431Z"
      },
      {
        "duration": 38,
        "start_time": "2023-05-23T16:37:23.437Z"
      },
      {
        "duration": 86,
        "start_time": "2023-05-23T16:37:23.477Z"
      },
      {
        "duration": 2,
        "start_time": "2023-05-23T16:37:23.564Z"
      },
      {
        "duration": 52975,
        "start_time": "2023-05-23T16:37:23.568Z"
      },
      {
        "duration": 12941,
        "start_time": "2023-05-23T16:38:16.544Z"
      },
      {
        "duration": 35,
        "start_time": "2023-05-23T16:38:29.487Z"
      },
      {
        "duration": 12921,
        "start_time": "2023-05-23T16:38:29.523Z"
      },
      {
        "duration": 31,
        "start_time": "2023-05-23T16:38:42.446Z"
      },
      {
        "duration": 120,
        "start_time": "2023-05-23T16:38:42.479Z"
      },
      {
        "duration": 62,
        "start_time": "2023-05-23T16:38:42.601Z"
      },
      {
        "duration": 63,
        "start_time": "2023-05-23T16:38:42.664Z"
      },
      {
        "duration": 3,
        "start_time": "2023-05-23T16:38:42.728Z"
      },
      {
        "duration": 34790,
        "start_time": "2023-05-23T16:38:42.732Z"
      },
      {
        "duration": 197,
        "start_time": "2023-05-23T16:39:17.524Z"
      },
      {
        "duration": 87,
        "start_time": "2023-05-23T16:39:17.722Z"
      },
      {
        "duration": 7,
        "start_time": "2023-05-23T16:39:17.810Z"
      },
      {
        "duration": 5,
        "start_time": "2023-05-23T16:39:17.819Z"
      },
      {
        "duration": 1375,
        "start_time": "2023-05-23T16:39:17.826Z"
      },
      {
        "duration": 83881,
        "start_time": "2023-05-23T16:39:19.202Z"
      },
      {
        "duration": 364,
        "start_time": "2023-05-23T16:40:43.085Z"
      },
      {
        "duration": 5,
        "start_time": "2023-05-23T16:40:43.451Z"
      },
      {
        "duration": 13,
        "start_time": "2023-05-23T16:40:43.457Z"
      },
      {
        "duration": 216238,
        "start_time": "2023-05-23T16:40:43.471Z"
      },
      {
        "duration": 514,
        "start_time": "2023-05-23T16:44:19.711Z"
      },
      {
        "duration": 5,
        "start_time": "2023-05-23T16:44:20.227Z"
      },
      {
        "duration": 4,
        "start_time": "2023-05-23T16:44:20.236Z"
      },
      {
        "duration": 5,
        "start_time": "2023-05-23T16:44:20.241Z"
      },
      {
        "duration": 6482,
        "start_time": "2023-05-23T16:44:20.247Z"
      },
      {
        "duration": 202,
        "start_time": "2023-05-23T16:44:26.731Z"
      },
      {
        "duration": 5,
        "start_time": "2023-05-23T16:44:26.934Z"
      },
      {
        "duration": 4,
        "start_time": "2023-05-23T16:44:26.940Z"
      },
      {
        "duration": 7,
        "start_time": "2023-05-23T16:44:26.945Z"
      },
      {
        "duration": 10,
        "start_time": "2023-05-23T16:44:26.953Z"
      },
      {
        "duration": 165,
        "start_time": "2023-05-23T17:22:36.147Z"
      },
      {
        "duration": 6,
        "start_time": "2023-05-23T17:24:06.492Z"
      },
      {
        "duration": 363,
        "start_time": "2023-05-23T17:25:43.156Z"
      },
      {
        "duration": 5,
        "start_time": "2023-05-23T17:25:45.986Z"
      },
      {
        "duration": 492,
        "start_time": "2023-05-23T17:26:48.032Z"
      },
      {
        "duration": 6,
        "start_time": "2023-05-23T17:27:00.480Z"
      },
      {
        "duration": 100,
        "start_time": "2023-05-23T17:34:15.239Z"
      },
      {
        "duration": 5,
        "start_time": "2023-05-23T17:34:17.447Z"
      },
      {
        "duration": 216,
        "start_time": "2023-05-23T17:36:08.459Z"
      },
      {
        "duration": 293,
        "start_time": "2023-05-23T17:36:17.521Z"
      },
      {
        "duration": 5,
        "start_time": "2023-05-23T17:36:28.673Z"
      },
      {
        "duration": 6638,
        "start_time": "2023-05-23T17:39:55.725Z"
      },
      {
        "duration": 288,
        "start_time": "2023-05-23T17:40:02.366Z"
      },
      {
        "duration": 6,
        "start_time": "2023-05-23T17:40:02.656Z"
      },
      {
        "duration": 6624,
        "start_time": "2023-05-23T17:40:26.078Z"
      },
      {
        "duration": 328,
        "start_time": "2023-05-23T17:40:32.704Z"
      },
      {
        "duration": 5,
        "start_time": "2023-05-23T17:40:33.034Z"
      },
      {
        "duration": 104,
        "start_time": "2023-05-23T17:43:55.462Z"
      },
      {
        "duration": 5,
        "start_time": "2023-05-23T17:43:59.662Z"
      },
      {
        "duration": 146,
        "start_time": "2023-05-23T17:49:18.466Z"
      },
      {
        "duration": 128,
        "start_time": "2023-05-23T17:50:07.035Z"
      },
      {
        "duration": 8509,
        "start_time": "2023-05-23T17:50:18.632Z"
      },
      {
        "duration": 2020,
        "start_time": "2023-05-23T17:50:27.143Z"
      },
      {
        "duration": 2119,
        "start_time": "2023-05-23T17:50:29.165Z"
      },
      {
        "duration": 2402,
        "start_time": "2023-05-23T17:50:31.287Z"
      },
      {
        "duration": 5,
        "start_time": "2023-05-23T17:50:33.691Z"
      },
      {
        "duration": 20,
        "start_time": "2023-05-23T17:50:33.697Z"
      },
      {
        "duration": 6,
        "start_time": "2023-05-23T17:50:33.725Z"
      },
      {
        "duration": 8,
        "start_time": "2023-05-23T17:50:33.733Z"
      },
      {
        "duration": 10,
        "start_time": "2023-05-23T17:50:33.742Z"
      },
      {
        "duration": 7,
        "start_time": "2023-05-23T17:50:33.754Z"
      },
      {
        "duration": 10,
        "start_time": "2023-05-23T17:50:33.762Z"
      },
      {
        "duration": 7,
        "start_time": "2023-05-23T17:50:33.774Z"
      },
      {
        "duration": 5,
        "start_time": "2023-05-23T17:50:33.782Z"
      },
      {
        "duration": 5,
        "start_time": "2023-05-23T17:50:33.788Z"
      },
      {
        "duration": 3587,
        "start_time": "2023-05-23T17:50:33.794Z"
      },
      {
        "duration": 2848,
        "start_time": "2023-05-23T17:50:37.383Z"
      },
      {
        "duration": 11216,
        "start_time": "2023-05-23T17:50:40.233Z"
      },
      {
        "duration": 1403,
        "start_time": "2023-05-23T17:50:51.451Z"
      },
      {
        "duration": 40,
        "start_time": "2023-05-23T17:50:52.862Z"
      },
      {
        "duration": 30,
        "start_time": "2023-05-23T17:50:52.905Z"
      },
      {
        "duration": 20,
        "start_time": "2023-05-23T17:50:52.937Z"
      },
      {
        "duration": 427,
        "start_time": "2023-05-23T17:50:52.965Z"
      },
      {
        "duration": 621,
        "start_time": "2023-05-23T17:50:53.393Z"
      },
      {
        "duration": 4,
        "start_time": "2023-05-23T17:50:54.020Z"
      },
      {
        "duration": 106,
        "start_time": "2023-05-23T17:50:54.029Z"
      },
      {
        "duration": 12,
        "start_time": "2023-05-23T17:50:54.140Z"
      },
      {
        "duration": 38,
        "start_time": "2023-05-23T17:50:54.154Z"
      },
      {
        "duration": 1069,
        "start_time": "2023-05-23T17:50:54.198Z"
      },
      {
        "duration": 215,
        "start_time": "2023-05-23T17:50:55.268Z"
      },
      {
        "duration": 162,
        "start_time": "2023-05-23T17:50:55.485Z"
      },
      {
        "duration": 6,
        "start_time": "2023-05-23T17:50:55.649Z"
      },
      {
        "duration": 30,
        "start_time": "2023-05-23T17:50:55.660Z"
      },
      {
        "duration": 104,
        "start_time": "2023-05-23T17:50:55.692Z"
      },
      {
        "duration": 8,
        "start_time": "2023-05-23T17:50:55.798Z"
      },
      {
        "duration": 41,
        "start_time": "2023-05-23T17:50:55.808Z"
      },
      {
        "duration": 19,
        "start_time": "2023-05-23T17:50:55.851Z"
      },
      {
        "duration": 9,
        "start_time": "2023-05-23T17:50:55.875Z"
      },
      {
        "duration": 35,
        "start_time": "2023-05-23T17:50:55.888Z"
      },
      {
        "duration": 41,
        "start_time": "2023-05-23T17:50:55.925Z"
      },
      {
        "duration": 28,
        "start_time": "2023-05-23T17:50:55.968Z"
      },
      {
        "duration": 34,
        "start_time": "2023-05-23T17:50:55.997Z"
      },
      {
        "duration": 1856,
        "start_time": "2023-05-23T17:50:56.035Z"
      },
      {
        "duration": 3,
        "start_time": "2023-05-23T17:50:57.893Z"
      },
      {
        "duration": 6,
        "start_time": "2023-05-23T17:50:57.900Z"
      },
      {
        "duration": 147,
        "start_time": "2023-05-23T17:50:57.908Z"
      },
      {
        "duration": 69,
        "start_time": "2023-05-23T17:50:58.057Z"
      },
      {
        "duration": 28,
        "start_time": "2023-05-23T17:50:58.128Z"
      },
      {
        "duration": 16,
        "start_time": "2023-05-23T17:50:58.158Z"
      },
      {
        "duration": 449,
        "start_time": "2023-05-23T17:50:58.176Z"
      },
      {
        "duration": 29,
        "start_time": "2023-05-23T17:50:58.627Z"
      },
      {
        "duration": 4,
        "start_time": "2023-05-23T17:50:58.658Z"
      },
      {
        "duration": 54,
        "start_time": "2023-05-23T17:50:58.664Z"
      },
      {
        "duration": 5709,
        "start_time": "2023-05-23T17:50:58.729Z"
      },
      {
        "duration": 734,
        "start_time": "2023-05-23T17:51:04.440Z"
      },
      {
        "duration": 81,
        "start_time": "2023-05-23T17:51:05.176Z"
      },
      {
        "duration": 2,
        "start_time": "2023-05-23T17:51:05.259Z"
      },
      {
        "duration": 22,
        "start_time": "2023-05-23T17:51:05.263Z"
      },
      {
        "duration": 134,
        "start_time": "2023-05-23T17:51:05.286Z"
      },
      {
        "duration": 2,
        "start_time": "2023-05-23T17:51:05.422Z"
      },
      {
        "duration": 52515,
        "start_time": "2023-05-23T17:51:05.432Z"
      },
      {
        "duration": 15166,
        "start_time": "2023-05-23T17:51:57.949Z"
      },
      {
        "duration": 42,
        "start_time": "2023-05-23T17:52:13.121Z"
      },
      {
        "duration": 14171,
        "start_time": "2023-05-23T17:52:13.165Z"
      },
      {
        "duration": 27,
        "start_time": "2023-05-23T17:52:27.342Z"
      },
      {
        "duration": 117,
        "start_time": "2023-05-23T17:52:27.371Z"
      },
      {
        "duration": 70,
        "start_time": "2023-05-23T17:52:27.490Z"
      },
      {
        "duration": 68,
        "start_time": "2023-05-23T17:52:27.562Z"
      },
      {
        "duration": 7,
        "start_time": "2023-05-23T17:52:27.632Z"
      },
      {
        "duration": 64396,
        "start_time": "2023-05-23T17:52:27.646Z"
      },
      {
        "duration": 188,
        "start_time": "2023-05-23T17:53:32.044Z"
      },
      {
        "duration": 74,
        "start_time": "2023-05-23T17:53:32.234Z"
      },
      {
        "duration": 14,
        "start_time": "2023-05-23T17:53:32.310Z"
      },
      {
        "duration": 96,
        "start_time": "2023-05-23T17:53:32.325Z"
      },
      {
        "duration": 1235,
        "start_time": "2023-05-23T17:53:32.422Z"
      },
      {
        "duration": 87949,
        "start_time": "2023-05-23T17:53:33.658Z"
      },
      {
        "duration": 385,
        "start_time": "2023-05-23T17:55:01.613Z"
      },
      {
        "duration": 8,
        "start_time": "2023-05-23T17:55:02.007Z"
      },
      {
        "duration": 1962620,
        "start_time": "2023-05-23T17:55:02.016Z"
      },
      {
        "duration": 8663,
        "start_time": "2023-05-23T18:28:34.224Z"
      },
      {
        "duration": 2314,
        "start_time": "2023-05-23T18:28:42.890Z"
      },
      {
        "duration": 2190,
        "start_time": "2023-05-23T18:28:45.206Z"
      },
      {
        "duration": 2077,
        "start_time": "2023-05-23T18:28:47.399Z"
      },
      {
        "duration": 3,
        "start_time": "2023-05-23T18:28:49.477Z"
      },
      {
        "duration": 5,
        "start_time": "2023-05-23T18:28:49.481Z"
      },
      {
        "duration": 5,
        "start_time": "2023-05-23T18:28:49.487Z"
      },
      {
        "duration": 4,
        "start_time": "2023-05-23T18:28:49.494Z"
      },
      {
        "duration": 6,
        "start_time": "2023-05-23T18:28:49.500Z"
      },
      {
        "duration": 19,
        "start_time": "2023-05-23T18:28:49.509Z"
      },
      {
        "duration": 7,
        "start_time": "2023-05-23T18:28:49.529Z"
      },
      {
        "duration": 12,
        "start_time": "2023-05-23T18:28:49.537Z"
      },
      {
        "duration": 8,
        "start_time": "2023-05-23T18:28:49.551Z"
      },
      {
        "duration": 6,
        "start_time": "2023-05-23T18:28:49.560Z"
      },
      {
        "duration": 4202,
        "start_time": "2023-05-23T18:28:49.567Z"
      },
      {
        "duration": 2868,
        "start_time": "2023-05-23T18:28:53.771Z"
      },
      {
        "duration": 11164,
        "start_time": "2023-05-23T18:28:56.641Z"
      },
      {
        "duration": 1224,
        "start_time": "2023-05-23T18:29:07.807Z"
      },
      {
        "duration": 40,
        "start_time": "2023-05-23T18:29:09.033Z"
      },
      {
        "duration": 19,
        "start_time": "2023-05-23T18:29:09.075Z"
      },
      {
        "duration": 3,
        "start_time": "2023-05-23T18:29:09.096Z"
      },
      {
        "duration": 294,
        "start_time": "2023-05-23T18:29:09.100Z"
      },
      {
        "duration": 540,
        "start_time": "2023-05-23T18:29:09.396Z"
      },
      {
        "duration": 8,
        "start_time": "2023-05-23T18:29:09.941Z"
      },
      {
        "duration": 76,
        "start_time": "2023-05-23T18:29:09.955Z"
      },
      {
        "duration": 3,
        "start_time": "2023-05-23T18:29:10.033Z"
      },
      {
        "duration": 49,
        "start_time": "2023-05-23T18:29:10.038Z"
      },
      {
        "duration": 1120,
        "start_time": "2023-05-23T18:29:10.092Z"
      },
      {
        "duration": 221,
        "start_time": "2023-05-23T18:29:11.214Z"
      },
      {
        "duration": 161,
        "start_time": "2023-05-23T18:29:11.437Z"
      },
      {
        "duration": 3,
        "start_time": "2023-05-23T18:29:11.599Z"
      },
      {
        "duration": 21,
        "start_time": "2023-05-23T18:29:11.605Z"
      },
      {
        "duration": 73,
        "start_time": "2023-05-23T18:29:11.628Z"
      },
      {
        "duration": 7,
        "start_time": "2023-05-23T18:29:11.705Z"
      },
      {
        "duration": 5,
        "start_time": "2023-05-23T18:29:11.713Z"
      },
      {
        "duration": 5,
        "start_time": "2023-05-23T18:29:11.719Z"
      },
      {
        "duration": 4,
        "start_time": "2023-05-23T18:29:11.726Z"
      },
      {
        "duration": 27,
        "start_time": "2023-05-23T18:29:11.731Z"
      },
      {
        "duration": 20,
        "start_time": "2023-05-23T18:29:11.760Z"
      },
      {
        "duration": 59,
        "start_time": "2023-05-23T18:29:11.781Z"
      },
      {
        "duration": 18,
        "start_time": "2023-05-23T18:29:11.841Z"
      },
      {
        "duration": 1464,
        "start_time": "2023-05-23T18:29:11.860Z"
      },
      {
        "duration": 2,
        "start_time": "2023-05-23T18:29:13.328Z"
      },
      {
        "duration": 8,
        "start_time": "2023-05-23T18:29:13.331Z"
      },
      {
        "duration": 82,
        "start_time": "2023-05-23T18:29:13.341Z"
      },
      {
        "duration": 58,
        "start_time": "2023-05-23T18:29:13.425Z"
      },
      {
        "duration": 31,
        "start_time": "2023-05-23T18:29:13.485Z"
      },
      {
        "duration": 9,
        "start_time": "2023-05-23T18:29:13.518Z"
      },
      {
        "duration": 315,
        "start_time": "2023-05-23T18:29:13.528Z"
      },
      {
        "duration": 23,
        "start_time": "2023-05-23T18:29:13.845Z"
      },
      {
        "duration": 8,
        "start_time": "2023-05-23T18:29:13.872Z"
      },
      {
        "duration": 26,
        "start_time": "2023-05-23T18:29:13.882Z"
      },
      {
        "duration": 4803,
        "start_time": "2023-05-23T18:29:13.910Z"
      },
      {
        "duration": 714,
        "start_time": "2023-05-23T18:29:18.716Z"
      },
      {
        "duration": 76,
        "start_time": "2023-05-23T18:29:19.433Z"
      },
      {
        "duration": 12,
        "start_time": "2023-05-23T18:29:19.511Z"
      },
      {
        "duration": 16,
        "start_time": "2023-05-23T18:29:19.529Z"
      },
      {
        "duration": 102,
        "start_time": "2023-05-23T18:29:19.546Z"
      },
      {
        "duration": 6,
        "start_time": "2023-05-23T18:29:19.649Z"
      },
      {
        "duration": 56706,
        "start_time": "2023-05-23T18:29:19.657Z"
      },
      {
        "duration": 12675,
        "start_time": "2023-05-23T18:30:16.365Z"
      },
      {
        "duration": 31,
        "start_time": "2023-05-23T18:30:29.042Z"
      },
      {
        "duration": 12813,
        "start_time": "2023-05-23T18:30:29.075Z"
      },
      {
        "duration": 27,
        "start_time": "2023-05-23T18:30:41.890Z"
      },
      {
        "duration": 94,
        "start_time": "2023-05-23T18:30:41.919Z"
      },
      {
        "duration": 57,
        "start_time": "2023-05-23T18:30:42.014Z"
      },
      {
        "duration": 67,
        "start_time": "2023-05-23T18:30:42.073Z"
      },
      {
        "duration": 8,
        "start_time": "2023-05-23T18:30:42.147Z"
      },
      {
        "duration": 31283,
        "start_time": "2023-05-23T18:30:42.156Z"
      },
      {
        "duration": 180,
        "start_time": "2023-05-23T18:31:13.445Z"
      },
      {
        "duration": 14,
        "start_time": "2023-05-23T18:31:13.630Z"
      },
      {
        "duration": 4,
        "start_time": "2023-05-23T18:31:13.707Z"
      },
      {
        "duration": 10,
        "start_time": "2023-05-23T18:31:13.713Z"
      },
      {
        "duration": 1373,
        "start_time": "2023-05-23T18:31:13.724Z"
      },
      {
        "duration": 91737,
        "start_time": "2023-05-23T18:31:15.099Z"
      },
      {
        "duration": 371,
        "start_time": "2023-05-23T18:32:46.838Z"
      },
      {
        "duration": 8,
        "start_time": "2023-05-23T18:32:47.211Z"
      },
      {
        "duration": 1298612,
        "start_time": "2023-05-23T18:32:47.223Z"
      },
      {
        "duration": 180585,
        "start_time": "2023-05-23T18:54:25.837Z"
      },
      {
        "duration": 590,
        "start_time": "2023-05-23T18:57:26.424Z"
      },
      {
        "duration": 10,
        "start_time": "2023-05-23T18:57:27.016Z"
      },
      {
        "duration": 11,
        "start_time": "2023-05-23T18:57:27.033Z"
      },
      {
        "duration": 31,
        "start_time": "2023-05-23T18:57:27.045Z"
      },
      {
        "duration": 7213,
        "start_time": "2023-05-23T18:57:27.078Z"
      },
      {
        "duration": 401,
        "start_time": "2023-05-23T18:57:34.293Z"
      },
      {
        "duration": 18,
        "start_time": "2023-05-23T18:57:34.696Z"
      },
      {
        "duration": 8,
        "start_time": "2023-05-23T18:57:34.725Z"
      },
      {
        "duration": 3,
        "start_time": "2023-05-23T18:57:34.744Z"
      },
      {
        "duration": 46,
        "start_time": "2023-05-23T18:57:34.748Z"
      },
      {
        "duration": 266,
        "start_time": "2023-05-23T18:57:34.796Z"
      },
      {
        "duration": 6,
        "start_time": "2023-05-23T18:57:35.064Z"
      },
      {
        "duration": 118389,
        "start_time": "2023-05-23T19:00:38.822Z"
      },
      {
        "duration": 6,
        "start_time": "2023-05-23T19:02:37.213Z"
      },
      {
        "duration": 7682,
        "start_time": "2023-05-23T19:03:32.351Z"
      },
      {
        "duration": 1828,
        "start_time": "2023-05-23T19:03:40.036Z"
      },
      {
        "duration": 1928,
        "start_time": "2023-05-23T19:03:41.866Z"
      },
      {
        "duration": 1245,
        "start_time": "2023-05-23T19:03:43.796Z"
      },
      {
        "duration": 3,
        "start_time": "2023-05-23T19:03:45.044Z"
      },
      {
        "duration": 20,
        "start_time": "2023-05-23T19:03:45.048Z"
      },
      {
        "duration": 9,
        "start_time": "2023-05-23T19:03:45.070Z"
      },
      {
        "duration": 18,
        "start_time": "2023-05-23T19:03:45.080Z"
      },
      {
        "duration": 9,
        "start_time": "2023-05-23T19:03:45.100Z"
      },
      {
        "duration": 6,
        "start_time": "2023-05-23T19:03:45.110Z"
      },
      {
        "duration": 7,
        "start_time": "2023-05-23T19:03:45.118Z"
      },
      {
        "duration": 5,
        "start_time": "2023-05-23T19:03:45.126Z"
      },
      {
        "duration": 4,
        "start_time": "2023-05-23T19:03:45.132Z"
      },
      {
        "duration": 12,
        "start_time": "2023-05-23T19:03:45.139Z"
      },
      {
        "duration": 762,
        "start_time": "2023-05-23T19:03:45.153Z"
      },
      {
        "duration": 2454,
        "start_time": "2023-05-23T19:03:45.921Z"
      },
      {
        "duration": 9943,
        "start_time": "2023-05-23T19:03:48.377Z"
      },
      {
        "duration": 1402,
        "start_time": "2023-05-23T19:03:58.322Z"
      },
      {
        "duration": 27,
        "start_time": "2023-05-23T19:03:59.726Z"
      },
      {
        "duration": 29,
        "start_time": "2023-05-23T19:03:59.755Z"
      },
      {
        "duration": 3,
        "start_time": "2023-05-23T19:03:59.787Z"
      },
      {
        "duration": 258,
        "start_time": "2023-05-23T19:03:59.792Z"
      },
      {
        "duration": 442,
        "start_time": "2023-05-23T19:04:00.052Z"
      },
      {
        "duration": 15,
        "start_time": "2023-05-23T19:04:00.496Z"
      },
      {
        "duration": 142,
        "start_time": "2023-05-23T19:04:00.514Z"
      },
      {
        "duration": 2,
        "start_time": "2023-05-23T19:04:00.658Z"
      },
      {
        "duration": 114,
        "start_time": "2023-05-23T19:04:00.661Z"
      },
      {
        "duration": 1020,
        "start_time": "2023-05-23T19:04:00.777Z"
      },
      {
        "duration": 191,
        "start_time": "2023-05-23T19:04:01.799Z"
      },
      {
        "duration": 133,
        "start_time": "2023-05-23T19:04:01.992Z"
      },
      {
        "duration": 3,
        "start_time": "2023-05-23T19:04:02.126Z"
      },
      {
        "duration": 42,
        "start_time": "2023-05-23T19:04:02.131Z"
      },
      {
        "duration": 79,
        "start_time": "2023-05-23T19:04:02.175Z"
      },
      {
        "duration": 40,
        "start_time": "2023-05-23T19:04:02.256Z"
      },
      {
        "duration": 26,
        "start_time": "2023-05-23T19:04:02.297Z"
      },
      {
        "duration": 24,
        "start_time": "2023-05-23T19:04:02.324Z"
      },
      {
        "duration": 44,
        "start_time": "2023-05-23T19:04:02.349Z"
      },
      {
        "duration": 43,
        "start_time": "2023-05-23T19:04:02.394Z"
      },
      {
        "duration": 31,
        "start_time": "2023-05-23T19:04:02.439Z"
      },
      {
        "duration": 32,
        "start_time": "2023-05-23T19:04:02.472Z"
      },
      {
        "duration": 16,
        "start_time": "2023-05-23T19:04:02.509Z"
      },
      {
        "duration": 1355,
        "start_time": "2023-05-23T19:04:02.526Z"
      },
      {
        "duration": 2,
        "start_time": "2023-05-23T19:04:03.883Z"
      },
      {
        "duration": 11,
        "start_time": "2023-05-23T19:04:03.887Z"
      },
      {
        "duration": 96,
        "start_time": "2023-05-23T19:04:03.899Z"
      },
      {
        "duration": 59,
        "start_time": "2023-05-23T19:04:03.996Z"
      },
      {
        "duration": 19,
        "start_time": "2023-05-23T19:04:04.057Z"
      },
      {
        "duration": 8,
        "start_time": "2023-05-23T19:04:04.078Z"
      },
      {
        "duration": 311,
        "start_time": "2023-05-23T19:04:04.087Z"
      },
      {
        "duration": 32,
        "start_time": "2023-05-23T19:04:04.400Z"
      },
      {
        "duration": 2,
        "start_time": "2023-05-23T19:04:04.434Z"
      },
      {
        "duration": 31,
        "start_time": "2023-05-23T19:04:04.437Z"
      },
      {
        "duration": 4159,
        "start_time": "2023-05-23T19:04:04.470Z"
      },
      {
        "duration": 641,
        "start_time": "2023-05-23T19:04:08.633Z"
      },
      {
        "duration": 75,
        "start_time": "2023-05-23T19:04:09.275Z"
      },
      {
        "duration": 2,
        "start_time": "2023-05-23T19:04:09.352Z"
      },
      {
        "duration": 22,
        "start_time": "2023-05-23T19:04:09.356Z"
      },
      {
        "duration": 103,
        "start_time": "2023-05-23T19:04:09.380Z"
      },
      {
        "duration": 3,
        "start_time": "2023-05-23T19:04:09.484Z"
      },
      {
        "duration": 51313,
        "start_time": "2023-05-23T19:04:09.488Z"
      },
      {
        "duration": 14975,
        "start_time": "2023-05-23T19:05:00.803Z"
      },
      {
        "duration": 30,
        "start_time": "2023-05-23T19:05:15.779Z"
      },
      {
        "duration": 15849,
        "start_time": "2023-05-23T19:05:15.811Z"
      },
      {
        "duration": 33,
        "start_time": "2023-05-23T19:05:31.662Z"
      },
      {
        "duration": 127,
        "start_time": "2023-05-23T19:05:31.697Z"
      },
      {
        "duration": 58,
        "start_time": "2023-05-23T19:05:31.826Z"
      },
      {
        "duration": 68,
        "start_time": "2023-05-23T19:05:31.886Z"
      },
      {
        "duration": 3,
        "start_time": "2023-05-23T19:05:31.956Z"
      },
      {
        "duration": 30072,
        "start_time": "2023-05-23T19:05:31.961Z"
      },
      {
        "duration": 282,
        "start_time": "2023-05-23T19:06:02.035Z"
      },
      {
        "duration": 89,
        "start_time": "2023-05-23T19:06:02.320Z"
      },
      {
        "duration": 12,
        "start_time": "2023-05-23T19:06:02.412Z"
      },
      {
        "duration": 25,
        "start_time": "2023-05-23T19:06:02.426Z"
      },
      {
        "duration": 1348,
        "start_time": "2023-05-23T19:06:02.453Z"
      },
      {
        "duration": 82453,
        "start_time": "2023-05-23T19:06:03.804Z"
      },
      {
        "duration": 365,
        "start_time": "2023-05-23T19:07:26.259Z"
      },
      {
        "duration": 4,
        "start_time": "2023-05-23T19:07:26.626Z"
      },
      {
        "duration": 4,
        "start_time": "2023-05-23T19:07:26.632Z"
      },
      {
        "duration": 16278,
        "start_time": "2023-05-23T19:07:26.638Z"
      },
      {
        "duration": 599,
        "start_time": "2023-05-23T19:07:42.918Z"
      },
      {
        "duration": 5,
        "start_time": "2023-05-23T19:07:43.519Z"
      },
      {
        "duration": 22,
        "start_time": "2023-05-23T19:07:43.525Z"
      },
      {
        "duration": 19,
        "start_time": "2023-05-23T19:07:43.549Z"
      },
      {
        "duration": 6148,
        "start_time": "2023-05-23T19:07:43.569Z"
      },
      {
        "duration": 271,
        "start_time": "2023-05-23T19:07:49.720Z"
      },
      {
        "duration": 5,
        "start_time": "2023-05-23T19:07:49.993Z"
      },
      {
        "duration": 7,
        "start_time": "2023-05-23T19:07:50.005Z"
      },
      {
        "duration": 42,
        "start_time": "2023-05-23T19:07:50.014Z"
      },
      {
        "duration": 19,
        "start_time": "2023-05-23T19:07:50.058Z"
      },
      {
        "duration": 266,
        "start_time": "2023-05-23T19:07:50.079Z"
      },
      {
        "duration": 4,
        "start_time": "2023-05-23T19:07:50.346Z"
      }
    ],
    "kernelspec": {
      "display_name": "Python 3 (ipykernel)",
      "language": "python",
      "name": "python3"
    },
    "language_info": {
      "codemirror_mode": {
        "name": "ipython",
        "version": 3
      },
      "file_extension": ".py",
      "mimetype": "text/x-python",
      "name": "python",
      "nbconvert_exporter": "python",
      "pygments_lexer": "ipython3",
      "version": "3.9.5"
    },
    "toc": {
      "base_numbering": 1,
      "nav_menu": {},
      "number_sections": true,
      "sideBar": true,
      "skip_h1_title": true,
      "title_cell": "Table of Contents",
      "title_sidebar": "Contents",
      "toc_cell": false,
      "toc_position": {},
      "toc_section_display": true,
      "toc_window_display": false
    },
    "colab": {
      "provenance": []
    }
  },
  "nbformat": 4,
  "nbformat_minor": 0
}